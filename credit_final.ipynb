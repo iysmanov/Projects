{
 "cells": [
  {
   "cell_type": "code",
   "execution_count": 1,
   "id": "a2wtKiGlbRLd",
   "metadata": {
    "colab": {
     "base_uri": "https://localhost:8080/"
    },
    "id": "a2wtKiGlbRLd",
    "outputId": "8db1f179-27a0-4b6d-ca3b-017b19a98ffc"
   },
   "outputs": [
    {
     "name": "stdout",
     "output_type": "stream",
     "text": [
      "Работаете в другой среде\n"
     ]
    }
   ],
   "source": [
    "try:\n",
    "    from google.colab import drive\n",
    "    drive.mount('/content/gdrive')\n",
    "except:\n",
    "    print('Работаете в другой среде')"
   ]
  },
  {
   "cell_type": "code",
   "execution_count": 2,
   "id": "e28774d9",
   "metadata": {
    "colab": {
     "base_uri": "https://localhost:8080/"
    },
    "id": "e28774d9",
    "outputId": "1343ee40-b95a-44e9-f3d8-9e816c3ac0aa"
   },
   "outputs": [
    {
     "name": "stderr",
     "output_type": "stream",
     "text": [
      "/var/folders/lz/wsqs45rs6qq8p9wm901mkyyc0000gn/T/ipykernel_13028/1232119039.py:14: TqdmExperimentalWarning: Using `tqdm.autonotebook.tqdm` in notebook mode. Use `tqdm.tqdm` instead to force console mode (e.g. in jupyter console)\n",
      "  from tqdm.autonotebook import tqdm\n"
     ]
    }
   ],
   "source": [
    "import pandas as pd\n",
    "import numpy as np\n",
    "import matplotlib as mpl\n",
    "import matplotlib.pyplot as plt\n",
    "import seaborn as sns\n",
    "\n",
    "!pip install catboost\n",
    "from sklearn.model_selection import train_test_split, cross_val_score, GridSearchCV\n",
    "from sklearn.linear_model import LogisticRegression\n",
    "from sklearn.ensemble import RandomForestClassifier\n",
    "from sklearn.naive_bayes import GaussianNB\n",
    "from catboost import CatBoostClassifier, Pool, cv\n",
    "from sklearn.metrics import roc_auc_score, accuracy_score, precision_score, recall_score, f1_score\n",
    "from tqdm.autonotebook import tqdm\n",
    "from sklearn.preprocessing import LabelEncoder, OneHotEncoder, OrdinalEncoder, StandardScaler\n",
    "from sklearn.compose import ColumnTransformer\n",
    "from sklearn.pipeline import Pipeline\n",
    "from sklearn.neighbors import KNeighborsClassifier"
   ]
  },
  {
   "cell_type": "code",
   "execution_count": 3,
   "id": "02469189",
   "metadata": {
    "colab": {
     "base_uri": "https://localhost:8080/"
    },
    "id": "02469189",
    "outputId": "4d63ae72-bf0c-4766-f522-3aa8de8ad58e"
   },
   "outputs": [
    {
     "name": "stderr",
     "output_type": "stream",
     "text": [
      "/var/folders/lz/wsqs45rs6qq8p9wm901mkyyc0000gn/T/ipykernel_13028/1795298819.py:4: DtypeWarning: Columns (19,55) have mixed types. Specify dtype option on import or set low_memory=False.\n",
      "  df = pd.read_csv('/Users/nataliia/Desktop/archive/loan/loan.csv')\n"
     ]
    }
   ],
   "source": [
    "try:\n",
    "    df = pd.read_csv('/content/gdrive/MyDrive/loan.csv')\n",
    "except:\n",
    "    df = pd.read_csv('/Users/nataliia/Desktop/archive/loan/loan.csv')"
   ]
  },
  {
   "cell_type": "code",
   "execution_count": 4,
   "id": "becf7441",
   "metadata": {
    "colab": {
     "base_uri": "https://localhost:8080/",
     "height": 342
    },
    "id": "becf7441",
    "outputId": "ab8b54cd-cf24-4a83-e9c9-08bc5a202c79",
    "scrolled": true
   },
   "outputs": [
    {
     "data": {
      "text/html": [
       "<div>\n",
       "<style scoped>\n",
       "    .dataframe tbody tr th:only-of-type {\n",
       "        vertical-align: middle;\n",
       "    }\n",
       "\n",
       "    .dataframe tbody tr th {\n",
       "        vertical-align: top;\n",
       "    }\n",
       "\n",
       "    .dataframe thead th {\n",
       "        text-align: right;\n",
       "    }\n",
       "</style>\n",
       "<table border=\"1\" class=\"dataframe\">\n",
       "  <thead>\n",
       "    <tr style=\"text-align: right;\">\n",
       "      <th></th>\n",
       "      <th>id</th>\n",
       "      <th>member_id</th>\n",
       "      <th>loan_amnt</th>\n",
       "      <th>funded_amnt</th>\n",
       "      <th>funded_amnt_inv</th>\n",
       "      <th>term</th>\n",
       "      <th>int_rate</th>\n",
       "      <th>installment</th>\n",
       "      <th>grade</th>\n",
       "      <th>sub_grade</th>\n",
       "      <th>...</th>\n",
       "      <th>total_bal_il</th>\n",
       "      <th>il_util</th>\n",
       "      <th>open_rv_12m</th>\n",
       "      <th>open_rv_24m</th>\n",
       "      <th>max_bal_bc</th>\n",
       "      <th>all_util</th>\n",
       "      <th>total_rev_hi_lim</th>\n",
       "      <th>inq_fi</th>\n",
       "      <th>total_cu_tl</th>\n",
       "      <th>inq_last_12m</th>\n",
       "    </tr>\n",
       "  </thead>\n",
       "  <tbody>\n",
       "    <tr>\n",
       "      <th>0</th>\n",
       "      <td>1077501</td>\n",
       "      <td>1296599</td>\n",
       "      <td>5000.0</td>\n",
       "      <td>5000.0</td>\n",
       "      <td>4975.0</td>\n",
       "      <td>36 months</td>\n",
       "      <td>10.65</td>\n",
       "      <td>162.87</td>\n",
       "      <td>B</td>\n",
       "      <td>B2</td>\n",
       "      <td>...</td>\n",
       "      <td>NaN</td>\n",
       "      <td>NaN</td>\n",
       "      <td>NaN</td>\n",
       "      <td>NaN</td>\n",
       "      <td>NaN</td>\n",
       "      <td>NaN</td>\n",
       "      <td>NaN</td>\n",
       "      <td>NaN</td>\n",
       "      <td>NaN</td>\n",
       "      <td>NaN</td>\n",
       "    </tr>\n",
       "    <tr>\n",
       "      <th>1</th>\n",
       "      <td>1077430</td>\n",
       "      <td>1314167</td>\n",
       "      <td>2500.0</td>\n",
       "      <td>2500.0</td>\n",
       "      <td>2500.0</td>\n",
       "      <td>60 months</td>\n",
       "      <td>15.27</td>\n",
       "      <td>59.83</td>\n",
       "      <td>C</td>\n",
       "      <td>C4</td>\n",
       "      <td>...</td>\n",
       "      <td>NaN</td>\n",
       "      <td>NaN</td>\n",
       "      <td>NaN</td>\n",
       "      <td>NaN</td>\n",
       "      <td>NaN</td>\n",
       "      <td>NaN</td>\n",
       "      <td>NaN</td>\n",
       "      <td>NaN</td>\n",
       "      <td>NaN</td>\n",
       "      <td>NaN</td>\n",
       "    </tr>\n",
       "    <tr>\n",
       "      <th>2</th>\n",
       "      <td>1077175</td>\n",
       "      <td>1313524</td>\n",
       "      <td>2400.0</td>\n",
       "      <td>2400.0</td>\n",
       "      <td>2400.0</td>\n",
       "      <td>36 months</td>\n",
       "      <td>15.96</td>\n",
       "      <td>84.33</td>\n",
       "      <td>C</td>\n",
       "      <td>C5</td>\n",
       "      <td>...</td>\n",
       "      <td>NaN</td>\n",
       "      <td>NaN</td>\n",
       "      <td>NaN</td>\n",
       "      <td>NaN</td>\n",
       "      <td>NaN</td>\n",
       "      <td>NaN</td>\n",
       "      <td>NaN</td>\n",
       "      <td>NaN</td>\n",
       "      <td>NaN</td>\n",
       "      <td>NaN</td>\n",
       "    </tr>\n",
       "    <tr>\n",
       "      <th>3</th>\n",
       "      <td>1076863</td>\n",
       "      <td>1277178</td>\n",
       "      <td>10000.0</td>\n",
       "      <td>10000.0</td>\n",
       "      <td>10000.0</td>\n",
       "      <td>36 months</td>\n",
       "      <td>13.49</td>\n",
       "      <td>339.31</td>\n",
       "      <td>C</td>\n",
       "      <td>C1</td>\n",
       "      <td>...</td>\n",
       "      <td>NaN</td>\n",
       "      <td>NaN</td>\n",
       "      <td>NaN</td>\n",
       "      <td>NaN</td>\n",
       "      <td>NaN</td>\n",
       "      <td>NaN</td>\n",
       "      <td>NaN</td>\n",
       "      <td>NaN</td>\n",
       "      <td>NaN</td>\n",
       "      <td>NaN</td>\n",
       "    </tr>\n",
       "    <tr>\n",
       "      <th>4</th>\n",
       "      <td>1075358</td>\n",
       "      <td>1311748</td>\n",
       "      <td>3000.0</td>\n",
       "      <td>3000.0</td>\n",
       "      <td>3000.0</td>\n",
       "      <td>60 months</td>\n",
       "      <td>12.69</td>\n",
       "      <td>67.79</td>\n",
       "      <td>B</td>\n",
       "      <td>B5</td>\n",
       "      <td>...</td>\n",
       "      <td>NaN</td>\n",
       "      <td>NaN</td>\n",
       "      <td>NaN</td>\n",
       "      <td>NaN</td>\n",
       "      <td>NaN</td>\n",
       "      <td>NaN</td>\n",
       "      <td>NaN</td>\n",
       "      <td>NaN</td>\n",
       "      <td>NaN</td>\n",
       "      <td>NaN</td>\n",
       "    </tr>\n",
       "  </tbody>\n",
       "</table>\n",
       "<p>5 rows × 74 columns</p>\n",
       "</div>"
      ],
      "text/plain": [
       "        id  member_id  loan_amnt  funded_amnt  funded_amnt_inv        term  \\\n",
       "0  1077501    1296599     5000.0       5000.0           4975.0   36 months   \n",
       "1  1077430    1314167     2500.0       2500.0           2500.0   60 months   \n",
       "2  1077175    1313524     2400.0       2400.0           2400.0   36 months   \n",
       "3  1076863    1277178    10000.0      10000.0          10000.0   36 months   \n",
       "4  1075358    1311748     3000.0       3000.0           3000.0   60 months   \n",
       "\n",
       "   int_rate  installment grade sub_grade  ... total_bal_il il_util  \\\n",
       "0     10.65       162.87     B        B2  ...          NaN     NaN   \n",
       "1     15.27        59.83     C        C4  ...          NaN     NaN   \n",
       "2     15.96        84.33     C        C5  ...          NaN     NaN   \n",
       "3     13.49       339.31     C        C1  ...          NaN     NaN   \n",
       "4     12.69        67.79     B        B5  ...          NaN     NaN   \n",
       "\n",
       "  open_rv_12m  open_rv_24m max_bal_bc all_util total_rev_hi_lim inq_fi  \\\n",
       "0         NaN          NaN        NaN      NaN              NaN    NaN   \n",
       "1         NaN          NaN        NaN      NaN              NaN    NaN   \n",
       "2         NaN          NaN        NaN      NaN              NaN    NaN   \n",
       "3         NaN          NaN        NaN      NaN              NaN    NaN   \n",
       "4         NaN          NaN        NaN      NaN              NaN    NaN   \n",
       "\n",
       "  total_cu_tl inq_last_12m  \n",
       "0         NaN          NaN  \n",
       "1         NaN          NaN  \n",
       "2         NaN          NaN  \n",
       "3         NaN          NaN  \n",
       "4         NaN          NaN  \n",
       "\n",
       "[5 rows x 74 columns]"
      ]
     },
     "execution_count": 4,
     "metadata": {},
     "output_type": "execute_result"
    }
   ],
   "source": [
    "df.head()"
   ]
  },
  {
   "cell_type": "code",
   "execution_count": 5,
   "id": "6T5mNPL9lf0_",
   "metadata": {
    "colab": {
     "base_uri": "https://localhost:8080/"
    },
    "id": "6T5mNPL9lf0_",
    "outputId": "4f4b48b9-979c-461f-9b08-e1f88789ada4"
   },
   "outputs": [
    {
     "name": "stdout",
     "output_type": "stream",
     "text": [
      "<class 'pandas.core.frame.DataFrame'>\n",
      "RangeIndex: 887379 entries, 0 to 887378\n",
      "Data columns (total 74 columns):\n",
      " #   Column                       Non-Null Count   Dtype  \n",
      "---  ------                       --------------   -----  \n",
      " 0   id                           887379 non-null  int64  \n",
      " 1   member_id                    887379 non-null  int64  \n",
      " 2   loan_amnt                    887379 non-null  float64\n",
      " 3   funded_amnt                  887379 non-null  float64\n",
      " 4   funded_amnt_inv              887379 non-null  float64\n",
      " 5   term                         887379 non-null  object \n",
      " 6   int_rate                     887379 non-null  float64\n",
      " 7   installment                  887379 non-null  float64\n",
      " 8   grade                        887379 non-null  object \n",
      " 9   sub_grade                    887379 non-null  object \n",
      " 10  emp_title                    835917 non-null  object \n",
      " 11  emp_length                   842554 non-null  object \n",
      " 12  home_ownership               887379 non-null  object \n",
      " 13  annual_inc                   887375 non-null  float64\n",
      " 14  verification_status          887379 non-null  object \n",
      " 15  issue_d                      887379 non-null  object \n",
      " 16  loan_status                  887379 non-null  object \n",
      " 17  pymnt_plan                   887379 non-null  object \n",
      " 18  url                          887379 non-null  object \n",
      " 19  desc                         126028 non-null  object \n",
      " 20  purpose                      887379 non-null  object \n",
      " 21  title                        887227 non-null  object \n",
      " 22  zip_code                     887379 non-null  object \n",
      " 23  addr_state                   887379 non-null  object \n",
      " 24  dti                          887379 non-null  float64\n",
      " 25  delinq_2yrs                  887350 non-null  float64\n",
      " 26  earliest_cr_line             887350 non-null  object \n",
      " 27  inq_last_6mths               887350 non-null  float64\n",
      " 28  mths_since_last_delinq       433067 non-null  float64\n",
      " 29  mths_since_last_record       137053 non-null  float64\n",
      " 30  open_acc                     887350 non-null  float64\n",
      " 31  pub_rec                      887350 non-null  float64\n",
      " 32  revol_bal                    887379 non-null  float64\n",
      " 33  revol_util                   886877 non-null  float64\n",
      " 34  total_acc                    887350 non-null  float64\n",
      " 35  initial_list_status          887379 non-null  object \n",
      " 36  out_prncp                    887379 non-null  float64\n",
      " 37  out_prncp_inv                887379 non-null  float64\n",
      " 38  total_pymnt                  887379 non-null  float64\n",
      " 39  total_pymnt_inv              887379 non-null  float64\n",
      " 40  total_rec_prncp              887379 non-null  float64\n",
      " 41  total_rec_int                887379 non-null  float64\n",
      " 42  total_rec_late_fee           887379 non-null  float64\n",
      " 43  recoveries                   887379 non-null  float64\n",
      " 44  collection_recovery_fee      887379 non-null  float64\n",
      " 45  last_pymnt_d                 869720 non-null  object \n",
      " 46  last_pymnt_amnt              887379 non-null  float64\n",
      " 47  next_pymnt_d                 634408 non-null  object \n",
      " 48  last_credit_pull_d           887326 non-null  object \n",
      " 49  collections_12_mths_ex_med   887234 non-null  float64\n",
      " 50  mths_since_last_major_derog  221703 non-null  float64\n",
      " 51  policy_code                  887379 non-null  float64\n",
      " 52  application_type             887379 non-null  object \n",
      " 53  annual_inc_joint             511 non-null     float64\n",
      " 54  dti_joint                    509 non-null     float64\n",
      " 55  verification_status_joint    511 non-null     object \n",
      " 56  acc_now_delinq               887350 non-null  float64\n",
      " 57  tot_coll_amt                 817103 non-null  float64\n",
      " 58  tot_cur_bal                  817103 non-null  float64\n",
      " 59  open_acc_6m                  21372 non-null   float64\n",
      " 60  open_il_6m                   21372 non-null   float64\n",
      " 61  open_il_12m                  21372 non-null   float64\n",
      " 62  open_il_24m                  21372 non-null   float64\n",
      " 63  mths_since_rcnt_il           20810 non-null   float64\n",
      " 64  total_bal_il                 21372 non-null   float64\n",
      " 65  il_util                      18617 non-null   float64\n",
      " 66  open_rv_12m                  21372 non-null   float64\n",
      " 67  open_rv_24m                  21372 non-null   float64\n",
      " 68  max_bal_bc                   21372 non-null   float64\n",
      " 69  all_util                     21372 non-null   float64\n",
      " 70  total_rev_hi_lim             817103 non-null  float64\n",
      " 71  inq_fi                       21372 non-null   float64\n",
      " 72  total_cu_tl                  21372 non-null   float64\n",
      " 73  inq_last_12m                 21372 non-null   float64\n",
      "dtypes: float64(49), int64(2), object(23)\n",
      "memory usage: 501.0+ MB\n"
     ]
    }
   ],
   "source": [
    "df.info()"
   ]
  },
  {
   "cell_type": "markdown",
   "id": "4ac0367e",
   "metadata": {
    "id": "4ac0367e"
   },
   "source": [
    "- loan_grade - Кредитный рейтинг, присвоенный LC\n",
    "- installment - частичный взнос\n",
    "- emp_title - профессия\n",
    "- emp_length - Employment length in years. Possible values are between 0 and 10 where 0 means less than one year and 10 means ten or more years.\n",
    "- annual_inc - годовой доход\n",
    "- verification_status - Indicates if the co-borrowers' joint income was verified by LC, not verified, or if the income source was verified\n",
    "- issue_d - дата заема - **подумать**\n",
    "- loan_status - **target** (надо определиться, что считаем за риск)\n",
    "- pymnt_plan - Указывает, был ли введен в действие план платежей по кредиту\n",
    "- url -  **удаляем**\n",
    "- **desc** - можно заполнить 1 - есть описание, 0 - нет\n",
    "- purpose - цель\n",
    "- title - можно выделить много всего интересного (например по слову job можно найти предположительно тех, у кого проблемы с работой)\n",
    "- zip_code - **удаляем**\n",
    "- addr_state - **удаляем**\n",
    "- dti - предельная долговая нагрузка. Соотношение, рассчитанное с использованием общих ежемесячных платежей заемщика по долгу к общей сумме долговых обязательств, за исключением ипотеки и запрашиваемого кредита LC, деленное на ежемесячный доход заемщика, о котором он сам сообщил.\n",
    "- delinq_2yrs - Количество просроченных платежей более чем на 30 дней в кредитном досье заемщика за последние 2 года\n",
    "- earliest_cr_line - Месяц, в котором была открыта самая ранняя заявленная заемщиком кредитная линия - **заменить на 1, 2 и тд**\n",
    "- inq_last_6mths - Количество запросов за последние 6 месяцев (без учета запросов на авто и ипотеку)\n",
    "- mths_since_last_delinq - Количество месяцев, прошедших с момента последней просрочки заемщиком.\n",
    "- mths_since_last_record - **удаляем** непонятная вещь\n",
    "- open_acc - Количество открытых кредитных линий в кредитном досье заемщика\n",
    "- pub_rec - Количество уничижительных публичных записей **?**\n",
    "- revol_bal - Общий возобновляемый остаток по кредиту\n",
    "- revol_util - Коэффициент использования возобновляемой линии, или сумма кредита, которую использует заемщик, по отношению ко всем доступным возобновляемым кредитам.\n",
    "- total_acc - Общее количество кредитных линий, имеющихся в настоящее время в кредитном досье заемщика\n",
    "- initial_list_status - Первоначальный статус перечисления займа. Возможные значения – W, F\n",
    "- out_prncp - Оставшийся непогашенным основной долг на общую сумму финансирования\n",
    "- out_prncp_inv- Оставшийся непогашенным основной долг за часть общей суммы, профинансированной инвесторами\n",
    "- total_pymnt - Платежи, полученные на сегодняшний день на общую сумму финансирования\n",
    "- total_pymnt_inv - Платежи, полученные на сегодняшний день за часть общей суммы, профинансированной инвесторами\n",
    "- recoveries - списание после списания валового возмещения\n",
    "- collection_recovery_fee - списание платы за инкассацию после оплаты\n",
    "- last_credit_pull_d - В последнем месяце LC отозвала кредит по этому кредиту\n",
    "- collections_12_mths_ex_med - Количество сборов за 12 месяцев без учета медицинских сборов\n",
    "- mths_since_last_major_derog - Месяцев с момента последнего 90-дневного рейтинга или хуже\n",
    "- policy_code - публичгый продукт(1), новый продукт или индивидуальное предложение (2)\n",
    "- application_type - Указывает, является ли заявка на получение кредита индивидуальной или совместной с двумя созаемщиками\n",
    "- annual_inc_joint - Совокупный годовой доход, о котором сообщали сами созаемщики при регистрации\n",
    "- dti_joint - предельная долговая нагрузка созаёмщиков\n",
    "- verification_status_joint - Indicates if the co-borrowers' joint income was verified by LC, not verified, or if the income source was verified\n",
    "- acc_now_delinq - Количество счетов, по которым заемщик в настоящее время имеет просрочку платежа.\n",
    "- tot_coll_amt - Общая сумма взыскания, когда-либо причитавшаяся\n",
    "- tot_cur_bal - Общий текущий баланс всех счетов\n",
    "- группа \"open il\" - показывает наличие открытых рассрочек на рахных промежутках времени от сегодняшнего дня\n",
    "- il_util - Отношение общего текущего баланса к высокому кредиту/кредитному лимиту по всем платежам в соответствии\n",
    "- open_rv_12m - Количество возобновляемых сделок, открытых за последние 12 месяцев"
   ]
  },
  {
   "cell_type": "code",
   "execution_count": 6,
   "id": "111fce06",
   "metadata": {
    "colab": {
     "base_uri": "https://localhost:8080/"
    },
    "id": "111fce06",
    "outputId": "627f958a-39c8-4b3c-d724-271efed6eac6"
   },
   "outputs": [
    {
     "data": {
      "text/plain": [
       "0    1.0\n",
       "1    1.0\n",
       "2    1.0\n",
       "3    1.0\n",
       "4    1.0\n",
       "Name: policy_code, dtype: float64"
      ]
     },
     "execution_count": 6,
     "metadata": {},
     "output_type": "execute_result"
    }
   ],
   "source": [
    "df.policy_code.head()"
   ]
  },
  {
   "cell_type": "code",
   "execution_count": 7,
   "id": "f0e0a37d",
   "metadata": {
    "colab": {
     "base_uri": "https://localhost:8080/"
    },
    "id": "f0e0a37d",
    "outputId": "75e7e309-63f6-4ad2-9e8b-406e91f216b5"
   },
   "outputs": [
    {
     "data": {
      "text/plain": [
       "(0, 74)"
      ]
     },
     "execution_count": 7,
     "metadata": {},
     "output_type": "execute_result"
    }
   ],
   "source": [
    "df[df.id.duplicated()].shape"
   ]
  },
  {
   "cell_type": "code",
   "execution_count": 8,
   "id": "1a5417a3",
   "metadata": {
    "colab": {
     "base_uri": "https://localhost:8080/"
    },
    "id": "1a5417a3",
    "outputId": "e8a9cdaa-843b-4d50-d494-19103fa6409f",
    "scrolled": true
   },
   "outputs": [
    {
     "data": {
      "text/plain": [
       "(0, 74)"
      ]
     },
     "execution_count": 8,
     "metadata": {},
     "output_type": "execute_result"
    }
   ],
   "source": [
    "df[df.member_id.duplicated()].shape"
   ]
  },
  {
   "cell_type": "code",
   "execution_count": 9,
   "id": "a76f42a7",
   "metadata": {
    "id": "a76f42a7"
   },
   "outputs": [],
   "source": [
    "#df.drop(['id','member_id', 'emp_title', 'url', 'zip_code', 'title', 'desc', 'last_pymnt_d', 'issue_d',\n",
    "         #'next_pymnt_d', 'last_credit_pull_d', 'mths_since_last_major_derog', 'addr_state', 'earliest_cr_line',\n",
    "          #'initial_list_status', 'mths_since_last_record'], axis=True, inplace=True)"
   ]
  },
  {
   "cell_type": "code",
   "execution_count": 10,
   "id": "86050720",
   "metadata": {},
   "outputs": [],
   "source": [
    "df['annual_inc_joint'] = df['annual_inc_joint'].fillna(df['annual_inc'])\n",
    "\n",
    "def joint(row):\n",
    "    if row == 'INDIVIDUAL':\n",
    "        return 0\n",
    "    else:\n",
    "        return 1\n",
    "\n",
    "df['joint'] = df['application_type'].apply(joint)\n",
    "\n",
    "def plan(row):\n",
    "    if row == 'n':\n",
    "        return 0\n",
    "    else:\n",
    "        return 1\n",
    "\n",
    "df['plan'] = df['pymnt_plan'].apply(plan)"
   ]
  },
  {
   "cell_type": "code",
   "execution_count": 11,
   "id": "bdd8b182",
   "metadata": {
    "scrolled": true
   },
   "outputs": [
    {
     "name": "stderr",
     "output_type": "stream",
     "text": [
      "/var/folders/lz/wsqs45rs6qq8p9wm901mkyyc0000gn/T/ipykernel_13028/867681543.py:1: FutureWarning: In a future version of pandas all arguments of DataFrame.drop except for the argument 'labels' will be keyword-only.\n",
      "  df.drop(df.columns.difference(['loan_amnt','plan', 'joint', 'term','int_rate','installment','sub_grade','emp_length','home_ownership',\n"
     ]
    }
   ],
   "source": [
    "df.drop(df.columns.difference(['loan_amnt','plan', 'joint', 'term','int_rate','installment','sub_grade','emp_length','home_ownership',\n",
    "                                         'annual_inc_joint','verification_status','loan_status','purpose',]), 1, inplace=True)"
   ]
  },
  {
   "cell_type": "code",
   "execution_count": 12,
   "id": "2077ba7e",
   "metadata": {},
   "outputs": [
    {
     "name": "stdout",
     "output_type": "stream",
     "text": [
      "<class 'pandas.core.frame.DataFrame'>\n",
      "RangeIndex: 887379 entries, 0 to 887378\n",
      "Data columns (total 13 columns):\n",
      " #   Column               Non-Null Count   Dtype  \n",
      "---  ------               --------------   -----  \n",
      " 0   loan_amnt            887379 non-null  float64\n",
      " 1   term                 887379 non-null  object \n",
      " 2   int_rate             887379 non-null  float64\n",
      " 3   installment          887379 non-null  float64\n",
      " 4   sub_grade            887379 non-null  object \n",
      " 5   emp_length           842554 non-null  object \n",
      " 6   home_ownership       887379 non-null  object \n",
      " 7   verification_status  887379 non-null  object \n",
      " 8   loan_status          887379 non-null  object \n",
      " 9   purpose              887379 non-null  object \n",
      " 10  annual_inc_joint     887375 non-null  float64\n",
      " 11  joint                887379 non-null  int64  \n",
      " 12  plan                 887379 non-null  int64  \n",
      "dtypes: float64(4), int64(2), object(7)\n",
      "memory usage: 88.0+ MB\n"
     ]
    }
   ],
   "source": [
    "df.info()"
   ]
  },
  {
   "cell_type": "code",
   "execution_count": 13,
   "id": "0bf616fe",
   "metadata": {},
   "outputs": [
    {
     "data": {
      "text/plain": [
       "loan_amnt                  0\n",
       "term                       0\n",
       "int_rate                   0\n",
       "installment                0\n",
       "sub_grade                  0\n",
       "emp_length             44825\n",
       "home_ownership             0\n",
       "verification_status        0\n",
       "loan_status                0\n",
       "purpose                    0\n",
       "annual_inc_joint           4\n",
       "joint                      0\n",
       "plan                       0\n",
       "dtype: int64"
      ]
     },
     "execution_count": 13,
     "metadata": {},
     "output_type": "execute_result"
    }
   ],
   "source": [
    "df.isna().sum()"
   ]
  },
  {
   "cell_type": "markdown",
   "id": "8395b8fb",
   "metadata": {
    "id": "8395b8fb"
   },
   "source": [
    "Займемся сначала пропусками, потом уже значениям в столбца и тд."
   ]
  },
  {
   "cell_type": "code",
   "execution_count": 14,
   "id": "f22400a2",
   "metadata": {
    "colab": {
     "base_uri": "https://localhost:8080/",
     "height": 1000
    },
    "id": "f22400a2",
    "outputId": "a41b2389-88e5-4cb8-8a5e-2d9955fa67b3",
    "scrolled": false
   },
   "outputs": [
    {
     "data": {
      "text/html": [
       "<style type=\"text/css\">\n",
       "#T_80579_row0_col0, #T_80579_row1_col0, #T_80579_row2_col0, #T_80579_row3_col0, #T_80579_row4_col0, #T_80579_row6_col0, #T_80579_row7_col0, #T_80579_row8_col0, #T_80579_row9_col0, #T_80579_row10_col0, #T_80579_row11_col0, #T_80579_row12_col0 {\n",
       "  background-color: #3b4cc0;\n",
       "  color: #f1f1f1;\n",
       "}\n",
       "#T_80579_row5_col0 {\n",
       "  background-color: #b40426;\n",
       "  color: #f1f1f1;\n",
       "}\n",
       "</style>\n",
       "<table id=\"T_80579\">\n",
       "  <thead>\n",
       "    <tr>\n",
       "      <th class=\"blank level0\" >&nbsp;</th>\n",
       "      <th id=\"T_80579_level0_col0\" class=\"col_heading level0 col0\" >0</th>\n",
       "    </tr>\n",
       "  </thead>\n",
       "  <tbody>\n",
       "    <tr>\n",
       "      <th id=\"T_80579_level0_row0\" class=\"row_heading level0 row0\" >loan_amnt</th>\n",
       "      <td id=\"T_80579_row0_col0\" class=\"data row0 col0\" >0.000000</td>\n",
       "    </tr>\n",
       "    <tr>\n",
       "      <th id=\"T_80579_level0_row1\" class=\"row_heading level0 row1\" >term</th>\n",
       "      <td id=\"T_80579_row1_col0\" class=\"data row1 col0\" >0.000000</td>\n",
       "    </tr>\n",
       "    <tr>\n",
       "      <th id=\"T_80579_level0_row2\" class=\"row_heading level0 row2\" >int_rate</th>\n",
       "      <td id=\"T_80579_row2_col0\" class=\"data row2 col0\" >0.000000</td>\n",
       "    </tr>\n",
       "    <tr>\n",
       "      <th id=\"T_80579_level0_row3\" class=\"row_heading level0 row3\" >installment</th>\n",
       "      <td id=\"T_80579_row3_col0\" class=\"data row3 col0\" >0.000000</td>\n",
       "    </tr>\n",
       "    <tr>\n",
       "      <th id=\"T_80579_level0_row4\" class=\"row_heading level0 row4\" >sub_grade</th>\n",
       "      <td id=\"T_80579_row4_col0\" class=\"data row4 col0\" >0.000000</td>\n",
       "    </tr>\n",
       "    <tr>\n",
       "      <th id=\"T_80579_level0_row5\" class=\"row_heading level0 row5\" >emp_length</th>\n",
       "      <td id=\"T_80579_row5_col0\" class=\"data row5 col0\" >5.000000</td>\n",
       "    </tr>\n",
       "    <tr>\n",
       "      <th id=\"T_80579_level0_row6\" class=\"row_heading level0 row6\" >home_ownership</th>\n",
       "      <td id=\"T_80579_row6_col0\" class=\"data row6 col0\" >0.000000</td>\n",
       "    </tr>\n",
       "    <tr>\n",
       "      <th id=\"T_80579_level0_row7\" class=\"row_heading level0 row7\" >verification_status</th>\n",
       "      <td id=\"T_80579_row7_col0\" class=\"data row7 col0\" >0.000000</td>\n",
       "    </tr>\n",
       "    <tr>\n",
       "      <th id=\"T_80579_level0_row8\" class=\"row_heading level0 row8\" >loan_status</th>\n",
       "      <td id=\"T_80579_row8_col0\" class=\"data row8 col0\" >0.000000</td>\n",
       "    </tr>\n",
       "    <tr>\n",
       "      <th id=\"T_80579_level0_row9\" class=\"row_heading level0 row9\" >purpose</th>\n",
       "      <td id=\"T_80579_row9_col0\" class=\"data row9 col0\" >0.000000</td>\n",
       "    </tr>\n",
       "    <tr>\n",
       "      <th id=\"T_80579_level0_row10\" class=\"row_heading level0 row10\" >annual_inc_joint</th>\n",
       "      <td id=\"T_80579_row10_col0\" class=\"data row10 col0\" >0.000000</td>\n",
       "    </tr>\n",
       "    <tr>\n",
       "      <th id=\"T_80579_level0_row11\" class=\"row_heading level0 row11\" >joint</th>\n",
       "      <td id=\"T_80579_row11_col0\" class=\"data row11 col0\" >0.000000</td>\n",
       "    </tr>\n",
       "    <tr>\n",
       "      <th id=\"T_80579_level0_row12\" class=\"row_heading level0 row12\" >plan</th>\n",
       "      <td id=\"T_80579_row12_col0\" class=\"data row12 col0\" >0.000000</td>\n",
       "    </tr>\n",
       "  </tbody>\n",
       "</table>\n"
      ],
      "text/plain": [
       "<pandas.io.formats.style.Styler at 0x7f81e7a16c80>"
      ]
     },
     "execution_count": 14,
     "metadata": {},
     "output_type": "execute_result"
    }
   ],
   "source": [
    "pd.DataFrame(round(df.isna().mean()*100,)).style.background_gradient('coolwarm')"
   ]
  },
  {
   "cell_type": "markdown",
   "id": "ca84ef59",
   "metadata": {
    "id": "ca84ef59"
   },
   "source": [
    "Пойдем сверху вниз"
   ]
  },
  {
   "cell_type": "code",
   "execution_count": 15,
   "id": "11bf24ec",
   "metadata": {
    "colab": {
     "base_uri": "https://localhost:8080/"
    },
    "id": "11bf24ec",
    "outputId": "4e682d49-aa48-4712-caa7-12c76fdba645"
   },
   "outputs": [
    {
     "data": {
      "text/plain": [
       "array(['10+ years', '< 1 year', '1 year', '3 years', '8 years', '9 years',\n",
       "       '4 years', '5 years', '6 years', '2 years', '7 years', nan],\n",
       "      dtype=object)"
      ]
     },
     "execution_count": 15,
     "metadata": {},
     "output_type": "execute_result"
    }
   ],
   "source": [
    "df.emp_length.unique()# надо будет выделить числа из строк"
   ]
  },
  {
   "cell_type": "code",
   "execution_count": 16,
   "id": "3f50c822",
   "metadata": {
    "id": "3f50c822"
   },
   "outputs": [],
   "source": [
    "df.emp_length.fillna(0, inplace=True)"
   ]
  },
  {
   "cell_type": "code",
   "execution_count": 17,
   "id": "6a9ba10d",
   "metadata": {},
   "outputs": [],
   "source": [
    "df.annual_inc_joint.fillna(0, inplace=True)"
   ]
  },
  {
   "cell_type": "code",
   "execution_count": 18,
   "id": "4d842e7e",
   "metadata": {},
   "outputs": [
    {
     "name": "stdout",
     "output_type": "stream",
     "text": [
      "<class 'pandas.core.frame.DataFrame'>\n",
      "RangeIndex: 887379 entries, 0 to 887378\n",
      "Data columns (total 13 columns):\n",
      " #   Column               Non-Null Count   Dtype  \n",
      "---  ------               --------------   -----  \n",
      " 0   loan_amnt            887379 non-null  float64\n",
      " 1   term                 887379 non-null  object \n",
      " 2   int_rate             887379 non-null  float64\n",
      " 3   installment          887379 non-null  float64\n",
      " 4   sub_grade            887379 non-null  object \n",
      " 5   emp_length           887379 non-null  object \n",
      " 6   home_ownership       887379 non-null  object \n",
      " 7   verification_status  887379 non-null  object \n",
      " 8   loan_status          887379 non-null  object \n",
      " 9   purpose              887379 non-null  object \n",
      " 10  annual_inc_joint     887379 non-null  float64\n",
      " 11  joint                887379 non-null  int64  \n",
      " 12  plan                 887379 non-null  int64  \n",
      "dtypes: float64(4), int64(2), object(7)\n",
      "memory usage: 88.0+ MB\n"
     ]
    }
   ],
   "source": [
    "df.info()"
   ]
  },
  {
   "cell_type": "code",
   "execution_count": 19,
   "id": "250d082f",
   "metadata": {},
   "outputs": [],
   "source": [
    "def term(row):\n",
    "    if row == ' 36 months':\n",
    "        return 36\n",
    "    else:\n",
    "        return 60"
   ]
  },
  {
   "cell_type": "code",
   "execution_count": 20,
   "id": "070331a8",
   "metadata": {},
   "outputs": [],
   "source": [
    "df['new_term'] = df['term'].apply(term)\n",
    "df.drop('term', axis=1, inplace=True)"
   ]
  },
  {
   "cell_type": "code",
   "execution_count": 21,
   "id": "6d66c257",
   "metadata": {},
   "outputs": [],
   "source": [
    "grade_mapping = {'A1': 1, 'A2': 2, 'A3': 3, 'A4': 4, 'A5': 5,\n",
    "                 'B1': 6, 'B2': 7, 'B3': 8, 'B4': 9, 'B5': 10,\n",
    "                 'C1': 11, 'C2': 12, 'C3': 13, 'C4': 14, 'C5': 15,\n",
    "                 'D1': 16, 'D2': 17, 'D3': 18, 'D4': 19, 'D5': 20,\n",
    "                 'E1': 21, 'E2': 22, 'E3': 23, 'E4': 24, 'E5': 25,\n",
    "                 'F1': 26, 'F2': 27, 'F3': 28, 'F4': 29, 'F5': 30,\n",
    "                 'G1': 31, 'G2': 32, 'G3': 33, 'G4': 34, 'G5': 35}\n",
    "\n",
    "# Применить словарь к столбцу 'sub_grade'\n",
    "df['grade'] = df['sub_grade'].map(grade_mapping)\n",
    "df.drop('sub_grade', axis=1, inplace=True)"
   ]
  },
  {
   "cell_type": "code",
   "execution_count": 22,
   "id": "e560cddf",
   "metadata": {},
   "outputs": [],
   "source": [
    "def emplo_lenghth(row):\n",
    "    if row == '10+ years':\n",
    "        return 10\n",
    "    if row == '9 years':\n",
    "        return 9\n",
    "    if row == '8 years':\n",
    "        return 8\n",
    "    if row == '7 years':\n",
    "        return 7\n",
    "    if row == '6 years':\n",
    "        return 6\n",
    "    if row == '5 years':\n",
    "        return 5\n",
    "    if row == '4 years':\n",
    "        return 4\n",
    "    if row == '3 years':\n",
    "        return 3\n",
    "    if row == '2 years':\n",
    "        return 2\n",
    "    if row == '1 year':\n",
    "        return 1\n",
    "    if row == '< 1 year':\n",
    "        return 0\n",
    "    if row == 0:\n",
    "        return -1"
   ]
  },
  {
   "cell_type": "code",
   "execution_count": 23,
   "id": "7c75aeeb",
   "metadata": {},
   "outputs": [],
   "source": [
    "df['emplo_lenghth'] = df['emp_length'].apply(emplo_lenghth)\n",
    "df.drop('emp_length', axis=1, inplace=True)"
   ]
  },
  {
   "cell_type": "code",
   "execution_count": 24,
   "id": "c2f078ed",
   "metadata": {},
   "outputs": [],
   "source": [
    "def ver(row):\n",
    "    if row == 'Verified' or 'Source Verified':\n",
    "        return 1\n",
    "    else:\n",
    "        return 0"
   ]
  },
  {
   "cell_type": "code",
   "execution_count": 25,
   "id": "15350b41",
   "metadata": {},
   "outputs": [],
   "source": [
    "df['verification'] = df['verification_status'].apply(ver)\n",
    "df.drop('verification_status', axis=1, inplace=True)"
   ]
  },
  {
   "cell_type": "markdown",
   "id": "495dc845",
   "metadata": {},
   "source": [
    "Разберемся с целевой переменной, определим, что является риском (необходимые данные есть в loan_status)"
   ]
  },
  {
   "cell_type": "code",
   "execution_count": 26,
   "id": "3979dc33",
   "metadata": {
    "scrolled": true
   },
   "outputs": [
    {
     "data": {
      "text/plain": [
       "array(['Fully Paid', 'Charged Off', 'Current', 'Default',\n",
       "       'Late (31-120 days)', 'In Grace Period', 'Late (16-30 days)',\n",
       "       'Does not meet the credit policy. Status:Fully Paid',\n",
       "       'Does not meet the credit policy. Status:Charged Off', 'Issued'],\n",
       "      dtype=object)"
      ]
     },
     "execution_count": 26,
     "metadata": {},
     "output_type": "execute_result"
    }
   ],
   "source": [
    "df.loan_status.unique()"
   ]
  },
  {
   "cell_type": "markdown",
   "id": "59adbc92",
   "metadata": {},
   "source": [
    "Исключим статус Current и Issued (продолжающиеся, так как по ним неизвестен факт наступления риска)"
   ]
  },
  {
   "cell_type": "code",
   "execution_count": 27,
   "id": "62cd8009",
   "metadata": {},
   "outputs": [],
   "source": [
    "df = df[df.loan_status != 'Current']\n",
    "df = df[df.loan_status != 'Issued']"
   ]
  },
  {
   "cell_type": "markdown",
   "id": "9cd44d64",
   "metadata": {},
   "source": [
    "За наступление риска примем все, что не является \"полностью выплаченным\". "
   ]
  },
  {
   "cell_type": "code",
   "execution_count": 28,
   "id": "4f7ca20d",
   "metadata": {},
   "outputs": [],
   "source": [
    "def target(row):\n",
    "    if row == 'Fully Paid' or row == 'Does not meet the credit policy. Status:Fully Paid' or row == 'Current' or row == 'Issued':\n",
    "        return 0\n",
    "    else:\n",
    "        return 1"
   ]
  },
  {
   "cell_type": "code",
   "execution_count": 29,
   "id": "7b6b2364",
   "metadata": {},
   "outputs": [],
   "source": [
    "df['target'] = df['loan_status'].apply(target)\n",
    "df.drop('loan_status', axis=1, inplace=True)"
   ]
  },
  {
   "cell_type": "code",
   "execution_count": 30,
   "id": "99f5004c",
   "metadata": {},
   "outputs": [
    {
     "name": "stdout",
     "output_type": "stream",
     "text": [
      "<class 'pandas.core.frame.DataFrame'>\n",
      "Int64Index: 277140 entries, 0 to 887371\n",
      "Data columns (total 13 columns):\n",
      " #   Column            Non-Null Count   Dtype  \n",
      "---  ------            --------------   -----  \n",
      " 0   loan_amnt         277140 non-null  float64\n",
      " 1   int_rate          277140 non-null  float64\n",
      " 2   installment       277140 non-null  float64\n",
      " 3   home_ownership    277140 non-null  object \n",
      " 4   purpose           277140 non-null  object \n",
      " 5   annual_inc_joint  277140 non-null  float64\n",
      " 6   joint             277140 non-null  int64  \n",
      " 7   plan              277140 non-null  int64  \n",
      " 8   new_term          277140 non-null  int64  \n",
      " 9   grade             277140 non-null  int64  \n",
      " 10  emplo_lenghth     277140 non-null  int64  \n",
      " 11  verification      277140 non-null  int64  \n",
      " 12  target            277140 non-null  int64  \n",
      "dtypes: float64(4), int64(7), object(2)\n",
      "memory usage: 29.6+ MB\n"
     ]
    }
   ],
   "source": [
    "df.info()"
   ]
  },
  {
   "cell_type": "code",
   "execution_count": 31,
   "id": "f60ed2d4",
   "metadata": {},
   "outputs": [
    {
     "data": {
      "text/html": [
       "<div>\n",
       "<style scoped>\n",
       "    .dataframe tbody tr th:only-of-type {\n",
       "        vertical-align: middle;\n",
       "    }\n",
       "\n",
       "    .dataframe tbody tr th {\n",
       "        vertical-align: top;\n",
       "    }\n",
       "\n",
       "    .dataframe thead th {\n",
       "        text-align: right;\n",
       "    }\n",
       "</style>\n",
       "<table border=\"1\" class=\"dataframe\">\n",
       "  <thead>\n",
       "    <tr style=\"text-align: right;\">\n",
       "      <th></th>\n",
       "      <th>loan_amnt</th>\n",
       "      <th>int_rate</th>\n",
       "      <th>installment</th>\n",
       "      <th>home_ownership</th>\n",
       "      <th>purpose</th>\n",
       "      <th>annual_inc_joint</th>\n",
       "      <th>joint</th>\n",
       "      <th>plan</th>\n",
       "      <th>new_term</th>\n",
       "      <th>grade</th>\n",
       "      <th>emplo_lenghth</th>\n",
       "      <th>verification</th>\n",
       "      <th>target</th>\n",
       "    </tr>\n",
       "  </thead>\n",
       "  <tbody>\n",
       "    <tr>\n",
       "      <th>0</th>\n",
       "      <td>5000.0</td>\n",
       "      <td>10.65</td>\n",
       "      <td>162.87</td>\n",
       "      <td>RENT</td>\n",
       "      <td>credit_card</td>\n",
       "      <td>24000.0</td>\n",
       "      <td>0</td>\n",
       "      <td>0</td>\n",
       "      <td>36</td>\n",
       "      <td>7</td>\n",
       "      <td>10</td>\n",
       "      <td>1</td>\n",
       "      <td>0</td>\n",
       "    </tr>\n",
       "    <tr>\n",
       "      <th>1</th>\n",
       "      <td>2500.0</td>\n",
       "      <td>15.27</td>\n",
       "      <td>59.83</td>\n",
       "      <td>RENT</td>\n",
       "      <td>car</td>\n",
       "      <td>30000.0</td>\n",
       "      <td>0</td>\n",
       "      <td>0</td>\n",
       "      <td>60</td>\n",
       "      <td>14</td>\n",
       "      <td>0</td>\n",
       "      <td>1</td>\n",
       "      <td>1</td>\n",
       "    </tr>\n",
       "    <tr>\n",
       "      <th>2</th>\n",
       "      <td>2400.0</td>\n",
       "      <td>15.96</td>\n",
       "      <td>84.33</td>\n",
       "      <td>RENT</td>\n",
       "      <td>small_business</td>\n",
       "      <td>12252.0</td>\n",
       "      <td>0</td>\n",
       "      <td>0</td>\n",
       "      <td>36</td>\n",
       "      <td>15</td>\n",
       "      <td>10</td>\n",
       "      <td>1</td>\n",
       "      <td>0</td>\n",
       "    </tr>\n",
       "    <tr>\n",
       "      <th>3</th>\n",
       "      <td>10000.0</td>\n",
       "      <td>13.49</td>\n",
       "      <td>339.31</td>\n",
       "      <td>RENT</td>\n",
       "      <td>other</td>\n",
       "      <td>49200.0</td>\n",
       "      <td>0</td>\n",
       "      <td>0</td>\n",
       "      <td>36</td>\n",
       "      <td>11</td>\n",
       "      <td>10</td>\n",
       "      <td>1</td>\n",
       "      <td>0</td>\n",
       "    </tr>\n",
       "    <tr>\n",
       "      <th>5</th>\n",
       "      <td>5000.0</td>\n",
       "      <td>7.90</td>\n",
       "      <td>156.46</td>\n",
       "      <td>RENT</td>\n",
       "      <td>wedding</td>\n",
       "      <td>36000.0</td>\n",
       "      <td>0</td>\n",
       "      <td>0</td>\n",
       "      <td>36</td>\n",
       "      <td>4</td>\n",
       "      <td>3</td>\n",
       "      <td>1</td>\n",
       "      <td>0</td>\n",
       "    </tr>\n",
       "  </tbody>\n",
       "</table>\n",
       "</div>"
      ],
      "text/plain": [
       "   loan_amnt  int_rate  installment home_ownership         purpose  \\\n",
       "0     5000.0     10.65       162.87           RENT     credit_card   \n",
       "1     2500.0     15.27        59.83           RENT             car   \n",
       "2     2400.0     15.96        84.33           RENT  small_business   \n",
       "3    10000.0     13.49       339.31           RENT           other   \n",
       "5     5000.0      7.90       156.46           RENT         wedding   \n",
       "\n",
       "   annual_inc_joint  joint  plan  new_term  grade  emplo_lenghth  \\\n",
       "0           24000.0      0     0        36      7             10   \n",
       "1           30000.0      0     0        60     14              0   \n",
       "2           12252.0      0     0        36     15             10   \n",
       "3           49200.0      0     0        36     11             10   \n",
       "5           36000.0      0     0        36      4              3   \n",
       "\n",
       "   verification  target  \n",
       "0             1       0  \n",
       "1             1       1  \n",
       "2             1       0  \n",
       "3             1       0  \n",
       "5             1       0  "
      ]
     },
     "execution_count": 31,
     "metadata": {},
     "output_type": "execute_result"
    }
   ],
   "source": [
    "df.head()"
   ]
  },
  {
   "cell_type": "code",
   "execution_count": 32,
   "id": "7ab06b0b",
   "metadata": {},
   "outputs": [
    {
     "name": "stderr",
     "output_type": "stream",
     "text": [
      "/var/folders/lz/wsqs45rs6qq8p9wm901mkyyc0000gn/T/ipykernel_13028/2673775186.py:2: FutureWarning: The default value of numeric_only in DataFrame.corr is deprecated. In a future version, it will default to False. Select only valid columns or specify the value of numeric_only to silence this warning.\n",
      "  df.corr().style.background_gradient('coolwarm')\n",
      "/Users/nataliia/anaconda3/lib/python3.10/site-packages/pandas/io/formats/style.py:3931: RuntimeWarning: All-NaN slice encountered\n",
      "  smin = np.nanmin(gmap) if vmin is None else vmin\n",
      "/Users/nataliia/anaconda3/lib/python3.10/site-packages/pandas/io/formats/style.py:3932: RuntimeWarning: All-NaN slice encountered\n",
      "  smax = np.nanmax(gmap) if vmax is None else vmax\n"
     ]
    },
    {
     "data": {
      "text/html": [
       "<style type=\"text/css\">\n",
       "#T_93da6_row0_col0, #T_93da6_row1_col1, #T_93da6_row2_col2, #T_93da6_row3_col3, #T_93da6_row4_col4, #T_93da6_row5_col5, #T_93da6_row6_col6, #T_93da6_row7_col7, #T_93da6_row8_col8, #T_93da6_row10_col10 {\n",
       "  background-color: #b40426;\n",
       "  color: #f1f1f1;\n",
       "}\n",
       "#T_93da6_row0_col1 {\n",
       "  background-color: #88abfd;\n",
       "  color: #000000;\n",
       "}\n",
       "#T_93da6_row0_col2, #T_93da6_row2_col0 {\n",
       "  background-color: #c43032;\n",
       "  color: #f1f1f1;\n",
       "}\n",
       "#T_93da6_row0_col3 {\n",
       "  background-color: #b2ccfb;\n",
       "  color: #000000;\n",
       "}\n",
       "#T_93da6_row0_col4, #T_93da6_row0_col5, #T_93da6_row1_col4, #T_93da6_row1_col5, #T_93da6_row2_col4, #T_93da6_row2_col5, #T_93da6_row6_col4, #T_93da6_row6_col5, #T_93da6_row7_col5, #T_93da6_row10_col5 {\n",
       "  background-color: #3c4ec2;\n",
       "  color: #f1f1f1;\n",
       "}\n",
       "#T_93da6_row0_col6, #T_93da6_row6_col0 {\n",
       "  background-color: #c1d4f4;\n",
       "  color: #000000;\n",
       "}\n",
       "#T_93da6_row0_col7 {\n",
       "  background-color: #85a8fc;\n",
       "  color: #f1f1f1;\n",
       "}\n",
       "#T_93da6_row0_col8 {\n",
       "  background-color: #688aef;\n",
       "  color: #f1f1f1;\n",
       "}\n",
       "#T_93da6_row0_col9, #T_93da6_row1_col9, #T_93da6_row2_col9, #T_93da6_row3_col9, #T_93da6_row4_col9, #T_93da6_row5_col9, #T_93da6_row6_col9, #T_93da6_row7_col9, #T_93da6_row8_col9, #T_93da6_row9_col0, #T_93da6_row9_col1, #T_93da6_row9_col2, #T_93da6_row9_col3, #T_93da6_row9_col4, #T_93da6_row9_col5, #T_93da6_row9_col6, #T_93da6_row9_col7, #T_93da6_row9_col8, #T_93da6_row9_col9, #T_93da6_row9_col10, #T_93da6_row10_col9 {\n",
       "  background-color: #000000;\n",
       "  color: #f1f1f1;\n",
       "}\n",
       "#T_93da6_row0_col10 {\n",
       "  background-color: #6180e9;\n",
       "  color: #f1f1f1;\n",
       "}\n",
       "#T_93da6_row1_col0, #T_93da6_row6_col10, #T_93da6_row7_col0 {\n",
       "  background-color: #80a3fa;\n",
       "  color: #f1f1f1;\n",
       "}\n",
       "#T_93da6_row1_col2 {\n",
       "  background-color: #7da0f9;\n",
       "  color: #f1f1f1;\n",
       "}\n",
       "#T_93da6_row1_col3, #T_93da6_row4_col7, #T_93da6_row5_col7 {\n",
       "  background-color: #4055c8;\n",
       "  color: #f1f1f1;\n",
       "}\n",
       "#T_93da6_row1_col6 {\n",
       "  background-color: #cedaeb;\n",
       "  color: #000000;\n",
       "}\n",
       "#T_93da6_row1_col7, #T_93da6_row7_col1 {\n",
       "  background-color: #c0282f;\n",
       "  color: #f1f1f1;\n",
       "}\n",
       "#T_93da6_row1_col8 {\n",
       "  background-color: #465ecf;\n",
       "  color: #f1f1f1;\n",
       "}\n",
       "#T_93da6_row1_col10 {\n",
       "  background-color: #9bbcff;\n",
       "  color: #000000;\n",
       "}\n",
       "#T_93da6_row2_col1 {\n",
       "  background-color: #84a7fc;\n",
       "  color: #f1f1f1;\n",
       "}\n",
       "#T_93da6_row2_col3 {\n",
       "  background-color: #b1cbfc;\n",
       "  color: #000000;\n",
       "}\n",
       "#T_93da6_row2_col6 {\n",
       "  background-color: #6f92f3;\n",
       "  color: #f1f1f1;\n",
       "}\n",
       "#T_93da6_row2_col7 {\n",
       "  background-color: #7ea1fa;\n",
       "  color: #f1f1f1;\n",
       "}\n",
       "#T_93da6_row2_col8 {\n",
       "  background-color: #6485ec;\n",
       "  color: #f1f1f1;\n",
       "}\n",
       "#T_93da6_row2_col10, #T_93da6_row6_col3 {\n",
       "  background-color: #5b7ae5;\n",
       "  color: #f1f1f1;\n",
       "}\n",
       "#T_93da6_row3_col0 {\n",
       "  background-color: #a6c4fe;\n",
       "  color: #000000;\n",
       "}\n",
       "#T_93da6_row3_col1, #T_93da6_row3_col4, #T_93da6_row3_col5, #T_93da6_row3_col7, #T_93da6_row3_col10, #T_93da6_row4_col0, #T_93da6_row4_col2, #T_93da6_row4_col5, #T_93da6_row4_col6, #T_93da6_row5_col0, #T_93da6_row5_col2, #T_93da6_row5_col4, #T_93da6_row5_col6, #T_93da6_row8_col4, #T_93da6_row8_col5, #T_93da6_row10_col3, #T_93da6_row10_col8 {\n",
       "  background-color: #3b4cc0;\n",
       "  color: #f1f1f1;\n",
       "}\n",
       "#T_93da6_row3_col2 {\n",
       "  background-color: #a5c3fe;\n",
       "  color: #000000;\n",
       "}\n",
       "#T_93da6_row3_col6, #T_93da6_row10_col2 {\n",
       "  background-color: #4c66d6;\n",
       "  color: #f1f1f1;\n",
       "}\n",
       "#T_93da6_row3_col8 {\n",
       "  background-color: #5d7ce6;\n",
       "  color: #f1f1f1;\n",
       "}\n",
       "#T_93da6_row4_col1, #T_93da6_row5_col1, #T_93da6_row7_col3, #T_93da6_row7_col8, #T_93da6_row8_col7, #T_93da6_row8_col10 {\n",
       "  background-color: #4358cb;\n",
       "  color: #f1f1f1;\n",
       "}\n",
       "#T_93da6_row4_col3, #T_93da6_row8_col1 {\n",
       "  background-color: #4961d2;\n",
       "  color: #f1f1f1;\n",
       "}\n",
       "#T_93da6_row4_col8 {\n",
       "  background-color: #3e51c5;\n",
       "  color: #f1f1f1;\n",
       "}\n",
       "#T_93da6_row4_col10, #T_93da6_row5_col10 {\n",
       "  background-color: #4a63d3;\n",
       "  color: #f1f1f1;\n",
       "}\n",
       "#T_93da6_row5_col3 {\n",
       "  background-color: #485fd1;\n",
       "  color: #f1f1f1;\n",
       "}\n",
       "#T_93da6_row5_col8 {\n",
       "  background-color: #3f53c6;\n",
       "  color: #f1f1f1;\n",
       "}\n",
       "#T_93da6_row6_col1 {\n",
       "  background-color: #d4dbe6;\n",
       "  color: #000000;\n",
       "}\n",
       "#T_93da6_row6_col2, #T_93da6_row10_col6 {\n",
       "  background-color: #7093f3;\n",
       "  color: #f1f1f1;\n",
       "}\n",
       "#T_93da6_row6_col7 {\n",
       "  background-color: #d9dce1;\n",
       "  color: #000000;\n",
       "}\n",
       "#T_93da6_row6_col8 {\n",
       "  background-color: #5875e1;\n",
       "  color: #f1f1f1;\n",
       "}\n",
       "#T_93da6_row7_col2 {\n",
       "  background-color: #799cf8;\n",
       "  color: #f1f1f1;\n",
       "}\n",
       "#T_93da6_row7_col4, #T_93da6_row10_col4 {\n",
       "  background-color: #3d50c3;\n",
       "  color: #f1f1f1;\n",
       "}\n",
       "#T_93da6_row7_col6 {\n",
       "  background-color: #d6dce4;\n",
       "  color: #000000;\n",
       "}\n",
       "#T_93da6_row7_col10 {\n",
       "  background-color: #9ebeff;\n",
       "  color: #000000;\n",
       "}\n",
       "#T_93da6_row8_col0 {\n",
       "  background-color: #6384eb;\n",
       "  color: #f1f1f1;\n",
       "}\n",
       "#T_93da6_row8_col2 {\n",
       "  background-color: #5f7fe8;\n",
       "  color: #f1f1f1;\n",
       "}\n",
       "#T_93da6_row8_col3 {\n",
       "  background-color: #6687ed;\n",
       "  color: #f1f1f1;\n",
       "}\n",
       "#T_93da6_row8_col6 {\n",
       "  background-color: #516ddb;\n",
       "  color: #f1f1f1;\n",
       "}\n",
       "#T_93da6_row10_col0 {\n",
       "  background-color: #536edd;\n",
       "  color: #f1f1f1;\n",
       "}\n",
       "#T_93da6_row10_col1, #T_93da6_row10_col7 {\n",
       "  background-color: #96b7ff;\n",
       "  color: #000000;\n",
       "}\n",
       "</style>\n",
       "<table id=\"T_93da6\">\n",
       "  <thead>\n",
       "    <tr>\n",
       "      <th class=\"blank level0\" >&nbsp;</th>\n",
       "      <th id=\"T_93da6_level0_col0\" class=\"col_heading level0 col0\" >loan_amnt</th>\n",
       "      <th id=\"T_93da6_level0_col1\" class=\"col_heading level0 col1\" >int_rate</th>\n",
       "      <th id=\"T_93da6_level0_col2\" class=\"col_heading level0 col2\" >installment</th>\n",
       "      <th id=\"T_93da6_level0_col3\" class=\"col_heading level0 col3\" >annual_inc_joint</th>\n",
       "      <th id=\"T_93da6_level0_col4\" class=\"col_heading level0 col4\" >joint</th>\n",
       "      <th id=\"T_93da6_level0_col5\" class=\"col_heading level0 col5\" >plan</th>\n",
       "      <th id=\"T_93da6_level0_col6\" class=\"col_heading level0 col6\" >new_term</th>\n",
       "      <th id=\"T_93da6_level0_col7\" class=\"col_heading level0 col7\" >grade</th>\n",
       "      <th id=\"T_93da6_level0_col8\" class=\"col_heading level0 col8\" >emplo_lenghth</th>\n",
       "      <th id=\"T_93da6_level0_col9\" class=\"col_heading level0 col9\" >verification</th>\n",
       "      <th id=\"T_93da6_level0_col10\" class=\"col_heading level0 col10\" >target</th>\n",
       "    </tr>\n",
       "  </thead>\n",
       "  <tbody>\n",
       "    <tr>\n",
       "      <th id=\"T_93da6_level0_row0\" class=\"row_heading level0 row0\" >loan_amnt</th>\n",
       "      <td id=\"T_93da6_row0_col0\" class=\"data row0 col0\" >1.000000</td>\n",
       "      <td id=\"T_93da6_row0_col1\" class=\"data row0 col1\" >0.216584</td>\n",
       "      <td id=\"T_93da6_row0_col2\" class=\"data row0 col2\" >0.954557</td>\n",
       "      <td id=\"T_93da6_row0_col3\" class=\"data row0 col3\" >0.325772</td>\n",
       "      <td id=\"T_93da6_row0_col4\" class=\"data row0 col4\" >0.003237</td>\n",
       "      <td id=\"T_93da6_row0_col5\" class=\"data row0 col5\" >0.005178</td>\n",
       "      <td id=\"T_93da6_row0_col6\" class=\"data row0 col6\" >0.406561</td>\n",
       "      <td id=\"T_93da6_row0_col7\" class=\"data row0 col7\" >0.217265</td>\n",
       "      <td id=\"T_93da6_row0_col8\" class=\"data row0 col8\" >0.133613</td>\n",
       "      <td id=\"T_93da6_row0_col9\" class=\"data row0 col9\" >nan</td>\n",
       "      <td id=\"T_93da6_row0_col10\" class=\"data row0 col10\" >0.081515</td>\n",
       "    </tr>\n",
       "    <tr>\n",
       "      <th id=\"T_93da6_level0_row1\" class=\"row_heading level0 row1\" >int_rate</th>\n",
       "      <td id=\"T_93da6_row1_col0\" class=\"data row1 col0\" >0.216584</td>\n",
       "      <td id=\"T_93da6_row1_col1\" class=\"data row1 col1\" >1.000000</td>\n",
       "      <td id=\"T_93da6_row1_col2\" class=\"data row1 col2\" >0.206540</td>\n",
       "      <td id=\"T_93da6_row1_col3\" class=\"data row1 col3\" >-0.025788</td>\n",
       "      <td id=\"T_93da6_row1_col4\" class=\"data row1 col4\" >0.004589</td>\n",
       "      <td id=\"T_93da6_row1_col5\" class=\"data row1 col5\" >0.004011</td>\n",
       "      <td id=\"T_93da6_row1_col6\" class=\"data row1 col6\" >0.451330</td>\n",
       "      <td id=\"T_93da6_row1_col7\" class=\"data row1 col7\" >0.966661</td>\n",
       "      <td id=\"T_93da6_row1_col8\" class=\"data row1 col8\" >0.025567</td>\n",
       "      <td id=\"T_93da6_row1_col9\" class=\"data row1 col9\" >nan</td>\n",
       "      <td id=\"T_93da6_row1_col10\" class=\"data row1 col10\" >0.256986</td>\n",
       "    </tr>\n",
       "    <tr>\n",
       "      <th id=\"T_93da6_level0_row2\" class=\"row_heading level0 row2\" >installment</th>\n",
       "      <td id=\"T_93da6_row2_col0\" class=\"data row2 col0\" >0.954557</td>\n",
       "      <td id=\"T_93da6_row2_col1\" class=\"data row2 col1\" >0.206540</td>\n",
       "      <td id=\"T_93da6_row2_col2\" class=\"data row2 col2\" >1.000000</td>\n",
       "      <td id=\"T_93da6_row2_col3\" class=\"data row2 col3\" >0.321631</td>\n",
       "      <td id=\"T_93da6_row2_col4\" class=\"data row2 col4\" >0.001992</td>\n",
       "      <td id=\"T_93da6_row2_col5\" class=\"data row2 col5\" >0.004105</td>\n",
       "      <td id=\"T_93da6_row2_col6\" class=\"data row2 col6\" >0.171052</td>\n",
       "      <td id=\"T_93da6_row2_col7\" class=\"data row2 col7\" >0.195927</td>\n",
       "      <td id=\"T_93da6_row2_col8\" class=\"data row2 col8\" >0.120478</td>\n",
       "      <td id=\"T_93da6_row2_col9\" class=\"data row2 col9\" >nan</td>\n",
       "      <td id=\"T_93da6_row2_col10\" class=\"data row2 col10\" >0.064133</td>\n",
       "    </tr>\n",
       "    <tr>\n",
       "      <th id=\"T_93da6_level0_row3\" class=\"row_heading level0 row3\" >annual_inc_joint</th>\n",
       "      <td id=\"T_93da6_row3_col0\" class=\"data row3 col0\" >0.325772</td>\n",
       "      <td id=\"T_93da6_row3_col1\" class=\"data row3 col1\" >-0.025788</td>\n",
       "      <td id=\"T_93da6_row3_col2\" class=\"data row3 col2\" >0.321631</td>\n",
       "      <td id=\"T_93da6_row3_col3\" class=\"data row3 col3\" >1.000000</td>\n",
       "      <td id=\"T_93da6_row3_col4\" class=\"data row3 col4\" >0.001202</td>\n",
       "      <td id=\"T_93da6_row3_col5\" class=\"data row3 col5\" >0.000563</td>\n",
       "      <td id=\"T_93da6_row3_col6\" class=\"data row3 col6\" >0.063877</td>\n",
       "      <td id=\"T_93da6_row3_col7\" class=\"data row3 col7\" >-0.016815</td>\n",
       "      <td id=\"T_93da6_row3_col8\" class=\"data row3 col8\" >0.096668</td>\n",
       "      <td id=\"T_93da6_row3_col9\" class=\"data row3 col9\" >nan</td>\n",
       "      <td id=\"T_93da6_row3_col10\" class=\"data row3 col10\" >-0.048169</td>\n",
       "    </tr>\n",
       "    <tr>\n",
       "      <th id=\"T_93da6_level0_row4\" class=\"row_heading level0 row4\" >joint</th>\n",
       "      <td id=\"T_93da6_row4_col0\" class=\"data row4 col0\" >0.003237</td>\n",
       "      <td id=\"T_93da6_row4_col1\" class=\"data row4 col1\" >0.004589</td>\n",
       "      <td id=\"T_93da6_row4_col2\" class=\"data row4 col2\" >0.001992</td>\n",
       "      <td id=\"T_93da6_row4_col3\" class=\"data row4 col3\" >0.001202</td>\n",
       "      <td id=\"T_93da6_row4_col4\" class=\"data row4 col4\" >1.000000</td>\n",
       "      <td id=\"T_93da6_row4_col5\" class=\"data row4 col5\" >-0.000023</td>\n",
       "      <td id=\"T_93da6_row4_col6\" class=\"data row4 col6\" >0.004755</td>\n",
       "      <td id=\"T_93da6_row4_col7\" class=\"data row4 col7\" >0.005553</td>\n",
       "      <td id=\"T_93da6_row4_col8\" class=\"data row4 col8\" >-0.002297</td>\n",
       "      <td id=\"T_93da6_row4_col9\" class=\"data row4 col9\" >nan</td>\n",
       "      <td id=\"T_93da6_row4_col10\" class=\"data row4 col10\" >0.006398</td>\n",
       "    </tr>\n",
       "    <tr>\n",
       "      <th id=\"T_93da6_level0_row5\" class=\"row_heading level0 row5\" >plan</th>\n",
       "      <td id=\"T_93da6_row5_col0\" class=\"data row5 col0\" >0.005178</td>\n",
       "      <td id=\"T_93da6_row5_col1\" class=\"data row5 col1\" >0.004011</td>\n",
       "      <td id=\"T_93da6_row5_col2\" class=\"data row5 col2\" >0.004105</td>\n",
       "      <td id=\"T_93da6_row5_col3\" class=\"data row5 col3\" >0.000563</td>\n",
       "      <td id=\"T_93da6_row5_col4\" class=\"data row5 col4\" >-0.000023</td>\n",
       "      <td id=\"T_93da6_row5_col5\" class=\"data row5 col5\" >1.000000</td>\n",
       "      <td id=\"T_93da6_row5_col6\" class=\"data row5 col6\" >0.005702</td>\n",
       "      <td id=\"T_93da6_row5_col7\" class=\"data row5 col7\" >0.004679</td>\n",
       "      <td id=\"T_93da6_row5_col8\" class=\"data row5 col8\" >-0.000906</td>\n",
       "      <td id=\"T_93da6_row5_col9\" class=\"data row5 col9\" >nan</td>\n",
       "      <td id=\"T_93da6_row5_col10\" class=\"data row5 col10\" >0.005517</td>\n",
       "    </tr>\n",
       "    <tr>\n",
       "      <th id=\"T_93da6_level0_row6\" class=\"row_heading level0 row6\" >new_term</th>\n",
       "      <td id=\"T_93da6_row6_col0\" class=\"data row6 col0\" >0.406561</td>\n",
       "      <td id=\"T_93da6_row6_col1\" class=\"data row6 col1\" >0.451330</td>\n",
       "      <td id=\"T_93da6_row6_col2\" class=\"data row6 col2\" >0.171052</td>\n",
       "      <td id=\"T_93da6_row6_col3\" class=\"data row6 col3\" >0.063877</td>\n",
       "      <td id=\"T_93da6_row6_col4\" class=\"data row6 col4\" >0.004755</td>\n",
       "      <td id=\"T_93da6_row6_col5\" class=\"data row6 col5\" >0.005702</td>\n",
       "      <td id=\"T_93da6_row6_col6\" class=\"data row6 col6\" >1.000000</td>\n",
       "      <td id=\"T_93da6_row6_col7\" class=\"data row6 col7\" >0.476741</td>\n",
       "      <td id=\"T_93da6_row6_col8\" class=\"data row6 col8\" >0.081154</td>\n",
       "      <td id=\"T_93da6_row6_col9\" class=\"data row6 col9\" >nan</td>\n",
       "      <td id=\"T_93da6_row6_col10\" class=\"data row6 col10\" >0.173230</td>\n",
       "    </tr>\n",
       "    <tr>\n",
       "      <th id=\"T_93da6_level0_row7\" class=\"row_heading level0 row7\" >grade</th>\n",
       "      <td id=\"T_93da6_row7_col0\" class=\"data row7 col0\" >0.217265</td>\n",
       "      <td id=\"T_93da6_row7_col1\" class=\"data row7 col1\" >0.966661</td>\n",
       "      <td id=\"T_93da6_row7_col2\" class=\"data row7 col2\" >0.195927</td>\n",
       "      <td id=\"T_93da6_row7_col3\" class=\"data row7 col3\" >-0.016815</td>\n",
       "      <td id=\"T_93da6_row7_col4\" class=\"data row7 col4\" >0.005553</td>\n",
       "      <td id=\"T_93da6_row7_col5\" class=\"data row7 col5\" >0.004679</td>\n",
       "      <td id=\"T_93da6_row7_col6\" class=\"data row7 col6\" >0.476741</td>\n",
       "      <td id=\"T_93da6_row7_col7\" class=\"data row7 col7\" >1.000000</td>\n",
       "      <td id=\"T_93da6_row7_col8\" class=\"data row7 col8\" >0.013983</td>\n",
       "      <td id=\"T_93da6_row7_col9\" class=\"data row7 col9\" >nan</td>\n",
       "      <td id=\"T_93da6_row7_col10\" class=\"data row7 col10\" >0.263924</td>\n",
       "    </tr>\n",
       "    <tr>\n",
       "      <th id=\"T_93da6_level0_row8\" class=\"row_heading level0 row8\" >emplo_lenghth</th>\n",
       "      <td id=\"T_93da6_row8_col0\" class=\"data row8 col0\" >0.133613</td>\n",
       "      <td id=\"T_93da6_row8_col1\" class=\"data row8 col1\" >0.025567</td>\n",
       "      <td id=\"T_93da6_row8_col2\" class=\"data row8 col2\" >0.120478</td>\n",
       "      <td id=\"T_93da6_row8_col3\" class=\"data row8 col3\" >0.096668</td>\n",
       "      <td id=\"T_93da6_row8_col4\" class=\"data row8 col4\" >-0.002297</td>\n",
       "      <td id=\"T_93da6_row8_col5\" class=\"data row8 col5\" >-0.000906</td>\n",
       "      <td id=\"T_93da6_row8_col6\" class=\"data row8 col6\" >0.081154</td>\n",
       "      <td id=\"T_93da6_row8_col7\" class=\"data row8 col7\" >0.013983</td>\n",
       "      <td id=\"T_93da6_row8_col8\" class=\"data row8 col8\" >1.000000</td>\n",
       "      <td id=\"T_93da6_row8_col9\" class=\"data row8 col9\" >nan</td>\n",
       "      <td id=\"T_93da6_row8_col10\" class=\"data row8 col10\" >-0.017233</td>\n",
       "    </tr>\n",
       "    <tr>\n",
       "      <th id=\"T_93da6_level0_row9\" class=\"row_heading level0 row9\" >verification</th>\n",
       "      <td id=\"T_93da6_row9_col0\" class=\"data row9 col0\" >nan</td>\n",
       "      <td id=\"T_93da6_row9_col1\" class=\"data row9 col1\" >nan</td>\n",
       "      <td id=\"T_93da6_row9_col2\" class=\"data row9 col2\" >nan</td>\n",
       "      <td id=\"T_93da6_row9_col3\" class=\"data row9 col3\" >nan</td>\n",
       "      <td id=\"T_93da6_row9_col4\" class=\"data row9 col4\" >nan</td>\n",
       "      <td id=\"T_93da6_row9_col5\" class=\"data row9 col5\" >nan</td>\n",
       "      <td id=\"T_93da6_row9_col6\" class=\"data row9 col6\" >nan</td>\n",
       "      <td id=\"T_93da6_row9_col7\" class=\"data row9 col7\" >nan</td>\n",
       "      <td id=\"T_93da6_row9_col8\" class=\"data row9 col8\" >nan</td>\n",
       "      <td id=\"T_93da6_row9_col9\" class=\"data row9 col9\" >nan</td>\n",
       "      <td id=\"T_93da6_row9_col10\" class=\"data row9 col10\" >nan</td>\n",
       "    </tr>\n",
       "    <tr>\n",
       "      <th id=\"T_93da6_level0_row10\" class=\"row_heading level0 row10\" >target</th>\n",
       "      <td id=\"T_93da6_row10_col0\" class=\"data row10 col0\" >0.081515</td>\n",
       "      <td id=\"T_93da6_row10_col1\" class=\"data row10 col1\" >0.256986</td>\n",
       "      <td id=\"T_93da6_row10_col2\" class=\"data row10 col2\" >0.064133</td>\n",
       "      <td id=\"T_93da6_row10_col3\" class=\"data row10 col3\" >-0.048169</td>\n",
       "      <td id=\"T_93da6_row10_col4\" class=\"data row10 col4\" >0.006398</td>\n",
       "      <td id=\"T_93da6_row10_col5\" class=\"data row10 col5\" >0.005517</td>\n",
       "      <td id=\"T_93da6_row10_col6\" class=\"data row10 col6\" >0.173230</td>\n",
       "      <td id=\"T_93da6_row10_col7\" class=\"data row10 col7\" >0.263924</td>\n",
       "      <td id=\"T_93da6_row10_col8\" class=\"data row10 col8\" >-0.017233</td>\n",
       "      <td id=\"T_93da6_row10_col9\" class=\"data row10 col9\" >nan</td>\n",
       "      <td id=\"T_93da6_row10_col10\" class=\"data row10 col10\" >1.000000</td>\n",
       "    </tr>\n",
       "  </tbody>\n",
       "</table>\n"
      ],
      "text/plain": [
       "<pandas.io.formats.style.Styler at 0x7f81e7a16bf0>"
      ]
     },
     "execution_count": 32,
     "metadata": {},
     "output_type": "execute_result"
    }
   ],
   "source": [
    "pd.set_option('display.max_columns', 100)\n",
    "df.corr().style.background_gradient('coolwarm')"
   ]
  },
  {
   "cell_type": "code",
   "execution_count": 33,
   "id": "193760fa",
   "metadata": {
    "scrolled": true
   },
   "outputs": [
    {
     "data": {
      "image/png": "[encoded data removed]",
      "text/plain": [
       "<Figure size 640x480 with 1 Axes>"
      ]
     },
     "metadata": {},
     "output_type": "display_data"
    }
   ],
   "source": [
    "counts = df.target.value_counts()\n",
    "plt.bar(counts.index, counts.values)\n",
    "plt.xlabel('Target')\n",
    "plt.ylabel('Count')\n",
    "plt.title('Распределение целевой переменной')\n",
    "plt.xticks([0, 1])\n",
    "plt.show()"
   ]
  },
  {
   "cell_type": "markdown",
   "id": "b9591805",
   "metadata": {},
   "source": [
    "Отношение данных в целевом признаке в выборке примерно 2,73:1. Нет необходимости искусственно изменять это соотношение с помощью upsampling, но при разделении данных на train-validation-test надо учесть это соотношение.\n",
    " - Выделим признаки и целевой признак."
   ]
  },
  {
   "cell_type": "code",
   "execution_count": 34,
   "id": "1b8b0ded",
   "metadata": {},
   "outputs": [
    {
     "name": "stdout",
     "output_type": "stream",
     "text": [
      "<class 'pandas.core.frame.DataFrame'>\n",
      "Int64Index: 277140 entries, 0 to 887371\n",
      "Data columns (total 13 columns):\n",
      " #   Column            Non-Null Count   Dtype  \n",
      "---  ------            --------------   -----  \n",
      " 0   loan_amnt         277140 non-null  float64\n",
      " 1   int_rate          277140 non-null  float64\n",
      " 2   installment       277140 non-null  float64\n",
      " 3   home_ownership    277140 non-null  object \n",
      " 4   purpose           277140 non-null  object \n",
      " 5   annual_inc_joint  277140 non-null  float64\n",
      " 6   joint             277140 non-null  int64  \n",
      " 7   plan              277140 non-null  int64  \n",
      " 8   new_term          277140 non-null  int64  \n",
      " 9   grade             277140 non-null  int64  \n",
      " 10  emplo_lenghth     277140 non-null  int64  \n",
      " 11  verification      277140 non-null  int64  \n",
      " 12  target            277140 non-null  int64  \n",
      "dtypes: float64(4), int64(7), object(2)\n",
      "memory usage: 29.6+ MB\n"
     ]
    }
   ],
   "source": [
    "df.info()"
   ]
  },
  {
   "cell_type": "code",
   "execution_count": 35,
   "id": "123914e5",
   "metadata": {},
   "outputs": [],
   "source": [
    "#выделим целевой признак, категориальные признаки, разобьем на две выборке 1 к 3\n",
    "features = df.drop('target', axis=1)\n",
    "target = df['target']\n",
    "\n",
    "#определим категориальные и числовые признаки\n",
    "cat_features = ['home_ownership', 'purpose']\n",
    "interval_cols = df.drop(['home_ownership', 'purpose', 'target'], axis=1).columns.to_list()\n",
    "\n",
    "#разобьем на две выборки 1 к 3\n",
    "features_train, features_test, target_train, target_test = train_test_split(\n",
    "    features, target, test_size=0.25, stratify=target, random_state=42)"
   ]
  },
  {
   "cell_type": "code",
   "execution_count": 36,
   "id": "c99bb2cc",
   "metadata": {},
   "outputs": [],
   "source": [
    "num_transformer = StandardScaler() #масштабирование численных\n",
    "cat_transformer = OneHotEncoder(drop='first', handle_unknown='ignore')\n",
    "cat_transformer_der = OrdinalEncoder(handle_unknown ='use_encoded_value', unknown_value=-1)\n",
    "num_features = features.drop(cat_features, axis=1).columns.tolist()\n",
    "#cat_transformer = OneHotEncoder(handle_unknown ='use_encoded_value', unknown_value=-1) #горячее кодирование категориальных, так как их немного"
   ]
  },
  {
   "cell_type": "code",
   "execution_count": 37,
   "id": "01102f31",
   "metadata": {},
   "outputs": [],
   "source": [
    "preprocessor = ColumnTransformer(transformers=[\n",
    "    ('num', num_transformer, num_features),\n",
    "    ('cat', cat_transformer, cat_features)\n",
    "])\n",
    "\n",
    "preprocessor_forest = ColumnTransformer(transformers=[\n",
    "    ('num', num_transformer, interval_cols),\n",
    "    ('cat', cat_transformer_der, cat_features)])\n",
    "\n",
    "preprocessor_catboost = ColumnTransformer(transformers=[\n",
    "    ('num', num_transformer, interval_cols)], remainder='passthrough')\n"
   ]
  },
  {
   "cell_type": "code",
   "execution_count": 38,
   "id": "b3a557fb",
   "metadata": {
    "scrolled": true
   },
   "outputs": [
    {
     "name": "stdout",
     "output_type": "stream",
     "text": [
      "RandomForest лучшие параметры: {'classifier__criterion': 'gini', 'classifier__max_depth': 10, 'classifier__n_estimators': 300}\n",
      "RandomForest лучшая оценка: 0.7607514854105025\n"
     ]
    }
   ],
   "source": [
    "forest_pipe = Pipeline(steps=[\n",
    "    ('preprocessor', preprocessor_forest),\n",
    "    ('classifier', RandomForestClassifier(random_state=42))])\n",
    "\n",
    "forest_param= {\n",
    "    'classifier__n_estimators': [50, 100, 150, 300],\n",
    "    'classifier__max_depth': [10, 20, 30],\n",
    "    'classifier__criterion': ['gini', 'entropy', 'log_loss']}\n",
    "\n",
    "forest_grid = GridSearchCV(forest_pipe, forest_param, cv=3, scoring='accuracy', n_jobs=-1)\n",
    "forest_grid.fit(features_train, target_train)\n",
    "\n",
    "print(f'RandomForest лучшие параметры: {forest_grid.best_params_}')\n",
    "print(f'RandomForest лучшая оценка: {forest_grid.best_score_}')"
   ]
  },
  {
   "cell_type": "markdown",
   "id": "ee5804de",
   "metadata": {},
   "source": [
    "RandomForest лучшие параметры: {'classifier__criterion': 'gini', 'classifier__max_depth': 10, 'classifier__n_estimators': 300}\n",
    "RandomForest лучшая оценка: 0.7607514854105025"
   ]
  },
  {
   "cell_type": "code",
   "execution_count": null,
   "id": "b7c7d851",
   "metadata": {
    "scrolled": true
   },
   "outputs": [
    {
     "name": "stderr",
     "output_type": "stream",
     "text": [
      "/Users/nataliia/anaconda3/lib/python3.10/site-packages/sklearn/preprocessing/_encoders.py:202: UserWarning: Found unknown categories in columns [0] during transform. These unknown categories will be encoded as all zeros\n",
      "  warnings.warn(\n",
      "/Users/nataliia/anaconda3/lib/python3.10/site-packages/sklearn/preprocessing/_encoders.py:202: UserWarning: Found unknown categories in columns [0] during transform. These unknown categories will be encoded as all zeros\n",
      "  warnings.warn(\n",
      "/Users/nataliia/anaconda3/lib/python3.10/site-packages/sklearn/preprocessing/_encoders.py:202: UserWarning: Found unknown categories in columns [0] during transform. These unknown categories will be encoded as all zeros\n",
      "  warnings.warn(\n",
      "/Users/nataliia/anaconda3/lib/python3.10/site-packages/sklearn/preprocessing/_encoders.py:202: UserWarning: Found unknown categories in columns [0] during transform. These unknown categories will be encoded as all zeros\n",
      "  warnings.warn(\n",
      "/Users/nataliia/anaconda3/lib/python3.10/site-packages/sklearn/preprocessing/_encoders.py:202: UserWarning: Found unknown categories in columns [0] during transform. These unknown categories will be encoded as all zeros\n",
      "  warnings.warn(\n",
      "/Users/nataliia/anaconda3/lib/python3.10/site-packages/sklearn/preprocessing/_encoders.py:202: UserWarning: Found unknown categories in columns [0] during transform. These unknown categories will be encoded as all zeros\n",
      "  warnings.warn(\n",
      "/Users/nataliia/anaconda3/lib/python3.10/site-packages/sklearn/preprocessing/_encoders.py:202: UserWarning: Found unknown categories in columns [0] during transform. These unknown categories will be encoded as all zeros\n",
      "  warnings.warn(\n",
      "/Users/nataliia/anaconda3/lib/python3.10/site-packages/sklearn/preprocessing/_encoders.py:202: UserWarning: Found unknown categories in columns [0] during transform. These unknown categories will be encoded as all zeros\n",
      "  warnings.warn(\n",
      "/Users/nataliia/anaconda3/lib/python3.10/site-packages/sklearn/preprocessing/_encoders.py:202: UserWarning: Found unknown categories in columns [0] during transform. These unknown categories will be encoded as all zeros\n",
      "  warnings.warn(\n",
      "/Users/nataliia/anaconda3/lib/python3.10/site-packages/sklearn/preprocessing/_encoders.py:202: UserWarning: Found unknown categories in columns [0] during transform. These unknown categories will be encoded as all zeros\n",
      "  warnings.warn(\n",
      "/Users/nataliia/anaconda3/lib/python3.10/site-packages/sklearn/preprocessing/_encoders.py:202: UserWarning: Found unknown categories in columns [0] during transform. These unknown categories will be encoded as all zeros\n",
      "  warnings.warn(\n",
      "/Users/nataliia/anaconda3/lib/python3.10/site-packages/sklearn/preprocessing/_encoders.py:202: UserWarning: Found unknown categories in columns [0] during transform. These unknown categories will be encoded as all zeros\n",
      "  warnings.warn(\n",
      "/Users/nataliia/anaconda3/lib/python3.10/site-packages/sklearn/preprocessing/_encoders.py:202: UserWarning: Found unknown categories in columns [0] during transform. These unknown categories will be encoded as all zeros\n",
      "  warnings.warn(\n",
      "/Users/nataliia/anaconda3/lib/python3.10/site-packages/sklearn/preprocessing/_encoders.py:202: UserWarning: Found unknown categories in columns [0] during transform. These unknown categories will be encoded as all zeros\n",
      "  warnings.warn(\n",
      "/Users/nataliia/anaconda3/lib/python3.10/site-packages/sklearn/preprocessing/_encoders.py:202: UserWarning: Found unknown categories in columns [0] during transform. These unknown categories will be encoded as all zeros\n",
      "  warnings.warn(\n",
      "/Users/nataliia/anaconda3/lib/python3.10/site-packages/sklearn/preprocessing/_encoders.py:202: UserWarning: Found unknown categories in columns [0] during transform. These unknown categories will be encoded as all zeros\n",
      "  warnings.warn(\n"
     ]
    }
   ],
   "source": [
    "k_pipe = Pipeline(steps=[\n",
    "    ('preprocessor', preprocessor),\n",
    "    ('classifier', KNeighborsClassifier())])\n",
    "\n",
    "k_param = {'classifier__n_neighbors': [3, 5, 7, 10],\n",
    "           'classifier__weights': ['uniform', 'distance'],\n",
    "           'classifier__metric': ['euclidean', 'manhattan']}\n",
    "\n",
    "k_grid = GridSearchCV(k_pipe, k_param, cv=3, scoring='accuracy')\n",
    "k_grid.fit(features_train, target_train)\n",
    "\n",
    "print(f'KNeighbors лучшие параметры: {k_grid.best_params_}')\n",
    "print(f'KNeighbors лучшая оценка: {k_grid.best_score_}')"
   ]
  },
  {
   "cell_type": "markdown",
   "id": "268d543c",
   "metadata": {},
   "source": [
    "KNeighbors лучшие параметры: {'classifier__metric': 'euclidean', 'classifier__n_neighbors': 10, 'classifier__weights': 'uniform'}\n",
    "KNeighbors лучшая оценка: 0.7491953525294076"
   ]
  },
  {
   "cell_type": "code",
   "execution_count": null,
   "id": "5265d039",
   "metadata": {},
   "outputs": [],
   "source": [
    "catboost = CatBoostClassifier(random_state=42, verbose=False, cat_features=cat_features)\n",
    "\n",
    "cat_param = {\n",
    "    'iterations': [50, 100, 200],\n",
    "    'learning_rate': [0.03, 0.1],\n",
    "    'depth': [4, 6, 8],\n",
    "    'l2_leaf_reg': [1, 3, 5]}\n",
    "\n",
    "cat_grid = GridSearchCV(catboost, cat_param, cv=3, error_score='raise', scoring='accuracy', n_jobs=-1)\n",
    "cat_grid.fit(features_train, target_train)\n",
    "\n",
    "print(f'CatBoost лучшие параметры: {cat_grid.best_params_}')\n",
    "print(f'CatBoost лучшая оценка: {cat_grid.best_score_}')"
   ]
  },
  {
   "cell_type": "markdown",
   "id": "f003dbf1",
   "metadata": {},
   "source": [
    "CatBoost лучшие параметры: {'depth': 6, 'iterations': 200, 'l2_leaf_reg': 3, 'learning_rate': 0.1}\n",
    "CatBoost лучшая оценка: 0.7508209810450647"
   ]
  },
  {
   "cell_type": "code",
   "execution_count": 41,
   "id": "5003a121",
   "metadata": {},
   "outputs": [
    {
     "name": "stdout",
     "output_type": "stream",
     "text": [
      "Точность на тестовой выборке: 0.7619\n",
      "ROC-AUC лучшей модели: 0.6998\n"
     ]
    }
   ],
   "source": [
    "best_model = forest_grid.best_estimator_\n",
    "\n",
    "preds = best_model.predict(features_test)\n",
    "accuracy = accuracy_score(target_test, preds)\n",
    "\n",
    "\n",
    "probabilities_test = best_model.predict_proba(features_test)\n",
    "probabilities_one_test = probabilities_test[:, 1]\n",
    "\n",
    "auc_roc = roc_auc_score(target_test, probabilities_one_test)\n",
    "print(f'Точность на тестовой выборке: {accuracy:.4f}')\n",
    "print(f'ROC-AUC лучшей модели: {auc_roc:.4f}')"
   ]
  },
  {
   "cell_type": "markdown",
   "id": "b74ccdf8",
   "metadata": {},
   "source": [
    "Точность на тестовой выборке: 0.7619\n",
    "ROC-AUC лучшей модели: 0.6998"
   ]
  },
  {
   "cell_type": "code",
   "execution_count": 46,
   "id": "89005ae4",
   "metadata": {},
   "outputs": [
    {
     "data": {
      "text/html": [
       "<div>\n",
       "<style scoped>\n",
       "    .dataframe tbody tr th:only-of-type {\n",
       "        vertical-align: middle;\n",
       "    }\n",
       "\n",
       "    .dataframe tbody tr th {\n",
       "        vertical-align: top;\n",
       "    }\n",
       "\n",
       "    .dataframe thead th {\n",
       "        text-align: right;\n",
       "    }\n",
       "</style>\n",
       "<table border=\"1\" class=\"dataframe\">\n",
       "  <thead>\n",
       "    <tr style=\"text-align: right;\">\n",
       "      <th></th>\n",
       "      <th>Features</th>\n",
       "      <th>Importance</th>\n",
       "    </tr>\n",
       "  </thead>\n",
       "  <tbody>\n",
       "    <tr>\n",
       "      <th>0</th>\n",
       "      <td>plan</td>\n",
       "      <td>0.316962</td>\n",
       "    </tr>\n",
       "    <tr>\n",
       "      <th>1</th>\n",
       "      <td>int_rate</td>\n",
       "      <td>0.260735</td>\n",
       "    </tr>\n",
       "    <tr>\n",
       "      <th>2</th>\n",
       "      <td>home_ownership</td>\n",
       "      <td>0.115602</td>\n",
       "    </tr>\n",
       "    <tr>\n",
       "      <th>3</th>\n",
       "      <td>joint</td>\n",
       "      <td>0.101100</td>\n",
       "    </tr>\n",
       "    <tr>\n",
       "      <th>4</th>\n",
       "      <td>installment</td>\n",
       "      <td>0.068500</td>\n",
       "    </tr>\n",
       "    <tr>\n",
       "      <th>5</th>\n",
       "      <td>loan_amnt</td>\n",
       "      <td>0.062240</td>\n",
       "    </tr>\n",
       "    <tr>\n",
       "      <th>6</th>\n",
       "      <td>new_term</td>\n",
       "      <td>0.029936</td>\n",
       "    </tr>\n",
       "    <tr>\n",
       "      <th>7</th>\n",
       "      <td>emplo_lenghth</td>\n",
       "      <td>0.023116</td>\n",
       "    </tr>\n",
       "    <tr>\n",
       "      <th>8</th>\n",
       "      <td>verification</td>\n",
       "      <td>0.021606</td>\n",
       "    </tr>\n",
       "    <tr>\n",
       "      <th>9</th>\n",
       "      <td>annual_inc_joint</td>\n",
       "      <td>0.000103</td>\n",
       "    </tr>\n",
       "    <tr>\n",
       "      <th>10</th>\n",
       "      <td>purpose</td>\n",
       "      <td>0.000099</td>\n",
       "    </tr>\n",
       "    <tr>\n",
       "      <th>11</th>\n",
       "      <td>grade</td>\n",
       "      <td>0.000000</td>\n",
       "    </tr>\n",
       "  </tbody>\n",
       "</table>\n",
       "</div>"
      ],
      "text/plain": [
       "            Features  Importance\n",
       "0               plan    0.316962\n",
       "1           int_rate    0.260735\n",
       "2     home_ownership    0.115602\n",
       "3              joint    0.101100\n",
       "4        installment    0.068500\n",
       "5          loan_amnt    0.062240\n",
       "6           new_term    0.029936\n",
       "7      emplo_lenghth    0.023116\n",
       "8       verification    0.021606\n",
       "9   annual_inc_joint    0.000103\n",
       "10           purpose    0.000099\n",
       "11             grade    0.000000"
      ]
     },
     "metadata": {},
     "output_type": "display_data"
    }
   ],
   "source": [
    "feature_importances = best_model._final_estimator.feature_importances_\n",
    "feature_names = features.columns\n",
    "\n",
    "\n",
    "importance_df = pd.DataFrame({\n",
    "    'Features': feature_names,\n",
    "    'Importance': feature_importances\n",
    "})\n",
    "\n",
    "\n",
    "importance_df = importance_df.sort_values(by='Importance', ascending=False)\n",
    "\n",
    "\n",
    "importance_df.reset_index(drop=True, inplace=True)\n",
    "\n",
    "\n",
    "display(importance_df)"
   ]
  },
  {
   "cell_type": "markdown",
   "id": "b8fb0a4d",
   "metadata": {},
   "source": [
    "Проверим гипотезы:\n",
    "\n",
    "1. Гипотеза о том, что лица с более высоким доходом имеют меньший риск кредитного дефолта.\n",
    "2. Заемщики, владеющие собственным жильем(предлагаю собственным жильем считать MORTGAGE и OWN), имеют более низкий риск кредитного дефолта.\n",
    "3. Заемщики, имеющие более высокий кредитный рейтинг, имеют меньшую вероятность кредитного дефолта, чем лица с низким кредитным рейтингом.\n",
    "4. Проверка на различие размера кредита у двух групп"
   ]
  },
  {
   "cell_type": "code",
   "execution_count": 47,
   "id": "7a0dfd7c",
   "metadata": {},
   "outputs": [
    {
     "name": "stdout",
     "output_type": "stream",
     "text": [
      "Гипотеза 1: P-значение: 4.296426008585372e-306\n"
     ]
    }
   ],
   "source": [
    "from scipy.stats import chi2_contingency, ttest_ind\n",
    "\n",
    "# Гипотеза №1\n",
    "high_income = df[df['annual_inc_joint'] > df['annual_inc_joint'].median()]['target']\n",
    "low_income = df[df['annual_inc_joint'] <= df['annual_inc_joint'].median()]['target']\n",
    "\n",
    "t_stat, p_val = ttest_ind(high_income, low_income)\n",
    "print('Гипотеза 1: P-значение:', p_val)"
   ]
  },
  {
   "cell_type": "markdown",
   "id": "ef96305a",
   "metadata": {},
   "source": [
    "Гипотеза 1: P-значение: 0.0"
   ]
  },
  {
   "cell_type": "code",
   "execution_count": 48,
   "id": "593c9f73",
   "metadata": {},
   "outputs": [
    {
     "name": "stdout",
     "output_type": "stream",
     "text": [
      "Гипотеза 2: P-значение: 1.1306737082436108e-151\n"
     ]
    }
   ],
   "source": [
    "# Гипотеза №2\n",
    "own_home = df[df['home_ownership'].isin(['MORTGAGE', 'OWN'])]['target']\n",
    "not_own_home = df[~df['home_ownership'].isin(['MORTGAGE', 'OWN'])]['target']\n",
    "\n",
    "# категориальные признаки, поэтому используем chi2\n",
    "chi2, p_val, dof, ex = chi2_contingency(pd.crosstab(df['home_ownership'].isin(['MORTGAGE', 'OWN']), df['target']))\n",
    "\n",
    "print('Гипотеза 2: P-значение:', p_val)"
   ]
  },
  {
   "cell_type": "markdown",
   "id": "c4f54d8f",
   "metadata": {},
   "source": [
    "Гипотеза 2: P-значение: 1.6598126115285543e-219"
   ]
  },
  {
   "cell_type": "code",
   "execution_count": 49,
   "id": "5a4e3cc9",
   "metadata": {},
   "outputs": [
    {
     "name": "stdout",
     "output_type": "stream",
     "text": [
      "Гипотеза 3: P-значение: 0.0\n"
     ]
    }
   ],
   "source": [
    "# Гипотеза №3\n",
    "# Разделяем данные на две группы: заемщики с высоким и низким рейтингом\n",
    "high_grade = df[df[\"grade\"] >= df[\"grade\"].median()][\"target\"]\n",
    "low_grade = df[df[\"grade\"] < df[\"grade\"].median()][\"target\"]\n",
    "\n",
    "# Применяем t-тест Стьюдента\n",
    "t_stat, p_val = ttest_ind(high_grade, low_grade)\n",
    "\n",
    "# Выводим результаты\n",
    "print('Гипотеза 3: P-значение:', p_val)"
   ]
  },
  {
   "cell_type": "markdown",
   "id": "fdfcf18e",
   "metadata": {},
   "source": [
    "Гипотеза 3: P-значение: 0.0\n",
    "\n",
    "P-значение меньше 0.05 говорит о том, что мы можем отвергнуть нулевые гипотезы (о равенстве средних или независимости в случае категориальных переменных)"
   ]
  },
  {
   "cell_type": "code",
   "execution_count": 50,
   "id": "41883ccc",
   "metadata": {},
   "outputs": [
    {
     "name": "stdout",
     "output_type": "stream",
     "text": [
      "p-значение: 0.0\n",
      "Отвергаем нулевую гипотезу,  средний размер двух ген совокупнсотей (с риском и без) различен\n"
     ]
    }
   ],
   "source": [
    "# Гипотеза №4\n",
    "from scipy import stats as st\n",
    "\n",
    "sample_1 = df[df['target']==1]['loan_amnt']\n",
    "sample_2 = df[df['target']==0]['loan_amnt']\n",
    "\n",
    "alpha = 0.05 # уровень статистической значимости\n",
    "# если p-value окажется меньше него, отвергнем гипотезу\n",
    "\n",
    "results = st.ttest_ind(sample_1, sample_2, equal_var = False)\n",
    "\n",
    "print('p-значение:', results.pvalue)\n",
    "\n",
    "if results.pvalue < alpha:\n",
    "    print('Отвергаем нулевую гипотезу,  средний размер двух ген совокупнсотей (с риском и без) различен')\n",
    "else:\n",
    "    print('Не получилось отвергнуть нулевую гипотезу')"
   ]
  },
  {
   "cell_type": "code",
   "execution_count": null,
   "id": "9a71d0fd",
   "metadata": {},
   "outputs": [],
   "source": []
  },
  {
   "cell_type": "code",
   "execution_count": null,
   "id": "5745f3af",
   "metadata": {},
   "outputs": [],
   "source": []
  }
 ],
 "metadata": {
  "accelerator": "TPU",
  "colab": {
   "provenance": []
  },
  "kernelspec": {
   "display_name": "Python 3 (ipykernel)",
   "language": "python",
   "name": "python3"
  },
  "language_info": {
   "codemirror_mode": {
    "name": "ipython",
    "version": 3
   },
   "file_extension": ".py",
   "mimetype": "text/x-python",
   "name": "python",
   "nbconvert_exporter": "python",
   "pygments_lexer": "ipython3",
   "version": "3.10.9"
  }
 },
 "nbformat": 4,
 "nbformat_minor": 5
}
