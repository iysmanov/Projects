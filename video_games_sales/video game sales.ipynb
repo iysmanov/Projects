{
 "cells": [
  {
   "cell_type": "markdown",
   "metadata": {},
   "source": [
    "<div style=\"border:solid steelblue 1px; padding: 20px\">\n",
    "Описание проекта \"Продажи видеоигр\"\n",
    "\n",
    "Вы работаете в интернет-магазине «Стримчик», который продаёт по всему миру компьютерные игры. Из открытых источников доступны исторические данные о продажах игр, оценки пользователей и экспертов, жанры и платформы (например, Xbox или PlayStation). Вам нужно выявить определяющие успешность игры закономерности. Это позволит сделать ставку на потенциально популярный продукт и спланировать рекламные кампании.\n",
    "\n",
    "<br />Вам нужно выявить определяющие успешность игры закономерности. Это позволит сделать ставку на потенциально популярный продукт и спланировать рекламные кампании.\n",
    "<br /> Описание данных\n",
    "\n",
    "<br /> Name — название игры\n",
    "<br /> Platform — платформа \n",
    "<br /> Year_of_Release — год выпуска\n",
    "<br /> Genre — жанр игры\n",
    "<br /> NA_sales — продажи в Северной Америке (миллионы проданных копий)\n",
    "<br /> EU_sales — продажи в Европе (миллионы проданных копий)\n",
    "<br /> JP_sales — продажи в Японии (миллионы проданных копий)\n",
    "<br /> Other_sales — продажи в других странах (миллионы проданных копий)\n",
    "<br /> Critic_Score — оценка критиков (максимум 100)\n",
    "<br /> User_Score — оценка пользователей (максимум 10)\n",
    "\n",
    "Rating — рейтинг от организации ESRB (англ. Entertainment Software Rating Board). Эта ассоциация определяет рейтинг компьютерных игр и присваивает им подходящую возрастную категорию.\n",
    "<br /> Данные за 2016 год могут быть неполными."
   ]
  },
  {
   "cell_type": "code",
   "execution_count": 2,
   "metadata": {},
   "outputs": [],
   "source": [
    "import pandas as pd\n",
    "import matplotlib.pyplot as plt\n",
    "from scipy import stats as st\n",
    "import numpy as np"
   ]
  },
  {
   "cell_type": "markdown",
   "metadata": {},
   "source": [
    "## Обзор данных"
   ]
  },
  {
   "cell_type": "code",
   "execution_count": 3,
   "metadata": {},
   "outputs": [],
   "source": [
    "data = pd.read_csv('/datasets/games.csv')"
   ]
  },
  {
   "cell_type": "code",
   "execution_count": 4,
   "metadata": {
    "scrolled": true
   },
   "outputs": [
    {
     "data": {
      "text/html": [
       "<div>\n",
       "<style scoped>\n",
       "    .dataframe tbody tr th:only-of-type {\n",
       "        vertical-align: middle;\n",
       "    }\n",
       "\n",
       "    .dataframe tbody tr th {\n",
       "        vertical-align: top;\n",
       "    }\n",
       "\n",
       "    .dataframe thead th {\n",
       "        text-align: right;\n",
       "    }\n",
       "</style>\n",
       "<table border=\"1\" class=\"dataframe\">\n",
       "  <thead>\n",
       "    <tr style=\"text-align: right;\">\n",
       "      <th></th>\n",
       "      <th>Name</th>\n",
       "      <th>Platform</th>\n",
       "      <th>Year_of_Release</th>\n",
       "      <th>Genre</th>\n",
       "      <th>NA_sales</th>\n",
       "      <th>EU_sales</th>\n",
       "      <th>JP_sales</th>\n",
       "      <th>Other_sales</th>\n",
       "      <th>Critic_Score</th>\n",
       "      <th>User_Score</th>\n",
       "      <th>Rating</th>\n",
       "    </tr>\n",
       "  </thead>\n",
       "  <tbody>\n",
       "    <tr>\n",
       "      <th>0</th>\n",
       "      <td>Wii Sports</td>\n",
       "      <td>Wii</td>\n",
       "      <td>2006.0</td>\n",
       "      <td>Sports</td>\n",
       "      <td>41.36</td>\n",
       "      <td>28.96</td>\n",
       "      <td>3.77</td>\n",
       "      <td>8.45</td>\n",
       "      <td>76.0</td>\n",
       "      <td>8</td>\n",
       "      <td>E</td>\n",
       "    </tr>\n",
       "    <tr>\n",
       "      <th>1</th>\n",
       "      <td>Super Mario Bros.</td>\n",
       "      <td>NES</td>\n",
       "      <td>1985.0</td>\n",
       "      <td>Platform</td>\n",
       "      <td>29.08</td>\n",
       "      <td>3.58</td>\n",
       "      <td>6.81</td>\n",
       "      <td>0.77</td>\n",
       "      <td>NaN</td>\n",
       "      <td>NaN</td>\n",
       "      <td>NaN</td>\n",
       "    </tr>\n",
       "    <tr>\n",
       "      <th>2</th>\n",
       "      <td>Mario Kart Wii</td>\n",
       "      <td>Wii</td>\n",
       "      <td>2008.0</td>\n",
       "      <td>Racing</td>\n",
       "      <td>15.68</td>\n",
       "      <td>12.76</td>\n",
       "      <td>3.79</td>\n",
       "      <td>3.29</td>\n",
       "      <td>82.0</td>\n",
       "      <td>8.3</td>\n",
       "      <td>E</td>\n",
       "    </tr>\n",
       "    <tr>\n",
       "      <th>3</th>\n",
       "      <td>Wii Sports Resort</td>\n",
       "      <td>Wii</td>\n",
       "      <td>2009.0</td>\n",
       "      <td>Sports</td>\n",
       "      <td>15.61</td>\n",
       "      <td>10.93</td>\n",
       "      <td>3.28</td>\n",
       "      <td>2.95</td>\n",
       "      <td>80.0</td>\n",
       "      <td>8</td>\n",
       "      <td>E</td>\n",
       "    </tr>\n",
       "    <tr>\n",
       "      <th>4</th>\n",
       "      <td>Pokemon Red/Pokemon Blue</td>\n",
       "      <td>GB</td>\n",
       "      <td>1996.0</td>\n",
       "      <td>Role-Playing</td>\n",
       "      <td>11.27</td>\n",
       "      <td>8.89</td>\n",
       "      <td>10.22</td>\n",
       "      <td>1.00</td>\n",
       "      <td>NaN</td>\n",
       "      <td>NaN</td>\n",
       "      <td>NaN</td>\n",
       "    </tr>\n",
       "    <tr>\n",
       "      <th>...</th>\n",
       "      <td>...</td>\n",
       "      <td>...</td>\n",
       "      <td>...</td>\n",
       "      <td>...</td>\n",
       "      <td>...</td>\n",
       "      <td>...</td>\n",
       "      <td>...</td>\n",
       "      <td>...</td>\n",
       "      <td>...</td>\n",
       "      <td>...</td>\n",
       "      <td>...</td>\n",
       "    </tr>\n",
       "    <tr>\n",
       "      <th>16710</th>\n",
       "      <td>Samurai Warriors: Sanada Maru</td>\n",
       "      <td>PS3</td>\n",
       "      <td>2016.0</td>\n",
       "      <td>Action</td>\n",
       "      <td>0.00</td>\n",
       "      <td>0.00</td>\n",
       "      <td>0.01</td>\n",
       "      <td>0.00</td>\n",
       "      <td>NaN</td>\n",
       "      <td>NaN</td>\n",
       "      <td>NaN</td>\n",
       "    </tr>\n",
       "    <tr>\n",
       "      <th>16711</th>\n",
       "      <td>LMA Manager 2007</td>\n",
       "      <td>X360</td>\n",
       "      <td>2006.0</td>\n",
       "      <td>Sports</td>\n",
       "      <td>0.00</td>\n",
       "      <td>0.01</td>\n",
       "      <td>0.00</td>\n",
       "      <td>0.00</td>\n",
       "      <td>NaN</td>\n",
       "      <td>NaN</td>\n",
       "      <td>NaN</td>\n",
       "    </tr>\n",
       "    <tr>\n",
       "      <th>16712</th>\n",
       "      <td>Haitaka no Psychedelica</td>\n",
       "      <td>PSV</td>\n",
       "      <td>2016.0</td>\n",
       "      <td>Adventure</td>\n",
       "      <td>0.00</td>\n",
       "      <td>0.00</td>\n",
       "      <td>0.01</td>\n",
       "      <td>0.00</td>\n",
       "      <td>NaN</td>\n",
       "      <td>NaN</td>\n",
       "      <td>NaN</td>\n",
       "    </tr>\n",
       "    <tr>\n",
       "      <th>16713</th>\n",
       "      <td>Spirits &amp; Spells</td>\n",
       "      <td>GBA</td>\n",
       "      <td>2003.0</td>\n",
       "      <td>Platform</td>\n",
       "      <td>0.01</td>\n",
       "      <td>0.00</td>\n",
       "      <td>0.00</td>\n",
       "      <td>0.00</td>\n",
       "      <td>NaN</td>\n",
       "      <td>NaN</td>\n",
       "      <td>NaN</td>\n",
       "    </tr>\n",
       "    <tr>\n",
       "      <th>16714</th>\n",
       "      <td>Winning Post 8 2016</td>\n",
       "      <td>PSV</td>\n",
       "      <td>2016.0</td>\n",
       "      <td>Simulation</td>\n",
       "      <td>0.00</td>\n",
       "      <td>0.00</td>\n",
       "      <td>0.01</td>\n",
       "      <td>0.00</td>\n",
       "      <td>NaN</td>\n",
       "      <td>NaN</td>\n",
       "      <td>NaN</td>\n",
       "    </tr>\n",
       "  </tbody>\n",
       "</table>\n",
       "<p>16715 rows × 11 columns</p>\n",
       "</div>"
      ],
      "text/plain": [
       "                                Name Platform  Year_of_Release         Genre  \\\n",
       "0                         Wii Sports      Wii           2006.0        Sports   \n",
       "1                  Super Mario Bros.      NES           1985.0      Platform   \n",
       "2                     Mario Kart Wii      Wii           2008.0        Racing   \n",
       "3                  Wii Sports Resort      Wii           2009.0        Sports   \n",
       "4           Pokemon Red/Pokemon Blue       GB           1996.0  Role-Playing   \n",
       "...                              ...      ...              ...           ...   \n",
       "16710  Samurai Warriors: Sanada Maru      PS3           2016.0        Action   \n",
       "16711               LMA Manager 2007     X360           2006.0        Sports   \n",
       "16712        Haitaka no Psychedelica      PSV           2016.0     Adventure   \n",
       "16713               Spirits & Spells      GBA           2003.0      Platform   \n",
       "16714            Winning Post 8 2016      PSV           2016.0    Simulation   \n",
       "\n",
       "       NA_sales  EU_sales  JP_sales  Other_sales  Critic_Score User_Score  \\\n",
       "0         41.36     28.96      3.77         8.45          76.0          8   \n",
       "1         29.08      3.58      6.81         0.77           NaN        NaN   \n",
       "2         15.68     12.76      3.79         3.29          82.0        8.3   \n",
       "3         15.61     10.93      3.28         2.95          80.0          8   \n",
       "4         11.27      8.89     10.22         1.00           NaN        NaN   \n",
       "...         ...       ...       ...          ...           ...        ...   \n",
       "16710      0.00      0.00      0.01         0.00           NaN        NaN   \n",
       "16711      0.00      0.01      0.00         0.00           NaN        NaN   \n",
       "16712      0.00      0.00      0.01         0.00           NaN        NaN   \n",
       "16713      0.01      0.00      0.00         0.00           NaN        NaN   \n",
       "16714      0.00      0.00      0.01         0.00           NaN        NaN   \n",
       "\n",
       "      Rating  \n",
       "0          E  \n",
       "1        NaN  \n",
       "2          E  \n",
       "3          E  \n",
       "4        NaN  \n",
       "...      ...  \n",
       "16710    NaN  \n",
       "16711    NaN  \n",
       "16712    NaN  \n",
       "16713    NaN  \n",
       "16714    NaN  \n",
       "\n",
       "[16715 rows x 11 columns]"
      ]
     },
     "execution_count": 4,
     "metadata": {},
     "output_type": "execute_result"
    }
   ],
   "source": [
    "data"
   ]
  },
  {
   "cell_type": "code",
   "execution_count": 5,
   "metadata": {},
   "outputs": [
    {
     "name": "stdout",
     "output_type": "stream",
     "text": [
      "<class 'pandas.core.frame.DataFrame'>\n",
      "RangeIndex: 16715 entries, 0 to 16714\n",
      "Data columns (total 11 columns):\n",
      " #   Column           Non-Null Count  Dtype  \n",
      "---  ------           --------------  -----  \n",
      " 0   Name             16713 non-null  object \n",
      " 1   Platform         16715 non-null  object \n",
      " 2   Year_of_Release  16446 non-null  float64\n",
      " 3   Genre            16713 non-null  object \n",
      " 4   NA_sales         16715 non-null  float64\n",
      " 5   EU_sales         16715 non-null  float64\n",
      " 6   JP_sales         16715 non-null  float64\n",
      " 7   Other_sales      16715 non-null  float64\n",
      " 8   Critic_Score     8137 non-null   float64\n",
      " 9   User_Score       10014 non-null  object \n",
      " 10  Rating           9949 non-null   object \n",
      "dtypes: float64(6), object(5)\n",
      "memory usage: 1.4+ MB\n"
     ]
    }
   ],
   "source": [
    "data.info()"
   ]
  },
  {
   "cell_type": "code",
   "execution_count": 6,
   "metadata": {},
   "outputs": [
    {
     "data": {
      "text/html": [
       "<div>\n",
       "<style scoped>\n",
       "    .dataframe tbody tr th:only-of-type {\n",
       "        vertical-align: middle;\n",
       "    }\n",
       "\n",
       "    .dataframe tbody tr th {\n",
       "        vertical-align: top;\n",
       "    }\n",
       "\n",
       "    .dataframe thead th {\n",
       "        text-align: right;\n",
       "    }\n",
       "</style>\n",
       "<table border=\"1\" class=\"dataframe\">\n",
       "  <thead>\n",
       "    <tr style=\"text-align: right;\">\n",
       "      <th></th>\n",
       "      <th>Year_of_Release</th>\n",
       "      <th>NA_sales</th>\n",
       "      <th>EU_sales</th>\n",
       "      <th>JP_sales</th>\n",
       "      <th>Other_sales</th>\n",
       "      <th>Critic_Score</th>\n",
       "    </tr>\n",
       "  </thead>\n",
       "  <tbody>\n",
       "    <tr>\n",
       "      <th>count</th>\n",
       "      <td>16446.000000</td>\n",
       "      <td>16715.000000</td>\n",
       "      <td>16715.000000</td>\n",
       "      <td>16715.000000</td>\n",
       "      <td>16715.000000</td>\n",
       "      <td>8137.000000</td>\n",
       "    </tr>\n",
       "    <tr>\n",
       "      <th>mean</th>\n",
       "      <td>2006.484616</td>\n",
       "      <td>0.263377</td>\n",
       "      <td>0.145060</td>\n",
       "      <td>0.077617</td>\n",
       "      <td>0.047342</td>\n",
       "      <td>68.967679</td>\n",
       "    </tr>\n",
       "    <tr>\n",
       "      <th>std</th>\n",
       "      <td>5.877050</td>\n",
       "      <td>0.813604</td>\n",
       "      <td>0.503339</td>\n",
       "      <td>0.308853</td>\n",
       "      <td>0.186731</td>\n",
       "      <td>13.938165</td>\n",
       "    </tr>\n",
       "    <tr>\n",
       "      <th>min</th>\n",
       "      <td>1980.000000</td>\n",
       "      <td>0.000000</td>\n",
       "      <td>0.000000</td>\n",
       "      <td>0.000000</td>\n",
       "      <td>0.000000</td>\n",
       "      <td>13.000000</td>\n",
       "    </tr>\n",
       "    <tr>\n",
       "      <th>25%</th>\n",
       "      <td>2003.000000</td>\n",
       "      <td>0.000000</td>\n",
       "      <td>0.000000</td>\n",
       "      <td>0.000000</td>\n",
       "      <td>0.000000</td>\n",
       "      <td>60.000000</td>\n",
       "    </tr>\n",
       "    <tr>\n",
       "      <th>50%</th>\n",
       "      <td>2007.000000</td>\n",
       "      <td>0.080000</td>\n",
       "      <td>0.020000</td>\n",
       "      <td>0.000000</td>\n",
       "      <td>0.010000</td>\n",
       "      <td>71.000000</td>\n",
       "    </tr>\n",
       "    <tr>\n",
       "      <th>75%</th>\n",
       "      <td>2010.000000</td>\n",
       "      <td>0.240000</td>\n",
       "      <td>0.110000</td>\n",
       "      <td>0.040000</td>\n",
       "      <td>0.030000</td>\n",
       "      <td>79.000000</td>\n",
       "    </tr>\n",
       "    <tr>\n",
       "      <th>max</th>\n",
       "      <td>2016.000000</td>\n",
       "      <td>41.360000</td>\n",
       "      <td>28.960000</td>\n",
       "      <td>10.220000</td>\n",
       "      <td>10.570000</td>\n",
       "      <td>98.000000</td>\n",
       "    </tr>\n",
       "  </tbody>\n",
       "</table>\n",
       "</div>"
      ],
      "text/plain": [
       "       Year_of_Release      NA_sales      EU_sales      JP_sales  \\\n",
       "count     16446.000000  16715.000000  16715.000000  16715.000000   \n",
       "mean       2006.484616      0.263377      0.145060      0.077617   \n",
       "std           5.877050      0.813604      0.503339      0.308853   \n",
       "min        1980.000000      0.000000      0.000000      0.000000   \n",
       "25%        2003.000000      0.000000      0.000000      0.000000   \n",
       "50%        2007.000000      0.080000      0.020000      0.000000   \n",
       "75%        2010.000000      0.240000      0.110000      0.040000   \n",
       "max        2016.000000     41.360000     28.960000     10.220000   \n",
       "\n",
       "        Other_sales  Critic_Score  \n",
       "count  16715.000000   8137.000000  \n",
       "mean       0.047342     68.967679  \n",
       "std        0.186731     13.938165  \n",
       "min        0.000000     13.000000  \n",
       "25%        0.000000     60.000000  \n",
       "50%        0.010000     71.000000  \n",
       "75%        0.030000     79.000000  \n",
       "max       10.570000     98.000000  "
      ]
     },
     "execution_count": 6,
     "metadata": {},
     "output_type": "execute_result"
    }
   ],
   "source": [
    "data.describe()"
   ]
  },
  {
   "cell_type": "markdown",
   "metadata": {},
   "source": [
    "- Необходимо изменить тип данных в Year_of_Release, User_Score - на инт (тк толко год) и флоат соответственно."
   ]
  },
  {
   "cell_type": "markdown",
   "metadata": {},
   "source": [
    "Проверим количество пропусков в процентах - если пропусков меньше 5% можем смело от них избавляться, это не повредит данные. Так же посмотрим сумарно пропуски по столбцам."
   ]
  },
  {
   "cell_type": "code",
   "execution_count": 7,
   "metadata": {},
   "outputs": [
    {
     "data": {
      "text/html": [
       "<style  type=\"text/css\" >\n",
       "#T_33a49_row0_col0,#T_33a49_row1_col0,#T_33a49_row3_col0,#T_33a49_row4_col0,#T_33a49_row5_col0,#T_33a49_row6_col0,#T_33a49_row7_col0{\n",
       "            background-color:  #fff7fb;\n",
       "            color:  #000000;\n",
       "        }#T_33a49_row2_col0{\n",
       "            background-color:  #faf3f9;\n",
       "            color:  #000000;\n",
       "        }#T_33a49_row8_col0{\n",
       "            background-color:  #023858;\n",
       "            color:  #f1f1f1;\n",
       "        }#T_33a49_row9_col0{\n",
       "            background-color:  #056ba7;\n",
       "            color:  #f1f1f1;\n",
       "        }#T_33a49_row10_col0{\n",
       "            background-color:  #0569a5;\n",
       "            color:  #f1f1f1;\n",
       "        }</style><table id=\"T_33a49_\" ><thead>    <tr>        <th class=\"blank level0\" ></th>        <th class=\"col_heading level0 col0\" >0</th>    </tr></thead><tbody>\n",
       "                <tr>\n",
       "                        <th id=\"T_33a49_level0_row0\" class=\"row_heading level0 row0\" >Name</th>\n",
       "                        <td id=\"T_33a49_row0_col0\" class=\"data row0 col0\" >2</td>\n",
       "            </tr>\n",
       "            <tr>\n",
       "                        <th id=\"T_33a49_level0_row1\" class=\"row_heading level0 row1\" >Platform</th>\n",
       "                        <td id=\"T_33a49_row1_col0\" class=\"data row1 col0\" >0</td>\n",
       "            </tr>\n",
       "            <tr>\n",
       "                        <th id=\"T_33a49_level0_row2\" class=\"row_heading level0 row2\" >Year_of_Release</th>\n",
       "                        <td id=\"T_33a49_row2_col0\" class=\"data row2 col0\" >269</td>\n",
       "            </tr>\n",
       "            <tr>\n",
       "                        <th id=\"T_33a49_level0_row3\" class=\"row_heading level0 row3\" >Genre</th>\n",
       "                        <td id=\"T_33a49_row3_col0\" class=\"data row3 col0\" >2</td>\n",
       "            </tr>\n",
       "            <tr>\n",
       "                        <th id=\"T_33a49_level0_row4\" class=\"row_heading level0 row4\" >NA_sales</th>\n",
       "                        <td id=\"T_33a49_row4_col0\" class=\"data row4 col0\" >0</td>\n",
       "            </tr>\n",
       "            <tr>\n",
       "                        <th id=\"T_33a49_level0_row5\" class=\"row_heading level0 row5\" >EU_sales</th>\n",
       "                        <td id=\"T_33a49_row5_col0\" class=\"data row5 col0\" >0</td>\n",
       "            </tr>\n",
       "            <tr>\n",
       "                        <th id=\"T_33a49_level0_row6\" class=\"row_heading level0 row6\" >JP_sales</th>\n",
       "                        <td id=\"T_33a49_row6_col0\" class=\"data row6 col0\" >0</td>\n",
       "            </tr>\n",
       "            <tr>\n",
       "                        <th id=\"T_33a49_level0_row7\" class=\"row_heading level0 row7\" >Other_sales</th>\n",
       "                        <td id=\"T_33a49_row7_col0\" class=\"data row7 col0\" >0</td>\n",
       "            </tr>\n",
       "            <tr>\n",
       "                        <th id=\"T_33a49_level0_row8\" class=\"row_heading level0 row8\" >Critic_Score</th>\n",
       "                        <td id=\"T_33a49_row8_col0\" class=\"data row8 col0\" >8578</td>\n",
       "            </tr>\n",
       "            <tr>\n",
       "                        <th id=\"T_33a49_level0_row9\" class=\"row_heading level0 row9\" >User_Score</th>\n",
       "                        <td id=\"T_33a49_row9_col0\" class=\"data row9 col0\" >6701</td>\n",
       "            </tr>\n",
       "            <tr>\n",
       "                        <th id=\"T_33a49_level0_row10\" class=\"row_heading level0 row10\" >Rating</th>\n",
       "                        <td id=\"T_33a49_row10_col0\" class=\"data row10 col0\" >6766</td>\n",
       "            </tr>\n",
       "    </tbody></table>"
      ],
      "text/plain": [
       "<pandas.io.formats.style.Styler at 0x7faef00e73a0>"
      ]
     },
     "execution_count": 7,
     "metadata": {},
     "output_type": "execute_result"
    }
   ],
   "source": [
    "pd.DataFrame(data.isna().sum()).style.background_gradient()"
   ]
  },
  {
   "cell_type": "markdown",
   "metadata": {},
   "source": [
    "<div style=\"border:solid steelblue 1px; padding: 20px\">\n",
    "Видим, что от пропусков в столбцах Name, Genre, Year_of_Release можем избавиться, тк их менее 5% от дата фрейма.\n",
    "\n",
    "Заполнить пропуски необходимо в таких столбцах, как Critic_Score, User_Score, Rating - от строк с пропусками избавиться нельзя, тк таких данных от 40 до 50% от датафрейма. \n",
    "\n",
    "Так же в задании к проекту было сказано, что в столбце User_Score есть значение 'tbd' - to be defined (будет определено). Выяснил, что данное значение является обычным для игровой индустрии сокращением и означает, что, если мы говорим о рейтинге, он еще не сформирован, мб из-за недотстака количества отзывовлибо же неотображения их. \n",
    "\n",
    "В любом случае, не вижу возможным заполнить данное значение каким-либо числовым показателем и считаю верным присвоить ему значение NaN (отсутствия данных)."
   ]
  },
  {
   "cell_type": "code",
   "execution_count": 8,
   "metadata": {},
   "outputs": [
    {
     "data": {
      "text/plain": [
       "2424"
      ]
     },
     "execution_count": 8,
     "metadata": {},
     "output_type": "execute_result"
    }
   ],
   "source": [
    "data[data['User_Score'] == 'tbd']['User_Score'].count()\n",
    "#необходимо поменять значения в 2424 строках"
   ]
  },
  {
   "cell_type": "code",
   "execution_count": 9,
   "metadata": {},
   "outputs": [
    {
     "data": {
      "text/plain": [
       "0"
      ]
     },
     "execution_count": 9,
     "metadata": {},
     "output_type": "execute_result"
    }
   ],
   "source": [
    "data.duplicated().sum()\n",
    "#дубликаты отсутствуют, однако стоит привести названия игр к одному виду и проверить еще раз"
   ]
  },
  {
   "cell_type": "markdown",
   "metadata": {},
   "source": [
    "<div style=\"border:solid steelblue 1px; padding: 20px\">\n",
    "    При первичном анализе данных были выявлены следующие аспекты на предобработку:\n",
    "\n",
    "1) изменение названий столбцов\n",
    "2) изменение названий игры и дополнительная проверка на дубликаты\n",
    "3) заполнение и удаление пропусков\n",
    "4) изменение типов данных\n",
    "5) необходимо по заданию собрать еще один столбец - суммарная продажа игры\n"
   ]
  },
  {
   "cell_type": "markdown",
   "metadata": {},
   "source": [
    "## Предобработка данных"
   ]
  },
  {
   "cell_type": "markdown",
   "metadata": {},
   "source": [
    "### Измение названия \n",
    "Приведем названия столбцов и названия игр к нижнему регистру"
   ]
  },
  {
   "cell_type": "code",
   "execution_count": 12,
   "metadata": {},
   "outputs": [],
   "source": [
    "data.columns = data.columns.str.lower()"
   ]
  },
  {
   "cell_type": "code",
   "execution_count": 13,
   "metadata": {},
   "outputs": [],
   "source": [
    "data['name'] = data['name'].str.lower()"
   ]
  },
  {
   "cell_type": "code",
   "execution_count": 14,
   "metadata": {},
   "outputs": [
    {
     "data": {
      "text/plain": [
       "0"
      ]
     },
     "execution_count": 14,
     "metadata": {},
     "output_type": "execute_result"
    }
   ],
   "source": [
    "#проверим дубликаты после изменения - их нет\n",
    "data.duplicated().sum()"
   ]
  },
  {
   "cell_type": "markdown",
   "metadata": {},
   "source": [
    "### Уберем пропуски "
   ]
  },
  {
   "cell_type": "markdown",
   "metadata": {},
   "source": [
    "- Отбросим данные, пропуски в которых составляют менее 5% "
   ]
  },
  {
   "cell_type": "code",
   "execution_count": 15,
   "metadata": {},
   "outputs": [],
   "source": [
    "data.dropna(subset=['name'], inplace=True)"
   ]
  },
  {
   "cell_type": "code",
   "execution_count": 16,
   "metadata": {},
   "outputs": [],
   "source": [
    "data.dropna(subset=['year_of_release'], inplace=True)"
   ]
  },
  {
   "cell_type": "code",
   "execution_count": 17,
   "metadata": {},
   "outputs": [],
   "source": [
    "data.dropna(subset=['genre'], inplace=True)"
   ]
  },
  {
   "cell_type": "markdown",
   "metadata": {},
   "source": [
    "- Пропуски в рейтинге заполним значением \"не определено\" (RP)"
   ]
  },
  {
   "cell_type": "code",
   "execution_count": 18,
   "metadata": {
    "scrolled": true
   },
   "outputs": [
    {
     "data": {
      "text/plain": [
       "array(['E', nan, 'M', 'T', 'E10+', 'K-A', 'AO', 'EC', 'RP'], dtype=object)"
      ]
     },
     "execution_count": 18,
     "metadata": {},
     "output_type": "execute_result"
    }
   ],
   "source": [
    "data['rating'].unique()"
   ]
  },
  {
   "cell_type": "code",
   "execution_count": 19,
   "metadata": {
    "scrolled": true
   },
   "outputs": [],
   "source": [
    "data['rating'] = data['rating'].fillna('RP')"
   ]
  },
  {
   "cell_type": "code",
   "execution_count": 24,
   "metadata": {
    "scrolled": true
   },
   "outputs": [
    {
     "data": {
      "text/plain": [
       "array(['e', 'rp', 'm', 't', 'e10+', 'k-a', 'ao', 'ec'], dtype=object)"
      ]
     },
     "execution_count": 24,
     "metadata": {},
     "output_type": "execute_result"
    }
   ],
   "source": [
    "data['rating'] = data['rating'].str.lower()\n",
    "data['rating'].unique()"
   ]
  },
  {
   "cell_type": "code",
   "execution_count": null,
   "metadata": {},
   "outputs": [],
   "source": [
    "rating_mapping = {'ec': 0, 'e': 1, 'e10+': 2, 't': 3, 'm': 4,\n",
    "                 'ao': 5, 'k-a': 1}\n",
    "\n",
    "# Применить словарь к столбцу 'sub_grade'\n",
    "data['rating'] = data['rating'].map(rating_mapping)"
   ]
  },
  {
   "cell_type": "code",
   "execution_count": 26,
   "metadata": {},
   "outputs": [
    {
     "data": {
      "text/plain": [
       "array(['1', 'rp', '4', '3', '110+', '5', '0'], dtype=object)"
      ]
     },
     "execution_count": 26,
     "metadata": {},
     "output_type": "execute_result"
    }
   ],
   "source": [
    "data['rating'].unique()"
   ]
  },
  {
   "cell_type": "code",
   "execution_count": 27,
   "metadata": {},
   "outputs": [
    {
     "data": {
      "text/plain": [
       "name                  0\n",
       "platform              0\n",
       "year_of_release       0\n",
       "genre                 0\n",
       "na_sales              0\n",
       "eu_sales              0\n",
       "jp_sales              0\n",
       "other_sales           0\n",
       "critic_score       8461\n",
       "user_score         6605\n",
       "rating                0\n",
       "dtype: int64"
      ]
     },
     "execution_count": 27,
     "metadata": {},
     "output_type": "execute_result"
    }
   ],
   "source": [
    "#проверим изменения\n",
    "data.isna().sum()"
   ]
  },
  {
   "cell_type": "code",
   "execution_count": 28,
   "metadata": {},
   "outputs": [
    {
     "name": "stdout",
     "output_type": "stream",
     "text": [
      "<class 'pandas.core.frame.DataFrame'>\n",
      "Int64Index: 16444 entries, 0 to 16714\n",
      "Data columns (total 11 columns):\n",
      " #   Column           Non-Null Count  Dtype  \n",
      "---  ------           --------------  -----  \n",
      " 0   name             16444 non-null  object \n",
      " 1   platform         16444 non-null  object \n",
      " 2   year_of_release  16444 non-null  float64\n",
      " 3   genre            16444 non-null  object \n",
      " 4   na_sales         16444 non-null  float64\n",
      " 5   eu_sales         16444 non-null  float64\n",
      " 6   jp_sales         16444 non-null  float64\n",
      " 7   other_sales      16444 non-null  float64\n",
      " 8   critic_score     7983 non-null   float64\n",
      " 9   user_score       9839 non-null   object \n",
      " 10  rating           16444 non-null  object \n",
      "dtypes: float64(6), object(5)\n",
      "memory usage: 1.5+ MB\n"
     ]
    }
   ],
   "source": [
    "data.info()"
   ]
  },
  {
   "cell_type": "markdown",
   "metadata": {},
   "source": [
    "### Изменение типов данных"
   ]
  },
  {
   "cell_type": "markdown",
   "metadata": {},
   "source": [
    "- Не вижу необходимым менять тип данных в году выхода игры на дататайм, тк там указан только год. Изменим на инт"
   ]
  },
  {
   "cell_type": "code",
   "execution_count": 29,
   "metadata": {},
   "outputs": [],
   "source": [
    "data['year_of_release'] = pd.to_datetime(\n",
    "    data['year_of_release'], format='%Y')\n",
    "data['year_of_release'] = pd.DatetimeIndex(data['year_of_release']).year"
   ]
  },
  {
   "cell_type": "markdown",
   "metadata": {},
   "source": [
    "- С изменением типов данных в 'user_score' сразу уберим и значение \"tbd\"."
   ]
  },
  {
   "cell_type": "code",
   "execution_count": 30,
   "metadata": {},
   "outputs": [],
   "source": [
    "data['user_score'] = pd.to_numeric(data['user_score'], errors = 'coerce')"
   ]
  },
  {
   "cell_type": "code",
   "execution_count": 31,
   "metadata": {},
   "outputs": [
    {
     "data": {
      "text/plain": [
       "array([8. , nan, 8.3, 8.5, 6.6, 8.4, 8.6, 7.7, 6.3, 7.4, 8.2, 9. , 7.9,\n",
       "       8.1, 8.7, 7.1, 3.4, 5.3, 4.8, 3.2, 8.9, 6.4, 7.8, 7.5, 2.6, 7.2,\n",
       "       9.2, 7. , 7.3, 4.3, 7.6, 5.7, 5. , 9.1, 6.5, 8.8, 6.9, 9.4, 6.8,\n",
       "       6.1, 6.7, 5.4, 4. , 4.9, 4.5, 9.3, 6.2, 4.2, 6. , 3.7, 4.1, 5.8,\n",
       "       5.6, 5.5, 4.4, 4.6, 5.9, 3.9, 3.1, 2.9, 5.2, 3.3, 4.7, 5.1, 3.5,\n",
       "       2.5, 1.9, 3. , 2.7, 2.2, 2. , 9.5, 2.1, 3.6, 2.8, 1.8, 3.8, 0. ,\n",
       "       1.6, 9.6, 2.4, 1.7, 1.1, 0.3, 1.5, 0.7, 1.2, 2.3, 0.5, 1.3, 0.2,\n",
       "       0.6, 1.4, 0.9, 1. , 9.7])"
      ]
     },
     "execution_count": 31,
     "metadata": {},
     "output_type": "execute_result"
    }
   ],
   "source": [
    "data['user_score'].unique()"
   ]
  },
  {
   "cell_type": "code",
   "execution_count": 32,
   "metadata": {},
   "outputs": [
    {
     "name": "stdout",
     "output_type": "stream",
     "text": [
      "<class 'pandas.core.frame.DataFrame'>\n",
      "Int64Index: 16444 entries, 0 to 16714\n",
      "Data columns (total 11 columns):\n",
      " #   Column           Non-Null Count  Dtype  \n",
      "---  ------           --------------  -----  \n",
      " 0   name             16444 non-null  object \n",
      " 1   platform         16444 non-null  object \n",
      " 2   year_of_release  16444 non-null  int64  \n",
      " 3   genre            16444 non-null  object \n",
      " 4   na_sales         16444 non-null  float64\n",
      " 5   eu_sales         16444 non-null  float64\n",
      " 6   jp_sales         16444 non-null  float64\n",
      " 7   other_sales      16444 non-null  float64\n",
      " 8   critic_score     7983 non-null   float64\n",
      " 9   user_score       7463 non-null   float64\n",
      " 10  rating           16444 non-null  object \n",
      "dtypes: float64(6), int64(1), object(4)\n",
      "memory usage: 1.5+ MB\n"
     ]
    }
   ],
   "source": [
    "data.info()"
   ]
  },
  {
   "cell_type": "markdown",
   "metadata": {},
   "source": [
    "Заметил повторы в названиях игры"
   ]
  },
  {
   "cell_type": "code",
   "execution_count": 33,
   "metadata": {},
   "outputs": [
    {
     "data": {
      "text/plain": [
       "need for speed: most wanted                      12\n",
       "fifa 14                                           9\n",
       "ratatouille                                       9\n",
       "lego marvel super heroes                          9\n",
       "cars                                              8\n",
       "                                                 ..\n",
       "itoi shigesato no bass tsuri no. 1 ketteihan!     1\n",
       "miyako                                            1\n",
       "age of empires iii                                1\n",
       "metal gear solid: snake eater 3d                  1\n",
       "singstar guitar                                   1\n",
       "Name: name, Length: 11426, dtype: int64"
      ]
     },
     "execution_count": 33,
     "metadata": {},
     "output_type": "execute_result"
    }
   ],
   "source": [
    "data['name'].value_counts()"
   ]
  },
  {
   "cell_type": "code",
   "execution_count": 34,
   "metadata": {},
   "outputs": [
    {
     "data": {
      "text/html": [
       "<div>\n",
       "<style scoped>\n",
       "    .dataframe tbody tr th:only-of-type {\n",
       "        vertical-align: middle;\n",
       "    }\n",
       "\n",
       "    .dataframe tbody tr th {\n",
       "        vertical-align: top;\n",
       "    }\n",
       "\n",
       "    .dataframe thead th {\n",
       "        text-align: right;\n",
       "    }\n",
       "</style>\n",
       "<table border=\"1\" class=\"dataframe\">\n",
       "  <thead>\n",
       "    <tr style=\"text-align: right;\">\n",
       "      <th></th>\n",
       "      <th>name</th>\n",
       "      <th>platform</th>\n",
       "      <th>year_of_release</th>\n",
       "      <th>genre</th>\n",
       "      <th>na_sales</th>\n",
       "      <th>eu_sales</th>\n",
       "      <th>jp_sales</th>\n",
       "      <th>other_sales</th>\n",
       "      <th>critic_score</th>\n",
       "      <th>user_score</th>\n",
       "      <th>rating</th>\n",
       "    </tr>\n",
       "  </thead>\n",
       "  <tbody>\n",
       "    <tr>\n",
       "      <th>253</th>\n",
       "      <td>need for speed: most wanted</td>\n",
       "      <td>PS2</td>\n",
       "      <td>2005</td>\n",
       "      <td>Racing</td>\n",
       "      <td>2.03</td>\n",
       "      <td>1.79</td>\n",
       "      <td>0.08</td>\n",
       "      <td>0.47</td>\n",
       "      <td>82.0</td>\n",
       "      <td>9.1</td>\n",
       "      <td>3</td>\n",
       "    </tr>\n",
       "    <tr>\n",
       "      <th>523</th>\n",
       "      <td>need for speed: most wanted</td>\n",
       "      <td>PS3</td>\n",
       "      <td>2012</td>\n",
       "      <td>Racing</td>\n",
       "      <td>0.71</td>\n",
       "      <td>1.46</td>\n",
       "      <td>0.06</td>\n",
       "      <td>0.58</td>\n",
       "      <td>NaN</td>\n",
       "      <td>NaN</td>\n",
       "      <td>rp</td>\n",
       "    </tr>\n",
       "    <tr>\n",
       "      <th>1190</th>\n",
       "      <td>need for speed: most wanted</td>\n",
       "      <td>X360</td>\n",
       "      <td>2012</td>\n",
       "      <td>Racing</td>\n",
       "      <td>0.62</td>\n",
       "      <td>0.78</td>\n",
       "      <td>0.01</td>\n",
       "      <td>0.15</td>\n",
       "      <td>83.0</td>\n",
       "      <td>8.5</td>\n",
       "      <td>3</td>\n",
       "    </tr>\n",
       "    <tr>\n",
       "      <th>1591</th>\n",
       "      <td>need for speed: most wanted</td>\n",
       "      <td>X360</td>\n",
       "      <td>2005</td>\n",
       "      <td>Racing</td>\n",
       "      <td>1.00</td>\n",
       "      <td>0.13</td>\n",
       "      <td>0.02</td>\n",
       "      <td>0.10</td>\n",
       "      <td>83.0</td>\n",
       "      <td>8.5</td>\n",
       "      <td>3</td>\n",
       "    </tr>\n",
       "    <tr>\n",
       "      <th>1998</th>\n",
       "      <td>need for speed: most wanted</td>\n",
       "      <td>XB</td>\n",
       "      <td>2005</td>\n",
       "      <td>Racing</td>\n",
       "      <td>0.53</td>\n",
       "      <td>0.46</td>\n",
       "      <td>0.00</td>\n",
       "      <td>0.05</td>\n",
       "      <td>83.0</td>\n",
       "      <td>8.8</td>\n",
       "      <td>3</td>\n",
       "    </tr>\n",
       "    <tr>\n",
       "      <th>2048</th>\n",
       "      <td>need for speed: most wanted</td>\n",
       "      <td>PSV</td>\n",
       "      <td>2012</td>\n",
       "      <td>Racing</td>\n",
       "      <td>0.33</td>\n",
       "      <td>0.45</td>\n",
       "      <td>0.01</td>\n",
       "      <td>0.22</td>\n",
       "      <td>NaN</td>\n",
       "      <td>NaN</td>\n",
       "      <td>rp</td>\n",
       "    </tr>\n",
       "    <tr>\n",
       "      <th>3581</th>\n",
       "      <td>need for speed: most wanted</td>\n",
       "      <td>GC</td>\n",
       "      <td>2005</td>\n",
       "      <td>Racing</td>\n",
       "      <td>0.43</td>\n",
       "      <td>0.11</td>\n",
       "      <td>0.00</td>\n",
       "      <td>0.02</td>\n",
       "      <td>80.0</td>\n",
       "      <td>9.1</td>\n",
       "      <td>3</td>\n",
       "    </tr>\n",
       "    <tr>\n",
       "      <th>5972</th>\n",
       "      <td>need for speed: most wanted</td>\n",
       "      <td>PC</td>\n",
       "      <td>2005</td>\n",
       "      <td>Racing</td>\n",
       "      <td>0.02</td>\n",
       "      <td>0.23</td>\n",
       "      <td>0.00</td>\n",
       "      <td>0.04</td>\n",
       "      <td>82.0</td>\n",
       "      <td>8.5</td>\n",
       "      <td>3</td>\n",
       "    </tr>\n",
       "    <tr>\n",
       "      <th>6273</th>\n",
       "      <td>need for speed: most wanted</td>\n",
       "      <td>WiiU</td>\n",
       "      <td>2013</td>\n",
       "      <td>Racing</td>\n",
       "      <td>0.13</td>\n",
       "      <td>0.12</td>\n",
       "      <td>0.00</td>\n",
       "      <td>0.02</td>\n",
       "      <td>NaN</td>\n",
       "      <td>NaN</td>\n",
       "      <td>rp</td>\n",
       "    </tr>\n",
       "    <tr>\n",
       "      <th>6410</th>\n",
       "      <td>need for speed: most wanted</td>\n",
       "      <td>DS</td>\n",
       "      <td>2005</td>\n",
       "      <td>Racing</td>\n",
       "      <td>0.24</td>\n",
       "      <td>0.01</td>\n",
       "      <td>0.00</td>\n",
       "      <td>0.02</td>\n",
       "      <td>45.0</td>\n",
       "      <td>6.1</td>\n",
       "      <td>1</td>\n",
       "    </tr>\n",
       "    <tr>\n",
       "      <th>6473</th>\n",
       "      <td>need for speed: most wanted</td>\n",
       "      <td>GBA</td>\n",
       "      <td>2005</td>\n",
       "      <td>Racing</td>\n",
       "      <td>0.19</td>\n",
       "      <td>0.07</td>\n",
       "      <td>0.00</td>\n",
       "      <td>0.00</td>\n",
       "      <td>NaN</td>\n",
       "      <td>8.3</td>\n",
       "      <td>1</td>\n",
       "    </tr>\n",
       "    <tr>\n",
       "      <th>11715</th>\n",
       "      <td>need for speed: most wanted</td>\n",
       "      <td>PC</td>\n",
       "      <td>2012</td>\n",
       "      <td>Racing</td>\n",
       "      <td>0.00</td>\n",
       "      <td>0.06</td>\n",
       "      <td>0.00</td>\n",
       "      <td>0.02</td>\n",
       "      <td>82.0</td>\n",
       "      <td>8.5</td>\n",
       "      <td>3</td>\n",
       "    </tr>\n",
       "  </tbody>\n",
       "</table>\n",
       "</div>"
      ],
      "text/plain": [
       "                              name platform  year_of_release   genre  \\\n",
       "253    need for speed: most wanted      PS2             2005  Racing   \n",
       "523    need for speed: most wanted      PS3             2012  Racing   \n",
       "1190   need for speed: most wanted     X360             2012  Racing   \n",
       "1591   need for speed: most wanted     X360             2005  Racing   \n",
       "1998   need for speed: most wanted       XB             2005  Racing   \n",
       "2048   need for speed: most wanted      PSV             2012  Racing   \n",
       "3581   need for speed: most wanted       GC             2005  Racing   \n",
       "5972   need for speed: most wanted       PC             2005  Racing   \n",
       "6273   need for speed: most wanted     WiiU             2013  Racing   \n",
       "6410   need for speed: most wanted       DS             2005  Racing   \n",
       "6473   need for speed: most wanted      GBA             2005  Racing   \n",
       "11715  need for speed: most wanted       PC             2012  Racing   \n",
       "\n",
       "       na_sales  eu_sales  jp_sales  other_sales  critic_score  user_score  \\\n",
       "253        2.03      1.79      0.08         0.47          82.0         9.1   \n",
       "523        0.71      1.46      0.06         0.58           NaN         NaN   \n",
       "1190       0.62      0.78      0.01         0.15          83.0         8.5   \n",
       "1591       1.00      0.13      0.02         0.10          83.0         8.5   \n",
       "1998       0.53      0.46      0.00         0.05          83.0         8.8   \n",
       "2048       0.33      0.45      0.01         0.22           NaN         NaN   \n",
       "3581       0.43      0.11      0.00         0.02          80.0         9.1   \n",
       "5972       0.02      0.23      0.00         0.04          82.0         8.5   \n",
       "6273       0.13      0.12      0.00         0.02           NaN         NaN   \n",
       "6410       0.24      0.01      0.00         0.02          45.0         6.1   \n",
       "6473       0.19      0.07      0.00         0.00           NaN         8.3   \n",
       "11715      0.00      0.06      0.00         0.02          82.0         8.5   \n",
       "\n",
       "      rating  \n",
       "253        3  \n",
       "523       rp  \n",
       "1190       3  \n",
       "1591       3  \n",
       "1998       3  \n",
       "2048      rp  \n",
       "3581       3  \n",
       "5972       3  \n",
       "6273      rp  \n",
       "6410       1  \n",
       "6473       1  \n",
       "11715      3  "
      ]
     },
     "execution_count": 34,
     "metadata": {},
     "output_type": "execute_result"
    }
   ],
   "source": [
    "data[data['name'] == 'need for speed: most wanted']"
   ]
  },
  {
   "cell_type": "markdown",
   "metadata": {},
   "source": [
    "- После проверки выяснилось, что это переиздания игры для разных платформ, либо, скорее всего с какими-нибудь существенными дополнениями. Считаю, что не нужно избавляться от этих повторов, так как они отображают разную информацию для различных платформ, что не является дублированием."
   ]
  },
  {
   "cell_type": "markdown",
   "metadata": {},
   "source": [
    "Создание столбца с суммой продаж"
   ]
  },
  {
   "cell_type": "code",
   "execution_count": 35,
   "metadata": {},
   "outputs": [],
   "source": [
    "data['total_sales'] = data[['na_sales','eu_sales','jp_sales', 'other_sales']].sum(axis = 1)"
   ]
  },
  {
   "cell_type": "markdown",
   "metadata": {},
   "source": [
    "<div style=\"border:solid steelblue 1px; padding: 20px\">\n",
    "    На данном шаге предобработка завершена. Были изменены типы данных, удалены малозначительное количество пропусков, заменено значение tbd на nan. \n",
    "\n",
    "Пропуски в столбцах с оценкой критиков и пользователей, а так же в рейтинге игры не представляется возможным заполнить, тк они не системные, нет зависимости между ними. Отставлю их в таком виде."
   ]
  },
  {
   "cell_type": "markdown",
   "metadata": {},
   "source": [
    "## Исследовательский анализ"
   ]
  },
  {
   "cell_type": "markdown",
   "metadata": {},
   "source": [
    "### Посмотрите, сколько игр выпускалось в разные годы. Важны ли данные за все периоды?"
   ]
  },
  {
   "cell_type": "code",
   "execution_count": 39,
   "metadata": {},
   "outputs": [
    {
     "data": {
      "text/plain": [
       "count    16444.000000\n",
       "mean      2006.486256\n",
       "std          5.875525\n",
       "min       1980.000000\n",
       "25%       2003.000000\n",
       "50%       2007.000000\n",
       "75%       2010.000000\n",
       "max       2016.000000\n",
       "Name: year_of_release, dtype: float64"
      ]
     },
     "execution_count": 39,
     "metadata": {},
     "output_type": "execute_result"
    }
   ],
   "source": [
    "data['year_of_release'].describe()"
   ]
  },
  {
   "cell_type": "markdown",
   "metadata": {},
   "source": [
    "<div style=\"border:solid steelblue 1px; padding: 20px\">\n",
    "    Считаю данные за 2012-2016 нерепрезентатвиными, тк скорее всего не были получены еще все данные. Но их нельзя исключать из выборки, тк они отображают информацию по актулаьным платформам.  Пиковый период - 2009 и 2010 года. В них суммарно было выпущено более 2800 игр. считаю, что стоит рассматривать период с 1992 по 2015г"
   ]
  },
  {
   "cell_type": "code",
   "execution_count": 42,
   "metadata": {},
   "outputs": [
    {
     "data": {
      "text/plain": [
       "[Text(0, 0.5, 'количество продаж')]"
      ]
     },
     "execution_count": 42,
     "metadata": {},
     "output_type": "execute_result"
    },
    {
     "data": {
      "image/png": "[encoded data removed]",
      "text/plain": [
       "<Figure size 1080x360 with 1 Axes>"
      ]
     },
     "metadata": {
      "needs_background": "light"
     },
     "output_type": "display_data"
    }
   ],
   "source": [
    "data['year_of_release'].hist(bins=28,range=(1980,2007), figsize=(15,5)).set(ylabel='количество продаж')"
   ]
  },
  {
   "cell_type": "code",
   "execution_count": 43,
   "metadata": {},
   "outputs": [
    {
     "data": {
      "text/plain": [
       "[Text(0, 0.5, 'количество продаж')]"
      ]
     },
     "execution_count": 43,
     "metadata": {},
     "output_type": "execute_result"
    },
    {
     "data": {
      "image/png": "[encoded data removed]",
      "text/plain": [
       "<Figure size 1080x360 with 1 Axes>"
      ]
     },
     "metadata": {
      "needs_background": "light"
     },
     "output_type": "display_data"
    }
   ],
   "source": [
    "data['year_of_release'].hist(bins=9,range=(2008,2016), figsize=(15,5)).set(ylabel='количество продаж')"
   ]
  },
  {
   "cell_type": "code",
   "execution_count": 44,
   "metadata": {},
   "outputs": [],
   "source": [
    "data = data.query('year_of_release >=1992 and year_of_release<=2015 ')"
   ]
  },
  {
   "cell_type": "code",
   "execution_count": 45,
   "metadata": {},
   "outputs": [
    {
     "data": {
      "text/html": [
       "<div>\n",
       "<style scoped>\n",
       "    .dataframe tbody tr th:only-of-type {\n",
       "        vertical-align: middle;\n",
       "    }\n",
       "\n",
       "    .dataframe tbody tr th {\n",
       "        vertical-align: top;\n",
       "    }\n",
       "\n",
       "    .dataframe thead th {\n",
       "        text-align: right;\n",
       "    }\n",
       "</style>\n",
       "<table border=\"1\" class=\"dataframe\">\n",
       "  <thead>\n",
       "    <tr style=\"text-align: right;\">\n",
       "      <th></th>\n",
       "      <th>name</th>\n",
       "      <th>platform</th>\n",
       "      <th>year_of_release</th>\n",
       "      <th>genre</th>\n",
       "      <th>na_sales</th>\n",
       "      <th>eu_sales</th>\n",
       "      <th>jp_sales</th>\n",
       "      <th>other_sales</th>\n",
       "      <th>critic_score</th>\n",
       "      <th>user_score</th>\n",
       "      <th>rating</th>\n",
       "      <th>total_sales</th>\n",
       "    </tr>\n",
       "  </thead>\n",
       "  <tbody>\n",
       "    <tr>\n",
       "      <th>0</th>\n",
       "      <td>wii sports</td>\n",
       "      <td>Wii</td>\n",
       "      <td>2006</td>\n",
       "      <td>Sports</td>\n",
       "      <td>41.36</td>\n",
       "      <td>28.96</td>\n",
       "      <td>3.77</td>\n",
       "      <td>8.45</td>\n",
       "      <td>76.0</td>\n",
       "      <td>8.0</td>\n",
       "      <td>1</td>\n",
       "      <td>82.54</td>\n",
       "    </tr>\n",
       "    <tr>\n",
       "      <th>2</th>\n",
       "      <td>mario kart wii</td>\n",
       "      <td>Wii</td>\n",
       "      <td>2008</td>\n",
       "      <td>Racing</td>\n",
       "      <td>15.68</td>\n",
       "      <td>12.76</td>\n",
       "      <td>3.79</td>\n",
       "      <td>3.29</td>\n",
       "      <td>82.0</td>\n",
       "      <td>8.3</td>\n",
       "      <td>1</td>\n",
       "      <td>35.52</td>\n",
       "    </tr>\n",
       "    <tr>\n",
       "      <th>3</th>\n",
       "      <td>wii sports resort</td>\n",
       "      <td>Wii</td>\n",
       "      <td>2009</td>\n",
       "      <td>Sports</td>\n",
       "      <td>15.61</td>\n",
       "      <td>10.93</td>\n",
       "      <td>3.28</td>\n",
       "      <td>2.95</td>\n",
       "      <td>80.0</td>\n",
       "      <td>8.0</td>\n",
       "      <td>1</td>\n",
       "      <td>32.77</td>\n",
       "    </tr>\n",
       "    <tr>\n",
       "      <th>4</th>\n",
       "      <td>pokemon red/pokemon blue</td>\n",
       "      <td>GB</td>\n",
       "      <td>1996</td>\n",
       "      <td>Role-Playing</td>\n",
       "      <td>11.27</td>\n",
       "      <td>8.89</td>\n",
       "      <td>10.22</td>\n",
       "      <td>1.00</td>\n",
       "      <td>NaN</td>\n",
       "      <td>NaN</td>\n",
       "      <td>rp</td>\n",
       "      <td>31.38</td>\n",
       "    </tr>\n",
       "    <tr>\n",
       "      <th>6</th>\n",
       "      <td>new super mario bros.</td>\n",
       "      <td>DS</td>\n",
       "      <td>2006</td>\n",
       "      <td>Platform</td>\n",
       "      <td>11.28</td>\n",
       "      <td>9.14</td>\n",
       "      <td>6.50</td>\n",
       "      <td>2.88</td>\n",
       "      <td>89.0</td>\n",
       "      <td>8.5</td>\n",
       "      <td>1</td>\n",
       "      <td>29.80</td>\n",
       "    </tr>\n",
       "    <tr>\n",
       "      <th>...</th>\n",
       "      <td>...</td>\n",
       "      <td>...</td>\n",
       "      <td>...</td>\n",
       "      <td>...</td>\n",
       "      <td>...</td>\n",
       "      <td>...</td>\n",
       "      <td>...</td>\n",
       "      <td>...</td>\n",
       "      <td>...</td>\n",
       "      <td>...</td>\n",
       "      <td>...</td>\n",
       "      <td>...</td>\n",
       "    </tr>\n",
       "    <tr>\n",
       "      <th>16436</th>\n",
       "      <td>aiyoku no eustia</td>\n",
       "      <td>PSV</td>\n",
       "      <td>2014</td>\n",
       "      <td>Misc</td>\n",
       "      <td>0.00</td>\n",
       "      <td>0.00</td>\n",
       "      <td>0.01</td>\n",
       "      <td>0.00</td>\n",
       "      <td>NaN</td>\n",
       "      <td>NaN</td>\n",
       "      <td>rp</td>\n",
       "      <td>0.01</td>\n",
       "    </tr>\n",
       "    <tr>\n",
       "      <th>16437</th>\n",
       "      <td>woody woodpecker in crazy castle 5</td>\n",
       "      <td>GBA</td>\n",
       "      <td>2002</td>\n",
       "      <td>Platform</td>\n",
       "      <td>0.01</td>\n",
       "      <td>0.00</td>\n",
       "      <td>0.00</td>\n",
       "      <td>0.00</td>\n",
       "      <td>NaN</td>\n",
       "      <td>NaN</td>\n",
       "      <td>rp</td>\n",
       "      <td>0.01</td>\n",
       "    </tr>\n",
       "    <tr>\n",
       "      <th>16438</th>\n",
       "      <td>score international baja 1000: the official game</td>\n",
       "      <td>PS2</td>\n",
       "      <td>2008</td>\n",
       "      <td>Racing</td>\n",
       "      <td>0.00</td>\n",
       "      <td>0.00</td>\n",
       "      <td>0.00</td>\n",
       "      <td>0.00</td>\n",
       "      <td>NaN</td>\n",
       "      <td>NaN</td>\n",
       "      <td>rp</td>\n",
       "      <td>0.00</td>\n",
       "    </tr>\n",
       "    <tr>\n",
       "      <th>16440</th>\n",
       "      <td>lma manager 2007</td>\n",
       "      <td>X360</td>\n",
       "      <td>2006</td>\n",
       "      <td>Sports</td>\n",
       "      <td>0.00</td>\n",
       "      <td>0.01</td>\n",
       "      <td>0.00</td>\n",
       "      <td>0.00</td>\n",
       "      <td>NaN</td>\n",
       "      <td>NaN</td>\n",
       "      <td>rp</td>\n",
       "      <td>0.01</td>\n",
       "    </tr>\n",
       "    <tr>\n",
       "      <th>16442</th>\n",
       "      <td>spirits &amp; spells</td>\n",
       "      <td>GBA</td>\n",
       "      <td>2003</td>\n",
       "      <td>Platform</td>\n",
       "      <td>0.01</td>\n",
       "      <td>0.00</td>\n",
       "      <td>0.00</td>\n",
       "      <td>0.00</td>\n",
       "      <td>NaN</td>\n",
       "      <td>NaN</td>\n",
       "      <td>rp</td>\n",
       "      <td>0.01</td>\n",
       "    </tr>\n",
       "  </tbody>\n",
       "</table>\n",
       "<p>15680 rows × 12 columns</p>\n",
       "</div>"
      ],
      "text/plain": [
       "                                                   name platform  \\\n",
       "0                                            wii sports      Wii   \n",
       "2                                        mario kart wii      Wii   \n",
       "3                                     wii sports resort      Wii   \n",
       "4                              pokemon red/pokemon blue       GB   \n",
       "6                                 new super mario bros.       DS   \n",
       "...                                                 ...      ...   \n",
       "16436                                  aiyoku no eustia      PSV   \n",
       "16437                woody woodpecker in crazy castle 5      GBA   \n",
       "16438  score international baja 1000: the official game      PS2   \n",
       "16440                                  lma manager 2007     X360   \n",
       "16442                                  spirits & spells      GBA   \n",
       "\n",
       "       year_of_release         genre  na_sales  eu_sales  jp_sales  \\\n",
       "0                 2006        Sports     41.36     28.96      3.77   \n",
       "2                 2008        Racing     15.68     12.76      3.79   \n",
       "3                 2009        Sports     15.61     10.93      3.28   \n",
       "4                 1996  Role-Playing     11.27      8.89     10.22   \n",
       "6                 2006      Platform     11.28      9.14      6.50   \n",
       "...                ...           ...       ...       ...       ...   \n",
       "16436             2014          Misc      0.00      0.00      0.01   \n",
       "16437             2002      Platform      0.01      0.00      0.00   \n",
       "16438             2008        Racing      0.00      0.00      0.00   \n",
       "16440             2006        Sports      0.00      0.01      0.00   \n",
       "16442             2003      Platform      0.01      0.00      0.00   \n",
       "\n",
       "       other_sales  critic_score  user_score rating  total_sales  \n",
       "0             8.45          76.0         8.0      1        82.54  \n",
       "2             3.29          82.0         8.3      1        35.52  \n",
       "3             2.95          80.0         8.0      1        32.77  \n",
       "4             1.00           NaN         NaN     rp        31.38  \n",
       "6             2.88          89.0         8.5      1        29.80  \n",
       "...            ...           ...         ...    ...          ...  \n",
       "16436         0.00           NaN         NaN     rp         0.01  \n",
       "16437         0.00           NaN         NaN     rp         0.01  \n",
       "16438         0.00           NaN         NaN     rp         0.00  \n",
       "16440         0.00           NaN         NaN     rp         0.01  \n",
       "16442         0.00           NaN         NaN     rp         0.01  \n",
       "\n",
       "[15680 rows x 12 columns]"
      ]
     },
     "execution_count": 45,
     "metadata": {},
     "output_type": "execute_result"
    }
   ],
   "source": [
    "data"
   ]
  },
  {
   "cell_type": "markdown",
   "metadata": {},
   "source": [
    "### Посмотрите, как менялись продажи по платформам. Выберите платформы с наибольшими суммарными продажами и постройте распределение по годам. За какой характерный срок появляются новые и исчезают старые платформы?"
   ]
  },
  {
   "cell_type": "code",
   "execution_count": 46,
   "metadata": {
    "scrolled": true
   },
   "outputs": [
    {
     "data": {
      "text/plain": [
       "count     15680\n",
       "unique       30\n",
       "top         PS2\n",
       "freq       2127\n",
       "Name: platform, dtype: object"
      ]
     },
     "execution_count": 46,
     "metadata": {},
     "output_type": "execute_result"
    }
   ],
   "source": [
    "data['platform'].describe()"
   ]
  },
  {
   "cell_type": "code",
   "execution_count": 47,
   "metadata": {
    "scrolled": true
   },
   "outputs": [
    {
     "name": "stderr",
     "output_type": "stream",
     "text": [
      "/tmp/ipykernel_1001/2160614097.py:1: SettingWithCopyWarning: \n",
      "A value is trying to be set on a copy of a slice from a DataFrame.\n",
      "Try using .loc[row_indexer,col_indexer] = value instead\n",
      "\n",
      "See the caveats in the documentation: https://pandas.pydata.org/pandas-docs/stable/user_guide/indexing.html#returning-a-view-versus-a-copy\n",
      "  data['platform'] = data['platform'].str.lower()\n"
     ]
    }
   ],
   "source": [
    "data['platform'] = data['platform'].str.lower()"
   ]
  },
  {
   "cell_type": "code",
   "execution_count": 48,
   "metadata": {},
   "outputs": [
    {
     "data": {
      "text/plain": [
       "<AxesSubplot:>"
      ]
     },
     "execution_count": 48,
     "metadata": {},
     "output_type": "execute_result"
    },
    {
     "data": {
      "image/png": "[encoded data removed]",
      "text/plain": [
       "<Figure size 1080x360 with 1 Axes>"
      ]
     },
     "metadata": {
      "needs_background": "light"
     },
     "output_type": "display_data"
    }
   ],
   "source": [
    "data['platform'].hist(bins=31,figsize=(15,5))"
   ]
  },
  {
   "cell_type": "code",
   "execution_count": 49,
   "metadata": {},
   "outputs": [],
   "source": [
    "#подправил\n",
    "data_top = (\n",
    "    data.pivot_table(index='platform', values='total_sales', aggfunc='sum')\n",
    "    .sort_values('total_sales', ascending=False)\n",
    "    .head(10)\n",
    ")"
   ]
  },
  {
   "cell_type": "code",
   "execution_count": 50,
   "metadata": {},
   "outputs": [
    {
     "data": {
      "text/html": [
       "<div>\n",
       "<style scoped>\n",
       "    .dataframe tbody tr th:only-of-type {\n",
       "        vertical-align: middle;\n",
       "    }\n",
       "\n",
       "    .dataframe tbody tr th {\n",
       "        vertical-align: top;\n",
       "    }\n",
       "\n",
       "    .dataframe thead th {\n",
       "        text-align: right;\n",
       "    }\n",
       "</style>\n",
       "<table border=\"1\" class=\"dataframe\">\n",
       "  <thead>\n",
       "    <tr style=\"text-align: right;\">\n",
       "      <th></th>\n",
       "      <th>total_sales</th>\n",
       "    </tr>\n",
       "    <tr>\n",
       "      <th>platform</th>\n",
       "      <th></th>\n",
       "    </tr>\n",
       "  </thead>\n",
       "  <tbody>\n",
       "    <tr>\n",
       "      <th>ps2</th>\n",
       "      <td>1233.56</td>\n",
       "    </tr>\n",
       "    <tr>\n",
       "      <th>x360</th>\n",
       "      <td>959.72</td>\n",
       "    </tr>\n",
       "    <tr>\n",
       "      <th>ps3</th>\n",
       "      <td>927.74</td>\n",
       "    </tr>\n",
       "    <tr>\n",
       "      <th>wii</th>\n",
       "      <td>891.00</td>\n",
       "    </tr>\n",
       "    <tr>\n",
       "      <th>ds</th>\n",
       "      <td>802.76</td>\n",
       "    </tr>\n",
       "    <tr>\n",
       "      <th>ps</th>\n",
       "      <td>727.58</td>\n",
       "    </tr>\n",
       "    <tr>\n",
       "      <th>gba</th>\n",
       "      <td>312.88</td>\n",
       "    </tr>\n",
       "    <tr>\n",
       "      <th>psp</th>\n",
       "      <td>289.53</td>\n",
       "    </tr>\n",
       "    <tr>\n",
       "      <th>xb</th>\n",
       "      <td>251.57</td>\n",
       "    </tr>\n",
       "    <tr>\n",
       "      <th>pc</th>\n",
       "      <td>250.44</td>\n",
       "    </tr>\n",
       "  </tbody>\n",
       "</table>\n",
       "</div>"
      ],
      "text/plain": [
       "          total_sales\n",
       "platform             \n",
       "ps2           1233.56\n",
       "x360           959.72\n",
       "ps3            927.74\n",
       "wii            891.00\n",
       "ds             802.76\n",
       "ps             727.58\n",
       "gba            312.88\n",
       "psp            289.53\n",
       "xb             251.57\n",
       "pc             250.44"
      ]
     },
     "execution_count": 50,
     "metadata": {},
     "output_type": "execute_result"
    }
   ],
   "source": [
    "data_top"
   ]
  },
  {
   "cell_type": "markdown",
   "metadata": {},
   "source": [
    "<div style=\"border:solid steelblue 1px; padding: 20px\">\n",
    "    По сводной таблице мы видим, что игр на ps2 было продано на большую сумму денег. Интересен тот факт, что игр на ds было продано практически столько же, но из-за того, что, видимо, цена их была ниже - на ней заработали меньше денег - в таблице она находится лиш на 5 месте."
   ]
  },
  {
   "cell_type": "code",
   "execution_count": 51,
   "metadata": {},
   "outputs": [],
   "source": [
    "#перезапишем переменную, тк она не понадобится в дальнейшем\n",
    "top_pl = [\"ps2\", \"x360\", \"ps3\", \"wii\", \"ds\"]\n",
    "data_top = data.query('platform in @top_pl')"
   ]
  },
  {
   "cell_type": "code",
   "execution_count": 52,
   "metadata": {},
   "outputs": [
    {
     "data": {
      "text/html": [
       "<div>\n",
       "<style scoped>\n",
       "    .dataframe tbody tr th:only-of-type {\n",
       "        vertical-align: middle;\n",
       "    }\n",
       "\n",
       "    .dataframe tbody tr th {\n",
       "        vertical-align: top;\n",
       "    }\n",
       "\n",
       "    .dataframe thead th {\n",
       "        text-align: right;\n",
       "    }\n",
       "</style>\n",
       "<table border=\"1\" class=\"dataframe\">\n",
       "  <thead>\n",
       "    <tr style=\"text-align: right;\">\n",
       "      <th></th>\n",
       "      <th>name</th>\n",
       "      <th>platform</th>\n",
       "      <th>year_of_release</th>\n",
       "      <th>genre</th>\n",
       "      <th>na_sales</th>\n",
       "      <th>eu_sales</th>\n",
       "      <th>jp_sales</th>\n",
       "      <th>other_sales</th>\n",
       "      <th>critic_score</th>\n",
       "      <th>user_score</th>\n",
       "      <th>rating</th>\n",
       "      <th>total_sales</th>\n",
       "    </tr>\n",
       "  </thead>\n",
       "  <tbody>\n",
       "    <tr>\n",
       "      <th>0</th>\n",
       "      <td>wii sports</td>\n",
       "      <td>wii</td>\n",
       "      <td>2006</td>\n",
       "      <td>Sports</td>\n",
       "      <td>41.36</td>\n",
       "      <td>28.96</td>\n",
       "      <td>3.77</td>\n",
       "      <td>8.45</td>\n",
       "      <td>76.0</td>\n",
       "      <td>8.0</td>\n",
       "      <td>1</td>\n",
       "      <td>82.54</td>\n",
       "    </tr>\n",
       "    <tr>\n",
       "      <th>2</th>\n",
       "      <td>mario kart wii</td>\n",
       "      <td>wii</td>\n",
       "      <td>2008</td>\n",
       "      <td>Racing</td>\n",
       "      <td>15.68</td>\n",
       "      <td>12.76</td>\n",
       "      <td>3.79</td>\n",
       "      <td>3.29</td>\n",
       "      <td>82.0</td>\n",
       "      <td>8.3</td>\n",
       "      <td>1</td>\n",
       "      <td>35.52</td>\n",
       "    </tr>\n",
       "    <tr>\n",
       "      <th>3</th>\n",
       "      <td>wii sports resort</td>\n",
       "      <td>wii</td>\n",
       "      <td>2009</td>\n",
       "      <td>Sports</td>\n",
       "      <td>15.61</td>\n",
       "      <td>10.93</td>\n",
       "      <td>3.28</td>\n",
       "      <td>2.95</td>\n",
       "      <td>80.0</td>\n",
       "      <td>8.0</td>\n",
       "      <td>1</td>\n",
       "      <td>32.77</td>\n",
       "    </tr>\n",
       "    <tr>\n",
       "      <th>6</th>\n",
       "      <td>new super mario bros.</td>\n",
       "      <td>ds</td>\n",
       "      <td>2006</td>\n",
       "      <td>Platform</td>\n",
       "      <td>11.28</td>\n",
       "      <td>9.14</td>\n",
       "      <td>6.50</td>\n",
       "      <td>2.88</td>\n",
       "      <td>89.0</td>\n",
       "      <td>8.5</td>\n",
       "      <td>1</td>\n",
       "      <td>29.80</td>\n",
       "    </tr>\n",
       "    <tr>\n",
       "      <th>7</th>\n",
       "      <td>wii play</td>\n",
       "      <td>wii</td>\n",
       "      <td>2006</td>\n",
       "      <td>Misc</td>\n",
       "      <td>13.96</td>\n",
       "      <td>9.18</td>\n",
       "      <td>2.93</td>\n",
       "      <td>2.84</td>\n",
       "      <td>58.0</td>\n",
       "      <td>6.6</td>\n",
       "      <td>1</td>\n",
       "      <td>28.91</td>\n",
       "    </tr>\n",
       "    <tr>\n",
       "      <th>...</th>\n",
       "      <td>...</td>\n",
       "      <td>...</td>\n",
       "      <td>...</td>\n",
       "      <td>...</td>\n",
       "      <td>...</td>\n",
       "      <td>...</td>\n",
       "      <td>...</td>\n",
       "      <td>...</td>\n",
       "      <td>...</td>\n",
       "      <td>...</td>\n",
       "      <td>...</td>\n",
       "      <td>...</td>\n",
       "    </tr>\n",
       "    <tr>\n",
       "      <th>16427</th>\n",
       "      <td>mega brain boost</td>\n",
       "      <td>ds</td>\n",
       "      <td>2008</td>\n",
       "      <td>Puzzle</td>\n",
       "      <td>0.01</td>\n",
       "      <td>0.00</td>\n",
       "      <td>0.00</td>\n",
       "      <td>0.00</td>\n",
       "      <td>48.0</td>\n",
       "      <td>NaN</td>\n",
       "      <td>1</td>\n",
       "      <td>0.01</td>\n",
       "    </tr>\n",
       "    <tr>\n",
       "      <th>16429</th>\n",
       "      <td>mezase!! tsuri master ds</td>\n",
       "      <td>ds</td>\n",
       "      <td>2009</td>\n",
       "      <td>Sports</td>\n",
       "      <td>0.00</td>\n",
       "      <td>0.00</td>\n",
       "      <td>0.01</td>\n",
       "      <td>0.00</td>\n",
       "      <td>NaN</td>\n",
       "      <td>NaN</td>\n",
       "      <td>rp</td>\n",
       "      <td>0.01</td>\n",
       "    </tr>\n",
       "    <tr>\n",
       "      <th>16433</th>\n",
       "      <td>plushees</td>\n",
       "      <td>ds</td>\n",
       "      <td>2008</td>\n",
       "      <td>Simulation</td>\n",
       "      <td>0.01</td>\n",
       "      <td>0.00</td>\n",
       "      <td>0.00</td>\n",
       "      <td>0.00</td>\n",
       "      <td>NaN</td>\n",
       "      <td>NaN</td>\n",
       "      <td>1</td>\n",
       "      <td>0.01</td>\n",
       "    </tr>\n",
       "    <tr>\n",
       "      <th>16438</th>\n",
       "      <td>score international baja 1000: the official game</td>\n",
       "      <td>ps2</td>\n",
       "      <td>2008</td>\n",
       "      <td>Racing</td>\n",
       "      <td>0.00</td>\n",
       "      <td>0.00</td>\n",
       "      <td>0.00</td>\n",
       "      <td>0.00</td>\n",
       "      <td>NaN</td>\n",
       "      <td>NaN</td>\n",
       "      <td>rp</td>\n",
       "      <td>0.00</td>\n",
       "    </tr>\n",
       "    <tr>\n",
       "      <th>16440</th>\n",
       "      <td>lma manager 2007</td>\n",
       "      <td>x360</td>\n",
       "      <td>2006</td>\n",
       "      <td>Sports</td>\n",
       "      <td>0.00</td>\n",
       "      <td>0.01</td>\n",
       "      <td>0.00</td>\n",
       "      <td>0.00</td>\n",
       "      <td>NaN</td>\n",
       "      <td>NaN</td>\n",
       "      <td>rp</td>\n",
       "      <td>0.01</td>\n",
       "    </tr>\n",
       "  </tbody>\n",
       "</table>\n",
       "<p>8019 rows × 12 columns</p>\n",
       "</div>"
      ],
      "text/plain": [
       "                                                   name platform  \\\n",
       "0                                            wii sports      wii   \n",
       "2                                        mario kart wii      wii   \n",
       "3                                     wii sports resort      wii   \n",
       "6                                 new super mario bros.       ds   \n",
       "7                                              wii play      wii   \n",
       "...                                                 ...      ...   \n",
       "16427                                  mega brain boost       ds   \n",
       "16429                          mezase!! tsuri master ds       ds   \n",
       "16433                                          plushees       ds   \n",
       "16438  score international baja 1000: the official game      ps2   \n",
       "16440                                  lma manager 2007     x360   \n",
       "\n",
       "       year_of_release       genre  na_sales  eu_sales  jp_sales  other_sales  \\\n",
       "0                 2006      Sports     41.36     28.96      3.77         8.45   \n",
       "2                 2008      Racing     15.68     12.76      3.79         3.29   \n",
       "3                 2009      Sports     15.61     10.93      3.28         2.95   \n",
       "6                 2006    Platform     11.28      9.14      6.50         2.88   \n",
       "7                 2006        Misc     13.96      9.18      2.93         2.84   \n",
       "...                ...         ...       ...       ...       ...          ...   \n",
       "16427             2008      Puzzle      0.01      0.00      0.00         0.00   \n",
       "16429             2009      Sports      0.00      0.00      0.01         0.00   \n",
       "16433             2008  Simulation      0.01      0.00      0.00         0.00   \n",
       "16438             2008      Racing      0.00      0.00      0.00         0.00   \n",
       "16440             2006      Sports      0.00      0.01      0.00         0.00   \n",
       "\n",
       "       critic_score  user_score rating  total_sales  \n",
       "0              76.0         8.0      1        82.54  \n",
       "2              82.0         8.3      1        35.52  \n",
       "3              80.0         8.0      1        32.77  \n",
       "6              89.0         8.5      1        29.80  \n",
       "7              58.0         6.6      1        28.91  \n",
       "...             ...         ...    ...          ...  \n",
       "16427          48.0         NaN      1         0.01  \n",
       "16429           NaN         NaN     rp         0.01  \n",
       "16433           NaN         NaN      1         0.01  \n",
       "16438           NaN         NaN     rp         0.00  \n",
       "16440           NaN         NaN     rp         0.01  \n",
       "\n",
       "[8019 rows x 12 columns]"
      ]
     },
     "execution_count": 52,
     "metadata": {},
     "output_type": "execute_result"
    }
   ],
   "source": [
    "data_top"
   ]
  },
  {
   "cell_type": "code",
   "execution_count": 53,
   "metadata": {},
   "outputs": [],
   "source": [
    "data_top = data_top.pivot_table(index='year_of_release', columns='platform', values='total_sales', aggfunc='sum')"
   ]
  },
  {
   "cell_type": "code",
   "execution_count": 54,
   "metadata": {},
   "outputs": [
    {
     "data": {
      "text/html": [
       "<div>\n",
       "<style scoped>\n",
       "    .dataframe tbody tr th:only-of-type {\n",
       "        vertical-align: middle;\n",
       "    }\n",
       "\n",
       "    .dataframe tbody tr th {\n",
       "        vertical-align: top;\n",
       "    }\n",
       "\n",
       "    .dataframe thead th {\n",
       "        text-align: right;\n",
       "    }\n",
       "</style>\n",
       "<table border=\"1\" class=\"dataframe\">\n",
       "  <thead>\n",
       "    <tr style=\"text-align: right;\">\n",
       "      <th>platform</th>\n",
       "      <th>ds</th>\n",
       "      <th>ps2</th>\n",
       "      <th>ps3</th>\n",
       "      <th>wii</th>\n",
       "      <th>x360</th>\n",
       "    </tr>\n",
       "    <tr>\n",
       "      <th>year_of_release</th>\n",
       "      <th></th>\n",
       "      <th></th>\n",
       "      <th></th>\n",
       "      <th></th>\n",
       "      <th></th>\n",
       "    </tr>\n",
       "  </thead>\n",
       "  <tbody>\n",
       "    <tr>\n",
       "      <th>2000</th>\n",
       "      <td>NaN</td>\n",
       "      <td>39.17</td>\n",
       "      <td>NaN</td>\n",
       "      <td>NaN</td>\n",
       "      <td>NaN</td>\n",
       "    </tr>\n",
       "    <tr>\n",
       "      <th>2001</th>\n",
       "      <td>NaN</td>\n",
       "      <td>166.43</td>\n",
       "      <td>NaN</td>\n",
       "      <td>NaN</td>\n",
       "      <td>NaN</td>\n",
       "    </tr>\n",
       "    <tr>\n",
       "      <th>2002</th>\n",
       "      <td>NaN</td>\n",
       "      <td>205.38</td>\n",
       "      <td>NaN</td>\n",
       "      <td>NaN</td>\n",
       "      <td>NaN</td>\n",
       "    </tr>\n",
       "    <tr>\n",
       "      <th>2003</th>\n",
       "      <td>NaN</td>\n",
       "      <td>184.31</td>\n",
       "      <td>NaN</td>\n",
       "      <td>NaN</td>\n",
       "      <td>NaN</td>\n",
       "    </tr>\n",
       "    <tr>\n",
       "      <th>2004</th>\n",
       "      <td>17.27</td>\n",
       "      <td>211.81</td>\n",
       "      <td>NaN</td>\n",
       "      <td>NaN</td>\n",
       "      <td>NaN</td>\n",
       "    </tr>\n",
       "    <tr>\n",
       "      <th>2005</th>\n",
       "      <td>130.14</td>\n",
       "      <td>160.66</td>\n",
       "      <td>NaN</td>\n",
       "      <td>NaN</td>\n",
       "      <td>8.25</td>\n",
       "    </tr>\n",
       "    <tr>\n",
       "      <th>2006</th>\n",
       "      <td>119.81</td>\n",
       "      <td>103.42</td>\n",
       "      <td>20.96</td>\n",
       "      <td>137.15</td>\n",
       "      <td>51.62</td>\n",
       "    </tr>\n",
       "    <tr>\n",
       "      <th>2007</th>\n",
       "      <td>146.94</td>\n",
       "      <td>75.99</td>\n",
       "      <td>73.19</td>\n",
       "      <td>152.77</td>\n",
       "      <td>95.41</td>\n",
       "    </tr>\n",
       "    <tr>\n",
       "      <th>2008</th>\n",
       "      <td>145.31</td>\n",
       "      <td>53.90</td>\n",
       "      <td>118.52</td>\n",
       "      <td>171.32</td>\n",
       "      <td>135.26</td>\n",
       "    </tr>\n",
       "    <tr>\n",
       "      <th>2009</th>\n",
       "      <td>119.54</td>\n",
       "      <td>26.40</td>\n",
       "      <td>130.93</td>\n",
       "      <td>206.97</td>\n",
       "      <td>120.29</td>\n",
       "    </tr>\n",
       "    <tr>\n",
       "      <th>2010</th>\n",
       "      <td>85.02</td>\n",
       "      <td>5.64</td>\n",
       "      <td>142.17</td>\n",
       "      <td>127.95</td>\n",
       "      <td>170.03</td>\n",
       "    </tr>\n",
       "    <tr>\n",
       "      <th>2011</th>\n",
       "      <td>26.18</td>\n",
       "      <td>0.45</td>\n",
       "      <td>156.78</td>\n",
       "      <td>59.65</td>\n",
       "      <td>143.84</td>\n",
       "    </tr>\n",
       "    <tr>\n",
       "      <th>2012</th>\n",
       "      <td>11.01</td>\n",
       "      <td>NaN</td>\n",
       "      <td>107.36</td>\n",
       "      <td>21.71</td>\n",
       "      <td>99.74</td>\n",
       "    </tr>\n",
       "    <tr>\n",
       "      <th>2013</th>\n",
       "      <td>1.54</td>\n",
       "      <td>NaN</td>\n",
       "      <td>113.25</td>\n",
       "      <td>8.59</td>\n",
       "      <td>88.58</td>\n",
       "    </tr>\n",
       "    <tr>\n",
       "      <th>2014</th>\n",
       "      <td>NaN</td>\n",
       "      <td>NaN</td>\n",
       "      <td>47.76</td>\n",
       "      <td>3.75</td>\n",
       "      <td>34.74</td>\n",
       "    </tr>\n",
       "    <tr>\n",
       "      <th>2015</th>\n",
       "      <td>NaN</td>\n",
       "      <td>NaN</td>\n",
       "      <td>16.82</td>\n",
       "      <td>1.14</td>\n",
       "      <td>11.96</td>\n",
       "    </tr>\n",
       "  </tbody>\n",
       "</table>\n",
       "</div>"
      ],
      "text/plain": [
       "platform             ds     ps2     ps3     wii    x360\n",
       "year_of_release                                        \n",
       "2000                NaN   39.17     NaN     NaN     NaN\n",
       "2001                NaN  166.43     NaN     NaN     NaN\n",
       "2002                NaN  205.38     NaN     NaN     NaN\n",
       "2003                NaN  184.31     NaN     NaN     NaN\n",
       "2004              17.27  211.81     NaN     NaN     NaN\n",
       "2005             130.14  160.66     NaN     NaN    8.25\n",
       "2006             119.81  103.42   20.96  137.15   51.62\n",
       "2007             146.94   75.99   73.19  152.77   95.41\n",
       "2008             145.31   53.90  118.52  171.32  135.26\n",
       "2009             119.54   26.40  130.93  206.97  120.29\n",
       "2010              85.02    5.64  142.17  127.95  170.03\n",
       "2011              26.18    0.45  156.78   59.65  143.84\n",
       "2012              11.01     NaN  107.36   21.71   99.74\n",
       "2013               1.54     NaN  113.25    8.59   88.58\n",
       "2014                NaN     NaN   47.76    3.75   34.74\n",
       "2015                NaN     NaN   16.82    1.14   11.96"
      ]
     },
     "execution_count": 54,
     "metadata": {},
     "output_type": "execute_result"
    }
   ],
   "source": [
    "data_top"
   ]
  },
  {
   "cell_type": "code",
   "execution_count": 55,
   "metadata": {},
   "outputs": [
    {
     "data": {
      "text/plain": [
       "<AxesSubplot:xlabel='year_of_release'>"
      ]
     },
     "execution_count": 55,
     "metadata": {},
     "output_type": "execute_result"
    },
    {
     "data": {
      "image/png": "[encoded data removed]",
      "text/plain": [
       "<Figure size 1080x360 with 1 Axes>"
      ]
     },
     "metadata": {
      "needs_background": "light"
     },
     "output_type": "display_data"
    }
   ],
   "source": [
    "data_top.plot(xlim=1995, figsize=(15,5))"
   ]
  },
  {
   "cell_type": "markdown",
   "metadata": {},
   "source": [
    "По графику видно что отрезок \"жизни\" игры составляет 7-10 лет. как мы видим, расцвет игровой индустрии приходится на 2005-2006г. Именно в те годы начали зарождаться игры на самые популярные и прибыльные платформы.\n",
    "\n",
    "Таким образом актуальными можно счиать платформы, которые еще не старше 4 лет, так как по статитстике им отстается прожить еще столько же."
   ]
  },
  {
   "cell_type": "markdown",
   "metadata": {},
   "source": [
    "### Какие платформы лидируют по продажам, растут или падают? Выберите несколько потенциально прибыльных платформ. Какие платформы лидируют по продажам, растут или падают? Выберите несколько потенциально прибыльных платформ."
   ]
  },
  {
   "cell_type": "markdown",
   "metadata": {},
   "source": [
    "- Возьмем данные только за актуальный период. и рассмотрим, продажи по каким платфофрмам возрастают, находятся на своем пике, а какие умирают.\n"
   ]
  },
  {
   "cell_type": "code",
   "execution_count": 57,
   "metadata": {},
   "outputs": [
    {
     "name": "stdout",
     "output_type": "stream",
     "text": [
      "platform\n",
      "3do     22\n",
      "3ds      5\n",
      "dc      18\n",
      "ds      12\n",
      "gb      24\n",
      "gba     16\n",
      "gc      15\n",
      "gen     24\n",
      "gg      24\n",
      "n64     20\n",
      "nes     24\n",
      "ng      23\n",
      "pc      24\n",
      "pcfx    20\n",
      "ps      22\n",
      "ps2     16\n",
      "ps3     10\n",
      "ps4      3\n",
      "psp     12\n",
      "psv      5\n",
      "sat     22\n",
      "scd     23\n",
      "snes    24\n",
      "tg16    21\n",
      "wii     10\n",
      "wiiu     4\n",
      "ws      17\n",
      "x360    11\n",
      "xb      16\n",
      "xone     3\n",
      "Name: year_of_release, dtype: int64\n"
     ]
    }
   ],
   "source": [
    "first_year = pd.DataFrame(data.pivot_table(index='platform', values='year_of_release', aggfunc='min'))\n",
    "\n",
    "actual_platform =[]\n",
    "\n",
    "for i in first_year:\n",
    "    print(2016 - first_year[i])\n",
    "actual_platform = ['3ds', 'ps4', 'psv', 'wiiu', 'xone', 'pc']"
   ]
  },
  {
   "cell_type": "code",
   "execution_count": 58,
   "metadata": {},
   "outputs": [
    {
     "data": {
      "text/html": [
       "<div>\n",
       "<style scoped>\n",
       "    .dataframe tbody tr th:only-of-type {\n",
       "        vertical-align: middle;\n",
       "    }\n",
       "\n",
       "    .dataframe tbody tr th {\n",
       "        vertical-align: top;\n",
       "    }\n",
       "\n",
       "    .dataframe thead th {\n",
       "        text-align: right;\n",
       "    }\n",
       "</style>\n",
       "<table border=\"1\" class=\"dataframe\">\n",
       "  <thead>\n",
       "    <tr style=\"text-align: right;\">\n",
       "      <th></th>\n",
       "      <th>name</th>\n",
       "      <th>platform</th>\n",
       "      <th>year_of_release</th>\n",
       "      <th>genre</th>\n",
       "      <th>na_sales</th>\n",
       "      <th>eu_sales</th>\n",
       "      <th>jp_sales</th>\n",
       "      <th>other_sales</th>\n",
       "      <th>critic_score</th>\n",
       "      <th>user_score</th>\n",
       "      <th>rating</th>\n",
       "      <th>total_sales</th>\n",
       "    </tr>\n",
       "  </thead>\n",
       "  <tbody>\n",
       "    <tr>\n",
       "      <th>31</th>\n",
       "      <td>call of duty: black ops 3</td>\n",
       "      <td>ps4</td>\n",
       "      <td>2015</td>\n",
       "      <td>Shooter</td>\n",
       "      <td>6.03</td>\n",
       "      <td>5.86</td>\n",
       "      <td>0.36</td>\n",
       "      <td>2.38</td>\n",
       "      <td>NaN</td>\n",
       "      <td>NaN</td>\n",
       "      <td>rp</td>\n",
       "      <td>14.63</td>\n",
       "    </tr>\n",
       "    <tr>\n",
       "      <th>33</th>\n",
       "      <td>pokemon x/pokemon y</td>\n",
       "      <td>3ds</td>\n",
       "      <td>2013</td>\n",
       "      <td>Role-Playing</td>\n",
       "      <td>5.28</td>\n",
       "      <td>4.19</td>\n",
       "      <td>4.35</td>\n",
       "      <td>0.78</td>\n",
       "      <td>NaN</td>\n",
       "      <td>NaN</td>\n",
       "      <td>rp</td>\n",
       "      <td>14.60</td>\n",
       "    </tr>\n",
       "    <tr>\n",
       "      <th>42</th>\n",
       "      <td>grand theft auto v</td>\n",
       "      <td>ps4</td>\n",
       "      <td>2014</td>\n",
       "      <td>Action</td>\n",
       "      <td>3.96</td>\n",
       "      <td>6.31</td>\n",
       "      <td>0.38</td>\n",
       "      <td>1.97</td>\n",
       "      <td>97.0</td>\n",
       "      <td>8.3</td>\n",
       "      <td>4</td>\n",
       "      <td>12.62</td>\n",
       "    </tr>\n",
       "    <tr>\n",
       "      <th>47</th>\n",
       "      <td>pokemon omega ruby/pokemon alpha sapphire</td>\n",
       "      <td>3ds</td>\n",
       "      <td>2014</td>\n",
       "      <td>Role-Playing</td>\n",
       "      <td>4.35</td>\n",
       "      <td>3.49</td>\n",
       "      <td>3.10</td>\n",
       "      <td>0.74</td>\n",
       "      <td>NaN</td>\n",
       "      <td>NaN</td>\n",
       "      <td>rp</td>\n",
       "      <td>11.68</td>\n",
       "    </tr>\n",
       "    <tr>\n",
       "      <th>62</th>\n",
       "      <td>new super mario bros. 2</td>\n",
       "      <td>3ds</td>\n",
       "      <td>2012</td>\n",
       "      <td>Platform</td>\n",
       "      <td>3.66</td>\n",
       "      <td>3.14</td>\n",
       "      <td>2.47</td>\n",
       "      <td>0.63</td>\n",
       "      <td>78.0</td>\n",
       "      <td>7.2</td>\n",
       "      <td>1</td>\n",
       "      <td>9.90</td>\n",
       "    </tr>\n",
       "    <tr>\n",
       "      <th>...</th>\n",
       "      <td>...</td>\n",
       "      <td>...</td>\n",
       "      <td>...</td>\n",
       "      <td>...</td>\n",
       "      <td>...</td>\n",
       "      <td>...</td>\n",
       "      <td>...</td>\n",
       "      <td>...</td>\n",
       "      <td>...</td>\n",
       "      <td>...</td>\n",
       "      <td>...</td>\n",
       "      <td>...</td>\n",
       "    </tr>\n",
       "    <tr>\n",
       "      <th>16396</th>\n",
       "      <td>hanasaku manimani</td>\n",
       "      <td>psv</td>\n",
       "      <td>2014</td>\n",
       "      <td>Adventure</td>\n",
       "      <td>0.00</td>\n",
       "      <td>0.00</td>\n",
       "      <td>0.01</td>\n",
       "      <td>0.00</td>\n",
       "      <td>NaN</td>\n",
       "      <td>NaN</td>\n",
       "      <td>rp</td>\n",
       "      <td>0.01</td>\n",
       "    </tr>\n",
       "    <tr>\n",
       "      <th>16397</th>\n",
       "      <td>fujiko f. fujio characters: great assembly! sl...</td>\n",
       "      <td>3ds</td>\n",
       "      <td>2014</td>\n",
       "      <td>Action</td>\n",
       "      <td>0.00</td>\n",
       "      <td>0.00</td>\n",
       "      <td>0.01</td>\n",
       "      <td>0.00</td>\n",
       "      <td>NaN</td>\n",
       "      <td>NaN</td>\n",
       "      <td>rp</td>\n",
       "      <td>0.01</td>\n",
       "    </tr>\n",
       "    <tr>\n",
       "      <th>16407</th>\n",
       "      <td>end of nations</td>\n",
       "      <td>pc</td>\n",
       "      <td>2012</td>\n",
       "      <td>Strategy</td>\n",
       "      <td>0.01</td>\n",
       "      <td>0.00</td>\n",
       "      <td>0.00</td>\n",
       "      <td>0.00</td>\n",
       "      <td>NaN</td>\n",
       "      <td>NaN</td>\n",
       "      <td>3</td>\n",
       "      <td>0.01</td>\n",
       "    </tr>\n",
       "    <tr>\n",
       "      <th>16421</th>\n",
       "      <td>metal gear solid v: ground zeroes</td>\n",
       "      <td>pc</td>\n",
       "      <td>2014</td>\n",
       "      <td>Action</td>\n",
       "      <td>0.00</td>\n",
       "      <td>0.01</td>\n",
       "      <td>0.00</td>\n",
       "      <td>0.00</td>\n",
       "      <td>80.0</td>\n",
       "      <td>7.6</td>\n",
       "      <td>4</td>\n",
       "      <td>0.01</td>\n",
       "    </tr>\n",
       "    <tr>\n",
       "      <th>16436</th>\n",
       "      <td>aiyoku no eustia</td>\n",
       "      <td>psv</td>\n",
       "      <td>2014</td>\n",
       "      <td>Misc</td>\n",
       "      <td>0.00</td>\n",
       "      <td>0.00</td>\n",
       "      <td>0.01</td>\n",
       "      <td>0.00</td>\n",
       "      <td>NaN</td>\n",
       "      <td>NaN</td>\n",
       "      <td>rp</td>\n",
       "      <td>0.01</td>\n",
       "    </tr>\n",
       "  </tbody>\n",
       "</table>\n",
       "<p>1393 rows × 12 columns</p>\n",
       "</div>"
      ],
      "text/plain": [
       "                                                    name platform  \\\n",
       "31                             call of duty: black ops 3      ps4   \n",
       "33                                   pokemon x/pokemon y      3ds   \n",
       "42                                    grand theft auto v      ps4   \n",
       "47             pokemon omega ruby/pokemon alpha sapphire      3ds   \n",
       "62                               new super mario bros. 2      3ds   \n",
       "...                                                  ...      ...   \n",
       "16396                                  hanasaku manimani      psv   \n",
       "16397  fujiko f. fujio characters: great assembly! sl...      3ds   \n",
       "16407                                     end of nations       pc   \n",
       "16421                  metal gear solid v: ground zeroes       pc   \n",
       "16436                                   aiyoku no eustia      psv   \n",
       "\n",
       "       year_of_release         genre  na_sales  eu_sales  jp_sales  \\\n",
       "31                2015       Shooter      6.03      5.86      0.36   \n",
       "33                2013  Role-Playing      5.28      4.19      4.35   \n",
       "42                2014        Action      3.96      6.31      0.38   \n",
       "47                2014  Role-Playing      4.35      3.49      3.10   \n",
       "62                2012      Platform      3.66      3.14      2.47   \n",
       "...                ...           ...       ...       ...       ...   \n",
       "16396             2014     Adventure      0.00      0.00      0.01   \n",
       "16397             2014        Action      0.00      0.00      0.01   \n",
       "16407             2012      Strategy      0.01      0.00      0.00   \n",
       "16421             2014        Action      0.00      0.01      0.00   \n",
       "16436             2014          Misc      0.00      0.00      0.01   \n",
       "\n",
       "       other_sales  critic_score  user_score rating  total_sales  \n",
       "31            2.38           NaN         NaN     rp        14.63  \n",
       "33            0.78           NaN         NaN     rp        14.60  \n",
       "42            1.97          97.0         8.3      4        12.62  \n",
       "47            0.74           NaN         NaN     rp        11.68  \n",
       "62            0.63          78.0         7.2      1         9.90  \n",
       "...            ...           ...         ...    ...          ...  \n",
       "16396         0.00           NaN         NaN     rp         0.01  \n",
       "16397         0.00           NaN         NaN     rp         0.01  \n",
       "16407         0.00           NaN         NaN      3         0.01  \n",
       "16421         0.00          80.0         7.6      4         0.01  \n",
       "16436         0.00           NaN         NaN     rp         0.01  \n",
       "\n",
       "[1393 rows x 12 columns]"
      ]
     },
     "execution_count": 58,
     "metadata": {},
     "output_type": "execute_result"
    }
   ],
   "source": [
    "# подумал, что с 2012 года - оптимальное решение - ни слишком большой отрезок, ни слишком корот\n",
    "data_actual = data.query('year_of_release>=2012 and platform in @actual_platform')\n",
    "data_actual"
   ]
  },
  {
   "cell_type": "code",
   "execution_count": 59,
   "metadata": {},
   "outputs": [],
   "source": [
    "data_pl = data_actual.pivot_table(index='year_of_release', columns='platform', values='total_sales', aggfunc='sum')\n",
    "data_pl = pd.DataFrame(data_pl)"
   ]
  },
  {
   "cell_type": "code",
   "execution_count": 60,
   "metadata": {},
   "outputs": [
    {
     "data": {
      "text/plain": [
       "<AxesSubplot:xlabel='year_of_release'>"
      ]
     },
     "execution_count": 60,
     "metadata": {},
     "output_type": "execute_result"
    },
    {
     "data": {
      "image/png": "[encoded data removed]",
      "text/plain": [
       "<Figure size 1080x504 with 1 Axes>"
      ]
     },
     "metadata": {
      "needs_background": "light"
     },
     "output_type": "display_data"
    }
   ],
   "source": [
    "data_pl.plot(figsize=(15,7))"
   ]
  },
  {
   "cell_type": "code",
   "execution_count": 61,
   "metadata": {},
   "outputs": [
    {
     "data": {
      "text/html": [
       "<div>\n",
       "<style scoped>\n",
       "    .dataframe tbody tr th:only-of-type {\n",
       "        vertical-align: middle;\n",
       "    }\n",
       "\n",
       "    .dataframe tbody tr th {\n",
       "        vertical-align: top;\n",
       "    }\n",
       "\n",
       "    .dataframe thead th {\n",
       "        text-align: right;\n",
       "    }\n",
       "</style>\n",
       "<table border=\"1\" class=\"dataframe\">\n",
       "  <thead>\n",
       "    <tr style=\"text-align: right;\">\n",
       "      <th>year_of_release</th>\n",
       "      <th>1992</th>\n",
       "      <th>1993</th>\n",
       "      <th>1994</th>\n",
       "      <th>1995</th>\n",
       "      <th>1996</th>\n",
       "      <th>1997</th>\n",
       "      <th>1998</th>\n",
       "      <th>1999</th>\n",
       "      <th>2000</th>\n",
       "      <th>2001</th>\n",
       "      <th>...</th>\n",
       "      <th>2006</th>\n",
       "      <th>2007</th>\n",
       "      <th>2008</th>\n",
       "      <th>2009</th>\n",
       "      <th>2010</th>\n",
       "      <th>2011</th>\n",
       "      <th>2012</th>\n",
       "      <th>2013</th>\n",
       "      <th>2014</th>\n",
       "      <th>2015</th>\n",
       "    </tr>\n",
       "    <tr>\n",
       "      <th>platform</th>\n",
       "      <th></th>\n",
       "      <th></th>\n",
       "      <th></th>\n",
       "      <th></th>\n",
       "      <th></th>\n",
       "      <th></th>\n",
       "      <th></th>\n",
       "      <th></th>\n",
       "      <th></th>\n",
       "      <th></th>\n",
       "      <th></th>\n",
       "      <th></th>\n",
       "      <th></th>\n",
       "      <th></th>\n",
       "      <th></th>\n",
       "      <th></th>\n",
       "      <th></th>\n",
       "      <th></th>\n",
       "      <th></th>\n",
       "      <th></th>\n",
       "      <th></th>\n",
       "    </tr>\n",
       "  </thead>\n",
       "  <tbody>\n",
       "    <tr>\n",
       "      <th>3do</th>\n",
       "      <td>NaN</td>\n",
       "      <td>NaN</td>\n",
       "      <td>1.0</td>\n",
       "      <td>2.0</td>\n",
       "      <td>NaN</td>\n",
       "      <td>NaN</td>\n",
       "      <td>NaN</td>\n",
       "      <td>NaN</td>\n",
       "      <td>NaN</td>\n",
       "      <td>NaN</td>\n",
       "      <td>...</td>\n",
       "      <td>NaN</td>\n",
       "      <td>NaN</td>\n",
       "      <td>NaN</td>\n",
       "      <td>NaN</td>\n",
       "      <td>NaN</td>\n",
       "      <td>NaN</td>\n",
       "      <td>NaN</td>\n",
       "      <td>NaN</td>\n",
       "      <td>NaN</td>\n",
       "      <td>NaN</td>\n",
       "    </tr>\n",
       "    <tr>\n",
       "      <th>3ds</th>\n",
       "      <td>NaN</td>\n",
       "      <td>NaN</td>\n",
       "      <td>NaN</td>\n",
       "      <td>NaN</td>\n",
       "      <td>NaN</td>\n",
       "      <td>NaN</td>\n",
       "      <td>NaN</td>\n",
       "      <td>NaN</td>\n",
       "      <td>NaN</td>\n",
       "      <td>NaN</td>\n",
       "      <td>...</td>\n",
       "      <td>NaN</td>\n",
       "      <td>NaN</td>\n",
       "      <td>NaN</td>\n",
       "      <td>NaN</td>\n",
       "      <td>NaN</td>\n",
       "      <td>116.0</td>\n",
       "      <td>93.0</td>\n",
       "      <td>91.0</td>\n",
       "      <td>80.0</td>\n",
       "      <td>86.0</td>\n",
       "    </tr>\n",
       "    <tr>\n",
       "      <th>dc</th>\n",
       "      <td>NaN</td>\n",
       "      <td>NaN</td>\n",
       "      <td>NaN</td>\n",
       "      <td>NaN</td>\n",
       "      <td>NaN</td>\n",
       "      <td>NaN</td>\n",
       "      <td>7.0</td>\n",
       "      <td>14.0</td>\n",
       "      <td>20.0</td>\n",
       "      <td>8.0</td>\n",
       "      <td>...</td>\n",
       "      <td>NaN</td>\n",
       "      <td>1.0</td>\n",
       "      <td>1.0</td>\n",
       "      <td>NaN</td>\n",
       "      <td>NaN</td>\n",
       "      <td>NaN</td>\n",
       "      <td>NaN</td>\n",
       "      <td>NaN</td>\n",
       "      <td>NaN</td>\n",
       "      <td>NaN</td>\n",
       "    </tr>\n",
       "    <tr>\n",
       "      <th>ds</th>\n",
       "      <td>NaN</td>\n",
       "      <td>NaN</td>\n",
       "      <td>NaN</td>\n",
       "      <td>NaN</td>\n",
       "      <td>NaN</td>\n",
       "      <td>NaN</td>\n",
       "      <td>NaN</td>\n",
       "      <td>NaN</td>\n",
       "      <td>NaN</td>\n",
       "      <td>NaN</td>\n",
       "      <td>...</td>\n",
       "      <td>201.0</td>\n",
       "      <td>376.0</td>\n",
       "      <td>492.0</td>\n",
       "      <td>403.0</td>\n",
       "      <td>323.0</td>\n",
       "      <td>153.0</td>\n",
       "      <td>23.0</td>\n",
       "      <td>8.0</td>\n",
       "      <td>NaN</td>\n",
       "      <td>NaN</td>\n",
       "    </tr>\n",
       "    <tr>\n",
       "      <th>gb</th>\n",
       "      <td>7.0</td>\n",
       "      <td>NaN</td>\n",
       "      <td>3.0</td>\n",
       "      <td>4.0</td>\n",
       "      <td>6.0</td>\n",
       "      <td>8.0</td>\n",
       "      <td>8.0</td>\n",
       "      <td>11.0</td>\n",
       "      <td>17.0</td>\n",
       "      <td>10.0</td>\n",
       "      <td>...</td>\n",
       "      <td>NaN</td>\n",
       "      <td>NaN</td>\n",
       "      <td>NaN</td>\n",
       "      <td>NaN</td>\n",
       "      <td>NaN</td>\n",
       "      <td>NaN</td>\n",
       "      <td>NaN</td>\n",
       "      <td>NaN</td>\n",
       "      <td>NaN</td>\n",
       "      <td>NaN</td>\n",
       "    </tr>\n",
       "    <tr>\n",
       "      <th>gba</th>\n",
       "      <td>NaN</td>\n",
       "      <td>NaN</td>\n",
       "      <td>NaN</td>\n",
       "      <td>NaN</td>\n",
       "      <td>NaN</td>\n",
       "      <td>NaN</td>\n",
       "      <td>NaN</td>\n",
       "      <td>NaN</td>\n",
       "      <td>1.0</td>\n",
       "      <td>107.0</td>\n",
       "      <td>...</td>\n",
       "      <td>39.0</td>\n",
       "      <td>6.0</td>\n",
       "      <td>NaN</td>\n",
       "      <td>NaN</td>\n",
       "      <td>NaN</td>\n",
       "      <td>NaN</td>\n",
       "      <td>NaN</td>\n",
       "      <td>NaN</td>\n",
       "      <td>NaN</td>\n",
       "      <td>NaN</td>\n",
       "    </tr>\n",
       "    <tr>\n",
       "      <th>gc</th>\n",
       "      <td>NaN</td>\n",
       "      <td>NaN</td>\n",
       "      <td>NaN</td>\n",
       "      <td>NaN</td>\n",
       "      <td>NaN</td>\n",
       "      <td>NaN</td>\n",
       "      <td>NaN</td>\n",
       "      <td>NaN</td>\n",
       "      <td>NaN</td>\n",
       "      <td>22.0</td>\n",
       "      <td>...</td>\n",
       "      <td>40.0</td>\n",
       "      <td>4.0</td>\n",
       "      <td>NaN</td>\n",
       "      <td>NaN</td>\n",
       "      <td>NaN</td>\n",
       "      <td>NaN</td>\n",
       "      <td>NaN</td>\n",
       "      <td>NaN</td>\n",
       "      <td>NaN</td>\n",
       "      <td>NaN</td>\n",
       "    </tr>\n",
       "    <tr>\n",
       "      <th>gen</th>\n",
       "      <td>6.0</td>\n",
       "      <td>7.0</td>\n",
       "      <td>12.0</td>\n",
       "      <td>NaN</td>\n",
       "      <td>NaN</td>\n",
       "      <td>NaN</td>\n",
       "      <td>NaN</td>\n",
       "      <td>NaN</td>\n",
       "      <td>NaN</td>\n",
       "      <td>NaN</td>\n",
       "      <td>...</td>\n",
       "      <td>NaN</td>\n",
       "      <td>NaN</td>\n",
       "      <td>NaN</td>\n",
       "      <td>NaN</td>\n",
       "      <td>NaN</td>\n",
       "      <td>NaN</td>\n",
       "      <td>NaN</td>\n",
       "      <td>NaN</td>\n",
       "      <td>NaN</td>\n",
       "      <td>NaN</td>\n",
       "    </tr>\n",
       "    <tr>\n",
       "      <th>gg</th>\n",
       "      <td>1.0</td>\n",
       "      <td>NaN</td>\n",
       "      <td>NaN</td>\n",
       "      <td>NaN</td>\n",
       "      <td>NaN</td>\n",
       "      <td>NaN</td>\n",
       "      <td>NaN</td>\n",
       "      <td>NaN</td>\n",
       "      <td>NaN</td>\n",
       "      <td>NaN</td>\n",
       "      <td>...</td>\n",
       "      <td>NaN</td>\n",
       "      <td>NaN</td>\n",
       "      <td>NaN</td>\n",
       "      <td>NaN</td>\n",
       "      <td>NaN</td>\n",
       "      <td>NaN</td>\n",
       "      <td>NaN</td>\n",
       "      <td>NaN</td>\n",
       "      <td>NaN</td>\n",
       "      <td>NaN</td>\n",
       "    </tr>\n",
       "    <tr>\n",
       "      <th>n64</th>\n",
       "      <td>NaN</td>\n",
       "      <td>NaN</td>\n",
       "      <td>NaN</td>\n",
       "      <td>NaN</td>\n",
       "      <td>18.0</td>\n",
       "      <td>49.0</td>\n",
       "      <td>77.0</td>\n",
       "      <td>102.0</td>\n",
       "      <td>60.0</td>\n",
       "      <td>9.0</td>\n",
       "      <td>...</td>\n",
       "      <td>NaN</td>\n",
       "      <td>NaN</td>\n",
       "      <td>NaN</td>\n",
       "      <td>NaN</td>\n",
       "      <td>NaN</td>\n",
       "      <td>NaN</td>\n",
       "      <td>NaN</td>\n",
       "      <td>NaN</td>\n",
       "      <td>NaN</td>\n",
       "      <td>NaN</td>\n",
       "    </tr>\n",
       "    <tr>\n",
       "      <th>nes</th>\n",
       "      <td>3.0</td>\n",
       "      <td>4.0</td>\n",
       "      <td>1.0</td>\n",
       "      <td>NaN</td>\n",
       "      <td>NaN</td>\n",
       "      <td>NaN</td>\n",
       "      <td>NaN</td>\n",
       "      <td>NaN</td>\n",
       "      <td>NaN</td>\n",
       "      <td>NaN</td>\n",
       "      <td>...</td>\n",
       "      <td>NaN</td>\n",
       "      <td>NaN</td>\n",
       "      <td>NaN</td>\n",
       "      <td>NaN</td>\n",
       "      <td>NaN</td>\n",
       "      <td>NaN</td>\n",
       "      <td>NaN</td>\n",
       "      <td>NaN</td>\n",
       "      <td>NaN</td>\n",
       "      <td>NaN</td>\n",
       "    </tr>\n",
       "    <tr>\n",
       "      <th>ng</th>\n",
       "      <td>NaN</td>\n",
       "      <td>2.0</td>\n",
       "      <td>4.0</td>\n",
       "      <td>4.0</td>\n",
       "      <td>2.0</td>\n",
       "      <td>NaN</td>\n",
       "      <td>NaN</td>\n",
       "      <td>NaN</td>\n",
       "      <td>NaN</td>\n",
       "      <td>NaN</td>\n",
       "      <td>...</td>\n",
       "      <td>NaN</td>\n",
       "      <td>NaN</td>\n",
       "      <td>NaN</td>\n",
       "      <td>NaN</td>\n",
       "      <td>NaN</td>\n",
       "      <td>NaN</td>\n",
       "      <td>NaN</td>\n",
       "      <td>NaN</td>\n",
       "      <td>NaN</td>\n",
       "      <td>NaN</td>\n",
       "    </tr>\n",
       "    <tr>\n",
       "      <th>pc</th>\n",
       "      <td>5.0</td>\n",
       "      <td>NaN</td>\n",
       "      <td>6.0</td>\n",
       "      <td>2.0</td>\n",
       "      <td>4.0</td>\n",
       "      <td>6.0</td>\n",
       "      <td>8.0</td>\n",
       "      <td>7.0</td>\n",
       "      <td>7.0</td>\n",
       "      <td>15.0</td>\n",
       "      <td>...</td>\n",
       "      <td>52.0</td>\n",
       "      <td>62.0</td>\n",
       "      <td>76.0</td>\n",
       "      <td>107.0</td>\n",
       "      <td>90.0</td>\n",
       "      <td>139.0</td>\n",
       "      <td>61.0</td>\n",
       "      <td>38.0</td>\n",
       "      <td>47.0</td>\n",
       "      <td>50.0</td>\n",
       "    </tr>\n",
       "    <tr>\n",
       "      <th>pcfx</th>\n",
       "      <td>NaN</td>\n",
       "      <td>NaN</td>\n",
       "      <td>NaN</td>\n",
       "      <td>NaN</td>\n",
       "      <td>1.0</td>\n",
       "      <td>NaN</td>\n",
       "      <td>NaN</td>\n",
       "      <td>NaN</td>\n",
       "      <td>NaN</td>\n",
       "      <td>NaN</td>\n",
       "      <td>...</td>\n",
       "      <td>NaN</td>\n",
       "      <td>NaN</td>\n",
       "      <td>NaN</td>\n",
       "      <td>NaN</td>\n",
       "      <td>NaN</td>\n",
       "      <td>NaN</td>\n",
       "      <td>NaN</td>\n",
       "      <td>NaN</td>\n",
       "      <td>NaN</td>\n",
       "      <td>NaN</td>\n",
       "    </tr>\n",
       "    <tr>\n",
       "      <th>ps</th>\n",
       "      <td>NaN</td>\n",
       "      <td>NaN</td>\n",
       "      <td>17.0</td>\n",
       "      <td>99.0</td>\n",
       "      <td>164.0</td>\n",
       "      <td>188.0</td>\n",
       "      <td>248.0</td>\n",
       "      <td>200.0</td>\n",
       "      <td>160.0</td>\n",
       "      <td>91.0</td>\n",
       "      <td>...</td>\n",
       "      <td>NaN</td>\n",
       "      <td>NaN</td>\n",
       "      <td>NaN</td>\n",
       "      <td>NaN</td>\n",
       "      <td>NaN</td>\n",
       "      <td>NaN</td>\n",
       "      <td>NaN</td>\n",
       "      <td>NaN</td>\n",
       "      <td>NaN</td>\n",
       "      <td>NaN</td>\n",
       "    </tr>\n",
       "    <tr>\n",
       "      <th>ps2</th>\n",
       "      <td>NaN</td>\n",
       "      <td>NaN</td>\n",
       "      <td>NaN</td>\n",
       "      <td>NaN</td>\n",
       "      <td>NaN</td>\n",
       "      <td>NaN</td>\n",
       "      <td>NaN</td>\n",
       "      <td>NaN</td>\n",
       "      <td>82.0</td>\n",
       "      <td>185.0</td>\n",
       "      <td>...</td>\n",
       "      <td>259.0</td>\n",
       "      <td>214.0</td>\n",
       "      <td>191.0</td>\n",
       "      <td>96.0</td>\n",
       "      <td>38.0</td>\n",
       "      <td>7.0</td>\n",
       "      <td>NaN</td>\n",
       "      <td>NaN</td>\n",
       "      <td>NaN</td>\n",
       "      <td>NaN</td>\n",
       "    </tr>\n",
       "    <tr>\n",
       "      <th>ps3</th>\n",
       "      <td>NaN</td>\n",
       "      <td>NaN</td>\n",
       "      <td>NaN</td>\n",
       "      <td>NaN</td>\n",
       "      <td>NaN</td>\n",
       "      <td>NaN</td>\n",
       "      <td>NaN</td>\n",
       "      <td>NaN</td>\n",
       "      <td>NaN</td>\n",
       "      <td>NaN</td>\n",
       "      <td>...</td>\n",
       "      <td>27.0</td>\n",
       "      <td>90.0</td>\n",
       "      <td>138.0</td>\n",
       "      <td>162.0</td>\n",
       "      <td>181.0</td>\n",
       "      <td>215.0</td>\n",
       "      <td>148.0</td>\n",
       "      <td>126.0</td>\n",
       "      <td>108.0</td>\n",
       "      <td>73.0</td>\n",
       "    </tr>\n",
       "    <tr>\n",
       "      <th>ps4</th>\n",
       "      <td>NaN</td>\n",
       "      <td>NaN</td>\n",
       "      <td>NaN</td>\n",
       "      <td>NaN</td>\n",
       "      <td>NaN</td>\n",
       "      <td>NaN</td>\n",
       "      <td>NaN</td>\n",
       "      <td>NaN</td>\n",
       "      <td>NaN</td>\n",
       "      <td>NaN</td>\n",
       "      <td>...</td>\n",
       "      <td>NaN</td>\n",
       "      <td>NaN</td>\n",
       "      <td>NaN</td>\n",
       "      <td>NaN</td>\n",
       "      <td>NaN</td>\n",
       "      <td>NaN</td>\n",
       "      <td>NaN</td>\n",
       "      <td>16.0</td>\n",
       "      <td>75.0</td>\n",
       "      <td>137.0</td>\n",
       "    </tr>\n",
       "    <tr>\n",
       "      <th>psp</th>\n",
       "      <td>NaN</td>\n",
       "      <td>NaN</td>\n",
       "      <td>NaN</td>\n",
       "      <td>NaN</td>\n",
       "      <td>NaN</td>\n",
       "      <td>NaN</td>\n",
       "      <td>NaN</td>\n",
       "      <td>NaN</td>\n",
       "      <td>NaN</td>\n",
       "      <td>NaN</td>\n",
       "      <td>...</td>\n",
       "      <td>189.0</td>\n",
       "      <td>133.0</td>\n",
       "      <td>100.0</td>\n",
       "      <td>161.0</td>\n",
       "      <td>188.0</td>\n",
       "      <td>139.0</td>\n",
       "      <td>106.0</td>\n",
       "      <td>54.0</td>\n",
       "      <td>10.0</td>\n",
       "      <td>3.0</td>\n",
       "    </tr>\n",
       "    <tr>\n",
       "      <th>psv</th>\n",
       "      <td>NaN</td>\n",
       "      <td>NaN</td>\n",
       "      <td>NaN</td>\n",
       "      <td>NaN</td>\n",
       "      <td>NaN</td>\n",
       "      <td>NaN</td>\n",
       "      <td>NaN</td>\n",
       "      <td>NaN</td>\n",
       "      <td>NaN</td>\n",
       "      <td>NaN</td>\n",
       "      <td>...</td>\n",
       "      <td>NaN</td>\n",
       "      <td>NaN</td>\n",
       "      <td>NaN</td>\n",
       "      <td>NaN</td>\n",
       "      <td>NaN</td>\n",
       "      <td>18.0</td>\n",
       "      <td>53.0</td>\n",
       "      <td>63.0</td>\n",
       "      <td>100.0</td>\n",
       "      <td>110.0</td>\n",
       "    </tr>\n",
       "    <tr>\n",
       "      <th>sat</th>\n",
       "      <td>NaN</td>\n",
       "      <td>NaN</td>\n",
       "      <td>19.0</td>\n",
       "      <td>52.0</td>\n",
       "      <td>38.0</td>\n",
       "      <td>34.0</td>\n",
       "      <td>29.0</td>\n",
       "      <td>1.0</td>\n",
       "      <td>NaN</td>\n",
       "      <td>NaN</td>\n",
       "      <td>...</td>\n",
       "      <td>NaN</td>\n",
       "      <td>NaN</td>\n",
       "      <td>NaN</td>\n",
       "      <td>NaN</td>\n",
       "      <td>NaN</td>\n",
       "      <td>NaN</td>\n",
       "      <td>NaN</td>\n",
       "      <td>NaN</td>\n",
       "      <td>NaN</td>\n",
       "      <td>NaN</td>\n",
       "    </tr>\n",
       "    <tr>\n",
       "      <th>scd</th>\n",
       "      <td>NaN</td>\n",
       "      <td>1.0</td>\n",
       "      <td>5.0</td>\n",
       "      <td>NaN</td>\n",
       "      <td>NaN</td>\n",
       "      <td>NaN</td>\n",
       "      <td>NaN</td>\n",
       "      <td>NaN</td>\n",
       "      <td>NaN</td>\n",
       "      <td>NaN</td>\n",
       "      <td>...</td>\n",
       "      <td>NaN</td>\n",
       "      <td>NaN</td>\n",
       "      <td>NaN</td>\n",
       "      <td>NaN</td>\n",
       "      <td>NaN</td>\n",
       "      <td>NaN</td>\n",
       "      <td>NaN</td>\n",
       "      <td>NaN</td>\n",
       "      <td>NaN</td>\n",
       "      <td>NaN</td>\n",
       "    </tr>\n",
       "    <tr>\n",
       "      <th>snes</th>\n",
       "      <td>21.0</td>\n",
       "      <td>46.0</td>\n",
       "      <td>53.0</td>\n",
       "      <td>54.0</td>\n",
       "      <td>30.0</td>\n",
       "      <td>4.0</td>\n",
       "      <td>2.0</td>\n",
       "      <td>1.0</td>\n",
       "      <td>NaN</td>\n",
       "      <td>NaN</td>\n",
       "      <td>...</td>\n",
       "      <td>NaN</td>\n",
       "      <td>NaN</td>\n",
       "      <td>NaN</td>\n",
       "      <td>NaN</td>\n",
       "      <td>NaN</td>\n",
       "      <td>NaN</td>\n",
       "      <td>NaN</td>\n",
       "      <td>NaN</td>\n",
       "      <td>NaN</td>\n",
       "      <td>NaN</td>\n",
       "    </tr>\n",
       "    <tr>\n",
       "      <th>tg16</th>\n",
       "      <td>NaN</td>\n",
       "      <td>NaN</td>\n",
       "      <td>NaN</td>\n",
       "      <td>2.0</td>\n",
       "      <td>NaN</td>\n",
       "      <td>NaN</td>\n",
       "      <td>NaN</td>\n",
       "      <td>NaN</td>\n",
       "      <td>NaN</td>\n",
       "      <td>NaN</td>\n",
       "      <td>...</td>\n",
       "      <td>NaN</td>\n",
       "      <td>NaN</td>\n",
       "      <td>NaN</td>\n",
       "      <td>NaN</td>\n",
       "      <td>NaN</td>\n",
       "      <td>NaN</td>\n",
       "      <td>NaN</td>\n",
       "      <td>NaN</td>\n",
       "      <td>NaN</td>\n",
       "      <td>NaN</td>\n",
       "    </tr>\n",
       "    <tr>\n",
       "      <th>wii</th>\n",
       "      <td>NaN</td>\n",
       "      <td>NaN</td>\n",
       "      <td>NaN</td>\n",
       "      <td>NaN</td>\n",
       "      <td>NaN</td>\n",
       "      <td>NaN</td>\n",
       "      <td>NaN</td>\n",
       "      <td>NaN</td>\n",
       "      <td>NaN</td>\n",
       "      <td>NaN</td>\n",
       "      <td>...</td>\n",
       "      <td>44.0</td>\n",
       "      <td>185.0</td>\n",
       "      <td>282.0</td>\n",
       "      <td>325.0</td>\n",
       "      <td>253.0</td>\n",
       "      <td>143.0</td>\n",
       "      <td>31.0</td>\n",
       "      <td>12.0</td>\n",
       "      <td>6.0</td>\n",
       "      <td>4.0</td>\n",
       "    </tr>\n",
       "    <tr>\n",
       "      <th>wiiu</th>\n",
       "      <td>NaN</td>\n",
       "      <td>NaN</td>\n",
       "      <td>NaN</td>\n",
       "      <td>NaN</td>\n",
       "      <td>NaN</td>\n",
       "      <td>NaN</td>\n",
       "      <td>NaN</td>\n",
       "      <td>NaN</td>\n",
       "      <td>NaN</td>\n",
       "      <td>NaN</td>\n",
       "      <td>...</td>\n",
       "      <td>NaN</td>\n",
       "      <td>NaN</td>\n",
       "      <td>NaN</td>\n",
       "      <td>NaN</td>\n",
       "      <td>NaN</td>\n",
       "      <td>NaN</td>\n",
       "      <td>32.0</td>\n",
       "      <td>42.0</td>\n",
       "      <td>31.0</td>\n",
       "      <td>28.0</td>\n",
       "    </tr>\n",
       "    <tr>\n",
       "      <th>ws</th>\n",
       "      <td>NaN</td>\n",
       "      <td>NaN</td>\n",
       "      <td>NaN</td>\n",
       "      <td>NaN</td>\n",
       "      <td>NaN</td>\n",
       "      <td>NaN</td>\n",
       "      <td>NaN</td>\n",
       "      <td>2.0</td>\n",
       "      <td>2.0</td>\n",
       "      <td>2.0</td>\n",
       "      <td>...</td>\n",
       "      <td>NaN</td>\n",
       "      <td>NaN</td>\n",
       "      <td>NaN</td>\n",
       "      <td>NaN</td>\n",
       "      <td>NaN</td>\n",
       "      <td>NaN</td>\n",
       "      <td>NaN</td>\n",
       "      <td>NaN</td>\n",
       "      <td>NaN</td>\n",
       "      <td>NaN</td>\n",
       "    </tr>\n",
       "    <tr>\n",
       "      <th>x360</th>\n",
       "      <td>NaN</td>\n",
       "      <td>NaN</td>\n",
       "      <td>NaN</td>\n",
       "      <td>NaN</td>\n",
       "      <td>NaN</td>\n",
       "      <td>NaN</td>\n",
       "      <td>NaN</td>\n",
       "      <td>NaN</td>\n",
       "      <td>NaN</td>\n",
       "      <td>NaN</td>\n",
       "      <td>...</td>\n",
       "      <td>93.0</td>\n",
       "      <td>123.0</td>\n",
       "      <td>146.0</td>\n",
       "      <td>172.0</td>\n",
       "      <td>182.0</td>\n",
       "      <td>206.0</td>\n",
       "      <td>106.0</td>\n",
       "      <td>75.0</td>\n",
       "      <td>63.0</td>\n",
       "      <td>35.0</td>\n",
       "    </tr>\n",
       "    <tr>\n",
       "      <th>xb</th>\n",
       "      <td>NaN</td>\n",
       "      <td>NaN</td>\n",
       "      <td>NaN</td>\n",
       "      <td>NaN</td>\n",
       "      <td>NaN</td>\n",
       "      <td>NaN</td>\n",
       "      <td>NaN</td>\n",
       "      <td>NaN</td>\n",
       "      <td>1.0</td>\n",
       "      <td>33.0</td>\n",
       "      <td>...</td>\n",
       "      <td>62.0</td>\n",
       "      <td>3.0</td>\n",
       "      <td>1.0</td>\n",
       "      <td>NaN</td>\n",
       "      <td>NaN</td>\n",
       "      <td>NaN</td>\n",
       "      <td>NaN</td>\n",
       "      <td>NaN</td>\n",
       "      <td>NaN</td>\n",
       "      <td>NaN</td>\n",
       "    </tr>\n",
       "    <tr>\n",
       "      <th>xone</th>\n",
       "      <td>NaN</td>\n",
       "      <td>NaN</td>\n",
       "      <td>NaN</td>\n",
       "      <td>NaN</td>\n",
       "      <td>NaN</td>\n",
       "      <td>NaN</td>\n",
       "      <td>NaN</td>\n",
       "      <td>NaN</td>\n",
       "      <td>NaN</td>\n",
       "      <td>NaN</td>\n",
       "      <td>...</td>\n",
       "      <td>NaN</td>\n",
       "      <td>NaN</td>\n",
       "      <td>NaN</td>\n",
       "      <td>NaN</td>\n",
       "      <td>NaN</td>\n",
       "      <td>NaN</td>\n",
       "      <td>NaN</td>\n",
       "      <td>19.0</td>\n",
       "      <td>61.0</td>\n",
       "      <td>80.0</td>\n",
       "    </tr>\n",
       "  </tbody>\n",
       "</table>\n",
       "<p>30 rows × 24 columns</p>\n",
       "</div>"
      ],
      "text/plain": [
       "year_of_release  1992  1993  1994  1995   1996   1997   1998   1999   2000  \\\n",
       "platform                                                                     \n",
       "3do               NaN   NaN   1.0   2.0    NaN    NaN    NaN    NaN    NaN   \n",
       "3ds               NaN   NaN   NaN   NaN    NaN    NaN    NaN    NaN    NaN   \n",
       "dc                NaN   NaN   NaN   NaN    NaN    NaN    7.0   14.0   20.0   \n",
       "ds                NaN   NaN   NaN   NaN    NaN    NaN    NaN    NaN    NaN   \n",
       "gb                7.0   NaN   3.0   4.0    6.0    8.0    8.0   11.0   17.0   \n",
       "gba               NaN   NaN   NaN   NaN    NaN    NaN    NaN    NaN    1.0   \n",
       "gc                NaN   NaN   NaN   NaN    NaN    NaN    NaN    NaN    NaN   \n",
       "gen               6.0   7.0  12.0   NaN    NaN    NaN    NaN    NaN    NaN   \n",
       "gg                1.0   NaN   NaN   NaN    NaN    NaN    NaN    NaN    NaN   \n",
       "n64               NaN   NaN   NaN   NaN   18.0   49.0   77.0  102.0   60.0   \n",
       "nes               3.0   4.0   1.0   NaN    NaN    NaN    NaN    NaN    NaN   \n",
       "ng                NaN   2.0   4.0   4.0    2.0    NaN    NaN    NaN    NaN   \n",
       "pc                5.0   NaN   6.0   2.0    4.0    6.0    8.0    7.0    7.0   \n",
       "pcfx              NaN   NaN   NaN   NaN    1.0    NaN    NaN    NaN    NaN   \n",
       "ps                NaN   NaN  17.0  99.0  164.0  188.0  248.0  200.0  160.0   \n",
       "ps2               NaN   NaN   NaN   NaN    NaN    NaN    NaN    NaN   82.0   \n",
       "ps3               NaN   NaN   NaN   NaN    NaN    NaN    NaN    NaN    NaN   \n",
       "ps4               NaN   NaN   NaN   NaN    NaN    NaN    NaN    NaN    NaN   \n",
       "psp               NaN   NaN   NaN   NaN    NaN    NaN    NaN    NaN    NaN   \n",
       "psv               NaN   NaN   NaN   NaN    NaN    NaN    NaN    NaN    NaN   \n",
       "sat               NaN   NaN  19.0  52.0   38.0   34.0   29.0    1.0    NaN   \n",
       "scd               NaN   1.0   5.0   NaN    NaN    NaN    NaN    NaN    NaN   \n",
       "snes             21.0  46.0  53.0  54.0   30.0    4.0    2.0    1.0    NaN   \n",
       "tg16              NaN   NaN   NaN   2.0    NaN    NaN    NaN    NaN    NaN   \n",
       "wii               NaN   NaN   NaN   NaN    NaN    NaN    NaN    NaN    NaN   \n",
       "wiiu              NaN   NaN   NaN   NaN    NaN    NaN    NaN    NaN    NaN   \n",
       "ws                NaN   NaN   NaN   NaN    NaN    NaN    NaN    2.0    2.0   \n",
       "x360              NaN   NaN   NaN   NaN    NaN    NaN    NaN    NaN    NaN   \n",
       "xb                NaN   NaN   NaN   NaN    NaN    NaN    NaN    NaN    1.0   \n",
       "xone              NaN   NaN   NaN   NaN    NaN    NaN    NaN    NaN    NaN   \n",
       "\n",
       "year_of_release   2001  ...   2006   2007   2008   2009   2010   2011   2012  \\\n",
       "platform                ...                                                    \n",
       "3do                NaN  ...    NaN    NaN    NaN    NaN    NaN    NaN    NaN   \n",
       "3ds                NaN  ...    NaN    NaN    NaN    NaN    NaN  116.0   93.0   \n",
       "dc                 8.0  ...    NaN    1.0    1.0    NaN    NaN    NaN    NaN   \n",
       "ds                 NaN  ...  201.0  376.0  492.0  403.0  323.0  153.0   23.0   \n",
       "gb                10.0  ...    NaN    NaN    NaN    NaN    NaN    NaN    NaN   \n",
       "gba              107.0  ...   39.0    6.0    NaN    NaN    NaN    NaN    NaN   \n",
       "gc                22.0  ...   40.0    4.0    NaN    NaN    NaN    NaN    NaN   \n",
       "gen                NaN  ...    NaN    NaN    NaN    NaN    NaN    NaN    NaN   \n",
       "gg                 NaN  ...    NaN    NaN    NaN    NaN    NaN    NaN    NaN   \n",
       "n64                9.0  ...    NaN    NaN    NaN    NaN    NaN    NaN    NaN   \n",
       "nes                NaN  ...    NaN    NaN    NaN    NaN    NaN    NaN    NaN   \n",
       "ng                 NaN  ...    NaN    NaN    NaN    NaN    NaN    NaN    NaN   \n",
       "pc                15.0  ...   52.0   62.0   76.0  107.0   90.0  139.0   61.0   \n",
       "pcfx               NaN  ...    NaN    NaN    NaN    NaN    NaN    NaN    NaN   \n",
       "ps                91.0  ...    NaN    NaN    NaN    NaN    NaN    NaN    NaN   \n",
       "ps2              185.0  ...  259.0  214.0  191.0   96.0   38.0    7.0    NaN   \n",
       "ps3                NaN  ...   27.0   90.0  138.0  162.0  181.0  215.0  148.0   \n",
       "ps4                NaN  ...    NaN    NaN    NaN    NaN    NaN    NaN    NaN   \n",
       "psp                NaN  ...  189.0  133.0  100.0  161.0  188.0  139.0  106.0   \n",
       "psv                NaN  ...    NaN    NaN    NaN    NaN    NaN   18.0   53.0   \n",
       "sat                NaN  ...    NaN    NaN    NaN    NaN    NaN    NaN    NaN   \n",
       "scd                NaN  ...    NaN    NaN    NaN    NaN    NaN    NaN    NaN   \n",
       "snes               NaN  ...    NaN    NaN    NaN    NaN    NaN    NaN    NaN   \n",
       "tg16               NaN  ...    NaN    NaN    NaN    NaN    NaN    NaN    NaN   \n",
       "wii                NaN  ...   44.0  185.0  282.0  325.0  253.0  143.0   31.0   \n",
       "wiiu               NaN  ...    NaN    NaN    NaN    NaN    NaN    NaN   32.0   \n",
       "ws                 2.0  ...    NaN    NaN    NaN    NaN    NaN    NaN    NaN   \n",
       "x360               NaN  ...   93.0  123.0  146.0  172.0  182.0  206.0  106.0   \n",
       "xb                33.0  ...   62.0    3.0    1.0    NaN    NaN    NaN    NaN   \n",
       "xone               NaN  ...    NaN    NaN    NaN    NaN    NaN    NaN    NaN   \n",
       "\n",
       "year_of_release   2013   2014   2015  \n",
       "platform                              \n",
       "3do                NaN    NaN    NaN  \n",
       "3ds               91.0   80.0   86.0  \n",
       "dc                 NaN    NaN    NaN  \n",
       "ds                 8.0    NaN    NaN  \n",
       "gb                 NaN    NaN    NaN  \n",
       "gba                NaN    NaN    NaN  \n",
       "gc                 NaN    NaN    NaN  \n",
       "gen                NaN    NaN    NaN  \n",
       "gg                 NaN    NaN    NaN  \n",
       "n64                NaN    NaN    NaN  \n",
       "nes                NaN    NaN    NaN  \n",
       "ng                 NaN    NaN    NaN  \n",
       "pc                38.0   47.0   50.0  \n",
       "pcfx               NaN    NaN    NaN  \n",
       "ps                 NaN    NaN    NaN  \n",
       "ps2                NaN    NaN    NaN  \n",
       "ps3              126.0  108.0   73.0  \n",
       "ps4               16.0   75.0  137.0  \n",
       "psp               54.0   10.0    3.0  \n",
       "psv               63.0  100.0  110.0  \n",
       "sat                NaN    NaN    NaN  \n",
       "scd                NaN    NaN    NaN  \n",
       "snes               NaN    NaN    NaN  \n",
       "tg16               NaN    NaN    NaN  \n",
       "wii               12.0    6.0    4.0  \n",
       "wiiu              42.0   31.0   28.0  \n",
       "ws                 NaN    NaN    NaN  \n",
       "x360              75.0   63.0   35.0  \n",
       "xb                 NaN    NaN    NaN  \n",
       "xone              19.0   61.0   80.0  \n",
       "\n",
       "[30 rows x 24 columns]"
      ]
     },
     "execution_count": 61,
     "metadata": {},
     "output_type": "execute_result"
    }
   ],
   "source": [
    "qw = data.pivot_table(index='platform', columns='year_of_release', values='name', aggfunc='count')\n",
    "qw"
   ]
  },
  {
   "cell_type": "markdown",
   "metadata": {},
   "source": [
    "<div style=\"border:solid steelblue 1px; padding: 20px\">\n",
    "Так, сопоставив срок жизни платформы и то, сколько на ней заработали в предыдущих годах можно сделатььследующий вывод: xone и ps4 находятся только на стадии роста, в то время как остальные платформы медленно сдают свои позиции. \n",
    "<br /> Однако, и на падающих продаж тоже возможно заработать. К таким платформам относятся wiiu, 3ds. Так же pc долгое время сохраняют свои позиции, поэтому на них тоже стоит обратить внимание. "
   ]
  },
  {
   "cell_type": "code",
   "execution_count": 62,
   "metadata": {},
   "outputs": [],
   "source": [
    "actual_pl = [\"ps4\", \"xone\", \"wiiu\", \"pc\", \"3ds\"]"
   ]
  },
  {
   "cell_type": "markdown",
   "metadata": {},
   "source": [
    "### Постройте график «ящик с усами» по глобальным продажам игр в разбивке по платформам. Опишите результат."
   ]
  },
  {
   "cell_type": "code",
   "execution_count": 63,
   "metadata": {
    "scrolled": true
   },
   "outputs": [
    {
     "data": {
      "text/html": [
       "<div>\n",
       "<style scoped>\n",
       "    .dataframe tbody tr th:only-of-type {\n",
       "        vertical-align: middle;\n",
       "    }\n",
       "\n",
       "    .dataframe tbody tr th {\n",
       "        vertical-align: top;\n",
       "    }\n",
       "\n",
       "    .dataframe thead th {\n",
       "        text-align: right;\n",
       "    }\n",
       "</style>\n",
       "<table border=\"1\" class=\"dataframe\">\n",
       "  <thead>\n",
       "    <tr style=\"text-align: right;\">\n",
       "      <th>platform</th>\n",
       "      <th>3do</th>\n",
       "      <th>3ds</th>\n",
       "      <th>dc</th>\n",
       "      <th>ds</th>\n",
       "      <th>gb</th>\n",
       "      <th>gba</th>\n",
       "      <th>gc</th>\n",
       "      <th>gen</th>\n",
       "      <th>gg</th>\n",
       "      <th>n64</th>\n",
       "      <th>...</th>\n",
       "      <th>sat</th>\n",
       "      <th>scd</th>\n",
       "      <th>snes</th>\n",
       "      <th>tg16</th>\n",
       "      <th>wii</th>\n",
       "      <th>wiiu</th>\n",
       "      <th>ws</th>\n",
       "      <th>x360</th>\n",
       "      <th>xb</th>\n",
       "      <th>xone</th>\n",
       "    </tr>\n",
       "    <tr>\n",
       "      <th>year_of_release</th>\n",
       "      <th></th>\n",
       "      <th></th>\n",
       "      <th></th>\n",
       "      <th></th>\n",
       "      <th></th>\n",
       "      <th></th>\n",
       "      <th></th>\n",
       "      <th></th>\n",
       "      <th></th>\n",
       "      <th></th>\n",
       "      <th></th>\n",
       "      <th></th>\n",
       "      <th></th>\n",
       "      <th></th>\n",
       "      <th></th>\n",
       "      <th></th>\n",
       "      <th></th>\n",
       "      <th></th>\n",
       "      <th></th>\n",
       "      <th></th>\n",
       "      <th></th>\n",
       "    </tr>\n",
       "  </thead>\n",
       "  <tbody>\n",
       "    <tr>\n",
       "      <th>1992</th>\n",
       "      <td>NaN</td>\n",
       "      <td>NaN</td>\n",
       "      <td>NaN</td>\n",
       "      <td>NaN</td>\n",
       "      <td>25.49</td>\n",
       "      <td>NaN</td>\n",
       "      <td>NaN</td>\n",
       "      <td>12.64</td>\n",
       "      <td>0.04</td>\n",
       "      <td>NaN</td>\n",
       "      <td>...</td>\n",
       "      <td>NaN</td>\n",
       "      <td>NaN</td>\n",
       "      <td>32.98</td>\n",
       "      <td>NaN</td>\n",
       "      <td>NaN</td>\n",
       "      <td>NaN</td>\n",
       "      <td>NaN</td>\n",
       "      <td>NaN</td>\n",
       "      <td>NaN</td>\n",
       "      <td>NaN</td>\n",
       "    </tr>\n",
       "    <tr>\n",
       "      <th>1993</th>\n",
       "      <td>NaN</td>\n",
       "      <td>NaN</td>\n",
       "      <td>NaN</td>\n",
       "      <td>NaN</td>\n",
       "      <td>NaN</td>\n",
       "      <td>NaN</td>\n",
       "      <td>NaN</td>\n",
       "      <td>0.65</td>\n",
       "      <td>NaN</td>\n",
       "      <td>NaN</td>\n",
       "      <td>...</td>\n",
       "      <td>NaN</td>\n",
       "      <td>1.50</td>\n",
       "      <td>40.02</td>\n",
       "      <td>NaN</td>\n",
       "      <td>NaN</td>\n",
       "      <td>NaN</td>\n",
       "      <td>NaN</td>\n",
       "      <td>NaN</td>\n",
       "      <td>NaN</td>\n",
       "      <td>NaN</td>\n",
       "    </tr>\n",
       "    <tr>\n",
       "      <th>1994</th>\n",
       "      <td>0.02</td>\n",
       "      <td>NaN</td>\n",
       "      <td>NaN</td>\n",
       "      <td>NaN</td>\n",
       "      <td>12.18</td>\n",
       "      <td>NaN</td>\n",
       "      <td>NaN</td>\n",
       "      <td>8.13</td>\n",
       "      <td>NaN</td>\n",
       "      <td>NaN</td>\n",
       "      <td>...</td>\n",
       "      <td>3.65</td>\n",
       "      <td>0.36</td>\n",
       "      <td>35.08</td>\n",
       "      <td>NaN</td>\n",
       "      <td>NaN</td>\n",
       "      <td>NaN</td>\n",
       "      <td>NaN</td>\n",
       "      <td>NaN</td>\n",
       "      <td>NaN</td>\n",
       "      <td>NaN</td>\n",
       "    </tr>\n",
       "    <tr>\n",
       "      <th>1995</th>\n",
       "      <td>0.08</td>\n",
       "      <td>NaN</td>\n",
       "      <td>NaN</td>\n",
       "      <td>NaN</td>\n",
       "      <td>3.60</td>\n",
       "      <td>NaN</td>\n",
       "      <td>NaN</td>\n",
       "      <td>NaN</td>\n",
       "      <td>NaN</td>\n",
       "      <td>NaN</td>\n",
       "      <td>...</td>\n",
       "      <td>11.57</td>\n",
       "      <td>NaN</td>\n",
       "      <td>32.20</td>\n",
       "      <td>0.16</td>\n",
       "      <td>NaN</td>\n",
       "      <td>NaN</td>\n",
       "      <td>NaN</td>\n",
       "      <td>NaN</td>\n",
       "      <td>NaN</td>\n",
       "      <td>NaN</td>\n",
       "    </tr>\n",
       "    <tr>\n",
       "      <th>1996</th>\n",
       "      <td>NaN</td>\n",
       "      <td>NaN</td>\n",
       "      <td>NaN</td>\n",
       "      <td>NaN</td>\n",
       "      <td>36.03</td>\n",
       "      <td>NaN</td>\n",
       "      <td>NaN</td>\n",
       "      <td>NaN</td>\n",
       "      <td>NaN</td>\n",
       "      <td>34.10</td>\n",
       "      <td>...</td>\n",
       "      <td>7.69</td>\n",
       "      <td>NaN</td>\n",
       "      <td>15.92</td>\n",
       "      <td>NaN</td>\n",
       "      <td>NaN</td>\n",
       "      <td>NaN</td>\n",
       "      <td>NaN</td>\n",
       "      <td>NaN</td>\n",
       "      <td>NaN</td>\n",
       "      <td>NaN</td>\n",
       "    </tr>\n",
       "    <tr>\n",
       "      <th>1997</th>\n",
       "      <td>NaN</td>\n",
       "      <td>NaN</td>\n",
       "      <td>NaN</td>\n",
       "      <td>NaN</td>\n",
       "      <td>6.37</td>\n",
       "      <td>NaN</td>\n",
       "      <td>NaN</td>\n",
       "      <td>NaN</td>\n",
       "      <td>NaN</td>\n",
       "      <td>39.50</td>\n",
       "      <td>...</td>\n",
       "      <td>6.77</td>\n",
       "      <td>NaN</td>\n",
       "      <td>0.99</td>\n",
       "      <td>NaN</td>\n",
       "      <td>NaN</td>\n",
       "      <td>NaN</td>\n",
       "      <td>NaN</td>\n",
       "      <td>NaN</td>\n",
       "      <td>NaN</td>\n",
       "      <td>NaN</td>\n",
       "    </tr>\n",
       "    <tr>\n",
       "      <th>1998</th>\n",
       "      <td>NaN</td>\n",
       "      <td>NaN</td>\n",
       "      <td>3.38</td>\n",
       "      <td>NaN</td>\n",
       "      <td>26.90</td>\n",
       "      <td>NaN</td>\n",
       "      <td>NaN</td>\n",
       "      <td>NaN</td>\n",
       "      <td>NaN</td>\n",
       "      <td>49.24</td>\n",
       "      <td>...</td>\n",
       "      <td>3.82</td>\n",
       "      <td>NaN</td>\n",
       "      <td>0.22</td>\n",
       "      <td>NaN</td>\n",
       "      <td>NaN</td>\n",
       "      <td>NaN</td>\n",
       "      <td>NaN</td>\n",
       "      <td>NaN</td>\n",
       "      <td>NaN</td>\n",
       "      <td>NaN</td>\n",
       "    </tr>\n",
       "    <tr>\n",
       "      <th>1999</th>\n",
       "      <td>NaN</td>\n",
       "      <td>NaN</td>\n",
       "      <td>5.16</td>\n",
       "      <td>NaN</td>\n",
       "      <td>38.00</td>\n",
       "      <td>NaN</td>\n",
       "      <td>NaN</td>\n",
       "      <td>NaN</td>\n",
       "      <td>NaN</td>\n",
       "      <td>57.87</td>\n",
       "      <td>...</td>\n",
       "      <td>0.09</td>\n",
       "      <td>NaN</td>\n",
       "      <td>0.26</td>\n",
       "      <td>NaN</td>\n",
       "      <td>NaN</td>\n",
       "      <td>NaN</td>\n",
       "      <td>0.46</td>\n",
       "      <td>NaN</td>\n",
       "      <td>NaN</td>\n",
       "      <td>NaN</td>\n",
       "    </tr>\n",
       "    <tr>\n",
       "      <th>2000</th>\n",
       "      <td>NaN</td>\n",
       "      <td>NaN</td>\n",
       "      <td>5.99</td>\n",
       "      <td>NaN</td>\n",
       "      <td>19.76</td>\n",
       "      <td>0.07</td>\n",
       "      <td>NaN</td>\n",
       "      <td>NaN</td>\n",
       "      <td>NaN</td>\n",
       "      <td>33.97</td>\n",
       "      <td>...</td>\n",
       "      <td>NaN</td>\n",
       "      <td>NaN</td>\n",
       "      <td>NaN</td>\n",
       "      <td>NaN</td>\n",
       "      <td>NaN</td>\n",
       "      <td>NaN</td>\n",
       "      <td>0.68</td>\n",
       "      <td>NaN</td>\n",
       "      <td>0.99</td>\n",
       "      <td>NaN</td>\n",
       "    </tr>\n",
       "    <tr>\n",
       "      <th>2001</th>\n",
       "      <td>NaN</td>\n",
       "      <td>NaN</td>\n",
       "      <td>1.07</td>\n",
       "      <td>NaN</td>\n",
       "      <td>9.24</td>\n",
       "      <td>61.53</td>\n",
       "      <td>26.34</td>\n",
       "      <td>NaN</td>\n",
       "      <td>NaN</td>\n",
       "      <td>3.25</td>\n",
       "      <td>...</td>\n",
       "      <td>NaN</td>\n",
       "      <td>NaN</td>\n",
       "      <td>NaN</td>\n",
       "      <td>NaN</td>\n",
       "      <td>NaN</td>\n",
       "      <td>NaN</td>\n",
       "      <td>0.28</td>\n",
       "      <td>NaN</td>\n",
       "      <td>22.26</td>\n",
       "      <td>NaN</td>\n",
       "    </tr>\n",
       "    <tr>\n",
       "      <th>2002</th>\n",
       "      <td>NaN</td>\n",
       "      <td>NaN</td>\n",
       "      <td>0.29</td>\n",
       "      <td>NaN</td>\n",
       "      <td>NaN</td>\n",
       "      <td>74.16</td>\n",
       "      <td>51.81</td>\n",
       "      <td>NaN</td>\n",
       "      <td>NaN</td>\n",
       "      <td>0.08</td>\n",
       "      <td>...</td>\n",
       "      <td>NaN</td>\n",
       "      <td>NaN</td>\n",
       "      <td>NaN</td>\n",
       "      <td>NaN</td>\n",
       "      <td>NaN</td>\n",
       "      <td>NaN</td>\n",
       "      <td>NaN</td>\n",
       "      <td>NaN</td>\n",
       "      <td>48.01</td>\n",
       "      <td>NaN</td>\n",
       "    </tr>\n",
       "    <tr>\n",
       "      <th>2003</th>\n",
       "      <td>NaN</td>\n",
       "      <td>NaN</td>\n",
       "      <td>NaN</td>\n",
       "      <td>NaN</td>\n",
       "      <td>NaN</td>\n",
       "      <td>56.67</td>\n",
       "      <td>50.61</td>\n",
       "      <td>NaN</td>\n",
       "      <td>NaN</td>\n",
       "      <td>NaN</td>\n",
       "      <td>...</td>\n",
       "      <td>NaN</td>\n",
       "      <td>NaN</td>\n",
       "      <td>NaN</td>\n",
       "      <td>NaN</td>\n",
       "      <td>NaN</td>\n",
       "      <td>NaN</td>\n",
       "      <td>NaN</td>\n",
       "      <td>NaN</td>\n",
       "      <td>55.04</td>\n",
       "      <td>NaN</td>\n",
       "    </tr>\n",
       "    <tr>\n",
       "      <th>2004</th>\n",
       "      <td>NaN</td>\n",
       "      <td>NaN</td>\n",
       "      <td>NaN</td>\n",
       "      <td>17.27</td>\n",
       "      <td>NaN</td>\n",
       "      <td>77.91</td>\n",
       "      <td>28.82</td>\n",
       "      <td>NaN</td>\n",
       "      <td>NaN</td>\n",
       "      <td>NaN</td>\n",
       "      <td>...</td>\n",
       "      <td>NaN</td>\n",
       "      <td>NaN</td>\n",
       "      <td>NaN</td>\n",
       "      <td>NaN</td>\n",
       "      <td>NaN</td>\n",
       "      <td>NaN</td>\n",
       "      <td>NaN</td>\n",
       "      <td>NaN</td>\n",
       "      <td>65.42</td>\n",
       "      <td>NaN</td>\n",
       "    </tr>\n",
       "    <tr>\n",
       "      <th>2005</th>\n",
       "      <td>NaN</td>\n",
       "      <td>NaN</td>\n",
       "      <td>NaN</td>\n",
       "      <td>130.14</td>\n",
       "      <td>NaN</td>\n",
       "      <td>33.86</td>\n",
       "      <td>27.62</td>\n",
       "      <td>NaN</td>\n",
       "      <td>NaN</td>\n",
       "      <td>NaN</td>\n",
       "      <td>...</td>\n",
       "      <td>NaN</td>\n",
       "      <td>NaN</td>\n",
       "      <td>NaN</td>\n",
       "      <td>NaN</td>\n",
       "      <td>NaN</td>\n",
       "      <td>NaN</td>\n",
       "      <td>NaN</td>\n",
       "      <td>8.25</td>\n",
       "      <td>49.08</td>\n",
       "      <td>NaN</td>\n",
       "    </tr>\n",
       "    <tr>\n",
       "      <th>2006</th>\n",
       "      <td>NaN</td>\n",
       "      <td>NaN</td>\n",
       "      <td>NaN</td>\n",
       "      <td>119.81</td>\n",
       "      <td>NaN</td>\n",
       "      <td>5.28</td>\n",
       "      <td>11.26</td>\n",
       "      <td>NaN</td>\n",
       "      <td>NaN</td>\n",
       "      <td>NaN</td>\n",
       "      <td>...</td>\n",
       "      <td>NaN</td>\n",
       "      <td>NaN</td>\n",
       "      <td>NaN</td>\n",
       "      <td>NaN</td>\n",
       "      <td>137.15</td>\n",
       "      <td>NaN</td>\n",
       "      <td>NaN</td>\n",
       "      <td>51.62</td>\n",
       "      <td>10.04</td>\n",
       "      <td>NaN</td>\n",
       "    </tr>\n",
       "    <tr>\n",
       "      <th>2007</th>\n",
       "      <td>NaN</td>\n",
       "      <td>NaN</td>\n",
       "      <td>0.02</td>\n",
       "      <td>146.94</td>\n",
       "      <td>NaN</td>\n",
       "      <td>3.40</td>\n",
       "      <td>0.27</td>\n",
       "      <td>NaN</td>\n",
       "      <td>NaN</td>\n",
       "      <td>NaN</td>\n",
       "      <td>...</td>\n",
       "      <td>NaN</td>\n",
       "      <td>NaN</td>\n",
       "      <td>NaN</td>\n",
       "      <td>NaN</td>\n",
       "      <td>152.77</td>\n",
       "      <td>NaN</td>\n",
       "      <td>NaN</td>\n",
       "      <td>95.41</td>\n",
       "      <td>0.55</td>\n",
       "      <td>NaN</td>\n",
       "    </tr>\n",
       "    <tr>\n",
       "      <th>2008</th>\n",
       "      <td>NaN</td>\n",
       "      <td>NaN</td>\n",
       "      <td>0.04</td>\n",
       "      <td>145.31</td>\n",
       "      <td>NaN</td>\n",
       "      <td>NaN</td>\n",
       "      <td>NaN</td>\n",
       "      <td>NaN</td>\n",
       "      <td>NaN</td>\n",
       "      <td>NaN</td>\n",
       "      <td>...</td>\n",
       "      <td>NaN</td>\n",
       "      <td>NaN</td>\n",
       "      <td>NaN</td>\n",
       "      <td>NaN</td>\n",
       "      <td>171.32</td>\n",
       "      <td>NaN</td>\n",
       "      <td>NaN</td>\n",
       "      <td>135.26</td>\n",
       "      <td>0.18</td>\n",
       "      <td>NaN</td>\n",
       "    </tr>\n",
       "    <tr>\n",
       "      <th>2009</th>\n",
       "      <td>NaN</td>\n",
       "      <td>NaN</td>\n",
       "      <td>NaN</td>\n",
       "      <td>119.54</td>\n",
       "      <td>NaN</td>\n",
       "      <td>NaN</td>\n",
       "      <td>NaN</td>\n",
       "      <td>NaN</td>\n",
       "      <td>NaN</td>\n",
       "      <td>NaN</td>\n",
       "      <td>...</td>\n",
       "      <td>NaN</td>\n",
       "      <td>NaN</td>\n",
       "      <td>NaN</td>\n",
       "      <td>NaN</td>\n",
       "      <td>206.97</td>\n",
       "      <td>NaN</td>\n",
       "      <td>NaN</td>\n",
       "      <td>120.29</td>\n",
       "      <td>NaN</td>\n",
       "      <td>NaN</td>\n",
       "    </tr>\n",
       "    <tr>\n",
       "      <th>2010</th>\n",
       "      <td>NaN</td>\n",
       "      <td>NaN</td>\n",
       "      <td>NaN</td>\n",
       "      <td>85.02</td>\n",
       "      <td>NaN</td>\n",
       "      <td>NaN</td>\n",
       "      <td>NaN</td>\n",
       "      <td>NaN</td>\n",
       "      <td>NaN</td>\n",
       "      <td>NaN</td>\n",
       "      <td>...</td>\n",
       "      <td>NaN</td>\n",
       "      <td>NaN</td>\n",
       "      <td>NaN</td>\n",
       "      <td>NaN</td>\n",
       "      <td>127.95</td>\n",
       "      <td>NaN</td>\n",
       "      <td>NaN</td>\n",
       "      <td>170.03</td>\n",
       "      <td>NaN</td>\n",
       "      <td>NaN</td>\n",
       "    </tr>\n",
       "    <tr>\n",
       "      <th>2011</th>\n",
       "      <td>NaN</td>\n",
       "      <td>63.20</td>\n",
       "      <td>NaN</td>\n",
       "      <td>26.18</td>\n",
       "      <td>NaN</td>\n",
       "      <td>NaN</td>\n",
       "      <td>NaN</td>\n",
       "      <td>NaN</td>\n",
       "      <td>NaN</td>\n",
       "      <td>NaN</td>\n",
       "      <td>...</td>\n",
       "      <td>NaN</td>\n",
       "      <td>NaN</td>\n",
       "      <td>NaN</td>\n",
       "      <td>NaN</td>\n",
       "      <td>59.65</td>\n",
       "      <td>NaN</td>\n",
       "      <td>NaN</td>\n",
       "      <td>143.84</td>\n",
       "      <td>NaN</td>\n",
       "      <td>NaN</td>\n",
       "    </tr>\n",
       "    <tr>\n",
       "      <th>2012</th>\n",
       "      <td>NaN</td>\n",
       "      <td>51.36</td>\n",
       "      <td>NaN</td>\n",
       "      <td>11.01</td>\n",
       "      <td>NaN</td>\n",
       "      <td>NaN</td>\n",
       "      <td>NaN</td>\n",
       "      <td>NaN</td>\n",
       "      <td>NaN</td>\n",
       "      <td>NaN</td>\n",
       "      <td>...</td>\n",
       "      <td>NaN</td>\n",
       "      <td>NaN</td>\n",
       "      <td>NaN</td>\n",
       "      <td>NaN</td>\n",
       "      <td>21.71</td>\n",
       "      <td>17.56</td>\n",
       "      <td>NaN</td>\n",
       "      <td>99.74</td>\n",
       "      <td>NaN</td>\n",
       "      <td>NaN</td>\n",
       "    </tr>\n",
       "    <tr>\n",
       "      <th>2013</th>\n",
       "      <td>NaN</td>\n",
       "      <td>56.57</td>\n",
       "      <td>NaN</td>\n",
       "      <td>1.54</td>\n",
       "      <td>NaN</td>\n",
       "      <td>NaN</td>\n",
       "      <td>NaN</td>\n",
       "      <td>NaN</td>\n",
       "      <td>NaN</td>\n",
       "      <td>NaN</td>\n",
       "      <td>...</td>\n",
       "      <td>NaN</td>\n",
       "      <td>NaN</td>\n",
       "      <td>NaN</td>\n",
       "      <td>NaN</td>\n",
       "      <td>8.59</td>\n",
       "      <td>21.65</td>\n",
       "      <td>NaN</td>\n",
       "      <td>88.58</td>\n",
       "      <td>NaN</td>\n",
       "      <td>18.96</td>\n",
       "    </tr>\n",
       "    <tr>\n",
       "      <th>2014</th>\n",
       "      <td>NaN</td>\n",
       "      <td>43.76</td>\n",
       "      <td>NaN</td>\n",
       "      <td>NaN</td>\n",
       "      <td>NaN</td>\n",
       "      <td>NaN</td>\n",
       "      <td>NaN</td>\n",
       "      <td>NaN</td>\n",
       "      <td>NaN</td>\n",
       "      <td>NaN</td>\n",
       "      <td>...</td>\n",
       "      <td>NaN</td>\n",
       "      <td>NaN</td>\n",
       "      <td>NaN</td>\n",
       "      <td>NaN</td>\n",
       "      <td>3.75</td>\n",
       "      <td>22.03</td>\n",
       "      <td>NaN</td>\n",
       "      <td>34.74</td>\n",
       "      <td>NaN</td>\n",
       "      <td>54.07</td>\n",
       "    </tr>\n",
       "    <tr>\n",
       "      <th>2015</th>\n",
       "      <td>NaN</td>\n",
       "      <td>27.78</td>\n",
       "      <td>NaN</td>\n",
       "      <td>NaN</td>\n",
       "      <td>NaN</td>\n",
       "      <td>NaN</td>\n",
       "      <td>NaN</td>\n",
       "      <td>NaN</td>\n",
       "      <td>NaN</td>\n",
       "      <td>NaN</td>\n",
       "      <td>...</td>\n",
       "      <td>NaN</td>\n",
       "      <td>NaN</td>\n",
       "      <td>NaN</td>\n",
       "      <td>NaN</td>\n",
       "      <td>1.14</td>\n",
       "      <td>16.35</td>\n",
       "      <td>NaN</td>\n",
       "      <td>11.96</td>\n",
       "      <td>NaN</td>\n",
       "      <td>60.14</td>\n",
       "    </tr>\n",
       "  </tbody>\n",
       "</table>\n",
       "<p>24 rows × 30 columns</p>\n",
       "</div>"
      ],
      "text/plain": [
       "platform          3do    3ds    dc      ds     gb    gba     gc    gen    gg  \\\n",
       "year_of_release                                                                \n",
       "1992              NaN    NaN   NaN     NaN  25.49    NaN    NaN  12.64  0.04   \n",
       "1993              NaN    NaN   NaN     NaN    NaN    NaN    NaN   0.65   NaN   \n",
       "1994             0.02    NaN   NaN     NaN  12.18    NaN    NaN   8.13   NaN   \n",
       "1995             0.08    NaN   NaN     NaN   3.60    NaN    NaN    NaN   NaN   \n",
       "1996              NaN    NaN   NaN     NaN  36.03    NaN    NaN    NaN   NaN   \n",
       "1997              NaN    NaN   NaN     NaN   6.37    NaN    NaN    NaN   NaN   \n",
       "1998              NaN    NaN  3.38     NaN  26.90    NaN    NaN    NaN   NaN   \n",
       "1999              NaN    NaN  5.16     NaN  38.00    NaN    NaN    NaN   NaN   \n",
       "2000              NaN    NaN  5.99     NaN  19.76   0.07    NaN    NaN   NaN   \n",
       "2001              NaN    NaN  1.07     NaN   9.24  61.53  26.34    NaN   NaN   \n",
       "2002              NaN    NaN  0.29     NaN    NaN  74.16  51.81    NaN   NaN   \n",
       "2003              NaN    NaN   NaN     NaN    NaN  56.67  50.61    NaN   NaN   \n",
       "2004              NaN    NaN   NaN   17.27    NaN  77.91  28.82    NaN   NaN   \n",
       "2005              NaN    NaN   NaN  130.14    NaN  33.86  27.62    NaN   NaN   \n",
       "2006              NaN    NaN   NaN  119.81    NaN   5.28  11.26    NaN   NaN   \n",
       "2007              NaN    NaN  0.02  146.94    NaN   3.40   0.27    NaN   NaN   \n",
       "2008              NaN    NaN  0.04  145.31    NaN    NaN    NaN    NaN   NaN   \n",
       "2009              NaN    NaN   NaN  119.54    NaN    NaN    NaN    NaN   NaN   \n",
       "2010              NaN    NaN   NaN   85.02    NaN    NaN    NaN    NaN   NaN   \n",
       "2011              NaN  63.20   NaN   26.18    NaN    NaN    NaN    NaN   NaN   \n",
       "2012              NaN  51.36   NaN   11.01    NaN    NaN    NaN    NaN   NaN   \n",
       "2013              NaN  56.57   NaN    1.54    NaN    NaN    NaN    NaN   NaN   \n",
       "2014              NaN  43.76   NaN     NaN    NaN    NaN    NaN    NaN   NaN   \n",
       "2015              NaN  27.78   NaN     NaN    NaN    NaN    NaN    NaN   NaN   \n",
       "\n",
       "platform           n64  ...    sat   scd   snes  tg16     wii   wiiu    ws  \\\n",
       "year_of_release         ...                                                  \n",
       "1992               NaN  ...    NaN   NaN  32.98   NaN     NaN    NaN   NaN   \n",
       "1993               NaN  ...    NaN  1.50  40.02   NaN     NaN    NaN   NaN   \n",
       "1994               NaN  ...   3.65  0.36  35.08   NaN     NaN    NaN   NaN   \n",
       "1995               NaN  ...  11.57   NaN  32.20  0.16     NaN    NaN   NaN   \n",
       "1996             34.10  ...   7.69   NaN  15.92   NaN     NaN    NaN   NaN   \n",
       "1997             39.50  ...   6.77   NaN   0.99   NaN     NaN    NaN   NaN   \n",
       "1998             49.24  ...   3.82   NaN   0.22   NaN     NaN    NaN   NaN   \n",
       "1999             57.87  ...   0.09   NaN   0.26   NaN     NaN    NaN  0.46   \n",
       "2000             33.97  ...    NaN   NaN    NaN   NaN     NaN    NaN  0.68   \n",
       "2001              3.25  ...    NaN   NaN    NaN   NaN     NaN    NaN  0.28   \n",
       "2002              0.08  ...    NaN   NaN    NaN   NaN     NaN    NaN   NaN   \n",
       "2003               NaN  ...    NaN   NaN    NaN   NaN     NaN    NaN   NaN   \n",
       "2004               NaN  ...    NaN   NaN    NaN   NaN     NaN    NaN   NaN   \n",
       "2005               NaN  ...    NaN   NaN    NaN   NaN     NaN    NaN   NaN   \n",
       "2006               NaN  ...    NaN   NaN    NaN   NaN  137.15    NaN   NaN   \n",
       "2007               NaN  ...    NaN   NaN    NaN   NaN  152.77    NaN   NaN   \n",
       "2008               NaN  ...    NaN   NaN    NaN   NaN  171.32    NaN   NaN   \n",
       "2009               NaN  ...    NaN   NaN    NaN   NaN  206.97    NaN   NaN   \n",
       "2010               NaN  ...    NaN   NaN    NaN   NaN  127.95    NaN   NaN   \n",
       "2011               NaN  ...    NaN   NaN    NaN   NaN   59.65    NaN   NaN   \n",
       "2012               NaN  ...    NaN   NaN    NaN   NaN   21.71  17.56   NaN   \n",
       "2013               NaN  ...    NaN   NaN    NaN   NaN    8.59  21.65   NaN   \n",
       "2014               NaN  ...    NaN   NaN    NaN   NaN    3.75  22.03   NaN   \n",
       "2015               NaN  ...    NaN   NaN    NaN   NaN    1.14  16.35   NaN   \n",
       "\n",
       "platform           x360     xb   xone  \n",
       "year_of_release                        \n",
       "1992                NaN    NaN    NaN  \n",
       "1993                NaN    NaN    NaN  \n",
       "1994                NaN    NaN    NaN  \n",
       "1995                NaN    NaN    NaN  \n",
       "1996                NaN    NaN    NaN  \n",
       "1997                NaN    NaN    NaN  \n",
       "1998                NaN    NaN    NaN  \n",
       "1999                NaN    NaN    NaN  \n",
       "2000                NaN   0.99    NaN  \n",
       "2001                NaN  22.26    NaN  \n",
       "2002                NaN  48.01    NaN  \n",
       "2003                NaN  55.04    NaN  \n",
       "2004                NaN  65.42    NaN  \n",
       "2005               8.25  49.08    NaN  \n",
       "2006              51.62  10.04    NaN  \n",
       "2007              95.41   0.55    NaN  \n",
       "2008             135.26   0.18    NaN  \n",
       "2009             120.29    NaN    NaN  \n",
       "2010             170.03    NaN    NaN  \n",
       "2011             143.84    NaN    NaN  \n",
       "2012              99.74    NaN    NaN  \n",
       "2013              88.58    NaN  18.96  \n",
       "2014              34.74    NaN  54.07  \n",
       "2015              11.96    NaN  60.14  \n",
       "\n",
       "[24 rows x 30 columns]"
      ]
     },
     "execution_count": 63,
     "metadata": {},
     "output_type": "execute_result"
    }
   ],
   "source": [
    "data_year = data.pivot_table(index='year_of_release', columns='platform', values='total_sales', aggfunc='sum')\n",
    "data_year"
   ]
  },
  {
   "cell_type": "code",
   "execution_count": 64,
   "metadata": {},
   "outputs": [
    {
     "data": {
      "text/html": [
       "<div>\n",
       "<style scoped>\n",
       "    .dataframe tbody tr th:only-of-type {\n",
       "        vertical-align: middle;\n",
       "    }\n",
       "\n",
       "    .dataframe tbody tr th {\n",
       "        vertical-align: top;\n",
       "    }\n",
       "\n",
       "    .dataframe thead th {\n",
       "        text-align: right;\n",
       "    }\n",
       "</style>\n",
       "<table border=\"1\" class=\"dataframe\">\n",
       "  <thead>\n",
       "    <tr style=\"text-align: right;\">\n",
       "      <th>platform</th>\n",
       "      <th>3ds</th>\n",
       "      <th>pc</th>\n",
       "      <th>ps4</th>\n",
       "      <th>psv</th>\n",
       "      <th>wiiu</th>\n",
       "      <th>xone</th>\n",
       "    </tr>\n",
       "    <tr>\n",
       "      <th>year_of_release</th>\n",
       "      <th></th>\n",
       "      <th></th>\n",
       "      <th></th>\n",
       "      <th></th>\n",
       "      <th></th>\n",
       "      <th></th>\n",
       "    </tr>\n",
       "  </thead>\n",
       "  <tbody>\n",
       "    <tr>\n",
       "      <th>2012</th>\n",
       "      <td>0.552258</td>\n",
       "      <td>0.380656</td>\n",
       "      <td>NaN</td>\n",
       "      <td>0.305472</td>\n",
       "      <td>0.548750</td>\n",
       "      <td>NaN</td>\n",
       "    </tr>\n",
       "    <tr>\n",
       "      <th>2013</th>\n",
       "      <td>0.621648</td>\n",
       "      <td>0.325789</td>\n",
       "      <td>1.624375</td>\n",
       "      <td>0.168095</td>\n",
       "      <td>0.515476</td>\n",
       "      <td>0.997895</td>\n",
       "    </tr>\n",
       "    <tr>\n",
       "      <th>2014</th>\n",
       "      <td>0.547000</td>\n",
       "      <td>0.282553</td>\n",
       "      <td>1.333333</td>\n",
       "      <td>0.119000</td>\n",
       "      <td>0.710645</td>\n",
       "      <td>0.886393</td>\n",
       "    </tr>\n",
       "    <tr>\n",
       "      <th>2015</th>\n",
       "      <td>0.323023</td>\n",
       "      <td>0.170400</td>\n",
       "      <td>0.867883</td>\n",
       "      <td>0.056818</td>\n",
       "      <td>0.583929</td>\n",
       "      <td>0.751750</td>\n",
       "    </tr>\n",
       "  </tbody>\n",
       "</table>\n",
       "</div>"
      ],
      "text/plain": [
       "platform              3ds        pc       ps4       psv      wiiu      xone\n",
       "year_of_release                                                            \n",
       "2012             0.552258  0.380656       NaN  0.305472  0.548750       NaN\n",
       "2013             0.621648  0.325789  1.624375  0.168095  0.515476  0.997895\n",
       "2014             0.547000  0.282553  1.333333  0.119000  0.710645  0.886393\n",
       "2015             0.323023  0.170400  0.867883  0.056818  0.583929  0.751750"
      ]
     },
     "execution_count": 64,
     "metadata": {},
     "output_type": "execute_result"
    }
   ],
   "source": [
    "data_year = data_actual.pivot_table(index='year_of_release', columns='platform', values='total_sales')\n",
    "data_year"
   ]
  },
  {
   "cell_type": "code",
   "execution_count": 66,
   "metadata": {},
   "outputs": [
    {
     "data": {
      "image/png": "[encoded data removed]",
      "text/plain": [
       "<Figure size 720x720 with 1 Axes>"
      ]
     },
     "metadata": {
      "needs_background": "light"
     },
     "output_type": "display_data"
    }
   ],
   "source": [
    "data_actual[['total_sales', 'platform']].boxplot(column='total_sales', by='platform', figsize=(10,10))\n",
    "plt.xlabel('Платформа')\n",
    "plt.ylabel('Миллионы проданных копий')\n",
    "plt.title('Диаграммы размаха по продажам по платформам')\n",
    "plt.show()"
   ]
  },
  {
   "cell_type": "code",
   "execution_count": 67,
   "metadata": {},
   "outputs": [
    {
     "data": {
      "image/png": "[encoded data removed]",
      "text/plain": [
       "<Figure size 720x720 with 1 Axes>"
      ]
     },
     "metadata": {
      "needs_background": "light"
     },
     "output_type": "display_data"
    }
   ],
   "source": [
    "data_actual[['total_sales', 'platform']].boxplot(column='total_sales', by='platform', figsize=(10,10))\n",
    "plt.xlabel('Платформа')\n",
    "plt.ylabel('Миллионы проданных копий')\n",
    "plt.title('Диаграммы размаха по продажам по платформам')\n",
    "plt.ylim(0,2)\n",
    "plt.show()"
   ]
  },
  {
   "cell_type": "markdown",
   "metadata": {},
   "source": [
    "<div style=\"border:solid steelblue 1px; padding: 20px\">\n",
    "    По данному графику заметно распредление сумм продаж игр по платформам.Так, мы видим, что у моей любимой psp разброс данных мал, оно и понятно, тк это недорогая платформа с недорогими играми, которые можно было скачать из интеренета)\n",
    "\n",
    "Если говорить серьезно, то диагрмма размаха продаж игр по платформам демонстрирует, что наибольшие выбросы у таких платформ как 3ds, ps3, ps4, x360. наиболее стабильной из популярных платформ является xone"
   ]
  },
  {
   "cell_type": "markdown",
   "metadata": {},
   "source": [
    "### Посмотрите, как влияют на продажи внутри одной популярной платформы отзывы пользователей и критиков. Постройте диаграмму рассеяния и посчитайте корреляцию между отзывами и продажами. Сформулируйте выводы."
   ]
  },
  {
   "cell_type": "code",
   "execution_count": 68,
   "metadata": {},
   "outputs": [
    {
     "data": {
      "text/html": [
       "<div>\n",
       "<style scoped>\n",
       "    .dataframe tbody tr th:only-of-type {\n",
       "        vertical-align: middle;\n",
       "    }\n",
       "\n",
       "    .dataframe tbody tr th {\n",
       "        vertical-align: top;\n",
       "    }\n",
       "\n",
       "    .dataframe thead th {\n",
       "        text-align: right;\n",
       "    }\n",
       "</style>\n",
       "<table border=\"1\" class=\"dataframe\">\n",
       "  <thead>\n",
       "    <tr style=\"text-align: right;\">\n",
       "      <th></th>\n",
       "      <th>name</th>\n",
       "      <th>platform</th>\n",
       "      <th>year_of_release</th>\n",
       "      <th>genre</th>\n",
       "      <th>na_sales</th>\n",
       "      <th>eu_sales</th>\n",
       "      <th>jp_sales</th>\n",
       "      <th>other_sales</th>\n",
       "      <th>critic_score</th>\n",
       "      <th>user_score</th>\n",
       "      <th>rating</th>\n",
       "      <th>total_sales</th>\n",
       "    </tr>\n",
       "  </thead>\n",
       "  <tbody>\n",
       "    <tr>\n",
       "      <th>14</th>\n",
       "      <td>kinect adventures!</td>\n",
       "      <td>x360</td>\n",
       "      <td>2010</td>\n",
       "      <td>Misc</td>\n",
       "      <td>15.00</td>\n",
       "      <td>4.89</td>\n",
       "      <td>0.24</td>\n",
       "      <td>1.69</td>\n",
       "      <td>61.0</td>\n",
       "      <td>6.3</td>\n",
       "      <td>1</td>\n",
       "      <td>21.82</td>\n",
       "    </tr>\n",
       "    <tr>\n",
       "      <th>23</th>\n",
       "      <td>grand theft auto v</td>\n",
       "      <td>x360</td>\n",
       "      <td>2013</td>\n",
       "      <td>Action</td>\n",
       "      <td>9.66</td>\n",
       "      <td>5.14</td>\n",
       "      <td>0.06</td>\n",
       "      <td>1.41</td>\n",
       "      <td>97.0</td>\n",
       "      <td>8.1</td>\n",
       "      <td>4</td>\n",
       "      <td>16.27</td>\n",
       "    </tr>\n",
       "    <tr>\n",
       "      <th>29</th>\n",
       "      <td>call of duty: modern warfare 3</td>\n",
       "      <td>x360</td>\n",
       "      <td>2011</td>\n",
       "      <td>Shooter</td>\n",
       "      <td>9.04</td>\n",
       "      <td>4.24</td>\n",
       "      <td>0.13</td>\n",
       "      <td>1.32</td>\n",
       "      <td>88.0</td>\n",
       "      <td>3.4</td>\n",
       "      <td>4</td>\n",
       "      <td>14.73</td>\n",
       "    </tr>\n",
       "    <tr>\n",
       "      <th>32</th>\n",
       "      <td>call of duty: black ops</td>\n",
       "      <td>x360</td>\n",
       "      <td>2010</td>\n",
       "      <td>Shooter</td>\n",
       "      <td>9.70</td>\n",
       "      <td>3.68</td>\n",
       "      <td>0.11</td>\n",
       "      <td>1.13</td>\n",
       "      <td>87.0</td>\n",
       "      <td>6.3</td>\n",
       "      <td>4</td>\n",
       "      <td>14.62</td>\n",
       "    </tr>\n",
       "    <tr>\n",
       "      <th>35</th>\n",
       "      <td>call of duty: black ops ii</td>\n",
       "      <td>x360</td>\n",
       "      <td>2012</td>\n",
       "      <td>Shooter</td>\n",
       "      <td>8.25</td>\n",
       "      <td>4.24</td>\n",
       "      <td>0.07</td>\n",
       "      <td>1.12</td>\n",
       "      <td>83.0</td>\n",
       "      <td>4.8</td>\n",
       "      <td>4</td>\n",
       "      <td>13.68</td>\n",
       "    </tr>\n",
       "    <tr>\n",
       "      <th>...</th>\n",
       "      <td>...</td>\n",
       "      <td>...</td>\n",
       "      <td>...</td>\n",
       "      <td>...</td>\n",
       "      <td>...</td>\n",
       "      <td>...</td>\n",
       "      <td>...</td>\n",
       "      <td>...</td>\n",
       "      <td>...</td>\n",
       "      <td>...</td>\n",
       "      <td>...</td>\n",
       "      <td>...</td>\n",
       "    </tr>\n",
       "    <tr>\n",
       "      <th>16342</th>\n",
       "      <td>dragon ball z for kinect</td>\n",
       "      <td>x360</td>\n",
       "      <td>2012</td>\n",
       "      <td>Fighting</td>\n",
       "      <td>0.01</td>\n",
       "      <td>0.00</td>\n",
       "      <td>0.00</td>\n",
       "      <td>0.00</td>\n",
       "      <td>49.0</td>\n",
       "      <td>2.1</td>\n",
       "      <td>3</td>\n",
       "      <td>0.01</td>\n",
       "    </tr>\n",
       "    <tr>\n",
       "      <th>16351</th>\n",
       "      <td>world snooker championship 2007</td>\n",
       "      <td>x360</td>\n",
       "      <td>2007</td>\n",
       "      <td>Sports</td>\n",
       "      <td>0.00</td>\n",
       "      <td>0.01</td>\n",
       "      <td>0.00</td>\n",
       "      <td>0.00</td>\n",
       "      <td>NaN</td>\n",
       "      <td>NaN</td>\n",
       "      <td>rp</td>\n",
       "      <td>0.01</td>\n",
       "    </tr>\n",
       "    <tr>\n",
       "      <th>16376</th>\n",
       "      <td>metal gear solid hd edition</td>\n",
       "      <td>x360</td>\n",
       "      <td>2011</td>\n",
       "      <td>Action</td>\n",
       "      <td>0.00</td>\n",
       "      <td>0.00</td>\n",
       "      <td>0.01</td>\n",
       "      <td>0.00</td>\n",
       "      <td>NaN</td>\n",
       "      <td>NaN</td>\n",
       "      <td>4</td>\n",
       "      <td>0.01</td>\n",
       "    </tr>\n",
       "    <tr>\n",
       "      <th>16383</th>\n",
       "      <td>ben 10 omniverse 2</td>\n",
       "      <td>x360</td>\n",
       "      <td>2013</td>\n",
       "      <td>Action</td>\n",
       "      <td>0.00</td>\n",
       "      <td>0.01</td>\n",
       "      <td>0.00</td>\n",
       "      <td>0.00</td>\n",
       "      <td>NaN</td>\n",
       "      <td>5.1</td>\n",
       "      <td>110+</td>\n",
       "      <td>0.01</td>\n",
       "    </tr>\n",
       "    <tr>\n",
       "      <th>16440</th>\n",
       "      <td>lma manager 2007</td>\n",
       "      <td>x360</td>\n",
       "      <td>2006</td>\n",
       "      <td>Sports</td>\n",
       "      <td>0.00</td>\n",
       "      <td>0.01</td>\n",
       "      <td>0.00</td>\n",
       "      <td>0.00</td>\n",
       "      <td>NaN</td>\n",
       "      <td>NaN</td>\n",
       "      <td>rp</td>\n",
       "      <td>0.01</td>\n",
       "    </tr>\n",
       "  </tbody>\n",
       "</table>\n",
       "<p>1219 rows × 12 columns</p>\n",
       "</div>"
      ],
      "text/plain": [
       "                                  name platform  year_of_release     genre  \\\n",
       "14                  kinect adventures!     x360             2010      Misc   \n",
       "23                  grand theft auto v     x360             2013    Action   \n",
       "29      call of duty: modern warfare 3     x360             2011   Shooter   \n",
       "32             call of duty: black ops     x360             2010   Shooter   \n",
       "35          call of duty: black ops ii     x360             2012   Shooter   \n",
       "...                                ...      ...              ...       ...   \n",
       "16342         dragon ball z for kinect     x360             2012  Fighting   \n",
       "16351  world snooker championship 2007     x360             2007    Sports   \n",
       "16376      metal gear solid hd edition     x360             2011    Action   \n",
       "16383               ben 10 omniverse 2     x360             2013    Action   \n",
       "16440                 lma manager 2007     x360             2006    Sports   \n",
       "\n",
       "       na_sales  eu_sales  jp_sales  other_sales  critic_score  user_score  \\\n",
       "14        15.00      4.89      0.24         1.69          61.0         6.3   \n",
       "23         9.66      5.14      0.06         1.41          97.0         8.1   \n",
       "29         9.04      4.24      0.13         1.32          88.0         3.4   \n",
       "32         9.70      3.68      0.11         1.13          87.0         6.3   \n",
       "35         8.25      4.24      0.07         1.12          83.0         4.8   \n",
       "...         ...       ...       ...          ...           ...         ...   \n",
       "16342      0.01      0.00      0.00         0.00          49.0         2.1   \n",
       "16351      0.00      0.01      0.00         0.00           NaN         NaN   \n",
       "16376      0.00      0.00      0.01         0.00           NaN         NaN   \n",
       "16383      0.00      0.01      0.00         0.00           NaN         5.1   \n",
       "16440      0.00      0.01      0.00         0.00           NaN         NaN   \n",
       "\n",
       "      rating  total_sales  \n",
       "14         1        21.82  \n",
       "23         4        16.27  \n",
       "29         4        14.73  \n",
       "32         4        14.62  \n",
       "35         4        13.68  \n",
       "...      ...          ...  \n",
       "16342      3         0.01  \n",
       "16351     rp         0.01  \n",
       "16376      4         0.01  \n",
       "16383   110+         0.01  \n",
       "16440     rp         0.01  \n",
       "\n",
       "[1219 rows x 12 columns]"
      ]
     },
     "execution_count": 68,
     "metadata": {},
     "output_type": "execute_result"
    }
   ],
   "source": [
    "sample = data.query('platform == \"x360\"')\n",
    "sample"
   ]
  },
  {
   "cell_type": "code",
   "execution_count": 69,
   "metadata": {},
   "outputs": [
    {
     "data": {
      "text/plain": [
       "0.11124535675258383"
      ]
     },
     "execution_count": 69,
     "metadata": {},
     "output_type": "execute_result"
    }
   ],
   "source": [
    "sample['total_sales'].corr(sample['user_score'])"
   ]
  },
  {
   "cell_type": "code",
   "execution_count": 70,
   "metadata": {},
   "outputs": [
    {
     "data": {
      "text/plain": [
       "<AxesSubplot:xlabel='user_score', ylabel='total_sales'>"
      ]
     },
     "execution_count": 70,
     "metadata": {},
     "output_type": "execute_result"
    },
    {
     "data": {
      "image/png": "[encoded data removed]",
      "text/plain": [
       "<Figure size 432x288 with 1 Axes>"
      ]
     },
     "metadata": {
      "needs_background": "light"
     },
     "output_type": "display_data"
    }
   ],
   "source": [
    "sample.plot(x='user_score', y='total_sales', kind='scatter') "
   ]
  },
  {
   "cell_type": "code",
   "execution_count": 71,
   "metadata": {
    "scrolled": true
   },
   "outputs": [
    {
     "data": {
      "text/plain": [
       "0.3928658925400695"
      ]
     },
     "execution_count": 71,
     "metadata": {},
     "output_type": "execute_result"
    }
   ],
   "source": [
    "sample['total_sales'].corr(sample['critic_score'])"
   ]
  },
  {
   "cell_type": "code",
   "execution_count": 72,
   "metadata": {},
   "outputs": [
    {
     "data": {
      "text/plain": [
       "<AxesSubplot:xlabel='critic_score', ylabel='total_sales'>"
      ]
     },
     "execution_count": 72,
     "metadata": {},
     "output_type": "execute_result"
    },
    {
     "data": {
      "image/png": "[encoded data removed]",
      "text/plain": [
       "<Figure size 432x288 with 1 Axes>"
      ]
     },
     "metadata": {
      "needs_background": "light"
     },
     "output_type": "display_data"
    }
   ],
   "source": [
    "sample.plot(x='critic_score', y='total_sales', kind='scatter') "
   ]
  },
  {
   "cell_type": "code",
   "execution_count": 73,
   "metadata": {},
   "outputs": [
    {
     "name": "stdout",
     "output_type": "stream",
     "text": [
      "ps4\n",
      "Корреляция между оценкой критиков и продажами: 0.4318482049982005\n",
      "Корреляция между оценкой пользователей и продажами: 0.024230832360622557\n",
      "\n",
      "xone\n",
      "Корреляция между оценкой критиков и продажами: 0.45938456807071054\n",
      "Корреляция между оценкой пользователей и продажами: -0.03926828544552199\n",
      "\n",
      "wiiu\n",
      "Корреляция между оценкой критиков и продажами: 0.3546914930621983\n",
      "Корреляция между оценкой пользователей и продажами: 0.4132654178028673\n",
      "\n",
      "pc\n",
      "Корреляция между оценкой критиков и продажами: 0.26315662774565857\n",
      "Корреляция между оценкой пользователей и продажами: -0.15922791823300494\n",
      "\n",
      "3ds\n",
      "Корреляция между оценкой критиков и продажами: 0.3331477996346886\n",
      "Корреляция между оценкой пользователей и продажами: 0.21056681222463666\n",
      "\n"
     ]
    }
   ],
   "source": [
    "for i in actual_pl:\n",
    "    print(i)\n",
    "    data_select = data_actual.query('platform == @i')\n",
    "    print('Корреляция между оценкой критиков и продажами:', data_select.critic_score.corr(data_select.total_sales))\n",
    "    print('Корреляция между оценкой пользователей и продажами:', data_select.user_score.corr(data_select.total_sales))\n",
    "    print()"
   ]
  },
  {
   "cell_type": "markdown",
   "metadata": {},
   "source": [
    "<div style=\"border:solid steelblue 1px; padding: 20px\">\n",
    "Наблюдается прямая умеренная зависимость между оценков критиков и общими продажами - чем выше оценка, тем больше суммв продаж. Между оценкой пользователя и суммой продаж только у платформы wiiu корреляция достигает умеренной, в остальных же платформах корреляция либо слабая либо отсутствует. \n",
    "\n",
    "Рассматривая диаграммы рассеяние можно сделать вывод, что зависимость не такая явная из-за наличия выбросов - игры с высокими продажами, не смотря на на низкую оценку пользователей или же критиков. При этом пользователи ошибались чаще, нежели критики и график их оценок менее структурированный.\n",
    "\n",
    "Сопоставляя результат с другими играми можно заметить ту же закономерность."
   ]
  },
  {
   "cell_type": "markdown",
   "metadata": {},
   "source": [
    "### Посмотрите на общее распределение игр по жанрам. Что можно сказать о самых прибыльных жанрах? Выделяются ли жанры с высокими и низкими продажами?"
   ]
  },
  {
   "cell_type": "code",
   "execution_count": 75,
   "metadata": {
    "scrolled": false
   },
   "outputs": [
    {
     "data": {
      "image/png": "[encoded data removed]",
      "text/plain": [
       "<Figure size 720x576 with 1 Axes>"
      ]
     },
     "metadata": {
      "needs_background": "light"
     },
     "output_type": "display_data"
    }
   ],
   "source": [
    "data_actual[['total_sales', 'genre']].boxplot(column='total_sales', by='genre', figsize=(10,8))\n",
    "plt.xlabel('Жанр')\n",
    "plt.ylabel('Миллионы проданных копий')\n",
    "plt.title('Диаграммы размаха по продажам в разных жанрах')\n",
    "plt.ylim(0,2)\n",
    "plt.show()"
   ]
  },
  {
   "cell_type": "code",
   "execution_count": 76,
   "metadata": {},
   "outputs": [
    {
     "data": {
      "image/png": "[encoded data removed]",
      "text/plain": [
       "<Figure size 720x576 with 1 Axes>"
      ]
     },
     "metadata": {
      "needs_background": "light"
     },
     "output_type": "display_data"
    }
   ],
   "source": [
    "data_actual[['total_sales', 'genre']].boxplot(column='total_sales', by='genre', figsize=(10,8))\n",
    "plt.xlabel('Жанр')\n",
    "plt.ylabel('Миллионы проданных копий')\n",
    "plt.title('Диаграммы размаха по продажам в разных жанрах')\n",
    "plt.show()"
   ]
  },
  {
   "cell_type": "markdown",
   "metadata": {},
   "source": [
    "<div style=\"border:solid steelblue 1px; padding: 20px\">\n",
    "Наиболее стабильными жанрами про продажам являются пазлы, стратегии, приключения - разброс из значений наименьший. Стоит обратить внимание на шутер  - распределение продаж более ровное и стабильное, нежели у экшена - самого прибыльного жанра."
   ]
  },
  {
   "cell_type": "markdown",
   "metadata": {},
   "source": [
    "## Портрет пользователя каждого региона"
   ]
  },
  {
   "cell_type": "markdown",
   "metadata": {},
   "source": [
    "### Самые популярные жанры (топ-5). Поясните разницу."
   ]
  },
  {
   "cell_type": "code",
   "execution_count": 77,
   "metadata": {},
   "outputs": [
    {
     "data": {
      "text/plain": [
       "[Text(0, 0.5, 'total_sales')]"
      ]
     },
     "execution_count": 77,
     "metadata": {},
     "output_type": "execute_result"
    },
    {
     "data": {
      "image/png": "[encoded data removed]",
      "text/plain": [
       "<Figure size 1296x504 with 4 Axes>"
      ]
     },
     "metadata": {
      "needs_background": "light"
     },
     "output_type": "display_data"
    }
   ],
   "source": [
    "#проанализируем продажи по жанрам для каждого региона\n",
    "fig, axis = plt.subplots(2,2, figsize=(18,7))\n",
    "data_actual.groupby('genre')['na_sales'].sum().sort_values(ascending=False).head().plot.barh(ax=axis[0,0]).set(ylabel='na_sales')\n",
    "data_actual.groupby('genre')['jp_sales'].sum().sort_values(ascending=False).head().plot.barh(ax=axis[0,1]).set(ylabel='jp_sales')\n",
    "data_actual.groupby('genre')['eu_sales'].sum().sort_values(ascending=False).head().plot.barh(ax=axis[1,0]).set(ylabel='eu_sales')\n",
    "data_actual.groupby('genre')['total_sales'].sum().sort_values(ascending=False).head().plot.barh(ax=axis[1,1]).set(ylabel='total_sales')"
   ]
  },
  {
   "cell_type": "markdown",
   "metadata": {},
   "source": [
    "### Самые популярные платформы (топ-5). Опишите различия в долях продаж."
   ]
  },
  {
   "cell_type": "code",
   "execution_count": 78,
   "metadata": {
    "scrolled": false
   },
   "outputs": [
    {
     "data": {
      "text/plain": [
       "[Text(0, 0.5, 'total_sales')]"
      ]
     },
     "execution_count": 78,
     "metadata": {},
     "output_type": "execute_result"
    },
    {
     "data": {
      "image/png": "[encoded data removed]",
      "text/plain": [
       "<Figure size 1296x504 with 4 Axes>"
      ]
     },
     "metadata": {
      "needs_background": "light"
     },
     "output_type": "display_data"
    }
   ],
   "source": [
    "fig, axis = plt.subplots(2,2,  figsize=(18,7))\n",
    "data_actual.groupby('platform')['na_sales'].sum().sort_values(ascending=False).head().plot.barh(ax=axis[0,0]).set(ylabel='na_sales')\n",
    "data_actual.groupby('platform')['jp_sales'].sum().sort_values(ascending=False).head().plot.barh(ax=axis[0,1]).set(ylabel='jp_sales')\n",
    "data_actual.groupby('platform')['eu_sales'].sum().sort_values(ascending=False).head().plot.barh(ax=axis[1,0]).set(ylabel='eu_sales')\n",
    "data_actual.groupby('platform')['total_sales'].sum().sort_values(ascending=False).head().plot.barh(ax=axis[1,1]).set(ylabel='total_sales')\n"
   ]
  },
  {
   "cell_type": "code",
   "execution_count": 79,
   "metadata": {},
   "outputs": [],
   "source": [
    "other_platforms_na_sales = (data_actual.groupby('platform')['na_sales']\n",
    "                         .sum()\n",
    "                         .sort_values(ascending=True)\n",
    "                         .tail().sum()) \n",
    "#cумма продаж других платформ, вне топ5 по америке"
   ]
  },
  {
   "cell_type": "code",
   "execution_count": 80,
   "metadata": {},
   "outputs": [],
   "source": [
    "df = pd.DataFrame(data_actual.groupby('platform')['na_sales'].sum().sort_values(ascending=True))\n",
    "#df.append(['other', other_platforms_na_sales])"
   ]
  },
  {
   "cell_type": "code",
   "execution_count": 81,
   "metadata": {},
   "outputs": [
    {
     "data": {
      "text/plain": [
       "271.03"
      ]
     },
     "execution_count": 81,
     "metadata": {},
     "output_type": "execute_result"
    }
   ],
   "source": [
    "other_platforms_na_sales"
   ]
  },
  {
   "cell_type": "markdown",
   "metadata": {},
   "source": [
    "### влияет ли рейтинг ESRB на продажи в отдельном регионе?"
   ]
  },
  {
   "cell_type": "code",
   "execution_count": 82,
   "metadata": {},
   "outputs": [
    {
     "data": {
      "text/plain": [
       "array(['rp', '4', '1', '3', '110+'], dtype=object)"
      ]
     },
     "execution_count": 82,
     "metadata": {},
     "output_type": "execute_result"
    }
   ],
   "source": [
    "data_actual['rating'].unique()"
   ]
  },
  {
   "cell_type": "code",
   "execution_count": 85,
   "metadata": {},
   "outputs": [
    {
     "data": {
      "text/html": [
       "<div>\n",
       "<style scoped>\n",
       "    .dataframe tbody tr th:only-of-type {\n",
       "        vertical-align: middle;\n",
       "    }\n",
       "\n",
       "    .dataframe tbody tr th {\n",
       "        vertical-align: top;\n",
       "    }\n",
       "\n",
       "    .dataframe thead th {\n",
       "        text-align: right;\n",
       "    }\n",
       "</style>\n",
       "<table border=\"1\" class=\"dataframe\">\n",
       "  <thead>\n",
       "    <tr style=\"text-align: right;\">\n",
       "      <th></th>\n",
       "      <th>eu_sales</th>\n",
       "      <th>jp_sales</th>\n",
       "      <th>na_sales</th>\n",
       "    </tr>\n",
       "    <tr>\n",
       "      <th>rating</th>\n",
       "      <th></th>\n",
       "      <th></th>\n",
       "      <th></th>\n",
       "    </tr>\n",
       "  </thead>\n",
       "  <tbody>\n",
       "    <tr>\n",
       "      <th>3</th>\n",
       "      <td>26.77</td>\n",
       "      <td>13.15</td>\n",
       "      <td>31.19</td>\n",
       "    </tr>\n",
       "    <tr>\n",
       "      <th>110+</th>\n",
       "      <td>27.47</td>\n",
       "      <td>7.18</td>\n",
       "      <td>36.73</td>\n",
       "    </tr>\n",
       "    <tr>\n",
       "      <th>1</th>\n",
       "      <td>57.33</td>\n",
       "      <td>23.01</td>\n",
       "      <td>58.35</td>\n",
       "    </tr>\n",
       "    <tr>\n",
       "      <th>rp</th>\n",
       "      <td>61.39</td>\n",
       "      <td>68.84</td>\n",
       "      <td>64.70</td>\n",
       "    </tr>\n",
       "    <tr>\n",
       "      <th>4</th>\n",
       "      <td>87.47</td>\n",
       "      <td>7.95</td>\n",
       "      <td>90.89</td>\n",
       "    </tr>\n",
       "  </tbody>\n",
       "</table>\n",
       "</div>"
      ],
      "text/plain": [
       "        eu_sales  jp_sales  na_sales\n",
       "rating                              \n",
       "3          26.77     13.15     31.19\n",
       "110+       27.47      7.18     36.73\n",
       "1          57.33     23.01     58.35\n",
       "rp         61.39     68.84     64.70\n",
       "4          87.47      7.95     90.89"
      ]
     },
     "execution_count": 85,
     "metadata": {},
     "output_type": "execute_result"
    }
   ],
   "source": [
    "rating = data_actual.pivot_table(index='rating', values=['na_sales', 'eu_sales', 'jp_sales'], aggfunc='sum').sort_values(by='na_sales')\n",
    "rating"
   ]
  },
  {
   "cell_type": "code",
   "execution_count": 86,
   "metadata": {},
   "outputs": [
    {
     "data": {
      "text/plain": [
       "<AxesSubplot:xlabel='rating'>"
      ]
     },
     "execution_count": 86,
     "metadata": {},
     "output_type": "execute_result"
    },
    {
     "data": {
      "image/png": "[encoded data removed]",
      "text/plain": [
       "<Figure size 1080x360 with 1 Axes>"
      ]
     },
     "metadata": {
      "needs_background": "light"
     },
     "output_type": "display_data"
    }
   ],
   "source": [
    "rating.plot(kind='bar', figsize=(15, 5))"
   ]
  },
  {
   "cell_type": "markdown",
   "metadata": {},
   "source": [
    "<div style=\"border:solid steelblue 1px; padding: 20px\">\n",
    "Выводы по портрету потребителя:\n",
    "1) Японские игроки предпочитают жанр ролевых игры и экшн. По платформам с огромным отрывом лидирует 3ds. Так же стоит обратить внимание на то, что достаточно большой игр, в которые играют в японии рейтинг не присвоен. Подобное возможно из-за наличия национального рейтингового агентсва.\n",
    "\n",
    "2) Американский рынок. Подавляющее большинство игроков в Америке старше 18 лет. Предпочитают играть экшн, шутеры и ролевые игры. Самой популярной платфомой является ps4 и xone.\n",
    "\n",
    "3) третья группа - игроки из европы. По возростному рейтингу можно проследить, что большинство игроков старше 18 лет (или ими притворяются). Предпочтения в жанрах игр у них совпадают с американцам. По платформам с большим отрывом лидирует ps4."
   ]
  },
  {
   "cell_type": "markdown",
   "metadata": {},
   "source": [
    "## Проверка гипотез"
   ]
  },
  {
   "cell_type": "markdown",
   "metadata": {},
   "source": [
    "### Гипотеза о том, что средние пользовательские рейтинги платформ Xbox One и PC одинаковые"
   ]
  },
  {
   "cell_type": "markdown",
   "metadata": {},
   "source": [
    "<div style=\"border:solid steelblue 1px; padding: 20px\">\n",
    "    нулевая гипотеза - средние пользовательские рейтинги платформ Xbox One и PC равны \n",
    "\n",
    "альтернатив гипотеза - средние пользовательские рейтинги платформ Xbox One и PC не равны"
   ]
  },
  {
   "cell_type": "code",
   "execution_count": 87,
   "metadata": {},
   "outputs": [],
   "source": [
    "sample_1 = data_actual.loc[(data_actual['platform']== 'xone') & (data_actual['user_score']>0) & \n",
    "                           (data_actual['year_of_release']>=2013), 'user_score'].dropna() "
   ]
  },
  {
   "cell_type": "code",
   "execution_count": 88,
   "metadata": {},
   "outputs": [],
   "source": [
    "sample_2 = data_actual.loc[(data_actual['platform']== 'pc') & \n",
    "                           (data_actual['user_score']>0) & (data_actual['year_of_release']>=2013), 'user_score'].dropna()"
   ]
  },
  {
   "cell_type": "code",
   "execution_count": 89,
   "metadata": {},
   "outputs": [],
   "source": [
    "alpha = 0.05 \n",
    "results = st.ttest_ind(sample_1, sample_2, equal_var=False)"
   ]
  },
  {
   "cell_type": "code",
   "execution_count": 90,
   "metadata": {},
   "outputs": [
    {
     "name": "stdout",
     "output_type": "stream",
     "text": [
      "p-значение: 0.2867036680187632\n"
     ]
    }
   ],
   "source": [
    "print('p-значение:', results.pvalue)"
   ]
  },
  {
   "cell_type": "code",
   "execution_count": 92,
   "metadata": {
    "scrolled": true
   },
   "outputs": [
    {
     "name": "stdout",
     "output_type": "stream",
     "text": [
      "Не получилось отвергнуть нулевую гипотезу\n"
     ]
    }
   ],
   "source": [
    "if results.pvalue < alpha:\n",
    "    print('Отвергаем нулевую гипотезу')\n",
    "else:\n",
    "    print('Не получилось отвергнуть нулевую гипотезу') "
   ]
  },
  {
   "cell_type": "markdown",
   "metadata": {},
   "source": [
    "<div style=\"border:solid steelblue 1px; padding: 20px\">\n",
    "    \n",
    "Подобный результат p-value говорит о том, что сущетсвует слишком большая вероятность получить различия между средними пользовательскими рейтингами платформ Xbox One и PC __случайно__. Это слишком большая вероятность, чтобы делать вывод о значимом различии между средними рейтингами."
   ]
  },
  {
   "cell_type": "markdown",
   "metadata": {},
   "source": [
    "### Гипотеза о том, что средние пользовательские рейтинги жанров Action (англ. «действие», экшен-игры) и Sports (англ. «спортивные соревнования») разные"
   ]
  },
  {
   "cell_type": "markdown",
   "metadata": {},
   "source": [
    "<div style=\"border:solid steelblue 1px; padding: 20px\">\n",
    "нулевая гипотеза - средние пользовательские рейтинги жанров Action и Sports равны\n",
    "\n",
    "альтернатив гипотеза - средние пользовательские рейтинги жанров Action и Sports не равны"
   ]
  },
  {
   "cell_type": "code",
   "execution_count": 93,
   "metadata": {},
   "outputs": [],
   "source": [
    "sample_1 = data_actual.loc[(data_actual['genre']== 'Action')& (data_actual['user_score']>0), 'user_score'].dropna() "
   ]
  },
  {
   "cell_type": "code",
   "execution_count": 94,
   "metadata": {},
   "outputs": [],
   "source": [
    "sample_1 = data_actual.loc[(data_actual['genre']== 'Sports')& (data_actual['user_score']>0), 'user_score'].dropna() "
   ]
  },
  {
   "cell_type": "code",
   "execution_count": 95,
   "metadata": {},
   "outputs": [],
   "source": [
    "alpha = 0.05 \n",
    "results = st.ttest_ind(sample_1, sample_2, equal_var=False)"
   ]
  },
  {
   "cell_type": "code",
   "execution_count": 96,
   "metadata": {
    "scrolled": true
   },
   "outputs": [
    {
     "name": "stdout",
     "output_type": "stream",
     "text": [
      "p-значение: 9.860798774281105e-09\n",
      "Отвергаем нулевую гипотезу\n"
     ]
    }
   ],
   "source": [
    "print('p-значение:', results.pvalue)\n",
    "if results.pvalue < alpha:\n",
    "    print('Отвергаем нулевую гипотезу')\n",
    "else:\n",
    "    print('Не получилось отвергнуть нулевую гипотезу') "
   ]
  },
  {
   "cell_type": "markdown",
   "metadata": {},
   "source": [
    "<div style=\"border:solid steelblue 1px; padding: 20px\">\n",
    "Подобный результат p-value говорит о том, что сущетсвует слишком малая вероятность получить различия между средними пользовательскими рейтингами жанров экшн и сопрт СЛУЧАЙНо. Это слишком малая вероятность, чтобы утверждать незначительность различия между ними."
   ]
  },
  {
   "cell_type": "markdown",
   "metadata": {},
   "source": [
    "## Общий вывод"
   ]
  },
  {
   "cell_type": "markdown",
   "metadata": {},
   "source": [
    "<div style=\"border:solid steelblue 1px; padding: 20px\">\n",
    "    Была изучены выборка выходивших игры с 1980 по 2016 года. Она отображает платформы на которых выходили игры, их рейтинг средипользователей и критиков, продажи по странам/частям света.\n",
    "\n",
    "Анализ показал, что стоит оратить внимание на то, что продажи ps4 и xone только находятся на своем пути к топам продаж, в то время как отсальные платформы медленно, но верно стремятся к нулю. \n",
    "\n",
    "Было выявлено, что самыми популярными жанрами игр являются Action, shooter и role-playing\n",
    "Самыми популярными актуальными платформами являются ps4(самая популярная платформа в америке и европе), 3ds (вошла в топ, тк является самой поуплярной платформой в японии), xone\n",
    "\n",
    "Рейтинговая шкала доказала, что с возрастом люди больше склонны тратить деньги на игры.В японии популярны игры без рейтинга - скорее всего это игры, произведенные в самой японии и не попадающие по рейтинг ESRB.\n",
    "\n",
    "Наибольшее влияние на продажи игр оказывает мнение критиков, нежели мнение самих пользователей."
   ]
  }
 ],
 "metadata": {
  "ExecuteTimeLog": [
   {
    "duration": 379,
    "start_time": "2023-03-04T11:33:05.678Z"
   },
   {
    "duration": 232,
    "start_time": "2023-03-04T11:33:37.316Z"
   },
   {
    "duration": 42,
    "start_time": "2023-03-04T11:33:45.235Z"
   },
   {
    "duration": 70,
    "start_time": "2023-03-04T11:33:51.892Z"
   },
   {
    "duration": 16,
    "start_time": "2023-03-04T11:34:01.472Z"
   },
   {
    "duration": 10,
    "start_time": "2023-03-04T11:34:17.909Z"
   },
   {
    "duration": 12,
    "start_time": "2023-03-04T11:36:19.586Z"
   },
   {
    "duration": 8,
    "start_time": "2023-03-04T11:36:34.793Z"
   },
   {
    "duration": 483,
    "start_time": "2023-03-04T11:36:40.921Z"
   },
   {
    "duration": 22,
    "start_time": "2023-03-04T11:36:55.329Z"
   },
   {
    "duration": 29,
    "start_time": "2023-03-04T11:39:44.114Z"
   },
   {
    "duration": 27,
    "start_time": "2023-03-04T11:40:07.133Z"
   },
   {
    "duration": 14,
    "start_time": "2023-03-04T11:40:14.589Z"
   },
   {
    "duration": 31,
    "start_time": "2023-03-04T11:41:39.740Z"
   },
   {
    "duration": 17,
    "start_time": "2023-03-04T11:42:15.897Z"
   },
   {
    "duration": 26,
    "start_time": "2023-03-04T11:43:23.758Z"
   },
   {
    "duration": 16,
    "start_time": "2023-03-04T11:43:27.680Z"
   },
   {
    "duration": 11,
    "start_time": "2023-03-04T11:44:10.661Z"
   },
   {
    "duration": 15,
    "start_time": "2023-03-04T11:44:54.163Z"
   },
   {
    "duration": 21,
    "start_time": "2023-03-04T11:45:44.669Z"
   },
   {
    "duration": 29,
    "start_time": "2023-03-04T11:46:56.114Z"
   },
   {
    "duration": 10493,
    "start_time": "2023-03-04T11:48:04.046Z"
   },
   {
    "duration": 36,
    "start_time": "2023-03-04T11:49:29.044Z"
   },
   {
    "duration": 10,
    "start_time": "2023-03-04T11:49:35.153Z"
   },
   {
    "duration": 31,
    "start_time": "2023-03-04T11:49:42.381Z"
   },
   {
    "duration": 34,
    "start_time": "2023-03-04T11:50:01.884Z"
   },
   {
    "duration": 22,
    "start_time": "2023-03-04T11:50:11.593Z"
   },
   {
    "duration": 15,
    "start_time": "2023-03-04T11:50:18.191Z"
   },
   {
    "duration": 17,
    "start_time": "2023-03-04T11:50:26.500Z"
   },
   {
    "duration": 3,
    "start_time": "2023-03-04T12:27:07.559Z"
   },
   {
    "duration": 60,
    "start_time": "2023-03-04T12:27:07.722Z"
   },
   {
    "duration": 30,
    "start_time": "2023-03-04T12:27:07.808Z"
   },
   {
    "duration": 15,
    "start_time": "2023-03-04T12:27:07.896Z"
   },
   {
    "duration": 30,
    "start_time": "2023-03-04T12:27:07.976Z"
   },
   {
    "duration": 19,
    "start_time": "2023-03-04T12:27:08.248Z"
   },
   {
    "duration": 28,
    "start_time": "2023-03-04T12:27:29.369Z"
   },
   {
    "duration": 29,
    "start_time": "2023-03-04T12:27:38.350Z"
   },
   {
    "duration": 19,
    "start_time": "2023-03-04T12:34:00.055Z"
   },
   {
    "duration": 12,
    "start_time": "2023-03-04T12:34:10.073Z"
   },
   {
    "duration": 8,
    "start_time": "2023-03-04T12:34:22.989Z"
   },
   {
    "duration": 8,
    "start_time": "2023-03-04T12:34:28.683Z"
   },
   {
    "duration": 27,
    "start_time": "2023-03-04T12:35:41.517Z"
   },
   {
    "duration": 5,
    "start_time": "2023-03-04T12:36:39.277Z"
   },
   {
    "duration": 18,
    "start_time": "2023-03-04T12:37:13.288Z"
   },
   {
    "duration": 20,
    "start_time": "2023-03-04T12:37:19.757Z"
   },
   {
    "duration": 17,
    "start_time": "2023-03-04T12:37:30.259Z"
   },
   {
    "duration": 9,
    "start_time": "2023-03-04T12:37:43.254Z"
   },
   {
    "duration": 22,
    "start_time": "2023-03-04T12:38:19.479Z"
   },
   {
    "duration": 10,
    "start_time": "2023-03-04T12:38:32.856Z"
   },
   {
    "duration": 8,
    "start_time": "2023-03-04T12:38:45.876Z"
   },
   {
    "duration": 19,
    "start_time": "2023-03-04T12:39:19.121Z"
   },
   {
    "duration": 20,
    "start_time": "2023-03-04T12:40:47.838Z"
   },
   {
    "duration": 17,
    "start_time": "2023-03-04T12:40:51.888Z"
   },
   {
    "duration": 21,
    "start_time": "2023-03-04T12:40:57.020Z"
   },
   {
    "duration": 15,
    "start_time": "2023-03-04T12:41:02.964Z"
   },
   {
    "duration": 19,
    "start_time": "2023-03-04T12:41:10.346Z"
   },
   {
    "duration": 14,
    "start_time": "2023-03-04T12:46:24.586Z"
   },
   {
    "duration": 415,
    "start_time": "2023-03-06T17:01:05.836Z"
   },
   {
    "duration": 204,
    "start_time": "2023-03-06T17:01:06.253Z"
   },
   {
    "duration": 31,
    "start_time": "2023-03-06T17:01:06.459Z"
   },
   {
    "duration": 36,
    "start_time": "2023-03-06T17:01:06.492Z"
   },
   {
    "duration": 31,
    "start_time": "2023-03-06T17:01:06.529Z"
   },
   {
    "duration": 563,
    "start_time": "2023-03-06T17:01:06.562Z"
   },
   {
    "duration": 18,
    "start_time": "2023-03-06T17:01:07.127Z"
   },
   {
    "duration": 6,
    "start_time": "2023-03-06T17:01:07.586Z"
   },
   {
    "duration": 16,
    "start_time": "2023-03-06T17:01:07.830Z"
   },
   {
    "duration": 4,
    "start_time": "2023-03-06T17:01:33.976Z"
   },
   {
    "duration": 87,
    "start_time": "2023-03-06T17:01:49.927Z"
   },
   {
    "duration": 4,
    "start_time": "2023-03-06T17:01:59.639Z"
   },
   {
    "duration": 9,
    "start_time": "2023-03-06T17:03:36.578Z"
   },
   {
    "duration": 15,
    "start_time": "2023-03-06T17:03:48.027Z"
   },
   {
    "duration": 10,
    "start_time": "2023-03-06T17:04:32.582Z"
   },
   {
    "duration": 17,
    "start_time": "2023-03-06T17:04:41.226Z"
   },
   {
    "duration": 16,
    "start_time": "2023-03-06T17:06:20.982Z"
   },
   {
    "duration": 8,
    "start_time": "2023-03-06T17:10:05.401Z"
   },
   {
    "duration": 8,
    "start_time": "2023-03-06T17:10:05.928Z"
   },
   {
    "duration": 8,
    "start_time": "2023-03-06T17:10:06.128Z"
   },
   {
    "duration": 15,
    "start_time": "2023-03-06T17:10:24.793Z"
   },
   {
    "duration": 8,
    "start_time": "2023-03-06T17:10:40.478Z"
   },
   {
    "duration": 9,
    "start_time": "2023-03-06T17:10:49.709Z"
   },
   {
    "duration": 8,
    "start_time": "2023-03-06T17:11:05.220Z"
   },
   {
    "duration": 15,
    "start_time": "2023-03-06T17:16:45.482Z"
   },
   {
    "duration": 6,
    "start_time": "2023-03-06T17:18:07.233Z"
   },
   {
    "duration": 19,
    "start_time": "2023-03-06T17:18:54.507Z"
   },
   {
    "duration": 13,
    "start_time": "2023-03-06T17:19:10.034Z"
   },
   {
    "duration": 72,
    "start_time": "2023-03-06T17:19:25.130Z"
   },
   {
    "duration": 4,
    "start_time": "2023-03-06T17:19:41.593Z"
   },
   {
    "duration": 4,
    "start_time": "2023-03-06T17:19:58.378Z"
   },
   {
    "duration": 3,
    "start_time": "2023-03-06T17:20:17.249Z"
   },
   {
    "duration": 23,
    "start_time": "2023-03-06T17:20:22.391Z"
   },
   {
    "duration": 13,
    "start_time": "2023-03-06T17:20:30.826Z"
   },
   {
    "duration": 1281,
    "start_time": "2023-03-06T17:20:31.092Z"
   },
   {
    "duration": 0,
    "start_time": "2023-03-06T17:20:32.375Z"
   },
   {
    "duration": 4,
    "start_time": "2023-03-06T17:20:32.541Z"
   },
   {
    "duration": 4,
    "start_time": "2023-03-06T17:20:46.974Z"
   },
   {
    "duration": 4,
    "start_time": "2023-03-06T17:20:47.294Z"
   },
   {
    "duration": 22,
    "start_time": "2023-03-06T17:20:47.833Z"
   },
   {
    "duration": 17,
    "start_time": "2023-03-06T17:20:51.678Z"
   },
   {
    "duration": 4,
    "start_time": "2023-03-06T17:20:52.082Z"
   },
   {
    "duration": 5,
    "start_time": "2023-03-06T17:20:52.507Z"
   },
   {
    "duration": 18,
    "start_time": "2023-03-06T17:20:52.920Z"
   },
   {
    "duration": 3,
    "start_time": "2023-03-06T17:21:04.228Z"
   },
   {
    "duration": 75,
    "start_time": "2023-03-06T17:21:04.386Z"
   },
   {
    "duration": 27,
    "start_time": "2023-03-06T17:21:04.479Z"
   },
   {
    "duration": 17,
    "start_time": "2023-03-06T17:21:04.582Z"
   },
   {
    "duration": 41,
    "start_time": "2023-03-06T17:21:04.681Z"
   },
   {
    "duration": 21,
    "start_time": "2023-03-06T17:21:04.890Z"
   },
   {
    "duration": 16,
    "start_time": "2023-03-06T17:21:04.989Z"
   },
   {
    "duration": 7,
    "start_time": "2023-03-06T17:21:05.190Z"
   },
   {
    "duration": 23,
    "start_time": "2023-03-06T17:21:05.423Z"
   },
   {
    "duration": 4,
    "start_time": "2023-03-06T17:21:06.178Z"
   },
   {
    "duration": 15,
    "start_time": "2023-03-06T17:21:06.337Z"
   },
   {
    "duration": 24,
    "start_time": "2023-03-06T17:21:06.846Z"
   },
   {
    "duration": 9,
    "start_time": "2023-03-06T17:21:07.090Z"
   },
   {
    "duration": 8,
    "start_time": "2023-03-06T17:21:07.179Z"
   },
   {
    "duration": 10,
    "start_time": "2023-03-06T17:21:07.273Z"
   },
   {
    "duration": 10,
    "start_time": "2023-03-06T17:21:07.482Z"
   },
   {
    "duration": 13,
    "start_time": "2023-03-06T17:21:07.729Z"
   },
   {
    "duration": 4,
    "start_time": "2023-03-06T17:21:09.306Z"
   },
   {
    "duration": 4,
    "start_time": "2023-03-06T17:21:10.426Z"
   },
   {
    "duration": 4,
    "start_time": "2023-03-06T17:21:11.001Z"
   },
   {
    "duration": 13,
    "start_time": "2023-03-06T17:21:11.774Z"
   },
   {
    "duration": 43,
    "start_time": "2023-03-06T17:22:20.490Z"
   },
   {
    "duration": 3,
    "start_time": "2023-03-06T17:22:23.473Z"
   },
   {
    "duration": 27,
    "start_time": "2023-03-06T17:22:24.104Z"
   },
   {
    "duration": 77,
    "start_time": "2023-03-06T17:22:38.995Z"
   },
   {
    "duration": 3,
    "start_time": "2023-03-06T17:22:41.093Z"
   },
   {
    "duration": 6,
    "start_time": "2023-03-06T17:22:41.511Z"
   },
   {
    "duration": 15,
    "start_time": "2023-03-06T17:22:42.225Z"
   },
   {
    "duration": 2,
    "start_time": "2023-03-06T17:22:48.503Z"
   },
   {
    "duration": 56,
    "start_time": "2023-03-06T17:22:48.676Z"
   },
   {
    "duration": 23,
    "start_time": "2023-03-06T17:22:48.774Z"
   },
   {
    "duration": 16,
    "start_time": "2023-03-06T17:22:48.854Z"
   },
   {
    "duration": 29,
    "start_time": "2023-03-06T17:22:48.937Z"
   },
   {
    "duration": 15,
    "start_time": "2023-03-06T17:22:49.178Z"
   },
   {
    "duration": 14,
    "start_time": "2023-03-06T17:22:49.272Z"
   },
   {
    "duration": 6,
    "start_time": "2023-03-06T17:22:49.447Z"
   },
   {
    "duration": 30,
    "start_time": "2023-03-06T17:22:49.506Z"
   },
   {
    "duration": 3,
    "start_time": "2023-03-06T17:22:49.873Z"
   },
   {
    "duration": 9,
    "start_time": "2023-03-06T17:22:49.929Z"
   },
   {
    "duration": 17,
    "start_time": "2023-03-06T17:22:49.999Z"
   },
   {
    "duration": 7,
    "start_time": "2023-03-06T17:22:50.437Z"
   },
   {
    "duration": 6,
    "start_time": "2023-03-06T17:22:50.698Z"
   },
   {
    "duration": 12,
    "start_time": "2023-03-06T17:22:51.104Z"
   },
   {
    "duration": 8,
    "start_time": "2023-03-06T17:22:51.295Z"
   },
   {
    "duration": 18,
    "start_time": "2023-03-06T17:22:51.517Z"
   },
   {
    "duration": 6,
    "start_time": "2023-03-06T17:22:54.570Z"
   },
   {
    "duration": 3,
    "start_time": "2023-03-06T17:22:54.769Z"
   },
   {
    "duration": 3,
    "start_time": "2023-03-06T17:22:55.082Z"
   },
   {
    "duration": 18,
    "start_time": "2023-03-06T17:22:55.300Z"
   },
   {
    "duration": 4,
    "start_time": "2023-03-06T17:25:58.986Z"
   },
   {
    "duration": 13,
    "start_time": "2023-03-06T17:25:59.594Z"
   },
   {
    "duration": 6,
    "start_time": "2023-03-06T17:26:25.400Z"
   },
   {
    "duration": 5,
    "start_time": "2023-03-06T17:27:06.126Z"
   },
   {
    "duration": 8,
    "start_time": "2023-03-06T17:28:38.511Z"
   },
   {
    "duration": 5,
    "start_time": "2023-03-06T17:28:43.690Z"
   },
   {
    "duration": 5,
    "start_time": "2023-03-06T17:28:45.930Z"
   },
   {
    "duration": 5,
    "start_time": "2023-03-06T17:28:51.709Z"
   },
   {
    "duration": 9,
    "start_time": "2023-03-06T17:28:55.616Z"
   },
   {
    "duration": 5,
    "start_time": "2023-03-06T17:28:56.326Z"
   },
   {
    "duration": 13,
    "start_time": "2023-03-06T17:28:57.166Z"
   },
   {
    "duration": 9,
    "start_time": "2023-03-06T17:30:15.702Z"
   },
   {
    "duration": 9,
    "start_time": "2023-03-06T17:30:44.373Z"
   },
   {
    "duration": 4,
    "start_time": "2023-03-06T17:33:28.769Z"
   },
   {
    "duration": 5,
    "start_time": "2023-03-06T17:33:30.225Z"
   },
   {
    "duration": 19,
    "start_time": "2023-03-06T17:33:35.504Z"
   },
   {
    "duration": 3,
    "start_time": "2023-03-06T17:39:32.969Z"
   },
   {
    "duration": 54,
    "start_time": "2023-03-06T17:39:33.530Z"
   },
   {
    "duration": 22,
    "start_time": "2023-03-06T17:39:33.610Z"
   },
   {
    "duration": 14,
    "start_time": "2023-03-06T17:39:33.706Z"
   },
   {
    "duration": 33,
    "start_time": "2023-03-06T17:39:33.805Z"
   },
   {
    "duration": 21,
    "start_time": "2023-03-06T17:39:34.027Z"
   },
   {
    "duration": 20,
    "start_time": "2023-03-06T17:39:34.128Z"
   },
   {
    "duration": 10,
    "start_time": "2023-03-06T17:39:34.306Z"
   },
   {
    "duration": 18,
    "start_time": "2023-03-06T17:39:34.373Z"
   },
   {
    "duration": 3,
    "start_time": "2023-03-06T17:39:34.700Z"
   },
   {
    "duration": 13,
    "start_time": "2023-03-06T17:39:34.784Z"
   },
   {
    "duration": 17,
    "start_time": "2023-03-06T17:39:34.873Z"
   },
   {
    "duration": 8,
    "start_time": "2023-03-06T17:39:35.124Z"
   },
   {
    "duration": 6,
    "start_time": "2023-03-06T17:39:35.194Z"
   },
   {
    "duration": 7,
    "start_time": "2023-03-06T17:39:35.285Z"
   },
   {
    "duration": 9,
    "start_time": "2023-03-06T17:39:35.379Z"
   },
   {
    "duration": 13,
    "start_time": "2023-03-06T17:39:35.469Z"
   },
   {
    "duration": 5,
    "start_time": "2023-03-06T17:39:35.624Z"
   },
   {
    "duration": 4,
    "start_time": "2023-03-06T17:39:35.698Z"
   },
   {
    "duration": 5,
    "start_time": "2023-03-06T17:39:37.320Z"
   },
   {
    "duration": 13,
    "start_time": "2023-03-06T17:39:38.298Z"
   },
   {
    "duration": 9,
    "start_time": "2023-03-06T17:39:48.769Z"
   },
   {
    "duration": 9,
    "start_time": "2023-03-06T17:39:59.126Z"
   },
   {
    "duration": 4,
    "start_time": "2023-03-06T17:40:06.378Z"
   },
   {
    "duration": 18,
    "start_time": "2023-03-06T17:41:04.270Z"
   },
   {
    "duration": 3,
    "start_time": "2023-03-06T17:41:05.577Z"
   },
   {
    "duration": 6,
    "start_time": "2023-03-06T17:41:06.435Z"
   },
   {
    "duration": 5,
    "start_time": "2023-03-06T17:41:16.769Z"
   },
   {
    "duration": 5,
    "start_time": "2023-03-06T17:41:18.426Z"
   },
   {
    "duration": 17,
    "start_time": "2023-03-06T17:41:20.906Z"
   },
   {
    "duration": 5,
    "start_time": "2023-03-06T17:42:02.085Z"
   },
   {
    "duration": 660,
    "start_time": "2023-03-06T17:42:08.465Z"
   },
   {
    "duration": 4,
    "start_time": "2023-03-06T17:42:09.227Z"
   },
   {
    "duration": 595,
    "start_time": "2023-03-06T17:42:25.995Z"
   },
   {
    "duration": 3,
    "start_time": "2023-03-06T17:43:04.935Z"
   },
   {
    "duration": 67,
    "start_time": "2023-03-06T17:43:05.098Z"
   },
   {
    "duration": 22,
    "start_time": "2023-03-06T17:43:05.193Z"
   },
   {
    "duration": 14,
    "start_time": "2023-03-06T17:43:05.289Z"
   },
   {
    "duration": 39,
    "start_time": "2023-03-06T17:43:05.393Z"
   },
   {
    "duration": 23,
    "start_time": "2023-03-06T17:43:05.597Z"
   },
   {
    "duration": 17,
    "start_time": "2023-03-06T17:43:05.777Z"
   },
   {
    "duration": 7,
    "start_time": "2023-03-06T17:43:05.969Z"
   },
   {
    "duration": 17,
    "start_time": "2023-03-06T17:43:05.988Z"
   },
   {
    "duration": 4,
    "start_time": "2023-03-06T17:43:07.077Z"
   },
   {
    "duration": 10,
    "start_time": "2023-03-06T17:43:07.663Z"
   },
   {
    "duration": 16,
    "start_time": "2023-03-06T17:43:08.679Z"
   },
   {
    "duration": 8,
    "start_time": "2023-03-06T17:43:10.285Z"
   },
   {
    "duration": 6,
    "start_time": "2023-03-06T17:43:10.773Z"
   },
   {
    "duration": 7,
    "start_time": "2023-03-06T17:43:11.277Z"
   },
   {
    "duration": 8,
    "start_time": "2023-03-06T17:43:12.473Z"
   },
   {
    "duration": 15,
    "start_time": "2023-03-06T17:43:13.669Z"
   },
   {
    "duration": 5,
    "start_time": "2023-03-06T17:43:17.970Z"
   },
   {
    "duration": 685,
    "start_time": "2023-03-06T17:43:18.694Z"
   },
   {
    "duration": 658,
    "start_time": "2023-03-06T17:44:21.501Z"
   },
   {
    "duration": 73,
    "start_time": "2023-03-06T17:45:51.324Z"
   },
   {
    "duration": 5,
    "start_time": "2023-03-06T17:45:55.977Z"
   },
   {
    "duration": 5,
    "start_time": "2023-03-06T17:45:57.794Z"
   },
   {
    "duration": 13,
    "start_time": "2023-03-06T17:46:03.973Z"
   },
   {
    "duration": 5,
    "start_time": "2023-03-06T17:46:04.223Z"
   },
   {
    "duration": 5,
    "start_time": "2023-03-06T17:46:05.091Z"
   },
   {
    "duration": 17,
    "start_time": "2023-03-06T17:46:05.726Z"
   },
   {
    "duration": 76,
    "start_time": "2023-03-06T17:51:16.447Z"
   },
   {
    "duration": 4,
    "start_time": "2023-03-06T17:51:31.241Z"
   },
   {
    "duration": 5,
    "start_time": "2023-03-06T17:51:32.838Z"
   },
   {
    "duration": 3,
    "start_time": "2023-03-06T17:51:37.494Z"
   },
   {
    "duration": 50,
    "start_time": "2023-03-06T17:51:37.667Z"
   },
   {
    "duration": 21,
    "start_time": "2023-03-06T17:51:37.753Z"
   },
   {
    "duration": 13,
    "start_time": "2023-03-06T17:51:37.909Z"
   },
   {
    "duration": 53,
    "start_time": "2023-03-06T17:51:37.934Z"
   },
   {
    "duration": 16,
    "start_time": "2023-03-06T17:51:38.171Z"
   },
   {
    "duration": 14,
    "start_time": "2023-03-06T17:51:38.309Z"
   },
   {
    "duration": 6,
    "start_time": "2023-03-06T17:51:38.434Z"
   },
   {
    "duration": 15,
    "start_time": "2023-03-06T17:51:38.957Z"
   },
   {
    "duration": 3,
    "start_time": "2023-03-06T17:51:40.005Z"
   },
   {
    "duration": 9,
    "start_time": "2023-03-06T17:51:40.253Z"
   },
   {
    "duration": 16,
    "start_time": "2023-03-06T17:51:40.507Z"
   },
   {
    "duration": 8,
    "start_time": "2023-03-06T17:51:43.542Z"
   },
   {
    "duration": 9,
    "start_time": "2023-03-06T17:51:43.747Z"
   },
   {
    "duration": 11,
    "start_time": "2023-03-06T17:51:44.199Z"
   },
   {
    "duration": 8,
    "start_time": "2023-03-06T17:51:44.635Z"
   },
   {
    "duration": 15,
    "start_time": "2023-03-06T17:51:45.304Z"
   },
   {
    "duration": 5,
    "start_time": "2023-03-06T17:51:47.926Z"
   },
   {
    "duration": 8,
    "start_time": "2023-03-06T17:51:48.168Z"
   },
   {
    "duration": 5,
    "start_time": "2023-03-06T17:51:48.643Z"
   },
   {
    "duration": 15,
    "start_time": "2023-03-06T17:51:51.671Z"
   },
   {
    "duration": 4,
    "start_time": "2023-03-06T17:53:15.239Z"
   },
   {
    "duration": 5,
    "start_time": "2023-03-06T17:53:17.669Z"
   },
   {
    "duration": 13,
    "start_time": "2023-03-06T17:53:17.896Z"
   },
   {
    "duration": 3,
    "start_time": "2023-03-06T18:10:37.172Z"
   },
   {
    "duration": 49,
    "start_time": "2023-03-06T18:10:37.553Z"
   },
   {
    "duration": 22,
    "start_time": "2023-03-06T18:10:37.722Z"
   },
   {
    "duration": 13,
    "start_time": "2023-03-06T18:10:37.920Z"
   },
   {
    "duration": 28,
    "start_time": "2023-03-06T18:10:38.108Z"
   },
   {
    "duration": 15,
    "start_time": "2023-03-06T18:10:39.269Z"
   },
   {
    "duration": 15,
    "start_time": "2023-03-06T18:10:39.404Z"
   },
   {
    "duration": 9,
    "start_time": "2023-03-06T18:10:39.534Z"
   },
   {
    "duration": 18,
    "start_time": "2023-03-06T18:10:39.595Z"
   },
   {
    "duration": 4,
    "start_time": "2023-03-06T18:10:39.928Z"
   },
   {
    "duration": 9,
    "start_time": "2023-03-06T18:10:40.174Z"
   },
   {
    "duration": 18,
    "start_time": "2023-03-06T18:10:40.396Z"
   },
   {
    "duration": 9,
    "start_time": "2023-03-06T18:10:40.965Z"
   },
   {
    "duration": 8,
    "start_time": "2023-03-06T18:10:41.140Z"
   },
   {
    "duration": 9,
    "start_time": "2023-03-06T18:10:41.327Z"
   },
   {
    "duration": 10,
    "start_time": "2023-03-06T18:10:41.498Z"
   },
   {
    "duration": 13,
    "start_time": "2023-03-06T18:10:41.677Z"
   },
   {
    "duration": 7,
    "start_time": "2023-03-06T18:10:42.344Z"
   },
   {
    "duration": 9,
    "start_time": "2023-03-06T18:10:43.111Z"
   },
   {
    "duration": 5,
    "start_time": "2023-03-06T18:10:43.886Z"
   },
   {
    "duration": 15,
    "start_time": "2023-03-06T18:10:44.632Z"
   },
   {
    "duration": 10,
    "start_time": "2023-03-06T18:10:45.326Z"
   },
   {
    "duration": 12,
    "start_time": "2023-03-06T18:10:54.133Z"
   },
   {
    "duration": 26,
    "start_time": "2023-03-06T18:11:29.245Z"
   },
   {
    "duration": 13,
    "start_time": "2023-03-06T18:12:48.640Z"
   },
   {
    "duration": 6,
    "start_time": "2023-03-06T18:27:22.346Z"
   },
   {
    "duration": 24,
    "start_time": "2023-03-06T18:27:36.375Z"
   },
   {
    "duration": 25,
    "start_time": "2023-03-06T18:29:25.378Z"
   },
   {
    "duration": 86,
    "start_time": "2023-03-06T18:43:20.724Z"
   },
   {
    "duration": 885,
    "start_time": "2023-03-06T18:43:25.831Z"
   },
   {
    "duration": 12,
    "start_time": "2023-03-06T18:43:30.695Z"
   },
   {
    "duration": 16,
    "start_time": "2023-03-06T18:45:20.804Z"
   },
   {
    "duration": 15,
    "start_time": "2023-03-06T18:45:31.317Z"
   },
   {
    "duration": 4,
    "start_time": "2023-03-06T18:45:33.751Z"
   },
   {
    "duration": 6,
    "start_time": "2023-03-06T18:45:34.248Z"
   },
   {
    "duration": 15,
    "start_time": "2023-03-06T18:45:36.359Z"
   },
   {
    "duration": 255,
    "start_time": "2023-03-06T18:47:26.047Z"
   },
   {
    "duration": 336,
    "start_time": "2023-03-06T18:47:35.172Z"
   },
   {
    "duration": 383,
    "start_time": "2023-03-06T18:48:30.304Z"
   },
   {
    "duration": 205,
    "start_time": "2023-03-06T18:48:37.546Z"
   },
   {
    "duration": 267,
    "start_time": "2023-03-06T18:48:47.926Z"
   },
   {
    "duration": 197,
    "start_time": "2023-03-06T18:49:17.261Z"
   },
   {
    "duration": 8,
    "start_time": "2023-03-06T18:49:37.074Z"
   },
   {
    "duration": 56,
    "start_time": "2023-03-06T20:12:46.195Z"
   },
   {
    "duration": 430,
    "start_time": "2023-03-06T20:14:13.120Z"
   },
   {
    "duration": 59,
    "start_time": "2023-03-06T20:14:13.736Z"
   },
   {
    "duration": 36,
    "start_time": "2023-03-06T20:14:13.909Z"
   },
   {
    "duration": 19,
    "start_time": "2023-03-06T20:14:14.117Z"
   },
   {
    "duration": 40,
    "start_time": "2023-03-06T20:14:19.449Z"
   },
   {
    "duration": 309,
    "start_time": "2023-03-06T20:14:37.741Z"
   },
   {
    "duration": 17,
    "start_time": "2023-03-06T20:14:38.052Z"
   },
   {
    "duration": 7,
    "start_time": "2023-03-06T20:14:38.250Z"
   },
   {
    "duration": 18,
    "start_time": "2023-03-06T20:14:38.750Z"
   },
   {
    "duration": 4,
    "start_time": "2023-03-06T20:14:39.910Z"
   },
   {
    "duration": 9,
    "start_time": "2023-03-06T20:14:40.108Z"
   },
   {
    "duration": 24,
    "start_time": "2023-03-06T20:14:40.307Z"
   },
   {
    "duration": 8,
    "start_time": "2023-03-06T20:14:40.907Z"
   },
   {
    "duration": 8,
    "start_time": "2023-03-06T20:14:41.050Z"
   },
   {
    "duration": 10,
    "start_time": "2023-03-06T20:14:41.237Z"
   },
   {
    "duration": 11,
    "start_time": "2023-03-06T20:14:41.416Z"
   },
   {
    "duration": 21,
    "start_time": "2023-03-06T20:14:41.609Z"
   },
   {
    "duration": 9,
    "start_time": "2023-03-06T20:14:43.877Z"
   },
   {
    "duration": 15,
    "start_time": "2023-03-06T20:14:50.072Z"
   },
   {
    "duration": 7,
    "start_time": "2023-03-06T20:14:51.350Z"
   },
   {
    "duration": 8,
    "start_time": "2023-03-06T20:14:52.105Z"
   },
   {
    "duration": 6,
    "start_time": "2023-03-06T20:14:52.837Z"
   },
   {
    "duration": 15,
    "start_time": "2023-03-06T20:14:53.407Z"
   },
   {
    "duration": 19,
    "start_time": "2023-03-06T20:14:55.876Z"
   },
   {
    "duration": 25,
    "start_time": "2023-03-06T20:14:56.058Z"
   },
   {
    "duration": 5,
    "start_time": "2023-03-06T20:15:01.614Z"
   },
   {
    "duration": 14,
    "start_time": "2023-03-06T20:15:02.042Z"
   },
   {
    "duration": 40,
    "start_time": "2023-03-06T20:15:16.414Z"
   },
   {
    "duration": 7,
    "start_time": "2023-03-06T20:15:29.320Z"
   },
   {
    "duration": 12,
    "start_time": "2023-03-06T20:15:31.537Z"
   },
   {
    "duration": 310,
    "start_time": "2023-03-06T20:15:33.109Z"
   },
   {
    "duration": 5,
    "start_time": "2023-03-06T20:15:48.208Z"
   },
   {
    "duration": 24,
    "start_time": "2023-03-06T20:16:26.849Z"
   },
   {
    "duration": 57,
    "start_time": "2023-03-06T20:17:04.103Z"
   },
   {
    "duration": 5,
    "start_time": "2023-03-06T20:17:09.370Z"
   },
   {
    "duration": 18,
    "start_time": "2023-03-06T20:17:57.863Z"
   },
   {
    "duration": 8,
    "start_time": "2023-03-06T20:18:09.673Z"
   },
   {
    "duration": 445,
    "start_time": "2023-03-06T20:19:02.160Z"
   },
   {
    "duration": 10,
    "start_time": "2023-03-06T20:19:35.899Z"
   },
   {
    "duration": 5,
    "start_time": "2023-03-06T20:19:43.867Z"
   },
   {
    "duration": 491,
    "start_time": "2023-03-06T20:23:04.016Z"
   },
   {
    "duration": 13,
    "start_time": "2023-03-06T20:23:31.374Z"
   },
   {
    "duration": 7,
    "start_time": "2023-03-06T20:23:37.808Z"
   },
   {
    "duration": 8,
    "start_time": "2023-03-06T20:23:50.657Z"
   },
   {
    "duration": 5,
    "start_time": "2023-03-06T20:23:56.041Z"
   },
   {
    "duration": 8,
    "start_time": "2023-03-06T20:24:13.353Z"
   },
   {
    "duration": 5,
    "start_time": "2023-03-06T20:24:19.381Z"
   },
   {
    "duration": 4,
    "start_time": "2023-03-06T20:24:20.362Z"
   },
   {
    "duration": 8,
    "start_time": "2023-03-06T20:24:29.511Z"
   },
   {
    "duration": 4,
    "start_time": "2023-03-06T20:24:41.677Z"
   },
   {
    "duration": 4,
    "start_time": "2023-03-06T20:24:45.737Z"
   },
   {
    "duration": 14,
    "start_time": "2023-03-06T20:25:05.836Z"
   },
   {
    "duration": 342,
    "start_time": "2023-03-06T20:25:28.156Z"
   },
   {
    "duration": 10,
    "start_time": "2023-03-06T20:26:18.673Z"
   },
   {
    "duration": 16,
    "start_time": "2023-03-06T20:27:52.625Z"
   },
   {
    "duration": 311,
    "start_time": "2023-03-06T20:27:55.868Z"
   },
   {
    "duration": 8,
    "start_time": "2023-03-06T20:28:05.873Z"
   },
   {
    "duration": 332,
    "start_time": "2023-03-06T20:28:07.081Z"
   },
   {
    "duration": 95,
    "start_time": "2023-03-06T20:30:15.516Z"
   },
   {
    "duration": 5,
    "start_time": "2023-03-06T20:31:30.971Z"
   },
   {
    "duration": 8,
    "start_time": "2023-03-06T20:35:45.175Z"
   },
   {
    "duration": 9,
    "start_time": "2023-03-06T20:37:50.557Z"
   },
   {
    "duration": 146,
    "start_time": "2023-03-06T20:38:03.404Z"
   },
   {
    "duration": 29,
    "start_time": "2023-03-06T20:38:25.453Z"
   },
   {
    "duration": 19,
    "start_time": "2023-03-06T20:39:17.819Z"
   },
   {
    "duration": 16,
    "start_time": "2023-03-06T20:39:21.531Z"
   },
   {
    "duration": 1190,
    "start_time": "2023-03-06T20:39:22.810Z"
   },
   {
    "duration": 12,
    "start_time": "2023-03-06T20:39:34.448Z"
   },
   {
    "duration": 16,
    "start_time": "2023-03-06T20:42:53.579Z"
   },
   {
    "duration": 16,
    "start_time": "2023-03-06T20:43:07.370Z"
   },
   {
    "duration": 17,
    "start_time": "2023-03-06T20:43:16.403Z"
   },
   {
    "duration": 23,
    "start_time": "2023-03-06T20:44:01.554Z"
   },
   {
    "duration": 25,
    "start_time": "2023-03-06T20:44:34.118Z"
   },
   {
    "duration": 16,
    "start_time": "2023-03-06T20:45:00.873Z"
   },
   {
    "duration": 12,
    "start_time": "2023-03-06T20:45:25.737Z"
   },
   {
    "duration": 8,
    "start_time": "2023-03-06T20:45:34.148Z"
   },
   {
    "duration": 410,
    "start_time": "2023-03-07T07:03:40.124Z"
   },
   {
    "duration": 180,
    "start_time": "2023-03-07T07:03:40.536Z"
   },
   {
    "duration": 26,
    "start_time": "2023-03-07T07:03:40.718Z"
   },
   {
    "duration": 16,
    "start_time": "2023-03-07T07:03:40.746Z"
   },
   {
    "duration": 33,
    "start_time": "2023-03-07T07:03:40.764Z"
   },
   {
    "duration": 454,
    "start_time": "2023-03-07T07:03:40.898Z"
   },
   {
    "duration": 17,
    "start_time": "2023-03-07T07:03:41.354Z"
   },
   {
    "duration": 7,
    "start_time": "2023-03-07T07:03:41.373Z"
   },
   {
    "duration": 37,
    "start_time": "2023-03-07T07:03:41.382Z"
   },
   {
    "duration": 5,
    "start_time": "2023-03-07T07:03:42.346Z"
   },
   {
    "duration": 11,
    "start_time": "2023-03-07T07:03:42.423Z"
   },
   {
    "duration": 18,
    "start_time": "2023-03-07T07:03:42.512Z"
   },
   {
    "duration": 10,
    "start_time": "2023-03-07T07:03:43.744Z"
   },
   {
    "duration": 8,
    "start_time": "2023-03-07T07:03:43.932Z"
   },
   {
    "duration": 12,
    "start_time": "2023-03-07T07:03:44.116Z"
   },
   {
    "duration": 9,
    "start_time": "2023-03-07T07:03:44.320Z"
   },
   {
    "duration": 15,
    "start_time": "2023-03-07T07:03:44.936Z"
   },
   {
    "duration": 9,
    "start_time": "2023-03-07T07:03:47.406Z"
   },
   {
    "duration": 9,
    "start_time": "2023-03-07T07:03:47.674Z"
   },
   {
    "duration": 6,
    "start_time": "2023-03-07T07:03:47.943Z"
   },
   {
    "duration": 14,
    "start_time": "2023-03-07T07:03:48.150Z"
   },
   {
    "duration": 11,
    "start_time": "2023-03-07T07:03:50.120Z"
   },
   {
    "duration": 19,
    "start_time": "2023-03-07T07:03:50.845Z"
   },
   {
    "duration": 5,
    "start_time": "2023-03-07T07:03:54.499Z"
   },
   {
    "duration": 14,
    "start_time": "2023-03-07T07:03:56.930Z"
   },
   {
    "duration": 4,
    "start_time": "2023-03-07T07:03:58.050Z"
   },
   {
    "duration": 25,
    "start_time": "2023-03-07T07:03:58.556Z"
   },
   {
    "duration": 10,
    "start_time": "2023-03-07T07:04:07.182Z"
   },
   {
    "duration": 199,
    "start_time": "2023-03-07T07:04:08.215Z"
   },
   {
    "duration": 144,
    "start_time": "2023-03-07T07:15:33.021Z"
   },
   {
    "duration": 92,
    "start_time": "2023-03-07T07:15:42.975Z"
   },
   {
    "duration": 73,
    "start_time": "2023-03-07T07:15:49.265Z"
   },
   {
    "duration": 8,
    "start_time": "2023-03-07T07:15:59.805Z"
   },
   {
    "duration": 10,
    "start_time": "2023-03-07T07:20:15.267Z"
   },
   {
    "duration": 43,
    "start_time": "2023-03-07T07:20:22.202Z"
   },
   {
    "duration": 8,
    "start_time": "2023-03-07T07:21:00.794Z"
   },
   {
    "duration": 73,
    "start_time": "2023-03-07T07:22:33.968Z"
   },
   {
    "duration": 75,
    "start_time": "2023-03-07T07:22:54.741Z"
   },
   {
    "duration": 71,
    "start_time": "2023-03-07T07:24:32.230Z"
   },
   {
    "duration": 98,
    "start_time": "2023-03-07T07:24:45.026Z"
   },
   {
    "duration": 43,
    "start_time": "2023-03-07T07:26:44.420Z"
   },
   {
    "duration": 42,
    "start_time": "2023-03-07T07:26:52.225Z"
   },
   {
    "duration": 8,
    "start_time": "2023-03-07T07:27:11.785Z"
   },
   {
    "duration": 11,
    "start_time": "2023-03-07T07:27:26.965Z"
   },
   {
    "duration": 14,
    "start_time": "2023-03-07T07:28:33.766Z"
   },
   {
    "duration": 9,
    "start_time": "2023-03-07T07:28:49.974Z"
   },
   {
    "duration": 11,
    "start_time": "2023-03-07T07:29:02.984Z"
   },
   {
    "duration": 11,
    "start_time": "2023-03-07T07:29:04.286Z"
   },
   {
    "duration": 6,
    "start_time": "2023-03-07T07:30:15.432Z"
   },
   {
    "duration": 8,
    "start_time": "2023-03-07T07:30:15.848Z"
   },
   {
    "duration": 3,
    "start_time": "2023-03-07T07:30:24.598Z"
   },
   {
    "duration": 49,
    "start_time": "2023-03-07T07:30:24.758Z"
   },
   {
    "duration": 22,
    "start_time": "2023-03-07T07:30:24.846Z"
   },
   {
    "duration": 13,
    "start_time": "2023-03-07T07:30:24.996Z"
   },
   {
    "duration": 29,
    "start_time": "2023-03-07T07:30:25.154Z"
   },
   {
    "duration": 15,
    "start_time": "2023-03-07T07:30:25.454Z"
   },
   {
    "duration": 15,
    "start_time": "2023-03-07T07:30:25.598Z"
   },
   {
    "duration": 7,
    "start_time": "2023-03-07T07:30:25.908Z"
   },
   {
    "duration": 15,
    "start_time": "2023-03-07T07:30:25.934Z"
   },
   {
    "duration": 4,
    "start_time": "2023-03-07T07:30:26.024Z"
   },
   {
    "duration": 10,
    "start_time": "2023-03-07T07:30:26.056Z"
   },
   {
    "duration": 16,
    "start_time": "2023-03-07T07:30:26.114Z"
   },
   {
    "duration": 8,
    "start_time": "2023-03-07T07:30:26.354Z"
   },
   {
    "duration": 7,
    "start_time": "2023-03-07T07:30:26.438Z"
   },
   {
    "duration": 8,
    "start_time": "2023-03-07T07:30:26.522Z"
   },
   {
    "duration": 9,
    "start_time": "2023-03-07T07:30:26.606Z"
   },
   {
    "duration": 13,
    "start_time": "2023-03-07T07:30:26.690Z"
   },
   {
    "duration": 7,
    "start_time": "2023-03-07T07:30:26.942Z"
   },
   {
    "duration": 8,
    "start_time": "2023-03-07T07:30:27.110Z"
   },
   {
    "duration": 5,
    "start_time": "2023-03-07T07:30:27.194Z"
   },
   {
    "duration": 13,
    "start_time": "2023-03-07T07:30:27.502Z"
   },
   {
    "duration": 12,
    "start_time": "2023-03-07T07:30:28.082Z"
   },
   {
    "duration": 18,
    "start_time": "2023-03-07T07:30:28.161Z"
   },
   {
    "duration": 7,
    "start_time": "2023-03-07T07:30:28.474Z"
   },
   {
    "duration": 43,
    "start_time": "2023-03-07T07:30:28.497Z"
   },
   {
    "duration": 3,
    "start_time": "2023-03-07T07:30:28.579Z"
   },
   {
    "duration": 20,
    "start_time": "2023-03-07T07:30:28.662Z"
   },
   {
    "duration": 8,
    "start_time": "2023-03-07T07:30:29.696Z"
   },
   {
    "duration": 188,
    "start_time": "2023-03-07T07:30:30.024Z"
   },
   {
    "duration": 9,
    "start_time": "2023-03-07T07:30:32.105Z"
   },
   {
    "duration": 8,
    "start_time": "2023-03-07T07:30:32.649Z"
   },
   {
    "duration": 348,
    "start_time": "2023-03-07T07:30:33.657Z"
   },
   {
    "duration": 11,
    "start_time": "2023-03-07T07:30:34.636Z"
   },
   {
    "duration": 9,
    "start_time": "2023-03-07T07:30:35.337Z"
   },
   {
    "duration": 7,
    "start_time": "2023-03-07T07:30:37.248Z"
   },
   {
    "duration": 22,
    "start_time": "2023-03-07T07:30:37.989Z"
   },
   {
    "duration": 22,
    "start_time": "2023-03-07T07:30:42.395Z"
   },
   {
    "duration": 15,
    "start_time": "2023-03-07T07:31:21.667Z"
   },
   {
    "duration": 6,
    "start_time": "2023-03-07T07:31:46.128Z"
   },
   {
    "duration": 7,
    "start_time": "2023-03-07T07:32:03.065Z"
   },
   {
    "duration": 601,
    "start_time": "2023-03-07T07:32:36.150Z"
   },
   {
    "duration": 18,
    "start_time": "2023-03-07T07:35:02.686Z"
   },
   {
    "duration": 147,
    "start_time": "2023-03-07T07:35:20.115Z"
   },
   {
    "duration": 138,
    "start_time": "2023-03-07T07:35:32.374Z"
   },
   {
    "duration": 16,
    "start_time": "2023-03-07T07:35:39.740Z"
   },
   {
    "duration": 150,
    "start_time": "2023-03-07T07:35:51.974Z"
   },
   {
    "duration": 30,
    "start_time": "2023-03-07T07:36:14.256Z"
   },
   {
    "duration": 13,
    "start_time": "2023-03-07T07:36:25.664Z"
   },
   {
    "duration": 12,
    "start_time": "2023-03-07T07:36:26.024Z"
   },
   {
    "duration": 1145,
    "start_time": "2023-03-07T07:36:33.307Z"
   },
   {
    "duration": 2,
    "start_time": "2023-03-07T07:40:23.371Z"
   },
   {
    "duration": 2,
    "start_time": "2023-03-07T07:40:46.646Z"
   },
   {
    "duration": 12,
    "start_time": "2023-03-07T07:42:39.047Z"
   },
   {
    "duration": 9,
    "start_time": "2023-03-07T07:43:11.795Z"
   },
   {
    "duration": 1216,
    "start_time": "2023-03-07T07:43:19.712Z"
   },
   {
    "duration": 8,
    "start_time": "2023-03-07T07:49:29.583Z"
   },
   {
    "duration": 224,
    "start_time": "2023-03-07T07:49:33.978Z"
   },
   {
    "duration": 259,
    "start_time": "2023-03-07T07:59:31.524Z"
   },
   {
    "duration": 175,
    "start_time": "2023-03-07T07:59:37.182Z"
   },
   {
    "duration": 11,
    "start_time": "2023-03-07T07:59:40.254Z"
   },
   {
    "duration": 197,
    "start_time": "2023-03-07T07:59:41.505Z"
   },
   {
    "duration": 10,
    "start_time": "2023-03-07T08:09:02.800Z"
   },
   {
    "duration": 12,
    "start_time": "2023-03-07T08:09:08.192Z"
   },
   {
    "duration": 10,
    "start_time": "2023-03-07T08:09:10.192Z"
   },
   {
    "duration": 10,
    "start_time": "2023-03-07T08:09:19.324Z"
   },
   {
    "duration": 2,
    "start_time": "2023-03-07T08:09:24.394Z"
   },
   {
    "duration": 50,
    "start_time": "2023-03-07T08:09:24.546Z"
   },
   {
    "duration": 20,
    "start_time": "2023-03-07T08:09:24.630Z"
   },
   {
    "duration": 13,
    "start_time": "2023-03-07T08:09:24.798Z"
   },
   {
    "duration": 30,
    "start_time": "2023-03-07T08:09:24.991Z"
   },
   {
    "duration": 16,
    "start_time": "2023-03-07T08:09:25.306Z"
   },
   {
    "duration": 16,
    "start_time": "2023-03-07T08:09:25.485Z"
   },
   {
    "duration": 7,
    "start_time": "2023-03-07T08:09:25.802Z"
   },
   {
    "duration": 16,
    "start_time": "2023-03-07T08:09:25.813Z"
   },
   {
    "duration": 3,
    "start_time": "2023-03-07T08:09:25.902Z"
   },
   {
    "duration": 9,
    "start_time": "2023-03-07T08:09:25.932Z"
   },
   {
    "duration": 18,
    "start_time": "2023-03-07T08:09:25.990Z"
   },
   {
    "duration": 7,
    "start_time": "2023-03-07T08:09:26.148Z"
   },
   {
    "duration": 7,
    "start_time": "2023-03-07T08:09:26.228Z"
   },
   {
    "duration": 8,
    "start_time": "2023-03-07T08:09:26.308Z"
   },
   {
    "duration": 9,
    "start_time": "2023-03-07T08:09:26.403Z"
   },
   {
    "duration": 15,
    "start_time": "2023-03-07T08:09:26.493Z"
   },
   {
    "duration": 8,
    "start_time": "2023-03-07T08:09:26.743Z"
   },
   {
    "duration": 9,
    "start_time": "2023-03-07T08:09:26.900Z"
   },
   {
    "duration": 5,
    "start_time": "2023-03-07T08:09:27.000Z"
   },
   {
    "duration": 14,
    "start_time": "2023-03-07T08:09:27.090Z"
   },
   {
    "duration": 12,
    "start_time": "2023-03-07T08:09:27.232Z"
   },
   {
    "duration": 19,
    "start_time": "2023-03-07T08:09:27.316Z"
   },
   {
    "duration": 6,
    "start_time": "2023-03-07T08:09:28.344Z"
   },
   {
    "duration": 13,
    "start_time": "2023-03-07T08:09:28.524Z"
   },
   {
    "duration": 3,
    "start_time": "2023-03-07T08:09:28.694Z"
   },
   {
    "duration": 22,
    "start_time": "2023-03-07T08:09:28.922Z"
   },
   {
    "duration": 9,
    "start_time": "2023-03-07T08:09:31.000Z"
   },
   {
    "duration": 182,
    "start_time": "2023-03-07T08:09:31.806Z"
   },
   {
    "duration": 9,
    "start_time": "2023-03-07T08:09:35.087Z"
   },
   {
    "duration": 8,
    "start_time": "2023-03-07T08:09:35.508Z"
   },
   {
    "duration": 283,
    "start_time": "2023-03-07T08:09:36.057Z"
   },
   {
    "duration": 12,
    "start_time": "2023-03-07T08:09:36.420Z"
   },
   {
    "duration": 8,
    "start_time": "2023-03-07T08:09:37.592Z"
   },
   {
    "duration": 9,
    "start_time": "2023-03-07T08:09:38.913Z"
   },
   {
    "duration": 23,
    "start_time": "2023-03-07T08:09:40.894Z"
   },
   {
    "duration": 14,
    "start_time": "2023-03-07T08:09:46.009Z"
   },
   {
    "duration": 13,
    "start_time": "2023-03-07T08:09:48.217Z"
   },
   {
    "duration": 230,
    "start_time": "2023-03-07T08:09:54.049Z"
   },
   {
    "duration": 191,
    "start_time": "2023-03-07T08:12:37.717Z"
   },
   {
    "duration": 162,
    "start_time": "2023-03-07T08:12:44.396Z"
   },
   {
    "duration": 206,
    "start_time": "2023-03-07T08:13:18.848Z"
   },
   {
    "duration": 59,
    "start_time": "2023-03-07T08:14:01.294Z"
   },
   {
    "duration": 500,
    "start_time": "2023-03-07T08:14:19.155Z"
   },
   {
    "duration": 8,
    "start_time": "2023-03-07T08:14:35.692Z"
   },
   {
    "duration": 16,
    "start_time": "2023-03-07T08:14:38.693Z"
   },
   {
    "duration": 618,
    "start_time": "2023-03-07T08:14:40.496Z"
   },
   {
    "duration": 433,
    "start_time": "2023-03-07T08:14:56.196Z"
   },
   {
    "duration": 468,
    "start_time": "2023-03-07T08:15:06.114Z"
   },
   {
    "duration": 28,
    "start_time": "2023-03-07T08:19:29.829Z"
   },
   {
    "duration": 6,
    "start_time": "2023-03-07T08:19:36.495Z"
   },
   {
    "duration": 13,
    "start_time": "2023-03-07T08:19:44.927Z"
   },
   {
    "duration": 282,
    "start_time": "2023-03-07T08:19:58.793Z"
   },
   {
    "duration": 6,
    "start_time": "2023-03-07T08:27:37.854Z"
   },
   {
    "duration": 13,
    "start_time": "2023-03-07T08:27:38.247Z"
   },
   {
    "duration": 277,
    "start_time": "2023-03-07T08:27:38.640Z"
   },
   {
    "duration": 7,
    "start_time": "2023-03-07T08:28:01.102Z"
   },
   {
    "duration": 14,
    "start_time": "2023-03-07T08:28:01.204Z"
   },
   {
    "duration": 306,
    "start_time": "2023-03-07T08:28:01.596Z"
   },
   {
    "duration": 6,
    "start_time": "2023-03-07T08:29:09.005Z"
   },
   {
    "duration": 15,
    "start_time": "2023-03-07T08:29:10.603Z"
   },
   {
    "duration": 514,
    "start_time": "2023-03-07T08:29:11.002Z"
   },
   {
    "duration": 8,
    "start_time": "2023-03-07T08:29:36.228Z"
   },
   {
    "duration": 17,
    "start_time": "2023-03-07T08:29:36.598Z"
   },
   {
    "duration": 447,
    "start_time": "2023-03-07T08:29:36.988Z"
   },
   {
    "duration": 6,
    "start_time": "2023-03-07T08:29:54.697Z"
   },
   {
    "duration": 14,
    "start_time": "2023-03-07T08:29:57.094Z"
   },
   {
    "duration": 280,
    "start_time": "2023-03-07T08:29:57.636Z"
   },
   {
    "duration": 7,
    "start_time": "2023-03-07T08:30:29.991Z"
   },
   {
    "duration": 13,
    "start_time": "2023-03-07T08:30:32.298Z"
   },
   {
    "duration": 279,
    "start_time": "2023-03-07T08:30:32.685Z"
   },
   {
    "duration": 238,
    "start_time": "2023-03-07T08:35:27.383Z"
   },
   {
    "duration": 7,
    "start_time": "2023-03-07T08:41:06.150Z"
   },
   {
    "duration": 10,
    "start_time": "2023-03-07T08:41:06.334Z"
   },
   {
    "duration": 273,
    "start_time": "2023-03-07T08:41:06.580Z"
   },
   {
    "duration": 3,
    "start_time": "2023-03-07T08:41:13.580Z"
   },
   {
    "duration": 62,
    "start_time": "2023-03-07T08:41:13.738Z"
   },
   {
    "duration": 21,
    "start_time": "2023-03-07T08:41:13.824Z"
   },
   {
    "duration": 14,
    "start_time": "2023-03-07T08:41:13.993Z"
   },
   {
    "duration": 39,
    "start_time": "2023-03-07T08:41:14.156Z"
   },
   {
    "duration": 16,
    "start_time": "2023-03-07T08:41:14.496Z"
   },
   {
    "duration": 25,
    "start_time": "2023-03-07T08:41:14.655Z"
   },
   {
    "duration": 9,
    "start_time": "2023-03-07T08:41:14.984Z"
   },
   {
    "duration": 25,
    "start_time": "2023-03-07T08:41:15.018Z"
   },
   {
    "duration": 4,
    "start_time": "2023-03-07T08:41:15.106Z"
   },
   {
    "duration": 15,
    "start_time": "2023-03-07T08:41:15.128Z"
   },
   {
    "duration": 16,
    "start_time": "2023-03-07T08:41:15.158Z"
   },
   {
    "duration": 8,
    "start_time": "2023-03-07T08:41:15.336Z"
   },
   {
    "duration": 7,
    "start_time": "2023-03-07T08:41:15.488Z"
   },
   {
    "duration": 21,
    "start_time": "2023-03-07T08:41:15.502Z"
   },
   {
    "duration": 14,
    "start_time": "2023-03-07T08:41:15.588Z"
   },
   {
    "duration": 20,
    "start_time": "2023-03-07T08:41:15.677Z"
   },
   {
    "duration": 10,
    "start_time": "2023-03-07T08:41:15.918Z"
   },
   {
    "duration": 12,
    "start_time": "2023-03-07T08:41:16.698Z"
   },
   {
    "duration": 7,
    "start_time": "2023-03-07T08:41:16.929Z"
   },
   {
    "duration": 19,
    "start_time": "2023-03-07T08:41:17.436Z"
   },
   {
    "duration": 17,
    "start_time": "2023-03-07T08:41:17.599Z"
   },
   {
    "duration": 28,
    "start_time": "2023-03-07T08:41:17.683Z"
   },
   {
    "duration": 5,
    "start_time": "2023-03-07T08:41:18.014Z"
   },
   {
    "duration": 14,
    "start_time": "2023-03-07T08:41:18.046Z"
   },
   {
    "duration": 4,
    "start_time": "2023-03-07T08:41:18.106Z"
   },
   {
    "duration": 27,
    "start_time": "2023-03-07T08:41:18.187Z"
   },
   {
    "duration": 8,
    "start_time": "2023-03-07T08:41:18.539Z"
   },
   {
    "duration": 195,
    "start_time": "2023-03-07T08:41:18.601Z"
   },
   {
    "duration": 9,
    "start_time": "2023-03-07T08:41:19.330Z"
   },
   {
    "duration": 8,
    "start_time": "2023-03-07T08:41:19.607Z"
   },
   {
    "duration": 335,
    "start_time": "2023-03-07T08:41:19.895Z"
   },
   {
    "duration": 13,
    "start_time": "2023-03-07T08:41:20.232Z"
   },
   {
    "duration": 10,
    "start_time": "2023-03-07T08:41:20.444Z"
   },
   {
    "duration": 9,
    "start_time": "2023-03-07T08:41:21.538Z"
   },
   {
    "duration": 22,
    "start_time": "2023-03-07T08:41:21.797Z"
   },
   {
    "duration": 14,
    "start_time": "2023-03-07T08:41:22.105Z"
   },
   {
    "duration": 14,
    "start_time": "2023-03-07T08:41:22.650Z"
   },
   {
    "duration": 197,
    "start_time": "2023-03-07T08:41:23.348Z"
   },
   {
    "duration": 7,
    "start_time": "2023-03-07T08:41:26.731Z"
   },
   {
    "duration": 12,
    "start_time": "2023-03-07T08:41:27.109Z"
   },
   {
    "duration": 278,
    "start_time": "2023-03-07T08:41:28.036Z"
   },
   {
    "duration": 13,
    "start_time": "2023-03-07T08:41:39.329Z"
   },
   {
    "duration": 6,
    "start_time": "2023-03-07T08:41:44.550Z"
   },
   {
    "duration": 15,
    "start_time": "2023-03-07T08:41:44.887Z"
   },
   {
    "duration": 277,
    "start_time": "2023-03-07T08:41:45.580Z"
   },
   {
    "duration": 145,
    "start_time": "2023-03-07T08:41:50.482Z"
   },
   {
    "duration": 366,
    "start_time": "2023-03-07T08:42:25.781Z"
   },
   {
    "duration": 271,
    "start_time": "2023-03-07T08:45:59.678Z"
   },
   {
    "duration": 410,
    "start_time": "2023-03-07T08:46:16.048Z"
   },
   {
    "duration": 309,
    "start_time": "2023-03-07T08:46:51.522Z"
   },
   {
    "duration": 281,
    "start_time": "2023-03-07T08:47:10.757Z"
   },
   {
    "duration": 273,
    "start_time": "2023-03-07T08:48:23.599Z"
   },
   {
    "duration": 101,
    "start_time": "2023-03-07T08:48:46.185Z"
   },
   {
    "duration": 102,
    "start_time": "2023-03-07T08:48:53.132Z"
   },
   {
    "duration": 489,
    "start_time": "2023-03-07T08:49:18.717Z"
   },
   {
    "duration": 77,
    "start_time": "2023-03-07T08:51:42.099Z"
   },
   {
    "duration": 12,
    "start_time": "2023-03-07T08:51:49.492Z"
   },
   {
    "duration": 24,
    "start_time": "2023-03-07T08:52:24.902Z"
   },
   {
    "duration": 27,
    "start_time": "2023-03-07T08:57:12.185Z"
   },
   {
    "duration": 30,
    "start_time": "2023-03-07T08:57:24.785Z"
   },
   {
    "duration": 347,
    "start_time": "2023-03-07T08:57:46.698Z"
   },
   {
    "duration": 412,
    "start_time": "2023-03-07T08:58:22.703Z"
   },
   {
    "duration": 381,
    "start_time": "2023-03-07T08:58:30.332Z"
   },
   {
    "duration": 382,
    "start_time": "2023-03-07T08:58:55.106Z"
   },
   {
    "duration": 8,
    "start_time": "2023-03-07T09:00:55.643Z"
   },
   {
    "duration": 17,
    "start_time": "2023-03-07T09:01:48.489Z"
   },
   {
    "duration": 27,
    "start_time": "2023-03-07T09:02:32.743Z"
   },
   {
    "duration": 20,
    "start_time": "2023-03-07T09:03:48.288Z"
   },
   {
    "duration": 67,
    "start_time": "2023-03-07T09:05:39.255Z"
   },
   {
    "duration": 50,
    "start_time": "2023-03-07T09:06:01.996Z"
   },
   {
    "duration": 25,
    "start_time": "2023-03-07T09:07:14.321Z"
   },
   {
    "duration": 164,
    "start_time": "2023-03-07T09:15:24.205Z"
   },
   {
    "duration": 277,
    "start_time": "2023-03-07T09:15:31.244Z"
   },
   {
    "duration": 86,
    "start_time": "2023-03-07T09:17:02.908Z"
   },
   {
    "duration": 7,
    "start_time": "2023-03-07T09:17:11.289Z"
   },
   {
    "duration": 22,
    "start_time": "2023-03-07T09:17:16.505Z"
   },
   {
    "duration": 14,
    "start_time": "2023-03-07T09:17:16.814Z"
   },
   {
    "duration": 14,
    "start_time": "2023-03-07T09:17:17.020Z"
   },
   {
    "duration": 183,
    "start_time": "2023-03-07T09:17:17.837Z"
   },
   {
    "duration": 8,
    "start_time": "2023-03-07T09:17:21.108Z"
   },
   {
    "duration": 15,
    "start_time": "2023-03-07T09:17:21.700Z"
   },
   {
    "duration": 286,
    "start_time": "2023-03-07T09:17:23.008Z"
   },
   {
    "duration": 40,
    "start_time": "2023-03-07T09:17:34.129Z"
   },
   {
    "duration": 175,
    "start_time": "2023-03-07T09:17:44.400Z"
   },
   {
    "duration": 193,
    "start_time": "2023-03-07T09:18:34.740Z"
   },
   {
    "duration": 190,
    "start_time": "2023-03-07T09:18:42.789Z"
   },
   {
    "duration": 495,
    "start_time": "2023-03-07T09:18:56.101Z"
   },
   {
    "duration": 10,
    "start_time": "2023-03-07T09:19:50.819Z"
   },
   {
    "duration": 8,
    "start_time": "2023-03-07T09:20:00.645Z"
   },
   {
    "duration": 6,
    "start_time": "2023-03-07T09:20:21.956Z"
   },
   {
    "duration": 6,
    "start_time": "2023-03-07T09:20:39.298Z"
   },
   {
    "duration": 6,
    "start_time": "2023-03-07T09:20:59.018Z"
   },
   {
    "duration": 69,
    "start_time": "2023-03-07T09:22:32.783Z"
   },
   {
    "duration": 113,
    "start_time": "2023-03-07T09:24:51.583Z"
   },
   {
    "duration": 133,
    "start_time": "2023-03-07T09:25:06.072Z"
   },
   {
    "duration": 123,
    "start_time": "2023-03-07T09:25:29.997Z"
   },
   {
    "duration": 140,
    "start_time": "2023-03-07T09:25:34.795Z"
   },
   {
    "duration": 16,
    "start_time": "2023-03-07T10:05:36.727Z"
   },
   {
    "duration": 16,
    "start_time": "2023-03-07T10:06:15.208Z"
   },
   {
    "duration": 19,
    "start_time": "2023-03-07T10:06:25.457Z"
   },
   {
    "duration": 334,
    "start_time": "2023-03-07T10:06:46.699Z"
   },
   {
    "duration": 491,
    "start_time": "2023-03-07T10:06:58.124Z"
   },
   {
    "duration": 692,
    "start_time": "2023-03-07T10:07:33.875Z"
   },
   {
    "duration": 604,
    "start_time": "2023-03-07T10:07:54.821Z"
   },
   {
    "duration": 103,
    "start_time": "2023-03-07T10:08:57.729Z"
   },
   {
    "duration": 581,
    "start_time": "2023-03-07T10:09:13.016Z"
   },
   {
    "duration": 736,
    "start_time": "2023-03-07T10:12:15.223Z"
   },
   {
    "duration": 970,
    "start_time": "2023-03-07T10:12:47.410Z"
   },
   {
    "duration": 755,
    "start_time": "2023-03-07T10:13:00.907Z"
   },
   {
    "duration": 574,
    "start_time": "2023-03-07T10:13:22.577Z"
   },
   {
    "duration": 23,
    "start_time": "2023-03-07T10:13:30.215Z"
   },
   {
    "duration": 142,
    "start_time": "2023-03-07T10:13:52.083Z"
   },
   {
    "duration": 203,
    "start_time": "2023-03-07T10:14:09.644Z"
   },
   {
    "duration": 166,
    "start_time": "2023-03-07T10:14:15.573Z"
   },
   {
    "duration": 640,
    "start_time": "2023-03-07T10:21:43.908Z"
   },
   {
    "duration": 359,
    "start_time": "2023-03-07T10:24:01.018Z"
   },
   {
    "duration": 631,
    "start_time": "2023-03-07T10:24:09.701Z"
   },
   {
    "duration": 882,
    "start_time": "2023-03-07T10:25:20.457Z"
   },
   {
    "duration": 1159,
    "start_time": "2023-03-07T10:26:00.800Z"
   },
   {
    "duration": 840,
    "start_time": "2023-03-07T10:28:26.189Z"
   },
   {
    "duration": 747,
    "start_time": "2023-03-07T10:28:51.393Z"
   },
   {
    "duration": 2,
    "start_time": "2023-03-07T10:29:35.436Z"
   },
   {
    "duration": 281,
    "start_time": "2023-03-07T10:29:36.994Z"
   },
   {
    "duration": 282,
    "start_time": "2023-03-07T10:29:37.295Z"
   },
   {
    "duration": 309,
    "start_time": "2023-03-07T10:29:37.579Z"
   },
   {
    "duration": 229,
    "start_time": "2023-03-07T11:18:50.987Z"
   },
   {
    "duration": 6,
    "start_time": "2023-03-07T11:19:14.296Z"
   },
   {
    "duration": 6,
    "start_time": "2023-03-07T11:26:08.638Z"
   },
   {
    "duration": 6,
    "start_time": "2023-03-07T11:30:21.032Z"
   },
   {
    "duration": 359,
    "start_time": "2023-03-07T11:30:21.425Z"
   },
   {
    "duration": 255,
    "start_time": "2023-03-07T11:30:58.399Z"
   },
   {
    "duration": 197,
    "start_time": "2023-03-07T11:35:02.093Z"
   },
   {
    "duration": 110,
    "start_time": "2023-03-07T11:35:18.504Z"
   },
   {
    "duration": 79,
    "start_time": "2023-03-07T11:35:22.926Z"
   },
   {
    "duration": 186,
    "start_time": "2023-03-07T11:35:28.530Z"
   },
   {
    "duration": 2,
    "start_time": "2023-03-07T11:35:50.889Z"
   },
   {
    "duration": 190,
    "start_time": "2023-03-07T11:35:51.554Z"
   },
   {
    "duration": 8,
    "start_time": "2023-03-07T11:36:05.215Z"
   },
   {
    "duration": 3,
    "start_time": "2023-03-07T11:36:05.604Z"
   },
   {
    "duration": 201,
    "start_time": "2023-03-07T11:36:06.101Z"
   },
   {
    "duration": 3,
    "start_time": "2023-03-07T11:36:17.728Z"
   },
   {
    "duration": 50,
    "start_time": "2023-03-07T11:36:17.873Z"
   },
   {
    "duration": 24,
    "start_time": "2023-03-07T11:36:17.956Z"
   },
   {
    "duration": 14,
    "start_time": "2023-03-07T11:36:18.186Z"
   },
   {
    "duration": 32,
    "start_time": "2023-03-07T11:36:18.227Z"
   },
   {
    "duration": 24,
    "start_time": "2023-03-07T11:36:18.487Z"
   },
   {
    "duration": 23,
    "start_time": "2023-03-07T11:36:18.517Z"
   },
   {
    "duration": 10,
    "start_time": "2023-03-07T11:36:18.749Z"
   },
   {
    "duration": 17,
    "start_time": "2023-03-07T11:36:18.951Z"
   },
   {
    "duration": 4,
    "start_time": "2023-03-07T11:36:19.041Z"
   },
   {
    "duration": 11,
    "start_time": "2023-03-07T11:36:19.124Z"
   },
   {
    "duration": 18,
    "start_time": "2023-03-07T11:36:19.210Z"
   },
   {
    "duration": 8,
    "start_time": "2023-03-07T11:36:19.457Z"
   },
   {
    "duration": 8,
    "start_time": "2023-03-07T11:36:19.543Z"
   },
   {
    "duration": 7,
    "start_time": "2023-03-07T11:36:19.626Z"
   },
   {
    "duration": 9,
    "start_time": "2023-03-07T11:36:19.707Z"
   },
   {
    "duration": 15,
    "start_time": "2023-03-07T11:36:19.793Z"
   },
   {
    "duration": 8,
    "start_time": "2023-03-07T11:36:20.070Z"
   },
   {
    "duration": 9,
    "start_time": "2023-03-07T11:36:20.211Z"
   },
   {
    "duration": 7,
    "start_time": "2023-03-07T11:36:20.307Z"
   },
   {
    "duration": 23,
    "start_time": "2023-03-07T11:36:20.379Z"
   },
   {
    "duration": 21,
    "start_time": "2023-03-07T11:36:20.557Z"
   },
   {
    "duration": 30,
    "start_time": "2023-03-07T11:36:20.663Z"
   },
   {
    "duration": 5,
    "start_time": "2023-03-07T11:36:20.923Z"
   },
   {
    "duration": 15,
    "start_time": "2023-03-07T11:36:20.969Z"
   },
   {
    "duration": 3,
    "start_time": "2023-03-07T11:36:21.055Z"
   },
   {
    "duration": 27,
    "start_time": "2023-03-07T11:36:21.138Z"
   },
   {
    "duration": 9,
    "start_time": "2023-03-07T11:36:22.121Z"
   },
   {
    "duration": 214,
    "start_time": "2023-03-07T11:36:22.574Z"
   },
   {
    "duration": 9,
    "start_time": "2023-03-07T11:36:23.835Z"
   },
   {
    "duration": 8,
    "start_time": "2023-03-07T11:36:24.078Z"
   },
   {
    "duration": 328,
    "start_time": "2023-03-07T11:36:24.293Z"
   },
   {
    "duration": 11,
    "start_time": "2023-03-07T11:36:24.623Z"
   },
   {
    "duration": 7,
    "start_time": "2023-03-07T11:36:24.823Z"
   },
   {
    "duration": 7,
    "start_time": "2023-03-07T11:36:25.434Z"
   },
   {
    "duration": 24,
    "start_time": "2023-03-07T11:36:25.761Z"
   },
   {
    "duration": 14,
    "start_time": "2023-03-07T11:36:26.021Z"
   },
   {
    "duration": 14,
    "start_time": "2023-03-07T11:36:26.570Z"
   },
   {
    "duration": 203,
    "start_time": "2023-03-07T11:36:27.131Z"
   },
   {
    "duration": 7,
    "start_time": "2023-03-07T11:36:29.200Z"
   },
   {
    "duration": 18,
    "start_time": "2023-03-07T11:36:29.558Z"
   },
   {
    "duration": 305,
    "start_time": "2023-03-07T11:36:29.949Z"
   },
   {
    "duration": 616,
    "start_time": "2023-03-07T11:36:31.385Z"
   },
   {
    "duration": 26,
    "start_time": "2023-03-07T11:36:32.385Z"
   },
   {
    "duration": 5,
    "start_time": "2023-03-07T11:36:33.215Z"
   },
   {
    "duration": 161,
    "start_time": "2023-03-07T11:36:34.053Z"
   },
   {
    "duration": 6,
    "start_time": "2023-03-07T11:36:34.741Z"
   },
   {
    "duration": 156,
    "start_time": "2023-03-07T11:36:35.313Z"
   },
   {
    "duration": 157,
    "start_time": "2023-03-07T11:36:37.021Z"
   },
   {
    "duration": 575,
    "start_time": "2023-03-07T11:36:38.857Z"
   },
   {
    "duration": 319,
    "start_time": "2023-03-07T11:36:39.435Z"
   },
   {
    "duration": 302,
    "start_time": "2023-03-07T11:36:39.756Z"
   },
   {
    "duration": 280,
    "start_time": "2023-03-07T11:36:40.293Z"
   },
   {
    "duration": 6,
    "start_time": "2023-03-07T11:36:40.714Z"
   },
   {
    "duration": 3,
    "start_time": "2023-03-07T11:36:44.441Z"
   },
   {
    "duration": 214,
    "start_time": "2023-03-07T11:36:46.425Z"
   },
   {
    "duration": 71,
    "start_time": "2023-03-07T11:38:21.523Z"
   },
   {
    "duration": 206,
    "start_time": "2023-03-07T11:38:22.455Z"
   },
   {
    "duration": 3,
    "start_time": "2023-03-07T11:38:35.483Z"
   },
   {
    "duration": 50,
    "start_time": "2023-03-07T11:38:35.645Z"
   },
   {
    "duration": 22,
    "start_time": "2023-03-07T11:38:35.733Z"
   },
   {
    "duration": 17,
    "start_time": "2023-03-07T11:38:35.920Z"
   },
   {
    "duration": 38,
    "start_time": "2023-03-07T11:38:36.117Z"
   },
   {
    "duration": 17,
    "start_time": "2023-03-07T11:38:36.523Z"
   },
   {
    "duration": 16,
    "start_time": "2023-03-07T11:38:36.711Z"
   },
   {
    "duration": 8,
    "start_time": "2023-03-07T11:38:37.095Z"
   },
   {
    "duration": 17,
    "start_time": "2023-03-07T11:38:37.123Z"
   },
   {
    "duration": 4,
    "start_time": "2023-03-07T11:38:37.224Z"
   },
   {
    "duration": 9,
    "start_time": "2023-03-07T11:38:37.249Z"
   },
   {
    "duration": 17,
    "start_time": "2023-03-07T11:38:37.284Z"
   },
   {
    "duration": 7,
    "start_time": "2023-03-07T11:38:37.355Z"
   },
   {
    "duration": 7,
    "start_time": "2023-03-07T11:38:37.395Z"
   },
   {
    "duration": 7,
    "start_time": "2023-03-07T11:38:37.433Z"
   },
   {
    "duration": 9,
    "start_time": "2023-03-07T11:38:37.491Z"
   },
   {
    "duration": 14,
    "start_time": "2023-03-07T11:38:37.585Z"
   },
   {
    "duration": 10,
    "start_time": "2023-03-07T11:38:37.827Z"
   },
   {
    "duration": 8,
    "start_time": "2023-03-07T11:38:37.995Z"
   },
   {
    "duration": 7,
    "start_time": "2023-03-07T11:38:38.085Z"
   },
   {
    "duration": 13,
    "start_time": "2023-03-07T11:38:38.183Z"
   },
   {
    "duration": 12,
    "start_time": "2023-03-07T11:38:38.330Z"
   },
   {
    "duration": 26,
    "start_time": "2023-03-07T11:38:38.412Z"
   },
   {
    "duration": 5,
    "start_time": "2023-03-07T11:38:38.795Z"
   },
   {
    "duration": 24,
    "start_time": "2023-03-07T11:38:38.818Z"
   },
   {
    "duration": 3,
    "start_time": "2023-03-07T11:38:38.855Z"
   },
   {
    "duration": 25,
    "start_time": "2023-03-07T11:38:38.917Z"
   },
   {
    "duration": 10,
    "start_time": "2023-03-07T11:38:39.329Z"
   },
   {
    "duration": 224,
    "start_time": "2023-03-07T11:38:39.354Z"
   },
   {
    "duration": 10,
    "start_time": "2023-03-07T11:38:39.592Z"
   },
   {
    "duration": 7,
    "start_time": "2023-03-07T11:38:39.684Z"
   },
   {
    "duration": 319,
    "start_time": "2023-03-07T11:38:39.753Z"
   },
   {
    "duration": 11,
    "start_time": "2023-03-07T11:38:40.074Z"
   },
   {
    "duration": 7,
    "start_time": "2023-03-07T11:38:40.087Z"
   },
   {
    "duration": 9,
    "start_time": "2023-03-07T11:38:40.151Z"
   },
   {
    "duration": 22,
    "start_time": "2023-03-07T11:38:40.354Z"
   },
   {
    "duration": 15,
    "start_time": "2023-03-07T11:38:40.545Z"
   },
   {
    "duration": 13,
    "start_time": "2023-03-07T11:38:40.737Z"
   },
   {
    "duration": 204,
    "start_time": "2023-03-07T11:38:40.927Z"
   },
   {
    "duration": 7,
    "start_time": "2023-03-07T11:38:42.195Z"
   },
   {
    "duration": 16,
    "start_time": "2023-03-07T11:38:42.427Z"
   },
   {
    "duration": 287,
    "start_time": "2023-03-07T11:38:42.825Z"
   },
   {
    "duration": 284,
    "start_time": "2023-03-07T11:38:44.348Z"
   },
   {
    "duration": 24,
    "start_time": "2023-03-07T11:38:45.188Z"
   },
   {
    "duration": 6,
    "start_time": "2023-03-07T11:38:45.553Z"
   },
   {
    "duration": 132,
    "start_time": "2023-03-07T11:38:45.688Z"
   },
   {
    "duration": 6,
    "start_time": "2023-03-07T11:38:46.209Z"
   },
   {
    "duration": 157,
    "start_time": "2023-03-07T11:38:46.535Z"
   },
   {
    "duration": 175,
    "start_time": "2023-03-07T11:38:47.922Z"
   },
   {
    "duration": 627,
    "start_time": "2023-03-07T11:38:49.520Z"
   },
   {
    "duration": 303,
    "start_time": "2023-03-07T11:38:50.909Z"
   },
   {
    "duration": 293,
    "start_time": "2023-03-07T11:38:51.688Z"
   },
   {
    "duration": 305,
    "start_time": "2023-03-07T11:38:51.993Z"
   },
   {
    "duration": 6,
    "start_time": "2023-03-07T11:38:52.394Z"
   },
   {
    "duration": 2,
    "start_time": "2023-03-07T11:38:53.354Z"
   },
   {
    "duration": 69,
    "start_time": "2023-03-07T11:38:53.898Z"
   },
   {
    "duration": 231,
    "start_time": "2023-03-07T11:38:54.622Z"
   },
   {
    "duration": 6,
    "start_time": "2023-03-07T11:39:25.654Z"
   },
   {
    "duration": 2,
    "start_time": "2023-03-07T11:39:26.405Z"
   },
   {
    "duration": 2,
    "start_time": "2023-03-07T11:39:26.992Z"
   },
   {
    "duration": 221,
    "start_time": "2023-03-07T11:39:27.698Z"
   },
   {
    "duration": 3,
    "start_time": "2023-03-07T11:39:35.702Z"
   },
   {
    "duration": 51,
    "start_time": "2023-03-07T11:39:35.885Z"
   },
   {
    "duration": 22,
    "start_time": "2023-03-07T11:39:35.950Z"
   },
   {
    "duration": 22,
    "start_time": "2023-03-07T11:39:36.316Z"
   },
   {
    "duration": 37,
    "start_time": "2023-03-07T11:39:36.340Z"
   },
   {
    "duration": 16,
    "start_time": "2023-03-07T11:39:36.732Z"
   },
   {
    "duration": 15,
    "start_time": "2023-03-07T11:39:37.088Z"
   },
   {
    "duration": 7,
    "start_time": "2023-03-07T11:39:37.489Z"
   },
   {
    "duration": 20,
    "start_time": "2023-03-07T11:39:37.497Z"
   },
   {
    "duration": 4,
    "start_time": "2023-03-07T11:39:37.583Z"
   },
   {
    "duration": 9,
    "start_time": "2023-03-07T11:39:37.591Z"
   },
   {
    "duration": 18,
    "start_time": "2023-03-07T11:39:37.628Z"
   },
   {
    "duration": 7,
    "start_time": "2023-03-07T11:39:37.688Z"
   },
   {
    "duration": 9,
    "start_time": "2023-03-07T11:39:37.722Z"
   },
   {
    "duration": 8,
    "start_time": "2023-03-07T11:39:37.752Z"
   },
   {
    "duration": 9,
    "start_time": "2023-03-07T11:39:37.786Z"
   },
   {
    "duration": 16,
    "start_time": "2023-03-07T11:39:37.824Z"
   },
   {
    "duration": 9,
    "start_time": "2023-03-07T11:39:38.040Z"
   },
   {
    "duration": 12,
    "start_time": "2023-03-07T11:39:38.208Z"
   },
   {
    "duration": 6,
    "start_time": "2023-03-07T11:39:38.292Z"
   },
   {
    "duration": 15,
    "start_time": "2023-03-07T11:39:38.380Z"
   },
   {
    "duration": 12,
    "start_time": "2023-03-07T11:39:38.553Z"
   },
   {
    "duration": 21,
    "start_time": "2023-03-07T11:39:38.626Z"
   },
   {
    "duration": 7,
    "start_time": "2023-03-07T11:39:39.008Z"
   },
   {
    "duration": 15,
    "start_time": "2023-03-07T11:39:39.032Z"
   },
   {
    "duration": 3,
    "start_time": "2023-03-07T11:39:39.086Z"
   },
   {
    "duration": 26,
    "start_time": "2023-03-07T11:39:39.130Z"
   },
   {
    "duration": 11,
    "start_time": "2023-03-07T11:39:39.490Z"
   },
   {
    "duration": 209,
    "start_time": "2023-03-07T11:39:39.546Z"
   },
   {
    "duration": 10,
    "start_time": "2023-03-07T11:39:39.885Z"
   },
   {
    "duration": 9,
    "start_time": "2023-03-07T11:39:39.948Z"
   },
   {
    "duration": 319,
    "start_time": "2023-03-07T11:39:40.287Z"
   },
   {
    "duration": 15,
    "start_time": "2023-03-07T11:39:40.611Z"
   },
   {
    "duration": 8,
    "start_time": "2023-03-07T11:39:40.783Z"
   },
   {
    "duration": 9,
    "start_time": "2023-03-07T11:39:41.316Z"
   },
   {
    "duration": 23,
    "start_time": "2023-03-07T11:39:41.405Z"
   },
   {
    "duration": 15,
    "start_time": "2023-03-07T11:39:41.597Z"
   },
   {
    "duration": 13,
    "start_time": "2023-03-07T11:39:41.785Z"
   },
   {
    "duration": 204,
    "start_time": "2023-03-07T11:39:42.140Z"
   },
   {
    "duration": 8,
    "start_time": "2023-03-07T11:39:42.897Z"
   },
   {
    "duration": 13,
    "start_time": "2023-03-07T11:39:43.386Z"
   },
   {
    "duration": 307,
    "start_time": "2023-03-07T11:39:43.610Z"
   },
   {
    "duration": 299,
    "start_time": "2023-03-07T11:39:44.394Z"
   },
   {
    "duration": 25,
    "start_time": "2023-03-07T11:39:45.439Z"
   },
   {
    "duration": 5,
    "start_time": "2023-03-07T11:39:45.797Z"
   },
   {
    "duration": 122,
    "start_time": "2023-03-07T11:39:46.082Z"
   },
   {
    "duration": 8,
    "start_time": "2023-03-07T11:39:46.398Z"
   },
   {
    "duration": 148,
    "start_time": "2023-03-07T11:39:46.830Z"
   },
   {
    "duration": 607,
    "start_time": "2023-03-07T11:39:47.984Z"
   },
   {
    "duration": 619,
    "start_time": "2023-03-07T11:39:49.385Z"
   },
   {
    "duration": 302,
    "start_time": "2023-03-07T11:39:50.012Z"
   },
   {
    "duration": 306,
    "start_time": "2023-03-07T11:39:50.316Z"
   },
   {
    "duration": 290,
    "start_time": "2023-03-07T11:39:51.012Z"
   },
   {
    "duration": 5,
    "start_time": "2023-03-07T11:39:51.494Z"
   },
   {
    "duration": 3,
    "start_time": "2023-03-07T11:39:52.498Z"
   },
   {
    "duration": 2,
    "start_time": "2023-03-07T11:39:53.482Z"
   },
   {
    "duration": 248,
    "start_time": "2023-03-07T11:39:54.212Z"
   },
   {
    "duration": 63,
    "start_time": "2023-03-07T11:40:04.922Z"
   },
   {
    "duration": 224,
    "start_time": "2023-03-07T11:40:06.980Z"
   },
   {
    "duration": 10,
    "start_time": "2023-03-07T11:41:14.776Z"
   },
   {
    "duration": 205,
    "start_time": "2023-03-07T11:41:15.481Z"
   },
   {
    "duration": 3,
    "start_time": "2023-03-07T11:41:22.010Z"
   },
   {
    "duration": 63,
    "start_time": "2023-03-07T11:41:22.178Z"
   },
   {
    "duration": 22,
    "start_time": "2023-03-07T11:41:22.272Z"
   },
   {
    "duration": 14,
    "start_time": "2023-03-07T11:41:22.632Z"
   },
   {
    "duration": 30,
    "start_time": "2023-03-07T11:41:22.674Z"
   },
   {
    "duration": 15,
    "start_time": "2023-03-07T11:41:23.022Z"
   },
   {
    "duration": 15,
    "start_time": "2023-03-07T11:41:23.381Z"
   },
   {
    "duration": 7,
    "start_time": "2023-03-07T11:41:23.752Z"
   },
   {
    "duration": 16,
    "start_time": "2023-03-07T11:41:23.788Z"
   },
   {
    "duration": 4,
    "start_time": "2023-03-07T11:41:23.880Z"
   },
   {
    "duration": 9,
    "start_time": "2023-03-07T11:41:23.912Z"
   },
   {
    "duration": 15,
    "start_time": "2023-03-07T11:41:23.946Z"
   },
   {
    "duration": 7,
    "start_time": "2023-03-07T11:41:24.018Z"
   },
   {
    "duration": 7,
    "start_time": "2023-03-07T11:41:24.054Z"
   },
   {
    "duration": 7,
    "start_time": "2023-03-07T11:41:24.096Z"
   },
   {
    "duration": 9,
    "start_time": "2023-03-07T11:41:24.117Z"
   },
   {
    "duration": 18,
    "start_time": "2023-03-07T11:41:24.153Z"
   },
   {
    "duration": 10,
    "start_time": "2023-03-07T11:41:24.377Z"
   },
   {
    "duration": 8,
    "start_time": "2023-03-07T11:41:24.524Z"
   },
   {
    "duration": 6,
    "start_time": "2023-03-07T11:41:24.610Z"
   },
   {
    "duration": 14,
    "start_time": "2023-03-07T11:41:24.693Z"
   },
   {
    "duration": 12,
    "start_time": "2023-03-07T11:41:24.881Z"
   },
   {
    "duration": 20,
    "start_time": "2023-03-07T11:41:24.944Z"
   },
   {
    "duration": 5,
    "start_time": "2023-03-07T11:41:25.326Z"
   },
   {
    "duration": 15,
    "start_time": "2023-03-07T11:41:25.350Z"
   },
   {
    "duration": 3,
    "start_time": "2023-03-07T11:41:25.388Z"
   },
   {
    "duration": 23,
    "start_time": "2023-03-07T11:41:25.446Z"
   },
   {
    "duration": 9,
    "start_time": "2023-03-07T11:41:25.808Z"
   },
   {
    "duration": 201,
    "start_time": "2023-03-07T11:41:25.879Z"
   },
   {
    "duration": 8,
    "start_time": "2023-03-07T11:41:26.122Z"
   },
   {
    "duration": 10,
    "start_time": "2023-03-07T11:41:26.202Z"
   },
   {
    "duration": 307,
    "start_time": "2023-03-07T11:41:26.285Z"
   },
   {
    "duration": 20,
    "start_time": "2023-03-07T11:41:26.595Z"
   },
   {
    "duration": 8,
    "start_time": "2023-03-07T11:41:26.617Z"
   },
   {
    "duration": 10,
    "start_time": "2023-03-07T11:41:26.692Z"
   },
   {
    "duration": 33,
    "start_time": "2023-03-07T11:41:26.887Z"
   },
   {
    "duration": 13,
    "start_time": "2023-03-07T11:41:27.082Z"
   },
   {
    "duration": 15,
    "start_time": "2023-03-07T11:41:27.280Z"
   },
   {
    "duration": 231,
    "start_time": "2023-03-07T11:41:27.476Z"
   },
   {
    "duration": 8,
    "start_time": "2023-03-07T11:41:27.774Z"
   },
   {
    "duration": 16,
    "start_time": "2023-03-07T11:41:27.798Z"
   },
   {
    "duration": 295,
    "start_time": "2023-03-07T11:41:27.836Z"
   },
   {
    "duration": 275,
    "start_time": "2023-03-07T11:41:28.134Z"
   },
   {
    "duration": 25,
    "start_time": "2023-03-07T11:41:28.412Z"
   },
   {
    "duration": 7,
    "start_time": "2023-03-07T11:41:30.532Z"
   },
   {
    "duration": 123,
    "start_time": "2023-03-07T11:41:31.040Z"
   },
   {
    "duration": 6,
    "start_time": "2023-03-07T11:41:31.165Z"
   },
   {
    "duration": 144,
    "start_time": "2023-03-07T11:41:31.201Z"
   },
   {
    "duration": 181,
    "start_time": "2023-03-07T11:41:31.452Z"
   },
   {
    "duration": 606,
    "start_time": "2023-03-07T11:41:31.710Z"
   },
   {
    "duration": 293,
    "start_time": "2023-03-07T11:41:32.319Z"
   },
   {
    "duration": 293,
    "start_time": "2023-03-07T11:41:32.614Z"
   },
   {
    "duration": 287,
    "start_time": "2023-03-07T11:41:32.912Z"
   },
   {
    "duration": 7,
    "start_time": "2023-03-07T11:41:34.252Z"
   },
   {
    "duration": 3,
    "start_time": "2023-03-07T11:41:34.754Z"
   },
   {
    "duration": 3,
    "start_time": "2023-03-07T11:41:34.832Z"
   },
   {
    "duration": 9,
    "start_time": "2023-03-07T11:41:34.917Z"
   },
   {
    "duration": 208,
    "start_time": "2023-03-07T11:41:35.000Z"
   },
   {
    "duration": 395,
    "start_time": "2023-03-07T11:42:44.996Z"
   },
   {
    "duration": 2,
    "start_time": "2023-03-07T11:42:52.850Z"
   },
   {
    "duration": 241,
    "start_time": "2023-03-07T11:42:54.071Z"
   },
   {
    "duration": 20,
    "start_time": "2023-03-07T11:44:22.414Z"
   },
   {
    "duration": 13,
    "start_time": "2023-03-07T11:44:42.615Z"
   },
   {
    "duration": 17,
    "start_time": "2023-03-07T11:44:47.190Z"
   },
   {
    "duration": 230,
    "start_time": "2023-03-07T11:44:47.700Z"
   },
   {
    "duration": 291,
    "start_time": "2023-03-07T11:48:27.980Z"
   },
   {
    "duration": 294,
    "start_time": "2023-03-07T11:57:25.951Z"
   },
   {
    "duration": 302,
    "start_time": "2023-03-07T11:57:43.476Z"
   },
   {
    "duration": 283,
    "start_time": "2023-03-07T11:57:54.276Z"
   },
   {
    "duration": 276,
    "start_time": "2023-03-07T11:57:54.638Z"
   },
   {
    "duration": 298,
    "start_time": "2023-03-07T11:57:54.924Z"
   },
   {
    "duration": 6,
    "start_time": "2023-03-07T11:57:55.224Z"
   },
   {
    "duration": 329,
    "start_time": "2023-03-07T11:57:55.288Z"
   },
   {
    "duration": 8,
    "start_time": "2023-03-07T12:08:00.238Z"
   },
   {
    "duration": 6,
    "start_time": "2023-03-07T12:08:49.663Z"
   },
   {
    "duration": 9,
    "start_time": "2023-03-07T12:10:08.399Z"
   },
   {
    "duration": 9,
    "start_time": "2023-03-07T12:10:10.316Z"
   },
   {
    "duration": 7,
    "start_time": "2023-03-07T12:10:56.815Z"
   },
   {
    "duration": 6,
    "start_time": "2023-03-07T12:10:57.876Z"
   },
   {
    "duration": 10,
    "start_time": "2023-03-07T12:11:09.135Z"
   },
   {
    "duration": 8,
    "start_time": "2023-03-07T12:11:17.140Z"
   },
   {
    "duration": 8,
    "start_time": "2023-03-07T12:11:17.655Z"
   },
   {
    "duration": 450,
    "start_time": "2023-03-07T12:11:40.294Z"
   },
   {
    "duration": 4,
    "start_time": "2023-03-07T12:11:50.333Z"
   },
   {
    "duration": 4,
    "start_time": "2023-03-07T12:11:51.248Z"
   },
   {
    "duration": 3,
    "start_time": "2023-03-07T12:13:02.198Z"
   },
   {
    "duration": 3,
    "start_time": "2023-03-07T12:13:03.089Z"
   },
   {
    "duration": 1031,
    "start_time": "2023-03-07T12:20:49.169Z"
   },
   {
    "duration": 12,
    "start_time": "2023-03-07T12:22:09.014Z"
   },
   {
    "duration": 3,
    "start_time": "2023-03-07T12:22:30.133Z"
   },
   {
    "duration": 5,
    "start_time": "2023-03-07T12:22:48.197Z"
   },
   {
    "duration": 10,
    "start_time": "2023-03-07T12:26:22.314Z"
   },
   {
    "duration": 13,
    "start_time": "2023-03-07T12:26:39.974Z"
   },
   {
    "duration": 6,
    "start_time": "2023-03-07T12:28:13.376Z"
   },
   {
    "duration": 6,
    "start_time": "2023-03-07T12:28:20.042Z"
   },
   {
    "duration": 5,
    "start_time": "2023-03-07T12:28:22.097Z"
   },
   {
    "duration": 4,
    "start_time": "2023-03-07T12:29:05.511Z"
   },
   {
    "duration": 14,
    "start_time": "2023-03-07T12:29:28.277Z"
   },
   {
    "duration": 14,
    "start_time": "2023-03-07T12:29:49.518Z"
   },
   {
    "duration": 5,
    "start_time": "2023-03-07T12:30:22.203Z"
   },
   {
    "duration": 5,
    "start_time": "2023-03-07T12:30:22.707Z"
   },
   {
    "duration": 4,
    "start_time": "2023-03-07T12:30:23.198Z"
   },
   {
    "duration": 4,
    "start_time": "2023-03-07T12:30:24.054Z"
   },
   {
    "duration": 3,
    "start_time": "2023-03-07T12:30:26.217Z"
   },
   {
    "duration": 5,
    "start_time": "2023-03-07T12:30:30.421Z"
   },
   {
    "duration": 6,
    "start_time": "2023-03-07T12:30:30.712Z"
   },
   {
    "duration": 4,
    "start_time": "2023-03-07T12:30:30.937Z"
   },
   {
    "duration": 4,
    "start_time": "2023-03-07T12:30:31.377Z"
   },
   {
    "duration": 4,
    "start_time": "2023-03-07T12:30:31.725Z"
   },
   {
    "duration": 5,
    "start_time": "2023-03-07T12:31:14.029Z"
   },
   {
    "duration": 3,
    "start_time": "2023-03-07T12:31:22.499Z"
   },
   {
    "duration": 5,
    "start_time": "2023-03-07T12:46:39.970Z"
   },
   {
    "duration": 4,
    "start_time": "2023-03-07T12:46:45.043Z"
   },
   {
    "duration": 51,
    "start_time": "2023-03-07T12:46:45.205Z"
   },
   {
    "duration": 22,
    "start_time": "2023-03-07T12:46:45.296Z"
   },
   {
    "duration": 15,
    "start_time": "2023-03-07T12:46:45.516Z"
   },
   {
    "duration": 29,
    "start_time": "2023-03-07T12:46:45.749Z"
   },
   {
    "duration": 16,
    "start_time": "2023-03-07T12:46:46.195Z"
   },
   {
    "duration": 16,
    "start_time": "2023-03-07T12:46:46.411Z"
   },
   {
    "duration": 8,
    "start_time": "2023-03-07T12:46:46.847Z"
   },
   {
    "duration": 16,
    "start_time": "2023-03-07T12:46:46.890Z"
   },
   {
    "duration": 4,
    "start_time": "2023-03-07T12:46:48.947Z"
   },
   {
    "duration": 15,
    "start_time": "2023-03-07T12:46:49.566Z"
   },
   {
    "duration": 17,
    "start_time": "2023-03-07T12:46:50.023Z"
   },
   {
    "duration": 8,
    "start_time": "2023-03-07T12:46:54.396Z"
   },
   {
    "duration": 7,
    "start_time": "2023-03-07T12:46:54.590Z"
   },
   {
    "duration": 9,
    "start_time": "2023-03-07T12:46:54.737Z"
   },
   {
    "duration": 5,
    "start_time": "2023-03-07T12:46:55.432Z"
   },
   {
    "duration": 8,
    "start_time": "2023-03-07T12:47:34.304Z"
   },
   {
    "duration": 394,
    "start_time": "2023-03-07T12:48:43.270Z"
   },
   {
    "duration": 3,
    "start_time": "2023-03-07T12:48:48.070Z"
   },
   {
    "duration": 55,
    "start_time": "2023-03-07T12:48:48.226Z"
   },
   {
    "duration": 25,
    "start_time": "2023-03-07T12:48:48.311Z"
   },
   {
    "duration": 16,
    "start_time": "2023-03-07T12:48:48.530Z"
   },
   {
    "duration": 32,
    "start_time": "2023-03-07T12:48:48.751Z"
   },
   {
    "duration": 18,
    "start_time": "2023-03-07T12:48:49.198Z"
   },
   {
    "duration": 16,
    "start_time": "2023-03-07T12:48:49.412Z"
   },
   {
    "duration": 7,
    "start_time": "2023-03-07T12:48:49.850Z"
   },
   {
    "duration": 23,
    "start_time": "2023-03-07T12:48:49.874Z"
   },
   {
    "duration": 3,
    "start_time": "2023-03-07T12:48:49.978Z"
   },
   {
    "duration": 15,
    "start_time": "2023-03-07T12:48:50.598Z"
   },
   {
    "duration": 26,
    "start_time": "2023-03-07T12:48:51.052Z"
   },
   {
    "duration": 8,
    "start_time": "2023-03-07T12:48:52.532Z"
   },
   {
    "duration": 6,
    "start_time": "2023-03-07T12:48:53.033Z"
   },
   {
    "duration": 9,
    "start_time": "2023-03-07T12:48:53.272Z"
   },
   {
    "duration": 7,
    "start_time": "2023-03-07T12:48:53.904Z"
   },
   {
    "duration": 9,
    "start_time": "2023-03-07T12:48:54.838Z"
   },
   {
    "duration": 429,
    "start_time": "2023-03-07T12:48:57.788Z"
   },
   {
    "duration": 10,
    "start_time": "2023-03-07T12:48:59.873Z"
   },
   {
    "duration": 414,
    "start_time": "2023-03-07T12:49:04.171Z"
   },
   {
    "duration": 9,
    "start_time": "2023-03-07T12:49:04.907Z"
   },
   {
    "duration": 8,
    "start_time": "2023-03-07T12:49:09.240Z"
   },
   {
    "duration": 340,
    "start_time": "2023-03-07T12:49:10.110Z"
   },
   {
    "duration": 9,
    "start_time": "2023-03-07T12:49:11.361Z"
   },
   {
    "duration": 4,
    "start_time": "2023-03-07T12:49:16.132Z"
   },
   {
    "duration": 10,
    "start_time": "2023-03-07T12:49:16.320Z"
   },
   {
    "duration": 15,
    "start_time": "2023-03-07T12:49:16.497Z"
   },
   {
    "duration": 11,
    "start_time": "2023-03-07T12:49:17.281Z"
   },
   {
    "duration": 10,
    "start_time": "2023-03-07T12:49:17.650Z"
   },
   {
    "duration": 9,
    "start_time": "2023-03-07T12:49:18.044Z"
   },
   {
    "duration": 7,
    "start_time": "2023-03-07T12:49:22.839Z"
   },
   {
    "duration": 8,
    "start_time": "2023-03-07T12:49:23.932Z"
   },
   {
    "duration": 3,
    "start_time": "2023-03-07T12:49:51.172Z"
   },
   {
    "duration": 51,
    "start_time": "2023-03-07T12:49:51.524Z"
   },
   {
    "duration": 23,
    "start_time": "2023-03-07T12:49:51.720Z"
   },
   {
    "duration": 18,
    "start_time": "2023-03-07T12:49:51.988Z"
   },
   {
    "duration": 40,
    "start_time": "2023-03-07T12:49:52.613Z"
   },
   {
    "duration": 16,
    "start_time": "2023-03-07T12:49:53.653Z"
   },
   {
    "duration": 15,
    "start_time": "2023-03-07T12:49:53.974Z"
   },
   {
    "duration": 7,
    "start_time": "2023-03-07T12:49:54.856Z"
   },
   {
    "duration": 15,
    "start_time": "2023-03-07T12:49:55.300Z"
   },
   {
    "duration": 4,
    "start_time": "2023-03-07T12:49:57.024Z"
   },
   {
    "duration": 9,
    "start_time": "2023-03-07T12:49:57.634Z"
   },
   {
    "duration": 18,
    "start_time": "2023-03-07T12:49:58.276Z"
   },
   {
    "duration": 9,
    "start_time": "2023-03-07T12:49:59.356Z"
   },
   {
    "duration": 7,
    "start_time": "2023-03-07T12:49:59.637Z"
   },
   {
    "duration": 10,
    "start_time": "2023-03-07T12:49:59.944Z"
   },
   {
    "duration": 6,
    "start_time": "2023-03-07T12:50:01.311Z"
   },
   {
    "duration": 7,
    "start_time": "2023-03-07T12:50:02.506Z"
   },
   {
    "duration": 395,
    "start_time": "2023-03-07T12:50:03.624Z"
   },
   {
    "duration": 10,
    "start_time": "2023-03-07T12:50:04.517Z"
   },
   {
    "duration": 6,
    "start_time": "2023-03-07T12:50:35.995Z"
   },
   {
    "duration": 335,
    "start_time": "2023-03-07T12:50:47.745Z"
   },
   {
    "duration": 9,
    "start_time": "2023-03-07T12:50:49.403Z"
   },
   {
    "duration": 6,
    "start_time": "2023-03-07T12:50:53.841Z"
   },
   {
    "duration": 3,
    "start_time": "2023-03-07T12:51:00.532Z"
   },
   {
    "duration": 51,
    "start_time": "2023-03-07T12:51:00.695Z"
   },
   {
    "duration": 22,
    "start_time": "2023-03-07T12:51:00.778Z"
   },
   {
    "duration": 14,
    "start_time": "2023-03-07T12:51:01.206Z"
   },
   {
    "duration": 31,
    "start_time": "2023-03-07T12:51:01.234Z"
   },
   {
    "duration": 16,
    "start_time": "2023-03-07T12:51:01.659Z"
   },
   {
    "duration": 16,
    "start_time": "2023-03-07T12:51:02.074Z"
   },
   {
    "duration": 7,
    "start_time": "2023-03-07T12:51:02.502Z"
   },
   {
    "duration": 16,
    "start_time": "2023-03-07T12:51:02.542Z"
   },
   {
    "duration": 3,
    "start_time": "2023-03-07T12:51:03.620Z"
   },
   {
    "duration": 9,
    "start_time": "2023-03-07T12:51:03.806Z"
   },
   {
    "duration": 20,
    "start_time": "2023-03-07T12:51:04.438Z"
   },
   {
    "duration": 7,
    "start_time": "2023-03-07T12:51:05.824Z"
   },
   {
    "duration": 8,
    "start_time": "2023-03-07T12:51:06.209Z"
   },
   {
    "duration": 7,
    "start_time": "2023-03-07T12:51:06.614Z"
   },
   {
    "duration": 5,
    "start_time": "2023-03-07T12:51:07.500Z"
   },
   {
    "duration": 8,
    "start_time": "2023-03-07T12:51:11.630Z"
   },
   {
    "duration": 5,
    "start_time": "2023-03-07T12:51:16.525Z"
   },
   {
    "duration": 406,
    "start_time": "2023-03-07T12:51:28.692Z"
   },
   {
    "duration": 9,
    "start_time": "2023-03-07T12:51:31.250Z"
   },
   {
    "duration": 5,
    "start_time": "2023-03-07T12:51:54.284Z"
   },
   {
    "duration": 8,
    "start_time": "2023-03-07T12:52:01.229Z"
   },
   {
    "duration": 5,
    "start_time": "2023-03-07T12:52:01.953Z"
   },
   {
    "duration": 326,
    "start_time": "2023-03-07T12:52:03.040Z"
   },
   {
    "duration": 9,
    "start_time": "2023-03-07T12:52:03.644Z"
   },
   {
    "duration": 3,
    "start_time": "2023-03-07T12:54:26.545Z"
   },
   {
    "duration": 50,
    "start_time": "2023-03-07T12:54:26.704Z"
   },
   {
    "duration": 22,
    "start_time": "2023-03-07T12:54:26.796Z"
   },
   {
    "duration": 13,
    "start_time": "2023-03-07T12:54:27.015Z"
   },
   {
    "duration": 29,
    "start_time": "2023-03-07T12:54:27.247Z"
   },
   {
    "duration": 16,
    "start_time": "2023-03-07T12:54:27.723Z"
   },
   {
    "duration": 15,
    "start_time": "2023-03-07T12:54:27.965Z"
   },
   {
    "duration": 6,
    "start_time": "2023-03-07T12:54:28.420Z"
   },
   {
    "duration": 14,
    "start_time": "2023-03-07T12:54:28.446Z"
   },
   {
    "duration": 4,
    "start_time": "2023-03-07T12:54:28.577Z"
   },
   {
    "duration": 9,
    "start_time": "2023-03-07T12:54:28.609Z"
   },
   {
    "duration": 15,
    "start_time": "2023-03-07T12:54:28.645Z"
   },
   {
    "duration": 8,
    "start_time": "2023-03-07T12:54:28.737Z"
   },
   {
    "duration": 7,
    "start_time": "2023-03-07T12:54:28.775Z"
   },
   {
    "duration": 8,
    "start_time": "2023-03-07T12:54:28.817Z"
   },
   {
    "duration": 5,
    "start_time": "2023-03-07T12:54:28.895Z"
   },
   {
    "duration": 7,
    "start_time": "2023-03-07T12:54:28.920Z"
   },
   {
    "duration": 5,
    "start_time": "2023-03-07T12:54:28.951Z"
   },
   {
    "duration": 399,
    "start_time": "2023-03-07T12:54:29.033Z"
   },
   {
    "duration": 10,
    "start_time": "2023-03-07T12:54:29.434Z"
   },
   {
    "duration": 13,
    "start_time": "2023-03-07T12:54:29.446Z"
   },
   {
    "duration": 7,
    "start_time": "2023-03-07T12:54:29.462Z"
   },
   {
    "duration": 10,
    "start_time": "2023-03-07T12:54:29.548Z"
   },
   {
    "duration": 5,
    "start_time": "2023-03-07T12:54:29.640Z"
   },
   {
    "duration": 14,
    "start_time": "2023-03-07T12:54:29.722Z"
   },
   {
    "duration": 11,
    "start_time": "2023-03-07T12:54:29.895Z"
   },
   {
    "duration": 18,
    "start_time": "2023-03-07T12:54:29.979Z"
   },
   {
    "duration": 5,
    "start_time": "2023-03-07T12:54:30.303Z"
   },
   {
    "duration": 26,
    "start_time": "2023-03-07T12:54:30.331Z"
   },
   {
    "duration": 3,
    "start_time": "2023-03-07T12:54:30.387Z"
   },
   {
    "duration": 25,
    "start_time": "2023-03-07T12:54:30.478Z"
   },
   {
    "duration": 9,
    "start_time": "2023-03-07T12:54:30.825Z"
   },
   {
    "duration": 207,
    "start_time": "2023-03-07T12:54:30.896Z"
   },
   {
    "duration": 9,
    "start_time": "2023-03-07T12:54:31.152Z"
   },
   {
    "duration": 10,
    "start_time": "2023-03-07T12:54:31.230Z"
   },
   {
    "duration": 784,
    "start_time": "2023-03-07T12:54:31.319Z"
   },
   {
    "duration": 15,
    "start_time": "2023-03-07T12:54:32.105Z"
   },
   {
    "duration": 7,
    "start_time": "2023-03-07T12:54:32.122Z"
   },
   {
    "duration": 7,
    "start_time": "2023-03-07T12:54:32.131Z"
   },
   {
    "duration": 34,
    "start_time": "2023-03-07T12:54:32.140Z"
   },
   {
    "duration": 21,
    "start_time": "2023-03-07T12:54:32.176Z"
   },
   {
    "duration": 25,
    "start_time": "2023-03-07T12:54:32.199Z"
   },
   {
    "duration": 202,
    "start_time": "2023-03-07T12:54:32.226Z"
   },
   {
    "duration": 6,
    "start_time": "2023-03-07T12:54:32.797Z"
   },
   {
    "duration": 13,
    "start_time": "2023-03-07T12:54:32.824Z"
   },
   {
    "duration": 282,
    "start_time": "2023-03-07T12:54:32.865Z"
   },
   {
    "duration": 278,
    "start_time": "2023-03-07T12:54:33.149Z"
   },
   {
    "duration": 28,
    "start_time": "2023-03-07T12:54:33.429Z"
   },
   {
    "duration": 6,
    "start_time": "2023-03-07T12:54:33.460Z"
   },
   {
    "duration": 163,
    "start_time": "2023-03-07T12:54:33.468Z"
   },
   {
    "duration": 6,
    "start_time": "2023-03-07T12:54:33.633Z"
   },
   {
    "duration": 163,
    "start_time": "2023-03-07T12:54:33.642Z"
   },
   {
    "duration": 173,
    "start_time": "2023-03-07T12:54:33.813Z"
   },
   {
    "duration": 658,
    "start_time": "2023-03-07T12:54:33.988Z"
   },
   {
    "duration": 250,
    "start_time": "2023-03-07T12:54:34.648Z"
   },
   {
    "duration": 265,
    "start_time": "2023-03-07T12:54:34.900Z"
   },
   {
    "duration": 272,
    "start_time": "2023-03-07T12:54:35.167Z"
   },
   {
    "duration": 5,
    "start_time": "2023-03-07T12:54:35.441Z"
   },
   {
    "duration": 3,
    "start_time": "2023-03-07T12:54:35.783Z"
   },
   {
    "duration": 3,
    "start_time": "2023-03-07T12:54:36.229Z"
   },
   {
    "duration": 18,
    "start_time": "2023-03-07T12:54:36.488Z"
   },
   {
    "duration": 190,
    "start_time": "2023-03-07T12:54:36.762Z"
   },
   {
    "duration": 5,
    "start_time": "2023-03-07T12:54:38.495Z"
   },
   {
    "duration": 5,
    "start_time": "2023-03-07T12:54:38.671Z"
   },
   {
    "duration": 4,
    "start_time": "2023-03-07T12:54:38.894Z"
   },
   {
    "duration": 4,
    "start_time": "2023-03-07T12:54:39.303Z"
   },
   {
    "duration": 3,
    "start_time": "2023-03-07T12:54:39.744Z"
   },
   {
    "duration": 6,
    "start_time": "2023-03-07T12:54:55.357Z"
   },
   {
    "duration": 4,
    "start_time": "2023-03-07T12:55:09.605Z"
   },
   {
    "duration": 53,
    "start_time": "2023-03-07T12:55:09.781Z"
   },
   {
    "duration": 24,
    "start_time": "2023-03-07T12:55:09.853Z"
   },
   {
    "duration": 15,
    "start_time": "2023-03-07T12:55:10.101Z"
   },
   {
    "duration": 34,
    "start_time": "2023-03-07T12:55:10.307Z"
   },
   {
    "duration": 16,
    "start_time": "2023-03-07T12:55:10.720Z"
   },
   {
    "duration": 16,
    "start_time": "2023-03-07T12:55:10.942Z"
   },
   {
    "duration": 7,
    "start_time": "2023-03-07T12:55:11.396Z"
   },
   {
    "duration": 17,
    "start_time": "2023-03-07T12:55:11.461Z"
   },
   {
    "duration": 3,
    "start_time": "2023-03-07T12:55:13.846Z"
   },
   {
    "duration": 18,
    "start_time": "2023-03-07T12:55:14.300Z"
   },
   {
    "duration": 16,
    "start_time": "2023-03-07T12:55:14.518Z"
   },
   {
    "duration": 7,
    "start_time": "2023-03-07T12:55:16.103Z"
   },
   {
    "duration": 7,
    "start_time": "2023-03-07T12:55:16.299Z"
   },
   {
    "duration": 7,
    "start_time": "2023-03-07T12:55:16.860Z"
   },
   {
    "duration": 6,
    "start_time": "2023-03-07T12:55:17.724Z"
   },
   {
    "duration": 7,
    "start_time": "2023-03-07T12:55:18.528Z"
   },
   {
    "duration": 6,
    "start_time": "2023-03-07T12:55:21.759Z"
   },
   {
    "duration": 394,
    "start_time": "2023-03-07T12:55:24.834Z"
   },
   {
    "duration": 9,
    "start_time": "2023-03-07T12:55:26.719Z"
   },
   {
    "duration": 3,
    "start_time": "2023-03-07T12:55:43.409Z"
   },
   {
    "duration": 61,
    "start_time": "2023-03-07T12:55:44.004Z"
   },
   {
    "duration": 30,
    "start_time": "2023-03-07T12:55:44.207Z"
   },
   {
    "duration": 14,
    "start_time": "2023-03-07T12:55:44.624Z"
   },
   {
    "duration": 30,
    "start_time": "2023-03-07T12:55:44.660Z"
   },
   {
    "duration": 16,
    "start_time": "2023-03-07T12:55:45.455Z"
   },
   {
    "duration": 16,
    "start_time": "2023-03-07T12:55:45.896Z"
   },
   {
    "duration": 7,
    "start_time": "2023-03-07T12:55:51.043Z"
   },
   {
    "duration": 19,
    "start_time": "2023-03-07T12:55:51.052Z"
   },
   {
    "duration": 4,
    "start_time": "2023-03-07T12:55:56.795Z"
   },
   {
    "duration": 10,
    "start_time": "2023-03-07T12:55:57.023Z"
   },
   {
    "duration": 17,
    "start_time": "2023-03-07T12:55:57.410Z"
   },
   {
    "duration": 9,
    "start_time": "2023-03-07T12:56:00.149Z"
   },
   {
    "duration": 8,
    "start_time": "2023-03-07T12:56:01.135Z"
   },
   {
    "duration": 8,
    "start_time": "2023-03-07T12:56:01.603Z"
   },
   {
    "duration": 5,
    "start_time": "2023-03-07T12:56:02.879Z"
   },
   {
    "duration": 6,
    "start_time": "2023-03-07T12:56:04.398Z"
   },
   {
    "duration": 6,
    "start_time": "2023-03-07T12:56:06.901Z"
   },
   {
    "duration": 413,
    "start_time": "2023-03-07T12:56:13.461Z"
   },
   {
    "duration": 12,
    "start_time": "2023-03-07T12:56:14.135Z"
   },
   {
    "duration": 14,
    "start_time": "2023-03-07T12:56:17.095Z"
   },
   {
    "duration": 8,
    "start_time": "2023-03-07T12:56:17.769Z"
   },
   {
    "duration": 8,
    "start_time": "2023-03-07T12:56:17.933Z"
   },
   {
    "duration": 7,
    "start_time": "2023-03-07T12:56:18.015Z"
   },
   {
    "duration": 15,
    "start_time": "2023-03-07T12:56:18.095Z"
   },
   {
    "duration": 14,
    "start_time": "2023-03-07T12:56:18.265Z"
   },
   {
    "duration": 21,
    "start_time": "2023-03-07T12:56:18.347Z"
   },
   {
    "duration": 6,
    "start_time": "2023-03-07T12:56:18.764Z"
   },
   {
    "duration": 15,
    "start_time": "2023-03-07T12:56:18.786Z"
   },
   {
    "duration": 3,
    "start_time": "2023-03-07T12:56:18.825Z"
   },
   {
    "duration": 24,
    "start_time": "2023-03-07T12:56:18.865Z"
   },
   {
    "duration": 9,
    "start_time": "2023-03-07T12:56:19.342Z"
   },
   {
    "duration": 210,
    "start_time": "2023-03-07T12:56:19.371Z"
   },
   {
    "duration": 10,
    "start_time": "2023-03-07T12:56:19.583Z"
   },
   {
    "duration": 10,
    "start_time": "2023-03-07T12:56:19.611Z"
   },
   {
    "duration": 292,
    "start_time": "2023-03-07T12:56:19.694Z"
   },
   {
    "duration": 12,
    "start_time": "2023-03-07T12:56:19.988Z"
   },
   {
    "duration": 23,
    "start_time": "2023-03-07T12:56:20.001Z"
   },
   {
    "duration": 8,
    "start_time": "2023-03-07T12:56:20.319Z"
   },
   {
    "duration": 23,
    "start_time": "2023-03-07T12:56:20.338Z"
   },
   {
    "duration": 14,
    "start_time": "2023-03-07T12:56:20.769Z"
   },
   {
    "duration": 24,
    "start_time": "2023-03-07T12:56:20.799Z"
   },
   {
    "duration": 192,
    "start_time": "2023-03-07T12:56:21.030Z"
   },
   {
    "duration": 7,
    "start_time": "2023-03-07T12:56:21.365Z"
   },
   {
    "duration": 14,
    "start_time": "2023-03-07T12:56:21.401Z"
   },
   {
    "duration": 291,
    "start_time": "2023-03-07T12:56:21.431Z"
   },
   {
    "duration": 297,
    "start_time": "2023-03-07T12:56:21.724Z"
   },
   {
    "duration": 27,
    "start_time": "2023-03-07T12:56:22.023Z"
   },
   {
    "duration": 20,
    "start_time": "2023-03-07T12:56:22.052Z"
   },
   {
    "duration": 127,
    "start_time": "2023-03-07T12:56:22.074Z"
   },
   {
    "duration": 5,
    "start_time": "2023-03-07T12:56:22.212Z"
   },
   {
    "duration": 155,
    "start_time": "2023-03-07T12:56:22.219Z"
   },
   {
    "duration": 175,
    "start_time": "2023-03-07T12:56:23.005Z"
   },
   {
    "duration": 725,
    "start_time": "2023-03-07T12:56:23.699Z"
   },
   {
    "duration": 276,
    "start_time": "2023-03-07T12:56:24.426Z"
   },
   {
    "duration": 270,
    "start_time": "2023-03-07T12:56:24.712Z"
   },
   {
    "duration": 274,
    "start_time": "2023-03-07T12:56:24.984Z"
   },
   {
    "duration": 6,
    "start_time": "2023-03-07T12:56:25.260Z"
   },
   {
    "duration": 3,
    "start_time": "2023-03-07T12:56:25.874Z"
   },
   {
    "duration": 2,
    "start_time": "2023-03-07T12:56:30.325Z"
   },
   {
    "duration": 19,
    "start_time": "2023-03-07T12:56:30.822Z"
   },
   {
    "duration": 193,
    "start_time": "2023-03-07T12:56:31.915Z"
   },
   {
    "duration": 5,
    "start_time": "2023-03-07T13:01:26.028Z"
   },
   {
    "duration": 5,
    "start_time": "2023-03-07T13:01:26.235Z"
   },
   {
    "duration": 4,
    "start_time": "2023-03-07T13:01:26.390Z"
   },
   {
    "duration": 3,
    "start_time": "2023-03-07T13:01:26.651Z"
   },
   {
    "duration": 3,
    "start_time": "2023-03-07T13:01:27.229Z"
   },
   {
    "duration": 3,
    "start_time": "2023-03-07T13:16:56.233Z"
   },
   {
    "duration": 52,
    "start_time": "2023-03-07T13:16:56.681Z"
   },
   {
    "duration": 23,
    "start_time": "2023-03-07T13:16:56.920Z"
   },
   {
    "duration": 15,
    "start_time": "2023-03-07T13:16:57.344Z"
   },
   {
    "duration": 29,
    "start_time": "2023-03-07T13:16:58.293Z"
   },
   {
    "duration": 16,
    "start_time": "2023-03-07T13:16:59.748Z"
   },
   {
    "duration": 16,
    "start_time": "2023-03-07T13:17:01.018Z"
   },
   {
    "duration": 6,
    "start_time": "2023-03-07T13:17:02.828Z"
   },
   {
    "duration": 15,
    "start_time": "2023-03-07T13:17:03.452Z"
   },
   {
    "duration": 4,
    "start_time": "2023-03-07T13:17:05.632Z"
   },
   {
    "duration": 10,
    "start_time": "2023-03-07T13:17:05.854Z"
   },
   {
    "duration": 18,
    "start_time": "2023-03-07T13:17:06.058Z"
   },
   {
    "duration": 7,
    "start_time": "2023-03-07T13:17:07.036Z"
   },
   {
    "duration": 9,
    "start_time": "2023-03-07T13:17:07.399Z"
   },
   {
    "duration": 8,
    "start_time": "2023-03-07T13:17:07.918Z"
   },
   {
    "duration": 6,
    "start_time": "2023-03-07T13:17:10.916Z"
   },
   {
    "duration": 4,
    "start_time": "2023-03-07T13:17:11.691Z"
   },
   {
    "duration": 6,
    "start_time": "2023-03-07T13:17:12.739Z"
   },
   {
    "duration": 505,
    "start_time": "2023-03-07T13:17:13.800Z"
   },
   {
    "duration": 10,
    "start_time": "2023-03-07T13:17:19.443Z"
   },
   {
    "duration": 14,
    "start_time": "2023-03-07T13:17:26.530Z"
   },
   {
    "duration": 8,
    "start_time": "2023-03-07T13:17:27.376Z"
   },
   {
    "duration": 10,
    "start_time": "2023-03-07T13:17:27.533Z"
   },
   {
    "duration": 6,
    "start_time": "2023-03-07T13:17:27.618Z"
   },
   {
    "duration": 14,
    "start_time": "2023-03-07T13:17:27.703Z"
   },
   {
    "duration": 12,
    "start_time": "2023-03-07T13:17:27.872Z"
   },
   {
    "duration": 20,
    "start_time": "2023-03-07T13:17:27.952Z"
   },
   {
    "duration": 5,
    "start_time": "2023-03-07T13:17:28.402Z"
   },
   {
    "duration": 13,
    "start_time": "2023-03-07T13:17:28.430Z"
   },
   {
    "duration": 4,
    "start_time": "2023-03-07T13:17:28.476Z"
   },
   {
    "duration": 23,
    "start_time": "2023-03-07T13:17:28.514Z"
   },
   {
    "duration": 9,
    "start_time": "2023-03-07T13:17:28.996Z"
   },
   {
    "duration": 205,
    "start_time": "2023-03-07T13:17:29.026Z"
   },
   {
    "duration": 8,
    "start_time": "2023-03-07T13:17:29.233Z"
   },
   {
    "duration": 12,
    "start_time": "2023-03-07T13:17:29.243Z"
   },
   {
    "duration": 341,
    "start_time": "2023-03-07T13:17:29.295Z"
   },
   {
    "duration": 12,
    "start_time": "2023-03-07T13:17:29.639Z"
   },
   {
    "duration": 8,
    "start_time": "2023-03-07T13:17:29.653Z"
   },
   {
    "duration": 10,
    "start_time": "2023-03-07T13:17:29.719Z"
   },
   {
    "duration": 24,
    "start_time": "2023-03-07T13:17:29.946Z"
   },
   {
    "duration": 14,
    "start_time": "2023-03-07T13:17:30.180Z"
   },
   {
    "duration": 15,
    "start_time": "2023-03-07T13:17:30.407Z"
   },
   {
    "duration": 200,
    "start_time": "2023-03-07T13:17:30.637Z"
   },
   {
    "duration": 8,
    "start_time": "2023-03-07T13:17:30.982Z"
   },
   {
    "duration": 36,
    "start_time": "2023-03-07T13:17:31.004Z"
   },
   {
    "duration": 328,
    "start_time": "2023-03-07T13:17:31.045Z"
   },
   {
    "duration": 282,
    "start_time": "2023-03-07T13:17:31.375Z"
   },
   {
    "duration": 26,
    "start_time": "2023-03-07T13:17:32.169Z"
   },
   {
    "duration": 6,
    "start_time": "2023-03-07T13:17:32.379Z"
   },
   {
    "duration": 123,
    "start_time": "2023-03-07T13:17:32.605Z"
   },
   {
    "duration": 6,
    "start_time": "2023-03-07T13:17:32.730Z"
   },
   {
    "duration": 161,
    "start_time": "2023-03-07T13:17:32.737Z"
   },
   {
    "duration": 240,
    "start_time": "2023-03-07T13:17:34.041Z"
   },
   {
    "duration": 578,
    "start_time": "2023-03-07T13:17:34.722Z"
   },
   {
    "duration": 280,
    "start_time": "2023-03-07T13:17:35.302Z"
   },
   {
    "duration": 262,
    "start_time": "2023-03-07T13:17:35.584Z"
   },
   {
    "duration": 272,
    "start_time": "2023-03-07T13:17:35.848Z"
   },
   {
    "duration": 4,
    "start_time": "2023-03-07T13:17:36.122Z"
   },
   {
    "duration": 6,
    "start_time": "2023-03-07T13:17:36.128Z"
   },
   {
    "duration": 5,
    "start_time": "2023-03-07T13:17:36.135Z"
   },
   {
    "duration": 18,
    "start_time": "2023-03-07T13:17:36.142Z"
   },
   {
    "duration": 233,
    "start_time": "2023-03-07T13:17:36.162Z"
   },
   {
    "duration": 4,
    "start_time": "2023-03-07T13:20:16.484Z"
   },
   {
    "duration": 6,
    "start_time": "2023-03-07T13:20:17.552Z"
   },
   {
    "duration": 5,
    "start_time": "2023-03-07T13:23:50.306Z"
   },
   {
    "duration": 5,
    "start_time": "2023-03-07T13:23:50.718Z"
   },
   {
    "duration": 4,
    "start_time": "2023-03-07T13:23:51.631Z"
   },
   {
    "duration": 4,
    "start_time": "2023-03-07T13:23:52.407Z"
   },
   {
    "duration": 3,
    "start_time": "2023-03-07T13:23:52.618Z"
   },
   {
    "duration": 3,
    "start_time": "2023-03-07T14:26:02.441Z"
   },
   {
    "duration": 51,
    "start_time": "2023-03-07T14:26:02.602Z"
   },
   {
    "duration": 23,
    "start_time": "2023-03-07T14:26:02.687Z"
   },
   {
    "duration": 15,
    "start_time": "2023-03-07T14:26:02.914Z"
   },
   {
    "duration": 32,
    "start_time": "2023-03-07T14:26:03.141Z"
   },
   {
    "duration": 15,
    "start_time": "2023-03-07T14:26:03.591Z"
   },
   {
    "duration": 16,
    "start_time": "2023-03-07T14:26:03.986Z"
   },
   {
    "duration": 7,
    "start_time": "2023-03-07T14:26:04.427Z"
   },
   {
    "duration": 15,
    "start_time": "2023-03-07T14:26:04.483Z"
   },
   {
    "duration": 3,
    "start_time": "2023-03-07T14:26:04.587Z"
   },
   {
    "duration": 9,
    "start_time": "2023-03-07T14:26:04.613Z"
   },
   {
    "duration": 16,
    "start_time": "2023-03-07T14:26:04.655Z"
   },
   {
    "duration": 7,
    "start_time": "2023-03-07T14:26:04.753Z"
   },
   {
    "duration": 7,
    "start_time": "2023-03-07T14:26:04.789Z"
   },
   {
    "duration": 91,
    "start_time": "2023-03-07T14:26:04.821Z"
   },
   {
    "duration": 13,
    "start_time": "2023-03-07T14:26:04.914Z"
   },
   {
    "duration": 60,
    "start_time": "2023-03-07T14:26:04.929Z"
   },
   {
    "duration": 27,
    "start_time": "2023-03-07T14:26:04.992Z"
   },
   {
    "duration": 456,
    "start_time": "2023-03-07T14:26:05.021Z"
   },
   {
    "duration": 11,
    "start_time": "2023-03-07T14:26:05.479Z"
   },
   {
    "duration": 27,
    "start_time": "2023-03-07T14:26:05.492Z"
   },
   {
    "duration": 9,
    "start_time": "2023-03-07T14:26:05.521Z"
   },
   {
    "duration": 9,
    "start_time": "2023-03-07T14:26:05.533Z"
   },
   {
    "duration": 7,
    "start_time": "2023-03-07T14:26:05.544Z"
   },
   {
    "duration": 17,
    "start_time": "2023-03-07T14:26:05.554Z"
   },
   {
    "duration": 13,
    "start_time": "2023-03-07T14:26:05.703Z"
   },
   {
    "duration": 21,
    "start_time": "2023-03-07T14:26:05.794Z"
   },
   {
    "duration": 6,
    "start_time": "2023-03-07T14:26:06.232Z"
   },
   {
    "duration": 16,
    "start_time": "2023-03-07T14:26:06.287Z"
   },
   {
    "duration": 4,
    "start_time": "2023-03-07T14:26:06.306Z"
   },
   {
    "duration": 25,
    "start_time": "2023-03-07T14:26:06.336Z"
   },
   {
    "duration": 10,
    "start_time": "2023-03-07T14:26:06.783Z"
   },
   {
    "duration": 202,
    "start_time": "2023-03-07T14:26:06.795Z"
   },
   {
    "duration": 17,
    "start_time": "2023-03-07T14:26:06.999Z"
   },
   {
    "duration": 9,
    "start_time": "2023-03-07T14:26:07.045Z"
   },
   {
    "duration": 271,
    "start_time": "2023-03-07T14:26:07.130Z"
   },
   {
    "duration": 22,
    "start_time": "2023-03-07T14:26:07.403Z"
   },
   {
    "duration": 11,
    "start_time": "2023-03-07T14:26:07.427Z"
   },
   {
    "duration": 9,
    "start_time": "2023-03-07T14:26:07.737Z"
   },
   {
    "duration": 23,
    "start_time": "2023-03-07T14:26:07.786Z"
   },
   {
    "duration": 14,
    "start_time": "2023-03-07T14:26:07.987Z"
   },
   {
    "duration": 14,
    "start_time": "2023-03-07T14:26:08.209Z"
   },
   {
    "duration": 187,
    "start_time": "2023-03-07T14:26:08.431Z"
   },
   {
    "duration": 7,
    "start_time": "2023-03-07T14:26:09.222Z"
   },
   {
    "duration": 13,
    "start_time": "2023-03-07T14:26:09.301Z"
   },
   {
    "duration": 316,
    "start_time": "2023-03-07T14:26:09.386Z"
   },
   {
    "duration": 299,
    "start_time": "2023-03-07T14:26:09.704Z"
   },
   {
    "duration": 25,
    "start_time": "2023-03-07T14:26:10.439Z"
   },
   {
    "duration": 6,
    "start_time": "2023-03-07T14:26:10.853Z"
   },
   {
    "duration": 127,
    "start_time": "2023-03-07T14:26:10.889Z"
   },
   {
    "duration": 6,
    "start_time": "2023-03-07T14:26:11.377Z"
   },
   {
    "duration": 142,
    "start_time": "2023-03-07T14:26:11.695Z"
   },
   {
    "duration": 790,
    "start_time": "2023-03-07T14:26:12.952Z"
   },
   {
    "duration": 583,
    "start_time": "2023-03-07T14:26:14.709Z"
   },
   {
    "duration": 291,
    "start_time": "2023-03-07T14:26:15.295Z"
   },
   {
    "duration": 263,
    "start_time": "2023-03-07T14:26:15.591Z"
   },
   {
    "duration": 260,
    "start_time": "2023-03-07T14:26:16.184Z"
   },
   {
    "duration": 5,
    "start_time": "2023-03-07T14:26:16.895Z"
   },
   {
    "duration": 2,
    "start_time": "2023-03-07T14:26:19.305Z"
   },
   {
    "duration": 3,
    "start_time": "2023-03-07T14:26:20.917Z"
   },
   {
    "duration": 23,
    "start_time": "2023-03-07T14:26:21.523Z"
   },
   {
    "duration": 187,
    "start_time": "2023-03-07T14:26:29.249Z"
   },
   {
    "duration": 5,
    "start_time": "2023-03-07T14:30:20.647Z"
   },
   {
    "duration": 11,
    "start_time": "2023-03-07T14:35:30.414Z"
   },
   {
    "duration": 6,
    "start_time": "2023-03-07T14:35:36.572Z"
   },
   {
    "duration": 5,
    "start_time": "2023-03-07T14:36:18.595Z"
   },
   {
    "duration": 3,
    "start_time": "2023-03-07T14:36:19.076Z"
   },
   {
    "duration": 3,
    "start_time": "2023-03-07T14:36:19.786Z"
   },
   {
    "duration": 5,
    "start_time": "2023-03-07T14:36:27.354Z"
   },
   {
    "duration": 5,
    "start_time": "2023-03-07T14:36:27.600Z"
   },
   {
    "duration": 3,
    "start_time": "2023-03-07T14:36:27.800Z"
   },
   {
    "duration": 3,
    "start_time": "2023-03-07T14:36:28.210Z"
   },
   {
    "duration": 3,
    "start_time": "2023-03-07T14:36:28.696Z"
   },
   {
    "duration": 3,
    "start_time": "2023-03-07T14:36:35.225Z"
   },
   {
    "duration": 51,
    "start_time": "2023-03-07T14:36:35.392Z"
   },
   {
    "duration": 22,
    "start_time": "2023-03-07T14:36:35.480Z"
   },
   {
    "duration": 14,
    "start_time": "2023-03-07T14:36:35.706Z"
   },
   {
    "duration": 30,
    "start_time": "2023-03-07T14:36:35.936Z"
   },
   {
    "duration": 17,
    "start_time": "2023-03-07T14:36:36.374Z"
   },
   {
    "duration": 17,
    "start_time": "2023-03-07T14:36:36.587Z"
   },
   {
    "duration": 7,
    "start_time": "2023-03-07T14:36:37.036Z"
   },
   {
    "duration": 15,
    "start_time": "2023-03-07T14:36:37.080Z"
   },
   {
    "duration": 4,
    "start_time": "2023-03-07T14:36:37.188Z"
   },
   {
    "duration": 9,
    "start_time": "2023-03-07T14:36:37.201Z"
   },
   {
    "duration": 16,
    "start_time": "2023-03-07T14:36:37.236Z"
   },
   {
    "duration": 8,
    "start_time": "2023-03-07T14:36:37.328Z"
   },
   {
    "duration": 8,
    "start_time": "2023-03-07T14:36:37.384Z"
   },
   {
    "duration": 9,
    "start_time": "2023-03-07T14:36:37.409Z"
   },
   {
    "duration": 6,
    "start_time": "2023-03-07T14:36:37.484Z"
   },
   {
    "duration": 6,
    "start_time": "2023-03-07T14:36:37.520Z"
   },
   {
    "duration": 7,
    "start_time": "2023-03-07T14:36:37.580Z"
   },
   {
    "duration": 437,
    "start_time": "2023-03-07T14:36:37.610Z"
   },
   {
    "duration": 8,
    "start_time": "2023-03-07T14:36:38.049Z"
   },
   {
    "duration": 18,
    "start_time": "2023-03-07T14:36:38.059Z"
   },
   {
    "duration": 8,
    "start_time": "2023-03-07T14:36:38.079Z"
   },
   {
    "duration": 8,
    "start_time": "2023-03-07T14:36:38.180Z"
   },
   {
    "duration": 6,
    "start_time": "2023-03-07T14:36:38.238Z"
   },
   {
    "duration": 14,
    "start_time": "2023-03-07T14:36:38.326Z"
   },
   {
    "duration": 13,
    "start_time": "2023-03-07T14:36:38.488Z"
   },
   {
    "duration": 20,
    "start_time": "2023-03-07T14:36:38.584Z"
   },
   {
    "duration": 5,
    "start_time": "2023-03-07T14:36:39.028Z"
   },
   {
    "duration": 15,
    "start_time": "2023-03-07T14:36:39.050Z"
   },
   {
    "duration": 3,
    "start_time": "2023-03-07T14:36:39.090Z"
   },
   {
    "duration": 22,
    "start_time": "2023-03-07T14:36:39.131Z"
   },
   {
    "duration": 8,
    "start_time": "2023-03-07T14:36:39.606Z"
   },
   {
    "duration": 188,
    "start_time": "2023-03-07T14:36:39.642Z"
   },
   {
    "duration": 9,
    "start_time": "2023-03-07T14:36:39.832Z"
   },
   {
    "duration": 30,
    "start_time": "2023-03-07T14:36:39.843Z"
   },
   {
    "duration": 273,
    "start_time": "2023-03-07T14:36:39.918Z"
   },
   {
    "duration": 21,
    "start_time": "2023-03-07T14:36:40.194Z"
   },
   {
    "duration": 7,
    "start_time": "2023-03-07T14:36:40.217Z"
   },
   {
    "duration": 8,
    "start_time": "2023-03-07T14:36:40.528Z"
   },
   {
    "duration": 23,
    "start_time": "2023-03-07T14:36:40.567Z"
   },
   {
    "duration": 14,
    "start_time": "2023-03-07T14:36:40.783Z"
   },
   {
    "duration": 15,
    "start_time": "2023-03-07T14:36:40.998Z"
   },
   {
    "duration": 198,
    "start_time": "2023-03-07T14:36:41.418Z"
   },
   {
    "duration": 7,
    "start_time": "2023-03-07T14:36:41.618Z"
   },
   {
    "duration": 18,
    "start_time": "2023-03-07T14:36:41.627Z"
   },
   {
    "duration": 294,
    "start_time": "2023-03-07T14:36:41.647Z"
   },
   {
    "duration": 286,
    "start_time": "2023-03-07T14:36:41.943Z"
   },
   {
    "duration": 26,
    "start_time": "2023-03-07T14:36:42.231Z"
   },
   {
    "duration": 5,
    "start_time": "2023-03-07T14:36:42.259Z"
   },
   {
    "duration": 155,
    "start_time": "2023-03-07T14:36:42.265Z"
   },
   {
    "duration": 6,
    "start_time": "2023-03-07T14:36:42.421Z"
   },
   {
    "duration": 162,
    "start_time": "2023-03-07T14:36:42.428Z"
   },
   {
    "duration": 181,
    "start_time": "2023-03-07T14:36:42.592Z"
   },
   {
    "duration": 586,
    "start_time": "2023-03-07T14:36:42.775Z"
   },
   {
    "duration": 275,
    "start_time": "2023-03-07T14:36:43.363Z"
   },
   {
    "duration": 273,
    "start_time": "2023-03-07T14:36:43.639Z"
   },
   {
    "duration": 320,
    "start_time": "2023-03-07T14:36:43.914Z"
   },
   {
    "duration": 6,
    "start_time": "2023-03-07T14:36:44.238Z"
   },
   {
    "duration": 9,
    "start_time": "2023-03-07T14:36:44.247Z"
   },
   {
    "duration": 5,
    "start_time": "2023-03-07T14:36:44.259Z"
   },
   {
    "duration": 30,
    "start_time": "2023-03-07T14:36:44.266Z"
   },
   {
    "duration": 204,
    "start_time": "2023-03-07T14:36:44.298Z"
   },
   {
    "duration": 10,
    "start_time": "2023-03-07T14:36:44.504Z"
   },
   {
    "duration": 23,
    "start_time": "2023-03-07T14:36:44.516Z"
   },
   {
    "duration": 8,
    "start_time": "2023-03-07T14:36:44.541Z"
   },
   {
    "duration": 14,
    "start_time": "2023-03-07T14:36:44.551Z"
   },
   {
    "duration": 5,
    "start_time": "2023-03-07T14:36:44.567Z"
   },
   {
    "duration": 6,
    "start_time": "2023-03-07T14:37:11.680Z"
   },
   {
    "duration": 5,
    "start_time": "2023-03-07T14:37:11.868Z"
   },
   {
    "duration": 4,
    "start_time": "2023-03-07T14:37:12.047Z"
   },
   {
    "duration": 3,
    "start_time": "2023-03-07T14:37:12.584Z"
   },
   {
    "duration": 4,
    "start_time": "2023-03-07T14:37:13.381Z"
   },
   {
    "duration": 4,
    "start_time": "2023-03-07T14:39:07.312Z"
   },
   {
    "duration": 5,
    "start_time": "2023-03-07T14:39:10.021Z"
   },
   {
    "duration": 5,
    "start_time": "2023-03-07T14:39:10.228Z"
   },
   {
    "duration": 4,
    "start_time": "2023-03-07T14:39:10.389Z"
   },
   {
    "duration": 3,
    "start_time": "2023-03-07T14:39:10.853Z"
   },
   {
    "duration": 6,
    "start_time": "2023-03-07T14:41:24.697Z"
   },
   {
    "duration": 5,
    "start_time": "2023-03-07T14:41:46.784Z"
   },
   {
    "duration": 6,
    "start_time": "2023-03-07T14:41:48.681Z"
   },
   {
    "duration": 6,
    "start_time": "2023-03-07T14:41:48.952Z"
   },
   {
    "duration": 5,
    "start_time": "2023-03-07T14:41:49.282Z"
   },
   {
    "duration": 4,
    "start_time": "2023-03-07T14:41:49.847Z"
   },
   {
    "duration": 3,
    "start_time": "2023-03-07T14:41:52.525Z"
   },
   {
    "duration": 6,
    "start_time": "2023-03-07T14:43:03.744Z"
   },
   {
    "duration": 7,
    "start_time": "2023-03-07T14:43:04.139Z"
   },
   {
    "duration": 4,
    "start_time": "2023-03-07T14:43:04.669Z"
   },
   {
    "duration": 5,
    "start_time": "2023-03-07T14:43:05.718Z"
   },
   {
    "duration": 6,
    "start_time": "2023-03-07T14:43:53.595Z"
   },
   {
    "duration": 9,
    "start_time": "2023-03-07T14:43:54.081Z"
   },
   {
    "duration": 4,
    "start_time": "2023-03-07T14:43:54.777Z"
   },
   {
    "duration": 3,
    "start_time": "2023-03-07T14:43:55.490Z"
   },
   {
    "duration": 6,
    "start_time": "2023-03-07T14:44:15.326Z"
   },
   {
    "duration": 6,
    "start_time": "2023-03-07T14:44:15.712Z"
   },
   {
    "duration": 4,
    "start_time": "2023-03-07T14:44:16.106Z"
   },
   {
    "duration": 4,
    "start_time": "2023-03-07T14:44:16.550Z"
   },
   {
    "duration": 7,
    "start_time": "2023-03-07T14:44:42.287Z"
   },
   {
    "duration": 5,
    "start_time": "2023-03-07T14:44:42.892Z"
   },
   {
    "duration": 4,
    "start_time": "2023-03-07T14:44:43.240Z"
   },
   {
    "duration": 4,
    "start_time": "2023-03-07T14:44:43.694Z"
   },
   {
    "duration": 3,
    "start_time": "2023-03-07T14:44:56.353Z"
   },
   {
    "duration": 7,
    "start_time": "2023-03-07T14:45:20.412Z"
   },
   {
    "duration": 6,
    "start_time": "2023-03-07T14:45:20.593Z"
   },
   {
    "duration": 4,
    "start_time": "2023-03-07T14:45:20.779Z"
   },
   {
    "duration": 4,
    "start_time": "2023-03-07T14:45:20.986Z"
   },
   {
    "duration": 7,
    "start_time": "2023-03-07T14:45:45.083Z"
   },
   {
    "duration": 6,
    "start_time": "2023-03-07T14:45:56.384Z"
   },
   {
    "duration": 9,
    "start_time": "2023-03-07T14:46:11.416Z"
   },
   {
    "duration": 9,
    "start_time": "2023-03-07T14:46:45.076Z"
   },
   {
    "duration": 6,
    "start_time": "2023-03-07T14:46:46.291Z"
   },
   {
    "duration": 4,
    "start_time": "2023-03-07T14:46:46.977Z"
   },
   {
    "duration": 4,
    "start_time": "2023-03-07T14:46:47.390Z"
   },
   {
    "duration": 53,
    "start_time": "2023-03-08T13:34:18.762Z"
   },
   {
    "duration": 1416,
    "start_time": "2023-03-08T13:34:24.827Z"
   },
   {
    "duration": 101,
    "start_time": "2023-03-08T13:34:26.245Z"
   },
   {
    "duration": 33,
    "start_time": "2023-03-08T13:34:26.347Z"
   },
   {
    "duration": 14,
    "start_time": "2023-03-08T13:34:26.382Z"
   },
   {
    "duration": 28,
    "start_time": "2023-03-08T13:34:26.397Z"
   },
   {
    "duration": 98,
    "start_time": "2023-03-08T13:34:26.427Z"
   },
   {
    "duration": 14,
    "start_time": "2023-03-08T13:34:26.527Z"
   },
   {
    "duration": 7,
    "start_time": "2023-03-08T13:34:28.329Z"
   },
   {
    "duration": 18,
    "start_time": "2023-03-08T13:34:28.721Z"
   },
   {
    "duration": 4,
    "start_time": "2023-03-08T13:34:29.558Z"
   },
   {
    "duration": 10,
    "start_time": "2023-03-08T13:34:29.749Z"
   },
   {
    "duration": 20,
    "start_time": "2023-03-08T13:34:29.921Z"
   },
   {
    "duration": 8,
    "start_time": "2023-03-08T13:34:30.496Z"
   },
   {
    "duration": 7,
    "start_time": "2023-03-08T13:34:30.675Z"
   },
   {
    "duration": 7,
    "start_time": "2023-03-08T13:34:30.857Z"
   },
   {
    "duration": 6,
    "start_time": "2023-03-08T13:34:31.253Z"
   },
   {
    "duration": 5,
    "start_time": "2023-03-08T13:34:31.464Z"
   },
   {
    "duration": 6,
    "start_time": "2023-03-08T13:34:31.640Z"
   },
   {
    "duration": 438,
    "start_time": "2023-03-08T13:34:31.895Z"
   },
   {
    "duration": 9,
    "start_time": "2023-03-08T13:34:32.335Z"
   },
   {
    "duration": 38,
    "start_time": "2023-03-08T13:34:32.346Z"
   },
   {
    "duration": 8,
    "start_time": "2023-03-08T13:34:33.408Z"
   },
   {
    "duration": 9,
    "start_time": "2023-03-08T13:34:33.851Z"
   },
   {
    "duration": 5,
    "start_time": "2023-03-08T13:34:34.045Z"
   },
   {
    "duration": 23,
    "start_time": "2023-03-08T13:34:34.272Z"
   },
   {
    "duration": 17,
    "start_time": "2023-03-08T13:34:35.059Z"
   },
   {
    "duration": 24,
    "start_time": "2023-03-08T13:34:35.287Z"
   },
   {
    "duration": 5,
    "start_time": "2023-03-08T13:34:37.389Z"
   },
   {
    "duration": 14,
    "start_time": "2023-03-08T13:34:38.139Z"
   },
   {
    "duration": 3,
    "start_time": "2023-03-08T13:34:38.889Z"
   },
   {
    "duration": 22,
    "start_time": "2023-03-08T13:34:39.432Z"
   },
   {
    "duration": 9,
    "start_time": "2023-03-08T13:34:46.660Z"
   },
   {
    "duration": 215,
    "start_time": "2023-03-08T13:34:48.833Z"
   },
   {
    "duration": 8,
    "start_time": "2023-03-08T13:34:51.184Z"
   },
   {
    "duration": 10,
    "start_time": "2023-03-08T13:35:04.401Z"
   },
   {
    "duration": 9,
    "start_time": "2023-03-08T13:35:17.286Z"
   },
   {
    "duration": 74,
    "start_time": "2023-03-08T13:35:19.613Z"
   },
   {
    "duration": 9,
    "start_time": "2023-03-08T13:35:33.225Z"
   },
   {
    "duration": 3,
    "start_time": "2023-03-08T13:35:41.070Z"
   },
   {
    "duration": 56,
    "start_time": "2023-03-08T13:35:41.461Z"
   },
   {
    "duration": 21,
    "start_time": "2023-03-08T13:35:41.629Z"
   },
   {
    "duration": 16,
    "start_time": "2023-03-08T13:35:42.070Z"
   },
   {
    "duration": 31,
    "start_time": "2023-03-08T13:35:42.097Z"
   },
   {
    "duration": 19,
    "start_time": "2023-03-08T13:35:43.315Z"
   },
   {
    "duration": 16,
    "start_time": "2023-03-08T13:35:43.763Z"
   },
   {
    "duration": 7,
    "start_time": "2023-03-08T13:35:44.238Z"
   },
   {
    "duration": 17,
    "start_time": "2023-03-08T13:35:44.717Z"
   },
   {
    "duration": 3,
    "start_time": "2023-03-08T13:35:46.029Z"
   },
   {
    "duration": 9,
    "start_time": "2023-03-08T13:35:46.233Z"
   },
   {
    "duration": 17,
    "start_time": "2023-03-08T13:35:46.768Z"
   },
   {
    "duration": 7,
    "start_time": "2023-03-08T13:35:47.676Z"
   },
   {
    "duration": 6,
    "start_time": "2023-03-08T13:35:47.883Z"
   },
   {
    "duration": 8,
    "start_time": "2023-03-08T13:35:48.107Z"
   },
   {
    "duration": 5,
    "start_time": "2023-03-08T13:35:48.545Z"
   },
   {
    "duration": 4,
    "start_time": "2023-03-08T13:35:49.086Z"
   },
   {
    "duration": 5,
    "start_time": "2023-03-08T13:35:49.540Z"
   },
   {
    "duration": 447,
    "start_time": "2023-03-08T13:35:50.044Z"
   },
   {
    "duration": 9,
    "start_time": "2023-03-08T13:35:50.675Z"
   },
   {
    "duration": 15,
    "start_time": "2023-03-08T13:35:51.257Z"
   },
   {
    "duration": 7,
    "start_time": "2023-03-08T13:35:52.747Z"
   },
   {
    "duration": 8,
    "start_time": "2023-03-08T13:35:53.155Z"
   },
   {
    "duration": 5,
    "start_time": "2023-03-08T13:35:53.377Z"
   },
   {
    "duration": 13,
    "start_time": "2023-03-08T13:35:53.882Z"
   },
   {
    "duration": 13,
    "start_time": "2023-03-08T13:35:54.770Z"
   },
   {
    "duration": 28,
    "start_time": "2023-03-08T13:35:55.172Z"
   },
   {
    "duration": 5,
    "start_time": "2023-03-08T13:35:57.029Z"
   },
   {
    "duration": 13,
    "start_time": "2023-03-08T13:35:57.971Z"
   },
   {
    "duration": 3,
    "start_time": "2023-03-08T13:35:58.169Z"
   },
   {
    "duration": 30,
    "start_time": "2023-03-08T13:35:58.851Z"
   },
   {
    "duration": 9,
    "start_time": "2023-03-08T13:36:01.513Z"
   },
   {
    "duration": 208,
    "start_time": "2023-03-08T13:36:02.079Z"
   },
   {
    "duration": 9,
    "start_time": "2023-03-08T13:36:03.909Z"
   },
   {
    "duration": 3,
    "start_time": "2023-03-08T13:36:14.241Z"
   },
   {
    "duration": 8,
    "start_time": "2023-03-08T13:36:21.703Z"
   },
   {
    "duration": 4,
    "start_time": "2023-03-08T13:36:24.223Z"
   },
   {
    "duration": 3,
    "start_time": "2023-03-08T13:36:28.547Z"
   },
   {
    "duration": 58,
    "start_time": "2023-03-08T13:36:28.711Z"
   },
   {
    "duration": 20,
    "start_time": "2023-03-08T13:36:28.797Z"
   },
   {
    "duration": 13,
    "start_time": "2023-03-08T13:36:29.029Z"
   },
   {
    "duration": 29,
    "start_time": "2023-03-08T13:36:29.269Z"
   },
   {
    "duration": 15,
    "start_time": "2023-03-08T13:36:29.707Z"
   },
   {
    "duration": 16,
    "start_time": "2023-03-08T13:36:29.930Z"
   },
   {
    "duration": 7,
    "start_time": "2023-03-08T13:36:30.388Z"
   },
   {
    "duration": 36,
    "start_time": "2023-03-08T13:36:30.420Z"
   },
   {
    "duration": 4,
    "start_time": "2023-03-08T13:36:30.535Z"
   },
   {
    "duration": 10,
    "start_time": "2023-03-08T13:36:30.586Z"
   },
   {
    "duration": 19,
    "start_time": "2023-03-08T13:36:30.618Z"
   },
   {
    "duration": 8,
    "start_time": "2023-03-08T13:36:31.541Z"
   },
   {
    "duration": 7,
    "start_time": "2023-03-08T13:36:32.042Z"
   },
   {
    "duration": 8,
    "start_time": "2023-03-08T13:36:32.119Z"
   },
   {
    "duration": 6,
    "start_time": "2023-03-08T13:36:32.285Z"
   },
   {
    "duration": 10,
    "start_time": "2023-03-08T13:36:32.590Z"
   },
   {
    "duration": 5,
    "start_time": "2023-03-08T13:36:33.090Z"
   },
   {
    "duration": 447,
    "start_time": "2023-03-08T13:36:33.169Z"
   },
   {
    "duration": 9,
    "start_time": "2023-03-08T13:36:33.618Z"
   },
   {
    "duration": 19,
    "start_time": "2023-03-08T13:36:33.629Z"
   },
   {
    "duration": 8,
    "start_time": "2023-03-08T13:36:34.696Z"
   },
   {
    "duration": 9,
    "start_time": "2023-03-08T13:36:35.071Z"
   },
   {
    "duration": 6,
    "start_time": "2023-03-08T13:36:35.246Z"
   },
   {
    "duration": 21,
    "start_time": "2023-03-08T13:36:35.386Z"
   },
   {
    "duration": 13,
    "start_time": "2023-03-08T13:36:35.868Z"
   },
   {
    "duration": 20,
    "start_time": "2023-03-08T13:36:36.383Z"
   },
   {
    "duration": 5,
    "start_time": "2023-03-08T13:36:37.708Z"
   },
   {
    "duration": 14,
    "start_time": "2023-03-08T13:36:37.913Z"
   },
   {
    "duration": 3,
    "start_time": "2023-03-08T13:36:38.089Z"
   },
   {
    "duration": 23,
    "start_time": "2023-03-08T13:36:38.729Z"
   },
   {
    "duration": 9,
    "start_time": "2023-03-08T13:36:41.346Z"
   },
   {
    "duration": 234,
    "start_time": "2023-03-08T13:36:42.049Z"
   },
   {
    "duration": 9,
    "start_time": "2023-03-08T13:36:43.687Z"
   },
   {
    "duration": 2,
    "start_time": "2023-03-08T13:36:44.509Z"
   },
   {
    "duration": 9,
    "start_time": "2023-03-08T13:36:51.756Z"
   },
   {
    "duration": 4,
    "start_time": "2023-03-08T13:36:56.176Z"
   },
   {
    "duration": 66,
    "start_time": "2023-03-08T13:36:56.338Z"
   },
   {
    "duration": 23,
    "start_time": "2023-03-08T13:36:56.422Z"
   },
   {
    "duration": 21,
    "start_time": "2023-03-08T13:36:56.652Z"
   },
   {
    "duration": 29,
    "start_time": "2023-03-08T13:36:56.888Z"
   },
   {
    "duration": 17,
    "start_time": "2023-03-08T13:36:57.369Z"
   },
   {
    "duration": 16,
    "start_time": "2023-03-08T13:36:57.588Z"
   },
   {
    "duration": 14,
    "start_time": "2023-03-08T13:36:58.056Z"
   },
   {
    "duration": 15,
    "start_time": "2023-03-08T13:36:58.082Z"
   },
   {
    "duration": 6,
    "start_time": "2023-03-08T13:36:58.184Z"
   },
   {
    "duration": 10,
    "start_time": "2023-03-08T13:36:58.213Z"
   },
   {
    "duration": 24,
    "start_time": "2023-03-08T13:36:58.254Z"
   },
   {
    "duration": 13,
    "start_time": "2023-03-08T13:36:58.353Z"
   },
   {
    "duration": 6,
    "start_time": "2023-03-08T13:36:58.388Z"
   },
   {
    "duration": 8,
    "start_time": "2023-03-08T13:36:58.430Z"
   },
   {
    "duration": 5,
    "start_time": "2023-03-08T13:36:59.085Z"
   },
   {
    "duration": 4,
    "start_time": "2023-03-08T13:36:59.301Z"
   },
   {
    "duration": 5,
    "start_time": "2023-03-08T13:36:59.813Z"
   },
   {
    "duration": 450,
    "start_time": "2023-03-08T13:36:59.890Z"
   },
   {
    "duration": 16,
    "start_time": "2023-03-08T13:37:00.342Z"
   },
   {
    "duration": 51,
    "start_time": "2023-03-08T13:37:00.360Z"
   },
   {
    "duration": 15,
    "start_time": "2023-03-08T13:37:00.413Z"
   },
   {
    "duration": 8,
    "start_time": "2023-03-08T13:37:00.471Z"
   },
   {
    "duration": 6,
    "start_time": "2023-03-08T13:37:00.560Z"
   },
   {
    "duration": 15,
    "start_time": "2023-03-08T13:37:01.352Z"
   },
   {
    "duration": 12,
    "start_time": "2023-03-08T13:37:02.105Z"
   },
   {
    "duration": 19,
    "start_time": "2023-03-08T13:37:02.305Z"
   },
   {
    "duration": 6,
    "start_time": "2023-03-08T13:37:03.118Z"
   },
   {
    "duration": 16,
    "start_time": "2023-03-08T13:37:03.300Z"
   },
   {
    "duration": 4,
    "start_time": "2023-03-08T13:37:03.517Z"
   },
   {
    "duration": 23,
    "start_time": "2023-03-08T13:37:03.705Z"
   },
   {
    "duration": 9,
    "start_time": "2023-03-08T13:37:04.912Z"
   },
   {
    "duration": 293,
    "start_time": "2023-03-08T13:37:05.239Z"
   },
   {
    "duration": 8,
    "start_time": "2023-03-08T13:37:06.331Z"
   },
   {
    "duration": 22,
    "start_time": "2023-03-08T13:37:06.903Z"
   },
   {
    "duration": 13,
    "start_time": "2023-03-08T13:37:08.062Z"
   },
   {
    "duration": 10,
    "start_time": "2023-03-08T13:37:22.570Z"
   },
   {
    "duration": 9,
    "start_time": "2023-03-08T13:37:28.943Z"
   },
   {
    "duration": 8,
    "start_time": "2023-03-08T13:37:29.487Z"
   },
   {
    "duration": 253,
    "start_time": "2023-03-08T13:37:38.015Z"
   },
   {
    "duration": 10,
    "start_time": "2023-03-08T13:37:42.377Z"
   },
   {
    "duration": 7,
    "start_time": "2023-03-08T13:37:43.090Z"
   },
   {
    "duration": 9,
    "start_time": "2023-03-08T13:38:01.601Z"
   },
   {
    "duration": 4,
    "start_time": "2023-03-08T13:38:16.670Z"
   },
   {
    "duration": 68,
    "start_time": "2023-03-08T13:38:16.828Z"
   },
   {
    "duration": 29,
    "start_time": "2023-03-08T13:38:16.913Z"
   },
   {
    "duration": 14,
    "start_time": "2023-03-08T13:38:17.370Z"
   },
   {
    "duration": 27,
    "start_time": "2023-03-08T13:38:17.390Z"
   },
   {
    "duration": 15,
    "start_time": "2023-03-08T13:38:17.826Z"
   },
   {
    "duration": 14,
    "start_time": "2023-03-08T13:38:18.273Z"
   },
   {
    "duration": 7,
    "start_time": "2023-03-08T13:38:18.729Z"
   },
   {
    "duration": 22,
    "start_time": "2023-03-08T13:38:18.753Z"
   },
   {
    "duration": 3,
    "start_time": "2023-03-08T13:38:18.870Z"
   },
   {
    "duration": 10,
    "start_time": "2023-03-08T13:38:18.897Z"
   },
   {
    "duration": 15,
    "start_time": "2023-03-08T13:38:18.939Z"
   },
   {
    "duration": 7,
    "start_time": "2023-03-08T13:38:20.705Z"
   },
   {
    "duration": 7,
    "start_time": "2023-03-08T13:38:20.927Z"
   },
   {
    "duration": 7,
    "start_time": "2023-03-08T13:38:21.123Z"
   },
   {
    "duration": 6,
    "start_time": "2023-03-08T13:38:21.969Z"
   },
   {
    "duration": 5,
    "start_time": "2023-03-08T13:38:22.124Z"
   },
   {
    "duration": 6,
    "start_time": "2023-03-08T13:38:22.326Z"
   },
   {
    "duration": 445,
    "start_time": "2023-03-08T13:38:22.832Z"
   },
   {
    "duration": 12,
    "start_time": "2023-03-08T13:38:23.280Z"
   },
   {
    "duration": 28,
    "start_time": "2023-03-08T13:38:23.295Z"
   },
   {
    "duration": 10,
    "start_time": "2023-03-08T13:38:23.327Z"
   },
   {
    "duration": 8,
    "start_time": "2023-03-08T13:38:24.393Z"
   },
   {
    "duration": 8,
    "start_time": "2023-03-08T13:38:24.670Z"
   },
   {
    "duration": 14,
    "start_time": "2023-03-08T13:38:24.890Z"
   },
   {
    "duration": 11,
    "start_time": "2023-03-08T13:38:26.148Z"
   },
   {
    "duration": 18,
    "start_time": "2023-03-08T13:38:26.682Z"
   },
   {
    "duration": 5,
    "start_time": "2023-03-08T13:38:28.829Z"
   },
   {
    "duration": 17,
    "start_time": "2023-03-08T13:38:29.019Z"
   },
   {
    "duration": 3,
    "start_time": "2023-03-08T13:38:29.574Z"
   },
   {
    "duration": 29,
    "start_time": "2023-03-08T13:38:29.844Z"
   },
   {
    "duration": 11,
    "start_time": "2023-03-08T13:38:35.319Z"
   },
   {
    "duration": 222,
    "start_time": "2023-03-08T13:38:35.962Z"
   },
   {
    "duration": 9,
    "start_time": "2023-03-08T13:38:41.770Z"
   },
   {
    "duration": 21,
    "start_time": "2023-03-08T13:38:42.387Z"
   },
   {
    "duration": 12,
    "start_time": "2023-03-08T13:38:49.854Z"
   },
   {
    "duration": 9,
    "start_time": "2023-03-08T13:38:50.615Z"
   },
   {
    "duration": 13,
    "start_time": "2023-03-08T13:38:55.681Z"
   },
   {
    "duration": 263,
    "start_time": "2023-03-08T13:38:56.683Z"
   },
   {
    "duration": 12,
    "start_time": "2023-03-08T13:39:00.386Z"
   },
   {
    "duration": 7,
    "start_time": "2023-03-08T13:39:00.819Z"
   },
   {
    "duration": 8,
    "start_time": "2023-03-08T13:39:15.540Z"
   },
   {
    "duration": 23,
    "start_time": "2023-03-08T13:39:15.978Z"
   },
   {
    "duration": 18,
    "start_time": "2023-03-08T13:39:18.923Z"
   },
   {
    "duration": 13,
    "start_time": "2023-03-08T13:39:19.415Z"
   },
   {
    "duration": 320,
    "start_time": "2023-03-08T13:39:22.096Z"
   },
   {
    "duration": 7,
    "start_time": "2023-03-08T13:39:40.391Z"
   },
   {
    "duration": 17,
    "start_time": "2023-03-08T13:39:40.878Z"
   },
   {
    "duration": 274,
    "start_time": "2023-03-08T13:39:41.504Z"
   },
   {
    "duration": 6,
    "start_time": "2023-03-08T13:40:21.643Z"
   },
   {
    "duration": 13,
    "start_time": "2023-03-08T13:40:23.506Z"
   },
   {
    "duration": 287,
    "start_time": "2023-03-08T13:40:23.878Z"
   },
   {
    "duration": 2,
    "start_time": "2023-03-08T13:40:52.299Z"
   },
   {
    "duration": 15,
    "start_time": "2023-03-08T13:40:52.706Z"
   },
   {
    "duration": 456,
    "start_time": "2023-03-08T13:40:53.864Z"
   },
   {
    "duration": 7,
    "start_time": "2023-03-08T13:41:26.743Z"
   },
   {
    "duration": 8,
    "start_time": "2023-03-08T13:43:09.381Z"
   },
   {
    "duration": 24,
    "start_time": "2023-03-08T13:43:09.890Z"
   },
   {
    "duration": 12,
    "start_time": "2023-03-08T13:43:12.758Z"
   },
   {
    "duration": 9,
    "start_time": "2023-03-08T13:43:12.838Z"
   },
   {
    "duration": 275,
    "start_time": "2023-03-08T13:43:12.920Z"
   },
   {
    "duration": 11,
    "start_time": "2023-03-08T13:43:13.197Z"
   },
   {
    "duration": 10,
    "start_time": "2023-03-08T13:43:13.209Z"
   },
   {
    "duration": 7,
    "start_time": "2023-03-08T13:43:14.124Z"
   },
   {
    "duration": 27,
    "start_time": "2023-03-08T13:43:14.354Z"
   },
   {
    "duration": 15,
    "start_time": "2023-03-08T13:43:15.306Z"
   },
   {
    "duration": 12,
    "start_time": "2023-03-08T13:43:15.731Z"
   },
   {
    "duration": 224,
    "start_time": "2023-03-08T13:43:16.594Z"
   },
   {
    "duration": 3,
    "start_time": "2023-03-08T13:43:27.618Z"
   },
   {
    "duration": 15,
    "start_time": "2023-03-08T13:43:28.046Z"
   },
   {
    "duration": 437,
    "start_time": "2023-03-08T13:43:30.633Z"
   },
   {
    "duration": 571,
    "start_time": "2023-03-08T13:43:41.727Z"
   },
   {
    "duration": 438,
    "start_time": "2023-03-08T13:43:49.797Z"
   },
   {
    "duration": 469,
    "start_time": "2023-03-08T13:43:53.646Z"
   },
   {
    "duration": 246,
    "start_time": "2023-03-08T13:44:22.670Z"
   },
   {
    "duration": 14,
    "start_time": "2023-03-08T13:45:00.621Z"
   },
   {
    "duration": 463,
    "start_time": "2023-03-08T13:45:01.065Z"
   },
   {
    "duration": 16,
    "start_time": "2023-03-08T13:45:21.790Z"
   },
   {
    "duration": 2,
    "start_time": "2023-03-08T13:45:32.581Z"
   },
   {
    "duration": 54,
    "start_time": "2023-03-08T13:45:32.741Z"
   },
   {
    "duration": 21,
    "start_time": "2023-03-08T13:45:32.826Z"
   },
   {
    "duration": 14,
    "start_time": "2023-03-08T13:45:33.070Z"
   },
   {
    "duration": 35,
    "start_time": "2023-03-08T13:45:33.303Z"
   },
   {
    "duration": 16,
    "start_time": "2023-03-08T13:45:33.783Z"
   },
   {
    "duration": 14,
    "start_time": "2023-03-08T13:45:34.010Z"
   },
   {
    "duration": 7,
    "start_time": "2023-03-08T13:45:34.474Z"
   },
   {
    "duration": 15,
    "start_time": "2023-03-08T13:45:34.512Z"
   },
   {
    "duration": 3,
    "start_time": "2023-03-08T13:45:34.622Z"
   },
   {
    "duration": 15,
    "start_time": "2023-03-08T13:45:34.655Z"
   },
   {
    "duration": 16,
    "start_time": "2023-03-08T13:45:34.702Z"
   },
   {
    "duration": 7,
    "start_time": "2023-03-08T13:45:34.784Z"
   },
   {
    "duration": 6,
    "start_time": "2023-03-08T13:45:34.815Z"
   },
   {
    "duration": 8,
    "start_time": "2023-03-08T13:45:34.852Z"
   },
   {
    "duration": 6,
    "start_time": "2023-03-08T13:45:34.917Z"
   },
   {
    "duration": 4,
    "start_time": "2023-03-08T13:45:34.946Z"
   },
   {
    "duration": 5,
    "start_time": "2023-03-08T13:45:34.984Z"
   },
   {
    "duration": 552,
    "start_time": "2023-03-08T13:45:35.021Z"
   },
   {
    "duration": 14,
    "start_time": "2023-03-08T13:45:35.576Z"
   },
   {
    "duration": 27,
    "start_time": "2023-03-08T13:45:35.592Z"
   },
   {
    "duration": 8,
    "start_time": "2023-03-08T13:45:36.192Z"
   },
   {
    "duration": 8,
    "start_time": "2023-03-08T13:45:36.363Z"
   },
   {
    "duration": 5,
    "start_time": "2023-03-08T13:45:36.445Z"
   },
   {
    "duration": 13,
    "start_time": "2023-03-08T13:45:36.530Z"
   },
   {
    "duration": 12,
    "start_time": "2023-03-08T13:45:36.698Z"
   },
   {
    "duration": 26,
    "start_time": "2023-03-08T13:45:36.779Z"
   },
   {
    "duration": 4,
    "start_time": "2023-03-08T13:45:37.251Z"
   },
   {
    "duration": 23,
    "start_time": "2023-03-08T13:45:37.275Z"
   },
   {
    "duration": 3,
    "start_time": "2023-03-08T13:45:37.317Z"
   },
   {
    "duration": 21,
    "start_time": "2023-03-08T13:45:37.375Z"
   },
   {
    "duration": 18,
    "start_time": "2023-03-08T13:45:38.751Z"
   },
   {
    "duration": 205,
    "start_time": "2023-03-08T13:45:38.970Z"
   },
   {
    "duration": 10,
    "start_time": "2023-03-08T13:45:39.874Z"
   },
   {
    "duration": 27,
    "start_time": "2023-03-08T13:45:40.171Z"
   },
   {
    "duration": 8,
    "start_time": "2023-03-08T13:45:41.914Z"
   },
   {
    "duration": 9,
    "start_time": "2023-03-08T13:45:42.315Z"
   },
   {
    "duration": 283,
    "start_time": "2023-03-08T13:45:43.018Z"
   },
   {
    "duration": 12,
    "start_time": "2023-03-08T13:45:43.970Z"
   },
   {
    "duration": 7,
    "start_time": "2023-03-08T13:45:45.006Z"
   },
   {
    "duration": 6,
    "start_time": "2023-03-08T13:45:46.606Z"
   },
   {
    "duration": 22,
    "start_time": "2023-03-08T13:45:47.425Z"
   },
   {
    "duration": 21,
    "start_time": "2023-03-08T13:45:49.154Z"
   },
   {
    "duration": 13,
    "start_time": "2023-03-08T13:45:50.204Z"
   },
   {
    "duration": 207,
    "start_time": "2023-03-08T13:45:51.009Z"
   },
   {
    "duration": 3,
    "start_time": "2023-03-08T13:45:53.754Z"
   },
   {
    "duration": 14,
    "start_time": "2023-03-08T13:45:54.079Z"
   },
   {
    "duration": 563,
    "start_time": "2023-03-08T13:45:54.315Z"
   },
   {
    "duration": 15,
    "start_time": "2023-03-08T13:46:01.030Z"
   },
   {
    "duration": 14,
    "start_time": "2023-03-08T13:46:36.089Z"
   },
   {
    "duration": 28,
    "start_time": "2023-03-08T13:47:17.389Z"
   },
   {
    "duration": 276,
    "start_time": "2023-03-08T13:47:19.017Z"
   },
   {
    "duration": 23,
    "start_time": "2023-03-08T13:47:27.874Z"
   },
   {
    "duration": 5,
    "start_time": "2023-03-08T13:47:29.046Z"
   },
   {
    "duration": 150,
    "start_time": "2023-03-08T13:47:32.446Z"
   },
   {
    "duration": 6,
    "start_time": "2023-03-08T13:47:34.747Z"
   },
   {
    "duration": 177,
    "start_time": "2023-03-08T13:47:49.339Z"
   },
   {
    "duration": 628,
    "start_time": "2023-03-08T13:47:51.453Z"
   },
   {
    "duration": 273,
    "start_time": "2023-03-08T13:47:52.143Z"
   },
   {
    "duration": 268,
    "start_time": "2023-03-08T13:47:53.314Z"
   },
   {
    "duration": 246,
    "start_time": "2023-03-08T13:48:08.675Z"
   },
   {
    "duration": 7,
    "start_time": "2023-03-08T13:48:11.305Z"
   },
   {
    "duration": 2,
    "start_time": "2023-03-08T13:48:14.197Z"
   },
   {
    "duration": 3,
    "start_time": "2023-03-08T13:48:14.648Z"
   },
   {
    "duration": 17,
    "start_time": "2023-03-08T13:48:15.204Z"
   },
   {
    "duration": 190,
    "start_time": "2023-03-08T13:48:21.479Z"
   },
   {
    "duration": 7,
    "start_time": "2023-03-08T13:48:28.078Z"
   },
   {
    "duration": 6,
    "start_time": "2023-03-08T13:48:28.473Z"
   },
   {
    "duration": 4,
    "start_time": "2023-03-08T13:48:29.609Z"
   },
   {
    "duration": 4,
    "start_time": "2023-03-08T13:48:30.113Z"
   },
   {
    "duration": 4,
    "start_time": "2023-03-08T13:48:31.803Z"
   },
   {
    "duration": 11,
    "start_time": "2023-03-08T13:48:35.576Z"
   },
   {
    "duration": 5,
    "start_time": "2023-03-08T13:48:35.930Z"
   },
   {
    "duration": 6,
    "start_time": "2023-03-08T13:48:36.348Z"
   },
   {
    "duration": 5,
    "start_time": "2023-03-08T13:48:36.967Z"
   },
   {
    "duration": 6,
    "start_time": "2023-03-08T13:52:29.381Z"
   },
   {
    "duration": 6,
    "start_time": "2023-03-08T13:52:50.018Z"
   },
   {
    "duration": 13,
    "start_time": "2023-03-08T13:52:50.428Z"
   },
   {
    "duration": 362,
    "start_time": "2023-03-08T13:52:50.882Z"
   },
   {
    "duration": 32,
    "start_time": "2023-03-08T13:53:19.221Z"
   },
   {
    "duration": 448,
    "start_time": "2023-03-08T13:53:22.298Z"
   },
   {
    "duration": 29,
    "start_time": "2023-03-08T13:53:31.305Z"
   },
   {
    "duration": 5,
    "start_time": "2023-03-08T13:53:32.542Z"
   },
   {
    "duration": 24,
    "start_time": "2023-03-08T13:53:40.209Z"
   },
   {
    "duration": 5,
    "start_time": "2023-03-08T13:53:41.538Z"
   },
   {
    "duration": 149,
    "start_time": "2023-03-08T13:53:42.348Z"
   },
   {
    "duration": 6,
    "start_time": "2023-03-08T13:53:50.408Z"
   },
   {
    "duration": 152,
    "start_time": "2023-03-08T13:53:50.800Z"
   },
   {
    "duration": 187,
    "start_time": "2023-03-08T13:54:00.840Z"
   },
   {
    "duration": 608,
    "start_time": "2023-03-08T13:54:02.279Z"
   },
   {
    "duration": 262,
    "start_time": "2023-03-08T13:54:03.001Z"
   },
   {
    "duration": 264,
    "start_time": "2023-03-08T13:54:03.337Z"
   },
   {
    "duration": 282,
    "start_time": "2023-03-08T13:54:03.603Z"
   },
   {
    "duration": 4,
    "start_time": "2023-03-08T13:54:03.887Z"
   },
   {
    "duration": 3,
    "start_time": "2023-03-08T13:54:12.630Z"
   },
   {
    "duration": 3,
    "start_time": "2023-03-08T13:54:13.122Z"
   },
   {
    "duration": 16,
    "start_time": "2023-03-08T13:54:13.520Z"
   },
   {
    "duration": 187,
    "start_time": "2023-03-08T13:54:14.810Z"
   },
   {
    "duration": 6,
    "start_time": "2023-03-08T13:54:42.052Z"
   },
   {
    "duration": 5,
    "start_time": "2023-03-08T13:54:55.747Z"
   },
   {
    "duration": 6,
    "start_time": "2023-03-08T13:54:56.094Z"
   },
   {
    "duration": 3,
    "start_time": "2023-03-08T13:54:56.586Z"
   },
   {
    "duration": 3,
    "start_time": "2023-03-08T13:54:57.112Z"
   },
   {
    "duration": 3,
    "start_time": "2023-03-08T13:55:00.031Z"
   },
   {
    "duration": 6,
    "start_time": "2023-03-08T13:55:33.475Z"
   },
   {
    "duration": 7,
    "start_time": "2023-03-08T13:56:12.657Z"
   },
   {
    "duration": 5,
    "start_time": "2023-03-08T13:56:14.433Z"
   },
   {
    "duration": 7,
    "start_time": "2023-03-08T13:56:14.806Z"
   },
   {
    "duration": 3,
    "start_time": "2023-03-08T13:56:15.096Z"
   },
   {
    "duration": 5,
    "start_time": "2023-03-08T13:56:15.575Z"
   },
   {
    "duration": 35,
    "start_time": "2023-03-08T14:01:52.681Z"
   },
   {
    "duration": 28,
    "start_time": "2023-03-08T14:02:44.772Z"
   },
   {
    "duration": 26,
    "start_time": "2023-03-08T14:03:07.223Z"
   },
   {
    "duration": 44,
    "start_time": "2023-03-08T14:03:26.770Z"
   },
   {
    "duration": 30,
    "start_time": "2023-03-08T14:03:46.898Z"
   },
   {
    "duration": 50,
    "start_time": "2023-03-08T17:21:08.705Z"
   },
   {
    "duration": 7,
    "start_time": "2023-03-08T17:21:13.134Z"
   },
   {
    "duration": 1202,
    "start_time": "2023-03-08T17:45:54.823Z"
   },
   {
    "duration": 67,
    "start_time": "2023-03-08T17:45:56.027Z"
   },
   {
    "duration": 29,
    "start_time": "2023-03-08T17:45:56.096Z"
   },
   {
    "duration": 14,
    "start_time": "2023-03-08T17:45:56.127Z"
   },
   {
    "duration": 27,
    "start_time": "2023-03-08T17:45:56.156Z"
   },
   {
    "duration": 72,
    "start_time": "2023-03-08T17:45:56.185Z"
   },
   {
    "duration": 18,
    "start_time": "2023-03-08T17:45:56.258Z"
   },
   {
    "duration": 8,
    "start_time": "2023-03-08T17:45:56.278Z"
   },
   {
    "duration": 15,
    "start_time": "2023-03-08T17:45:56.288Z"
   },
   {
    "duration": 5,
    "start_time": "2023-03-08T17:45:56.305Z"
   },
   {
    "duration": 241,
    "start_time": "2023-03-08T17:45:56.311Z"
   },
   {
    "duration": 4,
    "start_time": "2023-03-08T17:45:56.555Z"
   },
   {
    "duration": 13,
    "start_time": "2023-03-08T17:45:56.560Z"
   },
   {
    "duration": 23,
    "start_time": "2023-03-08T17:45:56.577Z"
   },
   {
    "duration": 8,
    "start_time": "2023-03-08T17:45:56.601Z"
   },
   {
    "duration": 7,
    "start_time": "2023-03-08T17:45:56.611Z"
   },
   {
    "duration": 9,
    "start_time": "2023-03-08T17:45:56.654Z"
   },
   {
    "duration": 7,
    "start_time": "2023-03-08T17:45:56.665Z"
   },
   {
    "duration": 6,
    "start_time": "2023-03-08T17:45:56.675Z"
   },
   {
    "duration": 20,
    "start_time": "2023-03-08T17:45:56.683Z"
   },
   {
    "duration": 496,
    "start_time": "2023-03-08T17:45:56.705Z"
   },
   {
    "duration": 10,
    "start_time": "2023-03-08T17:45:57.203Z"
   },
   {
    "duration": 13,
    "start_time": "2023-03-08T17:45:57.214Z"
   },
   {
    "duration": 27,
    "start_time": "2023-03-08T17:45:57.228Z"
   },
   {
    "duration": 8,
    "start_time": "2023-03-08T17:45:57.256Z"
   },
   {
    "duration": 6,
    "start_time": "2023-03-08T17:45:57.265Z"
   },
   {
    "duration": 12,
    "start_time": "2023-03-08T17:45:57.272Z"
   },
   {
    "duration": 10,
    "start_time": "2023-03-08T17:45:57.286Z"
   },
   {
    "duration": 17,
    "start_time": "2023-03-08T17:45:57.298Z"
   },
   {
    "duration": 40,
    "start_time": "2023-03-08T17:45:57.317Z"
   },
   {
    "duration": 12,
    "start_time": "2023-03-08T17:45:57.359Z"
   },
   {
    "duration": 3,
    "start_time": "2023-03-08T17:45:57.373Z"
   },
   {
    "duration": 24,
    "start_time": "2023-03-08T17:45:57.378Z"
   },
   {
    "duration": 8,
    "start_time": "2023-03-08T17:45:57.404Z"
   },
   {
    "duration": 227,
    "start_time": "2023-03-08T17:45:57.413Z"
   },
   {
    "duration": 17,
    "start_time": "2023-03-08T17:45:57.641Z"
   },
   {
    "duration": 18,
    "start_time": "2023-03-08T17:45:57.660Z"
   },
   {
    "duration": 10,
    "start_time": "2023-03-08T17:45:57.681Z"
   },
   {
    "duration": 10,
    "start_time": "2023-03-08T17:45:57.692Z"
   },
   {
    "duration": 291,
    "start_time": "2023-03-08T17:45:57.703Z"
   },
   {
    "duration": 13,
    "start_time": "2023-03-08T17:45:58.000Z"
   },
   {
    "duration": 8,
    "start_time": "2023-03-08T17:45:58.014Z"
   },
   {
    "duration": 8,
    "start_time": "2023-03-08T17:45:58.024Z"
   },
   {
    "duration": 44,
    "start_time": "2023-03-08T17:45:58.034Z"
   },
   {
    "duration": 15,
    "start_time": "2023-03-08T17:45:58.079Z"
   },
   {
    "duration": 15,
    "start_time": "2023-03-08T17:45:58.096Z"
   },
   {
    "duration": 259,
    "start_time": "2023-03-08T17:45:58.112Z"
   },
   {
    "duration": 7,
    "start_time": "2023-03-08T17:45:58.373Z"
   },
   {
    "duration": 16,
    "start_time": "2023-03-08T17:45:58.382Z"
   },
   {
    "duration": 344,
    "start_time": "2023-03-08T17:45:58.400Z"
   },
   {
    "duration": 34,
    "start_time": "2023-03-08T17:45:58.746Z"
   },
   {
    "duration": 373,
    "start_time": "2023-03-08T17:45:58.782Z"
   },
   {
    "duration": 25,
    "start_time": "2023-03-08T17:45:59.157Z"
   },
   {
    "duration": 6,
    "start_time": "2023-03-08T17:45:59.183Z"
   },
   {
    "duration": 177,
    "start_time": "2023-03-08T17:45:59.190Z"
   },
   {
    "duration": 6,
    "start_time": "2023-03-08T17:45:59.369Z"
   },
   {
    "duration": 157,
    "start_time": "2023-03-08T17:45:59.377Z"
   },
   {
    "duration": 38,
    "start_time": "2023-03-08T17:45:59.537Z"
   },
   {
    "duration": 181,
    "start_time": "2023-03-08T17:45:59.577Z"
   },
   {
    "duration": 524,
    "start_time": "2023-03-08T17:45:59.759Z"
   },
   {
    "duration": 238,
    "start_time": "2023-03-08T17:46:00.285Z"
   },
   {
    "duration": 236,
    "start_time": "2023-03-08T17:46:00.524Z"
   },
   {
    "duration": 243,
    "start_time": "2023-03-08T17:46:00.762Z"
   },
   {
    "duration": 6,
    "start_time": "2023-03-08T17:46:01.007Z"
   },
   {
    "duration": 23,
    "start_time": "2023-03-08T17:46:01.015Z"
   },
   {
    "duration": 52,
    "start_time": "2023-03-08T17:46:01.040Z"
   },
   {
    "duration": 50,
    "start_time": "2023-03-08T17:46:01.094Z"
   },
   {
    "duration": 238,
    "start_time": "2023-03-08T17:46:01.146Z"
   },
   {
    "duration": 6,
    "start_time": "2023-03-08T17:46:01.385Z"
   },
   {
    "duration": 42,
    "start_time": "2023-03-08T17:46:01.393Z"
   },
   {
    "duration": 32,
    "start_time": "2023-03-08T17:46:01.437Z"
   },
   {
    "duration": 24,
    "start_time": "2023-03-08T17:46:01.471Z"
   },
   {
    "duration": 26,
    "start_time": "2023-03-08T17:46:01.497Z"
   },
   {
    "duration": 45,
    "start_time": "2023-03-08T17:46:01.525Z"
   },
   {
    "duration": 27,
    "start_time": "2023-03-08T17:46:01.571Z"
   },
   {
    "duration": 15,
    "start_time": "2023-03-08T17:46:01.600Z"
   },
   {
    "duration": 29,
    "start_time": "2023-03-08T17:46:01.617Z"
   },
   {
    "duration": 66,
    "start_time": "2023-03-09T07:24:25.898Z"
   },
   {
    "duration": 8,
    "start_time": "2023-03-09T07:25:35.537Z"
   },
   {
    "duration": 1504,
    "start_time": "2023-03-09T07:25:40.928Z"
   },
   {
    "duration": 96,
    "start_time": "2023-03-09T07:25:42.435Z"
   },
   {
    "duration": 29,
    "start_time": "2023-03-09T07:25:42.533Z"
   },
   {
    "duration": 19,
    "start_time": "2023-03-09T07:25:42.564Z"
   },
   {
    "duration": 61,
    "start_time": "2023-03-09T07:25:42.585Z"
   },
   {
    "duration": 88,
    "start_time": "2023-03-09T07:25:42.648Z"
   },
   {
    "duration": 23,
    "start_time": "2023-03-09T07:25:42.738Z"
   },
   {
    "duration": 9,
    "start_time": "2023-03-09T07:25:42.763Z"
   },
   {
    "duration": 25,
    "start_time": "2023-03-09T07:25:42.774Z"
   },
   {
    "duration": 4,
    "start_time": "2023-03-09T07:25:42.802Z"
   },
   {
    "duration": 222,
    "start_time": "2023-03-09T07:25:42.857Z"
   },
   {
    "duration": 3,
    "start_time": "2023-03-09T07:26:42.275Z"
   },
   {
    "duration": 9,
    "start_time": "2023-03-09T07:26:42.745Z"
   },
   {
    "duration": 25,
    "start_time": "2023-03-09T07:26:52.419Z"
   },
   {
    "duration": 7,
    "start_time": "2023-03-09T07:26:53.196Z"
   },
   {
    "duration": 6,
    "start_time": "2023-03-09T07:26:53.468Z"
   },
   {
    "duration": 7,
    "start_time": "2023-03-09T07:26:53.956Z"
   },
   {
    "duration": 7,
    "start_time": "2023-03-09T07:27:02.375Z"
   },
   {
    "duration": 4,
    "start_time": "2023-03-09T07:27:05.762Z"
   },
   {
    "duration": 7,
    "start_time": "2023-03-09T07:27:06.616Z"
   },
   {
    "duration": 504,
    "start_time": "2023-03-09T07:27:07.701Z"
   },
   {
    "duration": 10,
    "start_time": "2023-03-09T07:27:17.253Z"
   },
   {
    "duration": 14,
    "start_time": "2023-03-09T07:27:21.674Z"
   },
   {
    "duration": 9,
    "start_time": "2023-03-09T07:27:28.759Z"
   },
   {
    "duration": 3,
    "start_time": "2023-03-09T07:56:43.103Z"
   },
   {
    "duration": 69,
    "start_time": "2023-03-09T07:56:43.851Z"
   },
   {
    "duration": 34,
    "start_time": "2023-03-09T07:56:44.062Z"
   },
   {
    "duration": 16,
    "start_time": "2023-03-09T07:56:44.567Z"
   },
   {
    "duration": 42,
    "start_time": "2023-03-09T07:56:44.648Z"
   },
   {
    "duration": 24,
    "start_time": "2023-03-09T07:56:45.112Z"
   },
   {
    "duration": 16,
    "start_time": "2023-03-09T07:56:45.153Z"
   },
   {
    "duration": 10,
    "start_time": "2023-03-09T07:56:45.778Z"
   },
   {
    "duration": 21,
    "start_time": "2023-03-09T07:56:45.821Z"
   },
   {
    "duration": 6,
    "start_time": "2023-03-09T07:56:46.213Z"
   },
   {
    "duration": 208,
    "start_time": "2023-03-09T07:56:46.303Z"
   },
   {
    "duration": 4,
    "start_time": "2023-03-09T07:56:46.720Z"
   },
   {
    "duration": 15,
    "start_time": "2023-03-09T07:56:46.808Z"
   },
   {
    "duration": 28,
    "start_time": "2023-03-09T07:56:47.830Z"
   },
   {
    "duration": 11,
    "start_time": "2023-03-09T07:56:48.074Z"
   },
   {
    "duration": 7,
    "start_time": "2023-03-09T07:56:48.157Z"
   },
   {
    "duration": 10,
    "start_time": "2023-03-09T07:56:48.247Z"
   },
   {
    "duration": 7,
    "start_time": "2023-03-09T07:56:48.507Z"
   },
   {
    "duration": 6,
    "start_time": "2023-03-09T07:56:48.571Z"
   },
   {
    "duration": 7,
    "start_time": "2023-03-09T07:56:48.748Z"
   },
   {
    "duration": 570,
    "start_time": "2023-03-09T07:56:48.828Z"
   },
   {
    "duration": 10,
    "start_time": "2023-03-09T07:56:49.519Z"
   },
   {
    "duration": 24,
    "start_time": "2023-03-09T07:56:50.028Z"
   },
   {
    "duration": 8,
    "start_time": "2023-03-09T07:56:50.271Z"
   },
   {
    "duration": 8,
    "start_time": "2023-03-09T07:56:52.671Z"
   },
   {
    "duration": 5,
    "start_time": "2023-03-09T07:56:53.256Z"
   },
   {
    "duration": 15,
    "start_time": "2023-03-09T07:56:53.347Z"
   },
   {
    "duration": 13,
    "start_time": "2023-03-09T07:56:53.505Z"
   },
   {
    "duration": 19,
    "start_time": "2023-03-09T07:56:53.582Z"
   },
   {
    "duration": 6,
    "start_time": "2023-03-09T07:56:54.004Z"
   },
   {
    "duration": 15,
    "start_time": "2023-03-09T07:56:58.608Z"
   },
   {
    "duration": 4,
    "start_time": "2023-03-09T07:56:58.905Z"
   },
   {
    "duration": 23,
    "start_time": "2023-03-09T07:56:59.635Z"
   },
   {
    "duration": 12,
    "start_time": "2023-03-09T07:57:03.389Z"
   },
   {
    "duration": 3,
    "start_time": "2023-03-09T07:57:03.867Z"
   },
   {
    "duration": 250,
    "start_time": "2023-03-09T07:57:06.570Z"
   },
   {
    "duration": 191,
    "start_time": "2023-03-09T07:57:35.163Z"
   },
   {
    "duration": 227,
    "start_time": "2023-03-09T07:57:44.223Z"
   },
   {
    "duration": 204,
    "start_time": "2023-03-09T07:58:14.105Z"
   },
   {
    "duration": 305,
    "start_time": "2023-03-09T07:58:26.987Z"
   },
   {
    "duration": 225,
    "start_time": "2023-03-09T07:59:02.706Z"
   },
   {
    "duration": 260,
    "start_time": "2023-03-09T08:01:29.121Z"
   },
   {
    "duration": 197,
    "start_time": "2023-03-09T08:01:39.908Z"
   },
   {
    "duration": 187,
    "start_time": "2023-03-09T08:01:50.425Z"
   },
   {
    "duration": 10,
    "start_time": "2023-03-09T08:01:51.384Z"
   },
   {
    "duration": 11,
    "start_time": "2023-03-09T08:11:53.173Z"
   },
   {
    "duration": 11,
    "start_time": "2023-03-09T08:12:18.784Z"
   },
   {
    "duration": 8,
    "start_time": "2023-03-09T08:12:27.148Z"
   },
   {
    "duration": 7,
    "start_time": "2023-03-09T08:12:31.097Z"
   },
   {
    "duration": 8,
    "start_time": "2023-03-09T08:12:31.380Z"
   },
   {
    "duration": 12,
    "start_time": "2023-03-09T08:12:32.202Z"
   },
   {
    "duration": 6,
    "start_time": "2023-03-09T08:12:32.577Z"
   },
   {
    "duration": 83,
    "start_time": "2023-03-09T08:12:42.107Z"
   },
   {
    "duration": 3,
    "start_time": "2023-03-09T08:13:20.649Z"
   },
   {
    "duration": 53,
    "start_time": "2023-03-09T08:13:21.745Z"
   },
   {
    "duration": 25,
    "start_time": "2023-03-09T08:13:22.098Z"
   },
   {
    "duration": 20,
    "start_time": "2023-03-09T08:13:31.177Z"
   },
   {
    "duration": 30,
    "start_time": "2023-03-09T08:13:31.543Z"
   },
   {
    "duration": 22,
    "start_time": "2023-03-09T08:13:41.126Z"
   },
   {
    "duration": 18,
    "start_time": "2023-03-09T08:13:43.465Z"
   },
   {
    "duration": 8,
    "start_time": "2023-03-09T08:13:45.016Z"
   },
   {
    "duration": 16,
    "start_time": "2023-03-09T08:13:45.426Z"
   },
   {
    "duration": 4,
    "start_time": "2023-03-09T08:13:47.520Z"
   },
   {
    "duration": 160,
    "start_time": "2023-03-09T08:13:47.800Z"
   },
   {
    "duration": 3,
    "start_time": "2023-03-09T08:13:49.606Z"
   },
   {
    "duration": 10,
    "start_time": "2023-03-09T08:13:50.211Z"
   },
   {
    "duration": 16,
    "start_time": "2023-03-09T08:13:51.003Z"
   },
   {
    "duration": 7,
    "start_time": "2023-03-09T08:13:51.936Z"
   },
   {
    "duration": 7,
    "start_time": "2023-03-09T08:13:52.179Z"
   },
   {
    "duration": 8,
    "start_time": "2023-03-09T08:13:52.434Z"
   },
   {
    "duration": 5,
    "start_time": "2023-03-09T08:13:53.180Z"
   },
   {
    "duration": 6,
    "start_time": "2023-03-09T08:13:53.379Z"
   },
   {
    "duration": 6,
    "start_time": "2023-03-09T08:13:53.844Z"
   },
   {
    "duration": 438,
    "start_time": "2023-03-09T08:13:54.231Z"
   },
   {
    "duration": 9,
    "start_time": "2023-03-09T08:13:55.046Z"
   },
   {
    "duration": 14,
    "start_time": "2023-03-09T08:13:55.376Z"
   },
   {
    "duration": 7,
    "start_time": "2023-03-09T08:13:56.168Z"
   },
   {
    "duration": 12,
    "start_time": "2023-03-09T08:13:56.632Z"
   },
   {
    "duration": 5,
    "start_time": "2023-03-09T08:13:57.309Z"
   },
   {
    "duration": 15,
    "start_time": "2023-03-09T08:13:57.522Z"
   },
   {
    "duration": 12,
    "start_time": "2023-03-09T08:13:59.910Z"
   },
   {
    "duration": 27,
    "start_time": "2023-03-09T08:14:00.256Z"
   },
   {
    "duration": 6,
    "start_time": "2023-03-09T08:14:01.160Z"
   },
   {
    "duration": 15,
    "start_time": "2023-03-09T08:14:02.196Z"
   },
   {
    "duration": 3,
    "start_time": "2023-03-09T08:14:02.610Z"
   },
   {
    "duration": 23,
    "start_time": "2023-03-09T08:14:02.997Z"
   },
   {
    "duration": 9,
    "start_time": "2023-03-09T08:14:05.273Z"
   },
   {
    "duration": 3,
    "start_time": "2023-03-09T08:14:05.736Z"
   },
   {
    "duration": 188,
    "start_time": "2023-03-09T08:14:16.340Z"
   },
   {
    "duration": 171,
    "start_time": "2023-03-09T08:14:17.075Z"
   },
   {
    "duration": 10,
    "start_time": "2023-03-09T08:14:21.712Z"
   },
   {
    "duration": 29,
    "start_time": "2023-03-09T08:14:32.167Z"
   },
   {
    "duration": 9,
    "start_time": "2023-03-09T08:14:34.081Z"
   },
   {
    "duration": 11,
    "start_time": "2023-03-09T08:14:34.705Z"
   },
   {
    "duration": 260,
    "start_time": "2023-03-09T08:14:57.749Z"
   },
   {
    "duration": 23,
    "start_time": "2023-03-09T08:14:58.011Z"
   },
   {
    "duration": 10,
    "start_time": "2023-03-09T08:14:58.752Z"
   },
   {
    "duration": 10,
    "start_time": "2023-03-09T08:15:02.761Z"
   },
   {
    "duration": 30,
    "start_time": "2023-03-09T08:15:05.332Z"
   },
   {
    "duration": 15,
    "start_time": "2023-03-09T08:15:08.475Z"
   },
   {
    "duration": 13,
    "start_time": "2023-03-09T08:15:09.190Z"
   },
   {
    "duration": 198,
    "start_time": "2023-03-09T08:15:10.593Z"
   },
   {
    "duration": 3,
    "start_time": "2023-03-09T08:16:25.088Z"
   },
   {
    "duration": 7,
    "start_time": "2023-03-09T08:16:42.680Z"
   },
   {
    "duration": 7,
    "start_time": "2023-03-09T08:18:38.558Z"
   },
   {
    "duration": 18,
    "start_time": "2023-03-09T08:18:39.489Z"
   },
   {
    "duration": 343,
    "start_time": "2023-03-09T08:18:42.217Z"
   },
   {
    "duration": 5,
    "start_time": "2023-03-09T08:19:06.910Z"
   },
   {
    "duration": 13,
    "start_time": "2023-03-09T08:19:09.519Z"
   },
   {
    "duration": 300,
    "start_time": "2023-03-09T08:19:09.848Z"
   },
   {
    "duration": 6,
    "start_time": "2023-03-09T08:19:20.118Z"
   },
   {
    "duration": 12,
    "start_time": "2023-03-09T08:19:21.592Z"
   },
   {
    "duration": 387,
    "start_time": "2023-03-09T08:19:22.180Z"
   },
   {
    "duration": 3,
    "start_time": "2023-03-09T08:41:16.653Z"
   },
   {
    "duration": 50,
    "start_time": "2023-03-09T08:41:16.896Z"
   },
   {
    "duration": 21,
    "start_time": "2023-03-09T08:41:16.998Z"
   },
   {
    "duration": 14,
    "start_time": "2023-03-09T08:41:17.087Z"
   },
   {
    "duration": 35,
    "start_time": "2023-03-09T08:41:17.425Z"
   },
   {
    "duration": 15,
    "start_time": "2023-03-09T08:41:17.882Z"
   },
   {
    "duration": 14,
    "start_time": "2023-03-09T08:41:17.926Z"
   },
   {
    "duration": 6,
    "start_time": "2023-03-09T08:41:18.607Z"
   },
   {
    "duration": 16,
    "start_time": "2023-03-09T08:41:18.679Z"
   },
   {
    "duration": 4,
    "start_time": "2023-03-09T08:41:19.287Z"
   },
   {
    "duration": 159,
    "start_time": "2023-03-09T08:41:19.380Z"
   },
   {
    "duration": 3,
    "start_time": "2023-03-09T08:41:19.785Z"
   },
   {
    "duration": 10,
    "start_time": "2023-03-09T08:41:19.882Z"
   },
   {
    "duration": 16,
    "start_time": "2023-03-09T08:41:20.036Z"
   },
   {
    "duration": 8,
    "start_time": "2023-03-09T08:41:20.304Z"
   },
   {
    "duration": 6,
    "start_time": "2023-03-09T08:41:20.383Z"
   },
   {
    "duration": 8,
    "start_time": "2023-03-09T08:41:20.453Z"
   },
   {
    "duration": 5,
    "start_time": "2023-03-09T08:41:20.710Z"
   },
   {
    "duration": 5,
    "start_time": "2023-03-09T08:41:20.789Z"
   },
   {
    "duration": 5,
    "start_time": "2023-03-09T08:41:20.955Z"
   },
   {
    "duration": 435,
    "start_time": "2023-03-09T08:41:21.039Z"
   },
   {
    "duration": 9,
    "start_time": "2023-03-09T08:41:21.476Z"
   },
   {
    "duration": 14,
    "start_time": "2023-03-09T08:41:21.487Z"
   },
   {
    "duration": 8,
    "start_time": "2023-03-09T08:41:22.625Z"
   },
   {
    "duration": 9,
    "start_time": "2023-03-09T08:41:22.787Z"
   },
   {
    "duration": 5,
    "start_time": "2023-03-09T08:41:22.951Z"
   },
   {
    "duration": 12,
    "start_time": "2023-03-09T08:41:23.051Z"
   },
   {
    "duration": 12,
    "start_time": "2023-03-09T08:41:23.220Z"
   },
   {
    "duration": 19,
    "start_time": "2023-03-09T08:41:23.307Z"
   },
   {
    "duration": 5,
    "start_time": "2023-03-09T08:41:24.755Z"
   },
   {
    "duration": 14,
    "start_time": "2023-03-09T08:41:24.915Z"
   },
   {
    "duration": 3,
    "start_time": "2023-03-09T08:41:25.007Z"
   },
   {
    "duration": 26,
    "start_time": "2023-03-09T08:41:25.101Z"
   },
   {
    "duration": 9,
    "start_time": "2023-03-09T08:41:29.683Z"
   },
   {
    "duration": 3,
    "start_time": "2023-03-09T08:41:29.746Z"
   },
   {
    "duration": 183,
    "start_time": "2023-03-09T08:41:30.003Z"
   },
   {
    "duration": 170,
    "start_time": "2023-03-09T08:41:30.923Z"
   },
   {
    "duration": 8,
    "start_time": "2023-03-09T08:41:32.686Z"
   },
   {
    "duration": 22,
    "start_time": "2023-03-09T08:41:35.799Z"
   },
   {
    "duration": 9,
    "start_time": "2023-03-09T08:41:37.378Z"
   },
   {
    "duration": 10,
    "start_time": "2023-03-09T08:41:37.825Z"
   },
   {
    "duration": 270,
    "start_time": "2023-03-09T08:41:38.813Z"
   },
   {
    "duration": 11,
    "start_time": "2023-03-09T08:41:39.691Z"
   },
   {
    "duration": 7,
    "start_time": "2023-03-09T08:41:43.111Z"
   },
   {
    "duration": 11,
    "start_time": "2023-03-09T08:42:05.778Z"
   },
   {
    "duration": 7,
    "start_time": "2023-03-09T08:42:08.788Z"
   },
   {
    "duration": 7,
    "start_time": "2023-03-09T08:42:12.775Z"
   },
   {
    "duration": 23,
    "start_time": "2023-03-09T08:42:12.992Z"
   },
   {
    "duration": 12,
    "start_time": "2023-03-09T08:42:13.338Z"
   },
   {
    "duration": 12,
    "start_time": "2023-03-09T08:42:15.653Z"
   },
   {
    "duration": 209,
    "start_time": "2023-03-09T08:42:16.314Z"
   },
   {
    "duration": 2,
    "start_time": "2023-03-09T08:42:38.380Z"
   },
   {
    "duration": 7,
    "start_time": "2023-03-09T08:42:41.744Z"
   },
   {
    "duration": 13,
    "start_time": "2023-03-09T08:42:44.432Z"
   },
   {
    "duration": 274,
    "start_time": "2023-03-09T08:42:44.957Z"
   },
   {
    "duration": 24,
    "start_time": "2023-03-09T08:43:05.723Z"
   },
   {
    "duration": 12,
    "start_time": "2023-03-09T08:43:45.293Z"
   },
   {
    "duration": 262,
    "start_time": "2023-03-09T08:43:46.061Z"
   },
   {
    "duration": 17,
    "start_time": "2023-03-09T08:45:18.904Z"
   },
   {
    "duration": 17,
    "start_time": "2023-03-09T08:45:27.961Z"
   },
   {
    "duration": 22,
    "start_time": "2023-03-09T08:45:45.312Z"
   },
   {
    "duration": 14,
    "start_time": "2023-03-09T08:46:00.722Z"
   },
   {
    "duration": 19,
    "start_time": "2023-03-09T08:46:16.748Z"
   },
   {
    "duration": 2,
    "start_time": "2023-03-09T08:47:24.299Z"
   },
   {
    "duration": 363,
    "start_time": "2023-03-09T08:49:20.109Z"
   },
   {
    "duration": 161,
    "start_time": "2023-03-09T08:54:30.353Z"
   },
   {
    "duration": 559,
    "start_time": "2023-03-09T09:10:59.884Z"
   },
   {
    "duration": 168,
    "start_time": "2023-03-09T09:11:03.700Z"
   },
   {
    "duration": 158,
    "start_time": "2023-03-09T09:11:27.556Z"
   },
   {
    "duration": 159,
    "start_time": "2023-03-09T09:11:37.221Z"
   },
   {
    "duration": 548,
    "start_time": "2023-03-09T09:12:18.644Z"
   },
   {
    "duration": 169,
    "start_time": "2023-03-09T09:12:19.194Z"
   },
   {
    "duration": 182,
    "start_time": "2023-03-09T09:12:21.081Z"
   },
   {
    "duration": 153,
    "start_time": "2023-03-09T09:12:21.680Z"
   },
   {
    "duration": 683,
    "start_time": "2023-03-09T09:18:47.750Z"
   },
   {
    "duration": 3,
    "start_time": "2023-03-09T09:34:32.827Z"
   },
   {
    "duration": 54,
    "start_time": "2023-03-09T09:34:33.104Z"
   },
   {
    "duration": 20,
    "start_time": "2023-03-09T09:34:33.160Z"
   },
   {
    "duration": 14,
    "start_time": "2023-03-09T09:34:33.248Z"
   },
   {
    "duration": 28,
    "start_time": "2023-03-09T09:34:33.603Z"
   },
   {
    "duration": 15,
    "start_time": "2023-03-09T09:34:33.722Z"
   },
   {
    "duration": 22,
    "start_time": "2023-03-09T09:34:34.063Z"
   },
   {
    "duration": 9,
    "start_time": "2023-03-09T09:34:34.720Z"
   },
   {
    "duration": 17,
    "start_time": "2023-03-09T09:34:34.788Z"
   },
   {
    "duration": 5,
    "start_time": "2023-03-09T09:34:35.008Z"
   },
   {
    "duration": 169,
    "start_time": "2023-03-09T09:34:35.062Z"
   },
   {
    "duration": 4,
    "start_time": "2023-03-09T09:34:35.240Z"
   },
   {
    "duration": 11,
    "start_time": "2023-03-09T09:34:35.301Z"
   },
   {
    "duration": 16,
    "start_time": "2023-03-09T09:34:35.413Z"
   },
   {
    "duration": 7,
    "start_time": "2023-03-09T09:34:35.542Z"
   },
   {
    "duration": 8,
    "start_time": "2023-03-09T09:34:35.604Z"
   },
   {
    "duration": 8,
    "start_time": "2023-03-09T09:34:35.655Z"
   },
   {
    "duration": 5,
    "start_time": "2023-03-09T09:34:35.842Z"
   },
   {
    "duration": 4,
    "start_time": "2023-03-09T09:34:35.922Z"
   },
   {
    "duration": 5,
    "start_time": "2023-03-09T09:34:36.104Z"
   },
   {
    "duration": 477,
    "start_time": "2023-03-09T09:34:36.173Z"
   },
   {
    "duration": 12,
    "start_time": "2023-03-09T09:34:36.653Z"
   },
   {
    "duration": 29,
    "start_time": "2023-03-09T09:34:36.667Z"
   },
   {
    "duration": 11,
    "start_time": "2023-03-09T09:34:36.699Z"
   },
   {
    "duration": 12,
    "start_time": "2023-03-09T09:34:36.772Z"
   },
   {
    "duration": 7,
    "start_time": "2023-03-09T09:34:36.939Z"
   },
   {
    "duration": 13,
    "start_time": "2023-03-09T09:34:37.016Z"
   },
   {
    "duration": 11,
    "start_time": "2023-03-09T09:34:37.204Z"
   },
   {
    "duration": 20,
    "start_time": "2023-03-09T09:34:37.270Z"
   },
   {
    "duration": 5,
    "start_time": "2023-03-09T09:34:37.851Z"
   },
   {
    "duration": 14,
    "start_time": "2023-03-09T09:34:38.432Z"
   },
   {
    "duration": 6,
    "start_time": "2023-03-09T09:34:38.516Z"
   },
   {
    "duration": 23,
    "start_time": "2023-03-09T09:34:38.605Z"
   },
   {
    "duration": 9,
    "start_time": "2023-03-09T09:34:39.068Z"
   },
   {
    "duration": 2,
    "start_time": "2023-03-09T09:34:39.116Z"
   },
   {
    "duration": 180,
    "start_time": "2023-03-09T09:34:39.263Z"
   },
   {
    "duration": 189,
    "start_time": "2023-03-09T09:34:39.445Z"
   },
   {
    "duration": 8,
    "start_time": "2023-03-09T09:34:39.636Z"
   },
   {
    "duration": 38,
    "start_time": "2023-03-09T09:34:39.646Z"
   },
   {
    "duration": 9,
    "start_time": "2023-03-09T09:34:40.976Z"
   },
   {
    "duration": 10,
    "start_time": "2023-03-09T09:34:41.048Z"
   },
   {
    "duration": 254,
    "start_time": "2023-03-09T09:34:41.221Z"
   },
   {
    "duration": 12,
    "start_time": "2023-03-09T09:34:42.065Z"
   },
   {
    "duration": 7,
    "start_time": "2023-03-09T09:34:42.652Z"
   },
   {
    "duration": 8,
    "start_time": "2023-03-09T09:34:43.019Z"
   },
   {
    "duration": 22,
    "start_time": "2023-03-09T09:34:43.069Z"
   },
   {
    "duration": 13,
    "start_time": "2023-03-09T09:34:43.121Z"
   },
   {
    "duration": 14,
    "start_time": "2023-03-09T09:34:43.473Z"
   },
   {
    "duration": 213,
    "start_time": "2023-03-09T09:34:43.523Z"
   },
   {
    "duration": 2,
    "start_time": "2023-03-09T09:34:47.333Z"
   },
   {
    "duration": 5,
    "start_time": "2023-03-09T09:34:48.224Z"
   },
   {
    "duration": 13,
    "start_time": "2023-03-09T09:34:48.651Z"
   },
   {
    "duration": 289,
    "start_time": "2023-03-09T09:34:56.092Z"
   },
   {
    "duration": 22,
    "start_time": "2023-03-09T09:35:02.830Z"
   },
   {
    "duration": 33,
    "start_time": "2023-03-09T09:35:18.104Z"
   },
   {
    "duration": 3,
    "start_time": "2023-03-09T09:35:19.620Z"
   },
   {
    "duration": 239,
    "start_time": "2023-03-09T09:35:20.866Z"
   },
   {
    "duration": 269,
    "start_time": "2023-03-09T09:35:53.416Z"
   },
   {
    "duration": 14,
    "start_time": "2023-03-09T09:41:08.952Z"
   },
   {
    "duration": 22,
    "start_time": "2023-03-09T09:41:23.304Z"
   },
   {
    "duration": 4,
    "start_time": "2023-03-09T09:45:48.737Z"
   },
   {
    "duration": 59,
    "start_time": "2023-03-09T09:45:48.743Z"
   },
   {
    "duration": 21,
    "start_time": "2023-03-09T09:45:48.804Z"
   },
   {
    "duration": 23,
    "start_time": "2023-03-09T09:45:48.827Z"
   },
   {
    "duration": 30,
    "start_time": "2023-03-09T09:45:48.852Z"
   },
   {
    "duration": 14,
    "start_time": "2023-03-09T09:45:48.884Z"
   },
   {
    "duration": 36,
    "start_time": "2023-03-09T09:45:48.900Z"
   },
   {
    "duration": 9,
    "start_time": "2023-03-09T09:45:48.938Z"
   },
   {
    "duration": 26,
    "start_time": "2023-03-09T09:45:48.949Z"
   },
   {
    "duration": 5,
    "start_time": "2023-03-09T09:47:06.560Z"
   },
   {
    "duration": 214,
    "start_time": "2023-03-09T09:47:06.641Z"
   },
   {
    "duration": 4,
    "start_time": "2023-03-09T09:47:07.053Z"
   },
   {
    "duration": 15,
    "start_time": "2023-03-09T09:47:07.134Z"
   },
   {
    "duration": 18,
    "start_time": "2023-03-09T09:47:07.308Z"
   },
   {
    "duration": 7,
    "start_time": "2023-03-09T09:47:07.564Z"
   },
   {
    "duration": 7,
    "start_time": "2023-03-09T09:47:07.664Z"
   },
   {
    "duration": 8,
    "start_time": "2023-03-09T09:47:07.719Z"
   },
   {
    "duration": 6,
    "start_time": "2023-03-09T09:47:07.992Z"
   },
   {
    "duration": 5,
    "start_time": "2023-03-09T09:47:08.064Z"
   },
   {
    "duration": 8,
    "start_time": "2023-03-09T09:47:08.227Z"
   },
   {
    "duration": 481,
    "start_time": "2023-03-09T09:47:08.308Z"
   },
   {
    "duration": 10,
    "start_time": "2023-03-09T09:47:08.791Z"
   },
   {
    "duration": 30,
    "start_time": "2023-03-09T09:47:08.803Z"
   },
   {
    "duration": 24,
    "start_time": "2023-03-09T09:47:08.836Z"
   },
   {
    "duration": 8,
    "start_time": "2023-03-09T09:47:08.899Z"
   },
   {
    "duration": 5,
    "start_time": "2023-03-09T09:47:09.068Z"
   },
   {
    "duration": 14,
    "start_time": "2023-03-09T09:47:09.172Z"
   },
   {
    "duration": 11,
    "start_time": "2023-03-09T09:47:09.319Z"
   },
   {
    "duration": 19,
    "start_time": "2023-03-09T09:47:09.409Z"
   },
   {
    "duration": 7,
    "start_time": "2023-03-09T09:47:09.829Z"
   },
   {
    "duration": 13,
    "start_time": "2023-03-09T09:47:09.907Z"
   },
   {
    "duration": 2,
    "start_time": "2023-03-09T09:47:09.992Z"
   },
   {
    "duration": 23,
    "start_time": "2023-03-09T09:47:10.046Z"
   },
   {
    "duration": 9,
    "start_time": "2023-03-09T09:47:10.492Z"
   },
   {
    "duration": 2,
    "start_time": "2023-03-09T09:47:10.523Z"
   },
   {
    "duration": 189,
    "start_time": "2023-03-09T09:47:10.676Z"
   },
   {
    "duration": 201,
    "start_time": "2023-03-09T09:47:10.867Z"
   },
   {
    "duration": 8,
    "start_time": "2023-03-09T09:47:11.070Z"
   },
   {
    "duration": 21,
    "start_time": "2023-03-09T09:47:11.079Z"
   },
   {
    "duration": 10,
    "start_time": "2023-03-09T09:47:11.425Z"
   },
   {
    "duration": 10,
    "start_time": "2023-03-09T09:47:11.489Z"
   },
   {
    "duration": 285,
    "start_time": "2023-03-09T09:47:11.604Z"
   },
   {
    "duration": 11,
    "start_time": "2023-03-09T09:47:11.892Z"
   },
   {
    "duration": 18,
    "start_time": "2023-03-09T09:47:11.905Z"
   },
   {
    "duration": 11,
    "start_time": "2023-03-09T09:47:11.930Z"
   },
   {
    "duration": 28,
    "start_time": "2023-03-09T09:47:11.944Z"
   },
   {
    "duration": 13,
    "start_time": "2023-03-09T09:47:12.284Z"
   },
   {
    "duration": 12,
    "start_time": "2023-03-09T09:47:13.515Z"
   },
   {
    "duration": 227,
    "start_time": "2023-03-09T09:47:14.020Z"
   },
   {
    "duration": 3,
    "start_time": "2023-03-09T09:47:14.515Z"
   },
   {
    "duration": 6,
    "start_time": "2023-03-09T09:47:14.694Z"
   },
   {
    "duration": 13,
    "start_time": "2023-03-09T09:47:14.776Z"
   },
   {
    "duration": 311,
    "start_time": "2023-03-09T09:47:14.846Z"
   },
   {
    "duration": 33,
    "start_time": "2023-03-09T09:47:16.764Z"
   },
   {
    "duration": 21,
    "start_time": "2023-03-09T09:47:17.180Z"
   },
   {
    "duration": 2,
    "start_time": "2023-03-09T09:47:17.209Z"
   },
   {
    "duration": 311,
    "start_time": "2023-03-09T09:47:17.296Z"
   },
   {
    "duration": 25,
    "start_time": "2023-03-09T09:47:17.689Z"
   },
   {
    "duration": 5,
    "start_time": "2023-03-09T09:47:21.223Z"
   },
   {
    "duration": 167,
    "start_time": "2023-03-09T09:47:22.168Z"
   },
   {
    "duration": 7,
    "start_time": "2023-03-09T09:47:22.475Z"
   },
   {
    "duration": 169,
    "start_time": "2023-03-09T09:47:22.708Z"
   },
   {
    "duration": 26,
    "start_time": "2023-03-09T09:47:22.910Z"
   },
   {
    "duration": 190,
    "start_time": "2023-03-09T09:47:25.543Z"
   },
   {
    "duration": 20,
    "start_time": "2023-03-09T09:48:51.557Z"
   },
   {
    "duration": 78794,
    "start_time": "2023-03-09T09:48:51.579Z"
   },
   {
    "duration": 11,
    "start_time": "2023-03-09T09:58:50.009Z"
   },
   {
    "duration": 34,
    "start_time": "2023-03-09T09:59:03.304Z"
   },
   {
    "duration": 12,
    "start_time": "2023-03-09T09:59:20.616Z"
   },
   {
    "duration": 290,
    "start_time": "2023-03-09T10:00:07.127Z"
   },
   {
    "duration": 311,
    "start_time": "2023-03-09T10:00:39.632Z"
   },
   {
    "duration": 282,
    "start_time": "2023-03-09T10:00:50.280Z"
   },
   {
    "duration": 338,
    "start_time": "2023-03-09T10:00:56.813Z"
   },
   {
    "duration": 333,
    "start_time": "2023-03-09T10:01:03.886Z"
   },
   {
    "duration": 120,
    "start_time": "2023-03-09T10:02:11.672Z"
   },
   {
    "duration": 290,
    "start_time": "2023-03-09T10:02:23.921Z"
   },
   {
    "duration": 312,
    "start_time": "2023-03-09T10:03:02.035Z"
   },
   {
    "duration": 365,
    "start_time": "2023-03-09T10:03:14.511Z"
   },
   {
    "duration": 4,
    "start_time": "2023-03-09T10:29:31.695Z"
   },
   {
    "duration": 56,
    "start_time": "2023-03-09T10:29:31.930Z"
   },
   {
    "duration": 22,
    "start_time": "2023-03-09T10:29:32.550Z"
   },
   {
    "duration": 14,
    "start_time": "2023-03-09T10:29:33.052Z"
   },
   {
    "duration": 29,
    "start_time": "2023-03-09T10:29:33.134Z"
   },
   {
    "duration": 16,
    "start_time": "2023-03-09T10:29:33.544Z"
   },
   {
    "duration": 14,
    "start_time": "2023-03-09T10:29:33.599Z"
   },
   {
    "duration": 9,
    "start_time": "2023-03-09T10:29:34.208Z"
   },
   {
    "duration": 18,
    "start_time": "2023-03-09T10:29:34.242Z"
   },
   {
    "duration": 4,
    "start_time": "2023-03-09T10:29:34.457Z"
   },
   {
    "duration": 164,
    "start_time": "2023-03-09T10:29:34.514Z"
   },
   {
    "duration": 4,
    "start_time": "2023-03-09T10:29:34.711Z"
   },
   {
    "duration": 9,
    "start_time": "2023-03-09T10:29:34.804Z"
   },
   {
    "duration": 17,
    "start_time": "2023-03-09T10:29:34.974Z"
   },
   {
    "duration": 7,
    "start_time": "2023-03-09T10:29:35.219Z"
   },
   {
    "duration": 6,
    "start_time": "2023-03-09T10:29:35.310Z"
   },
   {
    "duration": 7,
    "start_time": "2023-03-09T10:29:35.404Z"
   },
   {
    "duration": 5,
    "start_time": "2023-03-09T10:29:35.640Z"
   },
   {
    "duration": 4,
    "start_time": "2023-03-09T10:29:35.719Z"
   },
   {
    "duration": 5,
    "start_time": "2023-03-09T10:29:35.898Z"
   },
   {
    "duration": 446,
    "start_time": "2023-03-09T10:29:35.969Z"
   },
   {
    "duration": 9,
    "start_time": "2023-03-09T10:29:36.417Z"
   },
   {
    "duration": 17,
    "start_time": "2023-03-09T10:29:36.427Z"
   },
   {
    "duration": 14,
    "start_time": "2023-03-09T10:29:36.446Z"
   },
   {
    "duration": 12,
    "start_time": "2023-03-09T10:29:36.560Z"
   },
   {
    "duration": 6,
    "start_time": "2023-03-09T10:29:39.040Z"
   },
   {
    "duration": 14,
    "start_time": "2023-03-09T10:29:39.604Z"
   },
   {
    "duration": 12,
    "start_time": "2023-03-09T10:29:40.152Z"
   },
   {
    "duration": 19,
    "start_time": "2023-03-09T10:29:40.335Z"
   },
   {
    "duration": 6,
    "start_time": "2023-03-09T10:29:41.056Z"
   },
   {
    "duration": 13,
    "start_time": "2023-03-09T10:29:41.603Z"
   },
   {
    "duration": 3,
    "start_time": "2023-03-09T10:29:41.752Z"
   },
   {
    "duration": 23,
    "start_time": "2023-03-09T10:29:41.932Z"
   },
   {
    "duration": 8,
    "start_time": "2023-03-09T10:29:42.712Z"
   },
   {
    "duration": 2,
    "start_time": "2023-03-09T10:29:42.922Z"
   },
   {
    "duration": 186,
    "start_time": "2023-03-09T10:29:43.529Z"
   },
   {
    "duration": 181,
    "start_time": "2023-03-09T10:29:43.721Z"
   },
   {
    "duration": 10,
    "start_time": "2023-03-09T10:29:44.159Z"
   },
   {
    "duration": 23,
    "start_time": "2023-03-09T10:29:44.516Z"
   },
   {
    "duration": 9,
    "start_time": "2023-03-09T10:29:45.424Z"
   },
   {
    "duration": 10,
    "start_time": "2023-03-09T10:29:45.505Z"
   },
   {
    "duration": 278,
    "start_time": "2023-03-09T10:29:45.670Z"
   },
   {
    "duration": 11,
    "start_time": "2023-03-09T10:29:45.950Z"
   },
   {
    "duration": 9,
    "start_time": "2023-03-09T10:29:45.963Z"
   },
   {
    "duration": 9,
    "start_time": "2023-03-09T10:29:48.070Z"
   },
   {
    "duration": 22,
    "start_time": "2023-03-09T10:29:48.406Z"
   },
   {
    "duration": 13,
    "start_time": "2023-03-09T10:29:48.765Z"
   },
   {
    "duration": 12,
    "start_time": "2023-03-09T10:29:48.875Z"
   },
   {
    "duration": 215,
    "start_time": "2023-03-09T10:29:49.222Z"
   },
   {
    "duration": 3,
    "start_time": "2023-03-09T10:29:50.973Z"
   },
   {
    "duration": 6,
    "start_time": "2023-03-09T10:29:52.304Z"
   },
   {
    "duration": 14,
    "start_time": "2023-03-09T10:29:52.570Z"
   },
   {
    "duration": 302,
    "start_time": "2023-03-09T10:29:53.105Z"
   },
   {
    "duration": 33,
    "start_time": "2023-03-09T10:29:56.646Z"
   },
   {
    "duration": 25,
    "start_time": "2023-03-09T10:29:59.911Z"
   },
   {
    "duration": 2,
    "start_time": "2023-03-09T10:30:00.931Z"
   },
   {
    "duration": 25,
    "start_time": "2023-03-09T10:30:47.691Z"
   },
   {
    "duration": 50,
    "start_time": "2023-03-09T10:31:01.876Z"
   },
   {
    "duration": 18,
    "start_time": "2023-03-09T10:32:24.917Z"
   },
   {
    "duration": 276,
    "start_time": "2023-03-09T10:32:34.507Z"
   },
   {
    "duration": 292,
    "start_time": "2023-03-09T10:32:48.518Z"
   },
   {
    "duration": 293,
    "start_time": "2023-03-09T10:33:53.955Z"
   },
   {
    "duration": 335,
    "start_time": "2023-03-09T10:34:06.551Z"
   },
   {
    "duration": 268,
    "start_time": "2023-03-09T10:34:19.163Z"
   },
   {
    "duration": 266,
    "start_time": "2023-03-09T10:34:46.050Z"
   },
   {
    "duration": 272,
    "start_time": "2023-03-09T10:38:23.822Z"
   },
   {
    "duration": 288,
    "start_time": "2023-03-09T10:41:34.685Z"
   },
   {
    "duration": 3,
    "start_time": "2023-03-09T10:47:08.483Z"
   },
   {
    "duration": 265,
    "start_time": "2023-03-09T10:47:10.647Z"
   },
   {
    "duration": 290,
    "start_time": "2023-03-09T10:47:12.803Z"
   },
   {
    "duration": 3,
    "start_time": "2023-03-09T12:02:11.119Z"
   },
   {
    "duration": 58,
    "start_time": "2023-03-09T12:02:11.402Z"
   },
   {
    "duration": 21,
    "start_time": "2023-03-09T12:02:11.464Z"
   },
   {
    "duration": 14,
    "start_time": "2023-03-09T12:02:11.553Z"
   },
   {
    "duration": 31,
    "start_time": "2023-03-09T12:02:11.915Z"
   },
   {
    "duration": 19,
    "start_time": "2023-03-09T12:02:12.054Z"
   },
   {
    "duration": 16,
    "start_time": "2023-03-09T12:02:12.408Z"
   },
   {
    "duration": 8,
    "start_time": "2023-03-09T12:02:13.099Z"
   },
   {
    "duration": 15,
    "start_time": "2023-03-09T12:02:13.152Z"
   },
   {
    "duration": 4,
    "start_time": "2023-03-09T12:02:13.402Z"
   },
   {
    "duration": 164,
    "start_time": "2023-03-09T12:02:13.455Z"
   },
   {
    "duration": 4,
    "start_time": "2023-03-09T12:02:14.606Z"
   },
   {
    "duration": 9,
    "start_time": "2023-03-09T12:02:14.658Z"
   },
   {
    "duration": 16,
    "start_time": "2023-03-09T12:02:14.843Z"
   },
   {
    "duration": 7,
    "start_time": "2023-03-09T12:02:15.098Z"
   },
   {
    "duration": 7,
    "start_time": "2023-03-09T12:02:15.162Z"
   },
   {
    "duration": 8,
    "start_time": "2023-03-09T12:02:15.244Z"
   },
   {
    "duration": 5,
    "start_time": "2023-03-09T12:02:15.504Z"
   },
   {
    "duration": 5,
    "start_time": "2023-03-09T12:02:15.597Z"
   },
   {
    "duration": 6,
    "start_time": "2023-03-09T12:02:15.751Z"
   },
   {
    "duration": 466,
    "start_time": "2023-03-09T12:02:15.845Z"
   },
   {
    "duration": 17,
    "start_time": "2023-03-09T12:02:16.314Z"
   },
   {
    "duration": 35,
    "start_time": "2023-03-09T12:02:16.337Z"
   },
   {
    "duration": 8,
    "start_time": "2023-03-09T12:02:16.374Z"
   },
   {
    "duration": 10,
    "start_time": "2023-03-09T12:02:16.447Z"
   },
   {
    "duration": 7,
    "start_time": "2023-03-09T12:02:16.602Z"
   },
   {
    "duration": 21,
    "start_time": "2023-03-09T12:02:16.701Z"
   },
   {
    "duration": 15,
    "start_time": "2023-03-09T12:02:16.848Z"
   },
   {
    "duration": 29,
    "start_time": "2023-03-09T12:02:16.936Z"
   },
   {
    "duration": 5,
    "start_time": "2023-03-09T12:02:17.395Z"
   },
   {
    "duration": 13,
    "start_time": "2023-03-09T12:02:17.495Z"
   },
   {
    "duration": 4,
    "start_time": "2023-03-09T12:02:17.548Z"
   },
   {
    "duration": 31,
    "start_time": "2023-03-09T12:02:17.626Z"
   },
   {
    "duration": 8,
    "start_time": "2023-03-09T12:02:18.113Z"
   },
   {
    "duration": 2,
    "start_time": "2023-03-09T12:02:18.197Z"
   },
   {
    "duration": 183,
    "start_time": "2023-03-09T12:02:18.314Z"
   },
   {
    "duration": 185,
    "start_time": "2023-03-09T12:02:18.499Z"
   },
   {
    "duration": 8,
    "start_time": "2023-03-09T12:02:18.686Z"
   },
   {
    "duration": 24,
    "start_time": "2023-03-09T12:02:18.696Z"
   },
   {
    "duration": 19,
    "start_time": "2023-03-09T12:02:18.722Z"
   },
   {
    "duration": 10,
    "start_time": "2023-03-09T12:02:19.099Z"
   },
   {
    "duration": 266,
    "start_time": "2023-03-09T12:02:19.199Z"
   },
   {
    "duration": 11,
    "start_time": "2023-03-09T12:02:19.467Z"
   },
   {
    "duration": 9,
    "start_time": "2023-03-09T12:02:19.480Z"
   },
   {
    "duration": 28,
    "start_time": "2023-03-09T12:02:19.491Z"
   },
   {
    "duration": 35,
    "start_time": "2023-03-09T12:02:19.521Z"
   },
   {
    "duration": 14,
    "start_time": "2023-03-09T12:02:22.201Z"
   },
   {
    "duration": 13,
    "start_time": "2023-03-09T12:02:22.703Z"
   },
   {
    "duration": 1816,
    "start_time": "2023-03-09T12:02:23.067Z"
   },
   {
    "duration": 2,
    "start_time": "2023-03-09T12:02:24.885Z"
   },
   {
    "duration": 10,
    "start_time": "2023-03-09T12:02:24.888Z"
   },
   {
    "duration": 11,
    "start_time": "2023-03-09T12:02:24.900Z"
   },
   {
    "duration": 308,
    "start_time": "2023-03-09T12:02:24.912Z"
   },
   {
    "duration": 59,
    "start_time": "2023-03-09T12:02:25.222Z"
   },
   {
    "duration": 23,
    "start_time": "2023-03-09T12:02:25.283Z"
   },
   {
    "duration": 2,
    "start_time": "2023-03-09T12:02:29.604Z"
   },
   {
    "duration": 283,
    "start_time": "2023-03-09T12:02:30.089Z"
   },
   {
    "duration": 312,
    "start_time": "2023-03-09T12:02:30.374Z"
   },
   {
    "duration": 41,
    "start_time": "2023-03-09T12:02:35.904Z"
   },
   {
    "duration": 5,
    "start_time": "2023-03-09T12:02:38.587Z"
   },
   {
    "duration": 181,
    "start_time": "2023-03-09T12:02:39.089Z"
   },
   {
    "duration": 5,
    "start_time": "2023-03-09T12:02:39.272Z"
   },
   {
    "duration": 196,
    "start_time": "2023-03-09T12:02:39.278Z"
   },
   {
    "duration": 24,
    "start_time": "2023-03-09T12:02:39.476Z"
   },
   {
    "duration": 213,
    "start_time": "2023-03-09T12:02:42.102Z"
   },
   {
    "duration": 309,
    "start_time": "2023-03-09T12:02:46.892Z"
   },
   {
    "duration": 299,
    "start_time": "2023-03-09T12:03:04.906Z"
   },
   {
    "duration": 591,
    "start_time": "2023-03-09T12:03:11.384Z"
   },
   {
    "duration": 165,
    "start_time": "2023-03-09T12:03:20.219Z"
   },
   {
    "duration": 167,
    "start_time": "2023-03-09T12:03:24.192Z"
   },
   {
    "duration": 163,
    "start_time": "2023-03-09T12:03:26.417Z"
   },
   {
    "duration": 23,
    "start_time": "2023-03-09T12:06:08.700Z"
   },
   {
    "duration": 23,
    "start_time": "2023-03-09T12:06:30.699Z"
   },
   {
    "duration": 875,
    "start_time": "2023-03-09T12:06:33.159Z"
   },
   {
    "duration": 30,
    "start_time": "2023-03-09T12:06:36.312Z"
   },
   {
    "duration": 2,
    "start_time": "2023-03-09T12:10:18.721Z"
   },
   {
    "duration": 64,
    "start_time": "2023-03-09T12:10:18.896Z"
   },
   {
    "duration": 22,
    "start_time": "2023-03-09T12:10:19.074Z"
   },
   {
    "duration": 31,
    "start_time": "2023-03-09T12:10:19.098Z"
   },
   {
    "duration": 30,
    "start_time": "2023-03-09T12:10:19.256Z"
   },
   {
    "duration": 17,
    "start_time": "2023-03-09T12:10:19.956Z"
   },
   {
    "duration": 29,
    "start_time": "2023-03-09T12:10:20.332Z"
   },
   {
    "duration": 9,
    "start_time": "2023-03-09T12:10:20.494Z"
   },
   {
    "duration": 24,
    "start_time": "2023-03-09T12:10:20.559Z"
   },
   {
    "duration": 11,
    "start_time": "2023-03-09T12:10:22.329Z"
   },
   {
    "duration": 205,
    "start_time": "2023-03-09T12:10:22.380Z"
   },
   {
    "duration": 4,
    "start_time": "2023-03-09T12:10:22.587Z"
   },
   {
    "duration": 19,
    "start_time": "2023-03-09T12:10:22.592Z"
   },
   {
    "duration": 36,
    "start_time": "2023-03-09T12:10:22.613Z"
   },
   {
    "duration": 14,
    "start_time": "2023-03-09T12:10:22.652Z"
   },
   {
    "duration": 19,
    "start_time": "2023-03-09T12:10:22.668Z"
   },
   {
    "duration": 9,
    "start_time": "2023-03-09T12:10:22.688Z"
   },
   {
    "duration": 9,
    "start_time": "2023-03-09T12:10:22.698Z"
   },
   {
    "duration": 8,
    "start_time": "2023-03-09T12:10:22.709Z"
   },
   {
    "duration": 17,
    "start_time": "2023-03-09T12:10:22.719Z"
   },
   {
    "duration": 573,
    "start_time": "2023-03-09T12:10:22.738Z"
   },
   {
    "duration": 18,
    "start_time": "2023-03-09T12:10:23.312Z"
   },
   {
    "duration": 27,
    "start_time": "2023-03-09T12:10:23.333Z"
   },
   {
    "duration": 18,
    "start_time": "2023-03-09T12:10:23.364Z"
   },
   {
    "duration": 8,
    "start_time": "2023-03-09T12:10:23.384Z"
   },
   {
    "duration": 11,
    "start_time": "2023-03-09T12:10:23.394Z"
   },
   {
    "duration": 32,
    "start_time": "2023-03-09T12:10:23.406Z"
   },
   {
    "duration": 25,
    "start_time": "2023-03-09T12:10:23.440Z"
   },
   {
    "duration": 23,
    "start_time": "2023-03-09T12:10:23.467Z"
   },
   {
    "duration": 9,
    "start_time": "2023-03-09T12:10:23.493Z"
   },
   {
    "duration": 21,
    "start_time": "2023-03-09T12:10:23.948Z"
   },
   {
    "duration": 4,
    "start_time": "2023-03-09T12:10:24.023Z"
   },
   {
    "duration": 24,
    "start_time": "2023-03-09T12:10:24.096Z"
   },
   {
    "duration": 9,
    "start_time": "2023-03-09T12:10:24.570Z"
   },
   {
    "duration": 4,
    "start_time": "2023-03-09T12:10:24.656Z"
   },
   {
    "duration": 217,
    "start_time": "2023-03-09T12:10:24.848Z"
   },
   {
    "duration": 235,
    "start_time": "2023-03-09T12:10:25.067Z"
   },
   {
    "duration": 12,
    "start_time": "2023-03-09T12:10:25.303Z"
   },
   {
    "duration": 39,
    "start_time": "2023-03-09T12:10:25.318Z"
   },
   {
    "duration": 32,
    "start_time": "2023-03-09T12:10:25.359Z"
   },
   {
    "duration": 15,
    "start_time": "2023-03-09T12:10:25.393Z"
   },
   {
    "duration": 340,
    "start_time": "2023-03-09T12:10:25.415Z"
   },
   {
    "duration": 14,
    "start_time": "2023-03-09T12:10:25.812Z"
   },
   {
    "duration": 7,
    "start_time": "2023-03-09T12:10:25.965Z"
   },
   {
    "duration": 8,
    "start_time": "2023-03-09T12:10:26.406Z"
   },
   {
    "duration": 23,
    "start_time": "2023-03-09T12:10:26.476Z"
   },
   {
    "duration": 15,
    "start_time": "2023-03-09T12:10:26.571Z"
   },
   {
    "duration": 22,
    "start_time": "2023-03-09T12:10:26.945Z"
   },
   {
    "duration": 258,
    "start_time": "2023-03-09T12:10:27.004Z"
   },
   {
    "duration": 3,
    "start_time": "2023-03-09T12:10:27.619Z"
   },
   {
    "duration": 8,
    "start_time": "2023-03-09T12:10:27.756Z"
   },
   {
    "duration": 13,
    "start_time": "2023-03-09T12:10:27.813Z"
   },
   {
    "duration": 355,
    "start_time": "2023-03-09T12:10:27.896Z"
   },
   {
    "duration": 56,
    "start_time": "2023-03-09T12:10:28.254Z"
   },
   {
    "duration": 52,
    "start_time": "2023-03-09T12:10:28.312Z"
   },
   {
    "duration": 3,
    "start_time": "2023-03-09T12:10:28.404Z"
   },
   {
    "duration": 320,
    "start_time": "2023-03-09T12:10:28.771Z"
   },
   {
    "duration": 333,
    "start_time": "2023-03-09T12:10:29.154Z"
   },
   {
    "duration": 26,
    "start_time": "2023-03-09T12:10:29.489Z"
   },
   {
    "duration": 8,
    "start_time": "2023-03-09T12:10:29.533Z"
   },
   {
    "duration": 191,
    "start_time": "2023-03-09T12:10:29.546Z"
   },
   {
    "duration": 7,
    "start_time": "2023-03-09T12:10:29.741Z"
   },
   {
    "duration": 210,
    "start_time": "2023-03-09T12:10:29.753Z"
   },
   {
    "duration": 28,
    "start_time": "2023-03-09T12:10:30.005Z"
   },
   {
    "duration": 226,
    "start_time": "2023-03-09T12:10:34.088Z"
   },
   {
    "duration": 363,
    "start_time": "2023-03-09T12:10:36.162Z"
   },
   {
    "duration": 331,
    "start_time": "2023-03-09T12:10:37.269Z"
   },
   {
    "duration": 659,
    "start_time": "2023-03-09T12:10:50.514Z"
   },
   {
    "duration": 35,
    "start_time": "2023-03-09T12:10:52.047Z"
   },
   {
    "duration": 28,
    "start_time": "2023-03-09T12:11:30.416Z"
   },
   {
    "duration": 31,
    "start_time": "2023-03-09T12:11:38.282Z"
   },
   {
    "duration": 219,
    "start_time": "2023-03-09T12:11:53.879Z"
   },
   {
    "duration": 223,
    "start_time": "2023-03-09T12:12:19.156Z"
   },
   {
    "duration": 442,
    "start_time": "2023-03-09T12:15:04.027Z"
   },
   {
    "duration": 133,
    "start_time": "2023-03-09T12:15:22.748Z"
   },
   {
    "duration": 147,
    "start_time": "2023-03-09T12:15:28.436Z"
   },
   {
    "duration": 444,
    "start_time": "2023-03-09T12:15:45.533Z"
   },
   {
    "duration": 3,
    "start_time": "2023-03-09T12:19:47.925Z"
   },
   {
    "duration": 7,
    "start_time": "2023-03-09T12:19:50.549Z"
   },
   {
    "duration": 2,
    "start_time": "2023-03-09T12:19:51.883Z"
   },
   {
    "duration": 427,
    "start_time": "2023-03-09T12:20:26.711Z"
   },
   {
    "duration": 464,
    "start_time": "2023-03-09T12:20:38.998Z"
   },
   {
    "duration": 464,
    "start_time": "2023-03-09T12:21:40.183Z"
   },
   {
    "duration": 6,
    "start_time": "2023-03-09T12:22:23.220Z"
   },
   {
    "duration": 8,
    "start_time": "2023-03-09T12:22:31.027Z"
   },
   {
    "duration": 8,
    "start_time": "2023-03-09T12:23:04.090Z"
   },
   {
    "duration": 18,
    "start_time": "2023-03-09T12:23:36.927Z"
   },
   {
    "duration": 8,
    "start_time": "2023-03-09T12:23:46.354Z"
   },
   {
    "duration": 7,
    "start_time": "2023-03-09T12:23:52.787Z"
   },
   {
    "duration": 5,
    "start_time": "2023-03-09T12:24:20.419Z"
   },
   {
    "duration": 6,
    "start_time": "2023-03-09T12:24:29.671Z"
   },
   {
    "duration": 51,
    "start_time": "2023-03-09T12:26:53.156Z"
   },
   {
    "duration": 54,
    "start_time": "2023-03-09T12:27:03.357Z"
   },
   {
    "duration": 479,
    "start_time": "2023-03-09T12:27:25.991Z"
   },
   {
    "duration": 18,
    "start_time": "2023-03-09T12:28:58.356Z"
   },
   {
    "duration": 199,
    "start_time": "2023-03-09T12:29:00.453Z"
   },
   {
    "duration": 388,
    "start_time": "2023-03-09T12:31:00.788Z"
   },
   {
    "duration": 59,
    "start_time": "2023-03-09T12:31:18.864Z"
   },
   {
    "duration": 528,
    "start_time": "2023-03-09T12:31:26.569Z"
   },
   {
    "duration": 142,
    "start_time": "2023-03-09T12:31:56.277Z"
   },
   {
    "duration": 478,
    "start_time": "2023-03-09T12:32:05.917Z"
   },
   {
    "duration": 1239,
    "start_time": "2023-03-09T15:08:45.998Z"
   },
   {
    "duration": 190,
    "start_time": "2023-03-09T15:08:47.240Z"
   },
   {
    "duration": 28,
    "start_time": "2023-03-09T15:08:47.432Z"
   },
   {
    "duration": 15,
    "start_time": "2023-03-09T15:08:47.463Z"
   },
   {
    "duration": 33,
    "start_time": "2023-03-09T15:08:47.480Z"
   },
   {
    "duration": 80,
    "start_time": "2023-03-09T15:08:47.515Z"
   },
   {
    "duration": 16,
    "start_time": "2023-03-09T15:08:47.597Z"
   },
   {
    "duration": 7,
    "start_time": "2023-03-09T15:08:47.615Z"
   },
   {
    "duration": 41,
    "start_time": "2023-03-09T15:08:47.624Z"
   },
   {
    "duration": 5,
    "start_time": "2023-03-09T15:08:48.206Z"
   },
   {
    "duration": 200,
    "start_time": "2023-03-09T15:08:48.262Z"
   },
   {
    "duration": 3,
    "start_time": "2023-03-09T15:08:48.465Z"
   },
   {
    "duration": 11,
    "start_time": "2023-03-09T15:08:48.514Z"
   },
   {
    "duration": 23,
    "start_time": "2023-03-09T15:08:48.638Z"
   },
   {
    "duration": 7,
    "start_time": "2023-03-09T15:08:48.772Z"
   },
   {
    "duration": 7,
    "start_time": "2023-03-09T15:08:48.837Z"
   },
   {
    "duration": 7,
    "start_time": "2023-03-09T15:08:48.900Z"
   },
   {
    "duration": 5,
    "start_time": "2023-03-09T15:08:49.019Z"
   },
   {
    "duration": 4,
    "start_time": "2023-03-09T15:08:49.099Z"
   },
   {
    "duration": 5,
    "start_time": "2023-03-09T15:08:49.271Z"
   },
   {
    "duration": 455,
    "start_time": "2023-03-09T15:08:49.350Z"
   },
   {
    "duration": 10,
    "start_time": "2023-03-09T15:08:49.807Z"
   },
   {
    "duration": 15,
    "start_time": "2023-03-09T15:08:49.819Z"
   },
   {
    "duration": 25,
    "start_time": "2023-03-09T15:08:49.836Z"
   },
   {
    "duration": 8,
    "start_time": "2023-03-09T15:08:49.945Z"
   },
   {
    "duration": 6,
    "start_time": "2023-03-09T15:08:50.104Z"
   },
   {
    "duration": 17,
    "start_time": "2023-03-09T15:08:50.182Z"
   },
   {
    "duration": 11,
    "start_time": "2023-03-09T15:08:50.359Z"
   },
   {
    "duration": 21,
    "start_time": "2023-03-09T15:08:50.449Z"
   },
   {
    "duration": 5,
    "start_time": "2023-03-09T15:08:50.923Z"
   },
   {
    "duration": 12,
    "start_time": "2023-03-09T15:08:51.005Z"
   },
   {
    "duration": 3,
    "start_time": "2023-03-09T15:08:51.062Z"
   },
   {
    "duration": 22,
    "start_time": "2023-03-09T15:08:51.130Z"
   },
   {
    "duration": 9,
    "start_time": "2023-03-09T15:08:51.632Z"
   },
   {
    "duration": 2,
    "start_time": "2023-03-09T15:08:51.685Z"
   },
   {
    "duration": 170,
    "start_time": "2023-03-09T15:08:51.847Z"
   },
   {
    "duration": 184,
    "start_time": "2023-03-09T15:08:52.019Z"
   },
   {
    "duration": 8,
    "start_time": "2023-03-09T15:08:52.205Z"
   },
   {
    "duration": 38,
    "start_time": "2023-03-09T15:08:52.216Z"
   },
   {
    "duration": 9,
    "start_time": "2023-03-09T15:08:52.255Z"
   },
   {
    "duration": 10,
    "start_time": "2023-03-09T15:08:52.284Z"
   },
   {
    "duration": 274,
    "start_time": "2023-03-09T15:08:52.733Z"
   },
   {
    "duration": 13,
    "start_time": "2023-03-09T15:08:53.009Z"
   },
   {
    "duration": 9,
    "start_time": "2023-03-09T15:08:53.023Z"
   },
   {
    "duration": 25,
    "start_time": "2023-03-09T15:08:53.034Z"
   },
   {
    "duration": 36,
    "start_time": "2023-03-09T15:08:53.061Z"
   },
   {
    "duration": 14,
    "start_time": "2023-03-09T15:08:53.145Z"
   },
   {
    "duration": 13,
    "start_time": "2023-03-09T15:08:53.844Z"
   },
   {
    "duration": 262,
    "start_time": "2023-03-09T15:08:53.876Z"
   },
   {
    "duration": 3,
    "start_time": "2023-03-09T15:08:58.278Z"
   },
   {
    "duration": 6,
    "start_time": "2023-03-09T15:08:58.446Z"
   },
   {
    "duration": 13,
    "start_time": "2023-03-09T15:08:58.521Z"
   },
   {
    "duration": 321,
    "start_time": "2023-03-09T15:08:58.599Z"
   },
   {
    "duration": 59,
    "start_time": "2023-03-09T15:09:02.063Z"
   },
   {
    "duration": 27,
    "start_time": "2023-03-09T15:09:02.249Z"
   },
   {
    "duration": 30,
    "start_time": "2023-03-09T15:09:02.278Z"
   },
   {
    "duration": 407,
    "start_time": "2023-03-09T15:09:02.740Z"
   },
   {
    "duration": 319,
    "start_time": "2023-03-09T15:09:03.152Z"
   },
   {
    "duration": 27,
    "start_time": "2023-03-09T15:09:08.454Z"
   },
   {
    "duration": 5,
    "start_time": "2023-03-09T15:09:08.841Z"
   },
   {
    "duration": 159,
    "start_time": "2023-03-09T15:09:08.896Z"
   },
   {
    "duration": 6,
    "start_time": "2023-03-09T15:09:09.057Z"
   },
   {
    "duration": 170,
    "start_time": "2023-03-09T15:09:09.066Z"
   },
   {
    "duration": 38,
    "start_time": "2023-03-09T15:09:09.238Z"
   },
   {
    "duration": 22,
    "start_time": "2023-03-09T15:09:57.457Z"
   },
   {
    "duration": 168,
    "start_time": "2023-03-09T15:10:02.280Z"
   },
   {
    "duration": 298,
    "start_time": "2023-03-09T15:10:14.650Z"
   },
   {
    "duration": 276,
    "start_time": "2023-03-09T15:10:17.348Z"
   },
   {
    "duration": 678,
    "start_time": "2023-03-09T15:10:23.859Z"
   },
   {
    "duration": 157,
    "start_time": "2023-03-09T15:10:26.848Z"
   },
   {
    "duration": 3,
    "start_time": "2023-03-09T15:10:30.306Z"
   },
   {
    "duration": 4,
    "start_time": "2023-03-09T15:10:30.469Z"
   },
   {
    "duration": 3,
    "start_time": "2023-03-09T15:10:30.716Z"
   },
   {
    "duration": 431,
    "start_time": "2023-03-09T15:10:31.294Z"
   },
   {
    "duration": 6,
    "start_time": "2023-03-09T15:10:35.824Z"
   },
   {
    "duration": 440,
    "start_time": "2023-03-09T15:11:31.673Z"
   },
   {
    "duration": 355,
    "start_time": "2023-03-09T15:11:45.950Z"
   },
   {
    "duration": 68,
    "start_time": "2023-03-09T15:12:12.458Z"
   },
   {
    "duration": 388,
    "start_time": "2023-03-09T15:12:24.950Z"
   },
   {
    "duration": 471,
    "start_time": "2023-03-09T15:13:02.450Z"
   },
   {
    "duration": 516,
    "start_time": "2023-03-09T15:17:03.911Z"
   },
   {
    "duration": 17,
    "start_time": "2023-03-09T15:17:21.153Z"
   },
   {
    "duration": 411,
    "start_time": "2023-03-09T15:19:20.576Z"
   },
   {
    "duration": 246,
    "start_time": "2023-03-09T15:20:07.924Z"
   },
   {
    "duration": 198,
    "start_time": "2023-03-09T15:20:15.660Z"
   },
   {
    "duration": 223,
    "start_time": "2023-03-09T15:20:29.072Z"
   },
   {
    "duration": 19,
    "start_time": "2023-03-09T15:20:34.682Z"
   },
   {
    "duration": 487,
    "start_time": "2023-03-09T15:20:53.138Z"
   },
   {
    "duration": 621,
    "start_time": "2023-03-09T15:21:21.429Z"
   },
   {
    "duration": 30,
    "start_time": "2023-03-09T15:23:40.898Z"
   },
   {
    "duration": 84,
    "start_time": "2023-03-09T15:23:55.956Z"
   },
   {
    "duration": 578,
    "start_time": "2023-03-09T15:24:11.328Z"
   },
   {
    "duration": 230,
    "start_time": "2023-03-09T15:24:21.817Z"
   },
   {
    "duration": 888,
    "start_time": "2023-03-09T15:24:29.219Z"
   },
   {
    "duration": 576,
    "start_time": "2023-03-09T15:24:36.472Z"
   },
   {
    "duration": 474,
    "start_time": "2023-03-09T15:28:38.179Z"
   },
   {
    "duration": 430,
    "start_time": "2023-03-09T15:29:00.770Z"
   },
   {
    "duration": 346,
    "start_time": "2023-03-09T15:37:05.900Z"
   },
   {
    "duration": 342,
    "start_time": "2023-03-09T15:37:11.051Z"
   },
   {
    "duration": 508,
    "start_time": "2023-03-09T15:37:26.302Z"
   },
   {
    "duration": 285,
    "start_time": "2023-03-09T15:39:51.099Z"
   },
   {
    "duration": 276,
    "start_time": "2023-03-09T15:40:12.426Z"
   },
   {
    "duration": 311,
    "start_time": "2023-03-09T15:40:25.477Z"
   },
   {
    "duration": 471,
    "start_time": "2023-03-09T15:41:34.540Z"
   },
   {
    "duration": 407,
    "start_time": "2023-03-09T15:43:41.621Z"
   },
   {
    "duration": 104,
    "start_time": "2023-03-09T15:49:50.128Z"
   },
   {
    "duration": 352,
    "start_time": "2023-03-09T15:50:04.791Z"
   },
   {
    "duration": 364,
    "start_time": "2023-03-09T15:50:23.543Z"
   },
   {
    "duration": 6,
    "start_time": "2023-03-09T15:50:36.123Z"
   },
   {
    "duration": 8,
    "start_time": "2023-03-09T15:50:58.196Z"
   },
   {
    "duration": 73,
    "start_time": "2023-03-09T15:58:15.334Z"
   },
   {
    "duration": 446,
    "start_time": "2023-03-09T15:58:22.343Z"
   },
   {
    "duration": 640,
    "start_time": "2023-03-09T16:00:25.123Z"
   },
   {
    "duration": 527,
    "start_time": "2023-03-09T16:01:05.876Z"
   },
   {
    "duration": 265,
    "start_time": "2023-03-09T16:06:33.480Z"
   },
   {
    "duration": 3,
    "start_time": "2023-03-09T16:07:47.613Z"
   },
   {
    "duration": 50,
    "start_time": "2023-03-09T16:07:47.858Z"
   },
   {
    "duration": 26,
    "start_time": "2023-03-09T16:07:47.954Z"
   },
   {
    "duration": 18,
    "start_time": "2023-03-09T16:07:48.323Z"
   },
   {
    "duration": 33,
    "start_time": "2023-03-09T16:07:48.366Z"
   },
   {
    "duration": 18,
    "start_time": "2023-03-09T16:07:48.802Z"
   },
   {
    "duration": 17,
    "start_time": "2023-03-09T16:07:48.853Z"
   },
   {
    "duration": 8,
    "start_time": "2023-03-09T16:07:49.243Z"
   },
   {
    "duration": 16,
    "start_time": "2023-03-09T16:07:49.610Z"
   },
   {
    "duration": 4,
    "start_time": "2023-03-09T16:07:51.583Z"
   },
   {
    "duration": 166,
    "start_time": "2023-03-09T16:07:51.662Z"
   },
   {
    "duration": 4,
    "start_time": "2023-03-09T16:07:52.084Z"
   },
   {
    "duration": 10,
    "start_time": "2023-03-09T16:07:52.166Z"
   },
   {
    "duration": 17,
    "start_time": "2023-03-09T16:07:52.340Z"
   },
   {
    "duration": 8,
    "start_time": "2023-03-09T16:07:52.595Z"
   },
   {
    "duration": 7,
    "start_time": "2023-03-09T16:07:52.674Z"
   },
   {
    "duration": 7,
    "start_time": "2023-03-09T16:07:52.752Z"
   },
   {
    "duration": 5,
    "start_time": "2023-03-09T16:07:53.008Z"
   },
   {
    "duration": 5,
    "start_time": "2023-03-09T16:07:53.088Z"
   },
   {
    "duration": 5,
    "start_time": "2023-03-09T16:07:53.254Z"
   },
   {
    "duration": 388,
    "start_time": "2023-03-09T16:07:53.340Z"
   },
   {
    "duration": 9,
    "start_time": "2023-03-09T16:07:53.730Z"
   },
   {
    "duration": 20,
    "start_time": "2023-03-09T16:07:53.741Z"
   },
   {
    "duration": 8,
    "start_time": "2023-03-09T16:07:56.434Z"
   },
   {
    "duration": 8,
    "start_time": "2023-03-09T16:07:56.591Z"
   },
   {
    "duration": 6,
    "start_time": "2023-03-09T16:07:56.762Z"
   },
   {
    "duration": 15,
    "start_time": "2023-03-09T16:07:56.848Z"
   },
   {
    "duration": 12,
    "start_time": "2023-03-09T16:07:57.014Z"
   },
   {
    "duration": 20,
    "start_time": "2023-03-09T16:07:57.102Z"
   },
   {
    "duration": 5,
    "start_time": "2023-03-09T16:07:57.543Z"
   },
   {
    "duration": 13,
    "start_time": "2023-03-09T16:07:57.616Z"
   },
   {
    "duration": 3,
    "start_time": "2023-03-09T16:07:57.666Z"
   },
   {
    "duration": 22,
    "start_time": "2023-03-09T16:07:57.718Z"
   },
   {
    "duration": 10,
    "start_time": "2023-03-09T16:07:59.280Z"
   },
   {
    "duration": 3,
    "start_time": "2023-03-09T16:07:59.352Z"
   },
   {
    "duration": 183,
    "start_time": "2023-03-09T16:07:59.614Z"
   },
   {
    "duration": 187,
    "start_time": "2023-03-09T16:07:59.799Z"
   },
   {
    "duration": 8,
    "start_time": "2023-03-09T16:07:59.988Z"
   },
   {
    "duration": 41,
    "start_time": "2023-03-09T16:07:59.998Z"
   },
   {
    "duration": 10,
    "start_time": "2023-03-09T16:08:00.398Z"
   },
   {
    "duration": 47,
    "start_time": "2023-03-09T16:08:00.444Z"
   },
   {
    "duration": 285,
    "start_time": "2023-03-09T16:08:02.752Z"
   },
   {
    "duration": 13,
    "start_time": "2023-03-09T16:08:03.252Z"
   },
   {
    "duration": 9,
    "start_time": "2023-03-09T16:08:03.419Z"
   },
   {
    "duration": 8,
    "start_time": "2023-03-09T16:08:03.820Z"
   },
   {
    "duration": 28,
    "start_time": "2023-03-09T16:08:03.870Z"
   },
   {
    "duration": 14,
    "start_time": "2023-03-09T16:08:04.872Z"
   },
   {
    "duration": 13,
    "start_time": "2023-03-09T16:08:05.368Z"
   },
   {
    "duration": 202,
    "start_time": "2023-03-09T16:08:05.736Z"
   },
   {
    "duration": 2,
    "start_time": "2023-03-09T16:08:05.948Z"
   },
   {
    "duration": 6,
    "start_time": "2023-03-09T16:08:06.118Z"
   },
   {
    "duration": 14,
    "start_time": "2023-03-09T16:08:06.207Z"
   },
   {
    "duration": 285,
    "start_time": "2023-03-09T16:08:06.289Z"
   },
   {
    "duration": 51,
    "start_time": "2023-03-09T16:08:06.799Z"
   },
   {
    "duration": 25,
    "start_time": "2023-03-09T16:08:07.238Z"
   },
   {
    "duration": 2,
    "start_time": "2023-03-09T16:08:11.832Z"
   },
   {
    "duration": 278,
    "start_time": "2023-03-09T16:08:12.186Z"
   },
   {
    "duration": 305,
    "start_time": "2023-03-09T16:08:12.608Z"
   },
   {
    "duration": 26,
    "start_time": "2023-03-09T16:08:20.010Z"
   },
   {
    "duration": 6,
    "start_time": "2023-03-09T16:08:23.412Z"
   },
   {
    "duration": 187,
    "start_time": "2023-03-09T16:08:24.076Z"
   },
   {
    "duration": 6,
    "start_time": "2023-03-09T16:08:29.628Z"
   },
   {
    "duration": 160,
    "start_time": "2023-03-09T16:08:39.845Z"
   },
   {
    "duration": 23,
    "start_time": "2023-03-09T16:08:44.935Z"
   },
   {
    "duration": 3,
    "start_time": "2023-03-09T16:09:01.038Z"
   },
   {
    "duration": 118,
    "start_time": "2023-03-09T16:09:01.043Z"
   },
   {
    "duration": 24,
    "start_time": "2023-03-09T16:09:01.163Z"
   },
   {
    "duration": 14,
    "start_time": "2023-03-09T16:09:01.189Z"
   },
   {
    "duration": 57,
    "start_time": "2023-03-09T16:09:01.205Z"
   },
   {
    "duration": 17,
    "start_time": "2023-03-09T16:09:01.912Z"
   },
   {
    "duration": 14,
    "start_time": "2023-03-09T16:09:02.265Z"
   },
   {
    "duration": 7,
    "start_time": "2023-03-09T16:09:02.949Z"
   },
   {
    "duration": 15,
    "start_time": "2023-03-09T16:09:02.987Z"
   },
   {
    "duration": 5,
    "start_time": "2023-03-09T16:09:03.225Z"
   },
   {
    "duration": 180,
    "start_time": "2023-03-09T16:09:03.282Z"
   },
   {
    "duration": 4,
    "start_time": "2023-03-09T16:09:03.464Z"
   },
   {
    "duration": 10,
    "start_time": "2023-03-09T16:09:03.485Z"
   },
   {
    "duration": 17,
    "start_time": "2023-03-09T16:09:03.577Z"
   },
   {
    "duration": 7,
    "start_time": "2023-03-09T16:09:03.690Z"
   },
   {
    "duration": 7,
    "start_time": "2023-03-09T16:09:03.737Z"
   },
   {
    "duration": 7,
    "start_time": "2023-03-09T16:09:03.791Z"
   },
   {
    "duration": 7,
    "start_time": "2023-03-09T16:09:03.904Z"
   },
   {
    "duration": 5,
    "start_time": "2023-03-09T16:09:03.955Z"
   },
   {
    "duration": 7,
    "start_time": "2023-03-09T16:09:04.049Z"
   },
   {
    "duration": 444,
    "start_time": "2023-03-09T16:09:04.093Z"
   },
   {
    "duration": 16,
    "start_time": "2023-03-09T16:09:04.540Z"
   },
   {
    "duration": 13,
    "start_time": "2023-03-09T16:09:04.557Z"
   },
   {
    "duration": 8,
    "start_time": "2023-03-09T16:09:04.572Z"
   },
   {
    "duration": 17,
    "start_time": "2023-03-09T16:09:04.582Z"
   },
   {
    "duration": 10,
    "start_time": "2023-03-09T16:09:04.601Z"
   },
   {
    "duration": 14,
    "start_time": "2023-03-09T16:09:04.647Z"
   },
   {
    "duration": 12,
    "start_time": "2023-03-09T16:09:04.807Z"
   },
   {
    "duration": 18,
    "start_time": "2023-03-09T16:09:04.895Z"
   },
   {
    "duration": 5,
    "start_time": "2023-03-09T16:09:05.529Z"
   },
   {
    "duration": 15,
    "start_time": "2023-03-09T16:09:05.599Z"
   },
   {
    "duration": 3,
    "start_time": "2023-03-09T16:09:05.655Z"
   },
   {
    "duration": 23,
    "start_time": "2023-03-09T16:09:05.723Z"
   },
   {
    "duration": 9,
    "start_time": "2023-03-09T16:09:09.082Z"
   },
   {
    "duration": 3,
    "start_time": "2023-03-09T16:09:09.583Z"
   },
   {
    "duration": 180,
    "start_time": "2023-03-09T16:09:09.835Z"
   },
   {
    "duration": 185,
    "start_time": "2023-03-09T16:09:10.017Z"
   },
   {
    "duration": 10,
    "start_time": "2023-03-09T16:09:10.205Z"
   },
   {
    "duration": 43,
    "start_time": "2023-03-09T16:09:10.217Z"
   },
   {
    "duration": 9,
    "start_time": "2023-03-09T16:09:13.190Z"
   },
   {
    "duration": 10,
    "start_time": "2023-03-09T16:09:13.270Z"
   },
   {
    "duration": 267,
    "start_time": "2023-03-09T16:09:13.437Z"
   },
   {
    "duration": 12,
    "start_time": "2023-03-09T16:09:13.706Z"
   },
   {
    "duration": 12,
    "start_time": "2023-03-09T16:09:13.719Z"
   },
   {
    "duration": 8,
    "start_time": "2023-03-09T16:09:14.376Z"
   },
   {
    "duration": 23,
    "start_time": "2023-03-09T16:09:14.411Z"
   },
   {
    "duration": 14,
    "start_time": "2023-03-09T16:09:14.766Z"
   },
   {
    "duration": 13,
    "start_time": "2023-03-09T16:09:15.103Z"
   },
   {
    "duration": 210,
    "start_time": "2023-03-09T16:09:15.451Z"
   },
   {
    "duration": 2,
    "start_time": "2023-03-09T16:09:16.009Z"
   },
   {
    "duration": 6,
    "start_time": "2023-03-09T16:09:20.708Z"
   },
   {
    "duration": 16,
    "start_time": "2023-03-09T16:09:20.785Z"
   },
   {
    "duration": 292,
    "start_time": "2023-03-09T16:09:20.865Z"
   },
   {
    "duration": 57,
    "start_time": "2023-03-09T16:09:21.376Z"
   },
   {
    "duration": 27,
    "start_time": "2023-03-09T16:09:21.946Z"
   },
   {
    "duration": 3,
    "start_time": "2023-03-09T16:09:22.280Z"
   },
   {
    "duration": 509,
    "start_time": "2023-03-09T16:09:22.638Z"
   },
   {
    "duration": 313,
    "start_time": "2023-03-09T16:09:24.940Z"
   },
   {
    "duration": 25,
    "start_time": "2023-03-09T16:09:25.612Z"
   },
   {
    "duration": 6,
    "start_time": "2023-03-09T16:09:26.248Z"
   },
   {
    "duration": 165,
    "start_time": "2023-03-09T16:09:26.288Z"
   },
   {
    "duration": 6,
    "start_time": "2023-03-09T16:09:26.456Z"
   },
   {
    "duration": 163,
    "start_time": "2023-03-09T16:09:31.448Z"
   },
   {
    "duration": 24,
    "start_time": "2023-03-09T16:09:32.244Z"
   },
   {
    "duration": 3,
    "start_time": "2023-03-09T16:10:59.121Z"
   },
   {
    "duration": 7,
    "start_time": "2023-03-09T16:11:01.095Z"
   },
   {
    "duration": 14,
    "start_time": "2023-03-09T16:11:01.305Z"
   },
   {
    "duration": 295,
    "start_time": "2023-03-09T16:11:01.975Z"
   },
   {
    "duration": 61,
    "start_time": "2023-03-09T16:11:04.055Z"
   },
   {
    "duration": 27,
    "start_time": "2023-03-09T16:11:04.644Z"
   },
   {
    "duration": 3,
    "start_time": "2023-03-09T16:11:04.977Z"
   },
   {
    "duration": 269,
    "start_time": "2023-03-09T16:11:05.321Z"
   },
   {
    "duration": 288,
    "start_time": "2023-03-09T16:11:05.592Z"
   },
   {
    "duration": 25,
    "start_time": "2023-03-09T16:11:05.882Z"
   },
   {
    "duration": 5,
    "start_time": "2023-03-09T16:11:05.909Z"
   },
   {
    "duration": 167,
    "start_time": "2023-03-09T16:11:06.245Z"
   },
   {
    "duration": 5,
    "start_time": "2023-03-09T16:11:06.414Z"
   },
   {
    "duration": 163,
    "start_time": "2023-03-09T16:11:06.427Z"
   },
   {
    "duration": 25,
    "start_time": "2023-03-09T16:11:06.605Z"
   },
   {
    "duration": 184,
    "start_time": "2023-03-09T16:11:07.611Z"
   },
   {
    "duration": 333,
    "start_time": "2023-03-09T16:11:08.720Z"
   },
   {
    "duration": 303,
    "start_time": "2023-03-09T16:11:09.055Z"
   },
   {
    "duration": 453,
    "start_time": "2023-03-09T16:11:10.543Z"
   },
   {
    "duration": 3,
    "start_time": "2023-03-09T16:11:18.549Z"
   },
   {
    "duration": 2,
    "start_time": "2023-03-09T16:11:18.996Z"
   },
   {
    "duration": 2,
    "start_time": "2023-03-09T16:11:19.208Z"
   },
   {
    "duration": 59,
    "start_time": "2023-03-09T16:11:19.466Z"
   },
   {
    "duration": 668,
    "start_time": "2023-03-09T16:11:34.848Z"
   },
   {
    "duration": 6,
    "start_time": "2023-03-09T16:11:56.830Z"
   },
   {
    "duration": 12,
    "start_time": "2023-03-09T16:14:49.542Z"
   },
   {
    "duration": 8,
    "start_time": "2023-03-09T16:14:54.151Z"
   },
   {
    "duration": 14,
    "start_time": "2023-03-09T16:14:54.636Z"
   },
   {
    "duration": 16,
    "start_time": "2023-03-09T16:15:47.475Z"
   },
   {
    "duration": 6,
    "start_time": "2023-03-09T16:15:56.327Z"
   },
   {
    "duration": 10,
    "start_time": "2023-03-09T16:16:01.191Z"
   },
   {
    "duration": 12,
    "start_time": "2023-03-09T16:16:51.921Z"
   },
   {
    "duration": 14,
    "start_time": "2023-03-09T16:16:57.637Z"
   },
   {
    "duration": 13,
    "start_time": "2023-03-09T16:17:29.038Z"
   },
   {
    "duration": 6,
    "start_time": "2023-03-09T16:17:41.698Z"
   },
   {
    "duration": 11,
    "start_time": "2023-03-09T16:17:48.335Z"
   },
   {
    "duration": 13,
    "start_time": "2023-03-09T16:19:52.233Z"
   },
   {
    "duration": 23,
    "start_time": "2023-03-09T16:21:20.859Z"
   },
   {
    "duration": 6,
    "start_time": "2023-03-09T16:21:38.930Z"
   },
   {
    "duration": 441,
    "start_time": "2023-03-09T16:21:57.512Z"
   },
   {
    "duration": 433,
    "start_time": "2023-03-09T16:24:42.597Z"
   },
   {
    "duration": 456,
    "start_time": "2023-03-09T16:25:57.034Z"
   },
   {
    "duration": 6,
    "start_time": "2023-03-09T16:28:25.129Z"
   },
   {
    "duration": 6,
    "start_time": "2023-03-09T16:28:25.592Z"
   },
   {
    "duration": 3,
    "start_time": "2023-03-09T16:28:26.040Z"
   },
   {
    "duration": 3,
    "start_time": "2023-03-09T16:28:26.556Z"
   },
   {
    "duration": 4,
    "start_time": "2023-03-09T16:29:38.936Z"
   },
   {
    "duration": 47,
    "start_time": "2023-03-09T16:29:39.188Z"
   },
   {
    "duration": 21,
    "start_time": "2023-03-09T16:29:39.268Z"
   },
   {
    "duration": 15,
    "start_time": "2023-03-09T16:29:39.910Z"
   },
   {
    "duration": 30,
    "start_time": "2023-03-09T16:29:39.947Z"
   },
   {
    "duration": 16,
    "start_time": "2023-03-09T16:29:40.570Z"
   },
   {
    "duration": 16,
    "start_time": "2023-03-09T16:29:40.928Z"
   },
   {
    "duration": 7,
    "start_time": "2023-03-09T16:29:41.585Z"
   },
   {
    "duration": 15,
    "start_time": "2023-03-09T16:29:41.624Z"
   },
   {
    "duration": 5,
    "start_time": "2023-03-09T16:29:41.820Z"
   },
   {
    "duration": 166,
    "start_time": "2023-03-09T16:29:41.870Z"
   },
   {
    "duration": 3,
    "start_time": "2023-03-09T16:29:42.038Z"
   },
   {
    "duration": 10,
    "start_time": "2023-03-09T16:29:42.052Z"
   },
   {
    "duration": 15,
    "start_time": "2023-03-09T16:29:42.155Z"
   },
   {
    "duration": 8,
    "start_time": "2023-03-09T16:29:42.262Z"
   },
   {
    "duration": 7,
    "start_time": "2023-03-09T16:29:42.313Z"
   },
   {
    "duration": 8,
    "start_time": "2023-03-09T16:29:42.366Z"
   },
   {
    "duration": 5,
    "start_time": "2023-03-09T16:29:42.487Z"
   },
   {
    "duration": 6,
    "start_time": "2023-03-09T16:29:42.544Z"
   },
   {
    "duration": 7,
    "start_time": "2023-03-09T16:29:42.641Z"
   },
   {
    "duration": 443,
    "start_time": "2023-03-09T16:29:42.714Z"
   },
   {
    "duration": 12,
    "start_time": "2023-03-09T16:29:43.160Z"
   },
   {
    "duration": 17,
    "start_time": "2023-03-09T16:29:43.174Z"
   },
   {
    "duration": 8,
    "start_time": "2023-03-09T16:29:43.194Z"
   },
   {
    "duration": 9,
    "start_time": "2023-03-09T16:29:43.204Z"
   },
   {
    "duration": 39,
    "start_time": "2023-03-09T16:29:43.215Z"
   },
   {
    "duration": 25,
    "start_time": "2023-03-09T16:29:43.256Z"
   },
   {
    "duration": 13,
    "start_time": "2023-03-09T16:29:43.300Z"
   },
   {
    "duration": 20,
    "start_time": "2023-03-09T16:29:43.385Z"
   },
   {
    "duration": 7,
    "start_time": "2023-03-09T16:29:43.997Z"
   },
   {
    "duration": 18,
    "start_time": "2023-03-09T16:29:44.068Z"
   },
   {
    "duration": 4,
    "start_time": "2023-03-09T16:29:44.114Z"
   },
   {
    "duration": 24,
    "start_time": "2023-03-09T16:29:44.180Z"
   },
   {
    "duration": 10,
    "start_time": "2023-03-09T16:29:44.900Z"
   },
   {
    "duration": 3,
    "start_time": "2023-03-09T16:29:44.940Z"
   },
   {
    "duration": 175,
    "start_time": "2023-03-09T16:29:45.067Z"
   },
   {
    "duration": 193,
    "start_time": "2023-03-09T16:29:45.244Z"
   },
   {
    "duration": 14,
    "start_time": "2023-03-09T16:29:45.439Z"
   },
   {
    "duration": 24,
    "start_time": "2023-03-09T16:29:45.456Z"
   },
   {
    "duration": 9,
    "start_time": "2023-03-09T16:29:45.956Z"
   },
   {
    "duration": 11,
    "start_time": "2023-03-09T16:29:46.001Z"
   },
   {
    "duration": 258,
    "start_time": "2023-03-09T16:29:46.099Z"
   },
   {
    "duration": 11,
    "start_time": "2023-03-09T16:29:46.359Z"
   },
   {
    "duration": 17,
    "start_time": "2023-03-09T16:29:46.372Z"
   },
   {
    "duration": 8,
    "start_time": "2023-03-09T16:29:46.936Z"
   },
   {
    "duration": 24,
    "start_time": "2023-03-09T16:29:46.975Z"
   },
   {
    "duration": 14,
    "start_time": "2023-03-09T16:29:47.335Z"
   },
   {
    "duration": 15,
    "start_time": "2023-03-09T16:29:47.676Z"
   },
   {
    "duration": 223,
    "start_time": "2023-03-09T16:29:48.019Z"
   },
   {
    "duration": 3,
    "start_time": "2023-03-09T16:29:48.476Z"
   },
   {
    "duration": 8,
    "start_time": "2023-03-09T16:29:48.569Z"
   },
   {
    "duration": 16,
    "start_time": "2023-03-09T16:29:48.619Z"
   },
   {
    "duration": 318,
    "start_time": "2023-03-09T16:29:48.661Z"
   },
   {
    "duration": 52,
    "start_time": "2023-03-09T16:29:48.981Z"
   },
   {
    "duration": 26,
    "start_time": "2023-03-09T16:29:49.551Z"
   },
   {
    "duration": 3,
    "start_time": "2023-03-09T16:29:49.895Z"
   },
   {
    "duration": 281,
    "start_time": "2023-03-09T16:29:50.246Z"
   },
   {
    "duration": 289,
    "start_time": "2023-03-09T16:29:50.529Z"
   },
   {
    "duration": 34,
    "start_time": "2023-03-09T16:29:50.820Z"
   },
   {
    "duration": 4,
    "start_time": "2023-03-09T16:29:50.857Z"
   },
   {
    "duration": 171,
    "start_time": "2023-03-09T16:29:50.863Z"
   },
   {
    "duration": 5,
    "start_time": "2023-03-09T16:29:51.036Z"
   },
   {
    "duration": 162,
    "start_time": "2023-03-09T16:29:51.043Z"
   },
   {
    "duration": 27,
    "start_time": "2023-03-09T16:29:51.285Z"
   },
   {
    "duration": 182,
    "start_time": "2023-03-09T16:29:51.489Z"
   },
   {
    "duration": 287,
    "start_time": "2023-03-09T16:29:51.687Z"
   },
   {
    "duration": 554,
    "start_time": "2023-03-09T16:29:51.977Z"
   },
   {
    "duration": 458,
    "start_time": "2023-03-09T16:29:52.532Z"
   },
   {
    "duration": 2,
    "start_time": "2023-03-09T16:29:52.993Z"
   },
   {
    "duration": 26,
    "start_time": "2023-03-09T16:29:52.997Z"
   },
   {
    "duration": 14,
    "start_time": "2023-03-09T16:29:53.025Z"
   },
   {
    "duration": 448,
    "start_time": "2023-03-09T16:29:53.041Z"
   },
   {
    "duration": 6,
    "start_time": "2023-03-09T16:29:53.490Z"
   },
   {
    "duration": 30,
    "start_time": "2023-03-09T16:29:53.498Z"
   },
   {
    "duration": 30,
    "start_time": "2023-03-09T16:29:53.530Z"
   },
   {
    "duration": 9,
    "start_time": "2023-03-09T16:29:53.562Z"
   },
   {
    "duration": 9,
    "start_time": "2023-03-09T16:29:53.572Z"
   },
   {
    "duration": 26,
    "start_time": "2023-03-09T16:29:53.583Z"
   },
   {
    "duration": 187,
    "start_time": "2023-03-09T16:29:53.611Z"
   },
   {
    "duration": 5,
    "start_time": "2023-03-09T16:29:53.800Z"
   },
   {
    "duration": 13,
    "start_time": "2023-03-09T16:29:53.807Z"
   },
   {
    "duration": 9,
    "start_time": "2023-03-09T16:29:53.822Z"
   },
   {
    "duration": 6,
    "start_time": "2023-03-09T16:29:53.833Z"
   },
   {
    "duration": 21,
    "start_time": "2023-03-09T16:29:53.841Z"
   },
   {
    "duration": 24,
    "start_time": "2023-03-09T16:29:53.864Z"
   },
   {
    "duration": 11,
    "start_time": "2023-03-09T16:29:53.890Z"
   },
   {
    "duration": 8,
    "start_time": "2023-03-09T16:29:53.904Z"
   },
   {
    "duration": 7,
    "start_time": "2023-03-09T16:29:53.915Z"
   },
   {
    "duration": 1092,
    "start_time": "2023-03-09T16:32:45.354Z"
   },
   {
    "duration": 0,
    "start_time": "2023-03-09T16:32:46.447Z"
   },
   {
    "duration": 3,
    "start_time": "2023-03-09T16:32:46.660Z"
   },
   {
    "duration": 3,
    "start_time": "2023-03-09T16:32:47.962Z"
   },
   {
    "duration": 5,
    "start_time": "2023-03-09T16:32:56.650Z"
   },
   {
    "duration": 5,
    "start_time": "2023-03-09T16:33:02.746Z"
   },
   {
    "duration": 6,
    "start_time": "2023-03-09T16:33:03.090Z"
   },
   {
    "duration": 4,
    "start_time": "2023-03-09T16:33:03.546Z"
   },
   {
    "duration": 5,
    "start_time": "2023-03-09T16:33:03.966Z"
   },
   {
    "duration": 4,
    "start_time": "2023-03-09T16:33:14.390Z"
   },
   {
    "duration": 3,
    "start_time": "2023-03-09T16:34:17.578Z"
   },
   {
    "duration": 6,
    "start_time": "2023-03-09T16:34:21.281Z"
   },
   {
    "duration": 5,
    "start_time": "2023-03-09T16:34:21.668Z"
   },
   {
    "duration": 4,
    "start_time": "2023-03-09T16:34:21.957Z"
   },
   {
    "duration": 4,
    "start_time": "2023-03-09T16:34:22.333Z"
   },
   {
    "duration": 3,
    "start_time": "2023-03-09T16:34:27.244Z"
   },
   {
    "duration": 70,
    "start_time": "2023-03-09T16:42:27.924Z"
   },
   {
    "duration": 4,
    "start_time": "2023-03-09T16:45:51.315Z"
   },
   {
    "duration": 5,
    "start_time": "2023-03-09T16:46:02.601Z"
   },
   {
    "duration": 6,
    "start_time": "2023-03-09T16:46:04.107Z"
   },
   {
    "duration": 4,
    "start_time": "2023-03-09T16:46:08.897Z"
   },
   {
    "duration": 4,
    "start_time": "2023-03-09T16:46:09.497Z"
   },
   {
    "duration": 74,
    "start_time": "2023-03-09T16:47:14.395Z"
   },
   {
    "duration": 6,
    "start_time": "2023-03-09T16:49:33.592Z"
   },
   {
    "duration": 23,
    "start_time": "2023-03-09T16:49:42.793Z"
   },
   {
    "duration": 253,
    "start_time": "2023-03-09T16:49:50.447Z"
   },
   {
    "duration": 287,
    "start_time": "2023-03-09T16:49:54.649Z"
   },
   {
    "duration": 28,
    "start_time": "2023-03-09T16:49:59.464Z"
   },
   {
    "duration": 6,
    "start_time": "2023-03-09T16:50:02.844Z"
   },
   {
    "duration": 142,
    "start_time": "2023-03-09T16:50:05.874Z"
   },
   {
    "duration": 5,
    "start_time": "2023-03-09T16:50:09.351Z"
   },
   {
    "duration": 156,
    "start_time": "2023-03-09T16:50:14.458Z"
   },
   {
    "duration": 30,
    "start_time": "2023-03-09T16:50:17.870Z"
   },
   {
    "duration": 8,
    "start_time": "2023-03-09T16:53:07.329Z"
   },
   {
    "duration": 3,
    "start_time": "2023-03-09T16:54:16.741Z"
   },
   {
    "duration": 60,
    "start_time": "2023-03-09T16:54:22.098Z"
   },
   {
    "duration": 23,
    "start_time": "2023-03-09T16:54:28.770Z"
   },
   {
    "duration": 3,
    "start_time": "2023-03-09T16:54:33.034Z"
   },
   {
    "duration": 264,
    "start_time": "2023-03-09T16:54:36.175Z"
   },
   {
    "duration": 286,
    "start_time": "2023-03-09T16:54:36.738Z"
   },
   {
    "duration": 27,
    "start_time": "2023-03-09T16:54:43.010Z"
   },
   {
    "duration": 5,
    "start_time": "2023-03-09T16:54:46.266Z"
   },
   {
    "duration": 168,
    "start_time": "2023-03-09T16:54:48.240Z"
   },
   {
    "duration": 5,
    "start_time": "2023-03-09T16:54:54.708Z"
   },
   {
    "duration": 163,
    "start_time": "2023-03-09T16:54:59.444Z"
   },
   {
    "duration": 27,
    "start_time": "2023-03-09T16:55:01.803Z"
   },
   {
    "duration": 186,
    "start_time": "2023-03-09T16:55:25.117Z"
   },
   {
    "duration": 286,
    "start_time": "2023-03-09T16:55:34.833Z"
   },
   {
    "duration": 266,
    "start_time": "2023-03-09T16:55:35.121Z"
   },
   {
    "duration": 453,
    "start_time": "2023-03-09T16:55:37.257Z"
   },
   {
    "duration": 2,
    "start_time": "2023-03-09T16:55:40.530Z"
   },
   {
    "duration": 2,
    "start_time": "2023-03-09T16:55:40.792Z"
   },
   {
    "duration": 3,
    "start_time": "2023-03-09T16:55:41.323Z"
   },
   {
    "duration": 765,
    "start_time": "2023-03-09T16:55:41.508Z"
   },
   {
    "duration": 7,
    "start_time": "2023-03-09T16:55:47.065Z"
   },
   {
    "duration": 6,
    "start_time": "2023-03-09T16:55:47.603Z"
   },
   {
    "duration": 4,
    "start_time": "2023-03-09T16:55:50.592Z"
   },
   {
    "duration": 2,
    "start_time": "2023-03-09T16:55:51.834Z"
   },
   {
    "duration": 3,
    "start_time": "2023-03-09T16:55:52.197Z"
   },
   {
    "duration": 19,
    "start_time": "2023-03-09T16:55:52.595Z"
   },
   {
    "duration": 193,
    "start_time": "2023-03-09T16:55:58.646Z"
   },
   {
    "duration": 410,
    "start_time": "2023-03-09T16:58:04.824Z"
   },
   {
    "duration": 492,
    "start_time": "2023-03-09T16:58:23.564Z"
   },
   {
    "duration": 433,
    "start_time": "2023-03-09T16:58:32.898Z"
   },
   {
    "duration": 438,
    "start_time": "2023-03-09T16:58:41.747Z"
   },
   {
    "duration": 550,
    "start_time": "2023-03-09T16:59:23.746Z"
   },
   {
    "duration": 3,
    "start_time": "2023-03-09T16:59:56.526Z"
   },
   {
    "duration": 52,
    "start_time": "2023-03-09T16:59:58.170Z"
   },
   {
    "duration": 22,
    "start_time": "2023-03-09T16:59:58.366Z"
   },
   {
    "duration": 14,
    "start_time": "2023-03-09T16:59:59.048Z"
   },
   {
    "duration": 30,
    "start_time": "2023-03-09T17:00:00.966Z"
   },
   {
    "duration": 19,
    "start_time": "2023-03-09T17:00:04.113Z"
   },
   {
    "duration": 14,
    "start_time": "2023-03-09T17:00:05.292Z"
   },
   {
    "duration": 8,
    "start_time": "2023-03-09T17:00:07.381Z"
   },
   {
    "duration": 15,
    "start_time": "2023-03-09T17:00:07.996Z"
   },
   {
    "duration": 4,
    "start_time": "2023-03-09T17:00:16.759Z"
   },
   {
    "duration": 176,
    "start_time": "2023-03-09T17:00:17.344Z"
   },
   {
    "duration": 175,
    "start_time": "2023-03-09T17:00:23.490Z"
   },
   {
    "duration": 4,
    "start_time": "2023-03-09T17:00:37.631Z"
   },
   {
    "duration": 3,
    "start_time": "2023-03-09T17:00:47.333Z"
   },
   {
    "duration": 10,
    "start_time": "2023-03-09T17:00:47.759Z"
   },
   {
    "duration": 18,
    "start_time": "2023-03-09T17:00:54.699Z"
   },
   {
    "duration": 8,
    "start_time": "2023-03-09T17:00:57.733Z"
   },
   {
    "duration": 7,
    "start_time": "2023-03-09T17:00:57.943Z"
   },
   {
    "duration": 8,
    "start_time": "2023-03-09T17:00:58.159Z"
   },
   {
    "duration": 6,
    "start_time": "2023-03-09T17:01:15.613Z"
   },
   {
    "duration": 5,
    "start_time": "2023-03-09T17:01:16.323Z"
   },
   {
    "duration": 6,
    "start_time": "2023-03-09T17:01:19.683Z"
   },
   {
    "duration": 418,
    "start_time": "2023-03-09T17:01:20.287Z"
   },
   {
    "duration": 9,
    "start_time": "2023-03-09T17:01:21.053Z"
   },
   {
    "duration": 19,
    "start_time": "2023-03-09T17:01:25.318Z"
   },
   {
    "duration": 7,
    "start_time": "2023-03-09T17:01:30.668Z"
   },
   {
    "duration": 10,
    "start_time": "2023-03-09T17:01:31.685Z"
   },
   {
    "duration": 7,
    "start_time": "2023-03-09T17:01:34.143Z"
   },
   {
    "duration": 15,
    "start_time": "2023-03-09T17:01:34.331Z"
   },
   {
    "duration": 11,
    "start_time": "2023-03-09T17:01:37.082Z"
   },
   {
    "duration": 19,
    "start_time": "2023-03-09T17:01:39.130Z"
   },
   {
    "duration": 6,
    "start_time": "2023-03-09T17:01:42.345Z"
   },
   {
    "duration": 13,
    "start_time": "2023-03-09T17:01:43.932Z"
   },
   {
    "duration": 4,
    "start_time": "2023-03-09T17:01:47.219Z"
   },
   {
    "duration": 34,
    "start_time": "2023-03-09T17:01:47.650Z"
   },
   {
    "duration": 10,
    "start_time": "2023-03-09T17:01:54.686Z"
   },
   {
    "duration": 3,
    "start_time": "2023-03-09T17:01:58.812Z"
   },
   {
    "duration": 181,
    "start_time": "2023-03-09T17:01:59.325Z"
   },
   {
    "duration": 178,
    "start_time": "2023-03-09T17:01:59.517Z"
   },
   {
    "duration": 10,
    "start_time": "2023-03-09T17:02:09.183Z"
   },
   {
    "duration": 23,
    "start_time": "2023-03-09T17:02:09.705Z"
   },
   {
    "duration": 5,
    "start_time": "2023-03-09T17:02:59.654Z"
   },
   {
    "duration": 315,
    "start_time": "2023-03-09T17:03:22.084Z"
   },
   {
    "duration": 10,
    "start_time": "2023-03-09T17:03:22.558Z"
   },
   {
    "duration": 16,
    "start_time": "2023-03-09T17:03:23.067Z"
   },
   {
    "duration": 5,
    "start_time": "2023-03-09T17:03:26.228Z"
   },
   {
    "duration": 322,
    "start_time": "2023-03-09T17:03:33.744Z"
   },
   {
    "duration": 1148,
    "start_time": "2023-03-09T17:04:39.491Z"
   },
   {
    "duration": 54,
    "start_time": "2023-03-09T17:04:40.642Z"
   },
   {
    "duration": 28,
    "start_time": "2023-03-09T17:04:40.698Z"
   },
   {
    "duration": 14,
    "start_time": "2023-03-09T17:04:40.728Z"
   },
   {
    "duration": 35,
    "start_time": "2023-03-09T17:04:40.744Z"
   },
   {
    "duration": 52,
    "start_time": "2023-03-09T17:04:40.781Z"
   },
   {
    "duration": 33,
    "start_time": "2023-03-09T17:04:40.835Z"
   },
   {
    "duration": 7,
    "start_time": "2023-03-09T17:04:40.870Z"
   },
   {
    "duration": 19,
    "start_time": "2023-03-09T17:04:40.878Z"
   },
   {
    "duration": 4,
    "start_time": "2023-03-09T17:04:40.899Z"
   },
   {
    "duration": 203,
    "start_time": "2023-03-09T17:04:40.905Z"
   },
   {
    "duration": 4,
    "start_time": "2023-03-09T17:04:41.110Z"
   },
   {
    "duration": 15,
    "start_time": "2023-03-09T17:04:41.115Z"
   },
   {
    "duration": 22,
    "start_time": "2023-03-09T17:04:41.132Z"
   },
   {
    "duration": 7,
    "start_time": "2023-03-09T17:04:41.156Z"
   },
   {
    "duration": 8,
    "start_time": "2023-03-09T17:04:41.164Z"
   },
   {
    "duration": 8,
    "start_time": "2023-03-09T17:04:41.173Z"
   },
   {
    "duration": 6,
    "start_time": "2023-03-09T17:04:41.183Z"
   },
   {
    "duration": 13,
    "start_time": "2023-03-09T17:04:41.191Z"
   },
   {
    "duration": 10,
    "start_time": "2023-03-09T17:04:41.205Z"
   },
   {
    "duration": 438,
    "start_time": "2023-03-09T17:04:41.216Z"
   },
   {
    "duration": 8,
    "start_time": "2023-03-09T17:04:41.656Z"
   },
   {
    "duration": 17,
    "start_time": "2023-03-09T17:04:41.666Z"
   },
   {
    "duration": 5,
    "start_time": "2023-03-09T17:04:41.684Z"
   },
   {
    "duration": 10,
    "start_time": "2023-03-09T17:04:41.691Z"
   },
   {
    "duration": 7,
    "start_time": "2023-03-09T17:04:41.703Z"
   },
   {
    "duration": 7,
    "start_time": "2023-03-09T17:04:41.712Z"
   },
   {
    "duration": 41,
    "start_time": "2023-03-09T17:04:41.724Z"
   },
   {
    "duration": 12,
    "start_time": "2023-03-09T17:04:41.767Z"
   },
   {
    "duration": 19,
    "start_time": "2023-03-09T17:04:41.781Z"
   },
   {
    "duration": 5,
    "start_time": "2023-03-09T17:04:41.802Z"
   },
   {
    "duration": 47,
    "start_time": "2023-03-09T17:04:41.808Z"
   },
   {
    "duration": 4,
    "start_time": "2023-03-09T17:04:41.857Z"
   },
   {
    "duration": 24,
    "start_time": "2023-03-09T17:04:41.863Z"
   },
   {
    "duration": 9,
    "start_time": "2023-03-09T17:04:41.889Z"
   },
   {
    "duration": 4,
    "start_time": "2023-03-09T17:04:41.899Z"
   },
   {
    "duration": 223,
    "start_time": "2023-03-09T17:04:41.905Z"
   },
   {
    "duration": 179,
    "start_time": "2023-03-09T17:04:42.129Z"
   },
   {
    "duration": 7,
    "start_time": "2023-03-09T17:04:42.310Z"
   },
   {
    "duration": 21,
    "start_time": "2023-03-09T17:04:42.319Z"
   },
   {
    "duration": 9,
    "start_time": "2023-03-09T17:04:42.352Z"
   },
   {
    "duration": 13,
    "start_time": "2023-03-09T17:04:42.362Z"
   },
   {
    "duration": 289,
    "start_time": "2023-03-09T17:04:42.377Z"
   },
   {
    "duration": 11,
    "start_time": "2023-03-09T17:04:42.668Z"
   },
   {
    "duration": 34,
    "start_time": "2023-03-09T17:04:42.681Z"
   },
   {
    "duration": 31,
    "start_time": "2023-03-09T17:04:42.716Z"
   },
   {
    "duration": 33,
    "start_time": "2023-03-09T17:04:42.749Z"
   },
   {
    "duration": 19,
    "start_time": "2023-03-09T17:04:42.784Z"
   },
   {
    "duration": 13,
    "start_time": "2023-03-09T17:04:42.805Z"
   },
   {
    "duration": 237,
    "start_time": "2023-03-09T17:04:42.819Z"
   },
   {
    "duration": 2,
    "start_time": "2023-03-09T17:04:43.058Z"
   },
   {
    "duration": 13,
    "start_time": "2023-03-09T17:04:43.061Z"
   },
   {
    "duration": 23,
    "start_time": "2023-03-09T17:04:43.076Z"
   },
   {
    "duration": 347,
    "start_time": "2023-03-09T17:04:43.101Z"
   },
   {
    "duration": 3,
    "start_time": "2023-03-09T17:04:43.450Z"
   },
   {
    "duration": 54,
    "start_time": "2023-03-09T17:04:43.454Z"
   },
   {
    "duration": 22,
    "start_time": "2023-03-09T17:04:43.509Z"
   },
   {
    "duration": 2,
    "start_time": "2023-03-09T17:04:43.533Z"
   },
   {
    "duration": 372,
    "start_time": "2023-03-09T17:04:43.536Z"
   },
   {
    "duration": 343,
    "start_time": "2023-03-09T17:04:43.910Z"
   },
   {
    "duration": 27,
    "start_time": "2023-03-09T17:04:44.255Z"
   },
   {
    "duration": 5,
    "start_time": "2023-03-09T17:04:44.284Z"
   },
   {
    "duration": 181,
    "start_time": "2023-03-09T17:04:44.291Z"
   },
   {
    "duration": 5,
    "start_time": "2023-03-09T17:04:44.474Z"
   },
   {
    "duration": 175,
    "start_time": "2023-03-09T17:04:44.481Z"
   },
   {
    "duration": 28,
    "start_time": "2023-03-09T17:04:44.658Z"
   },
   {
    "duration": 206,
    "start_time": "2023-03-09T17:04:44.688Z"
   },
   {
    "duration": 323,
    "start_time": "2023-03-09T17:04:44.896Z"
   },
   {
    "duration": 307,
    "start_time": "2023-03-09T17:04:45.220Z"
   },
   {
    "duration": 557,
    "start_time": "2023-03-09T17:04:45.529Z"
   },
   {
    "duration": 2,
    "start_time": "2023-03-09T17:04:46.088Z"
   },
   {
    "duration": 6,
    "start_time": "2023-03-09T17:04:46.091Z"
   },
   {
    "duration": 7,
    "start_time": "2023-03-09T17:04:46.099Z"
   },
   {
    "duration": 455,
    "start_time": "2023-03-09T17:04:46.108Z"
   },
   {
    "duration": 6,
    "start_time": "2023-03-09T17:04:46.565Z"
   },
   {
    "duration": 9,
    "start_time": "2023-03-09T17:04:46.572Z"
   },
   {
    "duration": 5,
    "start_time": "2023-03-09T17:04:46.583Z"
   },
   {
    "duration": 11,
    "start_time": "2023-03-09T17:04:46.590Z"
   },
   {
    "duration": 13,
    "start_time": "2023-03-09T17:04:46.603Z"
   },
   {
    "duration": 25,
    "start_time": "2023-03-09T17:04:46.619Z"
   },
   {
    "duration": 177,
    "start_time": "2023-03-09T17:04:46.646Z"
   },
   {
    "duration": 5,
    "start_time": "2023-03-09T17:04:46.829Z"
   },
   {
    "duration": 27,
    "start_time": "2023-03-09T17:04:46.836Z"
   },
   {
    "duration": 11,
    "start_time": "2023-03-09T17:04:46.865Z"
   },
   {
    "duration": 5,
    "start_time": "2023-03-09T17:04:46.877Z"
   },
   {
    "duration": 5,
    "start_time": "2023-03-09T17:04:46.884Z"
   },
   {
    "duration": 69,
    "start_time": "2023-03-09T17:04:46.891Z"
   },
   {
    "duration": 0,
    "start_time": "2023-03-09T17:04:46.963Z"
   },
   {
    "duration": 0,
    "start_time": "2023-03-09T17:04:46.964Z"
   },
   {
    "duration": 0,
    "start_time": "2023-03-09T17:04:46.965Z"
   },
   {
    "duration": 0,
    "start_time": "2023-03-09T17:04:46.966Z"
   },
   {
    "duration": 1327,
    "start_time": "2023-03-09T17:05:31.085Z"
   },
   {
    "duration": 54,
    "start_time": "2023-03-09T17:05:47.796Z"
   },
   {
    "duration": 51,
    "start_time": "2023-03-09T17:06:00.392Z"
   },
   {
    "duration": 1205,
    "start_time": "2023-03-09T17:06:45.060Z"
   },
   {
    "duration": 7,
    "start_time": "2023-03-09T17:06:57.092Z"
   },
   {
    "duration": 5,
    "start_time": "2023-03-09T17:07:30.654Z"
   },
   {
    "duration": 1088,
    "start_time": "2023-03-09T17:07:46.319Z"
   },
   {
    "duration": 5,
    "start_time": "2023-03-09T17:07:54.618Z"
   },
   {
    "duration": 19,
    "start_time": "2023-03-09T17:07:59.594Z"
   },
   {
    "duration": 5,
    "start_time": "2023-03-09T17:08:13.315Z"
   },
   {
    "duration": 10,
    "start_time": "2023-03-09T17:08:13.732Z"
   },
   {
    "duration": 17,
    "start_time": "2023-03-09T17:08:14.693Z"
   },
   {
    "duration": 8,
    "start_time": "2023-03-09T17:08:16.348Z"
   },
   {
    "duration": 8,
    "start_time": "2023-03-09T17:08:16.552Z"
   },
   {
    "duration": 9,
    "start_time": "2023-03-09T17:08:16.762Z"
   },
   {
    "duration": 6,
    "start_time": "2023-03-09T17:08:24.293Z"
   },
   {
    "duration": 5,
    "start_time": "2023-03-09T17:08:24.851Z"
   },
   {
    "duration": 6,
    "start_time": "2023-03-09T17:08:25.678Z"
   },
   {
    "duration": 459,
    "start_time": "2023-03-09T17:08:26.271Z"
   },
   {
    "duration": 16,
    "start_time": "2023-03-09T17:08:26.957Z"
   },
   {
    "duration": 19,
    "start_time": "2023-03-09T17:08:27.411Z"
   },
   {
    "duration": 1120,
    "start_time": "2023-03-09T17:08:27.834Z"
   },
   {
    "duration": 5,
    "start_time": "2023-03-09T17:08:36.167Z"
   },
   {
    "duration": 6,
    "start_time": "2023-03-09T17:08:59.496Z"
   },
   {
    "duration": 5,
    "start_time": "2023-03-09T17:09:17.119Z"
   },
   {
    "duration": 3,
    "start_time": "2023-03-09T17:09:29.460Z"
   },
   {
    "duration": 51,
    "start_time": "2023-03-09T17:09:30.048Z"
   },
   {
    "duration": 29,
    "start_time": "2023-03-09T17:09:30.241Z"
   },
   {
    "duration": 16,
    "start_time": "2023-03-09T17:09:30.924Z"
   },
   {
    "duration": 34,
    "start_time": "2023-03-09T17:09:30.996Z"
   },
   {
    "duration": 16,
    "start_time": "2023-03-09T17:09:31.810Z"
   },
   {
    "duration": 15,
    "start_time": "2023-03-09T17:09:32.562Z"
   },
   {
    "duration": 9,
    "start_time": "2023-03-09T17:09:34.304Z"
   },
   {
    "duration": 23,
    "start_time": "2023-03-09T17:09:34.501Z"
   },
   {
    "duration": 5,
    "start_time": "2023-03-09T17:09:37.751Z"
   },
   {
    "duration": 189,
    "start_time": "2023-03-09T17:09:38.552Z"
   },
   {
    "duration": 3,
    "start_time": "2023-03-09T17:09:40.885Z"
   },
   {
    "duration": 10,
    "start_time": "2023-03-09T17:09:41.336Z"
   },
   {
    "duration": 16,
    "start_time": "2023-03-09T17:09:42.814Z"
   },
   {
    "duration": 8,
    "start_time": "2023-03-09T17:09:45.502Z"
   },
   {
    "duration": 8,
    "start_time": "2023-03-09T17:09:45.938Z"
   },
   {
    "duration": 8,
    "start_time": "2023-03-09T17:09:46.142Z"
   },
   {
    "duration": 5,
    "start_time": "2023-03-09T17:09:51.246Z"
   },
   {
    "duration": 5,
    "start_time": "2023-03-09T17:09:51.944Z"
   },
   {
    "duration": 6,
    "start_time": "2023-03-09T17:09:55.468Z"
   },
   {
    "duration": 6,
    "start_time": "2023-03-09T17:09:56.853Z"
   },
   {
    "duration": 445,
    "start_time": "2023-03-09T17:10:01.145Z"
   },
   {
    "duration": 5,
    "start_time": "2023-03-09T17:10:02.531Z"
   },
   {
    "duration": 347,
    "start_time": "2023-03-09T17:10:52.716Z"
   },
   {
    "duration": 5,
    "start_time": "2023-03-09T17:10:53.252Z"
   },
   {
    "duration": 5,
    "start_time": "2023-03-09T17:10:56.466Z"
   },
   {
    "duration": 368,
    "start_time": "2023-03-09T17:11:00.318Z"
   },
   {
    "duration": 1292,
    "start_time": "2023-03-09T17:11:26.230Z"
   },
   {
    "duration": 56,
    "start_time": "2023-03-09T17:11:27.525Z"
   },
   {
    "duration": 27,
    "start_time": "2023-03-09T17:11:27.583Z"
   },
   {
    "duration": 15,
    "start_time": "2023-03-09T17:11:27.612Z"
   },
   {
    "duration": 42,
    "start_time": "2023-03-09T17:11:27.629Z"
   },
   {
    "duration": 55,
    "start_time": "2023-03-09T17:11:27.672Z"
   },
   {
    "duration": 33,
    "start_time": "2023-03-09T17:11:27.729Z"
   },
   {
    "duration": 6,
    "start_time": "2023-03-09T17:11:27.764Z"
   },
   {
    "duration": 18,
    "start_time": "2023-03-09T17:11:27.772Z"
   },
   {
    "duration": 4,
    "start_time": "2023-03-09T17:11:27.793Z"
   },
   {
    "duration": 214,
    "start_time": "2023-03-09T17:11:27.800Z"
   },
   {
    "duration": 3,
    "start_time": "2023-03-09T17:11:28.016Z"
   },
   {
    "duration": 15,
    "start_time": "2023-03-09T17:11:28.020Z"
   },
   {
    "duration": 29,
    "start_time": "2023-03-09T17:11:28.037Z"
   },
   {
    "duration": 8,
    "start_time": "2023-03-09T17:11:28.067Z"
   },
   {
    "duration": 10,
    "start_time": "2023-03-09T17:11:28.077Z"
   },
   {
    "duration": 11,
    "start_time": "2023-03-09T17:11:28.090Z"
   },
   {
    "duration": 7,
    "start_time": "2023-03-09T17:11:28.104Z"
   },
   {
    "duration": 42,
    "start_time": "2023-03-09T17:11:28.113Z"
   },
   {
    "duration": 10,
    "start_time": "2023-03-09T17:11:28.156Z"
   },
   {
    "duration": 5,
    "start_time": "2023-03-09T17:11:28.167Z"
   },
   {
    "duration": 437,
    "start_time": "2023-03-09T17:11:28.174Z"
   },
   {
    "duration": 5,
    "start_time": "2023-03-09T17:11:28.613Z"
   },
   {
    "duration": 21,
    "start_time": "2023-03-09T17:11:28.621Z"
   },
   {
    "duration": 29,
    "start_time": "2023-03-09T17:11:28.645Z"
   },
   {
    "duration": 11,
    "start_time": "2023-03-09T17:11:28.676Z"
   },
   {
    "duration": 11,
    "start_time": "2023-03-09T17:11:28.690Z"
   },
   {
    "duration": 12,
    "start_time": "2023-03-09T17:11:28.706Z"
   },
   {
    "duration": 39,
    "start_time": "2023-03-09T17:11:28.720Z"
   },
   {
    "duration": 13,
    "start_time": "2023-03-09T17:11:28.761Z"
   },
   {
    "duration": 19,
    "start_time": "2023-03-09T17:11:28.775Z"
   },
   {
    "duration": 5,
    "start_time": "2023-03-09T17:11:28.796Z"
   },
   {
    "duration": 21,
    "start_time": "2023-03-09T17:11:28.802Z"
   },
   {
    "duration": 7,
    "start_time": "2023-03-09T17:11:28.825Z"
   },
   {
    "duration": 23,
    "start_time": "2023-03-09T17:11:28.854Z"
   },
   {
    "duration": 8,
    "start_time": "2023-03-09T17:11:28.879Z"
   },
   {
    "duration": 2,
    "start_time": "2023-03-09T17:11:28.889Z"
   },
   {
    "duration": 205,
    "start_time": "2023-03-09T17:11:28.893Z"
   },
   {
    "duration": 181,
    "start_time": "2023-03-09T17:11:29.099Z"
   },
   {
    "duration": 8,
    "start_time": "2023-03-09T17:11:29.282Z"
   },
   {
    "duration": 26,
    "start_time": "2023-03-09T17:11:29.292Z"
   },
   {
    "duration": 9,
    "start_time": "2023-03-09T17:11:29.320Z"
   },
   {
    "duration": 10,
    "start_time": "2023-03-09T17:11:29.354Z"
   },
   {
    "duration": 505,
    "start_time": "2023-03-09T17:11:29.366Z"
   },
   {
    "duration": 12,
    "start_time": "2023-03-09T17:11:29.873Z"
   },
   {
    "duration": 8,
    "start_time": "2023-03-09T17:11:29.886Z"
   },
   {
    "duration": 11,
    "start_time": "2023-03-09T17:11:29.896Z"
   },
   {
    "duration": 46,
    "start_time": "2023-03-09T17:11:29.908Z"
   },
   {
    "duration": 15,
    "start_time": "2023-03-09T17:11:29.956Z"
   },
   {
    "duration": 13,
    "start_time": "2023-03-09T17:11:29.973Z"
   },
   {
    "duration": 254,
    "start_time": "2023-03-09T17:11:29.987Z"
   },
   {
    "duration": 2,
    "start_time": "2023-03-09T17:11:30.243Z"
   },
   {
    "duration": 34,
    "start_time": "2023-03-09T17:11:30.247Z"
   },
   {
    "duration": 42,
    "start_time": "2023-03-09T17:11:30.283Z"
   },
   {
    "duration": 381,
    "start_time": "2023-03-09T17:11:30.326Z"
   },
   {
    "duration": 3,
    "start_time": "2023-03-09T17:11:30.710Z"
   },
   {
    "duration": 88,
    "start_time": "2023-03-09T17:11:30.714Z"
   },
   {
    "duration": 25,
    "start_time": "2023-03-09T17:11:30.804Z"
   },
   {
    "duration": 26,
    "start_time": "2023-03-09T17:11:30.831Z"
   },
   {
    "duration": 417,
    "start_time": "2023-03-09T17:11:30.859Z"
   },
   {
    "duration": 351,
    "start_time": "2023-03-09T17:11:31.278Z"
   },
   {
    "duration": 34,
    "start_time": "2023-03-09T17:11:31.630Z"
   },
   {
    "duration": 14,
    "start_time": "2023-03-09T17:11:31.666Z"
   },
   {
    "duration": 213,
    "start_time": "2023-03-09T17:11:31.682Z"
   },
   {
    "duration": 5,
    "start_time": "2023-03-09T17:11:31.896Z"
   },
   {
    "duration": 168,
    "start_time": "2023-03-09T17:11:31.903Z"
   },
   {
    "duration": 27,
    "start_time": "2023-03-09T17:11:32.073Z"
   },
   {
    "duration": 221,
    "start_time": "2023-03-09T17:11:32.101Z"
   },
   {
    "duration": 308,
    "start_time": "2023-03-09T17:11:32.323Z"
   },
   {
    "duration": 284,
    "start_time": "2023-03-09T17:11:32.633Z"
   },
   {
    "duration": 578,
    "start_time": "2023-03-09T17:11:32.918Z"
   },
   {
    "duration": 3,
    "start_time": "2023-03-09T17:11:33.497Z"
   },
   {
    "duration": 9,
    "start_time": "2023-03-09T17:11:33.502Z"
   },
   {
    "duration": 34,
    "start_time": "2023-03-09T17:11:33.513Z"
   },
   {
    "duration": 489,
    "start_time": "2023-03-09T17:11:33.550Z"
   },
   {
    "duration": 7,
    "start_time": "2023-03-09T17:11:34.042Z"
   },
   {
    "duration": 7,
    "start_time": "2023-03-09T17:11:34.053Z"
   },
   {
    "duration": 6,
    "start_time": "2023-03-09T17:11:34.063Z"
   },
   {
    "duration": 6,
    "start_time": "2023-03-09T17:11:34.071Z"
   },
   {
    "duration": 5,
    "start_time": "2023-03-09T17:11:34.079Z"
   },
   {
    "duration": 20,
    "start_time": "2023-03-09T17:11:34.089Z"
   },
   {
    "duration": 264,
    "start_time": "2023-03-09T17:11:34.115Z"
   },
   {
    "duration": 7,
    "start_time": "2023-03-09T17:11:34.381Z"
   },
   {
    "duration": 18,
    "start_time": "2023-03-09T17:11:34.390Z"
   },
   {
    "duration": 13,
    "start_time": "2023-03-09T17:11:34.410Z"
   },
   {
    "duration": 7,
    "start_time": "2023-03-09T17:11:34.425Z"
   },
   {
    "duration": 7,
    "start_time": "2023-03-09T17:11:34.434Z"
   },
   {
    "duration": 75,
    "start_time": "2023-03-09T17:11:34.443Z"
   },
   {
    "duration": 0,
    "start_time": "2023-03-09T17:11:34.520Z"
   },
   {
    "duration": 0,
    "start_time": "2023-03-09T17:11:34.521Z"
   },
   {
    "duration": 0,
    "start_time": "2023-03-09T17:11:34.523Z"
   },
   {
    "duration": 0,
    "start_time": "2023-03-09T17:11:34.524Z"
   },
   {
    "duration": 6,
    "start_time": "2023-03-09T17:19:51.526Z"
   },
   {
    "duration": 5,
    "start_time": "2023-03-09T17:19:51.940Z"
   },
   {
    "duration": 4,
    "start_time": "2023-03-09T17:19:52.302Z"
   },
   {
    "duration": 4,
    "start_time": "2023-03-09T17:19:52.652Z"
   },
   {
    "duration": 1401,
    "start_time": "2023-03-10T11:02:21.969Z"
   },
   {
    "duration": 95,
    "start_time": "2023-03-10T11:02:23.372Z"
   },
   {
    "duration": 28,
    "start_time": "2023-03-10T11:02:23.469Z"
   },
   {
    "duration": 19,
    "start_time": "2023-03-10T11:02:23.499Z"
   },
   {
    "duration": 41,
    "start_time": "2023-03-10T11:02:23.520Z"
   },
   {
    "duration": 70,
    "start_time": "2023-03-10T11:02:23.564Z"
   },
   {
    "duration": 36,
    "start_time": "2023-03-10T11:02:23.636Z"
   },
   {
    "duration": 9,
    "start_time": "2023-03-10T11:02:23.675Z"
   },
   {
    "duration": 28,
    "start_time": "2023-03-10T11:02:23.686Z"
   },
   {
    "duration": 10,
    "start_time": "2023-03-10T11:02:23.716Z"
   },
   {
    "duration": 249,
    "start_time": "2023-03-10T11:02:23.728Z"
   },
   {
    "duration": 5,
    "start_time": "2023-03-10T11:02:23.980Z"
   },
   {
    "duration": 22,
    "start_time": "2023-03-10T11:02:23.988Z"
   },
   {
    "duration": 18,
    "start_time": "2023-03-10T11:02:24.013Z"
   },
   {
    "duration": 27,
    "start_time": "2023-03-10T11:02:24.033Z"
   },
   {
    "duration": 8,
    "start_time": "2023-03-10T11:02:24.061Z"
   },
   {
    "duration": 16,
    "start_time": "2023-03-10T11:02:24.071Z"
   },
   {
    "duration": 23,
    "start_time": "2023-03-10T11:02:24.089Z"
   },
   {
    "duration": 30,
    "start_time": "2023-03-10T11:02:24.114Z"
   },
   {
    "duration": 29,
    "start_time": "2023-03-10T11:02:24.146Z"
   },
   {
    "duration": 11,
    "start_time": "2023-03-10T11:02:24.177Z"
   },
   {
    "duration": 486,
    "start_time": "2023-03-10T11:02:24.190Z"
   },
   {
    "duration": 5,
    "start_time": "2023-03-10T11:02:24.678Z"
   },
   {
    "duration": 13,
    "start_time": "2023-03-10T11:02:24.685Z"
   },
   {
    "duration": 17,
    "start_time": "2023-03-10T11:02:24.700Z"
   },
   {
    "duration": 8,
    "start_time": "2023-03-10T11:02:24.718Z"
   },
   {
    "duration": 31,
    "start_time": "2023-03-10T11:02:24.728Z"
   },
   {
    "duration": 18,
    "start_time": "2023-03-10T11:02:24.761Z"
   },
   {
    "duration": 23,
    "start_time": "2023-03-10T11:02:24.780Z"
   },
   {
    "duration": 12,
    "start_time": "2023-03-10T11:02:24.805Z"
   },
   {
    "duration": 51,
    "start_time": "2023-03-10T11:02:24.819Z"
   },
   {
    "duration": 6,
    "start_time": "2023-03-10T11:02:24.872Z"
   },
   {
    "duration": 44,
    "start_time": "2023-03-10T11:02:24.881Z"
   },
   {
    "duration": 6,
    "start_time": "2023-03-10T11:02:24.927Z"
   },
   {
    "duration": 38,
    "start_time": "2023-03-10T11:02:24.935Z"
   },
   {
    "duration": 10,
    "start_time": "2023-03-10T11:02:24.976Z"
   },
   {
    "duration": 22,
    "start_time": "2023-03-10T11:02:24.989Z"
   },
   {
    "duration": 204,
    "start_time": "2023-03-10T11:02:25.012Z"
   },
   {
    "duration": 280,
    "start_time": "2023-03-10T11:02:25.218Z"
   },
   {
    "duration": 11,
    "start_time": "2023-03-10T11:02:25.500Z"
   },
   {
    "duration": 50,
    "start_time": "2023-03-10T11:02:25.517Z"
   },
   {
    "duration": 43,
    "start_time": "2023-03-10T11:02:25.571Z"
   },
   {
    "duration": 30,
    "start_time": "2023-03-10T11:02:25.616Z"
   },
   {
    "duration": 283,
    "start_time": "2023-03-10T11:02:25.648Z"
   },
   {
    "duration": 12,
    "start_time": "2023-03-10T11:02:25.933Z"
   },
   {
    "duration": 17,
    "start_time": "2023-03-10T11:02:25.946Z"
   },
   {
    "duration": 26,
    "start_time": "2023-03-10T11:02:25.965Z"
   },
   {
    "duration": 41,
    "start_time": "2023-03-10T11:02:25.993Z"
   },
   {
    "duration": 27,
    "start_time": "2023-03-10T11:02:26.036Z"
   },
   {
    "duration": 27,
    "start_time": "2023-03-10T11:02:26.065Z"
   },
   {
    "duration": 219,
    "start_time": "2023-03-10T11:02:26.095Z"
   },
   {
    "duration": 3,
    "start_time": "2023-03-10T11:02:26.316Z"
   },
   {
    "duration": 24,
    "start_time": "2023-03-10T11:02:26.321Z"
   },
   {
    "duration": 43,
    "start_time": "2023-03-10T11:02:26.346Z"
   },
   {
    "duration": 333,
    "start_time": "2023-03-10T11:02:26.391Z"
   },
   {
    "duration": 2,
    "start_time": "2023-03-10T11:02:26.726Z"
   },
   {
    "duration": 66,
    "start_time": "2023-03-10T11:02:26.730Z"
   },
   {
    "duration": 23,
    "start_time": "2023-03-10T11:02:26.798Z"
   },
   {
    "duration": 4,
    "start_time": "2023-03-10T11:02:26.823Z"
   },
   {
    "duration": 376,
    "start_time": "2023-03-10T11:02:26.829Z"
   },
   {
    "duration": 315,
    "start_time": "2023-03-10T11:02:27.207Z"
   },
   {
    "duration": 23,
    "start_time": "2023-03-10T11:02:27.524Z"
   },
   {
    "duration": 6,
    "start_time": "2023-03-10T11:02:27.557Z"
   },
   {
    "duration": 216,
    "start_time": "2023-03-10T11:02:27.565Z"
   },
   {
    "duration": 10,
    "start_time": "2023-03-10T11:02:27.783Z"
   },
   {
    "duration": 219,
    "start_time": "2023-03-10T11:02:27.795Z"
   },
   {
    "duration": 25,
    "start_time": "2023-03-10T11:02:28.016Z"
   },
   {
    "duration": 185,
    "start_time": "2023-03-10T11:02:28.057Z"
   },
   {
    "duration": 316,
    "start_time": "2023-03-10T11:02:28.243Z"
   },
   {
    "duration": 350,
    "start_time": "2023-03-10T11:02:28.561Z"
   },
   {
    "duration": 546,
    "start_time": "2023-03-10T11:02:28.913Z"
   },
   {
    "duration": 3,
    "start_time": "2023-03-10T11:02:29.461Z"
   },
   {
    "duration": 20,
    "start_time": "2023-03-10T11:02:29.466Z"
   },
   {
    "duration": 12,
    "start_time": "2023-03-10T11:02:29.489Z"
   },
   {
    "duration": 474,
    "start_time": "2023-03-10T11:02:29.503Z"
   },
   {
    "duration": 6,
    "start_time": "2023-03-10T11:02:29.979Z"
   },
   {
    "duration": 9,
    "start_time": "2023-03-10T11:02:29.987Z"
   },
   {
    "duration": 13,
    "start_time": "2023-03-10T11:02:29.999Z"
   },
   {
    "duration": 21,
    "start_time": "2023-03-10T11:02:30.015Z"
   },
   {
    "duration": 36,
    "start_time": "2023-03-10T11:02:30.038Z"
   },
   {
    "duration": 37,
    "start_time": "2023-03-10T11:02:30.076Z"
   },
   {
    "duration": 170,
    "start_time": "2023-03-10T11:02:30.115Z"
   },
   {
    "duration": 8,
    "start_time": "2023-03-10T11:02:30.288Z"
   },
   {
    "duration": 34,
    "start_time": "2023-03-10T11:02:30.298Z"
   },
   {
    "duration": 14,
    "start_time": "2023-03-10T11:02:30.333Z"
   },
   {
    "duration": 29,
    "start_time": "2023-03-10T11:02:30.349Z"
   },
   {
    "duration": 12,
    "start_time": "2023-03-10T11:02:30.380Z"
   },
   {
    "duration": 17,
    "start_time": "2023-03-10T11:02:30.394Z"
   },
   {
    "duration": 17,
    "start_time": "2023-03-10T11:02:30.413Z"
   },
   {
    "duration": 15,
    "start_time": "2023-03-10T11:02:30.432Z"
   },
   {
    "duration": 27,
    "start_time": "2023-03-10T11:02:30.448Z"
   },
   {
    "duration": 5,
    "start_time": "2023-03-10T11:57:59.555Z"
   },
   {
    "duration": 7,
    "start_time": "2023-03-10T11:58:09.916Z"
   },
   {
    "duration": 104,
    "start_time": "2023-03-10T11:58:23.093Z"
   },
   {
    "duration": 19,
    "start_time": "2023-03-10T11:58:40.093Z"
   },
   {
    "duration": 10,
    "start_time": "2023-03-10T11:58:59.511Z"
   },
   {
    "duration": 22,
    "start_time": "2023-03-10T11:59:12.071Z"
   },
   {
    "duration": 1107,
    "start_time": "2023-03-10T12:00:32.798Z"
   },
   {
    "duration": 53,
    "start_time": "2023-03-10T12:00:33.907Z"
   },
   {
    "duration": 25,
    "start_time": "2023-03-10T12:00:33.961Z"
   },
   {
    "duration": 13,
    "start_time": "2023-03-10T12:00:33.988Z"
   },
   {
    "duration": 28,
    "start_time": "2023-03-10T12:00:34.003Z"
   },
   {
    "duration": 91,
    "start_time": "2023-03-10T12:00:34.033Z"
   },
   {
    "duration": 31,
    "start_time": "2023-03-10T12:00:34.127Z"
   },
   {
    "duration": 7,
    "start_time": "2023-03-10T12:00:34.160Z"
   },
   {
    "duration": 20,
    "start_time": "2023-03-10T12:00:34.169Z"
   },
   {
    "duration": 6,
    "start_time": "2023-03-10T12:00:34.191Z"
   },
   {
    "duration": 227,
    "start_time": "2023-03-10T12:00:34.198Z"
   },
   {
    "duration": 3,
    "start_time": "2023-03-10T12:00:34.427Z"
   },
   {
    "duration": 13,
    "start_time": "2023-03-10T12:00:34.432Z"
   },
   {
    "duration": 24,
    "start_time": "2023-03-10T12:00:34.448Z"
   },
   {
    "duration": 7,
    "start_time": "2023-03-10T12:00:34.474Z"
   },
   {
    "duration": 6,
    "start_time": "2023-03-10T12:00:34.483Z"
   },
   {
    "duration": 29,
    "start_time": "2023-03-10T12:00:34.491Z"
   },
   {
    "duration": 8,
    "start_time": "2023-03-10T12:00:34.521Z"
   },
   {
    "duration": 7,
    "start_time": "2023-03-10T12:00:34.531Z"
   },
   {
    "duration": 9,
    "start_time": "2023-03-10T12:00:34.539Z"
   },
   {
    "duration": 12,
    "start_time": "2023-03-10T12:00:34.550Z"
   },
   {
    "duration": 409,
    "start_time": "2023-03-10T12:00:34.564Z"
   },
   {
    "duration": 4,
    "start_time": "2023-03-10T12:00:34.975Z"
   },
   {
    "duration": 38,
    "start_time": "2023-03-10T12:00:34.981Z"
   },
   {
    "duration": 29,
    "start_time": "2023-03-10T12:00:35.020Z"
   },
   {
    "duration": 25,
    "start_time": "2023-03-10T12:00:35.051Z"
   },
   {
    "duration": 7,
    "start_time": "2023-03-10T12:00:35.078Z"
   },
   {
    "duration": 12,
    "start_time": "2023-03-10T12:00:35.087Z"
   },
   {
    "duration": 23,
    "start_time": "2023-03-10T12:00:35.101Z"
   },
   {
    "duration": 21,
    "start_time": "2023-03-10T12:00:35.126Z"
   },
   {
    "duration": 10,
    "start_time": "2023-03-10T12:00:35.149Z"
   },
   {
    "duration": 36,
    "start_time": "2023-03-10T12:00:35.163Z"
   },
   {
    "duration": 25,
    "start_time": "2023-03-10T12:00:35.201Z"
   },
   {
    "duration": 27,
    "start_time": "2023-03-10T12:00:35.229Z"
   },
   {
    "duration": 11,
    "start_time": "2023-03-10T12:00:35.258Z"
   },
   {
    "duration": 51,
    "start_time": "2023-03-10T12:00:35.271Z"
   },
   {
    "duration": 33,
    "start_time": "2023-03-10T12:00:35.325Z"
   },
   {
    "duration": 37,
    "start_time": "2023-03-10T12:00:35.360Z"
   },
   {
    "duration": 286,
    "start_time": "2023-03-10T12:00:35.399Z"
   },
   {
    "duration": 385,
    "start_time": "2023-03-10T12:00:35.687Z"
   },
   {
    "duration": 7,
    "start_time": "2023-03-10T12:00:36.077Z"
   },
   {
    "duration": 77,
    "start_time": "2023-03-10T12:00:36.085Z"
   },
   {
    "duration": 23,
    "start_time": "2023-03-10T12:00:36.164Z"
   },
   {
    "duration": 20,
    "start_time": "2023-03-10T12:00:36.189Z"
   },
   {
    "duration": 559,
    "start_time": "2023-03-10T12:00:36.211Z"
   },
   {
    "duration": 11,
    "start_time": "2023-03-10T12:00:36.772Z"
   },
   {
    "duration": 12,
    "start_time": "2023-03-10T12:00:36.784Z"
   },
   {
    "duration": 59,
    "start_time": "2023-03-10T12:00:36.798Z"
   },
   {
    "duration": 21,
    "start_time": "2023-03-10T12:00:36.859Z"
   },
   {
    "duration": 17,
    "start_time": "2023-03-10T12:00:36.881Z"
   },
   {
    "duration": 67,
    "start_time": "2023-03-10T12:00:36.900Z"
   },
   {
    "duration": 418,
    "start_time": "2023-03-10T12:00:36.969Z"
   },
   {
    "duration": 3,
    "start_time": "2023-03-10T12:00:37.388Z"
   },
   {
    "duration": 11,
    "start_time": "2023-03-10T12:00:37.392Z"
   },
   {
    "duration": 12,
    "start_time": "2023-03-10T12:00:37.405Z"
   },
   {
    "duration": 337,
    "start_time": "2023-03-10T12:00:37.419Z"
   },
   {
    "duration": 3,
    "start_time": "2023-03-10T12:00:37.758Z"
   },
   {
    "duration": 49,
    "start_time": "2023-03-10T12:00:37.762Z"
   },
   {
    "duration": 21,
    "start_time": "2023-03-10T12:00:37.813Z"
   },
   {
    "duration": 2,
    "start_time": "2023-03-10T12:00:37.858Z"
   },
   {
    "duration": 335,
    "start_time": "2023-03-10T12:00:37.862Z"
   },
   {
    "duration": 294,
    "start_time": "2023-03-10T12:00:38.199Z"
   },
   {
    "duration": 24,
    "start_time": "2023-03-10T12:00:38.495Z"
   },
   {
    "duration": 24,
    "start_time": "2023-03-10T12:00:38.521Z"
   },
   {
    "duration": 162,
    "start_time": "2023-03-10T12:00:38.547Z"
   },
   {
    "duration": 5,
    "start_time": "2023-03-10T12:00:38.711Z"
   },
   {
    "duration": 185,
    "start_time": "2023-03-10T12:00:38.718Z"
   },
   {
    "duration": 24,
    "start_time": "2023-03-10T12:00:38.905Z"
   },
   {
    "duration": 183,
    "start_time": "2023-03-10T12:00:38.930Z"
   },
   {
    "duration": 308,
    "start_time": "2023-03-10T12:00:39.115Z"
   },
   {
    "duration": 283,
    "start_time": "2023-03-10T12:00:39.424Z"
   },
   {
    "duration": 545,
    "start_time": "2023-03-10T12:00:39.708Z"
   },
   {
    "duration": 4,
    "start_time": "2023-03-10T12:00:40.254Z"
   },
   {
    "duration": 37,
    "start_time": "2023-03-10T12:00:40.259Z"
   },
   {
    "duration": 34,
    "start_time": "2023-03-10T12:00:40.298Z"
   },
   {
    "duration": 437,
    "start_time": "2023-03-10T12:00:40.334Z"
   },
   {
    "duration": 5,
    "start_time": "2023-03-10T12:00:40.772Z"
   },
   {
    "duration": 27,
    "start_time": "2023-03-10T12:00:40.779Z"
   },
   {
    "duration": 40,
    "start_time": "2023-03-10T12:00:40.807Z"
   },
   {
    "duration": 30,
    "start_time": "2023-03-10T12:00:40.848Z"
   },
   {
    "duration": 17,
    "start_time": "2023-03-10T12:00:40.880Z"
   },
   {
    "duration": 45,
    "start_time": "2023-03-10T12:00:40.898Z"
   },
   {
    "duration": 192,
    "start_time": "2023-03-10T12:00:40.945Z"
   },
   {
    "duration": 5,
    "start_time": "2023-03-10T12:00:41.138Z"
   },
   {
    "duration": 12,
    "start_time": "2023-03-10T12:00:41.145Z"
   },
   {
    "duration": 9,
    "start_time": "2023-03-10T12:00:41.159Z"
   },
   {
    "duration": 6,
    "start_time": "2023-03-10T12:00:41.169Z"
   },
   {
    "duration": 5,
    "start_time": "2023-03-10T12:00:41.177Z"
   },
   {
    "duration": 6,
    "start_time": "2023-03-10T12:00:41.183Z"
   },
   {
    "duration": 6,
    "start_time": "2023-03-10T12:00:41.190Z"
   },
   {
    "duration": 5,
    "start_time": "2023-03-10T12:00:41.198Z"
   },
   {
    "duration": 5,
    "start_time": "2023-03-10T12:00:41.205Z"
   },
   {
    "duration": 25,
    "start_time": "2023-03-10T12:00:45.929Z"
   },
   {
    "duration": 1076,
    "start_time": "2023-03-10T12:02:19.817Z"
   },
   {
    "duration": 54,
    "start_time": "2023-03-10T12:02:20.895Z"
   },
   {
    "duration": 24,
    "start_time": "2023-03-10T12:02:20.951Z"
   },
   {
    "duration": 17,
    "start_time": "2023-03-10T12:02:20.976Z"
   },
   {
    "duration": 28,
    "start_time": "2023-03-10T12:02:20.995Z"
   },
   {
    "duration": 74,
    "start_time": "2023-03-10T12:02:21.024Z"
   },
   {
    "duration": 14,
    "start_time": "2023-03-10T12:02:21.100Z"
   },
   {
    "duration": 6,
    "start_time": "2023-03-10T12:02:21.116Z"
   },
   {
    "duration": 41,
    "start_time": "2023-03-10T12:02:21.123Z"
   },
   {
    "duration": 4,
    "start_time": "2023-03-10T12:02:21.166Z"
   },
   {
    "duration": 187,
    "start_time": "2023-03-10T12:02:21.171Z"
   },
   {
    "duration": 3,
    "start_time": "2023-03-10T12:02:21.360Z"
   },
   {
    "duration": 17,
    "start_time": "2023-03-10T12:02:21.365Z"
   },
   {
    "duration": 18,
    "start_time": "2023-03-10T12:02:21.385Z"
   },
   {
    "duration": 6,
    "start_time": "2023-03-10T12:02:21.405Z"
   },
   {
    "duration": 11,
    "start_time": "2023-03-10T12:02:21.413Z"
   },
   {
    "duration": 6,
    "start_time": "2023-03-10T12:02:21.425Z"
   },
   {
    "duration": 8,
    "start_time": "2023-03-10T12:02:21.432Z"
   },
   {
    "duration": 19,
    "start_time": "2023-03-10T12:02:21.441Z"
   },
   {
    "duration": 9,
    "start_time": "2023-03-10T12:02:21.462Z"
   },
   {
    "duration": 15,
    "start_time": "2023-03-10T12:02:21.472Z"
   },
   {
    "duration": 423,
    "start_time": "2023-03-10T12:02:21.489Z"
   },
   {
    "duration": 0,
    "start_time": "2023-03-10T12:02:21.915Z"
   },
   {
    "duration": 0,
    "start_time": "2023-03-10T12:02:21.916Z"
   },
   {
    "duration": 0,
    "start_time": "2023-03-10T12:02:21.917Z"
   },
   {
    "duration": 0,
    "start_time": "2023-03-10T12:02:21.919Z"
   },
   {
    "duration": 0,
    "start_time": "2023-03-10T12:02:21.920Z"
   },
   {
    "duration": 0,
    "start_time": "2023-03-10T12:02:21.921Z"
   },
   {
    "duration": 0,
    "start_time": "2023-03-10T12:02:21.922Z"
   },
   {
    "duration": 0,
    "start_time": "2023-03-10T12:02:21.923Z"
   },
   {
    "duration": 0,
    "start_time": "2023-03-10T12:02:21.924Z"
   },
   {
    "duration": 0,
    "start_time": "2023-03-10T12:02:21.925Z"
   },
   {
    "duration": 0,
    "start_time": "2023-03-10T12:02:21.926Z"
   },
   {
    "duration": 0,
    "start_time": "2023-03-10T12:02:21.927Z"
   },
   {
    "duration": 0,
    "start_time": "2023-03-10T12:02:21.929Z"
   },
   {
    "duration": 0,
    "start_time": "2023-03-10T12:02:21.929Z"
   },
   {
    "duration": 0,
    "start_time": "2023-03-10T12:02:21.931Z"
   },
   {
    "duration": 0,
    "start_time": "2023-03-10T12:02:21.932Z"
   },
   {
    "duration": 0,
    "start_time": "2023-03-10T12:02:21.933Z"
   },
   {
    "duration": 0,
    "start_time": "2023-03-10T12:02:21.934Z"
   },
   {
    "duration": 0,
    "start_time": "2023-03-10T12:02:21.936Z"
   },
   {
    "duration": 0,
    "start_time": "2023-03-10T12:02:21.937Z"
   },
   {
    "duration": 0,
    "start_time": "2023-03-10T12:02:21.938Z"
   },
   {
    "duration": 0,
    "start_time": "2023-03-10T12:02:21.939Z"
   },
   {
    "duration": 0,
    "start_time": "2023-03-10T12:02:21.940Z"
   },
   {
    "duration": 0,
    "start_time": "2023-03-10T12:02:21.941Z"
   },
   {
    "duration": 0,
    "start_time": "2023-03-10T12:02:21.942Z"
   },
   {
    "duration": 0,
    "start_time": "2023-03-10T12:02:21.943Z"
   },
   {
    "duration": 0,
    "start_time": "2023-03-10T12:02:21.944Z"
   },
   {
    "duration": 0,
    "start_time": "2023-03-10T12:02:21.945Z"
   },
   {
    "duration": 0,
    "start_time": "2023-03-10T12:02:21.946Z"
   },
   {
    "duration": 0,
    "start_time": "2023-03-10T12:02:21.949Z"
   },
   {
    "duration": 0,
    "start_time": "2023-03-10T12:02:21.950Z"
   },
   {
    "duration": 0,
    "start_time": "2023-03-10T12:02:21.951Z"
   },
   {
    "duration": 0,
    "start_time": "2023-03-10T12:02:21.957Z"
   },
   {
    "duration": 0,
    "start_time": "2023-03-10T12:02:21.958Z"
   },
   {
    "duration": 0,
    "start_time": "2023-03-10T12:02:21.959Z"
   },
   {
    "duration": 0,
    "start_time": "2023-03-10T12:02:21.961Z"
   },
   {
    "duration": 0,
    "start_time": "2023-03-10T12:02:21.962Z"
   },
   {
    "duration": 0,
    "start_time": "2023-03-10T12:02:21.964Z"
   },
   {
    "duration": 0,
    "start_time": "2023-03-10T12:02:21.965Z"
   },
   {
    "duration": 0,
    "start_time": "2023-03-10T12:02:21.966Z"
   },
   {
    "duration": 0,
    "start_time": "2023-03-10T12:02:21.967Z"
   },
   {
    "duration": 0,
    "start_time": "2023-03-10T12:02:21.968Z"
   },
   {
    "duration": 0,
    "start_time": "2023-03-10T12:02:21.969Z"
   },
   {
    "duration": 0,
    "start_time": "2023-03-10T12:02:21.970Z"
   },
   {
    "duration": 0,
    "start_time": "2023-03-10T12:02:21.971Z"
   },
   {
    "duration": 0,
    "start_time": "2023-03-10T12:02:21.972Z"
   },
   {
    "duration": 0,
    "start_time": "2023-03-10T12:02:21.973Z"
   },
   {
    "duration": 0,
    "start_time": "2023-03-10T12:02:21.974Z"
   },
   {
    "duration": 0,
    "start_time": "2023-03-10T12:02:21.975Z"
   },
   {
    "duration": 0,
    "start_time": "2023-03-10T12:02:21.976Z"
   },
   {
    "duration": 0,
    "start_time": "2023-03-10T12:02:21.977Z"
   },
   {
    "duration": 0,
    "start_time": "2023-03-10T12:02:21.978Z"
   },
   {
    "duration": 0,
    "start_time": "2023-03-10T12:02:21.979Z"
   },
   {
    "duration": 0,
    "start_time": "2023-03-10T12:02:21.979Z"
   },
   {
    "duration": 0,
    "start_time": "2023-03-10T12:02:21.980Z"
   },
   {
    "duration": 0,
    "start_time": "2023-03-10T12:02:21.981Z"
   },
   {
    "duration": 0,
    "start_time": "2023-03-10T12:02:21.983Z"
   },
   {
    "duration": 0,
    "start_time": "2023-03-10T12:02:21.984Z"
   },
   {
    "duration": 0,
    "start_time": "2023-03-10T12:02:21.985Z"
   },
   {
    "duration": 0,
    "start_time": "2023-03-10T12:02:21.986Z"
   },
   {
    "duration": 0,
    "start_time": "2023-03-10T12:02:21.987Z"
   },
   {
    "duration": 0,
    "start_time": "2023-03-10T12:02:21.988Z"
   },
   {
    "duration": 0,
    "start_time": "2023-03-10T12:02:21.989Z"
   },
   {
    "duration": 0,
    "start_time": "2023-03-10T12:02:21.990Z"
   },
   {
    "duration": 0,
    "start_time": "2023-03-10T12:02:21.991Z"
   },
   {
    "duration": 1,
    "start_time": "2023-03-10T12:02:21.992Z"
   },
   {
    "duration": 0,
    "start_time": "2023-03-10T12:02:22.057Z"
   },
   {
    "duration": 0,
    "start_time": "2023-03-10T12:02:22.058Z"
   },
   {
    "duration": 0,
    "start_time": "2023-03-10T12:02:22.059Z"
   },
   {
    "duration": 0,
    "start_time": "2023-03-10T12:02:22.060Z"
   },
   {
    "duration": 285,
    "start_time": "2023-03-10T12:02:48.415Z"
   },
   {
    "duration": 432,
    "start_time": "2023-03-10T12:03:10.073Z"
   },
   {
    "duration": 1135,
    "start_time": "2023-03-10T12:05:43.778Z"
   },
   {
    "duration": 52,
    "start_time": "2023-03-10T12:05:44.915Z"
   },
   {
    "duration": 26,
    "start_time": "2023-03-10T12:05:44.969Z"
   },
   {
    "duration": 16,
    "start_time": "2023-03-10T12:05:44.997Z"
   },
   {
    "duration": 50,
    "start_time": "2023-03-10T12:05:45.016Z"
   },
   {
    "duration": 55,
    "start_time": "2023-03-10T12:05:45.068Z"
   },
   {
    "duration": 33,
    "start_time": "2023-03-10T12:05:45.125Z"
   },
   {
    "duration": 8,
    "start_time": "2023-03-10T12:05:45.160Z"
   },
   {
    "duration": 26,
    "start_time": "2023-03-10T12:05:45.170Z"
   },
   {
    "duration": 5,
    "start_time": "2023-03-10T12:05:45.197Z"
   },
   {
    "duration": 216,
    "start_time": "2023-03-10T12:05:45.203Z"
   },
   {
    "duration": 4,
    "start_time": "2023-03-10T12:05:45.421Z"
   },
   {
    "duration": 14,
    "start_time": "2023-03-10T12:05:45.426Z"
   },
   {
    "duration": 25,
    "start_time": "2023-03-10T12:05:45.443Z"
   },
   {
    "duration": 8,
    "start_time": "2023-03-10T12:05:45.469Z"
   },
   {
    "duration": 16,
    "start_time": "2023-03-10T12:05:45.479Z"
   },
   {
    "duration": 14,
    "start_time": "2023-03-10T12:05:45.497Z"
   },
   {
    "duration": 28,
    "start_time": "2023-03-10T12:05:45.513Z"
   },
   {
    "duration": 19,
    "start_time": "2023-03-10T12:05:45.543Z"
   },
   {
    "duration": 7,
    "start_time": "2023-03-10T12:05:45.563Z"
   },
   {
    "duration": 8,
    "start_time": "2023-03-10T12:05:45.572Z"
   },
   {
    "duration": 461,
    "start_time": "2023-03-10T12:05:45.582Z"
   },
   {
    "duration": 5,
    "start_time": "2023-03-10T12:05:46.045Z"
   },
   {
    "duration": 20,
    "start_time": "2023-03-10T12:05:46.051Z"
   },
   {
    "duration": 14,
    "start_time": "2023-03-10T12:05:46.072Z"
   },
   {
    "duration": 10,
    "start_time": "2023-03-10T12:05:46.088Z"
   },
   {
    "duration": 8,
    "start_time": "2023-03-10T12:05:46.100Z"
   },
   {
    "duration": 20,
    "start_time": "2023-03-10T12:05:46.109Z"
   },
   {
    "duration": 18,
    "start_time": "2023-03-10T12:05:46.130Z"
   },
   {
    "duration": 11,
    "start_time": "2023-03-10T12:05:46.157Z"
   },
   {
    "duration": 19,
    "start_time": "2023-03-10T12:05:46.169Z"
   },
   {
    "duration": 5,
    "start_time": "2023-03-10T12:05:46.189Z"
   },
   {
    "duration": 16,
    "start_time": "2023-03-10T12:05:46.195Z"
   },
   {
    "duration": 3,
    "start_time": "2023-03-10T12:05:46.212Z"
   },
   {
    "duration": 52,
    "start_time": "2023-03-10T12:05:46.216Z"
   },
   {
    "duration": 7,
    "start_time": "2023-03-10T12:05:46.270Z"
   },
   {
    "duration": 2,
    "start_time": "2023-03-10T12:05:46.279Z"
   },
   {
    "duration": 201,
    "start_time": "2023-03-10T12:05:46.283Z"
   },
   {
    "duration": 185,
    "start_time": "2023-03-10T12:05:46.486Z"
   },
   {
    "duration": 7,
    "start_time": "2023-03-10T12:05:46.673Z"
   },
   {
    "duration": 23,
    "start_time": "2023-03-10T12:05:46.685Z"
   },
   {
    "duration": 9,
    "start_time": "2023-03-10T12:05:46.710Z"
   },
   {
    "duration": 36,
    "start_time": "2023-03-10T12:05:46.721Z"
   },
   {
    "duration": 276,
    "start_time": "2023-03-10T12:05:46.759Z"
   },
   {
    "duration": 11,
    "start_time": "2023-03-10T12:05:47.037Z"
   },
   {
    "duration": 14,
    "start_time": "2023-03-10T12:05:47.049Z"
   },
   {
    "duration": 10,
    "start_time": "2023-03-10T12:05:47.064Z"
   },
   {
    "duration": 22,
    "start_time": "2023-03-10T12:05:47.076Z"
   },
   {
    "duration": 13,
    "start_time": "2023-03-10T12:05:47.099Z"
   },
   {
    "duration": 12,
    "start_time": "2023-03-10T12:05:47.113Z"
   },
   {
    "duration": 234,
    "start_time": "2023-03-10T12:05:47.127Z"
   },
   {
    "duration": 2,
    "start_time": "2023-03-10T12:05:47.363Z"
   },
   {
    "duration": 10,
    "start_time": "2023-03-10T12:05:47.366Z"
   },
   {
    "duration": 12,
    "start_time": "2023-03-10T12:05:47.377Z"
   },
   {
    "duration": 317,
    "start_time": "2023-03-10T12:05:47.391Z"
   },
   {
    "duration": 2,
    "start_time": "2023-03-10T12:05:47.710Z"
   },
   {
    "duration": 49,
    "start_time": "2023-03-10T12:05:47.714Z"
   },
   {
    "duration": 21,
    "start_time": "2023-03-10T12:05:47.765Z"
   },
   {
    "duration": 3,
    "start_time": "2023-03-10T12:05:47.787Z"
   },
   {
    "duration": 362,
    "start_time": "2023-03-10T12:05:47.791Z"
   },
   {
    "duration": 288,
    "start_time": "2023-03-10T12:05:48.155Z"
   },
   {
    "duration": 30,
    "start_time": "2023-03-10T12:05:48.445Z"
   },
   {
    "duration": 6,
    "start_time": "2023-03-10T12:05:48.477Z"
   },
   {
    "duration": 175,
    "start_time": "2023-03-10T12:05:48.484Z"
   },
   {
    "duration": 5,
    "start_time": "2023-03-10T12:05:48.661Z"
   },
   {
    "duration": 164,
    "start_time": "2023-03-10T12:05:48.668Z"
   },
   {
    "duration": 35,
    "start_time": "2023-03-10T12:05:48.834Z"
   },
   {
    "duration": 179,
    "start_time": "2023-03-10T12:05:48.870Z"
   },
   {
    "duration": 306,
    "start_time": "2023-03-10T12:05:49.057Z"
   },
   {
    "duration": 281,
    "start_time": "2023-03-10T12:05:49.365Z"
   },
   {
    "duration": 529,
    "start_time": "2023-03-10T12:05:49.648Z"
   },
   {
    "duration": 3,
    "start_time": "2023-03-10T12:05:50.179Z"
   },
   {
    "duration": 5,
    "start_time": "2023-03-10T12:05:50.184Z"
   },
   {
    "duration": 7,
    "start_time": "2023-03-10T12:05:50.191Z"
   },
   {
    "duration": 412,
    "start_time": "2023-03-10T12:05:50.199Z"
   },
   {
    "duration": 5,
    "start_time": "2023-03-10T12:05:50.613Z"
   },
   {
    "duration": 7,
    "start_time": "2023-03-10T12:05:50.620Z"
   },
   {
    "duration": 7,
    "start_time": "2023-03-10T12:05:50.629Z"
   },
   {
    "duration": 15,
    "start_time": "2023-03-10T12:05:50.637Z"
   },
   {
    "duration": 9,
    "start_time": "2023-03-10T12:05:50.653Z"
   },
   {
    "duration": 20,
    "start_time": "2023-03-10T12:05:50.664Z"
   },
   {
    "duration": 165,
    "start_time": "2023-03-10T12:05:50.686Z"
   },
   {
    "duration": 4,
    "start_time": "2023-03-10T12:05:50.857Z"
   },
   {
    "duration": 23,
    "start_time": "2023-03-10T12:05:50.863Z"
   },
   {
    "duration": 17,
    "start_time": "2023-03-10T12:05:50.888Z"
   },
   {
    "duration": 11,
    "start_time": "2023-03-10T12:05:50.907Z"
   },
   {
    "duration": 8,
    "start_time": "2023-03-10T12:05:50.920Z"
   },
   {
    "duration": 12,
    "start_time": "2023-03-10T12:05:50.930Z"
   },
   {
    "duration": 7,
    "start_time": "2023-03-10T12:05:50.943Z"
   },
   {
    "duration": 21,
    "start_time": "2023-03-10T12:05:50.952Z"
   },
   {
    "duration": 21,
    "start_time": "2023-03-10T12:05:50.974Z"
   },
   {
    "duration": 269,
    "start_time": "2023-03-10T12:08:50.813Z"
   },
   {
    "duration": 4,
    "start_time": "2023-03-10T12:14:51.458Z"
   },
   {
    "duration": 1213,
    "start_time": "2023-03-10T12:20:24.855Z"
   },
   {
    "duration": 57,
    "start_time": "2023-03-10T12:20:26.070Z"
   },
   {
    "duration": 26,
    "start_time": "2023-03-10T12:20:26.129Z"
   },
   {
    "duration": 14,
    "start_time": "2023-03-10T12:20:26.156Z"
   },
   {
    "duration": 28,
    "start_time": "2023-03-10T12:20:26.173Z"
   },
   {
    "duration": 94,
    "start_time": "2023-03-10T12:20:26.203Z"
   },
   {
    "duration": 24,
    "start_time": "2023-03-10T12:20:26.299Z"
   },
   {
    "duration": 9,
    "start_time": "2023-03-10T12:20:26.324Z"
   },
   {
    "duration": 25,
    "start_time": "2023-03-10T12:20:26.357Z"
   },
   {
    "duration": 6,
    "start_time": "2023-03-10T12:20:26.384Z"
   },
   {
    "duration": 210,
    "start_time": "2023-03-10T12:20:26.392Z"
   },
   {
    "duration": 3,
    "start_time": "2023-03-10T12:20:26.604Z"
   },
   {
    "duration": 13,
    "start_time": "2023-03-10T12:20:26.608Z"
   },
   {
    "duration": 17,
    "start_time": "2023-03-10T12:20:26.624Z"
   },
   {
    "duration": 22,
    "start_time": "2023-03-10T12:20:26.643Z"
   },
   {
    "duration": 12,
    "start_time": "2023-03-10T12:20:26.666Z"
   },
   {
    "duration": 13,
    "start_time": "2023-03-10T12:20:26.680Z"
   },
   {
    "duration": 16,
    "start_time": "2023-03-10T12:20:26.694Z"
   },
   {
    "duration": 18,
    "start_time": "2023-03-10T12:20:26.712Z"
   },
   {
    "duration": 9,
    "start_time": "2023-03-10T12:20:26.731Z"
   },
   {
    "duration": 27,
    "start_time": "2023-03-10T12:20:26.741Z"
   },
   {
    "duration": 410,
    "start_time": "2023-03-10T12:20:26.770Z"
   },
   {
    "duration": 4,
    "start_time": "2023-03-10T12:20:27.182Z"
   },
   {
    "duration": 18,
    "start_time": "2023-03-10T12:20:27.188Z"
   },
   {
    "duration": 15,
    "start_time": "2023-03-10T12:20:27.207Z"
   },
   {
    "duration": 12,
    "start_time": "2023-03-10T12:20:27.224Z"
   },
   {
    "duration": 23,
    "start_time": "2023-03-10T12:20:27.238Z"
   },
   {
    "duration": 15,
    "start_time": "2023-03-10T12:20:27.263Z"
   },
   {
    "duration": 19,
    "start_time": "2023-03-10T12:20:27.279Z"
   },
   {
    "duration": 12,
    "start_time": "2023-03-10T12:20:27.300Z"
   },
   {
    "duration": 21,
    "start_time": "2023-03-10T12:20:27.313Z"
   },
   {
    "duration": 24,
    "start_time": "2023-03-10T12:20:27.336Z"
   },
   {
    "duration": 15,
    "start_time": "2023-03-10T12:20:27.362Z"
   },
   {
    "duration": 3,
    "start_time": "2023-03-10T12:20:27.379Z"
   },
   {
    "duration": 25,
    "start_time": "2023-03-10T12:20:27.383Z"
   },
   {
    "duration": 9,
    "start_time": "2023-03-10T12:20:27.409Z"
   },
   {
    "duration": 3,
    "start_time": "2023-03-10T12:20:27.419Z"
   },
   {
    "duration": 282,
    "start_time": "2023-03-10T12:20:27.423Z"
   },
   {
    "duration": 187,
    "start_time": "2023-03-10T12:20:27.707Z"
   },
   {
    "duration": 179,
    "start_time": "2023-03-10T12:20:27.896Z"
   },
   {
    "duration": 9,
    "start_time": "2023-03-10T12:20:28.081Z"
   },
   {
    "duration": 23,
    "start_time": "2023-03-10T12:20:28.091Z"
   },
   {
    "duration": 32,
    "start_time": "2023-03-10T12:20:28.116Z"
   },
   {
    "duration": 17,
    "start_time": "2023-03-10T12:20:28.150Z"
   },
   {
    "duration": 265,
    "start_time": "2023-03-10T12:20:28.169Z"
   },
   {
    "duration": 11,
    "start_time": "2023-03-10T12:20:28.436Z"
   },
   {
    "duration": 15,
    "start_time": "2023-03-10T12:20:28.448Z"
   },
   {
    "duration": 9,
    "start_time": "2023-03-10T12:20:28.464Z"
   },
   {
    "duration": 21,
    "start_time": "2023-03-10T12:20:28.475Z"
   },
   {
    "duration": 20,
    "start_time": "2023-03-10T12:20:28.498Z"
   },
   {
    "duration": 13,
    "start_time": "2023-03-10T12:20:28.520Z"
   },
   {
    "duration": 248,
    "start_time": "2023-03-10T12:20:28.535Z"
   },
   {
    "duration": 3,
    "start_time": "2023-03-10T12:20:28.785Z"
   },
   {
    "duration": 10,
    "start_time": "2023-03-10T12:20:28.790Z"
   },
   {
    "duration": 15,
    "start_time": "2023-03-10T12:20:28.801Z"
   },
   {
    "duration": 398,
    "start_time": "2023-03-10T12:20:28.818Z"
   },
   {
    "duration": 3,
    "start_time": "2023-03-10T12:20:29.219Z"
   },
   {
    "duration": 56,
    "start_time": "2023-03-10T12:20:29.223Z"
   },
   {
    "duration": 24,
    "start_time": "2023-03-10T12:20:29.281Z"
   },
   {
    "duration": 2,
    "start_time": "2023-03-10T12:20:29.308Z"
   },
   {
    "duration": 292,
    "start_time": "2023-03-10T12:20:29.312Z"
   },
   {
    "duration": 292,
    "start_time": "2023-03-10T12:20:29.606Z"
   },
   {
    "duration": 24,
    "start_time": "2023-03-10T12:20:29.899Z"
   },
   {
    "duration": 12,
    "start_time": "2023-03-10T12:20:29.924Z"
   },
   {
    "duration": 166,
    "start_time": "2023-03-10T12:20:29.937Z"
   },
   {
    "duration": 5,
    "start_time": "2023-03-10T12:20:30.104Z"
   },
   {
    "duration": 173,
    "start_time": "2023-03-10T12:20:30.111Z"
   },
   {
    "duration": 26,
    "start_time": "2023-03-10T12:20:30.285Z"
   },
   {
    "duration": 188,
    "start_time": "2023-03-10T12:20:30.312Z"
   },
   {
    "duration": 311,
    "start_time": "2023-03-10T12:20:30.502Z"
   },
   {
    "duration": 385,
    "start_time": "2023-03-10T12:20:30.814Z"
   },
   {
    "duration": 449,
    "start_time": "2023-03-10T12:20:31.200Z"
   },
   {
    "duration": 8,
    "start_time": "2023-03-10T12:20:31.650Z"
   },
   {
    "duration": 51,
    "start_time": "2023-03-10T12:20:31.660Z"
   },
   {
    "duration": 32,
    "start_time": "2023-03-10T12:20:31.712Z"
   },
   {
    "duration": 427,
    "start_time": "2023-03-10T12:20:31.746Z"
   },
   {
    "duration": 6,
    "start_time": "2023-03-10T12:20:32.175Z"
   },
   {
    "duration": 31,
    "start_time": "2023-03-10T12:20:32.183Z"
   },
   {
    "duration": 22,
    "start_time": "2023-03-10T12:20:32.216Z"
   },
   {
    "duration": 32,
    "start_time": "2023-03-10T12:20:32.239Z"
   },
   {
    "duration": 53,
    "start_time": "2023-03-10T12:20:32.272Z"
   },
   {
    "duration": 44,
    "start_time": "2023-03-10T12:20:32.327Z"
   },
   {
    "duration": 47,
    "start_time": "2023-03-10T12:20:32.373Z"
   },
   {
    "duration": 231,
    "start_time": "2023-03-10T12:20:32.422Z"
   },
   {
    "duration": 6,
    "start_time": "2023-03-10T12:20:32.654Z"
   },
   {
    "duration": 14,
    "start_time": "2023-03-10T12:20:32.661Z"
   },
   {
    "duration": 38,
    "start_time": "2023-03-10T12:20:32.677Z"
   },
   {
    "duration": 11,
    "start_time": "2023-03-10T12:20:32.717Z"
   },
   {
    "duration": 25,
    "start_time": "2023-03-10T12:20:32.730Z"
   },
   {
    "duration": 20,
    "start_time": "2023-03-10T12:20:32.757Z"
   },
   {
    "duration": 10,
    "start_time": "2023-03-10T12:20:32.779Z"
   },
   {
    "duration": 36,
    "start_time": "2023-03-10T12:20:32.790Z"
   },
   {
    "duration": 17,
    "start_time": "2023-03-10T12:20:32.828Z"
   },
   {
    "duration": 14,
    "start_time": "2023-03-10T12:20:32.847Z"
   },
   {
    "duration": 1164,
    "start_time": "2023-03-10T12:24:33.860Z"
   },
   {
    "duration": 54,
    "start_time": "2023-03-10T12:24:35.026Z"
   },
   {
    "duration": 26,
    "start_time": "2023-03-10T12:24:35.082Z"
   },
   {
    "duration": 16,
    "start_time": "2023-03-10T12:24:35.111Z"
   },
   {
    "duration": 47,
    "start_time": "2023-03-10T12:24:35.131Z"
   },
   {
    "duration": 57,
    "start_time": "2023-03-10T12:24:35.180Z"
   },
   {
    "duration": 37,
    "start_time": "2023-03-10T12:24:35.239Z"
   },
   {
    "duration": 17,
    "start_time": "2023-03-10T12:24:35.279Z"
   },
   {
    "duration": 33,
    "start_time": "2023-03-10T12:24:35.298Z"
   },
   {
    "duration": 23,
    "start_time": "2023-03-10T12:24:35.333Z"
   },
   {
    "duration": 242,
    "start_time": "2023-03-10T12:24:35.358Z"
   },
   {
    "duration": 3,
    "start_time": "2023-03-10T12:24:35.603Z"
   },
   {
    "duration": 33,
    "start_time": "2023-03-10T12:24:35.608Z"
   },
   {
    "duration": 26,
    "start_time": "2023-03-10T12:24:35.645Z"
   },
   {
    "duration": 12,
    "start_time": "2023-03-10T12:24:35.673Z"
   },
   {
    "duration": 10,
    "start_time": "2023-03-10T12:24:35.687Z"
   },
   {
    "duration": 17,
    "start_time": "2023-03-10T12:24:35.699Z"
   },
   {
    "duration": 16,
    "start_time": "2023-03-10T12:24:35.718Z"
   },
   {
    "duration": 21,
    "start_time": "2023-03-10T12:24:35.736Z"
   },
   {
    "duration": 8,
    "start_time": "2023-03-10T12:24:35.759Z"
   },
   {
    "duration": 10,
    "start_time": "2023-03-10T12:24:35.769Z"
   },
   {
    "duration": 405,
    "start_time": "2023-03-10T12:24:35.781Z"
   },
   {
    "duration": 4,
    "start_time": "2023-03-10T12:24:36.188Z"
   },
   {
    "duration": 12,
    "start_time": "2023-03-10T12:24:36.194Z"
   },
   {
    "duration": 18,
    "start_time": "2023-03-10T12:24:36.208Z"
   },
   {
    "duration": 10,
    "start_time": "2023-03-10T12:24:36.228Z"
   },
   {
    "duration": 25,
    "start_time": "2023-03-10T12:24:36.239Z"
   },
   {
    "duration": 13,
    "start_time": "2023-03-10T12:24:36.265Z"
   },
   {
    "duration": 21,
    "start_time": "2023-03-10T12:24:36.279Z"
   },
   {
    "duration": 11,
    "start_time": "2023-03-10T12:24:36.302Z"
   },
   {
    "duration": 18,
    "start_time": "2023-03-10T12:24:36.315Z"
   },
   {
    "duration": 23,
    "start_time": "2023-03-10T12:24:36.334Z"
   },
   {
    "duration": 13,
    "start_time": "2023-03-10T12:24:36.358Z"
   },
   {
    "duration": 3,
    "start_time": "2023-03-10T12:24:36.373Z"
   },
   {
    "duration": 23,
    "start_time": "2023-03-10T12:24:36.377Z"
   },
   {
    "duration": 7,
    "start_time": "2023-03-10T12:24:36.402Z"
   },
   {
    "duration": 35,
    "start_time": "2023-03-10T12:24:36.411Z"
   },
   {
    "duration": 244,
    "start_time": "2023-03-10T12:24:36.447Z"
   },
   {
    "duration": 178,
    "start_time": "2023-03-10T12:24:36.693Z"
   },
   {
    "duration": 170,
    "start_time": "2023-03-10T12:24:36.872Z"
   },
   {
    "duration": 15,
    "start_time": "2023-03-10T12:24:37.047Z"
   },
   {
    "duration": 23,
    "start_time": "2023-03-10T12:24:37.064Z"
   },
   {
    "duration": 8,
    "start_time": "2023-03-10T12:24:37.088Z"
   },
   {
    "duration": 22,
    "start_time": "2023-03-10T12:24:37.098Z"
   },
   {
    "duration": 287,
    "start_time": "2023-03-10T12:24:37.122Z"
   },
   {
    "duration": 12,
    "start_time": "2023-03-10T12:24:37.411Z"
   },
   {
    "duration": 9,
    "start_time": "2023-03-10T12:24:37.425Z"
   },
   {
    "duration": 26,
    "start_time": "2023-03-10T12:24:37.436Z"
   },
   {
    "duration": 22,
    "start_time": "2023-03-10T12:24:37.464Z"
   },
   {
    "duration": 16,
    "start_time": "2023-03-10T12:24:37.487Z"
   },
   {
    "duration": 12,
    "start_time": "2023-03-10T12:24:37.504Z"
   },
   {
    "duration": 226,
    "start_time": "2023-03-10T12:24:37.518Z"
   },
   {
    "duration": 11,
    "start_time": "2023-03-10T12:24:37.746Z"
   },
   {
    "duration": 6,
    "start_time": "2023-03-10T12:24:37.758Z"
   },
   {
    "duration": 13,
    "start_time": "2023-03-10T12:24:37.766Z"
   },
   {
    "duration": 412,
    "start_time": "2023-03-10T12:24:37.780Z"
   },
   {
    "duration": 2,
    "start_time": "2023-03-10T12:24:38.194Z"
   },
   {
    "duration": 51,
    "start_time": "2023-03-10T12:24:38.198Z"
   },
   {
    "duration": 22,
    "start_time": "2023-03-10T12:24:38.251Z"
   },
   {
    "duration": 3,
    "start_time": "2023-03-10T12:24:38.274Z"
   },
   {
    "duration": 268,
    "start_time": "2023-03-10T12:24:38.278Z"
   },
   {
    "duration": 285,
    "start_time": "2023-03-10T12:24:38.548Z"
   },
   {
    "duration": 31,
    "start_time": "2023-03-10T12:24:38.835Z"
   },
   {
    "duration": 6,
    "start_time": "2023-03-10T12:24:38.868Z"
   },
   {
    "duration": 174,
    "start_time": "2023-03-10T12:24:38.875Z"
   },
   {
    "duration": 9,
    "start_time": "2023-03-10T12:24:39.050Z"
   },
   {
    "duration": 160,
    "start_time": "2023-03-10T12:24:39.061Z"
   },
   {
    "duration": 24,
    "start_time": "2023-03-10T12:24:39.222Z"
   },
   {
    "duration": 167,
    "start_time": "2023-03-10T12:24:39.258Z"
   },
   {
    "duration": 287,
    "start_time": "2023-03-10T12:24:39.427Z"
   },
   {
    "duration": 363,
    "start_time": "2023-03-10T12:24:39.716Z"
   },
   {
    "duration": 434,
    "start_time": "2023-03-10T12:24:40.080Z"
   },
   {
    "duration": 3,
    "start_time": "2023-03-10T12:24:40.516Z"
   },
   {
    "duration": 6,
    "start_time": "2023-03-10T12:24:40.520Z"
   },
   {
    "duration": 7,
    "start_time": "2023-03-10T12:24:40.527Z"
   },
   {
    "duration": 406,
    "start_time": "2023-03-10T12:24:40.536Z"
   },
   {
    "duration": 13,
    "start_time": "2023-03-10T12:24:40.944Z"
   },
   {
    "duration": 8,
    "start_time": "2023-03-10T12:24:40.959Z"
   },
   {
    "duration": 9,
    "start_time": "2023-03-10T12:24:40.968Z"
   },
   {
    "duration": 7,
    "start_time": "2023-03-10T12:24:40.978Z"
   },
   {
    "duration": 6,
    "start_time": "2023-03-10T12:24:40.986Z"
   },
   {
    "duration": 17,
    "start_time": "2023-03-10T12:24:40.993Z"
   },
   {
    "duration": 29,
    "start_time": "2023-03-10T12:24:41.011Z"
   },
   {
    "duration": 160,
    "start_time": "2023-03-10T12:24:41.042Z"
   },
   {
    "duration": 7,
    "start_time": "2023-03-10T12:24:41.204Z"
   },
   {
    "duration": 18,
    "start_time": "2023-03-10T12:24:41.212Z"
   },
   {
    "duration": 5,
    "start_time": "2023-03-10T12:24:41.232Z"
   },
   {
    "duration": 18,
    "start_time": "2023-03-10T12:24:41.239Z"
   },
   {
    "duration": 10,
    "start_time": "2023-03-10T12:24:41.259Z"
   },
   {
    "duration": 7,
    "start_time": "2023-03-10T12:24:41.271Z"
   },
   {
    "duration": 15,
    "start_time": "2023-03-10T12:24:41.280Z"
   },
   {
    "duration": 17,
    "start_time": "2023-03-10T12:24:41.297Z"
   },
   {
    "duration": 6,
    "start_time": "2023-03-10T12:24:41.315Z"
   },
   {
    "duration": 12,
    "start_time": "2023-03-10T12:24:41.323Z"
   },
   {
    "duration": 63,
    "start_time": "2023-03-10T12:24:41.337Z"
   },
   {
    "duration": 3,
    "start_time": "2023-03-10T12:24:41.401Z"
   },
   {
    "duration": 13,
    "start_time": "2023-03-10T12:24:41.406Z"
   },
   {
    "duration": 7,
    "start_time": "2023-03-10T12:24:41.420Z"
   },
   {
    "duration": 7,
    "start_time": "2023-03-10T12:24:41.428Z"
   },
   {
    "duration": 17,
    "start_time": "2023-03-10T12:24:41.437Z"
   },
   {
    "duration": 11,
    "start_time": "2023-03-10T12:24:41.456Z"
   },
   {
    "duration": 621,
    "start_time": "2023-03-10T12:24:41.469Z"
   },
   {
    "duration": 604,
    "start_time": "2023-03-10T12:24:42.091Z"
   },
   {
    "duration": 703,
    "start_time": "2023-03-10T12:24:42.697Z"
   },
   {
    "duration": 601,
    "start_time": "2023-03-10T12:24:43.402Z"
   },
   {
    "duration": 53,
    "start_time": "2023-03-12T17:35:33.111Z"
   },
   {
    "duration": 2005,
    "start_time": "2023-03-12T17:35:49.014Z"
   },
   {
    "duration": 142,
    "start_time": "2023-03-12T17:35:51.022Z"
   },
   {
    "duration": 45,
    "start_time": "2023-03-12T17:35:51.166Z"
   },
   {
    "duration": 32,
    "start_time": "2023-03-12T17:35:51.213Z"
   },
   {
    "duration": 53,
    "start_time": "2023-03-12T17:35:51.247Z"
   },
   {
    "duration": 69,
    "start_time": "2023-03-12T17:35:51.301Z"
   },
   {
    "duration": 30,
    "start_time": "2023-03-12T17:35:51.372Z"
   },
   {
    "duration": 31,
    "start_time": "2023-03-12T17:35:51.405Z"
   },
   {
    "duration": 54,
    "start_time": "2023-03-12T17:35:51.438Z"
   },
   {
    "duration": 11,
    "start_time": "2023-03-12T17:35:57.887Z"
   },
   {
    "duration": 312,
    "start_time": "2023-03-12T17:35:58.101Z"
   },
   {
    "duration": 4,
    "start_time": "2023-03-12T17:36:11.850Z"
   },
   {
    "duration": 18,
    "start_time": "2023-03-12T17:36:12.124Z"
   },
   {
    "duration": 19,
    "start_time": "2023-03-12T17:36:14.522Z"
   },
   {
    "duration": 13,
    "start_time": "2023-03-12T17:36:16.918Z"
   },
   {
    "duration": 7,
    "start_time": "2023-03-12T17:36:17.106Z"
   },
   {
    "duration": 13,
    "start_time": "2023-03-12T17:36:17.288Z"
   },
   {
    "duration": 7,
    "start_time": "2023-03-12T17:36:20.998Z"
   },
   {
    "duration": 5,
    "start_time": "2023-03-12T17:36:24.194Z"
   },
   {
    "duration": 6,
    "start_time": "2023-03-12T17:36:29.718Z"
   },
   {
    "duration": 7,
    "start_time": "2023-03-12T17:36:30.351Z"
   },
   {
    "duration": 3,
    "start_time": "2023-03-12T17:36:32.149Z"
   },
   {
    "duration": 2,
    "start_time": "2023-03-12T17:36:32.551Z"
   },
   {
    "duration": 88,
    "start_time": "2023-03-12T17:36:39.013Z"
   },
   {
    "duration": 69,
    "start_time": "2023-03-12T17:37:41.406Z"
   },
   {
    "duration": 7,
    "start_time": "2023-03-12T17:39:06.024Z"
   },
   {
    "duration": 506,
    "start_time": "2023-03-12T17:39:12.642Z"
   },
   {
    "duration": 108,
    "start_time": "2023-03-12T17:39:21.300Z"
   },
   {
    "duration": 70,
    "start_time": "2023-03-12T17:39:34.422Z"
   },
   {
    "duration": 24,
    "start_time": "2023-03-12T17:39:39.724Z"
   },
   {
    "duration": 27,
    "start_time": "2023-03-12T17:39:43.812Z"
   },
   {
    "duration": 11,
    "start_time": "2023-03-12T17:39:49.332Z"
   },
   {
    "duration": 14,
    "start_time": "2023-03-12T17:39:51.622Z"
   },
   {
    "duration": 8,
    "start_time": "2023-03-12T17:39:52.003Z"
   },
   {
    "duration": 22,
    "start_time": "2023-03-12T17:39:53.914Z"
   },
   {
    "duration": 20,
    "start_time": "2023-03-12T17:39:57.003Z"
   },
   {
    "duration": 37,
    "start_time": "2023-03-12T17:39:57.154Z"
   },
   {
    "duration": 8,
    "start_time": "2023-03-12T17:40:01.593Z"
   },
   {
    "duration": 18,
    "start_time": "2023-03-12T17:40:03.699Z"
   },
   {
    "duration": 5,
    "start_time": "2023-03-12T17:40:05.795Z"
   },
   {
    "duration": 37,
    "start_time": "2023-03-12T17:40:06.134Z"
   },
   {
    "duration": 17,
    "start_time": "2023-03-12T17:40:14.312Z"
   },
   {
    "duration": 3,
    "start_time": "2023-03-12T17:40:14.732Z"
   },
   {
    "duration": 303,
    "start_time": "2023-03-12T17:40:20.727Z"
   },
   {
    "duration": 204,
    "start_time": "2023-03-12T17:40:21.099Z"
   },
   {
    "duration": 193,
    "start_time": "2023-03-12T17:40:24.204Z"
   },
   {
    "duration": 9,
    "start_time": "2023-03-12T17:40:27.326Z"
   },
   {
    "duration": 24,
    "start_time": "2023-03-12T17:40:27.735Z"
   },
   {
    "duration": 13,
    "start_time": "2023-03-12T17:40:32.448Z"
   },
   {
    "duration": 13,
    "start_time": "2023-03-12T17:40:32.801Z"
   },
   {
    "duration": 389,
    "start_time": "2023-03-12T17:40:33.455Z"
   },
   {
    "duration": 14,
    "start_time": "2023-03-12T17:40:39.741Z"
   },
   {
    "duration": 9,
    "start_time": "2023-03-12T17:40:40.710Z"
   },
   {
    "duration": 9,
    "start_time": "2023-03-12T17:40:49.890Z"
   },
   {
    "duration": 26,
    "start_time": "2023-03-12T17:40:50.728Z"
   },
   {
    "duration": 16,
    "start_time": "2023-03-12T17:40:51.209Z"
   },
   {
    "duration": 21,
    "start_time": "2023-03-12T17:40:53.074Z"
   },
   {
    "duration": 236,
    "start_time": "2023-03-12T17:40:53.544Z"
   },
   {
    "duration": 3,
    "start_time": "2023-03-12T17:41:31.554Z"
   },
   {
    "duration": 8,
    "start_time": "2023-03-12T17:45:30.625Z"
   },
   {
    "duration": 15,
    "start_time": "2023-03-12T17:45:33.317Z"
   },
   {
    "duration": 465,
    "start_time": "2023-03-12T17:45:33.930Z"
   },
   {
    "duration": 7,
    "start_time": "2023-03-12T17:45:41.435Z"
   },
   {
    "duration": 19,
    "start_time": "2023-03-12T17:45:42.588Z"
   },
   {
    "duration": 369,
    "start_time": "2023-03-12T17:45:43.211Z"
   },
   {
    "duration": 32,
    "start_time": "2023-03-12T17:57:50.581Z"
   },
   {
    "duration": 35,
    "start_time": "2023-03-12T17:58:14.334Z"
   },
   {
    "duration": 8,
    "start_time": "2023-03-12T17:58:58.550Z"
   },
   {
    "duration": 7,
    "start_time": "2023-03-12T17:59:09.052Z"
   },
   {
    "duration": 5,
    "start_time": "2023-03-12T17:59:23.100Z"
   },
   {
    "duration": 49,
    "start_time": "2023-03-12T18:01:53.929Z"
   },
   {
    "duration": 24,
    "start_time": "2023-03-12T18:02:19.182Z"
   },
   {
    "duration": 17,
    "start_time": "2023-03-12T18:02:28.827Z"
   },
   {
    "duration": 8,
    "start_time": "2023-03-12T18:03:04.029Z"
   },
   {
    "duration": 4,
    "start_time": "2023-03-12T18:03:18.686Z"
   },
   {
    "duration": 5,
    "start_time": "2023-03-12T18:03:33.094Z"
   },
   {
    "duration": 15,
    "start_time": "2023-03-12T18:03:56.862Z"
   },
   {
    "duration": 12,
    "start_time": "2023-03-12T18:06:07.093Z"
   },
   {
    "duration": 13,
    "start_time": "2023-03-12T18:08:19.486Z"
   },
   {
    "duration": 12,
    "start_time": "2023-03-12T18:08:32.474Z"
   },
   {
    "duration": 10,
    "start_time": "2023-03-12T18:15:47.144Z"
   },
   {
    "duration": 45,
    "start_time": "2023-03-12T18:15:55.482Z"
   },
   {
    "duration": 20,
    "start_time": "2023-03-12T18:23:59.245Z"
   },
   {
    "duration": 22,
    "start_time": "2023-03-12T18:24:15.038Z"
   },
   {
    "duration": 10,
    "start_time": "2023-03-12T18:24:32.546Z"
   },
   {
    "duration": 11,
    "start_time": "2023-03-12T18:24:36.531Z"
   },
   {
    "duration": 13,
    "start_time": "2023-03-12T18:24:37.386Z"
   },
   {
    "duration": 15,
    "start_time": "2023-03-12T18:24:38.180Z"
   },
   {
    "duration": 16,
    "start_time": "2023-03-12T18:24:51.878Z"
   },
   {
    "duration": 7,
    "start_time": "2023-03-12T18:25:03.704Z"
   },
   {
    "duration": 16,
    "start_time": "2023-03-12T18:25:05.133Z"
   },
   {
    "duration": 17,
    "start_time": "2023-03-12T18:25:06.003Z"
   },
   {
    "duration": 48,
    "start_time": "2023-03-12T18:25:11.406Z"
   },
   {
    "duration": 17,
    "start_time": "2023-03-12T18:25:15.334Z"
   },
   {
    "duration": 3,
    "start_time": "2023-03-12T18:25:27.196Z"
   },
   {
    "duration": 53,
    "start_time": "2023-03-12T18:25:27.596Z"
   },
   {
    "duration": 21,
    "start_time": "2023-03-12T18:25:27.809Z"
   },
   {
    "duration": 14,
    "start_time": "2023-03-12T18:25:28.296Z"
   },
   {
    "duration": 29,
    "start_time": "2023-03-12T18:25:28.386Z"
   },
   {
    "duration": 16,
    "start_time": "2023-03-12T18:25:29.027Z"
   },
   {
    "duration": 17,
    "start_time": "2023-03-12T18:25:29.688Z"
   },
   {
    "duration": 8,
    "start_time": "2023-03-12T18:25:31.389Z"
   },
   {
    "duration": 18,
    "start_time": "2023-03-12T18:25:31.914Z"
   },
   {
    "duration": 5,
    "start_time": "2023-03-12T18:25:34.106Z"
   },
   {
    "duration": 209,
    "start_time": "2023-03-12T18:25:34.297Z"
   },
   {
    "duration": 5,
    "start_time": "2023-03-12T18:25:37.386Z"
   },
   {
    "duration": 10,
    "start_time": "2023-03-12T18:25:37.529Z"
   },
   {
    "duration": 18,
    "start_time": "2023-03-12T18:25:38.534Z"
   },
   {
    "duration": 7,
    "start_time": "2023-03-12T18:25:40.190Z"
   },
   {
    "duration": 6,
    "start_time": "2023-03-12T18:25:40.392Z"
   },
   {
    "duration": 9,
    "start_time": "2023-03-12T18:25:40.596Z"
   },
   {
    "duration": 7,
    "start_time": "2023-03-12T18:25:42.086Z"
   },
   {
    "duration": 6,
    "start_time": "2023-03-12T18:25:42.281Z"
   },
   {
    "duration": 8,
    "start_time": "2023-03-12T18:25:43.237Z"
   },
   {
    "duration": 7,
    "start_time": "2023-03-12T18:25:43.489Z"
   },
   {
    "duration": 3,
    "start_time": "2023-03-12T18:25:44.002Z"
   },
   {
    "duration": 3,
    "start_time": "2023-03-12T18:25:44.195Z"
   },
   {
    "duration": 56,
    "start_time": "2023-03-12T18:25:47.979Z"
   },
   {
    "duration": 10,
    "start_time": "2023-03-12T18:25:49.190Z"
   },
   {
    "duration": 15,
    "start_time": "2023-03-12T18:25:51.290Z"
   },
   {
    "duration": 8,
    "start_time": "2023-03-12T18:25:55.290Z"
   },
   {
    "duration": 9,
    "start_time": "2023-03-12T18:25:55.622Z"
   },
   {
    "duration": 6,
    "start_time": "2023-03-12T18:25:56.086Z"
   },
   {
    "duration": 16,
    "start_time": "2023-03-12T18:25:56.799Z"
   },
   {
    "duration": 13,
    "start_time": "2023-03-12T18:25:59.692Z"
   },
   {
    "duration": 20,
    "start_time": "2023-03-12T18:25:59.941Z"
   },
   {
    "duration": 6,
    "start_time": "2023-03-12T18:26:03.206Z"
   },
   {
    "duration": 14,
    "start_time": "2023-03-12T18:26:03.843Z"
   },
   {
    "duration": 4,
    "start_time": "2023-03-12T18:26:04.288Z"
   },
   {
    "duration": 27,
    "start_time": "2023-03-12T18:26:08.292Z"
   },
   {
    "duration": 10,
    "start_time": "2023-03-12T18:26:11.782Z"
   },
   {
    "duration": 3,
    "start_time": "2023-03-12T18:26:12.351Z"
   },
   {
    "duration": 276,
    "start_time": "2023-03-12T18:26:36.984Z"
   },
   {
    "duration": 199,
    "start_time": "2023-03-12T18:26:44.979Z"
   },
   {
    "duration": 182,
    "start_time": "2023-03-12T18:26:45.754Z"
   },
   {
    "duration": 8,
    "start_time": "2023-03-12T18:26:57.911Z"
   },
   {
    "duration": 25,
    "start_time": "2023-03-12T18:27:01.990Z"
   },
   {
    "duration": 9,
    "start_time": "2023-03-12T18:27:07.538Z"
   },
   {
    "duration": 9,
    "start_time": "2023-03-12T18:27:08.843Z"
   },
   {
    "duration": 322,
    "start_time": "2023-03-12T18:27:12.045Z"
   },
   {
    "duration": 11,
    "start_time": "2023-03-12T18:27:13.416Z"
   },
   {
    "duration": 7,
    "start_time": "2023-03-12T18:27:15.737Z"
   },
   {
    "duration": 9,
    "start_time": "2023-03-12T18:27:19.488Z"
   },
   {
    "duration": 35,
    "start_time": "2023-03-12T18:27:20.111Z"
   },
   {
    "duration": 13,
    "start_time": "2023-03-12T18:27:20.631Z"
   },
   {
    "duration": 14,
    "start_time": "2023-03-12T18:27:21.591Z"
   },
   {
    "duration": 211,
    "start_time": "2023-03-12T18:27:23.111Z"
   },
   {
    "duration": 6,
    "start_time": "2023-03-12T18:28:14.593Z"
   },
   {
    "duration": 16,
    "start_time": "2023-03-12T18:28:16.307Z"
   },
   {
    "duration": 6,
    "start_time": "2023-03-12T18:28:29.741Z"
   },
   {
    "duration": 30,
    "start_time": "2023-03-12T18:28:32.457Z"
   },
   {
    "duration": 373,
    "start_time": "2023-03-12T18:28:39.497Z"
   },
   {
    "duration": 13,
    "start_time": "2023-03-12T18:30:24.203Z"
   },
   {
    "duration": 23,
    "start_time": "2023-03-12T18:30:38.200Z"
   },
   {
    "duration": 16,
    "start_time": "2023-03-12T18:30:57.309Z"
   },
   {
    "duration": 446,
    "start_time": "2023-03-12T18:30:59.385Z"
   },
   {
    "duration": 23,
    "start_time": "2023-03-12T18:31:25.254Z"
   },
   {
    "duration": 366,
    "start_time": "2023-03-12T18:31:27.093Z"
   },
   {
    "duration": 32,
    "start_time": "2023-03-12T18:31:37.995Z"
   },
   {
    "duration": 32,
    "start_time": "2023-03-12T18:31:53.121Z"
   },
   {
    "duration": 27,
    "start_time": "2023-03-12T18:32:19.843Z"
   },
   {
    "duration": 23,
    "start_time": "2023-03-12T18:33:00.017Z"
   },
   {
    "duration": 14,
    "start_time": "2023-03-12T18:33:05.783Z"
   },
   {
    "duration": 30,
    "start_time": "2023-03-12T18:33:13.318Z"
   },
   {
    "duration": 29,
    "start_time": "2023-03-12T18:33:47.566Z"
   },
   {
    "duration": 14,
    "start_time": "2023-03-12T18:34:05.414Z"
   },
   {
    "duration": 301,
    "start_time": "2023-03-12T18:34:07.300Z"
   },
   {
    "duration": 25,
    "start_time": "2023-03-12T18:34:24.969Z"
   },
   {
    "duration": 632,
    "start_time": "2023-03-12T18:35:47.310Z"
   },
   {
    "duration": 20,
    "start_time": "2023-03-12T18:35:56.079Z"
   },
   {
    "duration": 60,
    "start_time": "2023-03-12T18:38:14.713Z"
   },
   {
    "duration": 578,
    "start_time": "2023-03-12T18:38:51.310Z"
   },
   {
    "duration": 506,
    "start_time": "2023-03-12T18:39:02.671Z"
   },
   {
    "duration": 67,
    "start_time": "2023-03-12T18:39:34.178Z"
   },
   {
    "duration": 19,
    "start_time": "2023-03-12T18:41:59.473Z"
   },
   {
    "duration": 67,
    "start_time": "2023-03-12T18:42:05.976Z"
   },
   {
    "duration": 3,
    "start_time": "2023-03-12T18:42:59.983Z"
   },
   {
    "duration": 55,
    "start_time": "2023-03-12T18:43:03.654Z"
   },
   {
    "duration": 49,
    "start_time": "2023-03-12T18:43:17.181Z"
   },
   {
    "duration": 3,
    "start_time": "2023-03-12T18:43:17.777Z"
   },
   {
    "duration": 298,
    "start_time": "2023-03-12T18:43:18.669Z"
   },
   {
    "duration": 328,
    "start_time": "2023-03-12T18:43:19.272Z"
   },
   {
    "duration": 37,
    "start_time": "2023-03-12T18:43:25.028Z"
   },
   {
    "duration": 5,
    "start_time": "2023-03-12T18:43:25.972Z"
   },
   {
    "duration": 326,
    "start_time": "2023-03-12T18:43:27.571Z"
   },
   {
    "duration": 6,
    "start_time": "2023-03-12T18:43:28.813Z"
   },
   {
    "duration": 168,
    "start_time": "2023-03-12T18:43:29.619Z"
   },
   {
    "duration": 26,
    "start_time": "2023-03-12T18:43:30.397Z"
   },
   {
    "duration": 4,
    "start_time": "2023-03-12T18:50:32.091Z"
   },
   {
    "duration": 5,
    "start_time": "2023-03-12T18:50:54.987Z"
   },
   {
    "duration": 3,
    "start_time": "2023-03-12T18:51:32.734Z"
   },
   {
    "duration": 48,
    "start_time": "2023-03-12T18:51:33.712Z"
   },
   {
    "duration": 28,
    "start_time": "2023-03-12T18:51:43.585Z"
   },
   {
    "duration": 4,
    "start_time": "2023-03-12T18:51:44.490Z"
   },
   {
    "duration": 313,
    "start_time": "2023-03-12T18:51:44.543Z"
   },
   {
    "duration": 311,
    "start_time": "2023-03-12T18:51:47.105Z"
   },
   {
    "duration": 25,
    "start_time": "2023-03-12T18:51:51.732Z"
   },
   {
    "duration": 5,
    "start_time": "2023-03-12T18:51:53.234Z"
   },
   {
    "duration": 149,
    "start_time": "2023-03-12T18:51:55.712Z"
   },
   {
    "duration": 6,
    "start_time": "2023-03-12T18:51:55.903Z"
   },
   {
    "duration": 165,
    "start_time": "2023-03-12T18:51:56.103Z"
   },
   {
    "duration": 25,
    "start_time": "2023-03-12T18:52:00.090Z"
   },
   {
    "duration": 369,
    "start_time": "2023-03-12T18:52:22.092Z"
   },
   {
    "duration": 311,
    "start_time": "2023-03-12T18:52:24.529Z"
   },
   {
    "duration": 1226,
    "start_time": "2023-03-13T08:18:04.573Z"
   },
   {
    "duration": 196,
    "start_time": "2023-03-13T08:18:05.801Z"
   },
   {
    "duration": 25,
    "start_time": "2023-03-13T08:18:05.999Z"
   },
   {
    "duration": 15,
    "start_time": "2023-03-13T08:18:06.026Z"
   },
   {
    "duration": 30,
    "start_time": "2023-03-13T08:18:06.042Z"
   },
   {
    "duration": 70,
    "start_time": "2023-03-13T08:18:06.074Z"
   },
   {
    "duration": 15,
    "start_time": "2023-03-13T08:18:06.145Z"
   },
   {
    "duration": 6,
    "start_time": "2023-03-13T08:18:06.162Z"
   },
   {
    "duration": 38,
    "start_time": "2023-03-13T08:18:06.170Z"
   },
   {
    "duration": 4,
    "start_time": "2023-03-13T08:18:06.993Z"
   },
   {
    "duration": 182,
    "start_time": "2023-03-13T08:18:07.042Z"
   },
   {
    "duration": 4,
    "start_time": "2023-03-13T08:18:07.279Z"
   },
   {
    "duration": 9,
    "start_time": "2023-03-13T08:18:07.342Z"
   },
   {
    "duration": 18,
    "start_time": "2023-03-13T08:18:09.046Z"
   },
   {
    "duration": 10,
    "start_time": "2023-03-13T08:18:09.777Z"
   },
   {
    "duration": 7,
    "start_time": "2023-03-13T08:18:09.968Z"
   },
   {
    "duration": 9,
    "start_time": "2023-03-13T08:18:10.175Z"
   },
   {
    "duration": 6,
    "start_time": "2023-03-13T08:18:11.456Z"
   },
   {
    "duration": 5,
    "start_time": "2023-03-13T08:18:11.972Z"
   },
   {
    "duration": 5,
    "start_time": "2023-03-13T08:18:12.430Z"
   },
   {
    "duration": 5,
    "start_time": "2023-03-13T08:18:12.654Z"
   },
   {
    "duration": 2,
    "start_time": "2023-03-13T08:18:12.854Z"
   },
   {
    "duration": 3,
    "start_time": "2023-03-13T08:18:13.678Z"
   },
   {
    "duration": 49,
    "start_time": "2023-03-13T08:18:14.946Z"
   },
   {
    "duration": 9,
    "start_time": "2023-03-13T08:18:15.230Z"
   },
   {
    "duration": 15,
    "start_time": "2023-03-13T08:18:15.805Z"
   },
   {
    "duration": 8,
    "start_time": "2023-03-13T08:18:17.108Z"
   },
   {
    "duration": 8,
    "start_time": "2023-03-13T08:18:18.146Z"
   },
   {
    "duration": 7,
    "start_time": "2023-03-13T08:18:18.984Z"
   },
   {
    "duration": 15,
    "start_time": "2023-03-13T08:18:19.372Z"
   },
   {
    "duration": 12,
    "start_time": "2023-03-13T08:18:20.435Z"
   },
   {
    "duration": 19,
    "start_time": "2023-03-13T08:18:20.798Z"
   },
   {
    "duration": 5,
    "start_time": "2023-03-13T08:18:22.652Z"
   },
   {
    "duration": 19,
    "start_time": "2023-03-13T08:18:23.822Z"
   },
   {
    "duration": 3,
    "start_time": "2023-03-13T08:18:24.054Z"
   },
   {
    "duration": 24,
    "start_time": "2023-03-13T08:18:24.677Z"
   },
   {
    "duration": 10,
    "start_time": "2023-03-13T08:18:26.520Z"
   },
   {
    "duration": 2,
    "start_time": "2023-03-13T08:18:28.245Z"
   },
   {
    "duration": 242,
    "start_time": "2023-03-13T08:18:29.953Z"
   },
   {
    "duration": 185,
    "start_time": "2023-03-13T08:18:30.621Z"
   },
   {
    "duration": 167,
    "start_time": "2023-03-13T08:18:31.302Z"
   },
   {
    "duration": 8,
    "start_time": "2023-03-13T08:18:32.895Z"
   },
   {
    "duration": 24,
    "start_time": "2023-03-13T08:18:33.471Z"
   },
   {
    "duration": 10,
    "start_time": "2023-03-13T08:18:35.406Z"
   },
   {
    "duration": 11,
    "start_time": "2023-03-13T08:18:37.250Z"
   },
   {
    "duration": 288,
    "start_time": "2023-03-13T08:18:38.519Z"
   },
   {
    "duration": 14,
    "start_time": "2023-03-13T08:18:39.591Z"
   },
   {
    "duration": 8,
    "start_time": "2023-03-13T08:18:42.649Z"
   },
   {
    "duration": 7,
    "start_time": "2023-03-13T08:18:46.380Z"
   },
   {
    "duration": 24,
    "start_time": "2023-03-13T08:18:46.692Z"
   },
   {
    "duration": 21,
    "start_time": "2023-03-13T08:18:47.184Z"
   },
   {
    "duration": 13,
    "start_time": "2023-03-13T08:18:47.853Z"
   },
   {
    "duration": 211,
    "start_time": "2023-03-13T08:18:48.853Z"
   },
   {
    "duration": 6,
    "start_time": "2023-03-13T08:19:26.803Z"
   },
   {
    "duration": 22,
    "start_time": "2023-03-13T08:19:32.976Z"
   },
   {
    "duration": 70,
    "start_time": "2023-03-13T08:19:53.793Z"
   },
   {
    "duration": 22,
    "start_time": "2023-03-13T08:22:08.045Z"
   },
   {
    "duration": 6,
    "start_time": "2023-03-13T08:22:13.844Z"
   },
   {
    "duration": 4,
    "start_time": "2023-03-13T08:22:36.768Z"
   },
   {
    "duration": 5,
    "start_time": "2023-03-13T08:22:46.840Z"
   },
   {
    "duration": 4,
    "start_time": "2023-03-13T08:22:59.567Z"
   },
   {
    "duration": 4,
    "start_time": "2023-03-13T08:23:02.293Z"
   },
   {
    "duration": 54,
    "start_time": "2023-03-13T08:24:11.131Z"
   },
   {
    "duration": 66,
    "start_time": "2023-03-13T08:24:33.616Z"
   },
   {
    "duration": 176,
    "start_time": "2023-03-13T08:24:56.475Z"
   },
   {
    "duration": 69,
    "start_time": "2023-03-13T08:25:16.683Z"
   },
   {
    "duration": 52,
    "start_time": "2023-03-13T08:28:57.251Z"
   },
   {
    "duration": 81,
    "start_time": "2023-03-13T08:29:33.997Z"
   },
   {
    "duration": 90,
    "start_time": "2023-03-13T08:29:51.642Z"
   },
   {
    "duration": 77,
    "start_time": "2023-03-13T08:30:06.694Z"
   },
   {
    "duration": 56,
    "start_time": "2023-03-13T08:30:24.883Z"
   },
   {
    "duration": 19,
    "start_time": "2023-03-13T08:32:04.547Z"
   },
   {
    "duration": 64,
    "start_time": "2023-03-13T08:32:14.798Z"
   },
   {
    "duration": 1204,
    "start_time": "2023-03-13T08:32:55.154Z"
   },
   {
    "duration": 63,
    "start_time": "2023-03-13T08:33:01.187Z"
   },
   {
    "duration": 11,
    "start_time": "2023-03-13T08:33:18.362Z"
   },
   {
    "duration": 10,
    "start_time": "2023-03-13T08:33:25.338Z"
   },
   {
    "duration": 9,
    "start_time": "2023-03-13T08:33:31.964Z"
   },
   {
    "duration": 4,
    "start_time": "2023-03-13T08:33:36.683Z"
   },
   {
    "duration": 5,
    "start_time": "2023-03-13T08:38:13.029Z"
   },
   {
    "duration": 11,
    "start_time": "2023-03-13T08:39:36.508Z"
   },
   {
    "duration": 11,
    "start_time": "2023-03-13T08:39:40.070Z"
   },
   {
    "duration": 19,
    "start_time": "2023-03-13T08:39:43.524Z"
   },
   {
    "duration": 22,
    "start_time": "2023-03-13T08:40:21.479Z"
   },
   {
    "duration": 4,
    "start_time": "2023-03-13T08:40:56.291Z"
   },
   {
    "duration": 22,
    "start_time": "2023-03-13T08:41:04.264Z"
   },
   {
    "duration": 16,
    "start_time": "2023-03-13T08:45:45.149Z"
   },
   {
    "duration": 15,
    "start_time": "2023-03-13T08:46:09.641Z"
   },
   {
    "duration": 1226,
    "start_time": "2023-03-13T08:48:44.699Z"
   },
   {
    "duration": 1213,
    "start_time": "2023-03-13T08:49:04.858Z"
   },
   {
    "duration": 25,
    "start_time": "2023-03-13T08:49:47.352Z"
   },
   {
    "duration": 1182,
    "start_time": "2023-03-13T08:50:14.073Z"
   },
   {
    "duration": 22,
    "start_time": "2023-03-13T08:51:12.630Z"
   },
   {
    "duration": 22,
    "start_time": "2023-03-13T08:52:29.192Z"
   },
   {
    "duration": 18,
    "start_time": "2023-03-13T08:52:55.409Z"
   },
   {
    "duration": 25,
    "start_time": "2023-03-13T08:53:49.428Z"
   },
   {
    "duration": 18,
    "start_time": "2023-03-13T08:54:06.993Z"
   },
   {
    "duration": 18,
    "start_time": "2023-03-13T08:54:39.800Z"
   },
   {
    "duration": 12,
    "start_time": "2023-03-13T08:56:39.849Z"
   },
   {
    "duration": 51,
    "start_time": "2023-03-13T08:57:01.313Z"
   },
   {
    "duration": 28,
    "start_time": "2023-03-13T08:57:09.712Z"
   },
   {
    "duration": 14,
    "start_time": "2023-03-13T08:57:16.305Z"
   },
   {
    "duration": 242,
    "start_time": "2023-03-13T08:57:16.989Z"
   },
   {
    "duration": 14,
    "start_time": "2023-03-13T08:58:47.065Z"
   },
   {
    "duration": 13,
    "start_time": "2023-03-13T08:58:53.035Z"
   },
   {
    "duration": 26,
    "start_time": "2023-03-13T08:58:55.264Z"
   },
   {
    "duration": 19,
    "start_time": "2023-03-13T08:59:11.971Z"
   },
   {
    "duration": 227,
    "start_time": "2023-03-13T08:59:12.545Z"
   },
   {
    "duration": 15,
    "start_time": "2023-03-13T08:59:36.555Z"
   },
   {
    "duration": 14,
    "start_time": "2023-03-13T09:00:08.987Z"
   },
   {
    "duration": 243,
    "start_time": "2023-03-13T09:00:09.435Z"
   },
   {
    "duration": 32,
    "start_time": "2023-03-13T09:00:15.425Z"
   },
   {
    "duration": 14,
    "start_time": "2023-03-13T09:00:18.775Z"
   },
   {
    "duration": 249,
    "start_time": "2023-03-13T09:00:19.403Z"
   },
   {
    "duration": 3,
    "start_time": "2023-03-13T09:04:36.313Z"
   },
   {
    "duration": 51,
    "start_time": "2023-03-13T09:04:38.105Z"
   },
   {
    "duration": 20,
    "start_time": "2023-03-13T09:04:46.267Z"
   },
   {
    "duration": 2,
    "start_time": "2023-03-13T09:04:48.502Z"
   },
   {
    "duration": 231,
    "start_time": "2023-03-13T09:04:49.236Z"
   },
   {
    "duration": 242,
    "start_time": "2023-03-13T09:04:51.639Z"
   },
   {
    "duration": 15,
    "start_time": "2023-03-13T09:05:00.345Z"
   },
   {
    "duration": 5,
    "start_time": "2023-03-13T09:05:00.898Z"
   },
   {
    "duration": 157,
    "start_time": "2023-03-13T09:05:01.827Z"
   },
   {
    "duration": 5,
    "start_time": "2023-03-13T09:05:02.196Z"
   },
   {
    "duration": 130,
    "start_time": "2023-03-13T09:05:07.674Z"
   },
   {
    "duration": 26,
    "start_time": "2023-03-13T09:05:08.031Z"
   },
   {
    "duration": 32,
    "start_time": "2023-03-13T09:05:50.596Z"
   },
   {
    "duration": 5,
    "start_time": "2023-03-13T09:05:52.569Z"
   },
   {
    "duration": 150,
    "start_time": "2023-03-13T09:05:53.712Z"
   },
   {
    "duration": 6,
    "start_time": "2023-03-13T09:05:56.163Z"
   },
   {
    "duration": 164,
    "start_time": "2023-03-13T09:05:56.949Z"
   },
   {
    "duration": 24,
    "start_time": "2023-03-13T09:06:01.296Z"
   },
   {
    "duration": 296,
    "start_time": "2023-03-13T09:06:29.364Z"
   },
   {
    "duration": 302,
    "start_time": "2023-03-13T09:06:42.028Z"
   },
   {
    "duration": 300,
    "start_time": "2023-03-13T09:06:46.038Z"
   },
   {
    "duration": 433,
    "start_time": "2023-03-13T09:07:11.796Z"
   },
   {
    "duration": 6,
    "start_time": "2023-03-13T09:07:17.296Z"
   },
   {
    "duration": 6,
    "start_time": "2023-03-13T09:07:18.494Z"
   },
   {
    "duration": 4,
    "start_time": "2023-03-13T09:07:19.242Z"
   },
   {
    "duration": 5,
    "start_time": "2023-03-13T09:08:26.517Z"
   },
   {
    "duration": 3,
    "start_time": "2023-03-13T09:08:29.396Z"
   },
   {
    "duration": 3,
    "start_time": "2023-03-13T09:08:36.790Z"
   },
   {
    "duration": 24,
    "start_time": "2023-03-13T09:08:37.325Z"
   },
   {
    "duration": 21,
    "start_time": "2023-03-13T09:09:27.828Z"
   },
   {
    "duration": 225,
    "start_time": "2023-03-13T09:10:39.391Z"
   },
   {
    "duration": 56,
    "start_time": "2023-03-13T09:14:00.095Z"
   },
   {
    "duration": 324,
    "start_time": "2023-03-13T09:14:52.102Z"
   },
   {
    "duration": 82,
    "start_time": "2023-03-13T09:16:07.152Z"
   },
   {
    "duration": 52,
    "start_time": "2023-03-13T09:16:57.635Z"
   },
   {
    "duration": 35,
    "start_time": "2023-03-13T09:17:32.042Z"
   },
   {
    "duration": 21,
    "start_time": "2023-03-13T09:19:00.098Z"
   },
   {
    "duration": 21,
    "start_time": "2023-03-13T09:19:57.494Z"
   },
   {
    "duration": 19,
    "start_time": "2023-03-13T09:23:48.402Z"
   },
   {
    "duration": 3,
    "start_time": "2023-03-13T09:24:07.194Z"
   },
   {
    "duration": 52,
    "start_time": "2023-03-13T09:24:07.432Z"
   },
   {
    "duration": 22,
    "start_time": "2023-03-13T09:24:07.518Z"
   },
   {
    "duration": 14,
    "start_time": "2023-03-13T09:24:07.992Z"
   },
   {
    "duration": 30,
    "start_time": "2023-03-13T09:24:08.463Z"
   },
   {
    "duration": 18,
    "start_time": "2023-03-13T09:24:09.314Z"
   },
   {
    "duration": 15,
    "start_time": "2023-03-13T09:24:09.771Z"
   },
   {
    "duration": 7,
    "start_time": "2023-03-13T09:24:10.699Z"
   },
   {
    "duration": 15,
    "start_time": "2023-03-13T09:24:10.729Z"
   },
   {
    "duration": 5,
    "start_time": "2023-03-13T09:24:10.978Z"
   },
   {
    "duration": 167,
    "start_time": "2023-03-13T09:24:11.047Z"
   },
   {
    "duration": 4,
    "start_time": "2023-03-13T09:24:11.276Z"
   },
   {
    "duration": 9,
    "start_time": "2023-03-13T09:24:11.341Z"
   },
   {
    "duration": 15,
    "start_time": "2023-03-13T09:24:11.433Z"
   },
   {
    "duration": 8,
    "start_time": "2023-03-13T09:24:11.593Z"
   },
   {
    "duration": 7,
    "start_time": "2023-03-13T09:24:11.655Z"
   },
   {
    "duration": 7,
    "start_time": "2023-03-13T09:24:11.718Z"
   },
   {
    "duration": 6,
    "start_time": "2023-03-13T09:24:11.852Z"
   },
   {
    "duration": 5,
    "start_time": "2023-03-13T09:24:11.917Z"
   },
   {
    "duration": 5,
    "start_time": "2023-03-13T09:24:12.022Z"
   },
   {
    "duration": 6,
    "start_time": "2023-03-13T09:24:12.079Z"
   },
   {
    "duration": 64,
    "start_time": "2023-03-13T09:24:12.143Z"
   },
   {
    "duration": 0,
    "start_time": "2023-03-13T09:24:12.209Z"
   },
   {
    "duration": 20,
    "start_time": "2023-03-13T09:24:12.406Z"
   },
   {
    "duration": 11,
    "start_time": "2023-03-13T09:24:12.457Z"
   },
   {
    "duration": 14,
    "start_time": "2023-03-13T09:24:12.532Z"
   },
   {
    "duration": 7,
    "start_time": "2023-03-13T09:24:12.689Z"
   },
   {
    "duration": 8,
    "start_time": "2023-03-13T09:24:12.775Z"
   },
   {
    "duration": 6,
    "start_time": "2023-03-13T09:24:12.867Z"
   },
   {
    "duration": 14,
    "start_time": "2023-03-13T09:24:12.936Z"
   },
   {
    "duration": 12,
    "start_time": "2023-03-13T09:24:13.049Z"
   },
   {
    "duration": 19,
    "start_time": "2023-03-13T09:24:13.110Z"
   },
   {
    "duration": 7,
    "start_time": "2023-03-13T09:24:14.056Z"
   },
   {
    "duration": 17,
    "start_time": "2023-03-13T09:24:14.147Z"
   },
   {
    "duration": 4,
    "start_time": "2023-03-13T09:24:14.200Z"
   },
   {
    "duration": 29,
    "start_time": "2023-03-13T09:24:14.275Z"
   },
   {
    "duration": 9,
    "start_time": "2023-03-13T09:24:15.254Z"
   },
   {
    "duration": 2,
    "start_time": "2023-03-13T09:24:15.315Z"
   },
   {
    "duration": 251,
    "start_time": "2023-03-13T09:24:15.459Z"
   },
   {
    "duration": 299,
    "start_time": "2023-03-13T09:24:15.712Z"
   },
   {
    "duration": 183,
    "start_time": "2023-03-13T09:24:16.013Z"
   },
   {
    "duration": 9,
    "start_time": "2023-03-13T09:24:16.199Z"
   },
   {
    "duration": 32,
    "start_time": "2023-03-13T09:24:16.210Z"
   },
   {
    "duration": 11,
    "start_time": "2023-03-13T09:24:16.244Z"
   },
   {
    "duration": 10,
    "start_time": "2023-03-13T09:24:16.296Z"
   },
   {
    "duration": 290,
    "start_time": "2023-03-13T09:24:16.831Z"
   },
   {
    "duration": 10,
    "start_time": "2023-03-13T09:24:17.123Z"
   },
   {
    "duration": 16,
    "start_time": "2023-03-13T09:24:17.135Z"
   },
   {
    "duration": 9,
    "start_time": "2023-03-13T09:24:17.947Z"
   },
   {
    "duration": 22,
    "start_time": "2023-03-13T09:24:18.016Z"
   },
   {
    "duration": 14,
    "start_time": "2023-03-13T09:24:18.488Z"
   },
   {
    "duration": 15,
    "start_time": "2023-03-13T09:24:18.964Z"
   },
   {
    "duration": 233,
    "start_time": "2023-03-13T09:24:19.434Z"
   },
   {
    "duration": 3,
    "start_time": "2023-03-13T09:24:20.045Z"
   },
   {
    "duration": 12,
    "start_time": "2023-03-13T09:24:20.129Z"
   },
   {
    "duration": 34,
    "start_time": "2023-03-13T09:24:20.200Z"
   },
   {
    "duration": 12,
    "start_time": "2023-03-13T09:24:21.142Z"
   },
   {
    "duration": 239,
    "start_time": "2023-03-13T09:24:21.212Z"
   },
   {
    "duration": 71,
    "start_time": "2023-03-13T09:24:21.456Z"
   },
   {
    "duration": 3,
    "start_time": "2023-03-13T09:24:22.044Z"
   },
   {
    "duration": 51,
    "start_time": "2023-03-13T09:24:22.154Z"
   },
   {
    "duration": 21,
    "start_time": "2023-03-13T09:24:23.047Z"
   },
   {
    "duration": 2,
    "start_time": "2023-03-13T09:24:23.517Z"
   },
   {
    "duration": 238,
    "start_time": "2023-03-13T09:24:23.991Z"
   },
   {
    "duration": 240,
    "start_time": "2023-03-13T09:24:24.232Z"
   },
   {
    "duration": 25,
    "start_time": "2023-03-13T09:24:24.474Z"
   },
   {
    "duration": 6,
    "start_time": "2023-03-13T09:24:24.707Z"
   },
   {
    "duration": 144,
    "start_time": "2023-03-13T09:24:25.193Z"
   },
   {
    "duration": 5,
    "start_time": "2023-03-13T09:24:25.340Z"
   },
   {
    "duration": 168,
    "start_time": "2023-03-13T09:24:25.347Z"
   },
   {
    "duration": 24,
    "start_time": "2023-03-13T09:24:25.520Z"
   },
   {
    "duration": 176,
    "start_time": "2023-03-13T09:24:25.660Z"
   },
   {
    "duration": 433,
    "start_time": "2023-03-13T09:24:25.865Z"
   },
   {
    "duration": 311,
    "start_time": "2023-03-13T09:24:26.301Z"
   },
   {
    "duration": 453,
    "start_time": "2023-03-13T09:24:26.614Z"
   },
   {
    "duration": 417,
    "start_time": "2023-03-13T09:24:27.069Z"
   },
   {
    "duration": 5,
    "start_time": "2023-03-13T09:24:27.488Z"
   },
   {
    "duration": 7,
    "start_time": "2023-03-13T09:24:27.494Z"
   },
   {
    "duration": 20,
    "start_time": "2023-03-13T09:24:27.502Z"
   },
   {
    "duration": 6,
    "start_time": "2023-03-13T09:24:27.523Z"
   },
   {
    "duration": 5,
    "start_time": "2023-03-13T09:24:27.530Z"
   },
   {
    "duration": 3,
    "start_time": "2023-03-13T09:24:27.537Z"
   },
   {
    "duration": 17,
    "start_time": "2023-03-13T09:24:27.541Z"
   },
   {
    "duration": 200,
    "start_time": "2023-03-13T09:24:27.559Z"
   },
   {
    "duration": 5,
    "start_time": "2023-03-13T09:24:27.761Z"
   },
   {
    "duration": 7,
    "start_time": "2023-03-13T09:24:27.768Z"
   },
   {
    "duration": 3,
    "start_time": "2023-03-13T09:24:28.208Z"
   },
   {
    "duration": 3,
    "start_time": "2023-03-13T09:24:28.244Z"
   },
   {
    "duration": 6,
    "start_time": "2023-03-13T09:24:28.598Z"
   },
   {
    "duration": 4,
    "start_time": "2023-03-13T09:24:28.771Z"
   },
   {
    "duration": 5,
    "start_time": "2023-03-13T09:24:28.948Z"
   },
   {
    "duration": 6,
    "start_time": "2023-03-13T09:24:28.956Z"
   },
   {
    "duration": 3,
    "start_time": "2023-03-13T09:24:29.124Z"
   },
   {
    "duration": 6,
    "start_time": "2023-03-13T09:24:29.129Z"
   },
   {
    "duration": 55,
    "start_time": "2023-03-13T09:24:29.513Z"
   },
   {
    "duration": 4,
    "start_time": "2023-03-13T09:24:29.571Z"
   },
   {
    "duration": 13,
    "start_time": "2023-03-13T09:24:29.617Z"
   },
   {
    "duration": 6,
    "start_time": "2023-03-13T09:24:29.676Z"
   },
   {
    "duration": 4,
    "start_time": "2023-03-13T09:24:29.728Z"
   },
   {
    "duration": 6,
    "start_time": "2023-03-13T09:24:29.797Z"
   },
   {
    "duration": 9,
    "start_time": "2023-03-13T09:24:29.876Z"
   },
   {
    "duration": 829,
    "start_time": "2023-03-13T09:24:29.941Z"
   },
   {
    "duration": 664,
    "start_time": "2023-03-13T09:24:30.772Z"
   },
   {
    "duration": 839,
    "start_time": "2023-03-13T09:24:31.438Z"
   },
   {
    "duration": 622,
    "start_time": "2023-03-13T09:24:32.279Z"
   },
   {
    "duration": 3,
    "start_time": "2023-03-13T09:25:45.055Z"
   },
   {
    "duration": 53,
    "start_time": "2023-03-13T09:25:45.308Z"
   },
   {
    "duration": 21,
    "start_time": "2023-03-13T09:25:45.390Z"
   },
   {
    "duration": 17,
    "start_time": "2023-03-13T09:25:45.830Z"
   },
   {
    "duration": 29,
    "start_time": "2023-03-13T09:25:46.296Z"
   },
   {
    "duration": 16,
    "start_time": "2023-03-13T09:25:47.131Z"
   },
   {
    "duration": 15,
    "start_time": "2023-03-13T09:25:47.568Z"
   },
   {
    "duration": 7,
    "start_time": "2023-03-13T09:25:48.443Z"
   },
   {
    "duration": 15,
    "start_time": "2023-03-13T09:25:48.502Z"
   },
   {
    "duration": 4,
    "start_time": "2023-03-13T09:25:48.737Z"
   },
   {
    "duration": 167,
    "start_time": "2023-03-13T09:25:48.797Z"
   },
   {
    "duration": 5,
    "start_time": "2023-03-13T09:25:48.998Z"
   },
   {
    "duration": 9,
    "start_time": "2023-03-13T09:25:49.058Z"
   },
   {
    "duration": 16,
    "start_time": "2023-03-13T09:25:49.170Z"
   },
   {
    "duration": 8,
    "start_time": "2023-03-13T09:25:49.307Z"
   },
   {
    "duration": 6,
    "start_time": "2023-03-13T09:25:49.372Z"
   },
   {
    "duration": 8,
    "start_time": "2023-03-13T09:25:49.421Z"
   },
   {
    "duration": 5,
    "start_time": "2023-03-13T09:25:49.548Z"
   },
   {
    "duration": 5,
    "start_time": "2023-03-13T09:25:49.610Z"
   },
   {
    "duration": 6,
    "start_time": "2023-03-13T09:25:49.705Z"
   },
   {
    "duration": 5,
    "start_time": "2023-03-13T09:25:49.763Z"
   },
   {
    "duration": 93,
    "start_time": "2023-03-13T09:25:49.834Z"
   },
   {
    "duration": 0,
    "start_time": "2023-03-13T09:25:49.928Z"
   },
   {
    "duration": 19,
    "start_time": "2023-03-13T09:25:50.066Z"
   },
   {
    "duration": 10,
    "start_time": "2023-03-13T09:25:50.121Z"
   },
   {
    "duration": 17,
    "start_time": "2023-03-13T09:25:50.203Z"
   },
   {
    "duration": 10,
    "start_time": "2023-03-13T09:25:50.332Z"
   },
   {
    "duration": 10,
    "start_time": "2023-03-13T09:25:50.425Z"
   },
   {
    "duration": 5,
    "start_time": "2023-03-13T09:25:50.531Z"
   },
   {
    "duration": 15,
    "start_time": "2023-03-13T09:25:50.597Z"
   },
   {
    "duration": 14,
    "start_time": "2023-03-13T09:25:50.721Z"
   },
   {
    "duration": 19,
    "start_time": "2023-03-13T09:25:50.794Z"
   },
   {
    "duration": 5,
    "start_time": "2023-03-13T09:25:51.741Z"
   },
   {
    "duration": 17,
    "start_time": "2023-03-13T09:25:51.828Z"
   },
   {
    "duration": 3,
    "start_time": "2023-03-13T09:25:51.877Z"
   },
   {
    "duration": 24,
    "start_time": "2023-03-13T09:25:51.942Z"
   },
   {
    "duration": 8,
    "start_time": "2023-03-13T09:25:52.876Z"
   },
   {
    "duration": 2,
    "start_time": "2023-03-13T09:25:52.915Z"
   },
   {
    "duration": 257,
    "start_time": "2023-03-13T09:25:53.089Z"
   },
   {
    "duration": 211,
    "start_time": "2023-03-13T09:25:53.348Z"
   },
   {
    "duration": 187,
    "start_time": "2023-03-13T09:25:53.561Z"
   },
   {
    "duration": 8,
    "start_time": "2023-03-13T09:25:53.750Z"
   },
   {
    "duration": 25,
    "start_time": "2023-03-13T09:25:53.759Z"
   },
   {
    "duration": 10,
    "start_time": "2023-03-13T09:25:53.858Z"
   },
   {
    "duration": 9,
    "start_time": "2023-03-13T09:25:54.316Z"
   },
   {
    "duration": 310,
    "start_time": "2023-03-13T09:25:54.412Z"
   },
   {
    "duration": 12,
    "start_time": "2023-03-13T09:25:54.725Z"
   },
   {
    "duration": 27,
    "start_time": "2023-03-13T09:25:54.739Z"
   },
   {
    "duration": 9,
    "start_time": "2023-03-13T09:25:55.438Z"
   },
   {
    "duration": 24,
    "start_time": "2023-03-13T09:25:55.498Z"
   },
   {
    "duration": 15,
    "start_time": "2023-03-13T09:25:56.331Z"
   },
   {
    "duration": 20,
    "start_time": "2023-03-13T09:25:56.529Z"
   },
   {
    "duration": 283,
    "start_time": "2023-03-13T09:25:56.947Z"
   },
   {
    "duration": 2,
    "start_time": "2023-03-13T09:25:57.972Z"
   },
   {
    "duration": 14,
    "start_time": "2023-03-13T09:25:57.977Z"
   },
   {
    "duration": 31,
    "start_time": "2023-03-13T09:25:57.992Z"
   },
   {
    "duration": 15,
    "start_time": "2023-03-13T09:25:58.678Z"
   },
   {
    "duration": 222,
    "start_time": "2023-03-13T09:25:58.729Z"
   },
   {
    "duration": 72,
    "start_time": "2023-03-13T09:25:58.953Z"
   },
   {
    "duration": 2,
    "start_time": "2023-03-13T09:25:59.885Z"
   },
   {
    "duration": 50,
    "start_time": "2023-03-13T09:25:59.971Z"
   },
   {
    "duration": 22,
    "start_time": "2023-03-13T09:26:00.829Z"
   },
   {
    "duration": 2,
    "start_time": "2023-03-13T09:26:01.297Z"
   },
   {
    "duration": 238,
    "start_time": "2023-03-13T09:26:02.677Z"
   },
   {
    "duration": 242,
    "start_time": "2023-03-13T09:26:03.196Z"
   },
   {
    "duration": 27,
    "start_time": "2023-03-13T09:26:03.521Z"
   },
   {
    "duration": 6,
    "start_time": "2023-03-13T09:26:04.368Z"
   },
   {
    "duration": 142,
    "start_time": "2023-03-13T09:26:04.411Z"
   },
   {
    "duration": 5,
    "start_time": "2023-03-13T09:26:04.554Z"
   },
   {
    "duration": 152,
    "start_time": "2023-03-13T09:26:04.561Z"
   },
   {
    "duration": 25,
    "start_time": "2023-03-13T09:26:04.720Z"
   },
   {
    "duration": 331,
    "start_time": "2023-03-13T09:26:04.897Z"
   },
   {
    "duration": 308,
    "start_time": "2023-03-13T09:26:05.230Z"
   },
   {
    "duration": 307,
    "start_time": "2023-03-13T09:26:05.540Z"
   },
   {
    "duration": 438,
    "start_time": "2023-03-13T09:26:05.850Z"
   },
   {
    "duration": 425,
    "start_time": "2023-03-13T09:26:06.289Z"
   },
   {
    "duration": 8,
    "start_time": "2023-03-13T09:26:06.716Z"
   },
   {
    "duration": 9,
    "start_time": "2023-03-13T09:26:06.725Z"
   },
   {
    "duration": 7,
    "start_time": "2023-03-13T09:26:06.736Z"
   },
   {
    "duration": 6,
    "start_time": "2023-03-13T09:26:06.745Z"
   },
   {
    "duration": 7,
    "start_time": "2023-03-13T09:26:06.753Z"
   },
   {
    "duration": 7,
    "start_time": "2023-03-13T09:26:06.761Z"
   },
   {
    "duration": 17,
    "start_time": "2023-03-13T09:26:06.769Z"
   },
   {
    "duration": 175,
    "start_time": "2023-03-13T09:26:07.467Z"
   },
   {
    "duration": 6,
    "start_time": "2023-03-13T09:26:07.694Z"
   },
   {
    "duration": 5,
    "start_time": "2023-03-13T09:26:07.804Z"
   },
   {
    "duration": 4,
    "start_time": "2023-03-13T09:26:07.837Z"
   },
   {
    "duration": 4,
    "start_time": "2023-03-13T09:26:10.249Z"
   },
   {
    "duration": 6,
    "start_time": "2023-03-13T09:26:14.051Z"
   },
   {
    "duration": 4,
    "start_time": "2023-03-13T09:26:15.342Z"
   },
   {
    "duration": 2,
    "start_time": "2023-03-13T09:26:57.050Z"
   },
   {
    "duration": 12,
    "start_time": "2023-03-13T09:29:08.809Z"
   },
   {
    "duration": 28,
    "start_time": "2023-03-13T09:29:23.662Z"
   },
   {
    "duration": 19,
    "start_time": "2023-03-13T09:29:35.516Z"
   },
   {
    "duration": 22,
    "start_time": "2023-03-13T09:29:50.410Z"
   },
   {
    "duration": 43,
    "start_time": "2023-03-13T09:30:08.570Z"
   },
   {
    "duration": 42,
    "start_time": "2023-03-13T09:30:26.952Z"
   },
   {
    "duration": 41,
    "start_time": "2023-03-13T09:31:08.306Z"
   },
   {
    "duration": 44,
    "start_time": "2023-03-13T09:31:20.957Z"
   },
   {
    "duration": 43,
    "start_time": "2023-03-13T09:31:44.046Z"
   },
   {
    "duration": 44,
    "start_time": "2023-03-13T09:31:58.759Z"
   },
   {
    "duration": 58,
    "start_time": "2023-03-13T09:32:32.504Z"
   },
   {
    "duration": 52,
    "start_time": "2023-03-13T09:32:45.060Z"
   },
   {
    "duration": 44,
    "start_time": "2023-03-13T09:32:55.559Z"
   },
   {
    "duration": 56,
    "start_time": "2023-03-13T09:33:12.166Z"
   },
   {
    "duration": 56,
    "start_time": "2023-03-13T09:33:26.658Z"
   },
   {
    "duration": 62,
    "start_time": "2023-03-13T09:34:53.139Z"
   },
   {
    "duration": 5,
    "start_time": "2023-03-13T09:35:11.609Z"
   },
   {
    "duration": 3,
    "start_time": "2023-03-13T09:35:20.609Z"
   },
   {
    "duration": 50,
    "start_time": "2023-03-13T09:35:21.192Z"
   },
   {
    "duration": 22,
    "start_time": "2023-03-13T09:35:21.398Z"
   },
   {
    "duration": 14,
    "start_time": "2023-03-13T09:35:22.252Z"
   },
   {
    "duration": 29,
    "start_time": "2023-03-13T09:35:22.299Z"
   },
   {
    "duration": 15,
    "start_time": "2023-03-13T09:35:23.138Z"
   },
   {
    "duration": 16,
    "start_time": "2023-03-13T09:35:23.994Z"
   },
   {
    "duration": 7,
    "start_time": "2023-03-13T09:35:24.868Z"
   },
   {
    "duration": 17,
    "start_time": "2023-03-13T09:35:24.946Z"
   },
   {
    "duration": 4,
    "start_time": "2023-03-13T09:35:26.008Z"
   },
   {
    "duration": 165,
    "start_time": "2023-03-13T09:35:26.233Z"
   },
   {
    "duration": 3,
    "start_time": "2023-03-13T09:35:28.640Z"
   },
   {
    "duration": 10,
    "start_time": "2023-03-13T09:35:28.820Z"
   },
   {
    "duration": 19,
    "start_time": "2023-03-13T09:35:29.510Z"
   },
   {
    "duration": 10,
    "start_time": "2023-03-13T09:35:30.610Z"
   },
   {
    "duration": 7,
    "start_time": "2023-03-13T09:35:30.847Z"
   },
   {
    "duration": 8,
    "start_time": "2023-03-13T09:35:31.168Z"
   },
   {
    "duration": 5,
    "start_time": "2023-03-13T09:35:32.218Z"
   },
   {
    "duration": 4,
    "start_time": "2023-03-13T09:35:38.416Z"
   },
   {
    "duration": 6,
    "start_time": "2023-03-13T09:35:39.203Z"
   },
   {
    "duration": 6,
    "start_time": "2023-03-13T09:35:45.353Z"
   },
   {
    "duration": 11,
    "start_time": "2023-03-13T09:35:47.018Z"
   },
   {
    "duration": 6,
    "start_time": "2023-03-13T09:35:47.859Z"
   },
   {
    "duration": 2,
    "start_time": "2023-03-13T09:35:56.324Z"
   },
   {
    "duration": 6,
    "start_time": "2023-03-13T09:35:57.693Z"
   },
   {
    "duration": 58,
    "start_time": "2023-03-13T09:36:02.321Z"
   },
   {
    "duration": 64,
    "start_time": "2023-03-13T09:36:09.645Z"
   },
   {
    "duration": 60,
    "start_time": "2023-03-13T09:36:18.836Z"
   },
   {
    "duration": 64,
    "start_time": "2023-03-13T09:36:27.437Z"
   },
   {
    "duration": 65,
    "start_time": "2023-03-13T09:36:31.163Z"
   },
   {
    "duration": 3,
    "start_time": "2023-03-13T09:36:37.124Z"
   },
   {
    "duration": 50,
    "start_time": "2023-03-13T09:36:37.368Z"
   },
   {
    "duration": 22,
    "start_time": "2023-03-13T09:36:37.478Z"
   },
   {
    "duration": 14,
    "start_time": "2023-03-13T09:36:37.921Z"
   },
   {
    "duration": 30,
    "start_time": "2023-03-13T09:36:38.362Z"
   },
   {
    "duration": 15,
    "start_time": "2023-03-13T09:36:39.260Z"
   },
   {
    "duration": 18,
    "start_time": "2023-03-13T09:36:40.117Z"
   },
   {
    "duration": 7,
    "start_time": "2023-03-13T09:36:40.998Z"
   },
   {
    "duration": 15,
    "start_time": "2023-03-13T09:36:41.057Z"
   },
   {
    "duration": 4,
    "start_time": "2023-03-13T09:36:41.298Z"
   },
   {
    "duration": 163,
    "start_time": "2023-03-13T09:36:41.355Z"
   },
   {
    "duration": 4,
    "start_time": "2023-03-13T09:36:41.557Z"
   },
   {
    "duration": 10,
    "start_time": "2023-03-13T09:36:41.606Z"
   },
   {
    "duration": 18,
    "start_time": "2023-03-13T09:36:41.706Z"
   },
   {
    "duration": 9,
    "start_time": "2023-03-13T09:36:41.841Z"
   },
   {
    "duration": 7,
    "start_time": "2023-03-13T09:36:41.902Z"
   },
   {
    "duration": 8,
    "start_time": "2023-03-13T09:36:41.955Z"
   },
   {
    "duration": 5,
    "start_time": "2023-03-13T09:37:06.310Z"
   },
   {
    "duration": 4,
    "start_time": "2023-03-13T09:37:07.598Z"
   },
   {
    "duration": 5,
    "start_time": "2023-03-13T09:37:09.209Z"
   },
   {
    "duration": 5,
    "start_time": "2023-03-13T09:37:09.698Z"
   },
   {
    "duration": 4,
    "start_time": "2023-03-13T09:37:10.462Z"
   },
   {
    "duration": 5,
    "start_time": "2023-03-13T09:37:10.930Z"
   },
   {
    "duration": 62,
    "start_time": "2023-03-13T09:37:15.069Z"
   },
   {
    "duration": 14,
    "start_time": "2023-03-13T09:37:49.590Z"
   },
   {
    "duration": 3,
    "start_time": "2023-03-13T09:37:57.830Z"
   },
   {
    "duration": 48,
    "start_time": "2023-03-13T09:37:58.098Z"
   },
   {
    "duration": 22,
    "start_time": "2023-03-13T09:37:58.154Z"
   },
   {
    "duration": 16,
    "start_time": "2023-03-13T09:37:59.017Z"
   },
   {
    "duration": 31,
    "start_time": "2023-03-13T09:37:59.065Z"
   },
   {
    "duration": 16,
    "start_time": "2023-03-13T09:37:59.895Z"
   },
   {
    "duration": 20,
    "start_time": "2023-03-13T09:38:00.349Z"
   },
   {
    "duration": 8,
    "start_time": "2023-03-13T09:38:01.227Z"
   },
   {
    "duration": 15,
    "start_time": "2023-03-13T09:38:01.270Z"
   },
   {
    "duration": 4,
    "start_time": "2023-03-13T09:38:01.502Z"
   },
   {
    "duration": 167,
    "start_time": "2023-03-13T09:38:01.566Z"
   },
   {
    "duration": 4,
    "start_time": "2023-03-13T09:38:01.793Z"
   },
   {
    "duration": 9,
    "start_time": "2023-03-13T09:38:01.828Z"
   },
   {
    "duration": 17,
    "start_time": "2023-03-13T09:38:01.924Z"
   },
   {
    "duration": 8,
    "start_time": "2023-03-13T09:38:02.047Z"
   },
   {
    "duration": 8,
    "start_time": "2023-03-13T09:38:02.098Z"
   },
   {
    "duration": 7,
    "start_time": "2023-03-13T09:38:02.166Z"
   },
   {
    "duration": 5,
    "start_time": "2023-03-13T09:38:02.292Z"
   },
   {
    "duration": 5,
    "start_time": "2023-03-13T09:38:02.330Z"
   },
   {
    "duration": 6,
    "start_time": "2023-03-13T09:38:02.437Z"
   },
   {
    "duration": 5,
    "start_time": "2023-03-13T09:38:02.495Z"
   },
   {
    "duration": 2,
    "start_time": "2023-03-13T09:38:02.560Z"
   },
   {
    "duration": 5,
    "start_time": "2023-03-13T09:38:02.622Z"
   },
   {
    "duration": 10,
    "start_time": "2023-03-13T09:38:04.494Z"
   },
   {
    "duration": 56,
    "start_time": "2023-03-13T09:38:08.494Z"
   },
   {
    "duration": 6,
    "start_time": "2023-03-13T09:38:15.338Z"
   },
   {
    "duration": 52,
    "start_time": "2023-03-13T09:38:27.086Z"
   },
   {
    "duration": 6,
    "start_time": "2023-03-13T09:38:28.206Z"
   },
   {
    "duration": 54,
    "start_time": "2023-03-13T09:38:48.905Z"
   },
   {
    "duration": 7,
    "start_time": "2023-03-13T09:38:51.594Z"
   },
   {
    "duration": 11,
    "start_time": "2023-03-13T09:38:59.092Z"
   },
   {
    "duration": 15,
    "start_time": "2023-03-13T09:38:59.360Z"
   },
   {
    "duration": 8,
    "start_time": "2023-03-13T09:39:00.302Z"
   },
   {
    "duration": 9,
    "start_time": "2023-03-13T09:39:01.057Z"
   },
   {
    "duration": 7,
    "start_time": "2023-03-13T09:39:01.217Z"
   },
   {
    "duration": 15,
    "start_time": "2023-03-13T09:39:01.294Z"
   },
   {
    "duration": 12,
    "start_time": "2023-03-13T09:39:01.468Z"
   },
   {
    "duration": 18,
    "start_time": "2023-03-13T09:39:02.058Z"
   },
   {
    "duration": 6,
    "start_time": "2023-03-13T09:39:04.243Z"
   },
   {
    "duration": 14,
    "start_time": "2023-03-13T09:39:05.396Z"
   },
   {
    "duration": 3,
    "start_time": "2023-03-13T09:39:07.500Z"
   },
   {
    "duration": 22,
    "start_time": "2023-03-13T09:39:07.869Z"
   },
   {
    "duration": 8,
    "start_time": "2023-03-13T09:39:09.339Z"
   },
   {
    "duration": 3,
    "start_time": "2023-03-13T09:39:10.085Z"
   },
   {
    "duration": 251,
    "start_time": "2023-03-13T09:39:10.891Z"
   },
   {
    "duration": 200,
    "start_time": "2023-03-13T09:39:11.194Z"
   },
   {
    "duration": 202,
    "start_time": "2023-03-13T09:39:11.831Z"
   },
   {
    "duration": 9,
    "start_time": "2023-03-13T09:39:12.425Z"
   },
   {
    "duration": 25,
    "start_time": "2023-03-13T09:39:12.497Z"
   },
   {
    "duration": 9,
    "start_time": "2023-03-13T09:39:13.267Z"
   },
   {
    "duration": 10,
    "start_time": "2023-03-13T09:39:13.319Z"
   },
   {
    "duration": 495,
    "start_time": "2023-03-13T09:39:13.407Z"
   },
   {
    "duration": 17,
    "start_time": "2023-03-13T09:39:13.904Z"
   },
   {
    "duration": 8,
    "start_time": "2023-03-13T09:39:14.294Z"
   },
   {
    "duration": 8,
    "start_time": "2023-03-13T09:39:15.549Z"
   },
   {
    "duration": 23,
    "start_time": "2023-03-13T09:39:15.913Z"
   },
   {
    "duration": 14,
    "start_time": "2023-03-13T09:39:16.904Z"
   },
   {
    "duration": 14,
    "start_time": "2023-03-13T09:39:17.719Z"
   },
   {
    "duration": 212,
    "start_time": "2023-03-13T09:39:19.136Z"
   },
   {
    "duration": 2,
    "start_time": "2023-03-13T09:39:22.267Z"
   },
   {
    "duration": 12,
    "start_time": "2023-03-13T09:39:23.299Z"
   },
   {
    "duration": 25,
    "start_time": "2023-03-13T09:39:23.569Z"
   },
   {
    "duration": 14,
    "start_time": "2023-03-13T09:39:25.294Z"
   },
   {
    "duration": 233,
    "start_time": "2023-03-13T09:39:25.897Z"
   },
   {
    "duration": 65,
    "start_time": "2023-03-13T09:39:27.375Z"
   },
   {
    "duration": 2,
    "start_time": "2023-03-13T09:39:32.554Z"
   },
   {
    "duration": 50,
    "start_time": "2023-03-13T09:39:34.698Z"
   },
   {
    "duration": 20,
    "start_time": "2023-03-13T09:39:36.571Z"
   },
   {
    "duration": 2,
    "start_time": "2023-03-13T09:39:38.065Z"
   },
   {
    "duration": 222,
    "start_time": "2023-03-13T09:39:38.819Z"
   },
   {
    "duration": 237,
    "start_time": "2023-03-13T09:39:39.344Z"
   },
   {
    "duration": 25,
    "start_time": "2023-03-13T09:39:49.944Z"
   },
   {
    "duration": 6,
    "start_time": "2023-03-13T09:39:57.945Z"
   },
   {
    "duration": 139,
    "start_time": "2023-03-13T09:39:58.791Z"
   },
   {
    "duration": 7,
    "start_time": "2023-03-13T09:39:59.610Z"
   },
   {
    "duration": 189,
    "start_time": "2023-03-13T09:40:00.296Z"
   },
   {
    "duration": 25,
    "start_time": "2023-03-13T09:40:01.095Z"
   },
   {
    "duration": 188,
    "start_time": "2023-03-13T09:40:09.563Z"
   },
   {
    "duration": 302,
    "start_time": "2023-03-13T09:40:13.004Z"
   },
   {
    "duration": 305,
    "start_time": "2023-03-13T09:40:13.646Z"
   },
   {
    "duration": 429,
    "start_time": "2023-03-13T09:40:16.401Z"
   },
   {
    "duration": 426,
    "start_time": "2023-03-13T09:40:17.638Z"
   },
   {
    "duration": 6,
    "start_time": "2023-03-13T09:40:18.421Z"
   },
   {
    "duration": 6,
    "start_time": "2023-03-13T09:40:20.477Z"
   },
   {
    "duration": 4,
    "start_time": "2023-03-13T09:40:21.032Z"
   },
   {
    "duration": 4,
    "start_time": "2023-03-13T09:40:32.734Z"
   },
   {
    "duration": 2,
    "start_time": "2023-03-13T09:40:35.558Z"
   },
   {
    "duration": 3,
    "start_time": "2023-03-13T09:40:36.394Z"
   },
   {
    "duration": 18,
    "start_time": "2023-03-13T09:40:36.959Z"
   },
   {
    "duration": 173,
    "start_time": "2023-03-13T09:40:43.448Z"
   },
   {
    "duration": 25,
    "start_time": "2023-03-13T09:44:26.475Z"
   },
   {
    "duration": 194,
    "start_time": "2023-03-13T09:44:30.952Z"
   },
   {
    "duration": 17,
    "start_time": "2023-03-13T09:44:43.466Z"
   },
   {
    "duration": 409,
    "start_time": "2023-03-13T09:44:48.661Z"
   },
   {
    "duration": 5,
    "start_time": "2023-03-13T09:52:24.108Z"
   },
   {
    "duration": 5,
    "start_time": "2023-03-13T09:52:24.721Z"
   },
   {
    "duration": 4,
    "start_time": "2023-03-13T09:52:25.210Z"
   },
   {
    "duration": 4,
    "start_time": "2023-03-13T09:52:25.742Z"
   },
   {
    "duration": 3,
    "start_time": "2023-03-13T09:52:46.437Z"
   },
   {
    "duration": 53,
    "start_time": "2023-03-13T09:52:46.698Z"
   },
   {
    "duration": 21,
    "start_time": "2023-03-13T09:52:46.785Z"
   },
   {
    "duration": 16,
    "start_time": "2023-03-13T09:52:47.639Z"
   },
   {
    "duration": 35,
    "start_time": "2023-03-13T09:52:47.704Z"
   },
   {
    "duration": 16,
    "start_time": "2023-03-13T09:52:48.498Z"
   },
   {
    "duration": 15,
    "start_time": "2023-03-13T09:52:49.362Z"
   },
   {
    "duration": 10,
    "start_time": "2023-03-13T09:52:50.247Z"
   },
   {
    "duration": 21,
    "start_time": "2023-03-13T09:52:50.302Z"
   },
   {
    "duration": 5,
    "start_time": "2023-03-13T09:52:50.526Z"
   },
   {
    "duration": 172,
    "start_time": "2023-03-13T09:52:50.598Z"
   },
   {
    "duration": 4,
    "start_time": "2023-03-13T09:52:50.797Z"
   },
   {
    "duration": 10,
    "start_time": "2023-03-13T09:52:50.850Z"
   },
   {
    "duration": 22,
    "start_time": "2023-03-13T09:52:50.937Z"
   },
   {
    "duration": 8,
    "start_time": "2023-03-13T09:52:51.059Z"
   },
   {
    "duration": 7,
    "start_time": "2023-03-13T09:52:51.115Z"
   },
   {
    "duration": 7,
    "start_time": "2023-03-13T09:52:51.172Z"
   },
   {
    "duration": 5,
    "start_time": "2023-03-13T09:52:51.300Z"
   },
   {
    "duration": 4,
    "start_time": "2023-03-13T09:52:51.359Z"
   },
   {
    "duration": 5,
    "start_time": "2023-03-13T09:52:51.450Z"
   },
   {
    "duration": 6,
    "start_time": "2023-03-13T09:52:51.515Z"
   },
   {
    "duration": 3,
    "start_time": "2023-03-13T09:52:51.594Z"
   },
   {
    "duration": 5,
    "start_time": "2023-03-13T09:52:51.649Z"
   },
   {
    "duration": 14,
    "start_time": "2023-03-13T09:52:51.828Z"
   },
   {
    "duration": 54,
    "start_time": "2023-03-13T09:52:51.911Z"
   },
   {
    "duration": 5,
    "start_time": "2023-03-13T09:52:51.967Z"
   },
   {
    "duration": 10,
    "start_time": "2023-03-13T09:52:52.040Z"
   },
   {
    "duration": 16,
    "start_time": "2023-03-13T09:52:52.113Z"
   },
   {
    "duration": 8,
    "start_time": "2023-03-13T09:52:52.258Z"
   },
   {
    "duration": 9,
    "start_time": "2023-03-13T09:52:52.400Z"
   },
   {
    "duration": 5,
    "start_time": "2023-03-13T09:52:52.503Z"
   },
   {
    "duration": 15,
    "start_time": "2023-03-13T09:52:52.568Z"
   },
   {
    "duration": 13,
    "start_time": "2023-03-13T09:52:52.710Z"
   },
   {
    "duration": 20,
    "start_time": "2023-03-13T09:52:52.744Z"
   },
   {
    "duration": 6,
    "start_time": "2023-03-13T09:52:53.680Z"
   },
   {
    "duration": 15,
    "start_time": "2023-03-13T09:52:53.758Z"
   },
   {
    "duration": 4,
    "start_time": "2023-03-13T09:52:53.830Z"
   },
   {
    "duration": 24,
    "start_time": "2023-03-13T09:52:53.907Z"
   },
   {
    "duration": 10,
    "start_time": "2023-03-13T09:52:54.862Z"
   },
   {
    "duration": 3,
    "start_time": "2023-03-13T09:52:54.918Z"
   },
   {
    "duration": 252,
    "start_time": "2023-03-13T09:52:55.061Z"
   },
   {
    "duration": 195,
    "start_time": "2023-03-13T09:52:55.320Z"
   },
   {
    "duration": 183,
    "start_time": "2023-03-13T09:52:55.521Z"
   },
   {
    "duration": 15,
    "start_time": "2023-03-13T09:52:55.706Z"
   },
   {
    "duration": 21,
    "start_time": "2023-03-13T09:52:55.723Z"
   },
   {
    "duration": 9,
    "start_time": "2023-03-13T09:52:55.848Z"
   },
   {
    "duration": 8,
    "start_time": "2023-03-13T09:52:56.311Z"
   },
   {
    "duration": 291,
    "start_time": "2023-03-13T09:53:07.149Z"
   },
   {
    "duration": 12,
    "start_time": "2023-03-13T09:53:07.942Z"
   },
   {
    "duration": 8,
    "start_time": "2023-03-13T09:53:08.962Z"
   },
   {
    "duration": 11,
    "start_time": "2023-03-13T09:53:10.256Z"
   },
   {
    "duration": 24,
    "start_time": "2023-03-13T09:53:10.606Z"
   },
   {
    "duration": 14,
    "start_time": "2023-03-13T09:53:11.457Z"
   },
   {
    "duration": 14,
    "start_time": "2023-03-13T09:53:11.507Z"
   },
   {
    "duration": 215,
    "start_time": "2023-03-13T09:53:12.369Z"
   },
   {
    "duration": 3,
    "start_time": "2023-03-13T09:53:31.337Z"
   },
   {
    "duration": 14,
    "start_time": "2023-03-13T09:53:31.919Z"
   },
   {
    "duration": 28,
    "start_time": "2023-03-13T09:53:32.209Z"
   },
   {
    "duration": 16,
    "start_time": "2023-03-13T09:53:33.726Z"
   },
   {
    "duration": 252,
    "start_time": "2023-03-13T09:53:34.025Z"
   },
   {
    "duration": 64,
    "start_time": "2023-03-13T09:53:38.758Z"
   },
   {
    "duration": 3,
    "start_time": "2023-03-13T09:53:41.002Z"
   },
   {
    "duration": 48,
    "start_time": "2023-03-13T09:53:41.409Z"
   },
   {
    "duration": 20,
    "start_time": "2023-03-13T09:53:42.309Z"
   },
   {
    "duration": 3,
    "start_time": "2023-03-13T09:53:43.162Z"
   },
   {
    "duration": 240,
    "start_time": "2023-03-13T09:53:43.221Z"
   },
   {
    "duration": 238,
    "start_time": "2023-03-13T09:53:43.463Z"
   },
   {
    "duration": 26,
    "start_time": "2023-03-13T09:53:44.875Z"
   },
   {
    "duration": 6,
    "start_time": "2023-03-13T09:53:45.726Z"
   },
   {
    "duration": 154,
    "start_time": "2023-03-13T09:53:46.874Z"
   },
   {
    "duration": 6,
    "start_time": "2023-03-13T09:53:47.362Z"
   },
   {
    "duration": 145,
    "start_time": "2023-03-13T09:53:47.910Z"
   },
   {
    "duration": 25,
    "start_time": "2023-03-13T09:53:48.417Z"
   },
   {
    "duration": 174,
    "start_time": "2023-03-13T09:53:51.795Z"
   },
   {
    "duration": 329,
    "start_time": "2023-03-13T09:53:57.618Z"
   },
   {
    "duration": 4,
    "start_time": "2023-03-13T09:54:54.333Z"
   },
   {
    "duration": 311,
    "start_time": "2023-03-13T09:55:07.954Z"
   },
   {
    "duration": 303,
    "start_time": "2023-03-13T09:55:09.214Z"
   },
   {
    "duration": 693,
    "start_time": "2023-03-13T09:55:11.274Z"
   },
   {
    "duration": 418,
    "start_time": "2023-03-13T09:55:12.460Z"
   },
   {
    "duration": 5,
    "start_time": "2023-03-13T09:55:13.174Z"
   },
   {
    "duration": 5,
    "start_time": "2023-03-13T09:55:13.873Z"
   },
   {
    "duration": 4,
    "start_time": "2023-03-13T09:55:14.280Z"
   },
   {
    "duration": 6,
    "start_time": "2023-03-13T09:55:16.363Z"
   },
   {
    "duration": 3,
    "start_time": "2023-03-13T09:55:16.613Z"
   },
   {
    "duration": 3,
    "start_time": "2023-03-13T09:55:17.098Z"
   },
   {
    "duration": 18,
    "start_time": "2023-03-13T09:55:17.396Z"
   },
   {
    "duration": 175,
    "start_time": "2023-03-13T09:55:19.859Z"
   },
   {
    "duration": 5,
    "start_time": "2023-03-13T09:55:29.248Z"
   },
   {
    "duration": 6,
    "start_time": "2023-03-13T09:55:30.910Z"
   },
   {
    "duration": 4,
    "start_time": "2023-03-13T09:55:34.679Z"
   },
   {
    "duration": 3,
    "start_time": "2023-03-13T09:55:37.958Z"
   },
   {
    "duration": 3,
    "start_time": "2023-03-13T09:56:44.350Z"
   },
   {
    "duration": 79,
    "start_time": "2023-03-13T10:01:41.063Z"
   },
   {
    "duration": 7,
    "start_time": "2023-03-13T10:02:02.563Z"
   },
   {
    "duration": 6,
    "start_time": "2023-03-13T10:02:02.954Z"
   },
   {
    "duration": 5,
    "start_time": "2023-03-13T10:02:03.400Z"
   },
   {
    "duration": 5,
    "start_time": "2023-03-13T10:02:04.165Z"
   },
   {
    "duration": 471,
    "start_time": "2023-03-13T10:15:38.393Z"
   },
   {
    "duration": 546,
    "start_time": "2023-03-13T10:15:57.105Z"
   },
   {
    "duration": 377,
    "start_time": "2023-03-13T10:18:57.629Z"
   },
   {
    "duration": 545,
    "start_time": "2023-03-13T10:19:10.155Z"
   },
   {
    "duration": 215,
    "start_time": "2023-03-13T10:19:48.336Z"
   },
   {
    "duration": 275,
    "start_time": "2023-03-13T10:19:55.549Z"
   },
   {
    "duration": 297,
    "start_time": "2023-03-13T10:20:03.568Z"
   },
   {
    "duration": 283,
    "start_time": "2023-03-13T10:20:12.944Z"
   },
   {
    "duration": 426,
    "start_time": "2023-03-13T10:20:41.592Z"
   },
   {
    "duration": 1279,
    "start_time": "2023-03-14T03:56:07.422Z"
   },
   {
    "duration": 56,
    "start_time": "2023-03-14T03:56:08.705Z"
   },
   {
    "duration": 40,
    "start_time": "2023-03-14T03:56:08.763Z"
   },
   {
    "duration": 19,
    "start_time": "2023-03-14T03:56:08.805Z"
   },
   {
    "duration": 31,
    "start_time": "2023-03-14T03:56:08.827Z"
   },
   {
    "duration": 72,
    "start_time": "2023-03-14T03:56:08.872Z"
   },
   {
    "duration": 40,
    "start_time": "2023-03-14T03:56:08.947Z"
   },
   {
    "duration": 29,
    "start_time": "2023-03-14T03:56:08.989Z"
   },
   {
    "duration": 20,
    "start_time": "2023-03-14T03:56:09.020Z"
   },
   {
    "duration": 6,
    "start_time": "2023-03-14T03:56:09.042Z"
   },
   {
    "duration": 218,
    "start_time": "2023-03-14T03:56:09.050Z"
   },
   {
    "duration": 6,
    "start_time": "2023-03-14T03:56:09.270Z"
   },
   {
    "duration": 38,
    "start_time": "2023-03-14T03:56:09.280Z"
   },
   {
    "duration": 21,
    "start_time": "2023-03-14T03:56:09.321Z"
   },
   {
    "duration": 8,
    "start_time": "2023-03-14T03:56:09.344Z"
   },
   {
    "duration": 12,
    "start_time": "2023-03-14T03:56:09.354Z"
   },
   {
    "duration": 15,
    "start_time": "2023-03-14T03:56:09.369Z"
   },
   {
    "duration": 37,
    "start_time": "2023-03-14T03:56:09.386Z"
   },
   {
    "duration": 7,
    "start_time": "2023-03-14T03:56:09.425Z"
   },
   {
    "duration": 13,
    "start_time": "2023-03-14T03:56:09.434Z"
   },
   {
    "duration": 8,
    "start_time": "2023-03-14T03:56:09.450Z"
   },
   {
    "duration": 3,
    "start_time": "2023-03-14T03:56:09.459Z"
   },
   {
    "duration": 8,
    "start_time": "2023-03-14T03:56:09.464Z"
   },
   {
    "duration": 36,
    "start_time": "2023-03-14T03:56:09.480Z"
   },
   {
    "duration": 66,
    "start_time": "2023-03-14T03:56:09.517Z"
   },
   {
    "duration": 8,
    "start_time": "2023-03-14T03:56:09.585Z"
   },
   {
    "duration": 23,
    "start_time": "2023-03-14T03:56:09.595Z"
   },
   {
    "duration": 18,
    "start_time": "2023-03-14T03:56:09.620Z"
   },
   {
    "duration": 9,
    "start_time": "2023-03-14T03:56:09.641Z"
   },
   {
    "duration": 25,
    "start_time": "2023-03-14T03:56:09.652Z"
   },
   {
    "duration": 8,
    "start_time": "2023-03-14T03:56:09.680Z"
   },
   {
    "duration": 33,
    "start_time": "2023-03-14T03:56:09.689Z"
   },
   {
    "duration": 12,
    "start_time": "2023-03-14T03:56:09.724Z"
   },
   {
    "duration": 20,
    "start_time": "2023-03-14T03:56:09.738Z"
   },
   {
    "duration": 6,
    "start_time": "2023-03-14T03:56:09.773Z"
   },
   {
    "duration": 42,
    "start_time": "2023-03-14T03:56:09.781Z"
   },
   {
    "duration": 2,
    "start_time": "2023-03-14T03:56:09.825Z"
   },
   {
    "duration": 32,
    "start_time": "2023-03-14T03:56:09.829Z"
   },
   {
    "duration": 14,
    "start_time": "2023-03-14T03:56:09.863Z"
   },
   {
    "duration": 27,
    "start_time": "2023-03-14T03:56:09.879Z"
   },
   {
    "duration": 305,
    "start_time": "2023-03-14T03:56:09.912Z"
   },
   {
    "duration": 241,
    "start_time": "2023-03-14T03:56:10.219Z"
   },
   {
    "duration": 259,
    "start_time": "2023-03-14T03:56:10.462Z"
   },
   {
    "duration": 13,
    "start_time": "2023-03-14T03:56:10.724Z"
   },
   {
    "duration": 39,
    "start_time": "2023-03-14T03:56:10.740Z"
   },
   {
    "duration": 47,
    "start_time": "2023-03-14T03:56:10.781Z"
   },
   {
    "duration": 16,
    "start_time": "2023-03-14T03:56:10.831Z"
   },
   {
    "duration": 363,
    "start_time": "2023-03-14T03:56:10.849Z"
   },
   {
    "duration": 11,
    "start_time": "2023-03-14T03:56:11.214Z"
   },
   {
    "duration": 7,
    "start_time": "2023-03-14T03:56:11.227Z"
   },
   {
    "duration": 9,
    "start_time": "2023-03-14T03:56:11.236Z"
   },
   {
    "duration": 58,
    "start_time": "2023-03-14T03:56:11.247Z"
   },
   {
    "duration": 14,
    "start_time": "2023-03-14T03:56:11.307Z"
   },
   {
    "duration": 13,
    "start_time": "2023-03-14T03:56:11.323Z"
   },
   {
    "duration": 290,
    "start_time": "2023-03-14T03:56:11.338Z"
   },
   {
    "duration": 3,
    "start_time": "2023-03-14T03:56:11.629Z"
   },
   {
    "duration": 16,
    "start_time": "2023-03-14T03:56:11.633Z"
   },
   {
    "duration": 52,
    "start_time": "2023-03-14T03:56:11.651Z"
   },
   {
    "duration": 20,
    "start_time": "2023-03-14T03:56:11.704Z"
   },
   {
    "duration": 357,
    "start_time": "2023-03-14T03:56:11.726Z"
   },
   {
    "duration": 69,
    "start_time": "2023-03-14T03:56:12.085Z"
   },
   {
    "duration": 17,
    "start_time": "2023-03-14T03:56:12.156Z"
   },
   {
    "duration": 64,
    "start_time": "2023-03-14T03:56:12.175Z"
   },
   {
    "duration": 44,
    "start_time": "2023-03-14T03:56:12.240Z"
   },
   {
    "duration": 4,
    "start_time": "2023-03-14T03:56:12.286Z"
   },
   {
    "duration": 303,
    "start_time": "2023-03-14T03:56:12.292Z"
   },
   {
    "duration": 263,
    "start_time": "2023-03-14T03:56:12.596Z"
   },
   {
    "duration": 48,
    "start_time": "2023-03-14T03:56:12.860Z"
   },
   {
    "duration": 5,
    "start_time": "2023-03-14T03:56:12.910Z"
   },
   {
    "duration": 185,
    "start_time": "2023-03-14T03:56:12.917Z"
   },
   {
    "duration": 5,
    "start_time": "2023-03-14T03:56:13.104Z"
   },
   {
    "duration": 162,
    "start_time": "2023-03-14T03:56:13.111Z"
   },
   {
    "duration": 35,
    "start_time": "2023-03-14T03:56:13.278Z"
   },
   {
    "duration": 224,
    "start_time": "2023-03-14T03:56:13.316Z"
   },
   {
    "duration": 366,
    "start_time": "2023-03-14T03:56:13.542Z"
   },
   {
    "duration": 360,
    "start_time": "2023-03-14T03:56:13.909Z"
   },
   {
    "duration": 659,
    "start_time": "2023-03-14T03:56:14.271Z"
   },
   {
    "duration": 512,
    "start_time": "2023-03-14T03:56:14.933Z"
   },
   {
    "duration": 7,
    "start_time": "2023-03-14T03:56:15.447Z"
   },
   {
    "duration": 22,
    "start_time": "2023-03-14T03:56:15.456Z"
   },
   {
    "duration": 28,
    "start_time": "2023-03-14T03:56:15.480Z"
   },
   {
    "duration": 8,
    "start_time": "2023-03-14T03:56:15.510Z"
   },
   {
    "duration": 10,
    "start_time": "2023-03-14T03:56:15.519Z"
   },
   {
    "duration": 8,
    "start_time": "2023-03-14T03:56:15.530Z"
   },
   {
    "duration": 27,
    "start_time": "2023-03-14T03:56:15.539Z"
   },
   {
    "duration": 225,
    "start_time": "2023-03-14T03:56:15.567Z"
   },
   {
    "duration": 12,
    "start_time": "2023-03-14T03:56:15.795Z"
   },
   {
    "duration": 6,
    "start_time": "2023-03-14T03:56:15.811Z"
   },
   {
    "duration": 5,
    "start_time": "2023-03-14T03:56:15.819Z"
   },
   {
    "duration": 19,
    "start_time": "2023-03-14T03:56:15.826Z"
   },
   {
    "duration": 16,
    "start_time": "2023-03-14T03:56:15.848Z"
   },
   {
    "duration": 49,
    "start_time": "2023-03-14T03:56:15.866Z"
   },
   {
    "duration": 11,
    "start_time": "2023-03-14T03:56:15.917Z"
   },
   {
    "duration": 15,
    "start_time": "2023-03-14T03:56:15.930Z"
   },
   {
    "duration": 8,
    "start_time": "2023-03-14T03:56:15.947Z"
   },
   {
    "duration": 7,
    "start_time": "2023-03-14T03:56:15.957Z"
   },
   {
    "duration": 75,
    "start_time": "2023-03-14T03:56:15.966Z"
   },
   {
    "duration": 4,
    "start_time": "2023-03-14T03:56:16.043Z"
   },
   {
    "duration": 20,
    "start_time": "2023-03-14T03:56:16.049Z"
   },
   {
    "duration": 10,
    "start_time": "2023-03-14T03:56:16.071Z"
   },
   {
    "duration": 34,
    "start_time": "2023-03-14T03:56:16.083Z"
   },
   {
    "duration": 8,
    "start_time": "2023-03-14T03:56:16.119Z"
   },
   {
    "duration": 7,
    "start_time": "2023-03-14T03:56:16.129Z"
   },
   {
    "duration": 695,
    "start_time": "2023-03-14T03:56:16.138Z"
   },
   {
    "duration": 712,
    "start_time": "2023-03-14T03:56:16.835Z"
   },
   {
    "duration": 693,
    "start_time": "2023-03-14T03:56:17.549Z"
   },
   {
    "duration": 811,
    "start_time": "2023-03-14T03:56:18.247Z"
   },
   {
    "duration": 1217,
    "start_time": "2023-03-14T04:02:42.500Z"
   },
   {
    "duration": 56,
    "start_time": "2023-03-14T04:02:43.722Z"
   },
   {
    "duration": 38,
    "start_time": "2023-03-14T04:02:43.782Z"
   },
   {
    "duration": 15,
    "start_time": "2023-03-14T04:02:43.823Z"
   },
   {
    "duration": 58,
    "start_time": "2023-03-14T04:02:43.840Z"
   },
   {
    "duration": 76,
    "start_time": "2023-03-14T04:02:43.900Z"
   },
   {
    "duration": 21,
    "start_time": "2023-03-14T04:02:43.978Z"
   },
   {
    "duration": 7,
    "start_time": "2023-03-14T04:02:44.001Z"
   },
   {
    "duration": 21,
    "start_time": "2023-03-14T04:02:44.009Z"
   },
   {
    "duration": 5,
    "start_time": "2023-03-14T04:02:44.032Z"
   },
   {
    "duration": 238,
    "start_time": "2023-03-14T04:02:44.039Z"
   },
   {
    "duration": 5,
    "start_time": "2023-03-14T04:02:44.279Z"
   },
   {
    "duration": 26,
    "start_time": "2023-03-14T04:02:44.286Z"
   },
   {
    "duration": 22,
    "start_time": "2023-03-14T04:02:44.317Z"
   },
   {
    "duration": 8,
    "start_time": "2023-03-14T04:02:44.341Z"
   },
   {
    "duration": 9,
    "start_time": "2023-03-14T04:02:44.373Z"
   },
   {
    "duration": 17,
    "start_time": "2023-03-14T04:02:44.385Z"
   },
   {
    "duration": 8,
    "start_time": "2023-03-14T04:02:44.405Z"
   },
   {
    "duration": 18,
    "start_time": "2023-03-14T04:02:44.415Z"
   },
   {
    "duration": 11,
    "start_time": "2023-03-14T04:02:44.434Z"
   },
   {
    "duration": 8,
    "start_time": "2023-03-14T04:02:44.447Z"
   },
   {
    "duration": 4,
    "start_time": "2023-03-14T04:02:44.472Z"
   },
   {
    "duration": 22,
    "start_time": "2023-03-14T04:02:44.478Z"
   },
   {
    "duration": 19,
    "start_time": "2023-03-14T04:02:44.502Z"
   },
   {
    "duration": 110,
    "start_time": "2023-03-14T04:02:44.524Z"
   },
   {
    "duration": 7,
    "start_time": "2023-03-14T04:02:44.636Z"
   },
   {
    "duration": 16,
    "start_time": "2023-03-14T04:02:44.644Z"
   },
   {
    "duration": 25,
    "start_time": "2023-03-14T04:02:44.662Z"
   },
   {
    "duration": 14,
    "start_time": "2023-03-14T04:02:44.689Z"
   },
   {
    "duration": 17,
    "start_time": "2023-03-14T04:02:44.705Z"
   },
   {
    "duration": 12,
    "start_time": "2023-03-14T04:02:44.724Z"
   },
   {
    "duration": 15,
    "start_time": "2023-03-14T04:02:44.738Z"
   },
   {
    "duration": 20,
    "start_time": "2023-03-14T04:02:44.772Z"
   },
   {
    "duration": 21,
    "start_time": "2023-03-14T04:02:44.794Z"
   },
   {
    "duration": 6,
    "start_time": "2023-03-14T04:02:44.818Z"
   },
   {
    "duration": 49,
    "start_time": "2023-03-14T04:02:44.826Z"
   },
   {
    "duration": 4,
    "start_time": "2023-03-14T04:02:44.876Z"
   },
   {
    "duration": 28,
    "start_time": "2023-03-14T04:02:44.882Z"
   },
   {
    "duration": 12,
    "start_time": "2023-03-14T04:02:44.912Z"
   },
   {
    "duration": 6,
    "start_time": "2023-03-14T04:02:44.926Z"
   },
   {
    "duration": 300,
    "start_time": "2023-03-14T04:02:44.937Z"
   },
   {
    "duration": 210,
    "start_time": "2023-03-14T04:02:45.239Z"
   },
   {
    "duration": 199,
    "start_time": "2023-03-14T04:02:45.451Z"
   },
   {
    "duration": 9,
    "start_time": "2023-03-14T04:02:45.652Z"
   },
   {
    "duration": 51,
    "start_time": "2023-03-14T04:02:45.662Z"
   },
   {
    "duration": 12,
    "start_time": "2023-03-14T04:02:45.716Z"
   },
   {
    "duration": 11,
    "start_time": "2023-03-14T04:02:45.731Z"
   },
   {
    "duration": 401,
    "start_time": "2023-03-14T04:02:45.745Z"
   },
   {
    "duration": 12,
    "start_time": "2023-03-14T04:02:46.147Z"
   },
   {
    "duration": 18,
    "start_time": "2023-03-14T04:02:46.161Z"
   },
   {
    "duration": 33,
    "start_time": "2023-03-14T04:02:46.181Z"
   },
   {
    "duration": 23,
    "start_time": "2023-03-14T04:02:46.217Z"
   },
   {
    "duration": 15,
    "start_time": "2023-03-14T04:02:46.242Z"
   },
   {
    "duration": 23,
    "start_time": "2023-03-14T04:02:46.259Z"
   },
   {
    "duration": 239,
    "start_time": "2023-03-14T04:02:46.284Z"
   },
   {
    "duration": 3,
    "start_time": "2023-03-14T04:02:46.525Z"
   },
   {
    "duration": 17,
    "start_time": "2023-03-14T04:02:46.530Z"
   },
   {
    "duration": 58,
    "start_time": "2023-03-14T04:02:46.549Z"
   },
   {
    "duration": 21,
    "start_time": "2023-03-14T04:02:46.610Z"
   },
   {
    "duration": 451,
    "start_time": "2023-03-14T04:02:46.633Z"
   },
   {
    "duration": 69,
    "start_time": "2023-03-14T04:02:47.087Z"
   },
   {
    "duration": 17,
    "start_time": "2023-03-14T04:02:47.158Z"
   },
   {
    "duration": 70,
    "start_time": "2023-03-14T04:02:47.178Z"
   },
   {
    "duration": 45,
    "start_time": "2023-03-14T04:02:47.249Z"
   },
   {
    "duration": 3,
    "start_time": "2023-03-14T04:02:47.296Z"
   },
   {
    "duration": 324,
    "start_time": "2023-03-14T04:02:47.302Z"
   },
   {
    "duration": 275,
    "start_time": "2023-03-14T04:02:47.628Z"
   },
   {
    "duration": 28,
    "start_time": "2023-03-14T04:02:47.904Z"
   },
   {
    "duration": 12,
    "start_time": "2023-03-14T04:02:47.934Z"
   },
   {
    "duration": 187,
    "start_time": "2023-03-14T04:02:47.947Z"
   },
   {
    "duration": 5,
    "start_time": "2023-03-14T04:02:48.136Z"
   },
   {
    "duration": 169,
    "start_time": "2023-03-14T04:02:48.143Z"
   },
   {
    "duration": 24,
    "start_time": "2023-03-14T04:02:48.314Z"
   },
   {
    "duration": 200,
    "start_time": "2023-03-14T04:02:48.340Z"
   },
   {
    "duration": 333,
    "start_time": "2023-03-14T04:02:48.546Z"
   },
   {
    "duration": 366,
    "start_time": "2023-03-14T04:02:48.881Z"
   },
   {
    "duration": 576,
    "start_time": "2023-03-14T04:02:49.249Z"
   },
   {
    "duration": 462,
    "start_time": "2023-03-14T04:02:49.827Z"
   },
   {
    "duration": 7,
    "start_time": "2023-03-14T04:02:50.291Z"
   },
   {
    "duration": 12,
    "start_time": "2023-03-14T04:02:50.302Z"
   },
   {
    "duration": 11,
    "start_time": "2023-03-14T04:02:50.317Z"
   },
   {
    "duration": 9,
    "start_time": "2023-03-14T04:02:50.329Z"
   },
   {
    "duration": 5,
    "start_time": "2023-03-14T04:02:50.340Z"
   },
   {
    "duration": 6,
    "start_time": "2023-03-14T04:02:50.347Z"
   },
   {
    "duration": 65,
    "start_time": "2023-03-14T04:02:50.355Z"
   },
   {
    "duration": 246,
    "start_time": "2023-03-14T04:02:50.423Z"
   },
   {
    "duration": 7,
    "start_time": "2023-03-14T04:02:50.673Z"
   },
   {
    "duration": 22,
    "start_time": "2023-03-14T04:02:50.682Z"
   },
   {
    "duration": 7,
    "start_time": "2023-03-14T04:02:50.706Z"
   },
   {
    "duration": 7,
    "start_time": "2023-03-14T04:02:50.715Z"
   },
   {
    "duration": 9,
    "start_time": "2023-03-14T04:02:50.724Z"
   },
   {
    "duration": 10,
    "start_time": "2023-03-14T04:02:50.735Z"
   },
   {
    "duration": 15,
    "start_time": "2023-03-14T04:02:50.747Z"
   },
   {
    "duration": 23,
    "start_time": "2023-03-14T04:02:50.764Z"
   },
   {
    "duration": 17,
    "start_time": "2023-03-14T04:02:50.789Z"
   },
   {
    "duration": 8,
    "start_time": "2023-03-14T04:02:50.808Z"
   },
   {
    "duration": 72,
    "start_time": "2023-03-14T04:02:50.819Z"
   },
   {
    "duration": 4,
    "start_time": "2023-03-14T04:02:50.894Z"
   },
   {
    "duration": 16,
    "start_time": "2023-03-14T04:02:50.900Z"
   },
   {
    "duration": 11,
    "start_time": "2023-03-14T04:02:50.919Z"
   },
   {
    "duration": 11,
    "start_time": "2023-03-14T04:02:50.932Z"
   },
   {
    "duration": 18,
    "start_time": "2023-03-14T04:02:50.945Z"
   },
   {
    "duration": 17,
    "start_time": "2023-03-14T04:02:50.965Z"
   },
   {
    "duration": 685,
    "start_time": "2023-03-14T04:02:50.984Z"
   },
   {
    "duration": 682,
    "start_time": "2023-03-14T04:02:51.670Z"
   },
   {
    "duration": 673,
    "start_time": "2023-03-14T04:02:52.354Z"
   },
   {
    "duration": 770,
    "start_time": "2023-03-14T04:02:53.029Z"
   },
   {
    "duration": 56,
    "start_time": "2023-04-16T18:53:17.632Z"
   },
   {
    "duration": 1339,
    "start_time": "2023-04-16T18:53:24.859Z"
   },
   {
    "duration": 91,
    "start_time": "2023-04-16T18:53:26.200Z"
   },
   {
    "duration": 27,
    "start_time": "2023-04-16T18:53:26.293Z"
   },
   {
    "duration": 17,
    "start_time": "2023-04-16T18:53:26.932Z"
   },
   {
    "duration": 40,
    "start_time": "2023-04-16T18:53:27.871Z"
   },
   {
    "duration": 61,
    "start_time": "2023-04-16T18:53:29.281Z"
   }
  ],
  "kernelspec": {
   "display_name": "Python 3 (ipykernel)",
   "language": "python",
   "name": "python3"
  },
  "language_info": {
   "codemirror_mode": {
    "name": "ipython",
    "version": 3
   },
   "file_extension": ".py",
   "mimetype": "text/x-python",
   "name": "python",
   "nbconvert_exporter": "python",
   "pygments_lexer": "ipython3",
   "version": "3.10.9"
  },
  "toc": {
   "base_numbering": 1,
   "nav_menu": {},
   "number_sections": true,
   "sideBar": true,
   "skip_h1_title": true,
   "title_cell": "Table of Contents",
   "title_sidebar": "Contents",
   "toc_cell": false,
   "toc_position": {
    "height": "486px",
    "left": "122px",
    "top": "110.525px",
    "width": "165px"
   },
   "toc_section_display": true,
   "toc_window_display": false
  }
 },
 "nbformat": 4,
 "nbformat_minor": 2
}
