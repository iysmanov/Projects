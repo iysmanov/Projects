{
 "cells": [
  {
   "cell_type": "markdown",
   "metadata": {
    "toc": true
   },
   "source": [
    "<h1>Содержание<span class=\"tocSkip\"></span></h1>\n",
    "</font></a></span></li></ul></li><li><span><a href=\"#Подготовка\" data-toc-modified-id=\"Подготовка-1\"><span class=\"toc-item-num\">1&nbsp;&nbsp;</span>Подготовка</a></span></li><li><span><a href=\"#Обучение\" data-toc-modified-id=\"Обучение-2\"><span class=\"toc-item-num\">2&nbsp;&nbsp;</span>Обучение</a></span><ul class=\"toc-item\"><li><span><a href=\"#Подготовим-данные-к-подаче-в-модели\" data-toc-modified-id=\"Подготовим-данные-к-подаче-в-модели-2.1\"><span class=\"toc-item-num\">2.1&nbsp;&nbsp;</span>Подготовим данные к подаче в модели</a></span></li><li><span><a href=\"#Обучим-3-модели\" data-toc-modified-id=\"Обучим-3-модели-2.2\"><span class=\"toc-item-num\">2.2&nbsp;&nbsp;</span>Обучим 3 модели</a></span></li></ul></li><li><span><a href=\"#Выводы\" data-toc-modified-id=\"Выводы-3\"><span class=\"toc-item-num\">3&nbsp;&nbsp;</span>Выводы</a></span></li><li><span><a href=\"#Чек-лист-проверки\" data-toc-modified-id=\"Чек-лист-проверки-4\"><span class=\"toc-item-num\">4&nbsp;&nbsp;</span>Чек-лист проверки</a></span></li></ul></div>"
   ]
  },
  {
   "cell_type": "markdown",
   "metadata": {},
   "source": [
    "# Проект для «Викишоп»\n",
    "\n",
    "Интернет-магазин «Викишоп» запускает новый сервис. Теперь пользователи могут редактировать и дополнять описания товаров, как в вики-сообществах. То есть клиенты предлагают свои правки и комментируют изменения других. Магазину нужен инструмент, который будет искать токсичные комментарии и отправлять их на модерацию. \n",
    "\n",
    "Обучите модель классифицировать комментарии на позитивные и негативные. В вашем распоряжении набор данных с разметкой о токсичности правок.\n",
    "\n",
    "Постройте модель со значением метрики качества *F1* не меньше 0.75. \n",
    "\n",
    "**Инструкция по выполнению проекта**\n",
    "\n",
    "1. Загрузите и подготовьте данные.\n",
    "2. Обучите разные модели. \n",
    "3. Сделайте выводы.\n",
    "\n",
    "Для выполнения проекта применять *BERT* необязательно, но вы можете попробовать.\n",
    "\n",
    "**Описание данных**\n",
    "\n",
    "Данные находятся в файле `toxic_comments.csv`. Столбец *text* в нём содержит текст комментария, а *toxic* — целевой признак."
   ]
  },
  {
   "cell_type": "code",
   "execution_count": 31,
   "metadata": {},
   "outputs": [
    {
     "name": "stderr",
     "output_type": "stream",
     "text": [
      "[nltk_data] Downloading package averaged_perceptron_tagger to\n",
      "[nltk_data]     /home/jovyan/nltk_data...\n",
      "[nltk_data]   Package averaged_perceptron_tagger is already up-to-\n",
      "[nltk_data]       date!\n"
     ]
    },
    {
     "data": {
      "text/plain": [
       "True"
      ]
     },
     "execution_count": 31,
     "metadata": {},
     "output_type": "execute_result"
    }
   ],
   "source": [
    "import pandas as pd\n",
    "from pymystem3 import Mystem\n",
    "import re\n",
    "import nltk\n",
    "\n",
    "from nltk.corpus import stopwords as nltk_stopwords\n",
    "from nltk.stem import WordNetLemmatizer\n",
    "from nltk.corpus import wordnet\n",
    "from sklearn.feature_extraction.text import TfidfVectorizer\n",
    "\n",
    "from sklearn.model_selection import train_test_split, GridSearchCV \n",
    "\n",
    "from catboost import CatBoostRegressor\n",
    "from sklearn.tree import DecisionTreeClassifier\n",
    "from sklearn.linear_model import LogisticRegression\n",
    "from sklearn.svm import LinearSVC\n",
    "\n",
    "from sklearn.metrics import f1_score\n",
    "\n",
    "from tqdm import notebook, tqdm, tqdm_notebook\n",
    "import warnings\n",
    "warnings.filterwarnings('ignore')\n",
    "\n",
    "nltk.download('averaged_perceptron_tagger')"
   ]
  },
  {
   "cell_type": "markdown",
   "metadata": {},
   "source": [
    "## Подготовка данных"
   ]
  },
  {
   "cell_type": "markdown",
   "metadata": {},
   "source": [
    "Рассмотрим данные"
   ]
  },
  {
   "cell_type": "code",
   "execution_count": 14,
   "metadata": {},
   "outputs": [],
   "source": [
    "data = pd.read_csv('/datasets/toxic_comments.csv')"
   ]
  },
  {
   "cell_type": "code",
   "execution_count": 15,
   "metadata": {},
   "outputs": [
    {
     "data": {
      "text/html": [
       "<div>\n",
       "<style scoped>\n",
       "    .dataframe tbody tr th:only-of-type {\n",
       "        vertical-align: middle;\n",
       "    }\n",
       "\n",
       "    .dataframe tbody tr th {\n",
       "        vertical-align: top;\n",
       "    }\n",
       "\n",
       "    .dataframe thead th {\n",
       "        text-align: right;\n",
       "    }\n",
       "</style>\n",
       "<table border=\"1\" class=\"dataframe\">\n",
       "  <thead>\n",
       "    <tr style=\"text-align: right;\">\n",
       "      <th></th>\n",
       "      <th>Unnamed: 0</th>\n",
       "      <th>text</th>\n",
       "      <th>toxic</th>\n",
       "    </tr>\n",
       "  </thead>\n",
       "  <tbody>\n",
       "    <tr>\n",
       "      <th>0</th>\n",
       "      <td>0</td>\n",
       "      <td>Explanation\\nWhy the edits made under my usern...</td>\n",
       "      <td>0</td>\n",
       "    </tr>\n",
       "    <tr>\n",
       "      <th>1</th>\n",
       "      <td>1</td>\n",
       "      <td>D'aww! He matches this background colour I'm s...</td>\n",
       "      <td>0</td>\n",
       "    </tr>\n",
       "    <tr>\n",
       "      <th>2</th>\n",
       "      <td>2</td>\n",
       "      <td>Hey man, I'm really not trying to edit war. It...</td>\n",
       "      <td>0</td>\n",
       "    </tr>\n",
       "    <tr>\n",
       "      <th>3</th>\n",
       "      <td>3</td>\n",
       "      <td>\"\\nMore\\nI can't make any real suggestions on ...</td>\n",
       "      <td>0</td>\n",
       "    </tr>\n",
       "    <tr>\n",
       "      <th>4</th>\n",
       "      <td>4</td>\n",
       "      <td>You, sir, are my hero. Any chance you remember...</td>\n",
       "      <td>0</td>\n",
       "    </tr>\n",
       "  </tbody>\n",
       "</table>\n",
       "</div>"
      ],
      "text/plain": [
       "   Unnamed: 0                                               text  toxic\n",
       "0           0  Explanation\\nWhy the edits made under my usern...      0\n",
       "1           1  D'aww! He matches this background colour I'm s...      0\n",
       "2           2  Hey man, I'm really not trying to edit war. It...      0\n",
       "3           3  \"\\nMore\\nI can't make any real suggestions on ...      0\n",
       "4           4  You, sir, are my hero. Any chance you remember...      0"
      ]
     },
     "execution_count": 15,
     "metadata": {},
     "output_type": "execute_result"
    }
   ],
   "source": [
    "data.head()"
   ]
  },
  {
   "cell_type": "code",
   "execution_count": 16,
   "metadata": {},
   "outputs": [
    {
     "name": "stdout",
     "output_type": "stream",
     "text": [
      "<class 'pandas.core.frame.DataFrame'>\n",
      "RangeIndex: 159292 entries, 0 to 159291\n",
      "Data columns (total 3 columns):\n",
      " #   Column      Non-Null Count   Dtype \n",
      "---  ------      --------------   ----- \n",
      " 0   Unnamed: 0  159292 non-null  int64 \n",
      " 1   text        159292 non-null  object\n",
      " 2   toxic       159292 non-null  int64 \n",
      "dtypes: int64(2), object(1)\n",
      "memory usage: 3.6+ MB\n"
     ]
    }
   ],
   "source": [
    "data.info()"
   ]
  },
  {
   "cell_type": "code",
   "execution_count": 17,
   "metadata": {},
   "outputs": [
    {
     "data": {
      "text/plain": [
       "0    143106\n",
       "1     16186\n",
       "Name: toxic, dtype: int64"
      ]
     },
     "execution_count": 17,
     "metadata": {},
     "output_type": "execute_result"
    }
   ],
   "source": [
    "data['toxic'].value_counts()"
   ]
  },
  {
   "cell_type": "code",
   "execution_count": 18,
   "metadata": {},
   "outputs": [],
   "source": [
    "data = data.drop(['Unnamed: 0'], axis=1)"
   ]
  },
  {
   "cell_type": "code",
   "execution_count": 19,
   "metadata": {},
   "outputs": [],
   "source": [
    "data = data.reset_index()"
   ]
  },
  {
   "cell_type": "markdown",
   "metadata": {},
   "source": [
    "Изначально у нас было 3 столбца: Unnamed: 0, text, toxic. 1 убрали, так как он не имел никакого смысла и дублировал индексы. \n",
    "<br/>Второй столбец содержит строи с текстам, которые по итогу будут признаками в моделях. \n",
    "<br/>3 столбец - целевой признак: значение \"1\" текст токсичный, \"0\" - нет. "
   ]
  },
  {
   "cell_type": "markdown",
   "metadata": {},
   "source": [
    "Очистим текст от неожиданных символов, учитывая регистр, и лемматизизуем его."
   ]
  },
  {
   "cell_type": "code",
   "execution_count": 20,
   "metadata": {},
   "outputs": [],
   "source": [
    "def clear_text(text):\n",
    "    text = re.sub(r'[^a-zA-Z]', ' ', text.lower())\n",
    "    return ' '.join(text.split())"
   ]
  },
  {
   "cell_type": "code",
   "execution_count": 21,
   "metadata": {},
   "outputs": [],
   "source": [
    "def get_wordnet_pos(word):\n",
    "    \"\"\"Map POS tag to first character lemmatize() accepts\"\"\"\n",
    "    tag = nltk.pos_tag([word])[0][1][0].upper()\n",
    "    tag_dict = {\"J\": wordnet.ADJ,\n",
    "                \"N\": wordnet.NOUN,\n",
    "                \"V\": wordnet.VERB,\n",
    "                \"R\": wordnet.ADV}\n",
    "    return tag_dict.get(tag, wordnet.NOUN)"
   ]
  },
  {
   "cell_type": "code",
   "execution_count": 22,
   "metadata": {},
   "outputs": [],
   "source": [
    "def wnl_lemmatize(text):\n",
    "    wnl = WordNetLemmatizer()\n",
    "    s = []\n",
    "    for word in text.split():\n",
    "        s.append(wnl.lemmatize(word, get_wordnet_pos(word)))\n",
    "    return ' '.join(s)"
   ]
  },
  {
   "cell_type": "code",
   "execution_count": 23,
   "metadata": {
    "scrolled": true
   },
   "outputs": [
    {
     "data": {
      "application/vnd.jupyter.widget-view+json": {
       "model_id": "985289ac513a460cab87c6152b3cabfc",
       "version_major": 2,
       "version_minor": 0
      },
      "text/plain": [
       "  0%|          | 0/159292 [00:00<?, ?it/s]"
      ]
     },
     "metadata": {},
     "output_type": "display_data"
    }
   ],
   "source": [
    "notebook.tqdm.pandas()\n",
    "data['clear'] = data.text.progress_apply(clear_text)"
   ]
  },
  {
   "cell_type": "code",
   "execution_count": 24,
   "metadata": {},
   "outputs": [
    {
     "data": {
      "application/vnd.jupyter.widget-view+json": {
       "model_id": "da0070951f3b4aa3b6d7240ff2b6f9a2",
       "version_major": 2,
       "version_minor": 0
      },
      "text/plain": [
       "  0%|          | 0/159292 [00:00<?, ?it/s]"
      ]
     },
     "metadata": {},
     "output_type": "display_data"
    }
   ],
   "source": [
    "notebook.tqdm.pandas()\n",
    "data['lem_text'] = data.clear.progress_apply(wnl_lemmatize)"
   ]
  },
  {
   "cell_type": "code",
   "execution_count": 25,
   "metadata": {},
   "outputs": [],
   "source": [
    "data = data.drop(['index', 'clear', 'text'], axis=1)"
   ]
  },
  {
   "cell_type": "code",
   "execution_count": 26,
   "metadata": {},
   "outputs": [
    {
     "data": {
      "text/html": [
       "<div>\n",
       "<style scoped>\n",
       "    .dataframe tbody tr th:only-of-type {\n",
       "        vertical-align: middle;\n",
       "    }\n",
       "\n",
       "    .dataframe tbody tr th {\n",
       "        vertical-align: top;\n",
       "    }\n",
       "\n",
       "    .dataframe thead th {\n",
       "        text-align: right;\n",
       "    }\n",
       "</style>\n",
       "<table border=\"1\" class=\"dataframe\">\n",
       "  <thead>\n",
       "    <tr style=\"text-align: right;\">\n",
       "      <th></th>\n",
       "      <th>toxic</th>\n",
       "      <th>lem_text</th>\n",
       "    </tr>\n",
       "  </thead>\n",
       "  <tbody>\n",
       "    <tr>\n",
       "      <th>0</th>\n",
       "      <td>0</td>\n",
       "      <td>explanation why the edits make under my userna...</td>\n",
       "    </tr>\n",
       "    <tr>\n",
       "      <th>1</th>\n",
       "      <td>0</td>\n",
       "      <td>d aww he match this background colour i m seem...</td>\n",
       "    </tr>\n",
       "    <tr>\n",
       "      <th>2</th>\n",
       "      <td>0</td>\n",
       "      <td>hey man i m really not try to edit war it s ju...</td>\n",
       "    </tr>\n",
       "    <tr>\n",
       "      <th>3</th>\n",
       "      <td>0</td>\n",
       "      <td>more i can t make any real suggestion on impro...</td>\n",
       "    </tr>\n",
       "    <tr>\n",
       "      <th>4</th>\n",
       "      <td>0</td>\n",
       "      <td>you sir be my hero any chance you remember wha...</td>\n",
       "    </tr>\n",
       "    <tr>\n",
       "      <th>5</th>\n",
       "      <td>0</td>\n",
       "      <td>congratulation from me a well use the tool wel...</td>\n",
       "    </tr>\n",
       "    <tr>\n",
       "      <th>6</th>\n",
       "      <td>1</td>\n",
       "      <td>cocksucker before you piss around on my work</td>\n",
       "    </tr>\n",
       "    <tr>\n",
       "      <th>7</th>\n",
       "      <td>0</td>\n",
       "      <td>your vandalism to the matt shirvington article...</td>\n",
       "    </tr>\n",
       "    <tr>\n",
       "      <th>8</th>\n",
       "      <td>0</td>\n",
       "      <td>sorry if the word nonsense be offensive to you...</td>\n",
       "    </tr>\n",
       "    <tr>\n",
       "      <th>9</th>\n",
       "      <td>0</td>\n",
       "      <td>alignment on this subject and which be contrar...</td>\n",
       "    </tr>\n",
       "    <tr>\n",
       "      <th>10</th>\n",
       "      <td>0</td>\n",
       "      <td>fair use rationale for image wonju jpg thanks ...</td>\n",
       "    </tr>\n",
       "    <tr>\n",
       "      <th>11</th>\n",
       "      <td>0</td>\n",
       "      <td>bbq be a man and let discus it maybe over the ...</td>\n",
       "    </tr>\n",
       "    <tr>\n",
       "      <th>12</th>\n",
       "      <td>1</td>\n",
       "      <td>hey what be it talk what be it an exclusive gr...</td>\n",
       "    </tr>\n",
       "    <tr>\n",
       "      <th>13</th>\n",
       "      <td>0</td>\n",
       "      <td>before you start throw accusation and warning ...</td>\n",
       "    </tr>\n",
       "    <tr>\n",
       "      <th>14</th>\n",
       "      <td>0</td>\n",
       "      <td>oh and the girl above start her argument with ...</td>\n",
       "    </tr>\n",
       "    <tr>\n",
       "      <th>15</th>\n",
       "      <td>0</td>\n",
       "      <td>juelz santanas age in juelz santana be year ol...</td>\n",
       "    </tr>\n",
       "    <tr>\n",
       "      <th>16</th>\n",
       "      <td>1</td>\n",
       "      <td>bye don t look come or think of comming back t...</td>\n",
       "    </tr>\n",
       "    <tr>\n",
       "      <th>17</th>\n",
       "      <td>0</td>\n",
       "      <td>redirect talk voydan pop georgiev chernodrinski</td>\n",
       "    </tr>\n",
       "    <tr>\n",
       "      <th>18</th>\n",
       "      <td>0</td>\n",
       "      <td>the mitsurugi point make no sense why not argu...</td>\n",
       "    </tr>\n",
       "    <tr>\n",
       "      <th>19</th>\n",
       "      <td>0</td>\n",
       "      <td>don t mean to bother you i see that you re wri...</td>\n",
       "    </tr>\n",
       "  </tbody>\n",
       "</table>\n",
       "</div>"
      ],
      "text/plain": [
       "    toxic                                           lem_text\n",
       "0       0  explanation why the edits make under my userna...\n",
       "1       0  d aww he match this background colour i m seem...\n",
       "2       0  hey man i m really not try to edit war it s ju...\n",
       "3       0  more i can t make any real suggestion on impro...\n",
       "4       0  you sir be my hero any chance you remember wha...\n",
       "5       0  congratulation from me a well use the tool wel...\n",
       "6       1       cocksucker before you piss around on my work\n",
       "7       0  your vandalism to the matt shirvington article...\n",
       "8       0  sorry if the word nonsense be offensive to you...\n",
       "9       0  alignment on this subject and which be contrar...\n",
       "10      0  fair use rationale for image wonju jpg thanks ...\n",
       "11      0  bbq be a man and let discus it maybe over the ...\n",
       "12      1  hey what be it talk what be it an exclusive gr...\n",
       "13      0  before you start throw accusation and warning ...\n",
       "14      0  oh and the girl above start her argument with ...\n",
       "15      0  juelz santanas age in juelz santana be year ol...\n",
       "16      1  bye don t look come or think of comming back t...\n",
       "17      0    redirect talk voydan pop georgiev chernodrinski\n",
       "18      0  the mitsurugi point make no sense why not argu...\n",
       "19      0  don t mean to bother you i see that you re wri..."
      ]
     },
     "execution_count": 26,
     "metadata": {},
     "output_type": "execute_result"
    }
   ],
   "source": [
    "data.head(20)"
   ]
  },
  {
   "cell_type": "markdown",
   "metadata": {},
   "source": [
    "Наш датасет готов к подаче в модели, отсалось его разделить на тренировочную и тестовую выборки, выделить целевой признак и и векторизировать признаки."
   ]
  },
  {
   "cell_type": "markdown",
   "metadata": {},
   "source": [
    "## Обучение"
   ]
  },
  {
   "cell_type": "markdown",
   "metadata": {},
   "source": [
    "### Подготовим данные к подаче в модели"
   ]
  },
  {
   "cell_type": "code",
   "execution_count": 33,
   "metadata": {},
   "outputs": [],
   "source": [
    "features = data.drop(columns=['toxic'])\n",
    "target = data['toxic']\n",
    "features_train, features_test, target_train, target_test = train_test_split(features, \n",
    "                                                                            target, \n",
    "                                                                            shuffle=True, \n",
    "                                                                            test_size=0.2, random_state=12345)"
   ]
  },
  {
   "cell_type": "code",
   "execution_count": 34,
   "metadata": {
    "scrolled": true
   },
   "outputs": [
    {
     "data": {
      "text/plain": [
       "(127433, 1)"
      ]
     },
     "execution_count": 34,
     "metadata": {},
     "output_type": "execute_result"
    }
   ],
   "source": [
    "features_train.shape"
   ]
  },
  {
   "cell_type": "code",
   "execution_count": 35,
   "metadata": {
    "scrolled": true
   },
   "outputs": [
    {
     "data": {
      "text/plain": [
       "(31859, 1)"
      ]
     },
     "execution_count": 35,
     "metadata": {},
     "output_type": "execute_result"
    }
   ],
   "source": [
    "features_test.shape"
   ]
  },
  {
   "cell_type": "markdown",
   "metadata": {},
   "source": [
    "Векторизируем признаки тренировчной и тестовой выборки отдельно друг от друга, учитывая стоп-слова."
   ]
  },
  {
   "cell_type": "code",
   "execution_count": 36,
   "metadata": {
    "scrolled": true
   },
   "outputs": [
    {
     "name": "stderr",
     "output_type": "stream",
     "text": [
      "[nltk_data] Downloading package stopwords to /home/jovyan/nltk_data...\n",
      "[nltk_data]   Package stopwords is already up-to-date!\n"
     ]
    },
    {
     "name": "stdout",
     "output_type": "stream",
     "text": [
      "(127433, 132173)\n",
      "(31859, 132173)\n"
     ]
    }
   ],
   "source": [
    "corpus = features_train['lem_text'].values\n",
    "corpus_test = features_test['lem_text'].values\n",
    "\n",
    "nltk.download('stopwords')\n",
    "stopwords = set(nltk_stopwords.words('english'))\n",
    "\n",
    "vectorizer = TfidfVectorizer(stop_words=stopwords) \n",
    "features_train = vectorizer.fit_transform(corpus)\n",
    "features_test = vectorizer.transform(corpus_test)\n",
    "\n",
    "print(features_train.shape)\n",
    "print(features_test.shape)"
   ]
  },
  {
   "cell_type": "markdown",
   "metadata": {},
   "source": [
    "### Обучим 3 модели"
   ]
  },
  {
   "cell_type": "code",
   "execution_count": 37,
   "metadata": {
    "scrolled": false
   },
   "outputs": [
    {
     "name": "stdout",
     "output_type": "stream",
     "text": [
      "CPU times: user 2 µs, sys: 0 ns, total: 2 µs\n",
      "Wall time: 5.48 µs\n",
      "{'C': 8.6}\n",
      "0.753450313643088\n"
     ]
    }
   ],
   "source": [
    "%time\n",
    "model = LogisticRegression(random_state=12345, class_weight='balanced')\n",
    "parameters = [{'C': [8.7, 8.8, 8.6]}]\n",
    "\n",
    "model_grs = GridSearchCV(model, param_grid=parameters, scoring='f1', n_jobs=-1, \n",
    "                   cv=3, verbose=False)\n",
    "model_grs.fit(features_train, target_train)\n",
    "print(model_grs.best_params_)\n",
    "print(model_grs.best_score_)"
   ]
  },
  {
   "cell_type": "code",
   "execution_count": 38,
   "metadata": {},
   "outputs": [
    {
     "name": "stdout",
     "output_type": "stream",
     "text": [
      "0.5061020743396659\n",
      "DecisionTreeClassifier(max_depth=4, random_state=12345)\n",
      "CPU times: user 1min 12s, sys: 518 ms, total: 1min 12s\n",
      "Wall time: 1min 12s\n"
     ]
    }
   ],
   "source": [
    "%%time\n",
    "tree = DecisionTreeClassifier(random_state=12345)\n",
    "\n",
    "param_grid_tree = [{'max_depth': range (1, 5)}]\n",
    "\n",
    "grid_tree = GridSearchCV(tree, \n",
    "                         param_grid_tree, \n",
    "                         scoring = 'f1', \n",
    "                         cv=3, \n",
    "                         n_jobs = -1)\n",
    "\n",
    "grid_tree.fit(features_train,target_train)\n",
    "print(grid_tree.best_score_)\n",
    "print(grid_tree.best_estimator_)"
   ]
  },
  {
   "cell_type": "code",
   "execution_count": 39,
   "metadata": {},
   "outputs": [
    {
     "name": "stdout",
     "output_type": "stream",
     "text": [
      "CPU times: user 2 µs, sys: 0 ns, total: 2 µs\n",
      "Wall time: 5.25 µs\n",
      "{'C': 0.5}\n",
      "0.7577258728041812\n"
     ]
    }
   ],
   "source": [
    "#методом опорных векторов\n",
    "%time\n",
    "model_LSVC = LinearSVC()\n",
    "\n",
    "parameters = [{'C': [0.5, 0.4, 0.3]}]\n",
    "\n",
    "\n",
    "LSVC_model_gscv = GridSearchCV(model_LSVC, param_grid=parameters, scoring='f1', n_jobs=-1, \n",
    "                   cv=3, verbose=False)\n",
    "\n",
    "LSVC_model_gscv.fit(features_train, target_train)\n",
    "\n",
    "print(LSVC_model_gscv.best_params_)\n",
    "print(LSVC_model_gscv.best_score_)"
   ]
  },
  {
   "cell_type": "markdown",
   "metadata": {},
   "source": [
    "Наилучший результат показал метод опорных векторов. Проверим данную модель на тестовой выборке"
   ]
  },
  {
   "cell_type": "code",
   "execution_count": 40,
   "metadata": {},
   "outputs": [
    {
     "data": {
      "text/plain": [
       "0.7802390998593529"
      ]
     },
     "execution_count": 40,
     "metadata": {},
     "output_type": "execute_result"
    }
   ],
   "source": [
    "preds_test = LSVC_model_gscv.predict(features_test)\n",
    "f1_score(target_test, preds_test)"
   ]
  },
  {
   "cell_type": "markdown",
   "metadata": {},
   "source": [
    "## Выводы"
   ]
  },
  {
   "cell_type": "markdown",
   "metadata": {},
   "source": [
    "- на первом этапе работы текст были лемматизированы и очищенны от неожиданных знаков, был учтен регистр сообщений (все символы приведены к нижнему)\n",
    "- данные разделены на тестовую и тренировчную выборки, выделен целевой признак. Данные были векторизированы после разбиения на подвыборки в целях недопущения утечки \n",
    "- было обучено т=3 модели, две из которых на тренировочной выборке уже показали результат, превышающий целевой показатель F1-score равный 0,75\n",
    "- наилучшая модель была проверена на тестовой выборке и показала результат 0,7802"
   ]
  }
 ],
 "metadata": {
  "ExecuteTimeLog": [
   {
    "duration": 419,
    "start_time": "2023-06-28T08:23:38.455Z"
   },
   {
    "duration": 2513,
    "start_time": "2023-06-28T08:23:41.601Z"
   },
   {
    "duration": 15,
    "start_time": "2023-06-28T08:23:51.741Z"
   },
   {
    "duration": 14,
    "start_time": "2023-06-28T08:24:08.053Z"
   },
   {
    "duration": 7,
    "start_time": "2023-06-28T08:24:15.480Z"
   },
   {
    "duration": 37,
    "start_time": "2023-06-28T08:24:22.314Z"
   },
   {
    "duration": 70,
    "start_time": "2023-06-28T08:25:08.010Z"
   },
   {
    "duration": 7,
    "start_time": "2023-06-28T08:25:21.814Z"
   },
   {
    "duration": 16,
    "start_time": "2023-06-28T08:28:18.288Z"
   },
   {
    "duration": 12,
    "start_time": "2023-06-28T08:28:21.650Z"
   },
   {
    "duration": 10,
    "start_time": "2023-06-28T08:28:42.027Z"
   },
   {
    "duration": 12,
    "start_time": "2023-06-28T08:28:46.014Z"
   },
   {
    "duration": 5,
    "start_time": "2023-06-28T08:57:44.017Z"
   },
   {
    "duration": 3,
    "start_time": "2023-06-28T08:57:46.212Z"
   },
   {
    "duration": 9,
    "start_time": "2023-06-28T08:58:21.715Z"
   },
   {
    "duration": 4290,
    "start_time": "2023-06-28T08:58:34.536Z"
   },
   {
    "duration": 9,
    "start_time": "2023-06-28T08:58:45.221Z"
   },
   {
    "duration": 4057,
    "start_time": "2023-06-28T09:01:21.721Z"
   },
   {
    "duration": 9,
    "start_time": "2023-06-28T09:01:28.821Z"
   },
   {
    "duration": 3,
    "start_time": "2023-06-28T09:01:34.149Z"
   },
   {
    "duration": 882,
    "start_time": "2023-06-28T09:01:34.804Z"
   },
   {
    "duration": 8,
    "start_time": "2023-06-28T09:01:35.688Z"
   },
   {
    "duration": 9,
    "start_time": "2023-06-28T09:01:35.698Z"
   },
   {
    "duration": 14,
    "start_time": "2023-06-28T09:01:35.709Z"
   },
   {
    "duration": 14,
    "start_time": "2023-06-28T09:01:35.833Z"
   },
   {
    "duration": 4,
    "start_time": "2023-06-28T09:01:36.443Z"
   },
   {
    "duration": 4245,
    "start_time": "2023-06-28T09:01:37.407Z"
   },
   {
    "duration": 7,
    "start_time": "2023-06-28T09:01:41.654Z"
   },
   {
    "duration": 473,
    "start_time": "2023-06-28T09:11:39.750Z"
   },
   {
    "duration": 1080,
    "start_time": "2023-06-28T09:11:40.225Z"
   },
   {
    "duration": 16,
    "start_time": "2023-06-28T09:11:41.307Z"
   },
   {
    "duration": 19,
    "start_time": "2023-06-28T09:11:41.352Z"
   },
   {
    "duration": 21,
    "start_time": "2023-06-28T09:11:41.374Z"
   },
   {
    "duration": 31,
    "start_time": "2023-06-28T09:11:41.397Z"
   },
   {
    "duration": 6,
    "start_time": "2023-06-28T09:11:41.431Z"
   },
   {
    "duration": 4929,
    "start_time": "2023-06-28T09:11:41.438Z"
   },
   {
    "duration": 8,
    "start_time": "2023-06-28T09:14:33.447Z"
   },
   {
    "duration": 16,
    "start_time": "2023-06-28T09:15:00.439Z"
   },
   {
    "duration": 65,
    "start_time": "2023-06-28T09:18:58.852Z"
   },
   {
    "duration": 1048,
    "start_time": "2023-06-28T09:19:02.754Z"
   },
   {
    "duration": 247,
    "start_time": "2023-06-28T09:20:30.390Z"
   },
   {
    "duration": 1312,
    "start_time": "2023-06-28T09:22:13.293Z"
   },
   {
    "duration": 911,
    "start_time": "2023-06-28T09:22:14.607Z"
   },
   {
    "duration": 15,
    "start_time": "2023-06-28T09:22:15.520Z"
   },
   {
    "duration": 16,
    "start_time": "2023-06-28T09:22:15.537Z"
   },
   {
    "duration": 31,
    "start_time": "2023-06-28T09:22:15.556Z"
   },
   {
    "duration": 15,
    "start_time": "2023-06-28T09:22:15.589Z"
   },
   {
    "duration": 1921,
    "start_time": "2023-06-28T09:22:15.606Z"
   },
   {
    "duration": 7,
    "start_time": "2023-06-28T09:22:17.529Z"
   },
   {
    "duration": 4004,
    "start_time": "2023-06-28T09:22:17.538Z"
   },
   {
    "duration": 23,
    "start_time": "2023-06-28T09:22:21.544Z"
   },
   {
    "duration": 221,
    "start_time": "2023-06-28T09:22:21.570Z"
   },
   {
    "duration": 1381,
    "start_time": "2023-06-28T09:23:48.531Z"
   },
   {
    "duration": 928,
    "start_time": "2023-06-28T09:23:49.914Z"
   },
   {
    "duration": 19,
    "start_time": "2023-06-28T09:23:50.844Z"
   },
   {
    "duration": 19,
    "start_time": "2023-06-28T09:23:50.864Z"
   },
   {
    "duration": 19,
    "start_time": "2023-06-28T09:23:50.886Z"
   },
   {
    "duration": 23,
    "start_time": "2023-06-28T09:23:50.907Z"
   },
   {
    "duration": 4,
    "start_time": "2023-06-28T09:23:50.932Z"
   },
   {
    "duration": 3985,
    "start_time": "2023-06-28T09:23:50.938Z"
   },
   {
    "duration": 1972,
    "start_time": "2023-06-28T09:23:54.925Z"
   },
   {
    "duration": 39,
    "start_time": "2023-06-28T09:23:56.899Z"
   },
   {
    "duration": 188,
    "start_time": "2023-06-28T09:23:56.940Z"
   },
   {
    "duration": 124,
    "start_time": "2023-06-28T09:23:57.129Z"
   },
   {
    "duration": 1232,
    "start_time": "2023-06-30T10:57:20.758Z"
   },
   {
    "duration": 2242,
    "start_time": "2023-06-30T10:57:24.719Z"
   },
   {
    "duration": 13,
    "start_time": "2023-06-30T10:57:26.962Z"
   },
   {
    "duration": 5,
    "start_time": "2023-06-30T10:57:26.977Z"
   },
   {
    "duration": 18,
    "start_time": "2023-06-30T10:57:26.984Z"
   },
   {
    "duration": 10,
    "start_time": "2023-06-30T10:57:35.207Z"
   },
   {
    "duration": 3,
    "start_time": "2023-06-30T10:57:35.899Z"
   },
   {
    "duration": 3630,
    "start_time": "2023-06-30T10:57:36.543Z"
   },
   {
    "duration": 258625,
    "start_time": "2023-06-30T10:57:59.999Z"
   },
   {
    "duration": 12,
    "start_time": "2023-06-30T11:02:27.100Z"
   },
   {
    "duration": 1304,
    "start_time": "2023-06-30T11:05:19.599Z"
   },
   {
    "duration": 884,
    "start_time": "2023-06-30T11:05:20.905Z"
   },
   {
    "duration": 17,
    "start_time": "2023-06-30T11:05:21.790Z"
   },
   {
    "duration": 27,
    "start_time": "2023-06-30T11:05:21.809Z"
   },
   {
    "duration": 21,
    "start_time": "2023-06-30T11:05:21.838Z"
   },
   {
    "duration": 14,
    "start_time": "2023-06-30T11:05:21.860Z"
   },
   {
    "duration": 17,
    "start_time": "2023-06-30T11:05:21.876Z"
   },
   {
    "duration": 3735,
    "start_time": "2023-06-30T11:05:21.895Z"
   },
   {
    "duration": 13,
    "start_time": "2023-06-30T11:05:25.632Z"
   },
   {
    "duration": 144,
    "start_time": "2023-06-30T11:05:25.647Z"
   },
   {
    "duration": 421,
    "start_time": "2023-06-30T11:05:25.792Z"
   },
   {
    "duration": 3,
    "start_time": "2023-06-30T11:05:52.072Z"
   },
   {
    "duration": 818,
    "start_time": "2023-06-30T11:05:52.741Z"
   },
   {
    "duration": 7,
    "start_time": "2023-06-30T11:05:53.561Z"
   },
   {
    "duration": 15,
    "start_time": "2023-06-30T11:05:53.569Z"
   },
   {
    "duration": 19,
    "start_time": "2023-06-30T11:05:53.586Z"
   },
   {
    "duration": 9,
    "start_time": "2023-06-30T11:05:53.733Z"
   },
   {
    "duration": 3,
    "start_time": "2023-06-30T11:05:54.161Z"
   },
   {
    "duration": 3775,
    "start_time": "2023-06-30T11:05:54.390Z"
   },
   {
    "duration": 15,
    "start_time": "2023-06-30T11:05:58.167Z"
   },
   {
    "duration": 15,
    "start_time": "2023-06-30T11:05:58.184Z"
   },
   {
    "duration": 443,
    "start_time": "2023-06-30T11:05:58.201Z"
   },
   {
    "duration": 3,
    "start_time": "2023-06-30T11:07:00.514Z"
   },
   {
    "duration": 853,
    "start_time": "2023-06-30T11:07:02.429Z"
   },
   {
    "duration": 7,
    "start_time": "2023-06-30T11:07:03.284Z"
   },
   {
    "duration": 6,
    "start_time": "2023-06-30T11:07:03.300Z"
   },
   {
    "duration": 38,
    "start_time": "2023-06-30T11:07:03.308Z"
   },
   {
    "duration": 9,
    "start_time": "2023-06-30T11:07:03.414Z"
   },
   {
    "duration": 4,
    "start_time": "2023-06-30T11:07:03.626Z"
   },
   {
    "duration": 3811,
    "start_time": "2023-06-30T11:07:04.999Z"
   },
   {
    "duration": 16,
    "start_time": "2023-06-30T11:07:08.813Z"
   },
   {
    "duration": 4,
    "start_time": "2023-06-30T11:07:08.831Z"
   },
   {
    "duration": 35119,
    "start_time": "2023-06-30T11:07:08.837Z"
   },
   {
    "duration": 8,
    "start_time": "2023-06-30T11:07:56.505Z"
   },
   {
    "duration": 3,
    "start_time": "2023-06-30T11:12:38.567Z"
   },
   {
    "duration": 9,
    "start_time": "2023-06-30T11:12:42.002Z"
   },
   {
    "duration": 23,
    "start_time": "2023-06-30T11:12:53.241Z"
   },
   {
    "duration": 8,
    "start_time": "2023-06-30T11:15:44.913Z"
   },
   {
    "duration": 4,
    "start_time": "2023-06-30T11:15:53.003Z"
   },
   {
    "duration": 3,
    "start_time": "2023-06-30T11:16:02.771Z"
   },
   {
    "duration": 4,
    "start_time": "2023-06-30T11:16:12.124Z"
   },
   {
    "duration": 1342,
    "start_time": "2023-06-30T11:29:11.983Z"
   },
   {
    "duration": 901,
    "start_time": "2023-06-30T11:29:13.327Z"
   },
   {
    "duration": 13,
    "start_time": "2023-06-30T11:29:14.230Z"
   },
   {
    "duration": 6,
    "start_time": "2023-06-30T11:29:14.244Z"
   },
   {
    "duration": 8,
    "start_time": "2023-06-30T11:29:14.252Z"
   },
   {
    "duration": 15,
    "start_time": "2023-06-30T11:29:14.262Z"
   },
   {
    "duration": 28,
    "start_time": "2023-06-30T11:29:14.278Z"
   },
   {
    "duration": 4597,
    "start_time": "2023-06-30T11:29:14.308Z"
   },
   {
    "duration": 36323,
    "start_time": "2023-06-30T11:29:18.906Z"
   },
   {
    "duration": 78,
    "start_time": "2023-06-30T11:29:55.231Z"
   },
   {
    "duration": 11,
    "start_time": "2023-06-30T11:29:55.311Z"
   },
   {
    "duration": 73,
    "start_time": "2023-06-30T11:29:55.324Z"
   },
   {
    "duration": 28,
    "start_time": "2023-06-30T11:29:55.398Z"
   },
   {
    "duration": 21,
    "start_time": "2023-06-30T11:29:55.428Z"
   },
   {
    "duration": 1382,
    "start_time": "2023-06-30T11:29:55.451Z"
   },
   {
    "duration": 0,
    "start_time": "2023-06-30T11:29:56.835Z"
   },
   {
    "duration": 14,
    "start_time": "2023-06-30T11:30:26.711Z"
   },
   {
    "duration": 1292,
    "start_time": "2023-06-30T11:30:39.253Z"
   },
   {
    "duration": 897,
    "start_time": "2023-06-30T11:30:40.547Z"
   },
   {
    "duration": 12,
    "start_time": "2023-06-30T11:30:41.446Z"
   },
   {
    "duration": 7,
    "start_time": "2023-06-30T11:30:41.460Z"
   },
   {
    "duration": 20,
    "start_time": "2023-06-30T11:30:41.468Z"
   },
   {
    "duration": 33,
    "start_time": "2023-06-30T11:30:41.490Z"
   },
   {
    "duration": 5,
    "start_time": "2023-06-30T11:30:41.525Z"
   },
   {
    "duration": 4675,
    "start_time": "2023-06-30T11:30:41.531Z"
   },
   {
    "duration": 36443,
    "start_time": "2023-06-30T11:30:46.207Z"
   },
   {
    "duration": 76,
    "start_time": "2023-06-30T11:31:22.652Z"
   },
   {
    "duration": 7,
    "start_time": "2023-06-30T11:31:22.730Z"
   },
   {
    "duration": 27,
    "start_time": "2023-06-30T11:31:22.739Z"
   },
   {
    "duration": 4,
    "start_time": "2023-06-30T11:31:22.768Z"
   },
   {
    "duration": 9,
    "start_time": "2023-06-30T11:31:22.809Z"
   },
   {
    "duration": 1379,
    "start_time": "2023-06-30T11:31:22.819Z"
   },
   {
    "duration": 0,
    "start_time": "2023-06-30T11:31:24.206Z"
   },
   {
    "duration": 9652,
    "start_time": "2023-06-30T11:43:23.236Z"
   },
   {
    "duration": 326,
    "start_time": "2023-06-30T11:43:37.140Z"
   },
   {
    "duration": 3,
    "start_time": "2023-06-30T11:44:09.936Z"
   },
   {
    "duration": 8840,
    "start_time": "2023-06-30T11:44:15.026Z"
   },
   {
    "duration": 9857,
    "start_time": "2023-06-30T11:48:48.958Z"
   },
   {
    "duration": 1913,
    "start_time": "2023-06-30T11:51:23.505Z"
   },
   {
    "duration": 2562,
    "start_time": "2023-06-30T11:51:25.420Z"
   },
   {
    "duration": 12,
    "start_time": "2023-06-30T11:51:27.984Z"
   },
   {
    "duration": 31,
    "start_time": "2023-06-30T11:51:27.998Z"
   },
   {
    "duration": 16,
    "start_time": "2023-06-30T11:51:28.031Z"
   },
   {
    "duration": 15,
    "start_time": "2023-06-30T11:51:28.048Z"
   },
   {
    "duration": 10,
    "start_time": "2023-06-30T11:51:28.064Z"
   },
   {
    "duration": 4951,
    "start_time": "2023-06-30T11:51:28.075Z"
   },
   {
    "duration": 40622,
    "start_time": "2023-06-30T11:51:33.028Z"
   },
   {
    "duration": 86,
    "start_time": "2023-06-30T11:52:13.651Z"
   },
   {
    "duration": 9,
    "start_time": "2023-06-30T11:52:13.738Z"
   },
   {
    "duration": 38,
    "start_time": "2023-06-30T11:52:13.748Z"
   },
   {
    "duration": 8,
    "start_time": "2023-06-30T11:52:13.800Z"
   },
   {
    "duration": 21,
    "start_time": "2023-06-30T11:52:13.811Z"
   },
   {
    "duration": 1630,
    "start_time": "2023-06-30T11:52:13.834Z"
   },
   {
    "duration": 8041,
    "start_time": "2023-06-30T11:52:15.466Z"
   },
   {
    "duration": 189,
    "start_time": "2023-06-30T11:52:23.509Z"
   },
   {
    "duration": 15,
    "start_time": "2023-06-30T11:52:34.152Z"
   },
   {
    "duration": 12,
    "start_time": "2023-06-30T11:52:41.565Z"
   },
   {
    "duration": 5,
    "start_time": "2023-06-30T11:53:00.321Z"
   },
   {
    "duration": 13,
    "start_time": "2023-06-30T11:53:09.456Z"
   },
   {
    "duration": 4,
    "start_time": "2023-06-30T11:54:25.425Z"
   },
   {
    "duration": 4,
    "start_time": "2023-06-30T11:54:28.608Z"
   },
   {
    "duration": 51115,
    "start_time": "2023-06-30T11:55:23.988Z"
   },
   {
    "duration": 2283,
    "start_time": "2023-06-30T11:56:15.106Z"
   },
   {
    "duration": 1985,
    "start_time": "2023-06-30T16:50:07.616Z"
   },
   {
    "duration": 3980,
    "start_time": "2023-06-30T16:50:09.604Z"
   },
   {
    "duration": 14,
    "start_time": "2023-06-30T16:50:13.586Z"
   },
   {
    "duration": 8,
    "start_time": "2023-06-30T16:50:13.601Z"
   },
   {
    "duration": 11,
    "start_time": "2023-06-30T16:50:13.611Z"
   },
   {
    "duration": 16,
    "start_time": "2023-06-30T16:50:13.623Z"
   },
   {
    "duration": 5,
    "start_time": "2023-06-30T16:50:13.640Z"
   },
   {
    "duration": 4805,
    "start_time": "2023-06-30T16:50:14.495Z"
   },
   {
    "duration": 36637,
    "start_time": "2023-06-30T16:50:19.302Z"
   },
   {
    "duration": 94,
    "start_time": "2023-06-30T16:50:55.941Z"
   },
   {
    "duration": 22,
    "start_time": "2023-06-30T16:50:56.037Z"
   },
   {
    "duration": 46,
    "start_time": "2023-06-30T16:50:56.061Z"
   },
   {
    "duration": 4,
    "start_time": "2023-06-30T16:50:56.109Z"
   },
   {
    "duration": 7,
    "start_time": "2023-06-30T16:50:56.115Z"
   },
   {
    "duration": 3,
    "start_time": "2023-06-30T16:52:34.808Z"
   },
   {
    "duration": 822,
    "start_time": "2023-06-30T16:52:35.382Z"
   },
   {
    "duration": 8,
    "start_time": "2023-06-30T16:52:36.206Z"
   },
   {
    "duration": 17,
    "start_time": "2023-06-30T16:52:36.216Z"
   },
   {
    "duration": 17,
    "start_time": "2023-06-30T16:52:36.263Z"
   },
   {
    "duration": 17,
    "start_time": "2023-06-30T16:52:37.163Z"
   },
   {
    "duration": 5,
    "start_time": "2023-06-30T16:52:37.948Z"
   },
   {
    "duration": 614,
    "start_time": "2023-06-30T16:52:38.491Z"
   },
   {
    "duration": 0,
    "start_time": "2023-06-30T16:52:39.107Z"
   },
   {
    "duration": 16,
    "start_time": "2023-06-30T16:52:39.392Z"
   },
   {
    "duration": 4,
    "start_time": "2023-06-30T16:53:02.234Z"
   },
   {
    "duration": 5055,
    "start_time": "2023-06-30T16:53:03.442Z"
   },
   {
    "duration": 35953,
    "start_time": "2023-06-30T16:53:08.499Z"
   },
   {
    "duration": 61,
    "start_time": "2023-06-30T16:53:44.454Z"
   },
   {
    "duration": 8,
    "start_time": "2023-06-30T16:53:44.517Z"
   },
   {
    "duration": 4,
    "start_time": "2023-06-30T17:35:33.637Z"
   },
   {
    "duration": 909,
    "start_time": "2023-06-30T17:35:34.595Z"
   },
   {
    "duration": 7,
    "start_time": "2023-06-30T17:35:35.506Z"
   },
   {
    "duration": 13,
    "start_time": "2023-06-30T17:35:35.514Z"
   },
   {
    "duration": 11,
    "start_time": "2023-06-30T17:35:35.653Z"
   },
   {
    "duration": 13,
    "start_time": "2023-06-30T17:35:35.823Z"
   },
   {
    "duration": 3,
    "start_time": "2023-06-30T17:35:36.407Z"
   },
   {
    "duration": 6091,
    "start_time": "2023-06-30T17:35:36.685Z"
   },
   {
    "duration": 40611,
    "start_time": "2023-06-30T17:35:42.779Z"
   },
   {
    "duration": 99,
    "start_time": "2023-06-30T17:36:23.392Z"
   },
   {
    "duration": 13,
    "start_time": "2023-06-30T17:36:23.493Z"
   },
   {
    "duration": 57,
    "start_time": "2023-06-30T17:37:08.093Z"
   },
   {
    "duration": 5,
    "start_time": "2023-06-30T17:37:19.242Z"
   },
   {
    "duration": 5,
    "start_time": "2023-06-30T17:37:20.089Z"
   },
   {
    "duration": 5860,
    "start_time": "2023-06-30T17:37:21.146Z"
   },
   {
    "duration": 4,
    "start_time": "2023-06-30T17:41:38.431Z"
   },
   {
    "duration": 774,
    "start_time": "2023-06-30T17:41:38.851Z"
   },
   {
    "duration": 8,
    "start_time": "2023-06-30T17:41:39.627Z"
   },
   {
    "duration": 7,
    "start_time": "2023-06-30T17:41:39.636Z"
   },
   {
    "duration": 12,
    "start_time": "2023-06-30T17:41:39.851Z"
   },
   {
    "duration": 10,
    "start_time": "2023-06-30T17:41:40.255Z"
   },
   {
    "duration": 3,
    "start_time": "2023-06-30T17:41:40.891Z"
   },
   {
    "duration": 4850,
    "start_time": "2023-06-30T17:41:41.740Z"
   },
   {
    "duration": 34015,
    "start_time": "2023-06-30T17:41:46.591Z"
   },
   {
    "duration": 84,
    "start_time": "2023-06-30T17:42:20.608Z"
   },
   {
    "duration": 8,
    "start_time": "2023-06-30T17:42:20.694Z"
   },
   {
    "duration": 45,
    "start_time": "2023-06-30T17:42:20.704Z"
   },
   {
    "duration": 18,
    "start_time": "2023-06-30T17:42:20.751Z"
   },
   {
    "duration": 26,
    "start_time": "2023-06-30T17:42:20.772Z"
   },
   {
    "duration": 6582,
    "start_time": "2023-06-30T17:42:20.800Z"
   },
   {
    "duration": 105,
    "start_time": "2023-06-30T17:51:37.670Z"
   },
   {
    "duration": 52405,
    "start_time": "2023-06-30T17:52:49.965Z"
   },
   {
    "duration": 1259,
    "start_time": "2023-06-30T18:03:48.628Z"
   },
   {
    "duration": 878,
    "start_time": "2023-06-30T18:03:49.890Z"
   },
   {
    "duration": 12,
    "start_time": "2023-06-30T18:03:50.770Z"
   },
   {
    "duration": 5,
    "start_time": "2023-06-30T18:03:50.784Z"
   },
   {
    "duration": 11,
    "start_time": "2023-06-30T18:03:50.791Z"
   },
   {
    "duration": 15,
    "start_time": "2023-06-30T18:03:50.804Z"
   },
   {
    "duration": 4,
    "start_time": "2023-06-30T18:03:50.821Z"
   },
   {
    "duration": 4846,
    "start_time": "2023-06-30T18:03:50.826Z"
   },
   {
    "duration": 36242,
    "start_time": "2023-06-30T18:03:55.674Z"
   },
   {
    "duration": 93,
    "start_time": "2023-06-30T18:04:31.918Z"
   },
   {
    "duration": 9,
    "start_time": "2023-06-30T18:04:32.013Z"
   },
   {
    "duration": 49,
    "start_time": "2023-06-30T18:04:32.023Z"
   },
   {
    "duration": 9,
    "start_time": "2023-06-30T18:04:32.073Z"
   },
   {
    "duration": 36,
    "start_time": "2023-06-30T18:04:32.085Z"
   },
   {
    "duration": 6786,
    "start_time": "2023-06-30T18:04:32.123Z"
   },
   {
    "duration": 498061,
    "start_time": "2023-06-30T18:04:38.911Z"
   },
   {
    "duration": 140,
    "start_time": "2023-06-30T18:14:30.195Z"
   },
   {
    "duration": 4,
    "start_time": "2023-06-30T18:15:11.726Z"
   },
   {
    "duration": 15,
    "start_time": "2023-06-30T18:15:56.995Z"
   },
   {
    "duration": 5,
    "start_time": "2023-06-30T18:16:58.996Z"
   },
   {
    "duration": 1485,
    "start_time": "2023-06-30T18:17:07.110Z"
   },
   {
    "duration": 1050,
    "start_time": "2023-06-30T18:17:08.598Z"
   },
   {
    "duration": 28,
    "start_time": "2023-06-30T18:17:09.650Z"
   },
   {
    "duration": 9,
    "start_time": "2023-06-30T18:17:09.687Z"
   },
   {
    "duration": 14,
    "start_time": "2023-06-30T18:17:09.699Z"
   },
   {
    "duration": 16,
    "start_time": "2023-06-30T18:17:09.715Z"
   },
   {
    "duration": 7,
    "start_time": "2023-06-30T18:17:09.733Z"
   },
   {
    "duration": 5904,
    "start_time": "2023-06-30T18:17:09.741Z"
   },
   {
    "duration": 40298,
    "start_time": "2023-06-30T18:17:15.647Z"
   },
   {
    "duration": 96,
    "start_time": "2023-06-30T18:17:55.947Z"
   },
   {
    "duration": 8,
    "start_time": "2023-06-30T18:17:56.045Z"
   },
   {
    "duration": 50,
    "start_time": "2023-06-30T18:17:56.055Z"
   },
   {
    "duration": 4,
    "start_time": "2023-06-30T18:17:56.107Z"
   },
   {
    "duration": 4,
    "start_time": "2023-06-30T18:17:56.113Z"
   },
   {
    "duration": 7644,
    "start_time": "2023-06-30T18:17:56.119Z"
   },
   {
    "duration": 1318,
    "start_time": "2023-06-30T18:19:47.427Z"
   },
   {
    "duration": 898,
    "start_time": "2023-06-30T18:19:48.747Z"
   },
   {
    "duration": 21,
    "start_time": "2023-06-30T18:19:49.647Z"
   },
   {
    "duration": 8,
    "start_time": "2023-06-30T18:19:49.670Z"
   },
   {
    "duration": 15,
    "start_time": "2023-06-30T18:19:49.679Z"
   },
   {
    "duration": 13,
    "start_time": "2023-06-30T18:19:49.696Z"
   },
   {
    "duration": 4,
    "start_time": "2023-06-30T18:19:49.710Z"
   },
   {
    "duration": 4616,
    "start_time": "2023-06-30T18:19:49.715Z"
   },
   {
    "duration": 34045,
    "start_time": "2023-06-30T18:19:54.333Z"
   },
   {
    "duration": 72,
    "start_time": "2023-06-30T18:20:28.380Z"
   },
   {
    "duration": 8,
    "start_time": "2023-06-30T18:20:28.467Z"
   },
   {
    "duration": 40,
    "start_time": "2023-06-30T18:20:28.477Z"
   },
   {
    "duration": 4,
    "start_time": "2023-06-30T18:20:28.519Z"
   },
   {
    "duration": 8,
    "start_time": "2023-06-30T18:20:28.524Z"
   },
   {
    "duration": 7336,
    "start_time": "2023-06-30T18:20:28.534Z"
   },
   {
    "duration": 481197,
    "start_time": "2023-06-30T18:20:35.872Z"
   },
   {
    "duration": 17,
    "start_time": "2023-06-30T18:28:37.071Z"
   },
   {
    "duration": 31,
    "start_time": "2023-06-30T21:16:57.010Z"
   },
   {
    "duration": 4,
    "start_time": "2023-06-30T21:17:11.580Z"
   },
   {
    "duration": 3418,
    "start_time": "2023-06-30T21:17:12.160Z"
   },
   {
    "duration": 7,
    "start_time": "2023-06-30T21:17:15.579Z"
   },
   {
    "duration": 33,
    "start_time": "2023-06-30T21:17:15.587Z"
   },
   {
    "duration": 690,
    "start_time": "2023-06-30T21:17:38.047Z"
   },
   {
    "duration": 147,
    "start_time": "2023-06-30T21:18:02.967Z"
   },
   {
    "duration": 114,
    "start_time": "2023-06-30T21:18:07.139Z"
   },
   {
    "duration": 6,
    "start_time": "2023-06-30T21:18:15.703Z"
   },
   {
    "duration": 33,
    "start_time": "2023-06-30T21:18:27.779Z"
   },
   {
    "duration": 11,
    "start_time": "2023-06-30T21:18:28.206Z"
   },
   {
    "duration": 1322,
    "start_time": "2023-06-30T22:16:54.802Z"
   },
   {
    "duration": 869,
    "start_time": "2023-06-30T22:16:56.126Z"
   },
   {
    "duration": 13,
    "start_time": "2023-06-30T22:16:56.997Z"
   },
   {
    "duration": 50,
    "start_time": "2023-06-30T22:16:57.012Z"
   },
   {
    "duration": 11,
    "start_time": "2023-06-30T22:16:57.064Z"
   },
   {
    "duration": 32,
    "start_time": "2023-06-30T22:16:57.076Z"
   },
   {
    "duration": 32,
    "start_time": "2023-06-30T22:16:57.110Z"
   },
   {
    "duration": 16,
    "start_time": "2023-06-30T22:16:57.144Z"
   },
   {
    "duration": 4358,
    "start_time": "2023-06-30T22:16:57.162Z"
   },
   {
    "duration": 31987,
    "start_time": "2023-06-30T22:17:01.522Z"
   },
   {
    "duration": 86,
    "start_time": "2023-06-30T22:17:33.510Z"
   },
   {
    "duration": 8,
    "start_time": "2023-06-30T22:17:33.597Z"
   },
   {
    "duration": 29,
    "start_time": "2023-06-30T22:17:33.606Z"
   },
   {
    "duration": 4,
    "start_time": "2023-06-30T22:17:33.637Z"
   },
   {
    "duration": 6,
    "start_time": "2023-06-30T22:17:33.642Z"
   },
   {
    "duration": 6408,
    "start_time": "2023-06-30T22:17:33.668Z"
   },
   {
    "duration": 450491,
    "start_time": "2023-06-30T22:17:40.078Z"
   },
   {
    "duration": 1955,
    "start_time": "2023-07-01T08:52:24.884Z"
   },
   {
    "duration": 2212,
    "start_time": "2023-07-01T08:52:26.840Z"
   },
   {
    "duration": 12,
    "start_time": "2023-07-01T08:52:29.054Z"
   },
   {
    "duration": 33,
    "start_time": "2023-07-01T08:52:29.068Z"
   },
   {
    "duration": 5,
    "start_time": "2023-07-01T08:52:29.103Z"
   },
   {
    "duration": 20,
    "start_time": "2023-07-01T08:52:29.109Z"
   },
   {
    "duration": 16,
    "start_time": "2023-07-01T08:52:29.131Z"
   },
   {
    "duration": 3,
    "start_time": "2023-07-01T08:52:29.149Z"
   },
   {
    "duration": 4350,
    "start_time": "2023-07-01T08:52:29.154Z"
   },
   {
    "duration": 31708,
    "start_time": "2023-07-01T08:52:33.507Z"
   },
   {
    "duration": 86,
    "start_time": "2023-07-01T08:53:05.217Z"
   },
   {
    "duration": 8,
    "start_time": "2023-07-01T08:53:05.305Z"
   },
   {
    "duration": 56,
    "start_time": "2023-07-01T08:53:05.315Z"
   },
   {
    "duration": 17,
    "start_time": "2023-07-01T08:53:05.373Z"
   },
   {
    "duration": 30,
    "start_time": "2023-07-01T08:53:05.392Z"
   },
   {
    "duration": 6418,
    "start_time": "2023-07-01T08:53:05.423Z"
   },
   {
    "duration": 467434,
    "start_time": "2023-07-01T08:53:11.842Z"
   },
   {
    "duration": 241,
    "start_time": "2023-07-01T09:01:33.194Z"
   },
   {
    "duration": 94,
    "start_time": "2023-07-01T09:01:51.653Z"
   },
   {
    "duration": 577,
    "start_time": "2023-07-01T09:01:55.588Z"
   },
   {
    "duration": 470970,
    "start_time": "2023-07-01T09:02:25.287Z"
   },
   {
    "duration": 21,
    "start_time": "2023-07-01T09:25:12.020Z"
   },
   {
    "duration": 30,
    "start_time": "2023-07-01T09:25:12.957Z"
   },
   {
    "duration": 4,
    "start_time": "2023-07-01T09:31:46.637Z"
   },
   {
    "duration": 3087,
    "start_time": "2023-07-01T10:38:13.119Z"
   },
   {
    "duration": 3405,
    "start_time": "2023-07-01T10:38:16.207Z"
   },
   {
    "duration": 70,
    "start_time": "2023-07-01T10:38:19.615Z"
   },
   {
    "duration": 92,
    "start_time": "2023-07-01T10:38:19.688Z"
   },
   {
    "duration": 7,
    "start_time": "2023-07-01T10:38:19.783Z"
   },
   {
    "duration": 15,
    "start_time": "2023-07-01T10:38:22.786Z"
   },
   {
    "duration": 14,
    "start_time": "2023-07-01T10:38:23.229Z"
   },
   {
    "duration": 6,
    "start_time": "2023-07-01T10:38:24.187Z"
   },
   {
    "duration": 10359,
    "start_time": "2023-07-01T10:38:25.049Z"
   },
   {
    "duration": 77689,
    "start_time": "2023-07-01T10:38:35.410Z"
   },
   {
    "duration": 144,
    "start_time": "2023-07-01T10:40:32.269Z"
   },
   {
    "duration": 11,
    "start_time": "2023-07-01T10:40:33.522Z"
   },
   {
    "duration": 79,
    "start_time": "2023-07-01T10:40:35.920Z"
   },
   {
    "duration": 8,
    "start_time": "2023-07-01T10:40:36.668Z"
   },
   {
    "duration": 5,
    "start_time": "2023-07-01T10:40:37.158Z"
   },
   {
    "duration": 86,
    "start_time": "2023-07-01T10:41:06.609Z"
   },
   {
    "duration": 7076,
    "start_time": "2023-07-01T10:41:11.919Z"
   },
   {
    "duration": 3622,
    "start_time": "2023-07-01T10:41:18.997Z"
   },
   {
    "duration": 80,
    "start_time": "2023-07-01T10:41:22.621Z"
   },
   {
    "duration": 89,
    "start_time": "2023-07-01T10:41:22.703Z"
   },
   {
    "duration": 18,
    "start_time": "2023-07-01T10:41:22.793Z"
   },
   {
    "duration": 63,
    "start_time": "2023-07-01T10:41:22.813Z"
   },
   {
    "duration": 34,
    "start_time": "2023-07-01T10:41:22.879Z"
   },
   {
    "duration": 9,
    "start_time": "2023-07-01T10:41:26.475Z"
   },
   {
    "duration": 11073,
    "start_time": "2023-07-01T10:41:26.816Z"
   },
   {
    "duration": 88412,
    "start_time": "2023-07-01T10:41:37.893Z"
   },
   {
    "duration": 191,
    "start_time": "2023-07-01T10:43:06.308Z"
   },
   {
    "duration": 10,
    "start_time": "2023-07-01T10:43:06.501Z"
   },
   {
    "duration": 31,
    "start_time": "2023-07-01T10:43:13.996Z"
   },
   {
    "duration": 6,
    "start_time": "2023-07-01T10:43:14.528Z"
   },
   {
    "duration": 4,
    "start_time": "2023-07-01T10:43:14.924Z"
   },
   {
    "duration": 16064,
    "start_time": "2023-07-01T10:43:15.346Z"
   },
   {
    "duration": 539178,
    "start_time": "2023-07-01T10:43:44.600Z"
   },
   {
    "duration": 80032,
    "start_time": "2023-07-01T11:15:20.500Z"
   },
   {
    "duration": 4,
    "start_time": "2023-07-01T11:16:55.785Z"
   },
   {
    "duration": 4718,
    "start_time": "2023-07-01T11:17:03.517Z"
   },
   {
    "duration": 17,
    "start_time": "2023-07-01T11:17:21.242Z"
   },
   {
    "duration": 1388,
    "start_time": "2023-07-01T11:18:12.904Z"
   },
   {
    "duration": 842,
    "start_time": "2023-07-01T11:18:14.294Z"
   },
   {
    "duration": 14,
    "start_time": "2023-07-01T11:18:15.137Z"
   },
   {
    "duration": 46,
    "start_time": "2023-07-01T11:18:15.152Z"
   },
   {
    "duration": 45,
    "start_time": "2023-07-01T11:18:15.201Z"
   },
   {
    "duration": 18,
    "start_time": "2023-07-01T11:18:15.248Z"
   },
   {
    "duration": 32,
    "start_time": "2023-07-01T11:18:15.268Z"
   },
   {
    "duration": 7,
    "start_time": "2023-07-01T11:18:15.302Z"
   },
   {
    "duration": 4532,
    "start_time": "2023-07-01T11:18:15.311Z"
   },
   {
    "duration": 31879,
    "start_time": "2023-07-01T11:18:19.845Z"
   },
   {
    "duration": 95,
    "start_time": "2023-07-01T11:18:51.726Z"
   },
   {
    "duration": 8,
    "start_time": "2023-07-01T11:18:51.823Z"
   },
   {
    "duration": 42,
    "start_time": "2023-07-01T11:18:51.833Z"
   },
   {
    "duration": 4,
    "start_time": "2023-07-01T11:18:51.877Z"
   },
   {
    "duration": 10,
    "start_time": "2023-07-01T11:18:51.882Z"
   },
   {
    "duration": 6459,
    "start_time": "2023-07-01T11:18:51.893Z"
   },
   {
    "duration": 467725,
    "start_time": "2023-07-01T11:18:58.354Z"
   },
   {
    "duration": 73878,
    "start_time": "2023-07-01T11:26:46.082Z"
   },
   {
    "duration": 4877,
    "start_time": "2023-07-01T11:27:59.962Z"
   },
   {
    "duration": 15,
    "start_time": "2023-07-01T11:28:04.841Z"
   },
   {
    "duration": 1326,
    "start_time": "2023-07-01T19:21:26.993Z"
   },
   {
    "duration": 3488,
    "start_time": "2023-07-01T19:21:37.619Z"
   },
   {
    "duration": 13,
    "start_time": "2023-07-01T19:21:41.109Z"
   },
   {
    "duration": 31,
    "start_time": "2023-07-01T19:21:41.123Z"
   },
   {
    "duration": 5,
    "start_time": "2023-07-01T19:21:41.156Z"
   },
   {
    "duration": 11,
    "start_time": "2023-07-01T19:21:41.805Z"
   },
   {
    "duration": 12,
    "start_time": "2023-07-01T19:21:42.129Z"
   },
   {
    "duration": 3,
    "start_time": "2023-07-01T19:21:43.826Z"
   },
   {
    "duration": 4,
    "start_time": "2023-07-01T19:21:44.310Z"
   },
   {
    "duration": 4,
    "start_time": "2023-07-01T19:21:45.462Z"
   },
   {
    "duration": 4287,
    "start_time": "2023-07-01T19:21:47.096Z"
   },
   {
    "duration": 494,
    "start_time": "2023-07-01T19:21:51.384Z"
   },
   {
    "duration": 617,
    "start_time": "2023-07-01T19:22:19.840Z"
   },
   {
    "duration": 751,
    "start_time": "2023-07-01T19:22:24.627Z"
   },
   {
    "duration": 7,
    "start_time": "2023-07-01T19:22:25.379Z"
   },
   {
    "duration": 32,
    "start_time": "2023-07-01T19:22:25.387Z"
   },
   {
    "duration": 5,
    "start_time": "2023-07-01T19:22:25.733Z"
   },
   {
    "duration": 9,
    "start_time": "2023-07-01T19:22:26.221Z"
   },
   {
    "duration": 9,
    "start_time": "2023-07-01T19:22:26.596Z"
   },
   {
    "duration": 2,
    "start_time": "2023-07-01T19:22:28.211Z"
   },
   {
    "duration": 3,
    "start_time": "2023-07-01T19:22:28.437Z"
   },
   {
    "duration": 4,
    "start_time": "2023-07-01T19:22:28.645Z"
   },
   {
    "duration": 4426,
    "start_time": "2023-07-01T19:22:29.715Z"
   },
   {
    "duration": 1047189,
    "start_time": "2023-07-01T19:22:34.144Z"
   },
   {
    "duration": 62,
    "start_time": "2023-07-01T19:40:03.501Z"
   },
   {
    "duration": 8,
    "start_time": "2023-07-01T19:40:04.456Z"
   },
   {
    "duration": 30,
    "start_time": "2023-07-01T19:40:09.270Z"
   },
   {
    "duration": 3,
    "start_time": "2023-07-01T19:40:09.853Z"
   },
   {
    "duration": 4,
    "start_time": "2023-07-01T19:40:10.201Z"
   },
   {
    "duration": 6362,
    "start_time": "2023-07-01T19:40:11.190Z"
   },
   {
    "duration": 12,
    "start_time": "2023-07-01T19:40:29.009Z"
   },
   {
    "duration": 20,
    "start_time": "2023-07-01T19:40:46.252Z"
   },
   {
    "duration": 45,
    "start_time": "2023-07-01T19:41:07.328Z"
   },
   {
    "duration": 5,
    "start_time": "2023-07-01T19:41:07.846Z"
   },
   {
    "duration": 4,
    "start_time": "2023-07-01T19:41:08.254Z"
   },
   {
    "duration": 6718,
    "start_time": "2023-07-01T19:41:09.354Z"
   },
   {
    "duration": 456846,
    "start_time": "2023-07-01T19:41:22.932Z"
   },
   {
    "duration": 72890,
    "start_time": "2023-07-01T19:48:59.780Z"
   },
   {
    "duration": 4831,
    "start_time": "2023-07-01T19:50:12.671Z"
   },
   {
    "duration": 15,
    "start_time": "2023-07-01T19:50:55.104Z"
   }
  ],
  "kernelspec": {
   "display_name": "Python 3 (ipykernel)",
   "language": "python",
   "name": "python3"
  },
  "language_info": {
   "codemirror_mode": {
    "name": "ipython",
    "version": 3
   },
   "file_extension": ".py",
   "mimetype": "text/x-python",
   "name": "python",
   "nbconvert_exporter": "python",
   "pygments_lexer": "ipython3",
   "version": "3.10.9"
  },
  "toc": {
   "base_numbering": 1,
   "nav_menu": {},
   "number_sections": true,
   "sideBar": true,
   "skip_h1_title": true,
   "title_cell": "Содержание",
   "title_sidebar": "Contents",
   "toc_cell": true,
   "toc_position": {
    "height": "calc(100% - 180px)",
    "left": "10px",
    "top": "150px",
    "width": "302.391px"
   },
   "toc_section_display": true,
   "toc_window_display": false
  }
 },
 "nbformat": 4,
 "nbformat_minor": 2
}
