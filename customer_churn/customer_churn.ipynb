{
 "cells": [
  {
   "cell_type": "markdown",
   "metadata": {},
   "source": [
    "## Описание проекта: телекоммуникации\n",
    "Оператор связи «Ниединогоразрыва.ком» хочет научиться прогнозировать отток клиентов. Если выяснится, что пользователь планирует уйти, ему будут предложены промокоды и специальные условия. Команда оператора собрала персональные данные о некоторых клиентах, информацию об их тарифах и договорах.\n",
    "\n",
    "Необходимо предсказать ухода клиента – отказ от продолжения пользования услугами, предоставляемыми заказчиком.\n",
    "Основное пожелание заказчика – снизить убытки, связанные с неэффективными акциями по удержанию клиентов с помощью промо-купонов, скидок и прочих пакетов стимулирования.\n",
    "\n",
    "Так, маркетологи компании выделяют две болевые точки:\n",
    "<br /> 1) пользователю предложили промокоды, но он не собирался уходить (False Positive);\n",
    "<br /> 2) пользователю ничего не предложили и он ушёл (False Negative).\n",
    "<br /> После разработки модели заказчик хочет получить интерпретацию её работы (график ROC, матрица ошибок, важность признаков). \n",
    "- Основная метрика: ROC-AUC – для выдерживания баланса между false Positive и false Negative. \n",
    "- Дополнительная метрика: accuracy – для интерпретации (с матрицами ошибок).\n",
    "- Минимальный порог хорошей модели: ROC-AUC >= 0.85"
   ]
  },
  {
   "cell_type": "markdown",
   "metadata": {},
   "source": [
    "### Описание данных\n",
    "Оператор предоставляет два основных типа услуг: \n",
    "- Стационарную телефонную связь. Возможно подключение телефонного аппарата к нескольким линиям одновременно.\n",
    "- Интернет. Подключение может быть двух типов: через телефонную линию (DSL, от англ. digital subscriber line, «цифровая абонентская линия») или оптоволоконный кабель (Fiber optic)."
   ]
  },
  {
   "cell_type": "markdown",
   "metadata": {},
   "source": [
    "### План работы\n",
    "1) составление описания проекта\n",
    "2) обзор данных\n",
    "3) предобработка данных\n",
    "<br/> 3.1. изменение типов данных\n",
    "<br/> 3.2. заполнение пропусков\n",
    "<br/>3.3. составление новых признаков на основе имеющихся\n",
    "4) исследование данных - составление корреляционой матрицы и анализ распредления важнейших для целевого показателя признаков \n",
    "5) отбросить неважные для моделей признаки на основе матрицы корреляции (тут вопрос: насколько низкой должна быть корреляция, чтобы мы могли судить о том, что признак не повлияет на результат модели)\n",
    "6) разделение данных на тренировочную и тестовую выборки\n",
    "7) кодирование категориальных значений + масштабирование данных\n",
    "8) обучение моделей (логистическая регрессия, случайный лес, бустинг) с использованием гридсерча и пайплайна с указанием параметра class_weight=‘balanced’ \n",
    "9) выбор лучшей модели по метрике roc-auc, проверка только этой модели на тестовой выборке+проверка ее метрики \"accuracy\" \n",
    "10) интерпретация результатов: ROC-кривая, матрица ошибок, анализ важности признаков (анализ важности признаков, получается, несколько дублирует то, что мы делаем в EDA? там ведь тоже после матрицы корреляции изучали некоторые признаки)\n",
    "11) составлене отчета"
   ]
  },
  {
   "cell_type": "code",
   "execution_count": 1,
   "metadata": {},
   "outputs": [],
   "source": [
    "import pandas as pd\n",
    "import seaborn as sns\n",
    "import matplotlib.pyplot as plt\n",
    "import plotly as py\n",
    "import sys\n",
    "import plotly.express as px\n",
    "import phik\n",
    "\n",
    "from sklearn.model_selection import train_test_split\n",
    "from sklearn.pipeline import Pipeline\n",
    "from sklearn.pipeline import make_pipeline\n",
    "from sklearn.compose import ColumnTransformer\n",
    "\n",
    "from sklearn.preprocessing import OneHotEncoder, OrdinalEncoder, StandardScaler\n",
    "from sklearn.model_selection import train_test_split, GridSearchCV, cross_val_score\n",
    "\n",
    "from sklearn.ensemble import RandomForestClassifier\n",
    "from sklearn.linear_model import LogisticRegression\n",
    "from catboost import CatBoostClassifier, Pool\n",
    "from lightgbm import LGBMRegressor\n",
    "\n",
    "from sklearn.feature_selection import SelectFromModel\n",
    "from sklearn.metrics import accuracy_score, roc_auc_score, roc_curve, confusion_matrix"
   ]
  },
  {
   "cell_type": "code",
   "execution_count": 3,
   "metadata": {},
   "outputs": [],
   "source": [
    "import warnings\n",
    "warnings.filterwarnings(\"ignore\")"
   ]
  },
  {
   "cell_type": "code",
   "execution_count": 5,
   "metadata": {},
   "outputs": [],
   "source": [
    "try: \n",
    "    personal = pd.read_csv('/datasets/personal_new.csv')\n",
    "    contract = pd.read_csv('/datasets/contract_new.csv')\n",
    "    internet = pd.read_csv('/datasets/internet_new.csv')\n",
    "    phone = pd.read_csv('/datasets/phone_new.csv')\n",
    "except:\n",
    "    print('Вы работаете в другой среде')"
   ]
  },
  {
   "cell_type": "code",
   "execution_count": 6,
   "metadata": {},
   "outputs": [],
   "source": [
    "def line():\n",
    "    print('-'*60)\n",
    "    \n",
    "def inspection(data):\n",
    "    print(data.head())\n",
    "    line()\n",
    "    print(data.info())\n",
    "\n",
    "state = 140823"
   ]
  },
  {
   "cell_type": "code",
   "execution_count": 7,
   "metadata": {},
   "outputs": [
    {
     "name": "stdout",
     "output_type": "stream",
     "text": [
      "   customerID  gender  SeniorCitizen Partner Dependents\n",
      "0  7590-VHVEG  Female              0     Yes         No\n",
      "1  5575-GNVDE    Male              0      No         No\n",
      "2  3668-QPYBK    Male              0      No         No\n",
      "3  7795-CFOCW    Male              0      No         No\n",
      "4  9237-HQITU  Female              0      No         No\n",
      "------------------------------------------------------------\n",
      "<class 'pandas.core.frame.DataFrame'>\n",
      "RangeIndex: 7043 entries, 0 to 7042\n",
      "Data columns (total 5 columns):\n",
      " #   Column         Non-Null Count  Dtype \n",
      "---  ------         --------------  ----- \n",
      " 0   customerID     7043 non-null   object\n",
      " 1   gender         7043 non-null   object\n",
      " 2   SeniorCitizen  7043 non-null   int64 \n",
      " 3   Partner        7043 non-null   object\n",
      " 4   Dependents     7043 non-null   object\n",
      "dtypes: int64(1), object(4)\n",
      "memory usage: 275.2+ KB\n",
      "None\n"
     ]
    }
   ],
   "source": [
    "inspection(personal)"
   ]
  },
  {
   "cell_type": "code",
   "execution_count": 8,
   "metadata": {},
   "outputs": [
    {
     "name": "stdout",
     "output_type": "stream",
     "text": [
      "   customerID   BeginDate EndDate            Type PaperlessBilling  \\\n",
      "0  7590-VHVEG  2020-01-01      No  Month-to-month              Yes   \n",
      "1  5575-GNVDE  2017-04-01      No        One year               No   \n",
      "2  3668-QPYBK  2019-10-01      No  Month-to-month              Yes   \n",
      "3  7795-CFOCW  2016-05-01      No        One year               No   \n",
      "4  9237-HQITU  2019-09-01      No  Month-to-month              Yes   \n",
      "\n",
      "               PaymentMethod  MonthlyCharges TotalCharges  \n",
      "0           Electronic check           29.85        31.04  \n",
      "1               Mailed check           56.95      2071.84  \n",
      "2               Mailed check           53.85       226.17  \n",
      "3  Bank transfer (automatic)           42.30       1960.6  \n",
      "4           Electronic check           70.70        353.5  \n",
      "------------------------------------------------------------\n",
      "<class 'pandas.core.frame.DataFrame'>\n",
      "RangeIndex: 7043 entries, 0 to 7042\n",
      "Data columns (total 8 columns):\n",
      " #   Column            Non-Null Count  Dtype  \n",
      "---  ------            --------------  -----  \n",
      " 0   customerID        7043 non-null   object \n",
      " 1   BeginDate         7043 non-null   object \n",
      " 2   EndDate           7043 non-null   object \n",
      " 3   Type              7043 non-null   object \n",
      " 4   PaperlessBilling  7043 non-null   object \n",
      " 5   PaymentMethod     7043 non-null   object \n",
      " 6   MonthlyCharges    7043 non-null   float64\n",
      " 7   TotalCharges      7043 non-null   object \n",
      "dtypes: float64(1), object(7)\n",
      "memory usage: 440.3+ KB\n",
      "None\n"
     ]
    }
   ],
   "source": [
    "inspection(contract)"
   ]
  },
  {
   "cell_type": "code",
   "execution_count": 9,
   "metadata": {},
   "outputs": [
    {
     "name": "stdout",
     "output_type": "stream",
     "text": [
      "   customerID InternetService OnlineSecurity OnlineBackup DeviceProtection  \\\n",
      "0  7590-VHVEG             DSL             No          Yes               No   \n",
      "1  5575-GNVDE             DSL            Yes           No              Yes   \n",
      "2  3668-QPYBK             DSL            Yes          Yes               No   \n",
      "3  7795-CFOCW             DSL            Yes           No              Yes   \n",
      "4  9237-HQITU     Fiber optic             No           No               No   \n",
      "\n",
      "  TechSupport StreamingTV StreamingMovies  \n",
      "0          No          No              No  \n",
      "1          No          No              No  \n",
      "2          No          No              No  \n",
      "3         Yes          No              No  \n",
      "4          No          No              No  \n",
      "------------------------------------------------------------\n",
      "<class 'pandas.core.frame.DataFrame'>\n",
      "RangeIndex: 5517 entries, 0 to 5516\n",
      "Data columns (total 8 columns):\n",
      " #   Column            Non-Null Count  Dtype \n",
      "---  ------            --------------  ----- \n",
      " 0   customerID        5517 non-null   object\n",
      " 1   InternetService   5517 non-null   object\n",
      " 2   OnlineSecurity    5517 non-null   object\n",
      " 3   OnlineBackup      5517 non-null   object\n",
      " 4   DeviceProtection  5517 non-null   object\n",
      " 5   TechSupport       5517 non-null   object\n",
      " 6   StreamingTV       5517 non-null   object\n",
      " 7   StreamingMovies   5517 non-null   object\n",
      "dtypes: object(8)\n",
      "memory usage: 344.9+ KB\n",
      "None\n"
     ]
    }
   ],
   "source": [
    "inspection(internet)"
   ]
  },
  {
   "cell_type": "code",
   "execution_count": 10,
   "metadata": {},
   "outputs": [
    {
     "name": "stdout",
     "output_type": "stream",
     "text": [
      "   customerID MultipleLines\n",
      "0  5575-GNVDE            No\n",
      "1  3668-QPYBK            No\n",
      "2  9237-HQITU            No\n",
      "3  9305-CDSKC           Yes\n",
      "4  1452-KIOVK           Yes\n",
      "------------------------------------------------------------\n",
      "<class 'pandas.core.frame.DataFrame'>\n",
      "RangeIndex: 6361 entries, 0 to 6360\n",
      "Data columns (total 2 columns):\n",
      " #   Column         Non-Null Count  Dtype \n",
      "---  ------         --------------  ----- \n",
      " 0   customerID     6361 non-null   object\n",
      " 1   MultipleLines  6361 non-null   object\n",
      "dtypes: object(2)\n",
      "memory usage: 99.5+ KB\n",
      "None\n"
     ]
    }
   ],
   "source": [
    "inspection(phone)"
   ]
  },
  {
   "cell_type": "code",
   "execution_count": 11,
   "metadata": {},
   "outputs": [],
   "source": [
    "personal = personal.set_index('customerID')\n",
    "internet = internet.set_index('customerID')\n",
    "contract = contract.set_index('customerID')\n",
    "phone = phone.set_index('customerID')\n",
    "\n",
    "data = personal.join([internet, contract, phone])"
   ]
  },
  {
   "cell_type": "code",
   "execution_count": 12,
   "metadata": {},
   "outputs": [
    {
     "name": "stdout",
     "output_type": "stream",
     "text": [
      "            gender  SeniorCitizen Partner Dependents InternetService  \\\n",
      "customerID                                                             \n",
      "7590-VHVEG  Female              0     Yes         No             DSL   \n",
      "5575-GNVDE    Male              0      No         No             DSL   \n",
      "3668-QPYBK    Male              0      No         No             DSL   \n",
      "7795-CFOCW    Male              0      No         No             DSL   \n",
      "9237-HQITU  Female              0      No         No     Fiber optic   \n",
      "\n",
      "           OnlineSecurity OnlineBackup DeviceProtection TechSupport  \\\n",
      "customerID                                                            \n",
      "7590-VHVEG             No          Yes               No          No   \n",
      "5575-GNVDE            Yes           No              Yes          No   \n",
      "3668-QPYBK            Yes          Yes               No          No   \n",
      "7795-CFOCW            Yes           No              Yes         Yes   \n",
      "9237-HQITU             No           No               No          No   \n",
      "\n",
      "           StreamingTV StreamingMovies   BeginDate EndDate            Type  \\\n",
      "customerID                                                                   \n",
      "7590-VHVEG          No              No  2020-01-01      No  Month-to-month   \n",
      "5575-GNVDE          No              No  2017-04-01      No        One year   \n",
      "3668-QPYBK          No              No  2019-10-01      No  Month-to-month   \n",
      "7795-CFOCW          No              No  2016-05-01      No        One year   \n",
      "9237-HQITU          No              No  2019-09-01      No  Month-to-month   \n",
      "\n",
      "           PaperlessBilling              PaymentMethod  MonthlyCharges  \\\n",
      "customerID                                                               \n",
      "7590-VHVEG              Yes           Electronic check           29.85   \n",
      "5575-GNVDE               No               Mailed check           56.95   \n",
      "3668-QPYBK              Yes               Mailed check           53.85   \n",
      "7795-CFOCW               No  Bank transfer (automatic)           42.30   \n",
      "9237-HQITU              Yes           Electronic check           70.70   \n",
      "\n",
      "           TotalCharges MultipleLines  \n",
      "customerID                             \n",
      "7590-VHVEG        31.04           NaN  \n",
      "5575-GNVDE      2071.84            No  \n",
      "3668-QPYBK       226.17            No  \n",
      "7795-CFOCW       1960.6           NaN  \n",
      "9237-HQITU        353.5            No  \n",
      "------------------------------------------------------------\n",
      "<class 'pandas.core.frame.DataFrame'>\n",
      "Index: 7043 entries, 7590-VHVEG to 3186-AJIEK\n",
      "Data columns (total 19 columns):\n",
      " #   Column            Non-Null Count  Dtype  \n",
      "---  ------            --------------  -----  \n",
      " 0   gender            7043 non-null   object \n",
      " 1   SeniorCitizen     7043 non-null   int64  \n",
      " 2   Partner           7043 non-null   object \n",
      " 3   Dependents        7043 non-null   object \n",
      " 4   InternetService   5517 non-null   object \n",
      " 5   OnlineSecurity    5517 non-null   object \n",
      " 6   OnlineBackup      5517 non-null   object \n",
      " 7   DeviceProtection  5517 non-null   object \n",
      " 8   TechSupport       5517 non-null   object \n",
      " 9   StreamingTV       5517 non-null   object \n",
      " 10  StreamingMovies   5517 non-null   object \n",
      " 11  BeginDate         7043 non-null   object \n",
      " 12  EndDate           7043 non-null   object \n",
      " 13  Type              7043 non-null   object \n",
      " 14  PaperlessBilling  7043 non-null   object \n",
      " 15  PaymentMethod     7043 non-null   object \n",
      " 16  MonthlyCharges    7043 non-null   float64\n",
      " 17  TotalCharges      7043 non-null   object \n",
      " 18  MultipleLines     6361 non-null   object \n",
      "dtypes: float64(1), int64(1), object(17)\n",
      "memory usage: 1.1+ MB\n",
      "None\n"
     ]
    }
   ],
   "source": [
    "inspection(data)"
   ]
  },
  {
   "cell_type": "markdown",
   "metadata": {},
   "source": [
    "Итак, у нас есть датасет на 7043 строк. Для предобработки датасета треубется выполнить следующее:\n",
    "- изменить формат данных в признаках связанных с датами (BeginDate, EndDate) и в столбце TotalCharge (изменить на float)\n",
    "- cформировать новый признак \"количество дней/недель/месяцев от начала контракта\" (сегодня 01.02.2020), а BeginDate и EndDate в последтвии удалить \n",
    "- выделить целевой признак из EndDate (есть дата -> таргет=1, если нет, то таргет=0)\n",
    "- во всех столбцах, которые относятся к интернету, пропуски заполнить на \"no_internet\", так как клиенты, видимо, не пользовались услугами интернета\n",
    "- во всех столбцах, которые относятся к телефонии пропуски заполнить на \"no_phone\"  так как клиенты, видимо, не пользовались услугами телефонии\n",
    "- создать два отдельных признака, с информацией о том, какой услугой пользуется клиент: например, признаки \"Internet\" и \"Phone\" с Yes/Nо в качестве данных\n",
    "\n"
   ]
  },
  {
   "cell_type": "code",
   "execution_count": 14,
   "metadata": {},
   "outputs": [
    {
     "data": {
      "text/html": [
       "<div>\n",
       "<style scoped>\n",
       "    .dataframe tbody tr th:only-of-type {\n",
       "        vertical-align: middle;\n",
       "    }\n",
       "\n",
       "    .dataframe tbody tr th {\n",
       "        vertical-align: top;\n",
       "    }\n",
       "\n",
       "    .dataframe thead th {\n",
       "        text-align: right;\n",
       "    }\n",
       "</style>\n",
       "<table border=\"1\" class=\"dataframe\">\n",
       "  <thead>\n",
       "    <tr style=\"text-align: right;\">\n",
       "      <th></th>\n",
       "      <th>gender</th>\n",
       "      <th>SeniorCitizen</th>\n",
       "      <th>Partner</th>\n",
       "      <th>Dependents</th>\n",
       "      <th>InternetService</th>\n",
       "      <th>OnlineSecurity</th>\n",
       "      <th>OnlineBackup</th>\n",
       "      <th>DeviceProtection</th>\n",
       "      <th>TechSupport</th>\n",
       "      <th>StreamingTV</th>\n",
       "      <th>StreamingMovies</th>\n",
       "      <th>BeginDate</th>\n",
       "      <th>EndDate</th>\n",
       "      <th>Type</th>\n",
       "      <th>PaperlessBilling</th>\n",
       "      <th>PaymentMethod</th>\n",
       "      <th>MonthlyCharges</th>\n",
       "      <th>TotalCharges</th>\n",
       "      <th>MultipleLines</th>\n",
       "      <th>target</th>\n",
       "    </tr>\n",
       "    <tr>\n",
       "      <th>customerID</th>\n",
       "      <th></th>\n",
       "      <th></th>\n",
       "      <th></th>\n",
       "      <th></th>\n",
       "      <th></th>\n",
       "      <th></th>\n",
       "      <th></th>\n",
       "      <th></th>\n",
       "      <th></th>\n",
       "      <th></th>\n",
       "      <th></th>\n",
       "      <th></th>\n",
       "      <th></th>\n",
       "      <th></th>\n",
       "      <th></th>\n",
       "      <th></th>\n",
       "      <th></th>\n",
       "      <th></th>\n",
       "      <th></th>\n",
       "      <th></th>\n",
       "    </tr>\n",
       "  </thead>\n",
       "  <tbody>\n",
       "    <tr>\n",
       "      <th>7590-VHVEG</th>\n",
       "      <td>Female</td>\n",
       "      <td>0</td>\n",
       "      <td>Yes</td>\n",
       "      <td>No</td>\n",
       "      <td>DSL</td>\n",
       "      <td>No</td>\n",
       "      <td>Yes</td>\n",
       "      <td>No</td>\n",
       "      <td>No</td>\n",
       "      <td>No</td>\n",
       "      <td>No</td>\n",
       "      <td>2020-01-01</td>\n",
       "      <td>No</td>\n",
       "      <td>Month-to-month</td>\n",
       "      <td>Yes</td>\n",
       "      <td>Electronic check</td>\n",
       "      <td>29.85</td>\n",
       "      <td>31.04</td>\n",
       "      <td>NaN</td>\n",
       "      <td>0</td>\n",
       "    </tr>\n",
       "    <tr>\n",
       "      <th>5575-GNVDE</th>\n",
       "      <td>Male</td>\n",
       "      <td>0</td>\n",
       "      <td>No</td>\n",
       "      <td>No</td>\n",
       "      <td>DSL</td>\n",
       "      <td>Yes</td>\n",
       "      <td>No</td>\n",
       "      <td>Yes</td>\n",
       "      <td>No</td>\n",
       "      <td>No</td>\n",
       "      <td>No</td>\n",
       "      <td>2017-04-01</td>\n",
       "      <td>No</td>\n",
       "      <td>One year</td>\n",
       "      <td>No</td>\n",
       "      <td>Mailed check</td>\n",
       "      <td>56.95</td>\n",
       "      <td>2071.84</td>\n",
       "      <td>No</td>\n",
       "      <td>0</td>\n",
       "    </tr>\n",
       "    <tr>\n",
       "      <th>3668-QPYBK</th>\n",
       "      <td>Male</td>\n",
       "      <td>0</td>\n",
       "      <td>No</td>\n",
       "      <td>No</td>\n",
       "      <td>DSL</td>\n",
       "      <td>Yes</td>\n",
       "      <td>Yes</td>\n",
       "      <td>No</td>\n",
       "      <td>No</td>\n",
       "      <td>No</td>\n",
       "      <td>No</td>\n",
       "      <td>2019-10-01</td>\n",
       "      <td>No</td>\n",
       "      <td>Month-to-month</td>\n",
       "      <td>Yes</td>\n",
       "      <td>Mailed check</td>\n",
       "      <td>53.85</td>\n",
       "      <td>226.17</td>\n",
       "      <td>No</td>\n",
       "      <td>0</td>\n",
       "    </tr>\n",
       "    <tr>\n",
       "      <th>7795-CFOCW</th>\n",
       "      <td>Male</td>\n",
       "      <td>0</td>\n",
       "      <td>No</td>\n",
       "      <td>No</td>\n",
       "      <td>DSL</td>\n",
       "      <td>Yes</td>\n",
       "      <td>No</td>\n",
       "      <td>Yes</td>\n",
       "      <td>Yes</td>\n",
       "      <td>No</td>\n",
       "      <td>No</td>\n",
       "      <td>2016-05-01</td>\n",
       "      <td>No</td>\n",
       "      <td>One year</td>\n",
       "      <td>No</td>\n",
       "      <td>Bank transfer (automatic)</td>\n",
       "      <td>42.30</td>\n",
       "      <td>1960.6</td>\n",
       "      <td>NaN</td>\n",
       "      <td>0</td>\n",
       "    </tr>\n",
       "    <tr>\n",
       "      <th>9237-HQITU</th>\n",
       "      <td>Female</td>\n",
       "      <td>0</td>\n",
       "      <td>No</td>\n",
       "      <td>No</td>\n",
       "      <td>Fiber optic</td>\n",
       "      <td>No</td>\n",
       "      <td>No</td>\n",
       "      <td>No</td>\n",
       "      <td>No</td>\n",
       "      <td>No</td>\n",
       "      <td>No</td>\n",
       "      <td>2019-09-01</td>\n",
       "      <td>No</td>\n",
       "      <td>Month-to-month</td>\n",
       "      <td>Yes</td>\n",
       "      <td>Electronic check</td>\n",
       "      <td>70.70</td>\n",
       "      <td>353.5</td>\n",
       "      <td>No</td>\n",
       "      <td>0</td>\n",
       "    </tr>\n",
       "  </tbody>\n",
       "</table>\n",
       "</div>"
      ],
      "text/plain": [
       "            gender  SeniorCitizen Partner Dependents InternetService  \\\n",
       "customerID                                                             \n",
       "7590-VHVEG  Female              0     Yes         No             DSL   \n",
       "5575-GNVDE    Male              0      No         No             DSL   \n",
       "3668-QPYBK    Male              0      No         No             DSL   \n",
       "7795-CFOCW    Male              0      No         No             DSL   \n",
       "9237-HQITU  Female              0      No         No     Fiber optic   \n",
       "\n",
       "           OnlineSecurity OnlineBackup DeviceProtection TechSupport  \\\n",
       "customerID                                                            \n",
       "7590-VHVEG             No          Yes               No          No   \n",
       "5575-GNVDE            Yes           No              Yes          No   \n",
       "3668-QPYBK            Yes          Yes               No          No   \n",
       "7795-CFOCW            Yes           No              Yes         Yes   \n",
       "9237-HQITU             No           No               No          No   \n",
       "\n",
       "           StreamingTV StreamingMovies   BeginDate EndDate            Type  \\\n",
       "customerID                                                                   \n",
       "7590-VHVEG          No              No  2020-01-01      No  Month-to-month   \n",
       "5575-GNVDE          No              No  2017-04-01      No        One year   \n",
       "3668-QPYBK          No              No  2019-10-01      No  Month-to-month   \n",
       "7795-CFOCW          No              No  2016-05-01      No        One year   \n",
       "9237-HQITU          No              No  2019-09-01      No  Month-to-month   \n",
       "\n",
       "           PaperlessBilling              PaymentMethod  MonthlyCharges  \\\n",
       "customerID                                                               \n",
       "7590-VHVEG              Yes           Electronic check           29.85   \n",
       "5575-GNVDE               No               Mailed check           56.95   \n",
       "3668-QPYBK              Yes               Mailed check           53.85   \n",
       "7795-CFOCW               No  Bank transfer (automatic)           42.30   \n",
       "9237-HQITU              Yes           Electronic check           70.70   \n",
       "\n",
       "           TotalCharges MultipleLines  target  \n",
       "customerID                                     \n",
       "7590-VHVEG        31.04           NaN       0  \n",
       "5575-GNVDE      2071.84            No       0  \n",
       "3668-QPYBK       226.17            No       0  \n",
       "7795-CFOCW       1960.6           NaN       0  \n",
       "9237-HQITU        353.5            No       0  "
      ]
     },
     "execution_count": 14,
     "metadata": {},
     "output_type": "execute_result"
    }
   ],
   "source": [
    "#сразу выделим целевой признак\n",
    "def target(enddate):\n",
    "    if enddate == 'No':\n",
    "        return 0\n",
    "    else:\n",
    "        return 1\n",
    "\n",
    "data['target'] = data['EndDate'].apply(target)\n",
    "data.loc[data['target']==0].head()"
   ]
  },
  {
   "cell_type": "code",
   "execution_count": 15,
   "metadata": {},
   "outputs": [],
   "source": [
    "#займемся сначала врременны'ми признаками\n",
    "data['BeginDate'] = pd.to_datetime(data['BeginDate'],format='%Y-%m-%d')\n",
    "data['EndDate'] = pd.to_datetime(data['EndDate'], errors='coerce', format='%Y-%m-%d')"
   ]
  },
  {
   "cell_type": "code",
   "execution_count": 16,
   "metadata": {},
   "outputs": [
    {
     "name": "stdout",
     "output_type": "stream",
     "text": [
      "<class 'pandas.core.frame.DataFrame'>\n",
      "Index: 7043 entries, 7590-VHVEG to 3186-AJIEK\n",
      "Data columns (total 2 columns):\n",
      " #   Column   Non-Null Count  Dtype         \n",
      "---  ------   --------------  -----         \n",
      " 0   EndDate  1101 non-null   datetime64[ns]\n",
      " 1   target   7043 non-null   int64         \n",
      "dtypes: datetime64[ns](1), int64(1)\n",
      "memory usage: 165.1+ KB\n"
     ]
    }
   ],
   "source": [
    "data[['EndDate','target']].info()"
   ]
  },
  {
   "cell_type": "code",
   "execution_count": 17,
   "metadata": {},
   "outputs": [],
   "source": [
    "data['EndDate'] = data['EndDate'].fillna('2020-02-01')\n",
    "data['EndDate'] = pd.to_datetime(data['EndDate'], format='%Y-%m-%d')"
   ]
  },
  {
   "cell_type": "code",
   "execution_count": 18,
   "metadata": {},
   "outputs": [],
   "source": [
    "data['duration'] = (data['EndDate'] - data['BeginDate']).dt.days"
   ]
  },
  {
   "cell_type": "code",
   "execution_count": 19,
   "metadata": {},
   "outputs": [
    {
     "name": "stdout",
     "output_type": "stream",
     "text": [
      "            BeginDate    EndDate  duration  target\n",
      "customerID                                        \n",
      "7590-VHVEG 2020-01-01 2020-02-01        31       0\n",
      "5575-GNVDE 2017-04-01 2020-02-01      1036       0\n",
      "3668-QPYBK 2019-10-01 2020-02-01       123       0\n",
      "7795-CFOCW 2016-05-01 2020-02-01      1371       0\n",
      "9237-HQITU 2019-09-01 2020-02-01       153       0\n",
      "------------------------------------------------------------\n",
      "<class 'pandas.core.frame.DataFrame'>\n",
      "Index: 7043 entries, 7590-VHVEG to 3186-AJIEK\n",
      "Data columns (total 4 columns):\n",
      " #   Column     Non-Null Count  Dtype         \n",
      "---  ------     --------------  -----         \n",
      " 0   BeginDate  7043 non-null   datetime64[ns]\n",
      " 1   EndDate    7043 non-null   datetime64[ns]\n",
      " 2   duration   7043 non-null   int64         \n",
      " 3   target     7043 non-null   int64         \n",
      "dtypes: datetime64[ns](2), int64(2)\n",
      "memory usage: 275.1+ KB\n",
      "None\n"
     ]
    }
   ],
   "source": [
    "inspection(data[['BeginDate', 'EndDate', 'duration', 'target']])"
   ]
  },
  {
   "cell_type": "code",
   "execution_count": 20,
   "metadata": {},
   "outputs": [],
   "source": [
    "#удалим ненужные теперь данные\n",
    "data.drop(['EndDate', 'BeginDate'], axis=1, inplace=True)"
   ]
  },
  {
   "cell_type": "code",
   "execution_count": 21,
   "metadata": {},
   "outputs": [
    {
     "name": "stdout",
     "output_type": "stream",
     "text": [
      "InternetService ['DSL' 'Fiber optic']\n",
      "OnlineSecurity ['No' 'Yes']\n",
      "OnlineBackup ['Yes' 'No']\n",
      "DeviceProtection ['No' 'Yes']\n",
      "TechSupport ['No' 'Yes']\n",
      "StreamingTV ['No' 'Yes']\n",
      "StreamingMovies ['No' 'Yes']\n"
     ]
    }
   ],
   "source": [
    "#Добавил мои рассуждения и строку с проверкой уникальных категориальных значений в столбцах связанных с интернетом\n",
    "for i in internet.columns:\n",
    "    print(i, internet[i].unique())"
   ]
  },
  {
   "cell_type": "markdown",
   "metadata": {},
   "source": [
    "Видим, что в столбцах, связанных с интернетом не так много категориальных значений, в 6 из 7 из них булевы значения. соответсвенно, можем заполнить пропуски в данных слобцах заглушкой 'no_internet', так как логически она пбудет соответствовать данным - клиент скорее всего попросту не пользуется интернетом, а использует только телефонию."
   ]
  },
  {
   "cell_type": "code",
   "execution_count": 22,
   "metadata": {},
   "outputs": [],
   "source": [
    "#заполним пропуски в стобцах, связанных с интернетом\n",
    "for i in internet.columns:\n",
    "        data[i] = data[i].fillna('no_internet')"
   ]
  },
  {
   "cell_type": "code",
   "execution_count": 23,
   "metadata": {},
   "outputs": [
    {
     "name": "stdout",
     "output_type": "stream",
     "text": [
      "MultipleLines ['No' 'Yes']\n"
     ]
    }
   ],
   "source": [
    "for i in phone.columns:\n",
    "    print(i, phone[i].unique())"
   ]
  },
  {
   "cell_type": "code",
   "execution_count": 24,
   "metadata": {},
   "outputs": [],
   "source": [
    "#аналогично интернету заполним пропуски в стобцах, связанных с телефонией\n",
    "data['MultipleLines'] = data['MultipleLines'].fillna('no_phone')"
   ]
  },
  {
   "cell_type": "code",
   "execution_count": 25,
   "metadata": {},
   "outputs": [],
   "source": [
    "#создадим доп прзнаки\n",
    "data['internet'] ='Yes'\n",
    "data.loc[(data.InternetService == 'no_internet'), 'internet'] = 'No'\n",
    "\n",
    "data['phone'] ='Yes'\n",
    "data.loc[(data.MultipleLines == 'no_phone'), 'phone'] = 'No'"
   ]
  },
  {
   "cell_type": "code",
   "execution_count": 26,
   "metadata": {},
   "outputs": [
    {
     "name": "stdout",
     "output_type": "stream",
     "text": [
      "<class 'pandas.core.frame.DataFrame'>\n",
      "Index: 7043 entries, 7590-VHVEG to 3186-AJIEK\n",
      "Data columns (total 21 columns):\n",
      " #   Column            Non-Null Count  Dtype  \n",
      "---  ------            --------------  -----  \n",
      " 0   gender            7043 non-null   object \n",
      " 1   SeniorCitizen     7043 non-null   int64  \n",
      " 2   Partner           7043 non-null   object \n",
      " 3   Dependents        7043 non-null   object \n",
      " 4   InternetService   7043 non-null   object \n",
      " 5   OnlineSecurity    7043 non-null   object \n",
      " 6   OnlineBackup      7043 non-null   object \n",
      " 7   DeviceProtection  7043 non-null   object \n",
      " 8   TechSupport       7043 non-null   object \n",
      " 9   StreamingTV       7043 non-null   object \n",
      " 10  StreamingMovies   7043 non-null   object \n",
      " 11  Type              7043 non-null   object \n",
      " 12  PaperlessBilling  7043 non-null   object \n",
      " 13  PaymentMethod     7043 non-null   object \n",
      " 14  MonthlyCharges    7043 non-null   float64\n",
      " 15  TotalCharges      7043 non-null   object \n",
      " 16  MultipleLines     7043 non-null   object \n",
      " 17  target            7043 non-null   int64  \n",
      " 18  duration          7043 non-null   int64  \n",
      " 19  internet          7043 non-null   object \n",
      " 20  phone             7043 non-null   object \n",
      "dtypes: float64(1), int64(3), object(17)\n",
      "memory usage: 1.2+ MB\n"
     ]
    }
   ],
   "source": [
    "data.info()"
   ]
  },
  {
   "cell_type": "code",
   "execution_count": 27,
   "metadata": {},
   "outputs": [],
   "source": [
    "def convert_float(cell):\n",
    "    try:\n",
    "        return float(cell)\n",
    "    except:\n",
    "        return None\n",
    "data['TotalCharges'] = data['TotalCharges'].apply(convert_float)"
   ]
  },
  {
   "cell_type": "code",
   "execution_count": 28,
   "metadata": {},
   "outputs": [
    {
     "name": "stdout",
     "output_type": "stream",
     "text": [
      "<class 'pandas.core.frame.DataFrame'>\n",
      "Index: 7043 entries, 7590-VHVEG to 3186-AJIEK\n",
      "Data columns (total 2 columns):\n",
      " #   Column        Non-Null Count  Dtype  \n",
      "---  ------        --------------  -----  \n",
      " 0   TotalCharges  7032 non-null   float64\n",
      " 1   Dependents    7043 non-null   object \n",
      "dtypes: float64(1), object(1)\n",
      "memory usage: 165.1+ KB\n"
     ]
    }
   ],
   "source": [
    "data[['TotalCharges', 'Dependents']].info()"
   ]
  },
  {
   "cell_type": "code",
   "execution_count": 29,
   "metadata": {},
   "outputs": [],
   "source": [
    "data['TotalCharges'] = data['TotalCharges'].fillna(0)"
   ]
  },
  {
   "cell_type": "code",
   "execution_count": 30,
   "metadata": {},
   "outputs": [
    {
     "name": "stdout",
     "output_type": "stream",
     "text": [
      "<class 'pandas.core.frame.DataFrame'>\n",
      "Index: 7043 entries, 7590-VHVEG to 3186-AJIEK\n",
      "Data columns (total 21 columns):\n",
      " #   Column            Non-Null Count  Dtype  \n",
      "---  ------            --------------  -----  \n",
      " 0   gender            7043 non-null   object \n",
      " 1   SeniorCitizen     7043 non-null   int64  \n",
      " 2   Partner           7043 non-null   object \n",
      " 3   Dependents        7043 non-null   object \n",
      " 4   InternetService   7043 non-null   object \n",
      " 5   OnlineSecurity    7043 non-null   object \n",
      " 6   OnlineBackup      7043 non-null   object \n",
      " 7   DeviceProtection  7043 non-null   object \n",
      " 8   TechSupport       7043 non-null   object \n",
      " 9   StreamingTV       7043 non-null   object \n",
      " 10  StreamingMovies   7043 non-null   object \n",
      " 11  Type              7043 non-null   object \n",
      " 12  PaperlessBilling  7043 non-null   object \n",
      " 13  PaymentMethod     7043 non-null   object \n",
      " 14  MonthlyCharges    7043 non-null   float64\n",
      " 15  TotalCharges      7043 non-null   float64\n",
      " 16  MultipleLines     7043 non-null   object \n",
      " 17  target            7043 non-null   int64  \n",
      " 18  duration          7043 non-null   int64  \n",
      " 19  internet          7043 non-null   object \n",
      " 20  phone             7043 non-null   object \n",
      "dtypes: float64(2), int64(3), object(16)\n",
      "memory usage: 1.2+ MB\n"
     ]
    }
   ],
   "source": [
    "data.info()"
   ]
  },
  {
   "cell_type": "code",
   "execution_count": 31,
   "metadata": {},
   "outputs": [
    {
     "data": {
      "text/html": [
       "<div>\n",
       "<style scoped>\n",
       "    .dataframe tbody tr th:only-of-type {\n",
       "        vertical-align: middle;\n",
       "    }\n",
       "\n",
       "    .dataframe tbody tr th {\n",
       "        vertical-align: top;\n",
       "    }\n",
       "\n",
       "    .dataframe thead th {\n",
       "        text-align: right;\n",
       "    }\n",
       "</style>\n",
       "<table border=\"1\" class=\"dataframe\">\n",
       "  <thead>\n",
       "    <tr style=\"text-align: right;\">\n",
       "      <th></th>\n",
       "      <th>MonthlyCharges</th>\n",
       "      <th>TotalCharges</th>\n",
       "      <th>duration</th>\n",
       "    </tr>\n",
       "  </thead>\n",
       "  <tbody>\n",
       "    <tr>\n",
       "      <th>count</th>\n",
       "      <td>7043.000000</td>\n",
       "      <td>7043.000000</td>\n",
       "      <td>7043.000000</td>\n",
       "    </tr>\n",
       "    <tr>\n",
       "      <th>mean</th>\n",
       "      <td>64.761692</td>\n",
       "      <td>2115.312885</td>\n",
       "      <td>898.555729</td>\n",
       "    </tr>\n",
       "    <tr>\n",
       "      <th>std</th>\n",
       "      <td>30.090047</td>\n",
       "      <td>2112.742814</td>\n",
       "      <td>683.130510</td>\n",
       "    </tr>\n",
       "    <tr>\n",
       "      <th>min</th>\n",
       "      <td>18.250000</td>\n",
       "      <td>0.000000</td>\n",
       "      <td>0.000000</td>\n",
       "    </tr>\n",
       "    <tr>\n",
       "      <th>25%</th>\n",
       "      <td>35.500000</td>\n",
       "      <td>436.750000</td>\n",
       "      <td>276.000000</td>\n",
       "    </tr>\n",
       "    <tr>\n",
       "      <th>50%</th>\n",
       "      <td>70.350000</td>\n",
       "      <td>1343.350000</td>\n",
       "      <td>761.000000</td>\n",
       "    </tr>\n",
       "    <tr>\n",
       "      <th>75%</th>\n",
       "      <td>89.850000</td>\n",
       "      <td>3236.690000</td>\n",
       "      <td>1461.000000</td>\n",
       "    </tr>\n",
       "    <tr>\n",
       "      <th>max</th>\n",
       "      <td>118.750000</td>\n",
       "      <td>9221.380000</td>\n",
       "      <td>2314.000000</td>\n",
       "    </tr>\n",
       "  </tbody>\n",
       "</table>\n",
       "</div>"
      ],
      "text/plain": [
       "       MonthlyCharges  TotalCharges     duration\n",
       "count     7043.000000   7043.000000  7043.000000\n",
       "mean        64.761692   2115.312885   898.555729\n",
       "std         30.090047   2112.742814   683.130510\n",
       "min         18.250000      0.000000     0.000000\n",
       "25%         35.500000    436.750000   276.000000\n",
       "50%         70.350000   1343.350000   761.000000\n",
       "75%         89.850000   3236.690000  1461.000000\n",
       "max        118.750000   9221.380000  2314.000000"
      ]
     },
     "execution_count": 31,
     "metadata": {},
     "output_type": "execute_result"
    }
   ],
   "source": [
    "data[['MonthlyCharges', 'TotalCharges', 'duration']].describe()"
   ]
  },
  {
   "cell_type": "markdown",
   "metadata": {},
   "source": [
    "1) Данные обработаны, из нашего и так небольшого датафрейма не было удалено ни одной строки. \n",
    "2) Пропуски были заполнены заглушками (в столбцах по интернету и телефонии) и нулями в столбце TotalCharges. \n",
    "3) Было добавлено 3 новых признака (duration, internet, phone) и выделен целевой (target). \n",
    "\n",
    "Далее проведем анализ корреляции признаков с целевым, и рассмотри распределение значений данных признаков."
   ]
  },
  {
   "cell_type": "markdown",
   "metadata": {},
   "source": [
    "## EDA"
   ]
  },
  {
   "cell_type": "code",
   "execution_count": 32,
   "metadata": {},
   "outputs": [
    {
     "data": {
      "text/html": [
       "<style  type=\"text/css\" >\n",
       "#T_27dca_row0_col0,#T_27dca_row1_col1,#T_27dca_row2_col2,#T_27dca_row3_col3,#T_27dca_row4_col4,#T_27dca_row4_col5,#T_27dca_row4_col6,#T_27dca_row4_col7,#T_27dca_row4_col8,#T_27dca_row4_col9,#T_27dca_row4_col10,#T_27dca_row4_col14,#T_27dca_row4_col19,#T_27dca_row5_col4,#T_27dca_row5_col5,#T_27dca_row5_col6,#T_27dca_row5_col7,#T_27dca_row5_col8,#T_27dca_row5_col9,#T_27dca_row5_col10,#T_27dca_row5_col19,#T_27dca_row6_col4,#T_27dca_row6_col5,#T_27dca_row6_col6,#T_27dca_row6_col7,#T_27dca_row6_col8,#T_27dca_row6_col9,#T_27dca_row6_col10,#T_27dca_row6_col19,#T_27dca_row7_col4,#T_27dca_row7_col5,#T_27dca_row7_col6,#T_27dca_row7_col7,#T_27dca_row7_col8,#T_27dca_row7_col9,#T_27dca_row7_col10,#T_27dca_row7_col19,#T_27dca_row8_col4,#T_27dca_row8_col5,#T_27dca_row8_col6,#T_27dca_row8_col7,#T_27dca_row8_col8,#T_27dca_row8_col9,#T_27dca_row8_col10,#T_27dca_row8_col19,#T_27dca_row9_col4,#T_27dca_row9_col5,#T_27dca_row9_col6,#T_27dca_row9_col7,#T_27dca_row9_col8,#T_27dca_row9_col9,#T_27dca_row9_col10,#T_27dca_row9_col19,#T_27dca_row10_col4,#T_27dca_row10_col5,#T_27dca_row10_col6,#T_27dca_row10_col7,#T_27dca_row10_col8,#T_27dca_row10_col9,#T_27dca_row10_col10,#T_27dca_row10_col19,#T_27dca_row11_col11,#T_27dca_row12_col12,#T_27dca_row13_col13,#T_27dca_row14_col4,#T_27dca_row14_col14,#T_27dca_row14_col19,#T_27dca_row15_col15,#T_27dca_row16_col16,#T_27dca_row16_col20,#T_27dca_row17_col17,#T_27dca_row18_col18,#T_27dca_row19_col4,#T_27dca_row19_col5,#T_27dca_row19_col6,#T_27dca_row19_col7,#T_27dca_row19_col8,#T_27dca_row19_col9,#T_27dca_row19_col10,#T_27dca_row19_col14,#T_27dca_row19_col19,#T_27dca_row20_col16,#T_27dca_row20_col20{\n",
       "            background-color:  #e41a1c;\n",
       "            color:  #f1f1f1;\n",
       "        }#T_27dca_row0_col1,#T_27dca_row0_col2,#T_27dca_row0_col3,#T_27dca_row0_col4,#T_27dca_row0_col5,#T_27dca_row0_col6,#T_27dca_row0_col7,#T_27dca_row0_col8,#T_27dca_row0_col9,#T_27dca_row0_col10,#T_27dca_row0_col11,#T_27dca_row0_col12,#T_27dca_row0_col13,#T_27dca_row0_col14,#T_27dca_row0_col15,#T_27dca_row0_col16,#T_27dca_row0_col17,#T_27dca_row0_col18,#T_27dca_row0_col19,#T_27dca_row0_col20,#T_27dca_row1_col0,#T_27dca_row1_col2,#T_27dca_row1_col6,#T_27dca_row1_col7,#T_27dca_row1_col11,#T_27dca_row1_col16,#T_27dca_row1_col17,#T_27dca_row1_col18,#T_27dca_row1_col20,#T_27dca_row2_col0,#T_27dca_row2_col1,#T_27dca_row2_col4,#T_27dca_row2_col5,#T_27dca_row2_col6,#T_27dca_row2_col7,#T_27dca_row2_col8,#T_27dca_row2_col9,#T_27dca_row2_col10,#T_27dca_row2_col12,#T_27dca_row2_col16,#T_27dca_row2_col19,#T_27dca_row2_col20,#T_27dca_row3_col0,#T_27dca_row3_col4,#T_27dca_row3_col6,#T_27dca_row3_col7,#T_27dca_row3_col8,#T_27dca_row3_col9,#T_27dca_row3_col10,#T_27dca_row3_col15,#T_27dca_row3_col16,#T_27dca_row3_col17,#T_27dca_row3_col20,#T_27dca_row4_col0,#T_27dca_row4_col2,#T_27dca_row4_col3,#T_27dca_row4_col17,#T_27dca_row4_col18,#T_27dca_row5_col0,#T_27dca_row5_col2,#T_27dca_row5_col17,#T_27dca_row5_col20,#T_27dca_row6_col0,#T_27dca_row6_col1,#T_27dca_row6_col2,#T_27dca_row6_col3,#T_27dca_row6_col17,#T_27dca_row6_col20,#T_27dca_row7_col0,#T_27dca_row7_col1,#T_27dca_row7_col2,#T_27dca_row7_col3,#T_27dca_row7_col17,#T_27dca_row7_col20,#T_27dca_row8_col0,#T_27dca_row8_col2,#T_27dca_row8_col3,#T_27dca_row8_col17,#T_27dca_row8_col20,#T_27dca_row9_col0,#T_27dca_row9_col2,#T_27dca_row9_col3,#T_27dca_row9_col17,#T_27dca_row9_col20,#T_27dca_row10_col0,#T_27dca_row10_col2,#T_27dca_row10_col3,#T_27dca_row10_col17,#T_27dca_row10_col20,#T_27dca_row11_col0,#T_27dca_row11_col1,#T_27dca_row11_col12,#T_27dca_row11_col17,#T_27dca_row11_col20,#T_27dca_row12_col0,#T_27dca_row12_col2,#T_27dca_row12_col11,#T_27dca_row12_col16,#T_27dca_row12_col17,#T_27dca_row12_col18,#T_27dca_row12_col20,#T_27dca_row13_col0,#T_27dca_row13_col20,#T_27dca_row14_col0,#T_27dca_row15_col0,#T_27dca_row15_col3,#T_27dca_row16_col0,#T_27dca_row16_col1,#T_27dca_row16_col2,#T_27dca_row16_col3,#T_27dca_row16_col12,#T_27dca_row16_col17,#T_27dca_row17_col0,#T_27dca_row17_col1,#T_27dca_row17_col3,#T_27dca_row17_col4,#T_27dca_row17_col5,#T_27dca_row17_col6,#T_27dca_row17_col7,#T_27dca_row17_col8,#T_27dca_row17_col9,#T_27dca_row17_col10,#T_27dca_row17_col11,#T_27dca_row17_col12,#T_27dca_row17_col16,#T_27dca_row17_col20,#T_27dca_row18_col0,#T_27dca_row18_col1,#T_27dca_row18_col4,#T_27dca_row18_col12,#T_27dca_row18_col19,#T_27dca_row18_col20,#T_27dca_row19_col0,#T_27dca_row19_col2,#T_27dca_row19_col18,#T_27dca_row20_col0,#T_27dca_row20_col1,#T_27dca_row20_col2,#T_27dca_row20_col3,#T_27dca_row20_col5,#T_27dca_row20_col6,#T_27dca_row20_col7,#T_27dca_row20_col8,#T_27dca_row20_col9,#T_27dca_row20_col10,#T_27dca_row20_col11,#T_27dca_row20_col12,#T_27dca_row20_col13,#T_27dca_row20_col17,#T_27dca_row20_col18{\n",
       "            background-color:  #999999;\n",
       "            color:  #000000;\n",
       "        }#T_27dca_row1_col3,#T_27dca_row1_col12,#T_27dca_row1_col13,#T_27dca_row1_col14,#T_27dca_row1_col19,#T_27dca_row2_col13,#T_27dca_row2_col17,#T_27dca_row3_col1,#T_27dca_row3_col13,#T_27dca_row4_col12,#T_27dca_row4_col13,#T_27dca_row4_col20,#T_27dca_row5_col13,#T_27dca_row6_col13,#T_27dca_row7_col13,#T_27dca_row8_col13,#T_27dca_row9_col13,#T_27dca_row9_col18,#T_27dca_row10_col13,#T_27dca_row10_col18,#T_27dca_row11_col13,#T_27dca_row11_col16,#T_27dca_row12_col1,#T_27dca_row12_col4,#T_27dca_row13_col1,#T_27dca_row13_col2,#T_27dca_row13_col3,#T_27dca_row13_col4,#T_27dca_row13_col5,#T_27dca_row13_col6,#T_27dca_row13_col7,#T_27dca_row13_col8,#T_27dca_row13_col9,#T_27dca_row13_col10,#T_27dca_row13_col11,#T_27dca_row14_col1,#T_27dca_row14_col17,#T_27dca_row15_col17,#T_27dca_row16_col11,#T_27dca_row17_col2,#T_27dca_row17_col15,#T_27dca_row18_col9,#T_27dca_row18_col10,#T_27dca_row19_col1,#T_27dca_row19_col20,#T_27dca_row20_col4,#T_27dca_row20_col19{\n",
       "            background-color:  #a65628;\n",
       "            color:  #f1f1f1;\n",
       "        }#T_27dca_row1_col4,#T_27dca_row1_col5,#T_27dca_row1_col8,#T_27dca_row1_col9,#T_27dca_row1_col10,#T_27dca_row1_col15,#T_27dca_row2_col11,#T_27dca_row2_col14,#T_27dca_row3_col5,#T_27dca_row3_col11,#T_27dca_row3_col12,#T_27dca_row3_col14,#T_27dca_row3_col18,#T_27dca_row3_col19,#T_27dca_row4_col1,#T_27dca_row5_col1,#T_27dca_row5_col3,#T_27dca_row5_col12,#T_27dca_row6_col12,#T_27dca_row7_col12,#T_27dca_row8_col1,#T_27dca_row8_col12,#T_27dca_row9_col1,#T_27dca_row9_col12,#T_27dca_row10_col1,#T_27dca_row10_col12,#T_27dca_row11_col2,#T_27dca_row11_col3,#T_27dca_row11_col19,#T_27dca_row12_col3,#T_27dca_row12_col5,#T_27dca_row12_col6,#T_27dca_row12_col7,#T_27dca_row12_col8,#T_27dca_row12_col9,#T_27dca_row12_col10,#T_27dca_row12_col15,#T_27dca_row13_col16,#T_27dca_row13_col17,#T_27dca_row14_col2,#T_27dca_row14_col3,#T_27dca_row15_col1,#T_27dca_row15_col12,#T_27dca_row15_col20,#T_27dca_row16_col13,#T_27dca_row16_col19,#T_27dca_row17_col13,#T_27dca_row17_col14,#T_27dca_row17_col19,#T_27dca_row18_col3,#T_27dca_row19_col3,#T_27dca_row19_col11,#T_27dca_row19_col16,#T_27dca_row19_col17,#T_27dca_row20_col15{\n",
       "            background-color:  #f781bf;\n",
       "            color:  #000000;\n",
       "        }#T_27dca_row2_col3,#T_27dca_row3_col2,#T_27dca_row5_col11,#T_27dca_row6_col11,#T_27dca_row6_col16,#T_27dca_row7_col11,#T_27dca_row7_col15,#T_27dca_row7_col16,#T_27dca_row9_col16,#T_27dca_row10_col16,#T_27dca_row11_col5,#T_27dca_row11_col6,#T_27dca_row11_col7,#T_27dca_row11_col18,#T_27dca_row15_col7,#T_27dca_row16_col6,#T_27dca_row16_col7,#T_27dca_row16_col9,#T_27dca_row16_col10,#T_27dca_row18_col11{\n",
       "            background-color:  #984ea3;\n",
       "            color:  #f1f1f1;\n",
       "        }#T_27dca_row2_col15,#T_27dca_row5_col18,#T_27dca_row6_col18,#T_27dca_row7_col18,#T_27dca_row8_col18,#T_27dca_row11_col14,#T_27dca_row12_col13,#T_27dca_row13_col12,#T_27dca_row13_col14,#T_27dca_row13_col15,#T_27dca_row13_col18,#T_27dca_row14_col11,#T_27dca_row14_col13,#T_27dca_row14_col18,#T_27dca_row15_col2,#T_27dca_row15_col13,#T_27dca_row16_col18,#T_27dca_row17_col18,#T_27dca_row18_col5,#T_27dca_row18_col6,#T_27dca_row18_col7,#T_27dca_row18_col8,#T_27dca_row18_col13,#T_27dca_row18_col14,#T_27dca_row18_col16,#T_27dca_row18_col17{\n",
       "            background-color:  #ffff33;\n",
       "            color:  #000000;\n",
       "        }#T_27dca_row2_col18,#T_27dca_row4_col11,#T_27dca_row4_col15,#T_27dca_row5_col15,#T_27dca_row5_col16,#T_27dca_row6_col15,#T_27dca_row8_col15,#T_27dca_row8_col16,#T_27dca_row9_col11,#T_27dca_row9_col15,#T_27dca_row10_col11,#T_27dca_row10_col15,#T_27dca_row11_col4,#T_27dca_row11_col9,#T_27dca_row11_col10,#T_27dca_row11_col15,#T_27dca_row12_col14,#T_27dca_row12_col19,#T_27dca_row13_col19,#T_27dca_row14_col12,#T_27dca_row15_col4,#T_27dca_row15_col5,#T_27dca_row15_col6,#T_27dca_row15_col8,#T_27dca_row15_col9,#T_27dca_row15_col10,#T_27dca_row15_col11,#T_27dca_row15_col16,#T_27dca_row15_col19,#T_27dca_row16_col5,#T_27dca_row16_col8,#T_27dca_row16_col15,#T_27dca_row18_col2,#T_27dca_row19_col12,#T_27dca_row19_col13,#T_27dca_row19_col15{\n",
       "            background-color:  #ff7f00;\n",
       "            color:  #000000;\n",
       "        }#T_27dca_row4_col16,#T_27dca_row8_col11,#T_27dca_row11_col8,#T_27dca_row14_col15,#T_27dca_row14_col16,#T_27dca_row15_col14,#T_27dca_row16_col4,#T_27dca_row16_col14{\n",
       "            background-color:  #4daf4a;\n",
       "            color:  #000000;\n",
       "        }#T_27dca_row5_col14,#T_27dca_row6_col14,#T_27dca_row7_col14,#T_27dca_row8_col14,#T_27dca_row9_col14,#T_27dca_row10_col14,#T_27dca_row14_col5,#T_27dca_row14_col6,#T_27dca_row14_col7,#T_27dca_row14_col8,#T_27dca_row14_col9,#T_27dca_row14_col10,#T_27dca_row14_col20,#T_27dca_row15_col18,#T_27dca_row18_col15,#T_27dca_row20_col14{\n",
       "            background-color:  #377eb8;\n",
       "            color:  #000000;\n",
       "        }</style><table id=\"T_27dca_\" ><thead>    <tr>        <th class=\"blank level0\" ></th>        <th class=\"col_heading level0 col0\" >gender</th>        <th class=\"col_heading level0 col1\" >SeniorCitizen</th>        <th class=\"col_heading level0 col2\" >Partner</th>        <th class=\"col_heading level0 col3\" >Dependents</th>        <th class=\"col_heading level0 col4\" >InternetService</th>        <th class=\"col_heading level0 col5\" >OnlineSecurity</th>        <th class=\"col_heading level0 col6\" >OnlineBackup</th>        <th class=\"col_heading level0 col7\" >DeviceProtection</th>        <th class=\"col_heading level0 col8\" >TechSupport</th>        <th class=\"col_heading level0 col9\" >StreamingTV</th>        <th class=\"col_heading level0 col10\" >StreamingMovies</th>        <th class=\"col_heading level0 col11\" >Type</th>        <th class=\"col_heading level0 col12\" >PaperlessBilling</th>        <th class=\"col_heading level0 col13\" >PaymentMethod</th>        <th class=\"col_heading level0 col14\" >MonthlyCharges</th>        <th class=\"col_heading level0 col15\" >TotalCharges</th>        <th class=\"col_heading level0 col16\" >MultipleLines</th>        <th class=\"col_heading level0 col17\" >target</th>        <th class=\"col_heading level0 col18\" >duration</th>        <th class=\"col_heading level0 col19\" >internet</th>        <th class=\"col_heading level0 col20\" >phone</th>    </tr></thead><tbody>\n",
       "                <tr>\n",
       "                        <th id=\"T_27dca_level0_row0\" class=\"row_heading level0 row0\" >gender</th>\n",
       "                        <td id=\"T_27dca_row0_col0\" class=\"data row0 col0\" >1.000000</td>\n",
       "                        <td id=\"T_27dca_row0_col1\" class=\"data row0 col1\" >0.000000</td>\n",
       "                        <td id=\"T_27dca_row0_col2\" class=\"data row0 col2\" >0.000000</td>\n",
       "                        <td id=\"T_27dca_row0_col3\" class=\"data row0 col3\" >0.000000</td>\n",
       "                        <td id=\"T_27dca_row0_col4\" class=\"data row0 col4\" >0.000000</td>\n",
       "                        <td id=\"T_27dca_row0_col5\" class=\"data row0 col5\" >0.001460</td>\n",
       "                        <td id=\"T_27dca_row0_col6\" class=\"data row0 col6\" >0.000000</td>\n",
       "                        <td id=\"T_27dca_row0_col7\" class=\"data row0 col7\" >0.000000</td>\n",
       "                        <td id=\"T_27dca_row0_col8\" class=\"data row0 col8\" >0.000000</td>\n",
       "                        <td id=\"T_27dca_row0_col9\" class=\"data row0 col9\" >0.000000</td>\n",
       "                        <td id=\"T_27dca_row0_col10\" class=\"data row0 col10\" >0.000000</td>\n",
       "                        <td id=\"T_27dca_row0_col11\" class=\"data row0 col11\" >0.000000</td>\n",
       "                        <td id=\"T_27dca_row0_col12\" class=\"data row0 col12\" >0.000000</td>\n",
       "                        <td id=\"T_27dca_row0_col13\" class=\"data row0 col13\" >0.000000</td>\n",
       "                        <td id=\"T_27dca_row0_col14\" class=\"data row0 col14\" >0.008175</td>\n",
       "                        <td id=\"T_27dca_row0_col15\" class=\"data row0 col15\" >0.000000</td>\n",
       "                        <td id=\"T_27dca_row0_col16\" class=\"data row0 col16\" >0.000000</td>\n",
       "                        <td id=\"T_27dca_row0_col17\" class=\"data row0 col17\" >0.008581</td>\n",
       "                        <td id=\"T_27dca_row0_col18\" class=\"data row0 col18\" >0.000000</td>\n",
       "                        <td id=\"T_27dca_row0_col19\" class=\"data row0 col19\" >0.000000</td>\n",
       "                        <td id=\"T_27dca_row0_col20\" class=\"data row0 col20\" >0.000000</td>\n",
       "            </tr>\n",
       "            <tr>\n",
       "                        <th id=\"T_27dca_level0_row1\" class=\"row_heading level0 row1\" >SeniorCitizen</th>\n",
       "                        <td id=\"T_27dca_row1_col0\" class=\"data row1 col0\" >0.000000</td>\n",
       "                        <td id=\"T_27dca_row1_col1\" class=\"data row1 col1\" >1.000000</td>\n",
       "                        <td id=\"T_27dca_row1_col2\" class=\"data row1 col2\" >0.016992</td>\n",
       "                        <td id=\"T_27dca_row1_col3\" class=\"data row1 col3\" >0.324576</td>\n",
       "                        <td id=\"T_27dca_row1_col4\" class=\"data row1 col4\" >0.160702</td>\n",
       "                        <td id=\"T_27dca_row1_col5\" class=\"data row1 col5\" >0.127319</td>\n",
       "                        <td id=\"T_27dca_row1_col6\" class=\"data row1 col6\" >0.109995</td>\n",
       "                        <td id=\"T_27dca_row1_col7\" class=\"data row1 col7\" >0.110177</td>\n",
       "                        <td id=\"T_27dca_row1_col8\" class=\"data row1 col8\" >0.135283</td>\n",
       "                        <td id=\"T_27dca_row1_col9\" class=\"data row1 col9\" >0.111714</td>\n",
       "                        <td id=\"T_27dca_row1_col10\" class=\"data row1 col10\" >0.113778</td>\n",
       "                        <td id=\"T_27dca_row1_col11\" class=\"data row1 col11\" >0.086231</td>\n",
       "                        <td id=\"T_27dca_row1_col12\" class=\"data row1 col12\" >0.242133</td>\n",
       "                        <td id=\"T_27dca_row1_col13\" class=\"data row1 col13\" >0.292725</td>\n",
       "                        <td id=\"T_27dca_row1_col14\" class=\"data row1 col14\" >0.304985</td>\n",
       "                        <td id=\"T_27dca_row1_col15\" class=\"data row1 col15\" >0.135650</td>\n",
       "                        <td id=\"T_27dca_row1_col16\" class=\"data row1 col16\" >0.087925</td>\n",
       "                        <td id=\"T_27dca_row1_col17\" class=\"data row1 col17\" >0.086159</td>\n",
       "                        <td id=\"T_27dca_row1_col18\" class=\"data row1 col18\" >0.063315</td>\n",
       "                        <td id=\"T_27dca_row1_col19\" class=\"data row1 col19\" >0.281853</td>\n",
       "                        <td id=\"T_27dca_row1_col20\" class=\"data row1 col20\" >0.000000</td>\n",
       "            </tr>\n",
       "            <tr>\n",
       "                        <th id=\"T_27dca_level0_row2\" class=\"row_heading level0 row2\" >Partner</th>\n",
       "                        <td id=\"T_27dca_row2_col0\" class=\"data row2 col0\" >0.000000</td>\n",
       "                        <td id=\"T_27dca_row2_col1\" class=\"data row2 col1\" >0.016992</td>\n",
       "                        <td id=\"T_27dca_row2_col2\" class=\"data row2 col2\" >1.000000</td>\n",
       "                        <td id=\"T_27dca_row2_col3\" class=\"data row2 col3\" >0.652122</td>\n",
       "                        <td id=\"T_27dca_row2_col4\" class=\"data row2 col4\" >0.000000</td>\n",
       "                        <td id=\"T_27dca_row2_col5\" class=\"data row2 col5\" >0.091202</td>\n",
       "                        <td id=\"T_27dca_row2_col6\" class=\"data row2 col6\" >0.092012</td>\n",
       "                        <td id=\"T_27dca_row2_col7\" class=\"data row2 col7\" >0.100092</td>\n",
       "                        <td id=\"T_27dca_row2_col8\" class=\"data row2 col8\" >0.076326</td>\n",
       "                        <td id=\"T_27dca_row2_col9\" class=\"data row2 col9\" >0.082251</td>\n",
       "                        <td id=\"T_27dca_row2_col10\" class=\"data row2 col10\" >0.077506</td>\n",
       "                        <td id=\"T_27dca_row2_col11\" class=\"data row2 col11\" >0.179736</td>\n",
       "                        <td id=\"T_27dca_row2_col12\" class=\"data row2 col12\" >0.013218</td>\n",
       "                        <td id=\"T_27dca_row2_col13\" class=\"data row2 col13\" >0.243008</td>\n",
       "                        <td id=\"T_27dca_row2_col14\" class=\"data row2 col14\" >0.203545</td>\n",
       "                        <td id=\"T_27dca_row2_col15\" class=\"data row2 col15\" >0.381958</td>\n",
       "                        <td id=\"T_27dca_row2_col16\" class=\"data row2 col16\" >0.086249</td>\n",
       "                        <td id=\"T_27dca_row2_col17\" class=\"data row2 col17\" >0.226688</td>\n",
       "                        <td id=\"T_27dca_row2_col18\" class=\"data row2 col18\" >0.453688</td>\n",
       "                        <td id=\"T_27dca_row2_col19\" class=\"data row2 col19\" >0.000000</td>\n",
       "                        <td id=\"T_27dca_row2_col20\" class=\"data row2 col20\" >0.019540</td>\n",
       "            </tr>\n",
       "            <tr>\n",
       "                        <th id=\"T_27dca_level0_row3\" class=\"row_heading level0 row3\" >Dependents</th>\n",
       "                        <td id=\"T_27dca_row3_col0\" class=\"data row3 col0\" >0.000000</td>\n",
       "                        <td id=\"T_27dca_row3_col1\" class=\"data row3 col1\" >0.324576</td>\n",
       "                        <td id=\"T_27dca_row3_col2\" class=\"data row3 col2\" >0.652122</td>\n",
       "                        <td id=\"T_27dca_row3_col3\" class=\"data row3 col3\" >1.000000</td>\n",
       "                        <td id=\"T_27dca_row3_col4\" class=\"data row3 col4\" >0.108463</td>\n",
       "                        <td id=\"T_27dca_row3_col5\" class=\"data row3 col5\" >0.117219</td>\n",
       "                        <td id=\"T_27dca_row3_col6\" class=\"data row3 col6\" >0.097766</td>\n",
       "                        <td id=\"T_27dca_row3_col7\" class=\"data row3 col7\" >0.094597</td>\n",
       "                        <td id=\"T_27dca_row3_col8\" class=\"data row3 col8\" >0.109753</td>\n",
       "                        <td id=\"T_27dca_row3_col9\" class=\"data row3 col9\" >0.088193</td>\n",
       "                        <td id=\"T_27dca_row3_col10\" class=\"data row3 col10\" >0.084684</td>\n",
       "                        <td id=\"T_27dca_row3_col11\" class=\"data row3 col11\" >0.147680</td>\n",
       "                        <td id=\"T_27dca_row3_col12\" class=\"data row3 col12\" >0.172593</td>\n",
       "                        <td id=\"T_27dca_row3_col13\" class=\"data row3 col13\" >0.224903</td>\n",
       "                        <td id=\"T_27dca_row3_col14\" class=\"data row3 col14\" >0.184366</td>\n",
       "                        <td id=\"T_27dca_row3_col15\" class=\"data row3 col15\" >0.084247</td>\n",
       "                        <td id=\"T_27dca_row3_col16\" class=\"data row3 col16\" >0.011198</td>\n",
       "                        <td id=\"T_27dca_row3_col17\" class=\"data row3 col17\" >0.046871</td>\n",
       "                        <td id=\"T_27dca_row3_col18\" class=\"data row3 col18\" >0.198729</td>\n",
       "                        <td id=\"T_27dca_row3_col19\" class=\"data row3 col19\" >0.216514</td>\n",
       "                        <td id=\"T_27dca_row3_col20\" class=\"data row3 col20\" >0.000000</td>\n",
       "            </tr>\n",
       "            <tr>\n",
       "                        <th id=\"T_27dca_level0_row4\" class=\"row_heading level0 row4\" >InternetService</th>\n",
       "                        <td id=\"T_27dca_row4_col0\" class=\"data row4 col0\" >0.000000</td>\n",
       "                        <td id=\"T_27dca_row4_col1\" class=\"data row4 col1\" >0.160702</td>\n",
       "                        <td id=\"T_27dca_row4_col2\" class=\"data row4 col2\" >0.000000</td>\n",
       "                        <td id=\"T_27dca_row4_col3\" class=\"data row4 col3\" >0.108463</td>\n",
       "                        <td id=\"T_27dca_row4_col4\" class=\"data row4 col4\" >1.000000</td>\n",
       "                        <td id=\"T_27dca_row4_col5\" class=\"data row4 col5\" >0.949498</td>\n",
       "                        <td id=\"T_27dca_row4_col6\" class=\"data row4 col6\" >0.942842</td>\n",
       "                        <td id=\"T_27dca_row4_col7\" class=\"data row4 col7\" >0.942811</td>\n",
       "                        <td id=\"T_27dca_row4_col8\" class=\"data row4 col8\" >0.948914</td>\n",
       "                        <td id=\"T_27dca_row4_col9\" class=\"data row4 col9\" >0.946713</td>\n",
       "                        <td id=\"T_27dca_row4_col10\" class=\"data row4 col10\" >0.946294</td>\n",
       "                        <td id=\"T_27dca_row4_col11\" class=\"data row4 col11\" >0.505187</td>\n",
       "                        <td id=\"T_27dca_row4_col12\" class=\"data row4 col12\" >0.231438</td>\n",
       "                        <td id=\"T_27dca_row4_col13\" class=\"data row4 col13\" >0.323886</td>\n",
       "                        <td id=\"T_27dca_row4_col14\" class=\"data row4 col14\" >0.919002</td>\n",
       "                        <td id=\"T_27dca_row4_col15\" class=\"data row4 col15\" >0.490081</td>\n",
       "                        <td id=\"T_27dca_row4_col16\" class=\"data row4 col16\" >0.739808</td>\n",
       "                        <td id=\"T_27dca_row4_col17\" class=\"data row4 col17\" >0.056621</td>\n",
       "                        <td id=\"T_27dca_row4_col18\" class=\"data row4 col18\" >0.060845</td>\n",
       "                        <td id=\"T_27dca_row4_col19\" class=\"data row4 col19\" >1.000000</td>\n",
       "                        <td id=\"T_27dca_row4_col20\" class=\"data row4 col20\" >0.278954</td>\n",
       "            </tr>\n",
       "            <tr>\n",
       "                        <th id=\"T_27dca_level0_row5\" class=\"row_heading level0 row5\" >OnlineSecurity</th>\n",
       "                        <td id=\"T_27dca_row5_col0\" class=\"data row5 col0\" >0.001460</td>\n",
       "                        <td id=\"T_27dca_row5_col1\" class=\"data row5 col1\" >0.127319</td>\n",
       "                        <td id=\"T_27dca_row5_col2\" class=\"data row5 col2\" >0.091202</td>\n",
       "                        <td id=\"T_27dca_row5_col3\" class=\"data row5 col3\" >0.117219</td>\n",
       "                        <td id=\"T_27dca_row5_col4\" class=\"data row5 col4\" >0.949498</td>\n",
       "                        <td id=\"T_27dca_row5_col5\" class=\"data row5 col5\" >1.000000</td>\n",
       "                        <td id=\"T_27dca_row5_col6\" class=\"data row5 col6\" >0.947224</td>\n",
       "                        <td id=\"T_27dca_row5_col7\" class=\"data row5 col7\" >0.946787</td>\n",
       "                        <td id=\"T_27dca_row5_col8\" class=\"data row5 col8\" >0.952651</td>\n",
       "                        <td id=\"T_27dca_row5_col9\" class=\"data row5 col9\" >0.943082</td>\n",
       "                        <td id=\"T_27dca_row5_col10\" class=\"data row5 col10\" >0.943248</td>\n",
       "                        <td id=\"T_27dca_row5_col11\" class=\"data row5 col11\" >0.636884</td>\n",
       "                        <td id=\"T_27dca_row5_col12\" class=\"data row5 col12\" >0.208320</td>\n",
       "                        <td id=\"T_27dca_row5_col13\" class=\"data row5 col13\" >0.315799</td>\n",
       "                        <td id=\"T_27dca_row5_col14\" class=\"data row5 col14\" >0.812632</td>\n",
       "                        <td id=\"T_27dca_row5_col15\" class=\"data row5 col15\" >0.516538</td>\n",
       "                        <td id=\"T_27dca_row5_col16\" class=\"data row5 col16\" >0.540261</td>\n",
       "                        <td id=\"T_27dca_row5_col17\" class=\"data row5 col17\" >0.058659</td>\n",
       "                        <td id=\"T_27dca_row5_col18\" class=\"data row5 col18\" >0.346398</td>\n",
       "                        <td id=\"T_27dca_row5_col19\" class=\"data row5 col19\" >1.000000</td>\n",
       "                        <td id=\"T_27dca_row5_col20\" class=\"data row5 col20\" >0.106021</td>\n",
       "            </tr>\n",
       "            <tr>\n",
       "                        <th id=\"T_27dca_level0_row6\" class=\"row_heading level0 row6\" >OnlineBackup</th>\n",
       "                        <td id=\"T_27dca_row6_col0\" class=\"data row6 col0\" >0.000000</td>\n",
       "                        <td id=\"T_27dca_row6_col1\" class=\"data row6 col1\" >0.109995</td>\n",
       "                        <td id=\"T_27dca_row6_col2\" class=\"data row6 col2\" >0.092012</td>\n",
       "                        <td id=\"T_27dca_row6_col3\" class=\"data row6 col3\" >0.097766</td>\n",
       "                        <td id=\"T_27dca_row6_col4\" class=\"data row6 col4\" >0.942842</td>\n",
       "                        <td id=\"T_27dca_row6_col5\" class=\"data row6 col5\" >0.947224</td>\n",
       "                        <td id=\"T_27dca_row6_col6\" class=\"data row6 col6\" >1.000000</td>\n",
       "                        <td id=\"T_27dca_row6_col7\" class=\"data row6 col7\" >0.947487</td>\n",
       "                        <td id=\"T_27dca_row6_col8\" class=\"data row6 col8\" >0.947756</td>\n",
       "                        <td id=\"T_27dca_row6_col9\" class=\"data row6 col9\" >0.945789</td>\n",
       "                        <td id=\"T_27dca_row6_col10\" class=\"data row6 col10\" >0.945395</td>\n",
       "                        <td id=\"T_27dca_row6_col11\" class=\"data row6 col11\" >0.581660</td>\n",
       "                        <td id=\"T_27dca_row6_col12\" class=\"data row6 col12\" >0.195321</td>\n",
       "                        <td id=\"T_27dca_row6_col13\" class=\"data row6 col13\" >0.293413</td>\n",
       "                        <td id=\"T_27dca_row6_col14\" class=\"data row6 col14\" >0.818851</td>\n",
       "                        <td id=\"T_27dca_row6_col15\" class=\"data row6 col15\" >0.550544</td>\n",
       "                        <td id=\"T_27dca_row6_col16\" class=\"data row6 col16\" >0.562933</td>\n",
       "                        <td id=\"T_27dca_row6_col17\" class=\"data row6 col17\" >0.089704</td>\n",
       "                        <td id=\"T_27dca_row6_col18\" class=\"data row6 col18\" >0.366170</td>\n",
       "                        <td id=\"T_27dca_row6_col19\" class=\"data row6 col19\" >1.000000</td>\n",
       "                        <td id=\"T_27dca_row6_col20\" class=\"data row6 col20\" >0.103910</td>\n",
       "            </tr>\n",
       "            <tr>\n",
       "                        <th id=\"T_27dca_level0_row7\" class=\"row_heading level0 row7\" >DeviceProtection</th>\n",
       "                        <td id=\"T_27dca_row7_col0\" class=\"data row7 col0\" >0.000000</td>\n",
       "                        <td id=\"T_27dca_row7_col1\" class=\"data row7 col1\" >0.110177</td>\n",
       "                        <td id=\"T_27dca_row7_col2\" class=\"data row7 col2\" >0.100092</td>\n",
       "                        <td id=\"T_27dca_row7_col3\" class=\"data row7 col3\" >0.094597</td>\n",
       "                        <td id=\"T_27dca_row7_col4\" class=\"data row7 col4\" >0.942811</td>\n",
       "                        <td id=\"T_27dca_row7_col5\" class=\"data row7 col5\" >0.946787</td>\n",
       "                        <td id=\"T_27dca_row7_col6\" class=\"data row7 col6\" >0.947487</td>\n",
       "                        <td id=\"T_27dca_row7_col7\" class=\"data row7 col7\" >1.000000</td>\n",
       "                        <td id=\"T_27dca_row7_col8\" class=\"data row7 col8\" >0.950247</td>\n",
       "                        <td id=\"T_27dca_row7_col9\" class=\"data row7 col9\" >0.952863</td>\n",
       "                        <td id=\"T_27dca_row7_col10\" class=\"data row7 col10\" >0.953717</td>\n",
       "                        <td id=\"T_27dca_row7_col11\" class=\"data row7 col11\" >0.631531</td>\n",
       "                        <td id=\"T_27dca_row7_col12\" class=\"data row7 col12\" >0.195687</td>\n",
       "                        <td id=\"T_27dca_row7_col13\" class=\"data row7 col13\" >0.297923</td>\n",
       "                        <td id=\"T_27dca_row7_col14\" class=\"data row7 col14\" >0.827272</td>\n",
       "                        <td id=\"T_27dca_row7_col15\" class=\"data row7 col15\" >0.558393</td>\n",
       "                        <td id=\"T_27dca_row7_col16\" class=\"data row7 col16\" >0.564610</td>\n",
       "                        <td id=\"T_27dca_row7_col17\" class=\"data row7 col17\" >0.085608</td>\n",
       "                        <td id=\"T_27dca_row7_col18\" class=\"data row7 col18\" >0.374702</td>\n",
       "                        <td id=\"T_27dca_row7_col19\" class=\"data row7 col19\" >1.000000</td>\n",
       "                        <td id=\"T_27dca_row7_col20\" class=\"data row7 col20\" >0.103604</td>\n",
       "            </tr>\n",
       "            <tr>\n",
       "                        <th id=\"T_27dca_level0_row8\" class=\"row_heading level0 row8\" >TechSupport</th>\n",
       "                        <td id=\"T_27dca_row8_col0\" class=\"data row8 col0\" >0.000000</td>\n",
       "                        <td id=\"T_27dca_row8_col1\" class=\"data row8 col1\" >0.135283</td>\n",
       "                        <td id=\"T_27dca_row8_col2\" class=\"data row8 col2\" >0.076326</td>\n",
       "                        <td id=\"T_27dca_row8_col3\" class=\"data row8 col3\" >0.109753</td>\n",
       "                        <td id=\"T_27dca_row8_col4\" class=\"data row8 col4\" >0.948914</td>\n",
       "                        <td id=\"T_27dca_row8_col5\" class=\"data row8 col5\" >0.952651</td>\n",
       "                        <td id=\"T_27dca_row8_col6\" class=\"data row8 col6\" >0.947756</td>\n",
       "                        <td id=\"T_27dca_row8_col7\" class=\"data row8 col7\" >0.950247</td>\n",
       "                        <td id=\"T_27dca_row8_col8\" class=\"data row8 col8\" >1.000000</td>\n",
       "                        <td id=\"T_27dca_row8_col9\" class=\"data row8 col9\" >0.946393</td>\n",
       "                        <td id=\"T_27dca_row8_col10\" class=\"data row8 col10\" >0.946417</td>\n",
       "                        <td id=\"T_27dca_row8_col11\" class=\"data row8 col11\" >0.671629</td>\n",
       "                        <td id=\"T_27dca_row8_col12\" class=\"data row8 col12\" >0.200621</td>\n",
       "                        <td id=\"T_27dca_row8_col13\" class=\"data row8 col13\" >0.317713</td>\n",
       "                        <td id=\"T_27dca_row8_col14\" class=\"data row8 col14\" >0.816660</td>\n",
       "                        <td id=\"T_27dca_row8_col15\" class=\"data row8 col15\" >0.527838</td>\n",
       "                        <td id=\"T_27dca_row8_col16\" class=\"data row8 col16\" >0.541088</td>\n",
       "                        <td id=\"T_27dca_row8_col17\" class=\"data row8 col17\" >0.051537</td>\n",
       "                        <td id=\"T_27dca_row8_col18\" class=\"data row8 col18\" >0.353438</td>\n",
       "                        <td id=\"T_27dca_row8_col19\" class=\"data row8 col19\" >1.000000</td>\n",
       "                        <td id=\"T_27dca_row8_col20\" class=\"data row8 col20\" >0.106451</td>\n",
       "            </tr>\n",
       "            <tr>\n",
       "                        <th id=\"T_27dca_level0_row9\" class=\"row_heading level0 row9\" >StreamingTV</th>\n",
       "                        <td id=\"T_27dca_row9_col0\" class=\"data row9 col0\" >0.000000</td>\n",
       "                        <td id=\"T_27dca_row9_col1\" class=\"data row9 col1\" >0.111714</td>\n",
       "                        <td id=\"T_27dca_row9_col2\" class=\"data row9 col2\" >0.082251</td>\n",
       "                        <td id=\"T_27dca_row9_col3\" class=\"data row9 col3\" >0.088193</td>\n",
       "                        <td id=\"T_27dca_row9_col4\" class=\"data row9 col4\" >0.946713</td>\n",
       "                        <td id=\"T_27dca_row9_col5\" class=\"data row9 col5\" >0.943082</td>\n",
       "                        <td id=\"T_27dca_row9_col6\" class=\"data row9 col6\" >0.945789</td>\n",
       "                        <td id=\"T_27dca_row9_col7\" class=\"data row9 col7\" >0.952863</td>\n",
       "                        <td id=\"T_27dca_row9_col8\" class=\"data row9 col8\" >0.946393</td>\n",
       "                        <td id=\"T_27dca_row9_col9\" class=\"data row9 col9\" >1.000000</td>\n",
       "                        <td id=\"T_27dca_row9_col10\" class=\"data row9 col10\" >0.965306</td>\n",
       "                        <td id=\"T_27dca_row9_col11\" class=\"data row9 col11\" >0.549564</td>\n",
       "                        <td id=\"T_27dca_row9_col12\" class=\"data row9 col12\" >0.204717</td>\n",
       "                        <td id=\"T_27dca_row9_col13\" class=\"data row9 col13\" >0.284531</td>\n",
       "                        <td id=\"T_27dca_row9_col14\" class=\"data row9 col14\" >0.864677</td>\n",
       "                        <td id=\"T_27dca_row9_col15\" class=\"data row9 col15\" >0.555322</td>\n",
       "                        <td id=\"T_27dca_row9_col16\" class=\"data row9 col16\" >0.586049</td>\n",
       "                        <td id=\"T_27dca_row9_col17\" class=\"data row9 col17\" >0.078545</td>\n",
       "                        <td id=\"T_27dca_row9_col18\" class=\"data row9 col18\" >0.306675</td>\n",
       "                        <td id=\"T_27dca_row9_col19\" class=\"data row9 col19\" >1.000000</td>\n",
       "                        <td id=\"T_27dca_row9_col20\" class=\"data row9 col20\" >0.108565</td>\n",
       "            </tr>\n",
       "            <tr>\n",
       "                        <th id=\"T_27dca_level0_row10\" class=\"row_heading level0 row10\" >StreamingMovies</th>\n",
       "                        <td id=\"T_27dca_row10_col0\" class=\"data row10 col0\" >0.000000</td>\n",
       "                        <td id=\"T_27dca_row10_col1\" class=\"data row10 col1\" >0.113778</td>\n",
       "                        <td id=\"T_27dca_row10_col2\" class=\"data row10 col2\" >0.077506</td>\n",
       "                        <td id=\"T_27dca_row10_col3\" class=\"data row10 col3\" >0.084684</td>\n",
       "                        <td id=\"T_27dca_row10_col4\" class=\"data row10 col4\" >0.946294</td>\n",
       "                        <td id=\"T_27dca_row10_col5\" class=\"data row10 col5\" >0.943248</td>\n",
       "                        <td id=\"T_27dca_row10_col6\" class=\"data row10 col6\" >0.945395</td>\n",
       "                        <td id=\"T_27dca_row10_col7\" class=\"data row10 col7\" >0.953717</td>\n",
       "                        <td id=\"T_27dca_row10_col8\" class=\"data row10 col8\" >0.946417</td>\n",
       "                        <td id=\"T_27dca_row10_col9\" class=\"data row10 col9\" >0.965306</td>\n",
       "                        <td id=\"T_27dca_row10_col10\" class=\"data row10 col10\" >1.000000</td>\n",
       "                        <td id=\"T_27dca_row10_col11\" class=\"data row10 col11\" >0.553556</td>\n",
       "                        <td id=\"T_27dca_row10_col12\" class=\"data row10 col12\" >0.202241</td>\n",
       "                        <td id=\"T_27dca_row10_col13\" class=\"data row10 col13\" >0.285525</td>\n",
       "                        <td id=\"T_27dca_row10_col14\" class=\"data row10 col14\" >0.863616</td>\n",
       "                        <td id=\"T_27dca_row10_col15\" class=\"data row10 col15\" >0.554030</td>\n",
       "                        <td id=\"T_27dca_row10_col16\" class=\"data row10 col16\" >0.586815</td>\n",
       "                        <td id=\"T_27dca_row10_col17\" class=\"data row10 col17\" >0.086577</td>\n",
       "                        <td id=\"T_27dca_row10_col18\" class=\"data row10 col18\" >0.307297</td>\n",
       "                        <td id=\"T_27dca_row10_col19\" class=\"data row10 col19\" >1.000000</td>\n",
       "                        <td id=\"T_27dca_row10_col20\" class=\"data row10 col20\" >0.106784</td>\n",
       "            </tr>\n",
       "            <tr>\n",
       "                        <th id=\"T_27dca_level0_row11\" class=\"row_heading level0 row11\" >Type</th>\n",
       "                        <td id=\"T_27dca_row11_col0\" class=\"data row11 col0\" >0.000000</td>\n",
       "                        <td id=\"T_27dca_row11_col1\" class=\"data row11 col1\" >0.086231</td>\n",
       "                        <td id=\"T_27dca_row11_col2\" class=\"data row11 col2\" >0.179736</td>\n",
       "                        <td id=\"T_27dca_row11_col3\" class=\"data row11 col3\" >0.147680</td>\n",
       "                        <td id=\"T_27dca_row11_col4\" class=\"data row11 col4\" >0.505187</td>\n",
       "                        <td id=\"T_27dca_row11_col5\" class=\"data row11 col5\" >0.636884</td>\n",
       "                        <td id=\"T_27dca_row11_col6\" class=\"data row11 col6\" >0.581660</td>\n",
       "                        <td id=\"T_27dca_row11_col7\" class=\"data row11 col7\" >0.631531</td>\n",
       "                        <td id=\"T_27dca_row11_col8\" class=\"data row11 col8\" >0.671629</td>\n",
       "                        <td id=\"T_27dca_row11_col9\" class=\"data row11 col9\" >0.549564</td>\n",
       "                        <td id=\"T_27dca_row11_col10\" class=\"data row11 col10\" >0.553556</td>\n",
       "                        <td id=\"T_27dca_row11_col11\" class=\"data row11 col11\" >1.000000</td>\n",
       "                        <td id=\"T_27dca_row11_col12\" class=\"data row11 col12\" >0.106860</td>\n",
       "                        <td id=\"T_27dca_row11_col13\" class=\"data row11 col13\" >0.277462</td>\n",
       "                        <td id=\"T_27dca_row11_col14\" class=\"data row11 col14\" >0.388444</td>\n",
       "                        <td id=\"T_27dca_row11_col15\" class=\"data row11 col15\" >0.470860</td>\n",
       "                        <td id=\"T_27dca_row11_col16\" class=\"data row11 col16\" >0.244410</td>\n",
       "                        <td id=\"T_27dca_row11_col17\" class=\"data row11 col17\" >0.094015</td>\n",
       "                        <td id=\"T_27dca_row11_col18\" class=\"data row11 col18\" >0.634155</td>\n",
       "                        <td id=\"T_27dca_row11_col19\" class=\"data row11 col19\" >0.146647</td>\n",
       "                        <td id=\"T_27dca_row11_col20\" class=\"data row11 col20\" >0.000000</td>\n",
       "            </tr>\n",
       "            <tr>\n",
       "                        <th id=\"T_27dca_level0_row12\" class=\"row_heading level0 row12\" >PaperlessBilling</th>\n",
       "                        <td id=\"T_27dca_row12_col0\" class=\"data row12 col0\" >0.000000</td>\n",
       "                        <td id=\"T_27dca_row12_col1\" class=\"data row12 col1\" >0.242133</td>\n",
       "                        <td id=\"T_27dca_row12_col2\" class=\"data row12 col2\" >0.013218</td>\n",
       "                        <td id=\"T_27dca_row12_col3\" class=\"data row12 col3\" >0.172593</td>\n",
       "                        <td id=\"T_27dca_row12_col4\" class=\"data row12 col4\" >0.231438</td>\n",
       "                        <td id=\"T_27dca_row12_col5\" class=\"data row12 col5\" >0.208320</td>\n",
       "                        <td id=\"T_27dca_row12_col6\" class=\"data row12 col6\" >0.195321</td>\n",
       "                        <td id=\"T_27dca_row12_col7\" class=\"data row12 col7\" >0.195687</td>\n",
       "                        <td id=\"T_27dca_row12_col8\" class=\"data row12 col8\" >0.200621</td>\n",
       "                        <td id=\"T_27dca_row12_col9\" class=\"data row12 col9\" >0.204717</td>\n",
       "                        <td id=\"T_27dca_row12_col10\" class=\"data row12 col10\" >0.202241</td>\n",
       "                        <td id=\"T_27dca_row12_col11\" class=\"data row12 col11\" >0.106860</td>\n",
       "                        <td id=\"T_27dca_row12_col12\" class=\"data row12 col12\" >1.000000</td>\n",
       "                        <td id=\"T_27dca_row12_col13\" class=\"data row12 col13\" >0.370495</td>\n",
       "                        <td id=\"T_27dca_row12_col14\" class=\"data row12 col14\" >0.467812</td>\n",
       "                        <td id=\"T_27dca_row12_col15\" class=\"data row12 col15\" >0.201703</td>\n",
       "                        <td id=\"T_27dca_row12_col16\" class=\"data row12 col16\" >0.099953</td>\n",
       "                        <td id=\"T_27dca_row12_col17\" class=\"data row12 col17\" >0.083398</td>\n",
       "                        <td id=\"T_27dca_row12_col18\" class=\"data row12 col18\" >0.026799</td>\n",
       "                        <td id=\"T_27dca_row12_col19\" class=\"data row12 col19\" >0.482393</td>\n",
       "                        <td id=\"T_27dca_row12_col20\" class=\"data row12 col20\" >0.016811</td>\n",
       "            </tr>\n",
       "            <tr>\n",
       "                        <th id=\"T_27dca_level0_row13\" class=\"row_heading level0 row13\" >PaymentMethod</th>\n",
       "                        <td id=\"T_27dca_row13_col0\" class=\"data row13 col0\" >0.000000</td>\n",
       "                        <td id=\"T_27dca_row13_col1\" class=\"data row13 col1\" >0.292725</td>\n",
       "                        <td id=\"T_27dca_row13_col2\" class=\"data row13 col2\" >0.243008</td>\n",
       "                        <td id=\"T_27dca_row13_col3\" class=\"data row13 col3\" >0.224903</td>\n",
       "                        <td id=\"T_27dca_row13_col4\" class=\"data row13 col4\" >0.323886</td>\n",
       "                        <td id=\"T_27dca_row13_col5\" class=\"data row13 col5\" >0.315799</td>\n",
       "                        <td id=\"T_27dca_row13_col6\" class=\"data row13 col6\" >0.293413</td>\n",
       "                        <td id=\"T_27dca_row13_col7\" class=\"data row13 col7\" >0.297923</td>\n",
       "                        <td id=\"T_27dca_row13_col8\" class=\"data row13 col8\" >0.317713</td>\n",
       "                        <td id=\"T_27dca_row13_col9\" class=\"data row13 col9\" >0.284531</td>\n",
       "                        <td id=\"T_27dca_row13_col10\" class=\"data row13 col10\" >0.285525</td>\n",
       "                        <td id=\"T_27dca_row13_col11\" class=\"data row13 col11\" >0.277462</td>\n",
       "                        <td id=\"T_27dca_row13_col12\" class=\"data row13 col12\" >0.370495</td>\n",
       "                        <td id=\"T_27dca_row13_col13\" class=\"data row13 col13\" >1.000000</td>\n",
       "                        <td id=\"T_27dca_row13_col14\" class=\"data row13 col14\" >0.399526</td>\n",
       "                        <td id=\"T_27dca_row13_col15\" class=\"data row13 col15\" >0.335666</td>\n",
       "                        <td id=\"T_27dca_row13_col16\" class=\"data row13 col16\" >0.174849</td>\n",
       "                        <td id=\"T_27dca_row13_col17\" class=\"data row13 col17\" >0.214832</td>\n",
       "                        <td id=\"T_27dca_row13_col18\" class=\"data row13 col18\" >0.350964</td>\n",
       "                        <td id=\"T_27dca_row13_col19\" class=\"data row13 col19\" >0.535120</td>\n",
       "                        <td id=\"T_27dca_row13_col20\" class=\"data row13 col20\" >0.000000</td>\n",
       "            </tr>\n",
       "            <tr>\n",
       "                        <th id=\"T_27dca_level0_row14\" class=\"row_heading level0 row14\" >MonthlyCharges</th>\n",
       "                        <td id=\"T_27dca_row14_col0\" class=\"data row14 col0\" >0.008175</td>\n",
       "                        <td id=\"T_27dca_row14_col1\" class=\"data row14 col1\" >0.304985</td>\n",
       "                        <td id=\"T_27dca_row14_col2\" class=\"data row14 col2\" >0.203545</td>\n",
       "                        <td id=\"T_27dca_row14_col3\" class=\"data row14 col3\" >0.184366</td>\n",
       "                        <td id=\"T_27dca_row14_col4\" class=\"data row14 col4\" >0.919002</td>\n",
       "                        <td id=\"T_27dca_row14_col5\" class=\"data row14 col5\" >0.812632</td>\n",
       "                        <td id=\"T_27dca_row14_col6\" class=\"data row14 col6\" >0.818851</td>\n",
       "                        <td id=\"T_27dca_row14_col7\" class=\"data row14 col7\" >0.827272</td>\n",
       "                        <td id=\"T_27dca_row14_col8\" class=\"data row14 col8\" >0.816660</td>\n",
       "                        <td id=\"T_27dca_row14_col9\" class=\"data row14 col9\" >0.864677</td>\n",
       "                        <td id=\"T_27dca_row14_col10\" class=\"data row14 col10\" >0.863616</td>\n",
       "                        <td id=\"T_27dca_row14_col11\" class=\"data row14 col11\" >0.388444</td>\n",
       "                        <td id=\"T_27dca_row14_col12\" class=\"data row14 col12\" >0.467812</td>\n",
       "                        <td id=\"T_27dca_row14_col13\" class=\"data row14 col13\" >0.399526</td>\n",
       "                        <td id=\"T_27dca_row14_col14\" class=\"data row14 col14\" >1.000000</td>\n",
       "                        <td id=\"T_27dca_row14_col15\" class=\"data row14 col15\" >0.710905</td>\n",
       "                        <td id=\"T_27dca_row14_col16\" class=\"data row14 col16\" >0.709983</td>\n",
       "                        <td id=\"T_27dca_row14_col17\" class=\"data row14 col17\" >0.226280</td>\n",
       "                        <td id=\"T_27dca_row14_col18\" class=\"data row14 col18\" >0.387727</td>\n",
       "                        <td id=\"T_27dca_row14_col19\" class=\"data row14 col19\" >0.998690</td>\n",
       "                        <td id=\"T_27dca_row14_col20\" class=\"data row14 col20\" >0.831362</td>\n",
       "            </tr>\n",
       "            <tr>\n",
       "                        <th id=\"T_27dca_level0_row15\" class=\"row_heading level0 row15\" >TotalCharges</th>\n",
       "                        <td id=\"T_27dca_row15_col0\" class=\"data row15 col0\" >0.000000</td>\n",
       "                        <td id=\"T_27dca_row15_col1\" class=\"data row15 col1\" >0.135650</td>\n",
       "                        <td id=\"T_27dca_row15_col2\" class=\"data row15 col2\" >0.381958</td>\n",
       "                        <td id=\"T_27dca_row15_col3\" class=\"data row15 col3\" >0.084247</td>\n",
       "                        <td id=\"T_27dca_row15_col4\" class=\"data row15 col4\" >0.490081</td>\n",
       "                        <td id=\"T_27dca_row15_col5\" class=\"data row15 col5\" >0.516538</td>\n",
       "                        <td id=\"T_27dca_row15_col6\" class=\"data row15 col6\" >0.550544</td>\n",
       "                        <td id=\"T_27dca_row15_col7\" class=\"data row15 col7\" >0.558393</td>\n",
       "                        <td id=\"T_27dca_row15_col8\" class=\"data row15 col8\" >0.527838</td>\n",
       "                        <td id=\"T_27dca_row15_col9\" class=\"data row15 col9\" >0.555322</td>\n",
       "                        <td id=\"T_27dca_row15_col10\" class=\"data row15 col10\" >0.554030</td>\n",
       "                        <td id=\"T_27dca_row15_col11\" class=\"data row15 col11\" >0.470860</td>\n",
       "                        <td id=\"T_27dca_row15_col12\" class=\"data row15 col12\" >0.201703</td>\n",
       "                        <td id=\"T_27dca_row15_col13\" class=\"data row15 col13\" >0.335666</td>\n",
       "                        <td id=\"T_27dca_row15_col14\" class=\"data row15 col14\" >0.710905</td>\n",
       "                        <td id=\"T_27dca_row15_col15\" class=\"data row15 col15\" >1.000000</td>\n",
       "                        <td id=\"T_27dca_row15_col16\" class=\"data row15 col16\" >0.467787</td>\n",
       "                        <td id=\"T_27dca_row15_col17\" class=\"data row15 col17\" >0.302890</td>\n",
       "                        <td id=\"T_27dca_row15_col18\" class=\"data row15 col18\" >0.848337</td>\n",
       "                        <td id=\"T_27dca_row15_col19\" class=\"data row15 col19\" >0.548907</td>\n",
       "                        <td id=\"T_27dca_row15_col20\" class=\"data row15 col20\" >0.160505</td>\n",
       "            </tr>\n",
       "            <tr>\n",
       "                        <th id=\"T_27dca_level0_row16\" class=\"row_heading level0 row16\" >MultipleLines</th>\n",
       "                        <td id=\"T_27dca_row16_col0\" class=\"data row16 col0\" >0.000000</td>\n",
       "                        <td id=\"T_27dca_row16_col1\" class=\"data row16 col1\" >0.087925</td>\n",
       "                        <td id=\"T_27dca_row16_col2\" class=\"data row16 col2\" >0.086249</td>\n",
       "                        <td id=\"T_27dca_row16_col3\" class=\"data row16 col3\" >0.011198</td>\n",
       "                        <td id=\"T_27dca_row16_col4\" class=\"data row16 col4\" >0.739808</td>\n",
       "                        <td id=\"T_27dca_row16_col5\" class=\"data row16 col5\" >0.540261</td>\n",
       "                        <td id=\"T_27dca_row16_col6\" class=\"data row16 col6\" >0.562933</td>\n",
       "                        <td id=\"T_27dca_row16_col7\" class=\"data row16 col7\" >0.564610</td>\n",
       "                        <td id=\"T_27dca_row16_col8\" class=\"data row16 col8\" >0.541088</td>\n",
       "                        <td id=\"T_27dca_row16_col9\" class=\"data row16 col9\" >0.586049</td>\n",
       "                        <td id=\"T_27dca_row16_col10\" class=\"data row16 col10\" >0.586815</td>\n",
       "                        <td id=\"T_27dca_row16_col11\" class=\"data row16 col11\" >0.244410</td>\n",
       "                        <td id=\"T_27dca_row16_col12\" class=\"data row16 col12\" >0.099953</td>\n",
       "                        <td id=\"T_27dca_row16_col13\" class=\"data row16 col13\" >0.174849</td>\n",
       "                        <td id=\"T_27dca_row16_col14\" class=\"data row16 col14\" >0.709983</td>\n",
       "                        <td id=\"T_27dca_row16_col15\" class=\"data row16 col15\" >0.467787</td>\n",
       "                        <td id=\"T_27dca_row16_col16\" class=\"data row16 col16\" >1.000000</td>\n",
       "                        <td id=\"T_27dca_row16_col17\" class=\"data row16 col17\" >0.105101</td>\n",
       "                        <td id=\"T_27dca_row16_col18\" class=\"data row16 col18\" >0.347289</td>\n",
       "                        <td id=\"T_27dca_row16_col19\" class=\"data row16 col19\" >0.194547</td>\n",
       "                        <td id=\"T_27dca_row16_col20\" class=\"data row16 col20\" >1.000000</td>\n",
       "            </tr>\n",
       "            <tr>\n",
       "                        <th id=\"T_27dca_level0_row17\" class=\"row_heading level0 row17\" >target</th>\n",
       "                        <td id=\"T_27dca_row17_col0\" class=\"data row17 col0\" >0.008581</td>\n",
       "                        <td id=\"T_27dca_row17_col1\" class=\"data row17 col1\" >0.086159</td>\n",
       "                        <td id=\"T_27dca_row17_col2\" class=\"data row17 col2\" >0.226688</td>\n",
       "                        <td id=\"T_27dca_row17_col3\" class=\"data row17 col3\" >0.046871</td>\n",
       "                        <td id=\"T_27dca_row17_col4\" class=\"data row17 col4\" >0.056621</td>\n",
       "                        <td id=\"T_27dca_row17_col5\" class=\"data row17 col5\" >0.058659</td>\n",
       "                        <td id=\"T_27dca_row17_col6\" class=\"data row17 col6\" >0.089704</td>\n",
       "                        <td id=\"T_27dca_row17_col7\" class=\"data row17 col7\" >0.085608</td>\n",
       "                        <td id=\"T_27dca_row17_col8\" class=\"data row17 col8\" >0.051537</td>\n",
       "                        <td id=\"T_27dca_row17_col9\" class=\"data row17 col9\" >0.078545</td>\n",
       "                        <td id=\"T_27dca_row17_col10\" class=\"data row17 col10\" >0.086577</td>\n",
       "                        <td id=\"T_27dca_row17_col11\" class=\"data row17 col11\" >0.094015</td>\n",
       "                        <td id=\"T_27dca_row17_col12\" class=\"data row17 col12\" >0.083398</td>\n",
       "                        <td id=\"T_27dca_row17_col13\" class=\"data row17 col13\" >0.214832</td>\n",
       "                        <td id=\"T_27dca_row17_col14\" class=\"data row17 col14\" >0.226280</td>\n",
       "                        <td id=\"T_27dca_row17_col15\" class=\"data row17 col15\" >0.302890</td>\n",
       "                        <td id=\"T_27dca_row17_col16\" class=\"data row17 col16\" >0.105101</td>\n",
       "                        <td id=\"T_27dca_row17_col17\" class=\"data row17 col17\" >1.000000</td>\n",
       "                        <td id=\"T_27dca_row17_col18\" class=\"data row17 col18\" >0.374569</td>\n",
       "                        <td id=\"T_27dca_row17_col19\" class=\"data row17 col19\" >0.114593</td>\n",
       "                        <td id=\"T_27dca_row17_col20\" class=\"data row17 col20\" >0.000000</td>\n",
       "            </tr>\n",
       "            <tr>\n",
       "                        <th id=\"T_27dca_level0_row18\" class=\"row_heading level0 row18\" >duration</th>\n",
       "                        <td id=\"T_27dca_row18_col0\" class=\"data row18 col0\" >0.000000</td>\n",
       "                        <td id=\"T_27dca_row18_col1\" class=\"data row18 col1\" >0.063315</td>\n",
       "                        <td id=\"T_27dca_row18_col2\" class=\"data row18 col2\" >0.453688</td>\n",
       "                        <td id=\"T_27dca_row18_col3\" class=\"data row18 col3\" >0.198729</td>\n",
       "                        <td id=\"T_27dca_row18_col4\" class=\"data row18 col4\" >0.060845</td>\n",
       "                        <td id=\"T_27dca_row18_col5\" class=\"data row18 col5\" >0.346398</td>\n",
       "                        <td id=\"T_27dca_row18_col6\" class=\"data row18 col6\" >0.366170</td>\n",
       "                        <td id=\"T_27dca_row18_col7\" class=\"data row18 col7\" >0.374702</td>\n",
       "                        <td id=\"T_27dca_row18_col8\" class=\"data row18 col8\" >0.353438</td>\n",
       "                        <td id=\"T_27dca_row18_col9\" class=\"data row18 col9\" >0.306675</td>\n",
       "                        <td id=\"T_27dca_row18_col10\" class=\"data row18 col10\" >0.307297</td>\n",
       "                        <td id=\"T_27dca_row18_col11\" class=\"data row18 col11\" >0.634155</td>\n",
       "                        <td id=\"T_27dca_row18_col12\" class=\"data row18 col12\" >0.026799</td>\n",
       "                        <td id=\"T_27dca_row18_col13\" class=\"data row18 col13\" >0.350964</td>\n",
       "                        <td id=\"T_27dca_row18_col14\" class=\"data row18 col14\" >0.387727</td>\n",
       "                        <td id=\"T_27dca_row18_col15\" class=\"data row18 col15\" >0.848337</td>\n",
       "                        <td id=\"T_27dca_row18_col16\" class=\"data row18 col16\" >0.347289</td>\n",
       "                        <td id=\"T_27dca_row18_col17\" class=\"data row18 col17\" >0.374569</td>\n",
       "                        <td id=\"T_27dca_row18_col18\" class=\"data row18 col18\" >1.000000</td>\n",
       "                        <td id=\"T_27dca_row18_col19\" class=\"data row18 col19\" >0.040534</td>\n",
       "                        <td id=\"T_27dca_row18_col20\" class=\"data row18 col20\" >0.006730</td>\n",
       "            </tr>\n",
       "            <tr>\n",
       "                        <th id=\"T_27dca_level0_row19\" class=\"row_heading level0 row19\" >internet</th>\n",
       "                        <td id=\"T_27dca_row19_col0\" class=\"data row19 col0\" >0.000000</td>\n",
       "                        <td id=\"T_27dca_row19_col1\" class=\"data row19 col1\" >0.281853</td>\n",
       "                        <td id=\"T_27dca_row19_col2\" class=\"data row19 col2\" >0.000000</td>\n",
       "                        <td id=\"T_27dca_row19_col3\" class=\"data row19 col3\" >0.216514</td>\n",
       "                        <td id=\"T_27dca_row19_col4\" class=\"data row19 col4\" >1.000000</td>\n",
       "                        <td id=\"T_27dca_row19_col5\" class=\"data row19 col5\" >1.000000</td>\n",
       "                        <td id=\"T_27dca_row19_col6\" class=\"data row19 col6\" >1.000000</td>\n",
       "                        <td id=\"T_27dca_row19_col7\" class=\"data row19 col7\" >1.000000</td>\n",
       "                        <td id=\"T_27dca_row19_col8\" class=\"data row19 col8\" >1.000000</td>\n",
       "                        <td id=\"T_27dca_row19_col9\" class=\"data row19 col9\" >1.000000</td>\n",
       "                        <td id=\"T_27dca_row19_col10\" class=\"data row19 col10\" >1.000000</td>\n",
       "                        <td id=\"T_27dca_row19_col11\" class=\"data row19 col11\" >0.146647</td>\n",
       "                        <td id=\"T_27dca_row19_col12\" class=\"data row19 col12\" >0.482393</td>\n",
       "                        <td id=\"T_27dca_row19_col13\" class=\"data row19 col13\" >0.535120</td>\n",
       "                        <td id=\"T_27dca_row19_col14\" class=\"data row19 col14\" >0.998690</td>\n",
       "                        <td id=\"T_27dca_row19_col15\" class=\"data row19 col15\" >0.548907</td>\n",
       "                        <td id=\"T_27dca_row19_col16\" class=\"data row19 col16\" >0.194547</td>\n",
       "                        <td id=\"T_27dca_row19_col17\" class=\"data row19 col17\" >0.114593</td>\n",
       "                        <td id=\"T_27dca_row19_col18\" class=\"data row19 col18\" >0.040534</td>\n",
       "                        <td id=\"T_27dca_row19_col19\" class=\"data row19 col19\" >1.000000</td>\n",
       "                        <td id=\"T_27dca_row19_col20\" class=\"data row19 col20\" >0.265727</td>\n",
       "            </tr>\n",
       "            <tr>\n",
       "                        <th id=\"T_27dca_level0_row20\" class=\"row_heading level0 row20\" >phone</th>\n",
       "                        <td id=\"T_27dca_row20_col0\" class=\"data row20 col0\" >0.000000</td>\n",
       "                        <td id=\"T_27dca_row20_col1\" class=\"data row20 col1\" >0.000000</td>\n",
       "                        <td id=\"T_27dca_row20_col2\" class=\"data row20 col2\" >0.019540</td>\n",
       "                        <td id=\"T_27dca_row20_col3\" class=\"data row20 col3\" >0.000000</td>\n",
       "                        <td id=\"T_27dca_row20_col4\" class=\"data row20 col4\" >0.278954</td>\n",
       "                        <td id=\"T_27dca_row20_col5\" class=\"data row20 col5\" >0.106021</td>\n",
       "                        <td id=\"T_27dca_row20_col6\" class=\"data row20 col6\" >0.103910</td>\n",
       "                        <td id=\"T_27dca_row20_col7\" class=\"data row20 col7\" >0.103604</td>\n",
       "                        <td id=\"T_27dca_row20_col8\" class=\"data row20 col8\" >0.106451</td>\n",
       "                        <td id=\"T_27dca_row20_col9\" class=\"data row20 col9\" >0.108565</td>\n",
       "                        <td id=\"T_27dca_row20_col10\" class=\"data row20 col10\" >0.106784</td>\n",
       "                        <td id=\"T_27dca_row20_col11\" class=\"data row20 col11\" >0.000000</td>\n",
       "                        <td id=\"T_27dca_row20_col12\" class=\"data row20 col12\" >0.016811</td>\n",
       "                        <td id=\"T_27dca_row20_col13\" class=\"data row20 col13\" >0.000000</td>\n",
       "                        <td id=\"T_27dca_row20_col14\" class=\"data row20 col14\" >0.831362</td>\n",
       "                        <td id=\"T_27dca_row20_col15\" class=\"data row20 col15\" >0.160505</td>\n",
       "                        <td id=\"T_27dca_row20_col16\" class=\"data row20 col16\" >1.000000</td>\n",
       "                        <td id=\"T_27dca_row20_col17\" class=\"data row20 col17\" >0.000000</td>\n",
       "                        <td id=\"T_27dca_row20_col18\" class=\"data row20 col18\" >0.006730</td>\n",
       "                        <td id=\"T_27dca_row20_col19\" class=\"data row20 col19\" >0.265727</td>\n",
       "                        <td id=\"T_27dca_row20_col20\" class=\"data row20 col20\" >1.000000</td>\n",
       "            </tr>\n",
       "    </tbody></table>"
      ],
      "text/plain": [
       "<pandas.io.formats.style.Styler at 0x7f3e49e0b910>"
      ]
     },
     "execution_count": 32,
     "metadata": {},
     "output_type": "execute_result"
    }
   ],
   "source": [
    "interval_cols = ['duration', 'MonthlyCharges', 'TotalCharges']\n",
    "phik_overview = data.phik_matrix(interval_cols=interval_cols)\n",
    "phik_overview.style.background_gradient('Set1_r')"
   ]
  },
  {
   "cell_type": "markdown",
   "metadata": {},
   "source": [
    "Наибольшее влияние на целевой признак оказывают столбцы partner, PaymentMethod, MonthlyCharges, TotalCharges, duration, Рассмотрим распределение их значений относительно целевого признака подробнее."
   ]
  },
  {
   "cell_type": "code",
   "execution_count": 33,
   "metadata": {},
   "outputs": [
    {
     "data": {
      "image/png": "[encoded data removed]",
      "text/plain": [
       "<Figure size 360x360 with 1 Axes>"
      ]
     },
     "metadata": {},
     "output_type": "display_data"
    }
   ],
   "source": [
    "data[data['target'] == 0]['Partner'].value_counts().plot(kind='pie', autopct='%1.1f%%', figsize=(5, 5))\n",
    "plt.show()"
   ]
  },
  {
   "cell_type": "code",
   "execution_count": 34,
   "metadata": {},
   "outputs": [
    {
     "data": {
      "image/png": "[encoded data removed]",
      "text/plain": [
       "<Figure size 360x360 with 1 Axes>"
      ]
     },
     "metadata": {},
     "output_type": "display_data"
    }
   ],
   "source": [
    "data[data['target'] == 1]['Partner'].value_counts().plot(kind='pie', autopct='%1.1f%%', figsize=(5, 5))\n",
    "plt.show()"
   ]
  },
  {
   "cell_type": "code",
   "execution_count": 35,
   "metadata": {},
   "outputs": [
    {
     "data": {
      "image/png": "[encoded data removed]",
      "text/plain": [
       "<Figure size 360x360 with 1 Axes>"
      ]
     },
     "metadata": {},
     "output_type": "display_data"
    }
   ],
   "source": [
    "data[data['target'] == 0]['PaymentMethod'].value_counts().plot(kind='pie', autopct='%1.1f%%', figsize=(5, 5))\n",
    "plt.show()"
   ]
  },
  {
   "cell_type": "code",
   "execution_count": 36,
   "metadata": {},
   "outputs": [
    {
     "data": {
      "image/png": "[encoded data removed]",
      "text/plain": [
       "<Figure size 360x360 with 1 Axes>"
      ]
     },
     "metadata": {},
     "output_type": "display_data"
    }
   ],
   "source": [
    "data[data['target'] == 1]['PaymentMethod'].value_counts().plot(kind='pie', autopct='%1.1f%%', figsize=(5, 5))\n",
    "plt.show()"
   ]
  },
  {
   "cell_type": "markdown",
   "metadata": {},
   "source": [
    "Итак, мы видим, что наличие партнера больше характерно для клиентов, которые уже не пользуются услугами оператора связи «Ниединогоразрыва.ком». Так же можно заметить, что Electronic Check самы популярный способ опалты у обеих групп клиентов, однако остальные значения данного признака разняться: у бывших клиентов способ оплаты credit card (automatic) является таким же популярным как и bank transfer, в то время как у нынешних клиентов наиболее популярен  способ оплаты через mailed check. \n",
    "\n",
    "Оператору связи стоит обратить внимание на эту закономерность и разобрать преимущества и недостатки для их клиентов различных способах оплаты (особенно пристально советую рассмотреть mailed check."
   ]
  },
  {
   "cell_type": "code",
   "execution_count": 37,
   "metadata": {},
   "outputs": [
    {
     "data": {
      "image/png": "[encoded data removed]",
      "text/plain": [
       "<Figure size 1152x576 with 1 Axes>"
      ]
     },
     "metadata": {
      "needs_background": "light"
     },
     "output_type": "display_data"
    }
   ],
   "source": [
    "plt.figure(figsize=(16,8))\n",
    "plt.hist(x = data[data['target'] == 0]['MonthlyCharges'],alpha=.6, density = True, bins=20, label='клиент')\n",
    "plt.hist(x = data[data['target'] == 1]['MonthlyCharges'],alpha=.6, density = True, bins=20, label='не клиент')\n",
    "plt.legend(loc = 'upper left', prop = {'size': 14})\n",
    "plt.xlabel('Месячная оплата', fontsize = 16)\n",
    "plt.ylabel('Количество', fontsize = 16)\n",
    "plt.show()"
   ]
  },
  {
   "cell_type": "code",
   "execution_count": 38,
   "metadata": {},
   "outputs": [
    {
     "data": {
      "image/png": "[encoded data removed]",
      "text/plain": [
       "<Figure size 864x432 with 1 Axes>"
      ]
     },
     "metadata": {
      "needs_background": "light"
     },
     "output_type": "display_data"
    }
   ],
   "source": [
    "plt.figure(figsize=(12,6))\n",
    "plt.hist(x = data[data['target'] == 0]['duration'],alpha=.6, density = True, bins=30, label='клиент')\n",
    "plt.hist(x = data[data['target'] == 1]['duration'],alpha=.6, density = True, bins=30, label='не клиент')\n",
    "plt.legend(loc = 'upper left', prop = {'size': 14})\n",
    "plt.xlabel('Продолжительность', fontsize = 12)\n",
    "plt.ylabel('Количество', fontsize = 12)\n",
    "plt.show()"
   ]
  },
  {
   "cell_type": "code",
   "execution_count": 39,
   "metadata": {},
   "outputs": [
    {
     "data": {
      "image/png": "[encoded data removed]",
      "text/plain": [
       "<Figure size 864x432 with 1 Axes>"
      ]
     },
     "metadata": {
      "needs_background": "light"
     },
     "output_type": "display_data"
    }
   ],
   "source": [
    "plt.figure(figsize=(12,6))\n",
    "plt.hist(x = data[data['target'] == 0]['TotalCharges'],alpha=.6, density = True, bins=20, label='клиент')\n",
    "plt.hist(x = data[data['target'] == 1]['TotalCharges'],alpha=.6, density = True, bins=20, label='не клиент')\n",
    "plt.legend(loc = 'upper left', prop = {'size': 14})\n",
    "plt.xlabel('LTV', fontsize = 12)\n",
    "plt.ylabel('Количество', fontsize = 12)\n",
    "plt.show()"
   ]
  },
  {
   "cell_type": "markdown",
   "metadata": {},
   "source": [
    "Рассматривая распределение платы за месяц можно заметить что у нынешних клиентов плата за месяц меньше чем у тех, что престали таоквыми быть, что может быть связано как с уменьшением количества испольуемых услуг, так и с понижением цен. \n",
    "<br />По графику распределения продолжительности пользования услугами оператора связи можно сделать вывод о том, что распределение стало менее нормальным, нежели было до этого,то же самое можно сказать и об LTV."
   ]
  },
  {
   "cell_type": "markdown",
   "metadata": {},
   "source": [
    "Отбросим 3 наименее коррелирующи с таргетом признаков и обучим модели"
   ]
  },
  {
   "cell_type": "code",
   "execution_count": 40,
   "metadata": {},
   "outputs": [],
   "source": [
    "data.drop(['phone', 'gender', 'Dependents'], axis=1, inplace=True)"
   ]
  },
  {
   "cell_type": "markdown",
   "metadata": {},
   "source": [
    "Так же отбросим некоторые мультиколлинеарные столбцы с информацией об интернет-услугах"
   ]
  },
  {
   "cell_type": "code",
   "execution_count": 41,
   "metadata": {},
   "outputs": [],
   "source": [
    "data.drop(['OnlineSecurity', 'OnlineBackup', \n",
    "           'DeviceProtection', 'TechSupport', \n",
    "           'StreamingTV', 'StreamingMovies', 'InternetService'], axis=1, inplace=True)"
   ]
  },
  {
   "cell_type": "markdown",
   "metadata": {},
   "source": [
    "## Предобработка для подачи в модель"
   ]
  },
  {
   "cell_type": "code",
   "execution_count": 42,
   "metadata": {},
   "outputs": [
    {
     "data": {
      "text/plain": [
       "0    5942\n",
       "1    1101\n",
       "Name: target, dtype: int64"
      ]
     },
     "execution_count": 42,
     "metadata": {},
     "output_type": "execute_result"
    }
   ],
   "source": [
    "data['target'].value_counts()"
   ]
  },
  {
   "cell_type": "markdown",
   "metadata": {},
   "source": [
    " Мы видим, что присутствует достаточно большой дисбаланс классов,его необходимо будет убрать, иначе модель будет плохо распознавать класс с меньшим количеством наблюдений (в данном случае - класс с меткой 1). Наилучший для этого способ в нашем случае - указание гипперпараметра class_weight."
   ]
  },
  {
   "cell_type": "code",
   "execution_count": 43,
   "metadata": {},
   "outputs": [],
   "source": [
    "#выделим целевой признак, категориальные признаки, разобьем на две выборке 1 к 3\n",
    "features = data.drop('target', axis=1)\n",
    "target = data['target']\n",
    "\n",
    "#определим категориальные признаки, числовые уже заданы в переменной interval_cols\n",
    "cat_features = features.drop(interval_cols, axis=1).columns.tolist()\n",
    "\n",
    "#разобьем на две выборке 1 к 3\n",
    "features_train, features_test, target_train, target_test = train_test_split(\n",
    "    features, target, test_size=0.25, stratify=target, random_state=state)"
   ]
  },
  {
   "cell_type": "markdown",
   "metadata": {},
   "source": [
    "Создадим переменные для встраиванием их в пайплайн обучения моделей."
   ]
  },
  {
   "cell_type": "code",
   "execution_count": 44,
   "metadata": {},
   "outputs": [],
   "source": [
    "num_transformer = StandardScaler() #масштабирование численных\n",
    "cat_transformer = OneHotEncoder(handle_unknown ='error', drop='first')\n",
    "cat_transformer_der = OrdinalEncoder(handle_unknown ='use_encoded_value', unknown_value=-1)"
   ]
  },
  {
   "cell_type": "code",
   "execution_count": 45,
   "metadata": {},
   "outputs": [],
   "source": [
    "#cоздадим ColumnTransformer'ы\n",
    "preprocessor_linear = ColumnTransformer(transformers=[\n",
    "    ('num', num_transformer, interval_cols),\n",
    "    ('cat', cat_transformer, cat_features)])\n",
    "\n",
    "preprocessor_forest = ColumnTransformer(transformers=[\n",
    "    ('num', num_transformer, interval_cols),\n",
    "    ('cat', cat_transformer_der, cat_features)])\n",
    "\n",
    "preprocessor_catboost = ColumnTransformer(transformers=[\n",
    "    ('num', num_transformer, interval_cols)], remainder='passthrough')"
   ]
  },
  {
   "cell_type": "markdown",
   "metadata": {},
   "source": [
    "## Обучение моделей"
   ]
  },
  {
   "cell_type": "markdown",
   "metadata": {},
   "source": [
    "### Случайный лес"
   ]
  },
  {
   "cell_type": "code",
   "execution_count": 46,
   "metadata": {},
   "outputs": [
    {
     "name": "stdout",
     "output_type": "stream",
     "text": [
      "RandomForest лучшие параметры: {'classifier__criterion': 'entropy', 'classifier__max_depth': 10, 'classifier__n_estimators': 300}\n",
      "RandomForest лучшая оценка: 0.8339354094579452\n"
     ]
    }
   ],
   "source": [
    "forest_pipe = Pipeline(steps=[\n",
    "    ('preprocessor', preprocessor_forest),\n",
    "    ('classifier', RandomForestClassifier(random_state=state))])\n",
    "\n",
    "forest_param= {\n",
    "    'classifier__n_estimators': [50, 100, 150, 300],\n",
    "    'classifier__max_depth': [10, 20, 30],\n",
    "    'classifier__criterion': ['gini', 'entropy', 'log_loss']}\n",
    "\n",
    "forest_grid = GridSearchCV(forest_pipe, forest_param, cv=5, scoring='roc_auc', n_jobs=-1)\n",
    "forest_grid.fit(features_train, target_train)\n",
    "\n",
    "print(f'RandomForest лучшие параметры: {forest_grid.best_params_}')\n",
    "print(f'RandomForest лучшая оценка: {forest_grid.best_score_}')"
   ]
  },
  {
   "cell_type": "markdown",
   "metadata": {},
   "source": [
    "### Лин. регрессия"
   ]
  },
  {
   "cell_type": "code",
   "execution_count": 47,
   "metadata": {},
   "outputs": [
    {
     "name": "stdout",
     "output_type": "stream",
     "text": [
      "LogisticRegression лучшие параметры: {'classifier__C': 0.5, 'classifier__class_weight': 'balanced', 'classifier__penalty': 'l1', 'classifier__solver': 'liblinear'}\n",
      "LogisticRegression лучшая оценка: 0.7658574902724978\n"
     ]
    }
   ],
   "source": [
    "linear = Pipeline(steps=[\n",
    "    ('preprocessor', preprocessor_linear),\n",
    "    ('classifier', LogisticRegression(random_state=state))])\n",
    "\n",
    "linear_param = {\n",
    "    'classifier__penalty': ['l1', 'l2','elasticnet'],\n",
    "    'classifier__C': [0.1, 0.5, 1.0],\n",
    "    'classifier__solver': ['liblinear'],\n",
    "    'classifier__class_weight': ['balanced']}\n",
    "\n",
    "linear_grid = GridSearchCV(linear, linear_param, cv=5, scoring='roc_auc', n_jobs=-1)\n",
    "linear_grid.fit(features_train, target_train)\n",
    "\n",
    "print(f'LogisticRegression лучшие параметры: {linear_grid.best_params_}')\n",
    "print(f'LogisticRegression лучшая оценка: {linear_grid.best_score_}')"
   ]
  },
  {
   "cell_type": "markdown",
   "metadata": {},
   "source": [
    "### Cat Boost Classifier"
   ]
  },
  {
   "cell_type": "code",
   "execution_count": 48,
   "metadata": {},
   "outputs": [
    {
     "name": "stdout",
     "output_type": "stream",
     "text": [
      "CatBoost лучшие параметры: {'depth': 6, 'iterations': 200, 'l2_leaf_reg': 1, 'learning_rate': 0.1}\n",
      "CatBoost лучшая оценка: 0.8874043642638011\n"
     ]
    }
   ],
   "source": [
    "catboost = CatBoostClassifier(random_state=state, verbose=False, cat_features=cat_features)\n",
    "\n",
    "cat_param = {\n",
    "    'iterations': [50, 100, 200],\n",
    "    'learning_rate': [0.03, 0.1],\n",
    "    'depth': [4, 6, 8],\n",
    "    'l2_leaf_reg': [1, 3, 5]}\n",
    "\n",
    "cat_grid = GridSearchCV(catboost, cat_param, cv=5, error_score='raise', scoring='roc_auc', n_jobs=-1)\n",
    "cat_grid.fit(features_train, target_train)\n",
    "\n",
    "print(f'CatBoost лучшие параметры: {cat_grid.best_params_}')\n",
    "print(f'CatBoost лучшая оценка: {cat_grid.best_score_}')"
   ]
  },
  {
   "cell_type": "markdown",
   "metadata": {},
   "source": [
    "По результатам обучения моделей наилучший результат показала модель бустинга (CatBoost Classifier с параметрами 'depth': 6, 'iterations': 200, 'l2_leaf_reg': 1, 'learning_rate': 0.1) с результатом roc-auc 0,8874, что является выше целевого показателя. <br/>Остановимся на ней и проверим ее на тестовой выборке."
   ]
  },
  {
   "cell_type": "markdown",
   "metadata": {},
   "source": [
    "## Проверка лучшей модели на тестовой выборке"
   ]
  },
  {
   "cell_type": "code",
   "execution_count": 49,
   "metadata": {},
   "outputs": [
    {
     "name": "stdout",
     "output_type": "stream",
     "text": [
      "Точность на тестовой выборке: 0.8915\n",
      "ROC-AUC лучшей модели: 0.8856\n"
     ]
    }
   ],
   "source": [
    "best_model = cat_grid.best_estimator_\n",
    "\n",
    "preds = best_model.predict(features_test)\n",
    "accuracy = accuracy_score(target_test, preds)\n",
    "\n",
    "\n",
    "probabilities_test = best_model.predict_proba(features_test)\n",
    "probabilities_one_test = probabilities_test[:, 1]\n",
    "\n",
    "auc_roc = roc_auc_score(target_test, probabilities_one_test)\n",
    "print(f'Точность на тестовой выборке: {accuracy:.4f}')\n",
    "print(f'ROC-AUC лучшей модели: {auc_roc:.4f}')"
   ]
  },
  {
   "cell_type": "markdown",
   "metadata": {},
   "source": [
    "Модель показала accuracy (точность) 89%, другими словами наша модель примерно в 9 из 10 случаев корректно предсказала, останется ли клиент в компании, или нет. Вычисленный уровень метрики соответствует запросы данному заказчиком, кроме того показатель не является слишком выосоким, что бы говорило об утечке целевого признака в данных и переобучении модели. Уровень ROC-AUC лучшей модели: 0.8856, что также выше целевого показателя\n",
    "## Интерпретация результатов\n",
    "<br />Рассматорим матрицу ошибок и наиболее важные признаки для модели, что поможет заказчику наиболее точно интерпретировать результат и в будущем построить акции по удержанию клиента, нацеленные на влияние именно на эти признаки:"
   ]
  },
  {
   "cell_type": "code",
   "execution_count": 50,
   "metadata": {},
   "outputs": [
    {
     "data": {
      "image/png": "[encoded data removed]",
      "text/plain": [
       "<Figure size 432x288 with 2 Axes>"
      ]
     },
     "metadata": {
      "needs_background": "light"
     },
     "output_type": "display_data"
    }
   ],
   "source": [
    "conf_matrix = confusion_matrix(target_test, preds)\n",
    "\n",
    "sns.heatmap(conf_matrix, annot=True, fmt='d',annot_kws={\"fontsize\":20}, cmap='YlOrRd_r')\n",
    "plt.ylabel('Истинные значения', fontsize=16)\n",
    "plt.xlabel('Предсказанные значения', fontsize=16)\n",
    "plt.title('Матрица ошибок', fontsize=25)\n",
    "plt.show()"
   ]
  },
  {
   "cell_type": "code",
   "execution_count": 51,
   "metadata": {},
   "outputs": [
    {
     "data": {
      "text/plain": [
       "0    1486\n",
       "1     275\n",
       "Name: target, dtype: int64"
      ]
     },
     "execution_count": 51,
     "metadata": {},
     "output_type": "execute_result"
    }
   ],
   "source": [
    "target_test.value_counts()"
   ]
  },
  {
   "cell_type": "markdown",
   "metadata": {},
   "source": [
    "По матрице ошибок можно сделать следующие выводы:\n",
    " модель достаточно хорошо распознает True Negative - клиентов, кто не собирается уходить от оператор связи \"Ниединогоразрыва.ком\", однако плохо справляется True Positive значениями, теми, кто скорее всего уйдет, 171 клиента из 104 она определила как клиента, который не собиарется уходить. Подобная плохая метрика True Positive скорее всего из-за того, что выборки не сбалансированы\n",
    "\n",
    "- Попытался сбалансировать с помощью кода, который нашел на stackoverflow, однока метрики roc-auc и fccuracy упали ниже пороговых и я отказался от этой затеи (код ниже в формате markdown)"
   ]
  },
  {
   "cell_type": "markdown",
   "metadata": {},
   "source": [
    "from sklearn.utils.class_weight import compute_class_weight\n",
    "import numpy as np \n",
    "\n",
    "classes = np.unique(target_train)\n",
    "weights = compute_class_weight(class_weight='balanced', classes=classes, y=target_train)\n",
    "class_weights = dict(zip(classes, weights))\n",
    "\n",
    "catboost_balanced = CatBoostClassifier(random_state=state, verbose=False, class_weights=class_weights, cat_features=cat_features)\n",
    "\n",
    "cat_param = {\n",
    "    'iterations': [50, 100, 200],\n",
    "    'learning_rate': [0.03, 0.1],\n",
    "    'depth': [4, 6, 8],\n",
    "    'l2_leaf_reg': [1, 3, 5]}\n",
    "\n",
    "cat_grid_2 = GridSearchCV(catboost_balanced, cat_param, cv=5, error_score='raise', scoring='roc_auc', n_jobs=-1)\n",
    "cat_grid_2.fit(features_train, target_train)\n",
    "\n",
    "print(f'CatBoost лучшие параметры: {cat_grid_2.best_params_}')\n",
    "print(f'CatBoost лучшая оценка: {cat_grid_2.best_score_}')\n",
    "\n",
    "#CatBoost лучшие параметры: {'depth': 6, 'iterations': 200, 'l2_leaf_reg': 1, 'learning_rate': 0.1}\n",
    "#CatBoost лучшая оценка: 0.8772144225750033\n",
    "\n",
    "best_model_2 = cat_grid_2.best_estimator_\n",
    "\n",
    "preds_2 = best_model_2.predict(features_test)\n",
    "accuracy_2 = accuracy_score(target_test, preds_2)\n",
    "\n",
    "print(f'Точность на тестовой выборке: {accuracy_2:.4f}')\n",
    "print(f'ROC-AUC лучшей модели: {cat_grid_2.best_score_:.4f}')\n",
    "\n",
    "#Точность на тестовой выборке: 0.8160\n",
    "#ROC-AUC лучшей модели: 0.8772\n",
    "\n",
    "onf_matrix = confusion_matrix(target_test, preds_2)\n",
    "\n",
    "sns.heatmap(conf_matrix, annot=True, fmt='d',annot_kws={\"fontsize\":20}, cmap='YlOrRd_r')\n",
    "plt.ylabel('Истинные значения', fontsize=16)\n",
    "plt.xlabel('Предсказанные значения', fontsize=16)\n",
    "plt.title('Матрица ошибок', fontsize=25)\n",
    "plt.show()\n",
    "\n",
    "#![Unknown.png](attachment:Unknown.png)"
   ]
  },
  {
   "cell_type": "code",
   "execution_count": 52,
   "metadata": {},
   "outputs": [],
   "source": [
    "f_importance = pd.Series(best_model.get_feature_importance(),\n",
    "                         features_train.columns)"
   ]
  },
  {
   "cell_type": "code",
   "execution_count": 53,
   "metadata": {},
   "outputs": [
    {
     "data": {
      "text/plain": [
       "duration            44.273799\n",
       "MonthlyCharges      12.229614\n",
       "Type                11.373448\n",
       "TotalCharges         9.304581\n",
       "PaymentMethod        7.144857\n",
       "MultipleLines        5.975249\n",
       "Partner              4.033435\n",
       "internet             2.772342\n",
       "PaperlessBilling     1.649838\n",
       "SeniorCitizen        1.242837\n",
       "dtype: float64"
      ]
     },
     "execution_count": 53,
     "metadata": {},
     "output_type": "execute_result"
    }
   ],
   "source": [
    "f_importance.sort_values(ascending=False)"
   ]
  },
  {
   "cell_type": "code",
   "execution_count": 54,
   "metadata": {},
   "outputs": [
    {
     "data": {
      "image/png": "[encoded data removed]",
      "text/plain": [
       "<Figure size 864x432 with 1 Axes>"
      ]
     },
     "metadata": {
      "needs_background": "light"
     },
     "output_type": "display_data"
    }
   ],
   "source": [
    "fig, ax = plt.subplots(figsize=(12,6))\n",
    "f_importance.sort_values().plot.barh(ax=ax)\n",
    "ax.set_title(\"Важность признаков\")\n",
    "ax.set_ylabel('Важность, %')\n",
    "fig.tight_layout()"
   ]
  },
  {
   "cell_type": "markdown",
   "metadata": {},
   "source": [
    "Самым значимым признаком для модели, оказались количество проведённых клиентом дней в компании. Вторым по важности фактором является то, сколько клиент тратит на услуги ежемесячно и тип договора: ежемесячный, годовой и т.д. Наименее важными признаками оказались Наличие у клиента пенсионного статуса, факт выставления счёта по электронной почте. "
   ]
  },
  {
   "cell_type": "code",
   "execution_count": 55,
   "metadata": {},
   "outputs": [
    {
     "data": {
      "text/plain": [
       "Text(0.5, 1.0, 'ROC-кривая')"
      ]
     },
     "execution_count": 55,
     "metadata": {},
     "output_type": "execute_result"
    },
    {
     "data": {
      "image/png": "[encoded data removed]",
      "text/plain": [
       "<Figure size 432x288 with 1 Axes>"
      ]
     },
     "metadata": {
      "needs_background": "light"
     },
     "output_type": "display_data"
    }
   ],
   "source": [
    "probabilities_test = best_model.predict_proba(features_test)\n",
    "probabilities_one_test = probabilities_test[:, 1]\n",
    "\n",
    "fpr, tpr, thresholds = roc_curve(target_test, probabilities_one_test)\n",
    "\n",
    "plt.figure()\n",
    "plt.plot([0, 1], [0, 1], linestyle='--')\n",
    "plt.plot(fpr, tpr)\n",
    "plt.xlim([0.0, 1.0])\n",
    "plt.ylim([0.0, 1.0])\n",
    "plt.xlabel('False Positive Rate')\n",
    "plt.ylabel('True Positive Rate')\n",
    "plt.title('ROC-кривая')"
   ]
  },
  {
   "cell_type": "markdown",
   "metadata": {},
   "source": [
    "Рок-кривая отличается от Рок-кривой случайной модели и изгибается ближе к левому верхнему углу -> качество модели лучше случайной и она является адекватной."
   ]
  },
  {
   "cell_type": "markdown",
   "metadata": {},
   "source": [
    "## Отчет\n",
    "Целью работы является  предсказать ухода клиента – отказ от продолжения пользования услугами, предоставляемыми заказчиком.\n",
    "Основное пожелание заказчика – снизить убытки, связанные с неэффективными акциями по удержанию клиентов с помощью промо-купонов, скидок и прочих пакетов стимулирования.\n",
    "\n",
    "Работа была выполнена в соответствии с ранее обозначиным планом, ни один этап не был пропущен:\n",
    "\n",
    "### **Предобработка**:\n",
    "- путем объединения 4 таблиц получили датасет на 7043 строк. \n",
    "- изменены форматы данных в столбцах TotalCharge, BeginDate, EndDate\n",
    "- заполнены пропуски в категориальных призанаках \"заглушкой\" no_intenet и no_phone (в стобцах связанных с интернетом и с телефонией соответственно)\n",
    "- cформированы новые признаки с информацией о количестве дней от начала контракта (duration), и о том, какой услугой пользуется клиент: признаки \"Internet\" и \"Phone\" с Yes/Nо в качестве данных\n",
    "\n",
    "**Вывод по этапу работы**: оператору стоить обратить внимание на форматы данных, в которых они записываются, в будущем это может помочь их собственным аналитикам в построении отчетов и анализе поступающей информации. \n",
    "\n",
    "### **EDA**:\n",
    "- после построяния корреляционной матрицы проанализировано распределение наиболее коррелирующих с целевым признаком признаков и сделаны слудющие выводы: \n",
    "- на основе матрицы корреляции перед подачей в модель были удалены мультиколлинеарные признаки (что в будущем позитивно повлияло на предсказания модели): 'OnlineSecurity', 'OnlineBackup', 'DeviceProtection', 'TechSupport', 'StreamingTV', 'StreamingMovies', 'InternetService'\n",
    "- отброшены наименее коррелирующие признаки с целевой переменной, так как: 'phone', 'gender', 'Dependents'\n",
    "\n",
    "**Вывод по этапу работы**: оператору стоит рассмотреть сбор другой, новой инофрмации о клиентах, для формаирования еще большего количества признаков для улучшения качества будущей модели. Кроме того в будущем стоит предоставить больше информации о тех клиентах, которые уже ушли от заказчика (на данный момент, подобных записй крайне мало).\n",
    "Так же ниже представлено анализ распределения наиболее коррелирующих признаков с целевым: \n",
    "\n",
    "**1)** Наличие партнера больше характерно для клиентов, которые уже не пользуются услугами оператора связи «Ниединогоразрыва.ком». Так же можно заметить, что Electronic Check самы популярный способ оплаты у обеих групп клиентов, однако остальные значения данного признака разняться: у бывших клиентов способ оплаты credit card (automatic) является таким же популярным как и bank transfer, в то время как у нынешних клиентов наиболее популярен  способ оплаты через mailed check. \n",
    "  <br />  Оператору связи стоит обратить внимание на эту закономерность и разобрать преимущества и недостатки для их клиентов различных способах оплаты (особенно пристально советую рассмотреть mailed check.\n",
    "<br />  **2)** Рассматривая распределение платы за месяц можно заметить что у нынешних клиентов плата за месяц меньше чем у тех, что престали таоквыми быть, что может быть связано как с уменьшением количества испольуемых услуг, так и с понижением цен. По графику распределения продолжительности пользования услугами оператора связи можно сделать вывод о том, что распределение стало менее нормальным, нежели было до этого,то же самое можно сказать и об LTV.\n",
    "\n",
    "\n",
    "### **Обучение моделей**:\n",
    "- на кросс-валидации было обучено 3 модели: линеная регрессия, случайный лес, catboost"
   ]
  },
  {
   "cell_type": "code",
   "execution_count": 56,
   "metadata": {},
   "outputs": [
    {
     "data": {
      "text/html": [
       "<div>\n",
       "<style scoped>\n",
       "    .dataframe tbody tr th:only-of-type {\n",
       "        vertical-align: middle;\n",
       "    }\n",
       "\n",
       "    .dataframe tbody tr th {\n",
       "        vertical-align: top;\n",
       "    }\n",
       "\n",
       "    .dataframe thead th {\n",
       "        text-align: right;\n",
       "    }\n",
       "</style>\n",
       "<table border=\"1\" class=\"dataframe\">\n",
       "  <thead>\n",
       "    <tr style=\"text-align: right;\">\n",
       "      <th></th>\n",
       "      <th>model</th>\n",
       "      <th>auc-roc</th>\n",
       "    </tr>\n",
       "  </thead>\n",
       "  <tbody>\n",
       "    <tr>\n",
       "      <th>0</th>\n",
       "      <td>RandomForest</td>\n",
       "      <td>0.8339</td>\n",
       "    </tr>\n",
       "    <tr>\n",
       "      <th>1</th>\n",
       "      <td>LogisticRegression</td>\n",
       "      <td>0.7658</td>\n",
       "    </tr>\n",
       "    <tr>\n",
       "      <th>2</th>\n",
       "      <td>CatBoostClassifier</td>\n",
       "      <td>0.8840</td>\n",
       "    </tr>\n",
       "  </tbody>\n",
       "</table>\n",
       "</div>"
      ],
      "text/plain": [
       "                model  auc-roc\n",
       "0        RandomForest   0.8339\n",
       "1  LogisticRegression   0.7658\n",
       "2  CatBoostClassifier   0.8840"
      ]
     },
     "execution_count": 56,
     "metadata": {},
     "output_type": "execute_result"
    }
   ],
   "source": [
    "df = pd.DataFrame({'model': ['RandomForest', 'LogisticRegression', 'CatBoostClassifier'], \n",
    "                   'auc-roc': [0.8339, 0.7658, 0.8840]})\n",
    "df"
   ]
  },
  {
   "cell_type": "markdown",
   "metadata": {},
   "source": [
    "- наилучший результат показала модель бустинга. При ее обучении были подобраны следующие гипперпараметры: 'iterations', 'learning_rate', 'depth' и 'l2_leaf_reg'. \n",
    "<br /> Наилучший результат roc_auc на тренировочной выборке равныый 0.8874 данная модель показала при следующих значениях гипперпараметров: 'depth': 6, 'iterations': 200, 'l2_leaf_reg': 1, 'learning_rate': 0.1.\n",
    "<br />Эта же модель при тестировании на новой для нее тестовой выборке показала результат roc_auc равный 0.8874 и accuracy= 0.8915.\n",
    "- В последствии были проанализированы матрица ошибок, рассмотрены наиболее значимые для модели признаки, построена roc-кривая.\n",
    "\n",
    "**Вывод по этапу работы**: При анализе значимостипризнаков самым важным признаком для модели, оказалось количество проведённых клиентом дней в компании. Вторым по важности фактором является то, сколько клиент тратит на услуги ежемесячно и тип договора: ежемесячный, годовой и т.д. Наименее важными признаками являются наличие у клиента пенсионного статуса, факт выставления счёта по электронной почте. \n",
    "\n"
   ]
  },
  {
   "attachments": {
    "Unknown-3.png": {
     "image/png": "[encoded data removed]"
    }
   },
   "cell_type": "markdown",
   "metadata": {},
   "source": [
    "![Unknown-3.png](attachment:Unknown-3.png)"
   ]
  },
  {
   "attachments": {
    "Unknown-1.png": {
     "image/png": "[encoded data removed]"
    }
   },
   "cell_type": "markdown",
   "metadata": {},
   "source": [
    "\n",
    "По матрице ошибок можно сделать следующие выводы:\n",
    " модель достаточно хорошо распознает True Negative - клиентов, кто не собирается уходить от оператор связи \"Ниединогоразрыва.ком\", однако плохо справляется True Positive значениями, теми, кто скорее всего уйдет, 171 клиента из 104 она определила как клиента, который не собиарется уходить. Подобная плохая метрика True Positive скорее всего из-за того, что выборки не сбалансированы\n",
    "![Unknown-1.png](attachment:Unknown-1.png)\n",
    "\n",
    "ROC-кривая: отличается от Рок-кривой случайно модели и изгибается ближе к левому верхнему углу -> модель предсказывает лучше случайная и является адекватной."
   ]
  },
  {
   "attachments": {
    "Unknown-2.png": {
     "image/png": "[encoded data removed]"
    }
   },
   "cell_type": "markdown",
   "metadata": {},
   "source": [
    "![Unknown-2.png](attachment:Unknown-2.png)"
   ]
  },
  {
   "cell_type": "markdown",
   "metadata": {},
   "source": [
    "### Общий вывод по работе\n",
    "\n",
    "Была проведена предобработка датасета на 7043 строк, удалены лишний признаки для подачи в модель. После обучения на кросс-валидации 3-х моделей наилучшей оказалась модель CatBoostClassifier, показавшая результат выше указанных заказчиком метрик.\n",
    "\n",
    "В работе я столкнулся со следующими затруднениями: \n",
    "- новая для меня обертка для предобработки и обучения модели Pipeline\n",
    "- изначально не мог добиться необходимой метрики качества. Удалось это сделать только после того как убрал наименее коррелирующие с таргетом признаки и мультиколлинеарные признаки(+ на их основе сформировла новый \"intenet\")\n",
    "- возникла путаница с заполнением пропусков, но после удалось ее исправить. "
   ]
  }
 ],
 "metadata": {
  "ExecuteTimeLog": [
   {
    "duration": 1808,
    "start_time": "2023-08-26T14:36:16.332Z"
   },
   {
    "duration": 97,
    "start_time": "2023-08-26T14:36:18.142Z"
   },
   {
    "duration": 3,
    "start_time": "2023-08-26T14:36:18.241Z"
   },
   {
    "duration": 3135,
    "start_time": "2023-08-26T14:36:18.246Z"
   },
   {
    "duration": 364,
    "start_time": "2023-08-26T14:36:21.384Z"
   },
   {
    "duration": 3,
    "start_time": "2023-08-26T14:36:21.750Z"
   },
   {
    "duration": 29,
    "start_time": "2023-08-26T14:36:21.755Z"
   },
   {
    "duration": 16,
    "start_time": "2023-08-26T14:36:21.786Z"
   },
   {
    "duration": 15,
    "start_time": "2023-08-26T14:36:21.803Z"
   },
   {
    "duration": 31,
    "start_time": "2023-08-26T14:36:21.820Z"
   },
   {
    "duration": 37,
    "start_time": "2023-08-26T14:36:21.852Z"
   },
   {
    "duration": 22,
    "start_time": "2023-08-26T14:36:21.891Z"
   },
   {
    "duration": 2,
    "start_time": "2023-08-26T14:36:21.914Z"
   },
   {
    "duration": 30,
    "start_time": "2023-08-26T14:36:21.919Z"
   },
   {
    "duration": 20,
    "start_time": "2023-08-26T14:36:21.951Z"
   },
   {
    "duration": 12,
    "start_time": "2023-08-26T14:36:21.973Z"
   },
   {
    "duration": 17,
    "start_time": "2023-08-26T14:36:21.986Z"
   },
   {
    "duration": 9,
    "start_time": "2023-08-26T14:36:22.005Z"
   },
   {
    "duration": 22,
    "start_time": "2023-08-26T14:36:22.016Z"
   },
   {
    "duration": 13,
    "start_time": "2023-08-26T14:36:22.059Z"
   },
   {
    "duration": 13,
    "start_time": "2023-08-26T14:36:22.076Z"
   },
   {
    "duration": 26,
    "start_time": "2023-08-26T14:36:22.091Z"
   },
   {
    "duration": 65,
    "start_time": "2023-08-26T14:36:22.119Z"
   },
   {
    "duration": 0,
    "start_time": "2023-08-26T14:36:22.186Z"
   },
   {
    "duration": 0,
    "start_time": "2023-08-26T14:36:22.187Z"
   },
   {
    "duration": 0,
    "start_time": "2023-08-26T14:36:22.188Z"
   },
   {
    "duration": 0,
    "start_time": "2023-08-26T14:36:22.189Z"
   },
   {
    "duration": 0,
    "start_time": "2023-08-26T14:36:22.190Z"
   },
   {
    "duration": 0,
    "start_time": "2023-08-26T14:36:22.191Z"
   },
   {
    "duration": 0,
    "start_time": "2023-08-26T14:36:22.193Z"
   },
   {
    "duration": 0,
    "start_time": "2023-08-26T14:36:22.194Z"
   },
   {
    "duration": 0,
    "start_time": "2023-08-26T14:36:22.195Z"
   },
   {
    "duration": 0,
    "start_time": "2023-08-26T14:36:22.196Z"
   },
   {
    "duration": 0,
    "start_time": "2023-08-26T14:36:22.198Z"
   },
   {
    "duration": 0,
    "start_time": "2023-08-26T14:36:22.199Z"
   },
   {
    "duration": 0,
    "start_time": "2023-08-26T14:36:22.200Z"
   },
   {
    "duration": 0,
    "start_time": "2023-08-26T14:36:22.201Z"
   },
   {
    "duration": 0,
    "start_time": "2023-08-26T14:36:22.203Z"
   },
   {
    "duration": 0,
    "start_time": "2023-08-26T14:36:22.204Z"
   },
   {
    "duration": 0,
    "start_time": "2023-08-26T14:36:22.205Z"
   },
   {
    "duration": 0,
    "start_time": "2023-08-26T14:36:22.206Z"
   },
   {
    "duration": 0,
    "start_time": "2023-08-26T14:36:22.207Z"
   },
   {
    "duration": 0,
    "start_time": "2023-08-26T14:36:22.208Z"
   },
   {
    "duration": 0,
    "start_time": "2023-08-26T14:36:22.209Z"
   },
   {
    "duration": 0,
    "start_time": "2023-08-26T14:36:22.210Z"
   },
   {
    "duration": 0,
    "start_time": "2023-08-26T14:36:22.211Z"
   },
   {
    "duration": 0,
    "start_time": "2023-08-26T14:36:22.213Z"
   },
   {
    "duration": 0,
    "start_time": "2023-08-26T14:36:22.214Z"
   },
   {
    "duration": 0,
    "start_time": "2023-08-26T14:36:22.214Z"
   },
   {
    "duration": 0,
    "start_time": "2023-08-26T14:36:22.216Z"
   },
   {
    "duration": 0,
    "start_time": "2023-08-26T14:36:22.217Z"
   },
   {
    "duration": 0,
    "start_time": "2023-08-26T14:36:22.218Z"
   },
   {
    "duration": 0,
    "start_time": "2023-08-26T14:36:22.219Z"
   },
   {
    "duration": 0,
    "start_time": "2023-08-26T14:36:22.220Z"
   },
   {
    "duration": 0,
    "start_time": "2023-08-26T14:36:22.221Z"
   },
   {
    "duration": 0,
    "start_time": "2023-08-26T14:36:22.222Z"
   },
   {
    "duration": 0,
    "start_time": "2023-08-26T14:36:22.223Z"
   },
   {
    "duration": 1606,
    "start_time": "2023-08-26T14:36:44.569Z"
   },
   {
    "duration": 103,
    "start_time": "2023-08-26T14:36:46.178Z"
   },
   {
    "duration": 4,
    "start_time": "2023-08-26T14:36:46.283Z"
   },
   {
    "duration": 2091,
    "start_time": "2023-08-26T14:36:46.290Z"
   },
   {
    "duration": 103,
    "start_time": "2023-08-26T14:36:48.383Z"
   },
   {
    "duration": 3,
    "start_time": "2023-08-26T14:36:48.488Z"
   },
   {
    "duration": 33,
    "start_time": "2023-08-26T14:36:48.493Z"
   },
   {
    "duration": 36,
    "start_time": "2023-08-26T14:36:48.528Z"
   },
   {
    "duration": 17,
    "start_time": "2023-08-26T14:36:48.571Z"
   },
   {
    "duration": 94,
    "start_time": "2023-08-26T14:36:48.591Z"
   },
   {
    "duration": 27,
    "start_time": "2023-08-26T14:36:48.687Z"
   },
   {
    "duration": 28,
    "start_time": "2023-08-26T14:36:48.716Z"
   },
   {
    "duration": 3,
    "start_time": "2023-08-26T14:36:48.745Z"
   },
   {
    "duration": 38,
    "start_time": "2023-08-26T14:36:48.759Z"
   },
   {
    "duration": 12,
    "start_time": "2023-08-26T14:36:48.799Z"
   },
   {
    "duration": 12,
    "start_time": "2023-08-26T14:36:48.813Z"
   },
   {
    "duration": 47,
    "start_time": "2023-08-26T14:36:48.826Z"
   },
   {
    "duration": 5,
    "start_time": "2023-08-26T14:36:48.877Z"
   },
   {
    "duration": 36,
    "start_time": "2023-08-26T14:36:48.884Z"
   },
   {
    "duration": 11,
    "start_time": "2023-08-26T14:36:48.922Z"
   },
   {
    "duration": 29,
    "start_time": "2023-08-26T14:36:48.935Z"
   },
   {
    "duration": 11,
    "start_time": "2023-08-26T14:36:48.966Z"
   },
   {
    "duration": 27,
    "start_time": "2023-08-26T14:36:48.985Z"
   },
   {
    "duration": 26,
    "start_time": "2023-08-26T14:36:49.014Z"
   },
   {
    "duration": 30,
    "start_time": "2023-08-26T14:36:49.042Z"
   },
   {
    "duration": 18,
    "start_time": "2023-08-26T14:36:49.075Z"
   },
   {
    "duration": 10,
    "start_time": "2023-08-26T14:36:49.096Z"
   },
   {
    "duration": 17,
    "start_time": "2023-08-26T14:36:49.110Z"
   },
   {
    "duration": 10,
    "start_time": "2023-08-26T14:36:49.130Z"
   },
   {
    "duration": 43,
    "start_time": "2023-08-26T14:36:49.141Z"
   },
   {
    "duration": 65,
    "start_time": "2023-08-26T14:36:49.186Z"
   },
   {
    "duration": 1500,
    "start_time": "2023-08-26T14:36:49.252Z"
   },
   {
    "duration": 120,
    "start_time": "2023-08-26T14:36:50.753Z"
   },
   {
    "duration": 175,
    "start_time": "2023-08-26T14:36:50.875Z"
   },
   {
    "duration": 123,
    "start_time": "2023-08-26T14:36:51.058Z"
   },
   {
    "duration": 134,
    "start_time": "2023-08-26T14:36:51.184Z"
   },
   {
    "duration": 263,
    "start_time": "2023-08-26T14:36:51.320Z"
   },
   {
    "duration": 259,
    "start_time": "2023-08-26T14:36:51.584Z"
   },
   {
    "duration": 238,
    "start_time": "2023-08-26T14:36:51.845Z"
   },
   {
    "duration": 6,
    "start_time": "2023-08-26T14:36:52.085Z"
   },
   {
    "duration": 15,
    "start_time": "2023-08-26T14:36:52.093Z"
   },
   {
    "duration": 7,
    "start_time": "2023-08-26T14:36:52.110Z"
   },
   {
    "duration": 11,
    "start_time": "2023-08-26T14:36:52.119Z"
   },
   {
    "duration": 14,
    "start_time": "2023-08-26T14:36:52.132Z"
   },
   {
    "duration": 12,
    "start_time": "2023-08-26T14:36:52.147Z"
   },
   {
    "duration": 91687,
    "start_time": "2023-08-26T14:36:52.161Z"
   },
   {
    "duration": 6246,
    "start_time": "2023-08-26T14:38:23.850Z"
   },
   {
    "duration": 300637,
    "start_time": "2023-08-26T14:38:30.097Z"
   },
   {
    "duration": 17,
    "start_time": "2023-08-26T14:43:30.736Z"
   },
   {
    "duration": 488,
    "start_time": "2023-08-26T14:43:30.755Z"
   },
   {
    "duration": 5,
    "start_time": "2023-08-26T14:43:31.245Z"
   },
   {
    "duration": 76,
    "start_time": "2023-08-26T14:43:31.263Z"
   },
   {
    "duration": 48,
    "start_time": "2023-08-26T14:43:31.342Z"
   },
   {
    "duration": 338,
    "start_time": "2023-08-26T14:43:31.392Z"
   },
   {
    "duration": 144,
    "start_time": "2023-08-26T14:43:31.732Z"
   },
   {
    "duration": 9,
    "start_time": "2023-08-26T14:43:31.878Z"
   }
  ],
  "kernelspec": {
   "display_name": "Python 3 (ipykernel)",
   "language": "python",
   "name": "python3"
  },
  "language_info": {
   "codemirror_mode": {
    "name": "ipython",
    "version": 3
   },
   "file_extension": ".py",
   "mimetype": "text/x-python",
   "name": "python",
   "nbconvert_exporter": "python",
   "pygments_lexer": "ipython3",
   "version": "3.10.9"
  },
  "toc": {
   "base_numbering": 1,
   "nav_menu": {},
   "number_sections": true,
   "sideBar": true,
   "skip_h1_title": true,
   "title_cell": "Table of Contents",
   "title_sidebar": "Contents",
   "toc_cell": false,
   "toc_position": {},
   "toc_section_display": true,
   "toc_window_display": false
  }
 },
 "nbformat": 4,
 "nbformat_minor": 2
}
